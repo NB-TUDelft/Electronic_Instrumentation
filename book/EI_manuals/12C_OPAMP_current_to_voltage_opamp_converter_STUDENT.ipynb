{
 "cells": [
  {
   "cell_type": "code",
   "execution_count": null,
   "id": "bad52170",
   "metadata": {},
   "outputs": [],
   "source": [
    "from IPython.core.display import HTML\n",
    "def set_width(width):\n",
    "    display(HTML(f\"\"\"<style>  \n",
    "            .container {{ width:{width}% !important; \n",
    "                            min-width:800px !important; margin: 0 auto}} \n",
    "            .jp-Cell {{ width:{width}% !important; \n",
    "                            min-width:800px !important; margin: 0 auto}} </style>\"\"\"))\n",
    "# Set container width to X% of the fullscreen \n",
    "set_width(50)"
   ]
  },
  {
   "cell_type": "markdown",
   "id": "08cde242",
   "metadata": {},
   "source": [
    "# 12C: current-to-voltage converter\n",
    "> <font color='blue'>Learning goals:</font>Understand why would we use current-to-voltage opamp-based converter instead of a resistor-based converter. <br>\n",
    "Structure of this experiment:\n",
    "- Predict + Stimulate (15+15+20): per person. This is homework and should be finished **before** you start your 4 hours practicum session\n",
    "- Build + Measure (75): with your partner (group of 2)\n",
    "- Evaluate (20): with a group of 4 (per table)\n"
   ]
  },
  {
   "cell_type": "markdown",
   "id": "1ea9c998",
   "metadata": {
    "lines_to_next_cell": 0
   },
   "source": [
    "## BACKGROUND\n",
    "> <font color='grey'>⏳ Estimated time: 15 min</font>\n",
    "\n",
    "### Current-to-voltage converter from an inverting opamp\n",
    "\n",
    "In a properly functioning linear circuit based on an operational amplifier (OPAMP), the 'zero conditions' are met. Refer to the diagram below, which illustrates a typical inverting amplifier configuration.\n",
    "<div>\n",
    "<img src=\"https://gitlab.tudelft.nl/mwdocter/nb2214-images/-/raw/main/ELC/opamp12C_1.png\" width=\"700px\"/>\n",
    "</div>\n",
    "\n",
    "- Applying the zero-condition principle, we understand that there's no voltage difference between the inputs of the OPAMP. Consequently, the potential at the inverting input is 0 V.\n",
    "\n",
    "- This creates a point at 0 Volts, making it appear similar to a grounded point. However, this point is unique in that the current flowing to it doesn't dissipate into the circuit's ground system. Instead, it continues through the resistor Rf. <br>\n",
    "\n",
    "- The OPAMP maintains this potential (0 V) by adjusting its output. \n",
    "\n",
    "- **Therefore, the output voltage provides an indication of the current flowing into this virtual ground point.**\n",
    "\n",
    "Consider an ideal current meter, which exhibits neither resistance nor voltage loss. In this context, our circuit appears ideal for monitoring a current flowing to ground. \n",
    "\n",
    " - By setting the value of Ri to zero (replacing it with a wire), we establish a current measurement point at a constant ground potential. \n",
    " - The voltage output at the OPAMP, influenced by the known transfer ratio determined by Rf, converts current to voltage. \n",
    " - This output can then be connected to an Analog-to-Digital Converter (ADC) for further analysis.\n",
    "\n",
    "### Photodiode\n",
    "\n",
    "This circuit is particularly effective for measuring the current produced by a photodiode. A photodiode is a unique semiconductor device that generates a photocurrent when exposed to light. This photocurrent is directly proportional to the intensity of the incident light. When used in different configurations, particularly with an op-amp, the photodiode exhibits distinct characteristics that can be regarded as a light-intensity controlled current source or a voltage source.\n",
    "\n",
    "These two modes that a photodiode can be operated in are explained below: \n",
    "    \n",
    "1. **Photoconductive Mode**: \n",
    "\n",
    "    - In this mode, the photodiode is grounded without any resistor on the input branch, enhancing its responsiveness to light. When light strikes the photodiode, it generates a photocurrent, otherwise knowns as: reverse-current (or leakage current). \n",
    "    - By coupling the photodiode via a low-ohmic impedance (just a simple wire) to the inverting (-) input of the opamp, we can convert this current into a measurable voltage output. Below, the diagram shows how to connect a photodiode as a current source:\n",
    "        <div>\n",
    "        <img src=\"https://gitlab.tudelft.nl/mwdocter/nb2214-images/-/raw/main/ELC/opamp12C_PC.png\" width=\"700px\"/>\n",
    "        </div>\n",
    "    - When we connect the photodiode to a **current to voltage converter**, the diode will be practically shorted between the inputs of the OPAMP. (Note: the feedback circuit at the OPAMP, will create the low impedance, not the inputs of the OPAMP themselves!)\n",
    "    - <i>The current-mode can be promoted further by connecting it in such a way that it is reversed biased, but in this experiment, we will not look into reverse biasing.</i>\n",
    "    - This mode emphasizes the photodiode's role as a current source, where **the output voltage is linearly related to the light intensity and the feedback resistor $V_{out} \\propto I_{light} \\cdot R_{f}$,  making it preferable for precise measurements.**\n",
    "    - This means a photodiode generates;\n",
    "        - a very low current when illuminated with with low intensity light and \n",
    "        - a very high current when illuminated with high intensity light. \n",
    "    - One could say that diode is less sensitive, however its output signal is very suitable for intensity measurements in bio-chemical experiments because of its excellent linearity. \n",
    "    - In measurement applications the photodiode will mostly be used in photoconductive mode (current-mode).\n",
    "<br>   \n",
    "\n",
    "2. **Photovoltaic Mode**: \n",
    "\n",
    "    - Alternatively, in the photovoltaic mode, the photodiode operates without any external bias (zero-bias) or also grounded, but with a high load resistor on the input branch leading to a high input impedance. This operation is similar to a solar cell. Here, it generates a voltage in response to light exposure. This mode of operation can be seen as: **voltage amplifier (inverting or non-inverting)**\n",
    "    - By again coupling the photodiode to the inverting (-) input of the opamp, this voltage can be amplified and observed as a output voltage. \n",
    "        <div>\n",
    "        <img src=\"https://gitlab.tudelft.nl/mwdocter/nb2214-images/-/raw/main/ELC/opamp12C_PV.png\" width=\"700px\"/>\n",
    "        </div>\n",
    "    - In this configuration, the photodiode acts as a voltage source (the current is converted to voltage on the resistor), and the output voltage varies with the intensity of the incident light. The voltage generated by the photodiode is again proportional to the light intensity, but the relationship may not be perfectly linear. \n",
    "    - **The curve in this case would generally start linear but could show a leveling off (decreasing sensitivity and eventually saturation) at higher light intensities, which is reminiscent of a switch-like behavior or a very sensitive but an inaccurate detector**  \n"
   ]
  },
  {
   "cell_type": "markdown",
   "id": "cdecea0e",
   "metadata": {},
   "source": [
    "## ANTICIPATE : compare resitor based current-to-voltage converter to opamp based one\n",
    "> <font color='grey'>⏳ Estimated time: 15 min</font>\n",
    "\n",
    "In BACKGROUND section, you have seen two setups of the photodiode. \n",
    "1. In one, opamp converted current to voltage, \n",
    "2. While in the other one, the resistor did it. \n",
    "\n",
    "In this section we explore whether it is better to use resistors only, or also an opamp, to read out a diode. For this we use the following circuits, with a load resistor:\n",
    "\n",
    "<img src=\"https://gitlab.tudelft.nl/mwdocter/nb2214-images/-/raw/main/ELC/A2-12C.png\" width=\"700px\"/>\n",
    "\n",
    "<img src=\"https://gitlab.tudelft.nl/mwdocter/nb2214-images/-/raw/main/ELC/A1-12C.png\" width=\"700px\"/> \n",
    "        \n",
    "    \n",
    "\n",
    "**Make some predictions:**<br> \n",
    "\n",
    "1. Do you think the current flows through the opamp?"
   ]
  },
  {
   "cell_type": "code",
   "execution_count": null,
   "id": "7d7f37ef",
   "metadata": {},
   "outputs": [],
   "source": [
    "### TO DO ='Explain whether current flows through the opamp' \n"
   ]
  },
  {
   "cell_type": "markdown",
   "id": "e7881063",
   "metadata": {},
   "source": [
    "2. What is the overall impedance in the *resistor circuit* (with Ri and Rload)? \n",
    "3. What do you think is a drawback? *Hint: think how change in load affects the output (Vout).*"
   ]
  },
  {
   "cell_type": "code",
   "execution_count": 1,
   "id": "b15095f9",
   "metadata": {},
   "outputs": [
    {
     "name": "stdout",
     "output_type": "stream",
     "text": [
      "\u001b[31mNo serial connected\n",
      "\u001b[0m  %serialconnect to connect\n",
      "  %esptool to flash the device\n",
      "  %lsmagic to list commands"
     ]
    }
   ],
   "source": [
    "### TO DO ='the impedance of the resistor circuit' \n"
   ]
  },
  {
   "cell_type": "markdown",
   "id": "63d2860a",
   "metadata": {},
   "source": [
    "You already know the Vout of the *opamp circuit*.\n",
    "\n",
    "4. Can you show how it is derived (type out the derivation)?"
   ]
  },
  {
   "cell_type": "code",
   "execution_count": null,
   "id": "7b515dd0",
   "metadata": {},
   "outputs": [],
   "source": [
    "### TO DO ='your derivation for Vout' \n"
   ]
  },
  {
   "cell_type": "markdown",
   "id": "e2db08aa",
   "metadata": {},
   "source": [
    "You might have noticed that the load does not affect the formula for the *opamp circuit* while it does for *resistor circuit*.\n",
    "\n",
    "5. Based on that (and information from the BACKGROUND), can you say which setup would you prefer to use?"
   ]
  },
  {
   "cell_type": "code",
   "execution_count": null,
   "id": "a8614fb7",
   "metadata": {},
   "outputs": [],
   "source": [
    "### TO DO ='your prefered setup plus explanatoin why' \n"
   ]
  },
  {
   "cell_type": "markdown",
   "id": "3036e1e4",
   "metadata": {},
   "source": [
    "> __<font color='blue'>Hint:</font>__\n",
    "You can learn more about opamp circuit with load attached on this website : \n",
    "https://www.allaboutcircuits.com/video-tutorials/op-amp-applications-current-to-voltage-converter/"
   ]
  },
  {
   "cell_type": "markdown",
   "id": "71be3ed3",
   "metadata": {},
   "source": [
    "## SIMULATE: \n",
    "> <font color='grey'>⏳ Estimated time: 20 min</font>\n",
    "\n",
    "<img src=\"https://gitlab.tudelft.nl/mwdocter/nb2214-images/-/raw/main/LTS/sim_setup.png\" width=\"700px\"/>\n",
    "\n",
    "Build the above circuit of the inverting amplifier with the following exercises, and verify whether your predictions were correct.\n",
    "\n",
    "**1**: The current source is an (AC) current source. Set the current to 1uA amplitude and a frequency of 1 kHz.\n",
    "\n",
    "**2**: Run the simulation. Write down the maximum output voltage and the voltage at the inverting input in one graph. "
   ]
  },
  {
   "cell_type": "code",
   "execution_count": null,
   "id": "44e7fedb-2c82-491d-8352-c78e6a7ba1e8",
   "metadata": {},
   "outputs": [],
   "source": [
    "### TO DO =' write your answer here, what is Vout for 1uA + explain' \n"
   ]
  },
  {
   "cell_type": "markdown",
   "id": "c4927b5f-8bdf-44da-88b5-c6703e483f30",
   "metadata": {},
   "source": [
    "**3**: \n",
    "1. Increase the amplitude of the AC-current to 1mA, \n",
    "2. Look at the output voltage and inverting input again.\n",
    "3. Then increase the current to an amplitude of 2mA. \n"
   ]
  },
  {
   "cell_type": "code",
   "execution_count": null,
   "id": "1466b7cd-8e1a-49c9-8a2e-b6cbbcd75f30",
   "metadata": {},
   "outputs": [],
   "source": [
    "### TO DO =' write your answer here, what is Vout for 1mA, 2mA + explain' \n"
   ]
  },
  {
   "cell_type": "markdown",
   "id": "741c1ae5-5c3b-4295-95ec-d195dc6bce29",
   "metadata": {},
   "source": [
    "**4**: Can you explain what is happening?\n",
    "> __<font color='blue'>Hint:</font>__\n",
    "What voltage do you expect from this point? Can you get such high voltage out?\n",
    "\n",
    "<br>\n",
    "Use the code below to insert your image of the 2mA simulation(screendump of LTSpice simulation)."
   ]
  },
  {
   "cell_type": "code",
   "execution_count": null,
   "id": "5e136a10-fb32-449c-bbcd-30a32122a1ac",
   "metadata": {},
   "outputs": [],
   "source": [
    "from ipywidgets import FileUpload\n",
    "from IPython.display import Image\n",
    "import os\n",
    "upload=FileUpload()\n",
    "upload"
   ]
  },
  {
   "cell_type": "code",
   "execution_count": null,
   "id": "3bdfa02a-ac5f-4c3e-a0dc-be33ff457f8c",
   "metadata": {},
   "outputs": [],
   "source": [
    "file_name=\"12C_ItoV_higherI.jpg\"\n",
    "if upload.value!={}:\n",
    "    with open(file_name,\"wb\") as f:\n",
    "        try: f.write(upload.data[-1]) # python 3.7 Kernel code, not working on Vocareum\n",
    "        except: f.write(upload.value[-1][\"content\"])  # python 3.8 Kernel code, not working on Vocareum\n",
    "\n",
    "Image(filename=file_name, width=\"50%\")"
   ]
  },
  {
   "cell_type": "markdown",
   "id": "7e5b6410",
   "metadata": {},
   "source": [
    "As you can see, the zero-conditions do not hold anymore in the last case.<br>\n",
    "\n",
    "**5**: Can you explain what is the drawback of using *opamp circuit* for current to voltage conversion in this case? \n",
    "\n",
    "**6**: Would *resistor circuit* face similar challenges?\n"
   ]
  },
  {
   "cell_type": "code",
   "execution_count": null,
   "id": "eaf7338b",
   "metadata": {},
   "outputs": [],
   "source": [
    "### TO DO ='your answer what the drawback is of the opamp circuit, and explanation whether the resistor circuit would face similar challenges' \n"
   ]
  },
  {
   "cell_type": "markdown",
   "id": "c5b5c722",
   "metadata": {},
   "source": [
    "## IMPLEMENT & INVESTIGATE 1: <br>Photodiode in the Photoconductive and Photovoltaic modes \n",
    "> <font color='grey'>⏳ Estimated time: 40 min</font>\n",
    "\n",
    "> during this exercise you will see colored blocks : blue and yellow. Blue blocks provide hints/tips while yellow blocks provide warnings\n",
    "\n",
    "### Introduction\n",
    "\n",
    "In this section, we will build an experimental setup to observe the different modes of operation of a photodiode.  We will later measure the $V_{output}$ of the OPAMP as a function of the light intensity , $I_{LED}$, shining on the photodiode, so effectively we will acquire curves that approximately capture the essence of $$V_{output}(I_{LED})$$\n",
    "\n",
    "<div class=\"alert alert-block alert-info\">    \n",
    "You may assume that the intensity of the light emitted from LED is a linear function of the voltage applied to the LED.\n",
    "    \n",
    "- Keep in mind however that you must first overcome the <i>forward voltage</i> of the LED. \n",
    "- For simplicity, we will perform a simple voltage sweep using the DAC's function generator and set it to `Triangle`wave from $V_{min} = 0\\text{V}$ to $V_{max} = 3.3\\text{V}$ with a rather low frequency of $f_{LED} = 0.095\\text{Hz}$ for only a quater of the period to mimic a positive voltage sweep.\n",
    "</div>\n",
    "\n",
    "### Part A: Build the experimental setup\n",
    "\n",
    "\n",
    "\n",
    "It turns out that this measurement requires some creativity for the design and some caution to protect your device, so this setup is quite complicated. Whenever you're facing a challenging setup, it's a good idea to break it down into smaller parts. In this case, you will need three essential components:\n",
    "\n",
    "1. Alpaca's main breadboard for the OPAMP circuit\n",
    "2. Photodiode illumination setup\n",
    "3. Alpaca's attenuating opamps for protecting Cria's ADCs from excessive input voltage during your measurement\n",
    "\n",
    "<div class=\"alert alert-block alert-info\"> \n",
    "<b>This is only an overview of the experiment. <br> \n",
    "Try not to rely on it while building your circuit</b>\n",
    "\n",
    "\n",
    "Schematic of the complete setup <br> (Note that the wire from the inverting input is still missing here)   \n",
    "    <div>\n",
    "    <img src=\"https://gitlab.tudelft.nl/mwdocter/nb2214-images/-/raw/main/PicoPI/12C_overview.png\" width=\"700px\"/>\n",
    "    </div>    \n",
    "</div>\n"
   ]
  },
  {
   "cell_type": "markdown",
   "id": "d6bca524-b192-4a40-9b63-546d0d484a29",
   "metadata": {},
   "source": [
    "#### 1. OPAMP Circuit\n",
    "Use Alpaca's main breadboard to make the usual connections for an opamp in the inverting amplifier setup\n",
    "1. Use the TL072IP opamp\n",
    "    <div>\n",
    "    <img src=\"https://gitlab.tudelft.nl/mwdocter/nb2214-images/-/raw/7b873596c01a500f66c42c89508ee5aa384b6335/voltammetry/opamp_dual_layout+component.jpg\" width=\"300px\"/>\n",
    "    </div>\n",
    "2. Use $100k\\Omega$ as the feedback resistor\n",
    "3. Remember to supply $\\pm 12\\text{V}$, but **keep it switched off whenever there's a risk of damaging the opamp**\n",
    "4. Connect the opamp's non-inverting input to GND\n",
    "5. Plug in the the wires for the inverting input and the output of the opamp into the breadboard, but keep the other ends disconnected for now. \n",
    "\n",
    "<div class=\"alert alert-block alert-info\">\n",
    "    <details>\n",
    "  <summary>Detailed schematics of the OPAMP circuit</summary>  \n",
    "    Drawing (Note that the wire from the inverting input is still missing here)\n",
    " <img src=\"https://gitlab.tudelft.nl/mwdocter/nb2214-images/-/raw/main/PicoPI/12C_opamp.png\" width=\"400px\"/>\n",
    "</details>\n",
    "</div>    "
   ]
  },
  {
   "cell_type": "markdown",
   "id": "a2b6fa59-58a2-460e-ad5d-7ef1754fe0d5",
   "metadata": {},
   "source": [
    "#### 2. Photodiode illumination setup\n",
    "Use the mini-breadboard to build a photodiode illumination setup. \n",
    "1. Place the photodiode and a white LED on the opposite ends of the mini-breadboard. <br>\n",
    "    Also, to easily remember the polarity of your diodes, \n",
    "    - plug in the long legs into the 3rd pin away from the center\n",
    "    - and the short leg into the 2nd pin on the other side counting from the center axis of the box.\n",
    "2. Add a $100\\Omega$ resistor to limit the current through the LED. \n",
    "    - Place one end in the line with the cathode side of the LED, short leg (-), \n",
    "    - and using a wire, connect its other end with GND on Alpaca. \n",
    "3. Plug in a wire on the anode side of the LED, long leg (+) and connect the other end to the DAC A output on the Alpaca.\n",
    "4. Connect the anode, long leg (+) of the photodiode to the GND on Alpaca.\n",
    "5. Add two $22\\text{k}\\Omega$ resistors combined in parallel or (almost) equivalently a single $10\\text{k}\\Omega$ resistor\n",
    "    - Place one end(s) in the line with the cathode side of the Photodiode, short leg (-),\n",
    "    - Place the other end(s) a few lines away, somewhere in the middle of the board (on the same side)\n",
    "    - **Notice that you can change the mode of operation of the photodiode by including/omitting this load resitor from your circuit. It is enough to move the free end of the wire from the inverting input of the opamp between these two mentioned lines.**\n",
    "6. Finally, adjust the position of the LED and the photodiode to face each other. \n",
    "    - We will use a piece of a drink pipe to keep the lenses in place and minimise the effects of the ambient light on the measurement.\n",
    "\n",
    "<div class=\"alert alert-block alert-info\">\n",
    "    <details>\n",
    "  <summary>Detailed schematics of the illumination box (Note that the wire to the inverting input is still missing here)</summary>\n",
    "\n",
    "1. Drawing\n",
    "    <div> <img src=\"https://gitlab.tudelft.nl/mwdocter/nb2214-images/-/raw/main/PicoPI/12C_minibox.png\" width=\"300px\"/></div>\n",
    "2. Photo \n",
    "    <div> <img src=\"https://gitlab.tudelft.nl/mwdocter/nb2214-images/-/raw/main/PicoPI/12C_Minibox-photo.jpg\" width=\"500px\"/></div>\n",
    "</details>\n",
    "</div>    "
   ]
  },
  {
   "cell_type": "markdown",
   "id": "c2b7a12c-66d8-48c5-ae5e-33e7ddb86d6d",
   "metadata": {},
   "source": [
    "#### 3. Alpaca's protection circuit\n",
    "You will measure two signals\n",
    "1. Control signal from the DAC that powers the LED\n",
    "2. Output voltage from the opamp\n",
    "\n",
    "**These signals can potentially exceed 3.3 V and damage your Cria, so it is essential to attenuate them first. Think about what attenuation you need.**\n",
    "\n",
    "<details>\n",
    "<summary><font size=4>ℹ️</font> <b>Hints</b></summary>\n",
    "\n",
    "\n",
    "<div class=\"alert alert-block alert-warning\"> \n",
    "    \n",
    "- Use the knowledge from experiment 12B to configure this protection circuit, \n",
    "- Think about what levels you would expect to see in the measurement of the control signal!\n",
    "- Cria can generate maximum 3.5V and there's a possibility of some persistent positive offet, so it's likely that you can hit the maximum 3.3V. Also, it turns out that it's necessary to apply the the maximum available voltage to the LED to saturate the photodiode, so attentuation is completely justified. \n",
    "- The signal of the opamp's output is going to be amplified. The signal will be very high and it will clip at around 12V when the light intesity is high enough to saturate the photodiode.\n",
    "- In summary, it is wise to go with $1:10$ attentuation for both input channels.\n",
    "\n",
    "</div>\n",
"</details>\n",
    "<details>\n",
    "<summary><font size=4>ℹ️</font> <b>Detailed instructions</b></summary>\n",
    "\n",
    "1. The jumper arrangement is similar to that used in 12B. Use the schematic and the picture below to configure the protection circuit. \n",
    "    - Remove the jumpers from both attenuators to set it to $1:10$. \n",
    "    - Remember to enable the attenuator by placing wires or jumpers on AMPLIFIER DIRECT TO NANO.\n",
    "2. Measure the LED signal\n",
    "    - Connect a wire to the line in the mini-breadboard that hosts: the LED's anode = long leg (+) and wire from the DAC input\n",
    "    - Connect the other end of this wire to SIGNAL + of the AMP1 IN input.\n",
    "3. Measure the Output of the opamp\n",
    "    - Connect a wire to the line in the Alpaca's breadboard that hosts the opamp's output,\n",
    "    - Connect the other end of ths wire to SIGNAL + of the AMP0 IN input.\n",
    "\n",
"</details>\n",
"\n",
    "<details>\n",
    "<summary><font size=4>ℹ️</font> <b>Fritzing of your protection circuit</b></summary>\n",
    "\n",
    "<div class=\"alert alert-block alert-info\"> \n",
    "<b>Detailed schematics of the 1:10 attenuation </b> <br>\n",
    "    <div><img src=\"https://gitlab.tudelft.nl/mwdocter/nb2214-images/-/raw/main/PicoPI/12C_protection.png\" width=\"500px\"/></div>\n",
    "\n",
    "</div>",
"</details>\n"
   ]
  },
  {
   "cell_type": "markdown",
   "id": "0386083c-5649-4b69-8046-5ebb77aad5b9",
   "metadata": {},
   "source": [
    "### Part B: Conduct the experiment\n",
    "\n",
    "#### 1. **Photoconductive Mode**:    \n",
    "    \n",
    "\n",
    "**Inquire**\n",
    "\n",
    "As a reminder of what to expect, here's a quote from the Background section:\n",
    "\n",
    ">\n",
    ">- In this mode, the photodiode is grounded without any resistor on the input branch, enhancing its responsiveness to light. When light strikes the photodiode, it generates a photocurrent. \n",
    ">- By coupling the photodiode to the inverting (-) input of the opamp, we can convert this current into a measurable voltage output. \n",
    ">- This mode emphasizes the photodiode's role as a current source, where **the output voltage is linearly related to the light intensity and the feedback resistor**: $V_{out} \\propto I_{light} \\cdot R_{f}$\n",
    ">- This means a photodiode generates;\n",
    ">        - a very low current when illuminated with with low intensity and \n",
    ">        - a very high current with high intensity. \n",
    ">    - One could say that diode is less sensitive, however its output signal is very suitable for intensity measurements in bio-chemical experiments because of its excellent linearity. \n",
    ">    - In measurement applications the photodiode will mostly be used in photoconductive mode (current-mode).\n",
    "    \n",
    "    \n",
    "**Implement**\n",
    "\n",
    "1. Connect the wire going from the inverting (-) input of the opamp directly to the cathode of the photodiode.\n",
    "    <div class=\"alert alert-block alert-info\">\n",
    "    <b>Detailed schematics for the photoconductive mode measurement <br>(Note that the wire to the inverting input is now connected)</b><br>\n",
    "    Try to <b>compare</b> your circuit to the model circuit and see if there are any significant differences <br>\n",
    "    1. Overview drawing<div>\n",
    "        <details>\n",
    "    <img src=\"https://gitlab.tudelft.nl/mwdocter/nb2214-images/-/raw/main/PicoPI/12C_pc.png\" width=\"700px\"/>\n",
    "        <details>\n",
    "    </div>\n",
    "    2. Photo of the minibox for the photoconductive mode measurement\n",
    "    <div>\n",
    "        <details>\n",
    "    <img src=\"https://gitlab.tudelft.nl/mwdocter/nb2214-images/-/raw/main/PicoPI/miniboxPC.jpg\" width=\"700px\"/>\n",
    "        <details>\n",
    "    </div>\n",
    "    </div>\n",
    "2. Turn on the $\\pm 12 \\text{V}$ power supply on your Alpaca\n",
    "3. Review the code below and run the experiment!\n",
    "\n"
   ]
  },
  {
   "cell_type": "markdown",
   "id": "66d179a9",
   "metadata": {},
   "source": [
    "**Double check if your resistor placement is correct!** <br> **Additionally double check if diode and photodiode are placed correctly in relation to cathode and anode**"
   ]
  },
  {
   "cell_type": "code",
   "execution_count": null,
   "id": "829e05aa-cc1c-4b71-8fca-092600e67fb0",
   "metadata": {},
   "outputs": [],
   "source": [
    "# Run this cell to connect your ALPACA\n",
    "%serialconnect to --port=\"COM4\"\n",
    "#ADD COM PORT ABOVE, e.g. --port=\"COM3\"\n",
    "\n",
    "import time\n",
    "import numpy as np\n",
    "import matplotlib.pyplot as plt\n",
    "from machine import ADC\n",
    "from functiongenerator import FuncGen, Triangle"
   ]
  },
  {
   "cell_type": "code",
   "execution_count": null,
   "id": "6c4213e1-b94e-4d4d-946e-bdd15a283764",
   "metadata": {},
   "outputs": [],
   "source": [
    "# Do you know what these variables define?\n",
    "NUM_SAMPLES = 1000\n",
    "DELAY_MS = 5 # Sampling delay in ms\n",
    "\n",
    "# How would you figure out which ADC(??) ports to use?\n",
    "adc0 = ADC(26)\n",
    "adc1 = ADC(27)\n",
    "\n",
    "# Remember to initialize the arrays to store the acquired data\n",
    "LED_control_signal = np.zeros(NUM_SAMPLES) #arrays\n",
    "Photoconductive_output_signal = np.zeros(NUM_SAMPLES)\n",
    "\n",
    "# Define the procedure for the function generator and the acquisition\n",
    "with FuncGen(Triangle(Vmax=3.3, Vmin=0, freq=0.095)):\n",
    "    for ii in range(NUM_SAMPLES):\n",
    "        LED_control_signal[ii] = adc1.read_u16()\n",
    "        Photoconductive_output_signal[ii] = adc0.read_u16()\n",
    "        time.sleep_ms(DELAY_MS)\n",
    "\n",
    "# Convert integer input/output signal to voltage.\n",
    "LED_control_signal = LED_control_signal / 65535 * 3.3 \n",
    "Photoconductive_output_signal = Photoconductive_output_signal / 65535 * 3.3\n",
    "print('\\n Maximum LED_control_signal: ', np.max(LED_control_signal), '\\n', 'Maximum Photoconductive_output_signal: ', np.max(Photoconductive_output_signal))\n",
    "print('Aquisition done!')"
   ]
  },
  {
   "cell_type": "code",
   "execution_count": null,
   "id": "fddb7f5f-30c6-4045-9d4f-4654cf3c004b",
   "metadata": {},
   "outputs": [],
   "source": [
    "# Plot\n",
    "plt.plot(LED_control_signal, label='LED Voltage Sweep') # you can comment this out if you have big trouble plotting both\n",
    "plt.plot(Photoconductive_output_signal, label='Output signal in the photoconductive mode') # this is important\n",
    "plt.ylabel('Signal [V]')\n",
    "plt.xlabel('Sample index')\n",
    "plt.legend()"
   ]
  },
  {
   "cell_type": "markdown",
   "id": "471b457e-01db-493c-b85c-714e1261bffb",
   "metadata": {},
   "source": [
    "#### 2. **Photovoltaic Mode**: \n",
    "\n",
    "**Inquire**\n",
    "\n",
    "Again, as a reminder of what to expect, here's a quote from the relevant Background section:\n",
    "\n",
    ">    - Alternatively, in the photovoltaic mode, the photodiode operates without any external bias (zero-bias) or also grounded, but with a load resistor on the input branch. This operation is similar to a solar cell. Here, it generates a voltage in response to light exposure. \n",
    ">    - By again coupling the photodiode to the inverting (-) input of the opamp, this voltage can be amplified and observed as a output voltage. \n",
    ">    - In this configuration, the photodiode acts as a voltage source(...), and the output voltage varies with the intensity of the incident light. The voltage generated by the photodiode is again proportional to the light intensity, but the relationship may not be perfectly linear.\n",
    ">    - **The curve in this case would generally start linear but could show a leveling off (decreasing sensitivity and eventually saturation) at higher light intensities, which is reminiscent of a switch-like behavior or a very sensitive but an inaccurate detector**\n",
    "\n",
    "**Implement**\n",
    "\n",
    "1. Move the wire going from the inverting (-) input of the opamp from the position directly at the cathode of the photodiode to include the load resistor.\n",
    "    <div class=\"alert alert-block alert-info\">\n",
    "    <b>Detailed schematics for the photovoltaic mode measurement <br>(Note that the wire to the inverting input is now connected)</b><br>\n",
    "    1. Overview drawing<div>\n",
    "        <details>\n",
    "    <img src=\"https://gitlab.tudelft.nl/mwdocter/nb2214-images/-/raw/main/PicoPI/12C_pv.png\" width=\"700px\"/>\n",
    "        <details>\n",
    "    </div>\n",
    "    2. Photo of the minibox for the photoconductive mode measurement\n",
    "    <div>\n",
    "        <details>\n",
    "    <img src=\"https://gitlab.tudelft.nl/mwdocter/nb2214-images/-/raw/main/PicoPI/miniboxPV.jpg\" width=\"700px\"/>\n",
    "        <details>\n",
    "    </div>\n",
    "    </div>\n",
    "2. Do you expect any essential changes in the code? Review the code below and run the experiment!"
   ]
  },
  {
   "cell_type": "code",
   "execution_count": null,
   "id": "1df19831-035e-407e-824a-8a8e37b9d446",
   "metadata": {},
   "outputs": [],
   "source": [
    "# Do you know what these variables define?\n",
    "NUM_SAMPLES = 1000\n",
    "DELAY_MS = 5 # Sampling delay in ms\n",
    "\n",
    "# How would you figure out which ADC(??) ports to use?\n",
    "adc0 = ADC(26)\n",
    "adc1 = ADC(27)\n",
    "\n",
    "# Remember to initialize the arrays to store the acquired data\n",
    "LED_control_signal = np.zeros(NUM_SAMPLES) #arrays\n",
    "Photovoltaic_output_signal = np.zeros(NUM_SAMPLES)\n",
    "\n",
    "# Define the procedure for the function generator and the acquisition\n",
    "with FuncGen(Triangle(Vmax=3.3, Vmin=0, freq=0.095)):\n",
    "    #time.sleep_ms(100)\n",
    "    for ii in range(NUM_SAMPLES):\n",
    "        LED_control_signal[ii] = adc1.read_u16()\n",
    "        Photovoltaic_output_signal[ii] = adc0.read_u16()\n",
    "        time.sleep_ms(DELAY_MS)\n",
    "\n",
    "# Convert integer input/output signal to voltage.\n",
    "LED_control_signal = LED_control_signal / 65535 * 3.3\n",
    "Photovoltaic_output_signal = Photovoltaic_output_signal / 65535 * 3.3\n",
    "print('\\n Maximum LED_control_signal: ', np.max(LED_control_signal), '\\n', 'Maximum Photovoltaic_output_signal: ', np.max(Photovoltaic_output_signal))\n",
    "print('Aquisition done!')"
   ]
  },
  {
   "cell_type": "markdown",
   "id": "bbbc48af-d28e-4586-ad0e-11ee1bf20656",
   "metadata": {},
   "source": [
    "<div class=\"alert alert-block alert-info\"> \n",
    "In the plot below, you should be able see:\n",
    "    \n",
    "1. again, the same linearly growing signal driving the LED\n",
    "2. a <b>non-linear response of the photodiode</b> beyond a certain threshold of the LED intensity.\n",
    "\n",
    "Think how this response translates to the photodiode acting as a voltage source\n",
    "    \n",
    "**Hint**: If the following plot shows text output or is missing data, rerun (several times) the plotting cell with CTRL+ENTER.    \n",
    "</div>"
   ]
  },
  {
   "cell_type": "code",
   "execution_count": null,
   "id": "686822af-9e72-41ae-8cab-8d5c0652ad4f",
   "metadata": {},
   "outputs": [],
   "source": [
    "# Plot\n",
    "plt.plot(LED_control_signal, label='LED Voltage Sweep') # you can comment this out if you have big trouble plotting both\n",
    "plt.plot(Photovoltaic_output_signal, label='Output signal in the photovoltaic mode') # this is important\n",
    "plt.ylabel('Signal [V]')\n",
    "plt.xlabel('Sample index')\n",
    "plt.legend()"
   ]
  },
  {
   "cell_type": "markdown",
   "id": "96cd7cf0-3cce-46f4-816d-234d8d833d84",
   "metadata": {},
   "source": [
    "Finally, display both results in one plot and try to think about how these curves correspond to the IV response curve of a photodiode, like the one shown below.\n",
    "\n",
    "<div>\n",
    "<img src=\"https://gitlab.tudelft.nl/mwdocter/nb2214-images/-/raw/main/ELC/IVcurve.png\" width=\"700px\"/>\n",
    "</div>\n",
    "\n",
    "If the following plot **shows text output or is missing data**, **rerun (several times) the plotting cell** with CTRL+ENTER till you see both lines plotted."
   ]
  },
  {
   "cell_type": "code",
   "execution_count": null,
   "id": "fcf092f0-f70c-4e5e-a760-4e0b1786a20c",
   "metadata": {},
   "outputs": [],
   "source": [
    "plt.plot(Photoconductive_output_signal, label='Output signal in the photoconductive mode')\n",
    "plt.plot(Photovoltaic_output_signal, label='Output signal in the photovoltaic mode')\n",
    "plt.ylabel('Signal [V]')\n",
    "plt.xlabel('Sample index')\n",
    "plt.legend()"
   ]
  },
  {
   "cell_type": "markdown",
   "id": "3ca5e81c",
   "metadata": {},
   "source": [
    "## COMPARE & CONCLUDE\n",
    "> <font color='grey'>⏳ Estimated time: 15 min</font>\n",
    "\n",
    "* Wait till all (4) group members finish their observation\n",
    "* Compare your results with your other group members. \n",
    "* If your results agree, and are in line with all predictions, then talk to a TA and get checked off\n",
    "* Otherwise, so if your results do not agree, or your results are not in line with your predictions, then first discuss amongst your group before getting a TA. \n",
    "\n",
    "\n",
    "**Discuss with TA:**\n",
    "    \n",
    "1. List the pros and cons of resistor and opamp based current-to-voltage converters.\n",
    "2. Reflect on how a photodiode and an opamp can be used to build:\n",
    "    1. light-controlled current source\n",
    "    2. light-controlled voltage source\n",
    "3. Explain why you see a response from the photodiode only at the later stage of the measurement.\n",
    "4. Reflect on which two different modes of photodiode's operation can be used as \n",
    "    1. a sensor\n",
    "    2. a switch    \n",
    "5. exit card: 1. Write a brief abstract on what you learned (conclusion, useful graph), 2. Which troubleshooting skills do you want to remember for next sessions, 3. Which code do you copy for use in next sessions,\n",
    "6. How do think this notebook could be improved"
   ]
  },
  {
   "cell_type": "code",
   "execution_count": null,
   "id": "0d3696e1",
   "metadata": {},
   "outputs": [],
   "source": [
    "#12C opamp current-to-voltage\n",
    "\n",
    "### TO DO=\"1. List the pros and cons of resistor and opamp based current-to-voltage converters.\"\n",
    "\n",
    "### TO DO=\"2. Reflect on how a photodiode and an opamp can be used to build current/voltage source.\"\n",
    "\n",
    "### TO DO=\"3. Explain why you see the response from the photodiode only at the later stage of the measurement.\n",
    "\n",
    "### TO DO=\"4. Reflect on which two different modes of photodiode's operation can be used as sensor/switch.\"\n",
    "\n",
    "### TO DO=\"5a. abstract\"\n",
    "\n",
    "### TO DO=\"5b. troubleshooting\"\n",
    "\n",
    "### TO DO=\"5c. code\"\n",
    "\n",
    "### TO DO=\"6. what changes would you suggest?\"\n",
    "\n"
   ]
  },
  {
   "cell_type": "code",
   "execution_count": null,
   "id": "4ee29d1c-9a63-4f47-98a5-d238e6b03a13",
   "metadata": {},
   "outputs": [],
   "source": []
  }
 ],
 "metadata": {
  "jupytext": {
   "formats": "ipynb,md"
  },
  "kernelspec": {
   "display_name": "Alpaca Kernel",
   "language": "python",
   "name": "alpaca"
  },
  "language_info": {
   "codemirror_mode": {
    "name": "ipython",
    "version": 3
   },
   "file_extension": ".py",
   "mimetype": "text/x-python",
   "name": "python",
   "nbconvert_exporter": "python",
   "pygments_lexer": "ipython3",
   "version": "3.10.14"
  }
 },
 "nbformat": 4,
 "nbformat_minor": 5
}
