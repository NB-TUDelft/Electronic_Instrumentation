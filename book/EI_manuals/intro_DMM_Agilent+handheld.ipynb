{
 "cells": [
  {
   "cell_type": "markdown",
   "metadata": {},
   "source": [
    "<div class=\"alert alert-block alert-info\">\n",
    "\n",
    "**Accessibility of the notebook:**\n",
    "- You can adjust the width of the text with the function provided below. Copy it into a new code cell and execute it using the `ipykernel`.\n",
    "    ```python\n",
    "    from IPython.core.display import HTML\n",
    "    def set_width(width):\n",
    "        display(HTML(f\"\"\"<style>  \n",
    "                .container {{ width:{width}% !important; \n",
    "                                min-width:800px !important; margin: 0 auto}} \n",
    "                .jp-Cell {{ width:{width}% !important; \n",
    "                                min-width:800px !important; margin: 0 auto}} </style>\"\"\"))\n",
    "    # Set container width to X% of the fullscreen \n",
    "    set_width(50)\n",
    "    ```\n",
    "- You can toggle the auto-numbering of the sections in the outline toolbox (sidebar or topbar).\n",
    "- You can toggle the code line numbers in the dropdown menu of the \"view\" button in the topbar. \n",
    "- You can collapse/expand a cell by clicking the blue bar on the left side of the cell.\n",
    "\n",
    "</div>  "
   ]
  },
  {
   "cell_type": "code",
   "execution_count": 1,
   "metadata": {},
   "outputs": [
    {
     "data": {
      "text/html": [
       "<style>  \n",
       "            .container { width:50% !important; \n",
       "                            min-width:800px !important; margin: 0 auto} \n",
       "            .jp-Cell { width:50% !important; \n",
       "                            min-width:800px !important; margin: 0 auto} </style>"
      ],
      "text/plain": [
       "<IPython.core.display.HTML object>"
      ]
     },
     "metadata": {},
     "output_type": "display_data"
    }
   ],
   "source": [
    "from IPython.core.display import HTML\n",
    "def set_width(width):\n",
    "    display(HTML(f\"\"\"<style>  \n",
    "            .container {{ width:{width}% !important; \n",
    "                            min-width:800px !important; margin: 0 auto}} \n",
    "            .jp-Cell {{ width:{width}% !important; \n",
    "                            min-width:800px !important; margin: 0 auto}} </style>\"\"\"))\n",
    "# Set container width to X% of the fullscreen \n",
    "set_width(50)"
   ]
  },
  {
   "cell_type": "markdown",
   "metadata": {},
   "source": [
    "# Intro Digital multimeter \n",
    "This intro supports labmanual 1A\n",
    "\n",
    "There are two digital multimeters: a handheld one, and one in the caddie.\n",
    "\n",
    "- Leave the big multimeter (not carryable) in the caddy, there are cables at the back which should not be taken out. \n",
    "- the handheld multimeter can be taken out of the caddy.\n",
    "\n",
    "Spend some time getting familiar with these devices. Ask the TAs if you have doubts.\n",
    "\n",
    "<img src=\"https://gitlab.tudelft.nl/mwdocter/nb2214-images/-/raw/main/ELC/ELC1a%20DMM.jpg\" width=50%></img>\n",
    "\n",
    "Watch the following movie clip to get introduced to the multimeter\n",
    "\n"
   ]
  },
  {
   "cell_type": "code",
   "execution_count": 9,
   "metadata": {},
   "outputs": [
    {
     "data": {
      "image/jpeg": "[encoded data removed]",
      "text/html": [
       "\n",
       "        <iframe\n",
       "            width=\"600\"\n",
       "            height=\"450\"\n",
       "            src=\"https://www.youtube.com/embed/ykrBCixQ3Lk\"\n",
       "            frameborder=\"0\"\n",
       "            allowfullscreen\n",
       "            \n",
       "        ></iframe>\n",
       "        "
      ],
      "text/plain": [
       "<IPython.lib.display.YouTubeVideo at 0x1e30aa77bb0>"
      ]
     },
     "execution_count": 9,
     "metadata": {},
     "output_type": "execute_result"
    }
   ],
   "source": [
    "## SCR-DMM\n",
    "\n",
    "from IPython.lib.display import YouTubeVideo\n",
    "YouTubeVideo('ykrBCixQ3Lk', width = 600, height = 450)"
   ]
  },
  {
   "cell_type": "markdown",
   "metadata": {},
   "source": [
    "## Overview of measurements:\n",
    "### Voltage measurement\n",
    "- Have the output switched off\n",
    "- Use the red **voltage** connector, and the black COM connector.\n",
    "- Select either AC voltage, or DC voltage.\n",
    "- when set correctly: switch on the output\n",
    "\n",
    "AC=alternating, DC = constant value\n",
    "\n",
    "### Current measurement\n",
    "- Have the source switched off\n",
    "- Use the red **current** connector, and the black COM connector.\n",
    "- Select either AC current, or DC current.\n",
    "\n",
    "AC=alternating, DC = constant value\n",
    "\n",
    "### Resistance measurement\n",
    "- Switch all sources off\n",
    "- Use the red voltage & resistance connector, and the black COM connector.\n",
    "- measure the resistance\n",
    "\n"
   ]
  },
  {
   "cell_type": "markdown",
   "metadata": {},
   "source": [
    "## Digits& Accuracy\n",
    "\n",
    "The formula for the accuracy of the 5½ digit DMM is specified as ±(0.025% + 0.005%) = ±(reading%+ range%) by the manufacturer.\n",
    " \n",
    "### What do 5½ digit mean:\n",
    "Note: the 1.2V is the reading, which is smaller than the 2 or 20 V range. <br>\n",
    "For a 2V range measured with a 3½ digit DMM, the maximum is 1.999 V, the minimum is 0.001 V. <br>\n",
    "For a 20 V range measured with a 3½ digit DMM, the maximum is 19.99 V, the minimum is 0.01 V. <br>\n",
    "For each range with the same number of digits, you have a different number of digits behind the decimal point. <br>\n",
    "\n",
    "The number before the decimal point can be either 0 or 1 (hence ½ digit). \n",
    "\n",
    "### Accuracy\n",
    "For 1.2V, the accuracy is 0.4 mV. (± 0.025% * 1.2V + 0.005% * 2V). \n",
    "\n",
    "What would be the accuracy of a 1.2 V reading with a 20 V range? Is that better or worse than reading it on a 2 V range?\n",
    "\n"
   ]
  },
  {
   "cell_type": "markdown",
   "metadata": {},
   "source": [
    "## caddies' DMM as current meter\n",
    "\n",
    "<img src=\"https://gitlab.tudelft.nl/mwdocter/nb2214-images/-/raw/main/ELC/ELC%20front_Agilent_DMM.JPG\" width=50%></img>\n",
    "\n",
    "<img src=\"https://gitlab.tudelft.nl/mwdocter/nb2214-images/-/raw/main/ELC/ELC%20multimeter%20test%20pin%204XX09_AS01.jpg\" width=50%></img>\n",
    "\n",
    "- Find a set of wires with test pins at the end\n",
    "- Connect the red test pin to the testboard, the other end to the current input on the DMM.\n",
    "> Note: the current is measured in series with a circuit, never in parallel!!\n",
    "- Connect the black test pin to the testboard, and the other to the COM port of the DMM\n",
    "\n",
    "><font color='red'>__WARNING!!__</font>\n",
    ">* __Measuring current should be done carefully since the DMM is part of the circuit.__\n",
    ">* __A common mistake is to leave the cables or test leads in the current input terminals and measure voltage.__ \n",
    ">* __Remember that the current terminals are connected to a very low resistance (Shunt resistance).__\n",
    ">* __When connected in parallel to your circuit, high current will flow through the DMM.__\n",
    ">* __This can damage both the multimeter and the circuit.__\n",
    ">* __If you are not sure about how to connect your multimeter, please ask one of the TAs.__\n",
    "\n",
    "- Switch on the DMM, set the measurement to Idc (DC current)\n",
    "- If the DMM is not responsive: release it to Local (shift button).\n",
    "> Note: COM stands for common, the return side of all components. For convenience, use black wires to connect to the COM. \n",
    "\n",
    "\n",
    "\n",
    "\n"
   ]
  },
  {
   "cell_type": "markdown",
   "metadata": {},
   "source": [
    "### Handheld DMM as voltage meter. \n",
    "<img src=\"https://gitlab.tudelft.nl/mwdocter/nb2214-images/-/raw/main/ELC/ELC%20multimeter%20handheld%20example.jpg\" width=20%></img>\n",
    "\n",
    "- Ude similar connectors as for the bigger DMM.\n",
    "- Connect the black wire to the COM pin of the handheld DMM\n",
    "- Connect the red wire to the red Voltage input pin of the handheld DMM\n",
    "- Turn the knob of the handheld to Vdc (or V with a horizontal flat line)\n",
    "\n"
   ]
  },
  {
   "cell_type": "markdown",
   "metadata": {},
   "source": [
    "## Measure current and voltage at the same time \n",
    "\n",
    "Having two meters you can use them at the same time, one to measure current, one to measure voltage. \n",
    "\n",
    "The large DMM has more digits, and therefore accuracy than the handheld one. This might be of influence when choosing which meter to use for the current (or voltage). \n"
   ]
  },
  {
   "cell_type": "code",
   "execution_count": null,
   "metadata": {},
   "outputs": [],
   "source": []
  }
 ],
 "metadata": {
  "celltoolbar": "Create Assignment",
  "kernelspec": {
   "display_name": "Python 3",
   "language": "python",
   "name": "python3"
  },
  "language_info": {
   "codemirror_mode": {
    "name": "ipython",
    "version": 3
   },
   "file_extension": ".py",
   "mimetype": "text/x-python",
   "name": "python",
   "nbconvert_exporter": "python",
   "pygments_lexer": "ipython3",
   "version": "3.8.8"
  },
  "latex_envs": {
   "LaTeX_envs_menu_present": true,
   "autoclose": false,
   "autocomplete": true,
   "bibliofile": "biblio.bib",
   "cite_by": "apalike",
   "current_citInitial": 1,
   "eqLabelWithNumbers": true,
   "eqNumInitial": 1,
   "hotkeys": {
    "equation": "Ctrl-E",
    "itemize": "Ctrl-I"
   },
   "labels_anchors": false,
   "latex_user_defs": false,
   "report_style_numbering": false,
   "user_envs_cfg": false
  },
  "toc": {
   "base_numbering": 1,
   "nav_menu": {},
   "number_sections": true,
   "sideBar": true,
   "skip_h1_title": false,
   "title_cell": "Table of Contents",
   "title_sidebar": "Contents",
   "toc_cell": false,
   "toc_position": {},
   "toc_section_display": true,
   "toc_window_display": false
  }
 },
 "nbformat": 4,
 "nbformat_minor": 4
}
