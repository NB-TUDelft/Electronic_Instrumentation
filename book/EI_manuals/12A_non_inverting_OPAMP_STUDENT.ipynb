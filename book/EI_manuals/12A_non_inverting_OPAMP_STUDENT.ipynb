{
 "cells": [
  {
   "cell_type": "code",
   "execution_count": null,
   "id": "e886e598",
   "metadata": {},
   "outputs": [],
   "source": [
    "from IPython.core.display import HTML\n",
    "def set_width(width):\n",
    "    display(HTML(f\"\"\"<style>  \n",
    "            .container {{ width:{width}% !important; \n",
    "                            min-width:800px !important; margin: 0 auto}} \n",
    "            .jp-Cell {{ width:{width}% !important; \n",
    "                            min-width:800px !important; margin: 0 auto}} </style>\"\"\"))\n",
    "# Set container width to X% of the fullscreen \n",
    "set_width(50)"
   ]
  },
  {
   "cell_type": "markdown",
   "id": "f29bd4c2",
   "metadata": {},
   "source": [
 "# 12A: Non inverting amplifier\n",
    "> <font color='blue'>Learning goal:</font> understand the workings and properties of a non inverting opamp. Use simulation and build a circuit on Alpaca involving the amplifier.",
"\n",    
"Experiments of this week:\n",
    "- experiment 12A: Simulate and build a non-inverting opamp\n",
    "- experiment 12B: Simulate and build an inverting opamp\n",
    "- experiment 12C: Build a current to voltage converter and understand how it works\n",
    "\n",
    "There are two basic OPAMP circuits, the inverting and the non-inverting amplifier, most other OPAMP based circuits are derived from these two circuits. These circuits work for both AC and DC signals. During the experiments we will see what the difference is between AC-coupling and DC-coupling of signals, as well.\n",
    "OPAMPs are very often used in conjunction with sensors. Example of a sensor, often used in biochemical systems, is the photodiode. The photodiode is sensitive to light. It can be read out in two different modes; voltage mode and current mode. In voltage mode it will act as a “solar cell”, this gives with low light intensity already a voltage. However, the voltage mode is not linear. When used as an intensity sensor, with high linearity, the current mode is more suited. In order to convert the photocurrent to a voltage, a circuit with an OPAMP is used, the current to voltage converter.\n",
    "\n",
    "\n",
    "Structure of an experiment:\n",
    "- Background+Anticipate+ Simulate (15+15+15):  per person\n",
    "- Implement + Investigate(60):  with your partner (group of 2)\n",
    "- Compare + Conclude(15):  with a group of 4 (per table)"
   ]
  },
  {
   "cell_type": "markdown",
   "id": "c53d42d3",
   "metadata": {},
   "source": [
    "## BACKGROUND\n",
    "> <font color='grey'>⏳ Estimated time: 15 min</font>\n",
    "\n",
    "The Operational Amplifier is actually a circuit on its own. It is an **integrated** circuit, which means that is composed of dozens of transistors, resistors, diodes and capacitors, these are build on a silicon chip. An OPAMP is an **active component**, which means that it needs energy in order to function. This is contrary to capacitors, resistors and inductors, these components do not need an extra energy-source in order to work properly. \n",
    "\n",
    "The energy needed for the OPAMP to work is supplied by a power supply. On the ALPACA this means the OPAMP needs the +12V and the -12V. Without these power supplies connected, the OPAMP can not be used. As this is such a logical thing, the power supply lines are very often not drawn in the circuit, advantage of this omission is less clutter in the schematic diagram. However, **never forget to connect the power supply pins when building a circuit**!\n",
    "\n",
    "A powered OPAMP will behave as an amplifier with a coarsely defined, but enormous high gain. This high gain makes the component on its own rather useless, but with the proper extra circuitry around it, it will make a very useful circuit e.g. an amplifier. The extra components used are passive components, very often a few resistors. By feeding a part of the output signal back to the input, in counter phase, we can “tame” the OPAMP. Nice thing is that in this scenario, the resistors determine the total behavior of the circuit.\n",
    "One of the basic-forms of these circuits is a non-inverting amplifier, which is shown below <br>\n",
    "\n",
    "\n",
    "<div>\n",
    "<img src=\"https://gitlab.tudelft.nl/mwdocter/nb2214-images/-/raw/main/PicoPI/12A%20general%20non%20inverting%20amplifier%20circuit.png\" width=\"500\"/>\n",
    "<\n",
    "\n",
    "By changing the value of the resistors we can determine the amplification factor of the circuit, the gain is the ratio “Uout/Uin”.\n",
    "When the circuit works properly, the so called “zero-conditions” apply. In short:\n",
    "- there is no voltage difference between the input marked “+” (non-inverting input) and the one marked “-” (inverting input)\n",
    "- there is no current flowing into the input-pins of the OP\n",
    "\n",
    "\n",
    "A third zero condition, often not mentioned, is that the output behaves as a voltage source with “zero ohm” output impedance.\n",
    "\n",
    "An OPAMP is designed to be as ideal as possible. Therefore special (internal) components are selected at the input of the OPAMP which require basically no current on their inputs to operate. As there is next to none current flowing the **input-impedance or resistance is very high**. A value in the Giga-Ohm range is not an exception.\n",
    "\n",
    "The output of the OPAMP is constructed such that it behaves as a voltage source. This means it has a very low internal resistance. Just a side-note: the output is current limited till ~25mA, but as long as the current stays below this threshold the **output can be regarded as a voltage source with zero Ohm internal resistance**.\n",
    "\n",
    "Based on the above characteristics, an OPAMP is used very often as a **“buffer”**. A buffer amplifies the signal with a factor of one (0 dB). So the signal coming out has the same amplitude as the signal coming in. However, the signal is fed into an input with very high resistance, so it is not loading the source (e.g. a sensor). The output behaves as a voltage source, so it is capable of feeding the signal into a load (e.g. a long coaxial cable).\n",
    "\n",
    "A buffer can be constructed very easily by connecting the output of the OPAMP to the inverting input directly. The input signal is connected to the non-inverting input.\n",
    "\n",
    "As the OPAMP’s (inverting) input has a high resistance, the feedback from the output to the inverting input can be through a resistor as well.\n",
    "\n",
    "This topology is closely related to the **non-inverting amplifier**. The non-inverting amplifier has a high input resistance, low output resistance, but, in contrast with the buffer, it will increase the gain of the input-signal. In order to get amplification of the signal we apply a feedback network, which is connected between the output and the inverting input (resistors Ra and Rb as seen in the schematic below).\n",
    "\n",
    "The OPAMP can be seen as a regulator, keeping both inputs at the same level. This level is dictated (here) by the voltage on the non-inverting input. The OPAMP is going to regulate its output such, that the inverting input will be at the same level as the non-inverting input. As the output signal is attenuated by Ra and Rb, the output should increase more in order to get both inputs at equal potential. Hence this circuit will act as an amplifier. The output signal is (1 + (Ra / Rb)) larger then the input signal."
   ]
  },
  {
   "cell_type": "markdown",
   "id": "fb6da81e",
   "metadata": {},
   "source": [
    "## ANTICIPATE: non inverting opamp behaviour\n",
    "> <font color='grey'>⏳ Estimated time: 15 min</font>\n",
    "\n",
    "Look at the non inverting amplifier pictured below\n",
    "<div>\n",
    "<img src=\"https://gitlab.tudelft.nl/mwdocter/nb2214-images/-/raw/main/PicoPI/picopi7_2_non_invert_circ.jpg\" width=\"500\"/>\n",
    "</div>\n",
    "\n",
    "* What is a general gain formula for this type of circuit?\n",
    "* Calculate the gain in this case."
   ]
  },
  {
   "cell_type": "code",
   "execution_count": null,
   "id": "f98fc374",
   "metadata": {},
   "outputs": [],
   "source": [
    "### TO DO=\" write down general formula for gain and the gain of this circuit \"\n"
   ]
  },
  {
   "cell_type": "markdown",
   "id": "08e195f5",
   "metadata": {},
   "source": [
    "What would be the gain if you removed Rb (and replaced it witn nothing)? Do you think the circuit will still work? Think what removing a resistor will do to perceived resistance by the circuit. Calculate the gain of the circuit"
   ]
  },
  {
   "cell_type": "code",
   "execution_count": null,
   "id": "11f131f2",
   "metadata": {},
   "outputs": [],
   "source": [
    "### TO DO=\"# write your answer here: prediction for removing Rb\"\n"
   ]
  },
  {
   "cell_type": "markdown",
   "id": "cd6ee166",
   "metadata": {},
   "source": [
    "What is the gain when you switch the resistors around?"
   ]
  },
  {
   "cell_type": "code",
   "execution_count": null,
   "id": "b6d3cf36",
   "metadata": {},
   "outputs": [],
   "source": [
    "### TO DO=\" gain switched resistors\"\n"
   ]
  },
  {
   "cell_type": "markdown",
   "id": "c6f2c9b6",
   "metadata": {},
   "source": [
    "## SIMULATE: \n",
    "> <font color='grey'>⏳ Estimated time: 15 min</font>\n",
    "\n",
    "Implement the following circuit in LTSpice\n",
    "<img src=\"https://gitlab.tudelft.nl/mwdocter/nb2214-images/-/raw/72f7c30357b9caa07cefd5a8c79735c2e179be67/LTS/LTS6_2.png\" width=50%></img>\n",
    "\n",
    "* Look what happens when you output Vout is bigger than Vpower(Vpos).\n",
    "* Perform transient analysis with stoptime 10ms.\n",
    "* Set R1 to 1k and R2 to 3.3k.\n",
    "* Remember to adjust the input amplitude."
   ]
  },
  {
   "cell_type": "code",
   "execution_count": null,
   "id": "5b0c9908",
   "metadata": {},
   "outputs": [],
   "source": [
    "### TO DO= \"write your answer here for Vout>Vpower\"\n",
    "\n"
   ]
  },
  {
   "cell_type": "markdown",
   "id": "7b297f9e",
   "metadata": {},
   "source": [
    "If you did everything correctly, you should have experienced clipping of Vout. The opamp is supplied by Vpower. If your output could be higher than that you would be breaking laws of Physics (creating energy out of nothing). "
   ]
  },
  {
   "cell_type": "markdown",
   "id": "56ac234f",
   "metadata": {},
   "source": [
    "Set back the amplitude to 100mV. Once again use transient analysis sim to find the gain values for given resistor values. also calculate the gain. Compare what you see and fill in the table below. Put into remarks any interesting observations."
   ]
  },
  {
   "cell_type": "markdown",
   "id": "27dcc98e",
   "metadata": {},
   "source": [
    "Click here to edit the table:\n",
    "\n",
    "| R1  |R2 |Gain|Gain in dB| Gain from simulation | Remarks |\n",
    "|-----|---|----|----------|----------------------|---|\n",
    "|100kΩ|1kΩ|   x|        dB|                     x|   |\n",
    "| 10kΩ|1kΩ|   x|        dB|                     x|   |\n",
    "|  1kΩ|1kΩ|   x|        dB|                     x|   |\n",
    "|   0Ω|1kΩ|   x|        dB|                     x|   |"
   ]
  },
  {
   "cell_type": "code",
   "execution_count": null,
   "id": "df0c46ec",
   "metadata": {},
   "outputs": [],
   "source": [
    "### TO DO =\"answer in words(if needed)\"\n"
   ]
  },
  {
   "cell_type": "markdown",
   "id": "bfef302c-657f-4d6f-9823-9f2d443f5fef",
   "metadata": {},
   "source": [
    "* Precap video: https://www.youtube.com/watch?v=d9CisMUZ9HQ\n"
   ]
  },
  {
   "cell_type": "markdown",
   "id": "408dddd6",
   "metadata": {},
   "source": [
    "## IMPLEMENT & INVESTIGATE: \n",
    "> <font color='grey'>⏳ Estimated time: 60 min</font>\n",
    "\n",
  "### Exercise 1\n",
    "\n",
    "You will build the circuit from ANTICIPATE using the ALPACA and verify the predicted gain. Whilst building the circuit take care to connect the +12 and -12 V supplies in the correct fashion. Use the pin diagram of the opamp below to help make the appropriate connections.\n",
    "You should know by now that the non-inverting input is marked with a (+) and the inverting input with a (-). \n",
    "\n",
 "<div>\n",
    "<img src=\"https://gitlab.tudelft.nl/mwdocter/nb2214-images/-/raw/7b873596c01a500f66c42c89508ee5aa384b6335/voltammetry/opamp_dual_layout+component.jpg\" width=\"300\"/>\n",
    "</div>\n",
"\n",
    "<div>\n",
    "<img src=\"https://gitlab.tudelft.nl/mwdocter/nb2214-images/-/raw/main/PicoPI/picopi7_2_non_invert_circ.jpg\" width=\"500\"/>\n",
    "</div>\n",
    "<details>\n",
    "<summary><font size=4>ℹ️</font> <b>Hints </b></summary>\n",
    "\n",
    "You can place the opamp on the breadboard in the following way:\n",
    "\n",
    "<div>\n",
    "<img src=\"https://gitlab.tudelft.nl/mwdocter/nb2214-images/-/raw/main/PicoPI/picopi7_4_place_opamp.jpg\" width=\"300\"/>\n",
    "</div>\n",
    "\n",
"</details>\n",
    "    \n",
    "<details>\n",
    "<summary><font size=4>ℹ️</font> <b>Detailed instructions</b></summary>\n",
    "\n",
    "- place TL072 opamp(you can see the name written on top of the opamp)\n",
    "- connect DAC A to non-inverting input(3rd left) <br>\n",
    "- connect non-inverting input(3rd left) to Ain1 <br>\n",
    "- connect -12V input(bottom left) to -12V <br>\n",
    "- connect +12V input(top right) to +12V <br>\n",
    "- connect 3.3k ohm resistor to inverting input (2nd left) <br>\n",
    "- connect 1k ohm resistor to inverting input (2nd left) <br>\n",
    "- connect 3.3k ohm resistor to the ground <br>\n",
    "- connect 1k ohm resitor to output (top left) - use can use a wire to make it easier <br>\n",
    "- connect output( top left) to Ain0 <br> \n",
    "- nothing on amplifier pathway\n",
"</details>\n",
    "    \n",
    "<details>\n",
    "  <summary><font size=4>ℹ️</font> <b>Fritzing of how the circuit should look</b></summary>\n",
    "<img src=\"https://gitlab.tudelft.nl/mwdocter/nb2214-images/-/raw/main/PicoPI/picopi6_4_build.png\" width=\"90%\"/>\n",
    "</details>",
"\n",
    "<font color='red' size=5>__Important </font>: use a low amplitude sine wave. During this notebook input signal can get amplified. To protect your Cria against large voltages make sure to measure your output signal using the voltmeter before hooking them to any of the measurement pins.__\n",
    "\n",
    "<font color='ff822d' size=6> 📝 <font> <font color='ff822d' size=4> **Todo**: <font>\n",
    "    \n",
    "* Build the setup (pictured above) following the instructions below   \n",
    "* Complete the code below that does the acquisition of the signal\n",
    "\n"
   ]
  },
  {
   "cell_type": "markdown",
   "id": "bc08d060",
   "metadata": {},
   "source": [
    "### Double check the placement of your resistors in relation to the opamp!"
   ]
  },
  {
   "cell_type": "code",
   "execution_count": 1,
   "id": "a4cf8e6c",
   "metadata": {},
   "outputs": [
    {
     "name": "stdout",
     "output_type": "stream",
     "text": [
      "\u001b[34mConnecting to --port=COM3 --baud=115200 \u001b[0m\n",
      "\u001b[34mReady.\n",
      "\u001b[0m0.5487663 0.7228427\n",
      "Aquisition done!\n"
     ]
    }
   ],
   "source": [
    "%serialconnect to --port=\"COM3\" \n",
    "#switch to alpaca kernel, if you haven't done so yet\n",
    "#ADD COM PORT ABOVE, e.g. --port=\"COM3\"\n",
    "\n",
    "import time\n",
    "import numpy as np\n",
    "import matplotlib.pyplot as plt\n",
    "from machine import ADC # type: ignore\n",
    "from functiongenerator import FuncGen, Sine # type: ignore\n",
    "\n",
    "# ACQUISITION SETTINGS\n",
    "NUM_SAMPLES = 200\n",
    "DELAY_MS = 1 # Sampling delay in ms\n",
    "\n",
    "\"\"\"Instantiate two measurement pints, one for Ain0 the other for Ain1 to measure the input and output signal\"\"\"\n",
    "'''Hint: look what are you importing'''\n",
    "#adc0 = ??? ## to be adapted\n",
    "#adc1 = ??? ## to be adapted\n",
    "\n",
    "### TO DO ='adapt adc0&1'\n",
    "adc0 =\n",
    "adc1 = \n",
    "\n",
    "input_signal = np.zeros(NUM_SAMPLES) #arrays\n",
    "output_signal = np.zeros(NUM_SAMPLES)\n",
    "\n",
    "#\"\"\"Complete the line of code to set the output of the DAC to a sine wave with \"\"\"\n",
    "#with FuncGen(Sine(Vmax=???, Vmin=???, freq=???)):  \n",
    "    ## to be adapted to the correct settings: Make sure that the sine wave at the DAC is from 0 to 0.5 V. Set the frequency of the sine wave to 25 Hz.\n",
    "### TO DO=\"your funcgen code'\n",
    "with FuncGen   \n",
    " \n",
    "    for ii in range(NUM_SAMPLES):\n",
    "        \"\"\"Perform a measurent of both the input and output signal and store the value\"\"\" \n",
    "        ## to add code for acquiring from adc0 and 1\n",
    "### TO DO =\"read in sample, with ???.read_u16() and store them in the input_signal &output_signal\n",
    "        input_signal[ii] = \n",
    "        output_signal[ii] = \n",
    "        \n",
    "        time.sleep_ms(DELAY_MS)\n",
    "        \n",
    "# Convert integer input/output signal to voltage.\n",
    "input_signal = input_signal / 65535 * 3.3\n",
    "output_signal = output_signal / 65535 * 3.3\n",
    "print(np.max(input_signal), np.max(output_signal))\n",
    "print('Aquisition done!')\n",
    "\n",
    "\n"
   ]
  },
  {
   "cell_type": "markdown",
   "id": "0858722e-fa83-465c-98cf-b262017a99aa",
   "metadata": {},
   "source": [
    "* Complete the code that plots the data and calculates the gain"
   ]
  },
  {
   "cell_type": "code",
   "execution_count": 1,
   "id": "ff5fe787-f19d-4210-a9c4-3ca91cb95917",
   "metadata": {},
   "outputs": [
    {
     "name": "stdout",
     "output_type": "stream",
     "text": [
      "Plotting done!\n",
      "The Vpp of the input signal is: 0.49 V\n",
      "The Vpp of the output signal is: 0.66 V\n",
      "The gain is 1.35\n"
     ]
    }
    ],
   "source": [
    "# Plot\n",
    "plt.plot(input_signal, label='Input signal')\n",
    "plt.plot(output_signal, label='Output signal')\n",
    "plt.ylabel('signal [V]')\n",
    "plt.xlabel('Measurement number')\n",
    "plt.legend()\n",
    "\n",
    "print('Plotting done!')\n",
    "\n",
    "\"\"\"Calculate Vpp for input/output and gain\"\"\"\n",
    "#Vpp_input = ??? ## to be adapted\n",
    "#Vpp_output = ??? ## to be adapted\n",
    "#gain = ???       ## to be adapted\n",
    "\n",
    "### TO DO= 'your code for Vpp in&output and gain\n",
    "Vpp_input =\n",
    "Vpp_output = \n",
    "gain = \n",
    "\n",
    "# Print the results of the calculations\n",
    "print(f'The Vpp of the input signal is: {Vpp_input:.2f} V')\n",
    "print(f'The Vpp of the output signal is: {Vpp_output:.2f} V')\n",
    "print(f'The gain is {gain:.2f}')"
   ]
  },
  {
   "cell_type": "markdown",
   "id": "2de79419-1457-49ab-bdda-e7c2af5375a1",
   "metadata": {},
   "source": [
    "> <font size=6>🔥</font>  \n",
    ">\n",
    "> <font color='ff6723'>\n",
    ">\n",
    "> If you are not getting any output, please verify that:\n",
    "> * Both USB cables are plugged in\n",
    "> * The _+12 V_ and _-12 V_ switches are turned to the on position on the ALPACA.\n",
    "> * Both _+12 V_ and _-12 V_ leds are on\n",
    "> * You connected to opamp in a correct way\n",
    "\n",
    "### Exercise 2\n",
    "Determine the gain of the circuit by using the measured values. What gain did you find? Is it close (enough) to the gain you found in ANTICIPATE?"
   ]
  },
  {
   "cell_type": "code",
   "execution_count": null,
   "id": "436a1e51-9a91-45c1-a28b-7e00d1a8521f",
   "metadata": {},
   "outputs": [],
   "source": [
    "### TO DO=\"# write your answer here: found gain=\"\n"
   ]
  },
  {
   "cell_type": "markdown",
   "id": "3b8cd979-a252-4e0a-9cd6-65f314ee426c",
   "metadata": {},
   "source": [
    "You have just shown that the value of the gain of this circuit indeed does depend on the resistors we pick based on the equation you've written in the anticipate. You can however also leave one of the resistors out entirely. In the anticipate, you've made a prediction as to what will happen. \n",
    "\n",
    "### Exercise 3\n",
    "<font color='ff822d' size=6> 📝 <font> <font color='ff822d' size=4> **Todo**: <font>\n",
    "    \n",
    "* Next remove the resistor Rb and run the code\n",
    "\n",
    "> <font size=6>ℹ️</font>\n",
    ">\n",
    "> <font color='00a6ed'> Removing the resistor $R_b$ can be done by disconnecting the connection between $R_b$ and ground. Do not replace it with another wire.\n",
    ">\n",
    "> <font>  "
   ]
  },
  {
   "cell_type": "markdown",
   "id": "7db05739-e5ab-4705-b2d3-a5097e53d505",
   "metadata": {},
   "source": [
    "\n",
    "\n",
    "Did the circuit function? If so, what gain did you observe? Did this match your prediction?"
   ]
  },
  {
   "cell_type": "code",
   "execution_count": null,
   "id": "811986d1-a5e1-4e6c-98f6-97a78a7c36bf",
   "metadata": {},
   "outputs": [],
   "source": [
    "### TO DO=\" write your observations for removing Rb\"\n"
   ]
  },
  {
   "cell_type": "markdown",
   "id": "37e67a7c-d1d3-4b4f-867d-8e2db3d6897c",
   "metadata": {},
   "source": [
    "As a last thing in ANTICIPATE you predicted a means of re-arranging the 1 k$\\Omega$ and 3.3 k$\\Omega$ resistors to get a gain above 4. Let's see if your rearrangement does indeed deliver a sufficiently high gain.\n",
    "\n",
    "### Exercise 4\n",
    "__Important: Before modifying the circuit: remove the wire between the output of the circuit and analog in:__ <br>since we now a different gain, again make sure to test your signal using the voltmeter before hooking it up to your analog input pin. <br>__Only in this way you are sure that you properly protect your PicoPi.__\n",
    "\n",
    "Seriously, it is really easy to fry your alpaca using an opamp. As another safety measure, you can temporarely switch off +/-12 V power supply when you modify the circuit. Just remember to turn them back on!\n",
    "\n",
    "<font color='ff822d' size=6> 📝 <font> <font color='ff822d' size=4> **Todo**: <font>\n",
    "    \n",
    "* Build the circuit by swapping the resistors\n",
    "* Run the acquisition code - you might want to copy it below\n",
    "* What was the gain you measured? Did your circuit work?"
   ]
  },
  {
   "cell_type": "code",
   "execution_count": null,
   "id": "5595c28d-d3fe-42e0-a2c3-953b4cfdca07",
   "metadata": {},
   "outputs": [],
   "source": [
    "### TO DO=\"# write your answer here: measured gain (>4?)\"\n"
   ]
  },
  {
   "cell_type": "markdown",
   "id": "95e37867-aa15-42b3-947c-9c4f0d328ad0",
   "metadata": {},
   "source": [
    "### Exercise 5\n",
    "In the previous exercise, we used a very small input voltage of 0.5 V. Let's try using a signal with a larger amplitude, e.g. a $V_{PP}$ of 3.3 V. Obviously, the output voltage of the circuit you built (gain > 4):  would be too high for the PicoPi, which has a maximum analog in voltage of 3.3 V that it can handle.\n",
    "\n",
    "You can leave the circuit on the breadboard intact, but we are going to adapt the voltage range in which we can measure. This is such that we can use a higher input voltage. <br>\n",
    "\n",
    "\n",
    "The illustration below shows you how to connect the signal from the output of the opamp circuit to the amplifier of the ALPACA. You'll use the amplifier to attenuate the signal, i.e. reduce its amplitude.\n",
    "    \n",
    "The amplifier has no influence on the shape of the signal you will measure, but it will make sure the voltage range is decreased such that it can be measured with the PicoPi. Specifically, you'll set the amplifier such that the amplitude of the signal is reduced by a **factor of 10**. Using this, you can measure signals up to 33 volt.\n",
    "\n",
    "<div>\n",
    "<img src=\"https://gitlab.tudelft.nl/mwdocter/nb2214-images/-/raw/main/PicoPI/picopi6_7_build.png\" width=\"90%\"/>\n",
    "</div>\n",
    "\n",
    "The wire that runs from the output of the opamp towards pin Ain0 we already removed. \n",
    "The output of the amplifier is directly linked (via the jumper -or even better wire- AMPLIFIER DIRECT TO NANO) to the Ain0, so make sure the signal from DAC A is linked to Ain1. \n",
    "\n",
    "\n",
     "<details>\n",
    "<summary><font size=4>ℹ️</font><b>Detailed instructions</b></summary>\n",
    "\n",
    "* Remove the cables from the Analog input pins, in order to protect them.\n",
    "* Make sure to connect the jumpers on the amplifier in the same way as in the picture shown above\n",
    "    * Place a jumper on Grounded setting in J44, (AMP0 pathway)\n",
    "* Remove jumpers from positions not indicated by the picture\n",
    "* Connect the output of the opamp to the input of the attenuator (*SIGNAL+* pin at *AMP0 IN*)\n",
    "* Make a direct connection between the output of the amplifier and the PicoPi by placing a wire (which is easier to remove than a jumper) on the topmost position of *AMPLIFIER DIRECT TO NANO*. If unclear, consult the illustration above.\n",
    "* Do not place a jumper on the lower position.\n",
    "* Keep *DAC A* linked to *Ain1*. \n",
    "\n",
"</details>\n",
"\n",
    "> <font size=6>ℹ️</font>\n",
    ">\n",
    "> <font color='00a6ed'> Tip: Make a habit out of disconnecting the circuit from the Analog Input Pins every time you make changes to the circuit.\n",
    ">\n",
    "> <font>  \n",
    "    \n",
    "> <font size=6>ℹ️</font>\n",
    ">\n",
    "> <font color='00a6ed'> Tip: Instead of using a jumper at *AMPLIFIER DIRECT TO NANO*, consider using a wire to bridge the connection instead. It is easier to place and remove!\n",
    ">\n",
    "> <font>  \n",
    "\n",
    "Because you can now detect signal up to 33 V on the output of the opamp circuit, you can increase the amplitude of our sine wave. For this purpose you can alter a variable in the code your wrote above. Slowly increase the amplitude with steps of around 0.5 and observe what happens.\n",
    "\n"
   ]
  },
  {
   "cell_type": "code",
   "execution_count": null,
   "id": "a1b92b05-b2f4-4151-957b-91e4074eaaf5",
   "metadata": {},
   "outputs": [],
   "source": [
    "%serialconnect to --port=\"COM3\" \n",
    "#ADD COM PORT ABOVE, e.g. --port=\"COM3\"\n",
    "\n",
    "import time\n",
    "import numpy as np\n",
    "import matplotlib.pyplot as plt\n",
    "from machine import ADC # type: ignore\n",
    "from functiongenerator import FuncGen, Sine # type: ignore\n",
    "\n",
    "adc0 = ADC(26) \n",
    "adc1 = ADC(27)\n",
    "\n",
    "input_signal = []\n",
    "output_signal = []\n",
    "\n",
    "for v_max in np.arange(0.5, 3.5, 0.5):\n",
    "    with FuncGen(Sine(Vmax=v_max, Vmin=0, freq=25)):\n",
    "        \n",
    "        print(f'Analyzing Vpp = {v_max} V')\n",
    "        time.sleep_ms(150) # Let the DAC settle\n",
    "        \n",
    "        for _ in range(200 if v_max == 3 else 50):\n",
    "            input_signal.append(adc1.read_u16())\n",
    "            output_signal.append(adc0.read_u16())\n",
    "            time.sleep_ms(1)\n",
    "        \n",
    "# Convert integer input/output signal to voltage.\n",
    "input_signal = np.array(input_signal) / 65535 * 3.3\n",
    "output_signal = np.array(output_signal) / 65535 * 3.3 * 10\n",
    "\n",
    "print('Aquisition done!')"
   ]
  },
  {
   "cell_type": "code",
   "execution_count": null,
   "id": "edd7b44b-124a-47b4-9ce1-a40ee41c49d2",
   "metadata": {
    "lines_to_next_cell": 2
   },
   "outputs": [],
   "source": [
    "plt.plot(input_signal, label='Input signal')\n",
    "plt.plot(output_signal, label='Output signal')\n",
    "plt.ylabel('signal [V]')\n",
    "plt.xlabel('Measurement number')\n",
    "plt.grid()\n",
    "plt.legend()\n",
    "\n",
    "for ii in range (6):\n",
    "    Vin=np.max(input_signal[0+ii*50:50+ii*50])\n",
    "    Vout=np.max(output_signal[0+ii*50:50+ii*50])\n",
    "    print('for V='+str(Vin)+' Vout is '+str(Vout)+', ratio is '+str(Vout/Vin))"
   ]
  },
  {
   "cell_type": "markdown",
   "id": "593d3e21-921d-4498-a827-0cf863847532",
   "metadata": {},
   "source": [
    "### Exercise 6\n",
    "What happens to the output signal? Explain what is happening here, for this you might want to look at the maximum voltage of the output signal.\n",
    "\n",
    "> <font size=6>ℹ️</font>\n",
    ">\n",
    "> <font color='00a6ed'> Hint: the observed signal is directly related to the opamp circuit you build. The amplifier we use to shift the voltage range does not change the shape of the output signal.\n",
    ">\n",
    "> <font>  "
   ]
  },
  {
   "cell_type": "code",
   "execution_count": null,
   "id": "4b3b122d-637c-402a-96b7-ec85c6e5f774",
   "metadata": {},
   "outputs": [],
   "source": [
    "### TO DO=\"explain what happens to the output signal\"\n",
    "\n"
   ]
  },
  {
   "cell_type": "markdown",
   "id": "f6e6e3e6-7632-491f-b4e6-9b308b0ee632",
   "metadata": {},
   "source": [
    "What you saw in the previous exercise is called **clipping**.\n",
    "\n",
    "### Exercise 7\n",
    "**Hypothetically, i.e. don't do the actual measurement:** If the input signal would have a DC offset of 0 Volt, and we increase the amplitude enough, explain whether we would also observe this clipping behaviour for the part where the sine wave is negative? (Ignore the fact that amplifier removes voltage <0)"
   ]
  },
  {
   "cell_type": "code",
   "execution_count": null,
   "id": "c08c77fe-220d-40a6-b8bd-d027a35679a8",
   "metadata": {},
   "outputs": [],
   "source": [
    "### TO DO=\"# write your answer here: Dc offset 0, also clipping at negative sine?\"\n",
    "\n"
   ]
  },
  {
   "cell_type": "markdown",
   "id": "9b0e1047",
   "metadata": {},
   "source": [
    "## COMPARE & CONCLUDE\n",
    "> <font color='grey'>⏳ Estimated time: 15 min</font>\n",
    "\n",
    "* Wait till all (4) group members finish their observation\n",
    "* Compare your results with your other group members. \n",
    "* If your results agree, and are in line with all predictions, then talk to a TA and get checked off\n",
    "* Otherwise, so if your results do not agree, or your results are not in line with your predictions, then first discuss amongst your group before getting a TA. \n",
    "\n",
    "\n",
    "**to be checked off by a TA:**\n",
    "1. Explain when you encounter clipping, e.g. at which (positive/negative) voltages, and what then happens to the gain and the shape of the signal.\n",
    "\n",
    "2. Why is non invering opamp called like that? What is its gain?\n",
    "\n",
    "3. exit card: 1. Write a brief abstract on what you learned (conclusion, useful graph), 2. Which troubleshooting skills do you want to remember for next sessions, 3. Which code do you copy for use in next sessions,\n",
    "\n",
    "4. How do think this notebook could be improved?"
   ]
  },
  {
   "cell_type": "code",
   "execution_count": null,
   "id": "432670d8",
   "metadata": {},
   "outputs": [],
   "source": [
    "#12A non-inverting opamp\n",
    "### TO DO =\"1. When do you encounter clipping? What happens to the gain and shape at clipping?\"\n",
    "\n",
    "### TO DO=\"2.explain why the used circuit is called a non-inverting opamp, and what is its gain?\"\n",
    "\n",
    "### TO DO=\"3a. abstract\"\n",
    "\n",
    "### TO DO=\"3b. troubleshooting\"\n",
    "\n",
    "### TO DO=\"3c. code\"\n",
    "\n",
    "### TO DO=\"4. what changes would you suggest?\"\n",
    "\n"
   ]
  },
  {
   "cell_type": "markdown",
   "id": "fd6b5b0c-eed4-4b12-8243-0efb95101df8",
   "metadata": {},
   "source": [
    "* Recording: https://www.youtube.com/watch?v=uZJXWCui1Y8\n"
   ]
  },
  {
   "cell_type": "code",
   "execution_count": null,
   "id": "e693ee35-1648-4285-bfbf-0000b9030a38",
   "metadata": {},
   "outputs": [],
   "source": []
  }
 ],
 "metadata": {
  "jupytext": {
   "formats": "ipynb,md"
  },
  "kernelspec": {
   "display_name": "Alpaca Kernel",
   "language": "python",
   "name": "alpaca"
  },
  "language_info": {
   "codemirror_mode": {
    "name": "ipython",
    "version": 3
   },
   "file_extension": ".py",
   "mimetype": "text/x-python",
   "name": "python",
   "nbconvert_exporter": "python",
   "pygments_lexer": "ipython3",
   "version": "3.10.14"
  }
 },
 "nbformat": 4,
 "nbformat_minor": 5
}
