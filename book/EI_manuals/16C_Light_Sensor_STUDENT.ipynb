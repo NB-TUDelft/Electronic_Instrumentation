{
 "cells": [
  {
   "cell_type": "markdown",
   "id": "9c1c89be-b037-43de-8b1c-25a2b0ef422f",
   "metadata": {},
   "source": [
    "<b>For use with:<font color=\"blue\" ><b> Student's laptop</b></font> \n",
    "<br> and </b></font><font color=\"magenta\"><b>Alpaca kernel</b></font>\n",
    "\n",
    "<font color='green'> <b> Complete this notebook during the practical session. </b></font>"
   ]
  },
  {
   "cell_type": "markdown",
   "id": "9e01e979-dc8c-4c7f-a23a-4e247a8f6c7b",
   "metadata": {},
   "source": [
    "<div class=\"alert alert-block alert-info\">\n",
    "<b>(Optional) Accessibility of this notebook</b>  \n",
    "\n",
    "- You can adjust the width of the text with the function provided in the cell below. \n",
    "- You can toggle the auto-numbering of the sections in the outline toolbox (sidebar or topbar).\n",
    "- You can toggle the code line numbers in the dropdown menu of the \"view\" button in the topbar. \n",
    "- You can collapse/expand a cell by clicking the blue bar on the left side of the cell.\n",
    "\n",
    "</div>  "
   ]
  },
  {
   "cell_type": "code",
   "execution_count": null,
   "id": "6bbac063-89d4-4aa6-a2ac-c9cb8c5ffceb",
   "metadata": {
    "jupyter": {
     "source_hidden": true
    },
    "tags": []
   },
   "outputs": [],
   "source": [
    "%python\n",
    "from IPython.core.display import HTML\n",
    "def set_width(width):\n",
    "    display(HTML(f\"\"\"<style>  \n",
    "            .container {{ width:{width}% !important; \n",
    "                            min-width:800px !important; margin: 0 auto}} \n",
    "            .jp-Cell {{ width:{width}% !important; \n",
    "                            min-width:800px !important; margin: 0 auto}} </style>\"\"\"))\n",
    "# Set container width to X%v of the fullscreen \n",
    "set_width(50)"
   ]
  },
  {
   "cell_type": "markdown",
   "id": "3700b6de",
   "metadata": {},
   "source": [
    "**Overview: Practical Assignments - Week 16**.\n",
    "\n",
    "<font size=\"3\"><b>Experiments for This Week:</b></font>\n",
    "\n",
    "- Oscillator 16A: **Before** the Classroom Session - Background and Simulation\n",
    "- Oscillator 16B: **Before** the Classroom Session - Assembly and Tests  \n",
    "- Oscillator 16C: **During** the Classroom Session - Light Sensor\n",
    "  \n",
    "<font size=\"3\"><b>Goal:</b></font>\n",
    "\n",
    "- Build a complex circuit.\n",
    "- Understand the role of the Relaxation Oscillator in processing of the signal from a light sensor <br>"
   ]
  },
  {
   "cell_type": "markdown",
   "id": "01388897-cabe-4910-9ab5-c49761acc872",
   "metadata": {},
   "source": [
    "# 16C: Oscillator - Light Sensor\n",
    "\n",
    "<font color='blue'><b>Learning goals:</b></font>\n",
    "1. *I&I4*: Build a Controlled Relaxation Oscillator and explore its signals\n",
    "    - Include a diode in the feedback line, and add a variable current source\n",
    "2. *I&I5*: Build an Illumination Station for Light Sensing\n",
    "    - Replace the variable current source by a photodiode and add a current-controlled LED\n",
    "3. *I&I6*: Understand how the Light Sensor works and how to operate it\n",
    "    - Use the given functions, record the signal, extract the frequency, and calculate the measured light intensity\n",
    "\n",
    "**Timing of this experiment:**\n",
    "- <b>10+40+20+30+20 = <font color='red'> 120 min</b></font>\n",
    "\n",
    "<font color='green'><b>This is a challenging assignment. Please support your partner in solving problems. </b></font>"
   ]
  },
  {
   "cell_type": "markdown",
   "id": "6c2f0f36-ea5f-4abf-b878-e52d7aaa1ace",
   "metadata": {},
   "source": [
    "# IMPLEMENT & INVESTIGATE - Part B: Light Sensor\n",
    "\n",
    "> <font color='grey'>⏳ Estimated total time: 120 min</font>\n",
    "\n",
    "## Recap: Barebone Oscillator\n",
    "\n",
    "> <font color='grey'>⏳ Estimated time: 10 min</font>\n",
    "\n",
    "Start by making sure that your Barebone Oscillator is correct, and that you can confidently navigate this minimal layout and can identify the essential nodes in your circuit before proceeding with the implementation. \n",
    "\n",
    "<details>\n",
    "<summary><font size=3>ℹ️ <b>Detailed schematic of the suggested Barebone Oscillator </b></font></summary>  \n",
    "\n",
    "<div style=\"text-align: center;\">\n",
    "    <img src=\"https://gitlab.tudelft.nl/mwdocter/nb2214-images/-/raw/main/oscillator/16_Fritzing_IntegratorComparatorJOIN.png\" width=400>\n",
    "</div>\n",
    "</details>  \n",
    "\n",
    "## Implement & Investigate 4: <br> Controlling the Relaxation Oscillator\n",
    "\n",
    "> <font color='grey'>⏳ Estimated time: 60 min</font>\n",
    "\n",
    "In this assignment, you will upgrade your *Basic Relaxation Oscillator* into a *Controlled Relaxation Oscillator* by introducing two additional essential components.\n",
    "\n",
    "1. The **Feedback line** consisting of:\n",
    "   - a Diode `D1` and\n",
    "   - a Resistor `Rc`\n",
    "2. An external **current source** consisting of:\n",
    "    1. In the *Implement 4* section:\n",
    "       - a (variable) DC voltage source and a resistor `Rext = 100k`\n",
    "    2. In the *Implement 5* section onwards:\n",
    "       - a Photodiode\n",
    "\n",
    "<div style=\"text-align: center\">\n",
    "    <img src=\"https://gitlab.tudelft.nl/mwdocter/nb2214-images/-/raw/main/oscillator/16ImplementFixedRelaxationOscillator.png\" width=800>\n",
    "    <br>\n",
    "    <em> Relaxation Oscillator with an Input -  Circuit Schematic</em>\n",
    "</div> \n",
    "<br><br>\n",
    "\n",
    "To better understand how each of these components characterise the oscillator, you will explore two configurations to independently control the charging and the discharging current."
   ]
  },
  {
   "cell_type": "markdown",
   "id": "7e4da6be-708a-4f07-a88a-96d2db4e0068",
   "metadata": {},
   "source": [
    "### Controlling the Discharge Current\n",
    "\n",
    "> <font color='grey'>⏳ Estimated time: 40 min</font>\n",
    "\n",
    "Implement the circuit in the schematic below by adding the necessary components to your Barebone Oscillator. Vary the discharge current and write down your observations. Pay attention to the frequency, amplitude, and the symmetry of the oscillation.\n",
    "\n",
    "<div style=\"text-align: center\">\n",
    "    <img src=\"https://gitlab.tudelft.nl/mwdocter/nb2214-images/-/raw/main/oscillator/16ImplementTunableRc.png\" width=800><br>\n",
    "    <em>Relaxation Oscillator with a Variable Discharge Current</em>\n",
    "</div> <br><br>\n",
    "\n",
    "#### Example: Discharge Current Adjustment Procedure\n",
    "\n",
    "Use the following components:\n",
    "\n",
    "1. The Potmeter `J13` to implement a variable `Rc`\n",
    "2. The `-12V` source of your Alpaca via the resistor `Rext = 100k`\n",
    "3. Cria's Voltmeter for visualising Oscillator's switching\n",
    "4. **Only in the SCR:** Use the Oscilloscope to visualise the signal with more insight.\n",
    "   - Measure the output of the integrator `VoutOA1` on `CH1` and the output of the comparator `Vout` on `CH2`\n",
    "   - - You can keep the Oscilloscope probes attached and the measurement running for the next part of this assignment.\n",
    "\n",
    "<details>\n",
    "<summary><font size=3>ℹ️ <b>Detailed schematic for adjusting the discharging current</b></font></summary>  \n",
    "<div style=\"text-align: center\">\n",
    "    <img src=\"https://gitlab.tudelft.nl/mwdocter/nb2214-images/-/raw/main/oscillator/16_Fritzing_VariableRc.png\" width=1000>\n",
    "    <br>\n",
    "</div> <br><br>\n",
    "\n",
    "</details>  "
   ]
  },
  {
   "cell_type": "code",
   "execution_count": null,
   "id": "daa6bc2f-3727-4ae3-a479-436683431b9c",
   "metadata": {},
   "outputs": [],
   "source": [
    "## Controlling the Discharge Current - Notes\n",
    "\n"
   ]
  },
  {
   "cell_type": "markdown",
   "id": "11eaa126-1309-416c-9128-bf56a8597aed",
   "metadata": {},
   "source": [
    "### Controlling the Charging Current\n",
    "\n",
    "> <font color='grey'>⏳ Estimated time: 20 min</font>\n",
    "\n",
    "Implement the circuit in the schematic below. Control the charging current and write down your observations. Similarily to the previous test, pay attention to the frequency, amplitude, and the symmetry of the oscillation.\n",
    "\n",
    "<div style=\"text-align: center\">\n",
    "    <img src=\"https://gitlab.tudelft.nl/mwdocter/nb2214-images/-/raw/main/oscillator/16ImplementTunableV.png\" width=800><br>\n",
    "    <em>Relaxation Oscillator with a Variable Charging Current</em>\n",
    "</div> <br><br>\n",
    "\n",
    "#### Example: Charging Current Adjustment Procedure\n",
    "\n",
    "Use the following components:\n",
    "\n",
    "1. The `-12V` source of your Alpaca\n",
    "   Use the Potmeter `J13` to implement a variable `Vcontrol` from `-12V to 0V` <br>\n",
    "   <font color='#FF5F15' size=4>⚠️ <font color='#FF5F15' size=3><b>Warning</b> <br>\n",
    "<font color='#FF5F1' size=3>   \n",
    "\n",
    "   > Remember to turn off the Alpaca's +12V and -12V switches for safety during the (dis-)assembly. <br><br>\n",
    "   > Connect `-12V` to `J13:left` and `GND`to `J13:right`<br>\n",
    "   > The variable `Vcontrol` output is available from `J13:center` pin.\n",
    "\n",
    "</font></font></font>\n",
    "\n",
    "2. The resistor `Rext = 100k`\n",
    "3. The resistor `Rc = 10k`\n",
    "4. Cria's Voltmeter for visualising Oscillator's switching\n",
    "5. **Only in the SCR:** Use the Oscilloscope to visualise the signal with more insight.\n",
    "   - Measure the output of the integrator `VoutOA1` on `CH1` and the output of the comparator `Vout` on `CH2`\n",
    "   - You can keep the Oscilloscope probes attached and the measurement running for the remaining part of this assignment.\n",
    "\n",
    "<details>\n",
    "<summary><font size=3>ℹ️ <b>Detailed schematic for adjusting the charging current</b></font></summary>  \n",
    "\n",
    "<div style=\"text-align: center\">\n",
    "    <img src=\"https://gitlab.tudelft.nl/mwdocter/nb2214-images/-/raw/main/oscillator/16_Fritzing_VariableV3.png\" width=800><br>\n",
    "</div> <br><br>\n",
    "\n",
    "</details>  "
   ]
  },
  {
   "cell_type": "code",
   "execution_count": null,
   "id": "4e17d05c-7d43-45a1-bb81-411139be5b5b",
   "metadata": {},
   "outputs": [],
   "source": [
    "# Controlling the Charging Current - Notes\n",
    "\n"
   ]
  },
  {
   "cell_type": "markdown",
   "id": "39be3296-6620-4894-990f-6761e3485cd6",
   "metadata": {},
   "source": [
    "## Implement & Investigate 5: The *Illumination Station*\n",
    "\n",
    "> <font color='grey'>⏳ Estimated time: 30 min</font>\n",
    "\n",
    "Introduce a Photodiode utilised in the photoconductive mode as an external current source to control the Oscillator with light. By adding a current-controlled LED Station, you will be able to test your circuit as a light sensor. Have a look into the *Background* section for a refresher on a current controller circuit for a LED, and use the figure below to get an overview of your implementation. \n",
    "\n",
    "<div style=\"text-align: center\">\n",
    "    <img src=\"https://gitlab.tudelft.nl/mwdocter/nb2214-images/-/raw/main/oscillator/16ImplementLightStationPotmeter.png\" width=1000>\n",
    "    <br>\n",
    "    <em>Implementation blueprint: Relaxation Oscillator + Illumination Station</em>\n",
    "</div>\n",
    "<br>\n",
    "\n",
    "**Build the *Illumination station* using the small bread board (Minibox)** to maintain a better overview with the dense wiring. Equivalently, you could use the upper part of Alpaca's Sandbox if you prefer, or if you are missing the *Minibox*.\n",
    "\n",
    "### Building the *Illumination Station*\n",
    "\n",
    "<div style=\"text-align: center\">\n",
    "    <img src=\"https://gitlab.tudelft.nl/mwdocter/nb2214-images/-/raw/main/oscillator/16ImplementIlluminationStation.png\" width=800><br>\n",
    "    <em>Illumination Station</em>\n",
    "</div>\n",
    "\n",
    "**List of components:**\n",
    "\n",
    "1. Mini bread board aka *Minibox*\n",
    "2. OPAMP of your choice\n",
    "3. LED (preferably white LED)\n",
    "   - In the worst case scenario, use one of the Alpaca's onboard LEDs\n",
    "5. Resistor `Rled = 1k`\n",
    "6. Alpaca's Potmeter `J13` and `+5V` source\n",
    "   > `J13:left` to any `+5V` pin <br>\n",
    "   > `J13:center` to the OPAMP input <br>\n",
    "   > `J13:right` to `GND`\n",
    "8. Photodiode\n",
    "9. A few wires\n",
    "   > You will need many of them today, but some suggested connections can be optimised and some wires reused for new connections, so go ahead and optimise the connections, and own your setup.  <br><Br>\n",
    "   >Be careful when organizing your elements in the *Sandbox* and in the *Minibox* such that they don't make a short circuit by accident. \n",
    "10. Optional: Piece of the drink pipe or an equivalent element to focus the LED on the photodiode <br>\n",
    "    <font size=5>💡 <font color='orange' size=3><b>Attention</b> <br>\n",
    "    > <font color='orange' size=3> It is essential for ensuring reproducibility of your measurements and the calibration that the LED is fixed with respect to the photodiode and pointing directly at it, so it is advised to place those two elements next to each other in the same bread board.\n",
    "    </font></font></font>\n",
    "\n",
    "<br>\n",
    "<details>\n",
    "<summary><font size=3>ℹ️ <b>Hints</b></font></summary>  \n",
    "\n",
    "1. Combine two or three wires to extend their length and make <br> a `female-male` wire out of `male-male` and `female-female` wires.\n",
    "2. Remember to check the orientation/polarity of the photodiode with respect to GND and the inverting input of the integrator\n",
    "3. The pins of the OPAMP for reference:\n",
    "<div style=\"text-align: center\">\n",
    "<img src=\"https://gitlab.tudelft.nl/mwdocter/nb2214-images/-/raw/7b873596c01a500f66c42c89508ee5aa384b6335/voltammetry/opamp_dual_layout+component.jpg\" width=300>\n",
    "</div>\n",
    "4. Bear in mind that the choice of the LED and the color of the LED can influence your measurements.\n",
    "\n",
    "</details>  \n",
    "\n",
    "\n",
    "<details>\n",
    "<summary><font size=3>ℹ️ <b>Detailed schematic for building the Illumination Station</b></font></summary>  \n",
    "\n",
    "<div style=\"text-align: center\">\n",
    "<img src=\"https://gitlab.tudelft.nl/mwdocter/nb2214-images/-/raw/main/oscillator/16_Fritzing_LEDStation.png\" width=800> <br>\n",
    "</div> <br><br>\n",
    "\n",
    "</details>  "
   ]
  },
  {
   "cell_type": "markdown",
   "id": "c7e9cf96-b92a-45d7-8426-ebd73ecf3131",
   "metadata": {},
   "source": [
    "### Controlling the Oscillator with Light\n",
    "\n",
    "Turn the Potmeter and observe how adjusting light intensity changes the oscillator's frequency measured at `VoutOA1` with Cria's Voltmeter *(and in the SCR - with the Oscilloscope too)*\n",
    "\n",
    "How does this adjustment compare to the charging/discharging current adjustments in the previous section?\n",
    "\n",
    "Write down your (qualitative) observations about:\n",
    "- the response of the LED brightness across the Potmeter range\n",
    "- the frequency response of the oscillator to the LED brightness adjustment"
   ]
  },
  {
   "cell_type": "code",
   "execution_count": null,
   "id": "8990d402-885a-425e-bd7d-aa69f89f963b",
   "metadata": {},
   "outputs": [],
   "source": [
    "## Controlling the Oscillator with Light - Notes\n",
    "\n"
   ]
  },
  {
   "cell_type": "markdown",
   "id": "e98eded6-4b46-4d24-a810-edd1b2342685",
   "metadata": {},
   "source": [
    "## Implement & Investigate 6: *Light Sensor* \n",
    "\n",
    "> <font color='grey'>⏳ Estimated time: 20 min</font>\n",
    "\n",
    "At this point, you are only two steps away from turning your oscillator into a light sensor.\n",
    "\n",
    "1. Decide which signal is most suitable for the analog to digital conversion and measure it with `ADC0`.\n",
    "2. Choose functions from the list below to perform the measurement and extract the light intensity.\n",
    "\n",
    "<details>\n",
    "<summary><font size=3>ℹ️ <b>Detailed schematic for measuring the light intensity</b></font></summary>  \n",
    "\n",
    "<div style=\"text-align: center\"><img src=\"https://gitlab.tudelft.nl/mwdocter/nb2214-images/-/raw/main/oscillator/16_Fritzing_LEDStation_ADC0.png\" width=\"800\"/><br>\n",
    "</div>\n",
    "<br>\n",
    "\n",
    "</details>  "
   ]
  },
  {
   "cell_type": "markdown",
   "id": "a1df6381-4226-4ccc-954e-089bd0733218",
   "metadata": {},
   "source": [
    "### Initializing required libraries and defining custom functions"
   ]
  },
  {
   "cell_type": "code",
   "execution_count": null,
   "id": "76719396-c4e0-4477-846b-fe0d7f1014c5",
   "metadata": {
    "jupyter": {
     "source_hidden": true
    }
   },
   "outputs": [],
   "source": [
    "## Initialize the connection with your Alpaca\n",
    "%serialconnect to --port=\"COM4\" "
   ]
  },
  {
   "cell_type": "code",
   "execution_count": null,
   "id": "b34376cf-58c4-4d8c-a860-5ada38a9f27a",
   "metadata": {
    "jupyter": {
     "source_hidden": true
    }
   },
   "outputs": [],
   "source": [
    "## Import libraries\n",
    "import time\n",
    "import numpy as np\n",
    "import matplotlib.pyplot as plt\n",
    "from machine import ADC\n",
    "from functiongenerator import FuncGen, DC"
   ]
  },
  {
   "cell_type": "code",
   "execution_count": null,
   "id": "65147d52-f7eb-4619-ac83-852c8c9d996f",
   "metadata": {
    "jupyter": {
     "source_hidden": true
    }
   },
   "outputs": [],
   "source": [
    "## Instantiate a measurement pin Ain0 and Ain1 for the input signals\n",
    "adc0 = ADC(26) \n",
    "adc1 = ADC(27) "
   ]
  },
  {
   "cell_type": "code",
   "execution_count": null,
   "id": "c9c81db6-7bab-42c5-beef-f89f95096c53",
   "metadata": {
    "jupyter": {
     "source_hidden": true
    }
   },
   "outputs": [],
   "source": [
    "## Measurement functions\n",
    "\n",
    "#############################################\n",
    "#############################################\n",
    "# Default initial values\n",
    "DELAY_MS = 2\n",
    "NUM_SAMPLES = 2048\n",
    "\n",
    "#############################################\n",
    "# Function to make a simple measurement with ADC0 \n",
    "def MeasureADC0(DELAY_MS=DELAY_MS, NUM_SAMPLES=NUM_SAMPLES):\n",
    "\n",
    "    acquired_signal = np.zeros(NUM_SAMPLES)\n",
    "    \n",
    "    for ii in range(NUM_SAMPLES):\n",
    "        # Take a sample every DELAY_MS\n",
    "        sample = adc0.read_u16()\n",
    "        acquired_signal[ii] = sample\n",
    "        \n",
    "        time.sleep_ms(DELAY_MS)\n",
    "    print('Measurement complete!')        \n",
    "    return acquired_signal\n",
    "\n",
    "###############################################\n",
    "# Function to make a simple measurement with ADC1 \n",
    "def MeasureADC1(DELAY_MS=DELAY_MS, NUM_SAMPLES=NUM_SAMPLES):\n",
    "\n",
    "    acquired_signal = np.zeros(NUM_SAMPLES)\n",
    "    \n",
    "    for ii in range(NUM_SAMPLES):\n",
    "        # Take a sample every DELAY_MS\n",
    "        sample = adc1.read_u16()\n",
    "        acquired_signal[ii] = sample\n",
    "        \n",
    "        time.sleep_ms(DELAY_MS)\n",
    "    print('Measurement complete!')        \n",
    "    return acquired_signal\n",
    "\n",
    "###############################################\n",
    "# Function to make a simple measurement with ADC0 and ADC1\n",
    "def MeasureADC0andADC1(DELAY_MS=DELAY_MS, NUM_SAMPLES=NUM_SAMPLES):\n",
    "\n",
    "    a0 = np.zeros(NUM_SAMPLES)\n",
    "    a1 = np.zeros(NUM_SAMPLES)\n",
    "    for ii in range(NUM_SAMPLES):\n",
    "        # Take a sample every DELAY_MS\n",
    "        sample0 = adc0.read_u16()\n",
    "        sample1 = adc1.read_u16()\n",
    "        a0[ii] = sample0\n",
    "        a1[ii] = sample1\n",
    "        \n",
    "        time.sleep_ms(DELAY_MS)\n",
    "    print('Measurement complete!')        \n",
    "    return a0,a1\n",
    "\n",
    "################################################\n",
    "# Function to make a measurement with ADC0 and set a given DC voltage on DAC A\n",
    "def SetDAC_and_MeasureADC0(dc_voltage, DELAY_MS=DELAY_MS, NUM_SAMPLES=NUM_SAMPLES):\n",
    "\n",
    "    acquired_signal = np.zeros(NUM_SAMPLES)\n",
    "    \n",
    "    with FuncGen(DC(V=dc_voltage)):\n",
    "    \n",
    "        time.sleep_ms(100)\n",
    "        \n",
    "        for ii in range(NUM_SAMPLES):\n",
    "            # Take a sample every DELAY_MS\n",
    "            sample = adc0.read_u16()\n",
    "            acquired_signal[ii] = sample\n",
    "            \n",
    "            time.sleep_ms(DELAY_MS)\n",
    "    print('Measurement complete!')        \n",
    "    return acquired_signal\n",
    "\n",
    "\n",
    "################################################\n",
    "# Function to make a measurement with ADC0 and ADC1, and set a given DC voltage on DAC A\n",
    "def SetDAC_and_MeasureADC0andADC1(dc_voltage, DELAY_MS=DELAY_MS, NUM_SAMPLES=NUM_SAMPLES):\n",
    "\n",
    "    a0 = np.zeros(NUM_SAMPLES)\n",
    "    a1 = np.zeros(NUM_SAMPLES)\n",
    "    \n",
    "    with FuncGen(DC(V=dc_voltage)):\n",
    "    \n",
    "        time.sleep_ms(100)\n",
    "            \n",
    "        for ii in range(NUM_SAMPLES):\n",
    "            # Take a sample every DELAY_MS\n",
    "            sample0 = adc0.read_u16()\n",
    "            sample1 = adc1.read_u16()\n",
    "            a0[ii] = sample0\n",
    "            a1[ii] = sample1\n",
    "            \n",
    "            time.sleep_ms(DELAY_MS)\n",
    "    print('Measurement complete!')        \n",
    "    return a0,a1\n",
    "\n",
    "###############################################\n",
    "# Function for plotting the acquired signal\n",
    "def plot_acquired_signal(acquired_signal, gain=0.1):\n",
    "    acquired_signal = acquired_signal / 65535 * 3.3\n",
    "    acquired_signal /= gain\n",
    "    plt.plot(acquired_signal)\n",
    "    plt.plot([0],[0]) # Lazy trick to get the X-axis in the plot\n",
    "    plt.ylabel('Output [V]')\n",
    "    plt.xlabel('Sample number')"
   ]
  },
  {
   "cell_type": "code",
   "execution_count": null,
   "id": "47baa5f3-aa09-4758-8542-ce5abc2686e5",
   "metadata": {
    "jupyter": {
     "source_hidden": true
    }
   },
   "outputs": [],
   "source": [
    "## FFT - related functions\n",
    "#############################################\n",
    "#############################################\n",
    "\n",
    "#############################################\n",
    "# Function to calculate the nearest power of 2\n",
    "def nearest_power_of_2(num):\n",
    "    return 2 ** int(np.ceil(np.log2(num)))\n",
    "\n",
    "#############################################\n",
    "# Function to calculate the dominant friequency in the acquired signal\n",
    "def calculate_meas_freq(acquired_signal, DELAY_MS=DELAY_MS, NUM_SAMPLES=NUM_SAMPLES):\n",
    "    fft_output = np.fft.fft(acquired_signal)\n",
    "    sampling_rate = 1 / DELAY_MS * 1000 \n",
    "\n",
    "    re = fft_output[0]\n",
    "    im = fft_output[1]\n",
    "    amp2 = re**2 + im**2\n",
    "\n",
    "    DFT = amp2[0:NUM_SAMPLES//2]\n",
    "    DFT[1:] = amp2[-1:(NUM_SAMPLES+1)//2:-1]\n",
    "    DFT     /= NUM_SAMPLES\n",
    "    DFT[0] = 0\n",
    "\n",
    "    N = len(acquired_signal) // 2  # Adjust for the unique format\n",
    "    freq = [i * 0.5 *sampling_rate / N for i in range(N)]\n",
    "\n",
    "    max_index = np.argmax(DFT)\n",
    "    meas_freq = freq[max_index]\n",
    "    \n",
    "    return meas_freq\n",
    "\n",
    "##############################################\n",
    "# Function to calculate and plot the frequency spectrum of the acquired signal\n",
    "def plot_meas_freq(acquired_signal, DELAY_MS=DELAY_MS, NUM_SAMPLES=NUM_SAMPLES):\n",
    "    fft_output = np.fft.fft(acquired_signal)\n",
    "    sampling_rate = 1 / DELAY_MS * 1000 \n",
    "\n",
    "    re = fft_output[0]\n",
    "    im = fft_output[1]\n",
    "    amp2 = re**2 + im**2\n",
    "\n",
    "    DFT = amp2[0:NUM_SAMPLES//2]\n",
    "    DFT[1:] = amp2[-1:(NUM_SAMPLES+1)//2:-1]\n",
    "    DFT     /= NUM_SAMPLES\n",
    "    DFT[0] = 0\n",
    "\n",
    "    N = len(acquired_signal) // 2  # Adjust for the unique format\n",
    "    freq = [i * 0.5 *sampling_rate / N for i in range(N)]\n",
    "\n",
    "    max_index = np.argmax(DFT)\n",
    "    meas_freq = freq[max_index]\n",
    "    \n",
    "    plt.plot(freq, DFT)\n",
    "\n",
    "    return meas_freq"
   ]
  },
  {
   "cell_type": "code",
   "execution_count": null,
   "id": "8408f91f-6b05-4804-92bb-e1338437f12a",
   "metadata": {
    "jupyter": {
     "source_hidden": true
    }
   },
   "outputs": [],
   "source": [
    "## Light Intensity vs Frequency relation\n",
    "#############################################\n",
    "#############################################\n",
    "\n",
    "\n",
    "# Function to extract the light intensity from the measured signal frequency\n",
    "def Light_intensity(frequency):\n",
    "    L = - np.sqrt(Idiode**2 - 4 * frequency * C * dV * Idiode) + Idiode\n",
    "    L /= 2 * Rlambda * Aphotodiode\n",
    "    return L\n"
   ]
  },
  {
   "cell_type": "markdown",
   "id": "444b7bbb-eb65-4dd5-9b52-e682ee92ca5d",
   "metadata": {},
   "source": [
    "### Setting up the Measurement\n",
    "\n",
    "Declare the values of the components used in your circuit."
   ]
  },
  {
   "cell_type": "code",
   "execution_count": null,
   "id": "6ff70d75-448f-4091-bc24-9d6f69a0b3bc",
   "metadata": {
    "jupyter": {
     "source_hidden": true
    }
   },
   "outputs": [],
   "source": [
    "# ## Settings\n",
    "\n",
    "# Define the the scales for the measurement\n",
    "desired_num_samples = 2000 # a number of samples you want - it will be adapted for use with fft\n",
    "DELAY_MS = 2 # 2ms is the lowest value possible\n",
    "\n",
    "# Declare the values of the components used in your oscillator\n",
    "C = ... # Capacitance in Farads, so 1e9 for 1nF\n",
    "Ra = ... # Use the notation 1e3 for 1k\n",
    "Rb = ...\n",
    "Rc = ...\n",
    "\n",
    "# Parameters (do not change)\n",
    "Rlambda = 0.62 # A/W\n",
    "Aphotodiode = 1e-6 #m^2\n",
    "\n",
    "# Simplifications (do not change)\n",
    "dV = 2*Ra/Rb*10.8  # Voltage range (Vhigh_threshold - Vlow_threshold) in Volts\n",
    "Idiode = 10.8/Rc # Amps\n",
    "\n",
    "### Pre-configure (do not change)\n",
    "NUM_SAMPLES = nearest_power_of_2(desired_num_samples)  # Adjusted to nearest power of 2 for fft"
   ]
  },
  {
   "cell_type": "markdown",
   "id": "90fa85a0-822b-482c-bd0c-ca578e96fd5b",
   "metadata": {},
   "source": [
    "### Light Intensity Measurement\n",
    "\n",
    "1. Set the LED brightness with Potmeter\n",
    "2. Run the measurement\n",
    "3. Extract the light intensity by following the steps suggested in the comments."
   ]
  },
  {
   "cell_type": "code",
   "execution_count": null,
   "id": "0c796c57-7aa9-4d49-871c-6f84ef158221",
   "metadata": {
    "jupyter": {
     "source_hidden": true
    }
   },
   "outputs": [],
   "source": [
    "# Run the measurement on ADC0\n",
    "Ain0 = ..."
   ]
  },
  {
   "cell_type": "code",
   "execution_count": null,
   "id": "321981f6-48f5-4c08-b3aa-2e99c31cca7f",
   "metadata": {
    "jupyter": {
     "source_hidden": true
    }
   },
   "outputs": [],
   "source": [
    "# Plot the first 1000 points of the acquired signal\n"
   ]
  },
  {
   "cell_type": "code",
   "execution_count": null,
   "id": "acffe028-f783-4af6-a699-0b8171c5f697",
   "metadata": {
    "jupyter": {
     "source_hidden": true
    }
   },
   "outputs": [],
   "source": [
    "# Plot the frequency spectrum\n",
    "\n",
    "\n",
    "# Extract the dominant frequency\n",
    "F = ...\n",
    "\n",
    "# Print the summary\n",
    "print('Measured dominant frequency = %.2f Hz' % F)"
   ]
  },
  {
   "cell_type": "code",
   "execution_count": null,
   "id": "439eaeb2-a5af-423f-87d1-2e5fc255aca2",
   "metadata": {
    "jupyter": {
     "source_hidden": true
    }
   },
   "outputs": [],
   "source": [
    "# Compute the light intensity \n",
    "L = ..."
   ]
  },
  {
   "cell_type": "code",
   "execution_count": null,
   "id": "defde555-75e0-423d-bf88-f3755de50c98",
   "metadata": {
    "jupyter": {
     "source_hidden": true
    }
   },
   "outputs": [],
   "source": [
    "# Plot the result along with the response curve\n",
    "Frange = np.linspace(0, F+5, 100)\n",
    "Lrange = np.array([Light_intensity(Fs) for Fs in Frange])\n",
    "\n",
    "plt.plot(Frange, Lrange, label='Sensor response curve') \n",
    "plt.plot([F],[L] , 'ro', label='Measured light intensity') # Plotting L at F as a red dot \n",
    "plt.xlabel('Frequency [Hz]') \n",
    "plt.ylabel('Light Intensity [W/m2]') \n",
    "plt.legend()    \n",
    "\n",
    "print('Measured light intensity %.2f W/m2   [Frequency = %.2f Hz]' % (L, F))"
   ]
  },
  {
   "cell_type": "markdown",
   "id": "80c4f129-18f2-4a06-b357-01e8d7b9ca33",
   "metadata": {},
   "source": [
    "# Compare & Conclude: per group of 4\n",
    "> <font color='grey'>⏳ Estimated time: 20 min</font>\n",
    "\n",
    "## Congratulations!\n",
    "\n",
    "This was a long and a difficult assignment, so you probably discussed it with your peers already along the way, but the final reflection gives everyone in the group a chance to compare your results, experiences and conclusions.\n",
    "\n",
    "* Please help each other understand today's results.\n",
    "* Compare your results with your other group members. \n",
    "\n",
    "**To be checked off by a TA:**\n",
    "\n",
    "1. Discuss the motivation for using the relaxation oscillator.\n",
    "2. Explain how your light-sensing relaxation oscillator works.\n",
    "   - Which voltage did you measure and why?\n",
    "   - Explain how the oscillator is charged and discharged.\n",
    "   - Explain why it might be necessary to calibrate your light sensor and how you could do that.\n"
   ]
  },
  {
   "cell_type": "code",
   "execution_count": null,
   "id": "00512a92-81b0-4b2f-9340-a49ac2175c8a",
   "metadata": {},
   "outputs": [],
   "source": [
    "### Conclusions \n",
    "\n"
   ]
  },
  {
   "cell_type": "markdown",
   "id": "8373b553-1d0c-423e-bd37-5bd2e33ac5a7",
   "metadata": {},
   "source": [
    "<font color='purple'>\n",
    "    \n",
    "# OPTIONAL <br><br> Advanced Implement & Investigate <br> Sensor Characterisation and Calibration\n",
    "\n",
    "</font>\n",
    "\n",
    "In this optional section, you can find some ideas to learn more about the working principle of your *light-sensing relaxation oscillator*. If you would like to discuss your experiments and explore further, feel free to contact Maciej (m.m.topyla@tudelft.nl) for more info."
   ]
  },
  {
   "cell_type": "markdown",
   "id": "0a725cb9-315e-40d2-aa8b-5914fb7e752c",
   "metadata": {},
   "source": [
    "## Idea 1: Sensor Characterisation\n",
    "\n",
    "Measure the frequency for across a range of LED brightness and plot *Frequency vs. DAC voltage*. \n",
    "\n",
    ">This experiment can show you qualitatively whether your sensor produces unique values in the range of light intensities of your LED, or whether a calibration is required.\n",
    "\n",
    "<details>\n",
    "<summary><font size=3>ℹ️ <b>Detailed schematic for characterising the Light Sensor</b></font></summary>  \n",
    "\n",
    "<div style=\"text-align: center\">\n",
    "<img src=\"https://gitlab.tudelft.nl/mwdocter/nb2214-images/-/raw/main/oscillator/16ImplementOverview.png\" width=1000>\n",
    "<br>\n",
    "<em>Light Sensor Characterisation</em>\n",
    "</div><br>\n",
    "<br>\n",
    "<div style=\"text-align: center\">\n",
    "<img src=\"https://gitlab.tudelft.nl/mwdocter/nb2214-images/-/raw/main/oscillator/16_Fritzing_LEDStationDAC.png\" width=1500><br>\n",
    "</div> <br><br>\n",
    "\n",
    "\n",
    "</details>  "
   ]
  },
  {
   "cell_type": "code",
   "execution_count": null,
   "id": "a597f071-ae33-4d40-9834-d6d875204afc",
   "metadata": {
    "jupyter": {
     "source_hidden": true
    }
   },
   "outputs": [],
   "source": [
    "### Settings\n",
    "desired_num_samples = 2000 # Original number of samples you wanted\n",
    "DELAY_MS = 2\n",
    "\n",
    "# Define constants\n",
    "C = 470e-9  # Capacitance in Farads\n",
    "Ra = 3.3e3\n",
    "Rb = 5e3\n",
    "Rc = 10e3\n",
    "\n",
    "Rlambda = 0.4 # A/W\n",
    "Aphotodiode = 1e-6 #m2\n",
    "\n",
    "dV = 2*Ra/Rb*10.8  # Voltage range (Vhigh_threshold - Vlow_threshold) in Volts\n",
    "Idiode = 10.8/Rc\n",
    "\n",
    "### Pre-configure\n",
    "NUM_SAMPLES = nearest_power_of_2(desired_num_samples)  # Adjusted to nearest power of 2\n",
    "#print(NUM_SAMPLES)"
   ]
  },
  {
   "cell_type": "code",
   "execution_count": null,
   "id": "b4eb6d2b-c0c1-42b9-84a4-5e4069be79a1",
   "metadata": {
    "jupyter": {
     "source_hidden": true
    }
   },
   "outputs": [],
   "source": [
    "# Plot Photocurrent vs Frequency relations for a set of Idiode\n",
    "Iphoto = np.linspace(1e-8, 1.5e-4, 100)  # Iphoto range from 0.01 µA to 150 µA\n",
    "\n",
    "# Range of Idiode values\n",
    "Idiode_values = [1e-4, 2e-4, 1e-3,10e-3]  # Idiode from 1e-4 to 1e-2 in steps\n",
    "\n",
    "# Plot for each Idiode value\n",
    "for Idiode in Idiode_values:\n",
    "    F = -Iphoto * (Iphoto - Idiode) / (C * dV * Idiode)  # Calculate frequency\n",
    "    plt.plot(Iphoto * 1e6, F, label=f\"Idiode = {1e3*Idiode:.} mA\")\n",
    "\n",
    "# Plot settings\n",
    "plt.xlabel(\"Photocurrent Iphoto (µA)\")\n",
    "plt.ylabel(\"Frequency F (Hz)\")\n",
    "plt.title(\"Frequency of Oscillation vs Photocurrent for Different Idiode\")\n",
    "plt.ylim(0,20)\n",
    "plt.grid(True)\n",
    "plt.legend(title=\"Idiode Values\")\n"
   ]
  },
  {
   "cell_type": "code",
   "execution_count": null,
   "id": "ba7d2fef-40a0-4839-8357-718e54130f92",
   "metadata": {
    "jupyter": {
     "source_hidden": true
    }
   },
   "outputs": [],
   "source": [
    "# Test your setup: Set DAC A and Measure ADC0 \n",
    "dc_voltage = 2\n",
    "a0 = SetDAC_and_MeasureADC0(dc_voltage)"
   ]
  },
  {
   "cell_type": "code",
   "execution_count": null,
   "id": "8bbc503a-b9d4-4d82-ac91-dd79c9aff2c9",
   "metadata": {
    "jupyter": {
     "source_hidden": true
    }
   },
   "outputs": [],
   "source": [
    "# Test your setup: Plot the Integrator signal acquired with ADC0\n",
    "plot_acquired_signal(a0[:1000])"
   ]
  },
  {
   "cell_type": "code",
   "execution_count": null,
   "id": "1d446cda-b5d2-44d0-aeef-618a60d0e442",
   "metadata": {
    "jupyter": {
     "source_hidden": true
    }
   },
   "outputs": [],
   "source": [
    "# Record measurements for different DC voltages from 0.0 to 2.0 V\n",
    "dc_voltages = np.linspace(0.0, 2.0, 21)\n",
    "meas_freqs = np.zeros(len(dc_voltages))\n",
    "\n",
    "for ii, dc_voltage in enumerate(dc_voltages):\n",
    "    a0 = SetDAC_and_MeasureADC0(dc_voltage)\n",
    "    meas_freqs[ii] = calculate_meas_freq(a0)\n",
    "    print('DC voltage = %.2f V, measured frequency = %.2f Hz' % (dc_voltage, meas_freqs[ii]))\n",
    "    time.sleep_ms(100)"
   ]
  },
  {
   "cell_type": "code",
   "execution_count": null,
   "id": "d7fc2962-46a5-4486-8b31-5557c7fc6f6c",
   "metadata": {
    "jupyter": {
     "source_hidden": true
    }
   },
   "outputs": [],
   "source": [
    "# Plot the measured frequency as a function of the DC voltage\n",
    "plt.plot(dc_voltages, meas_freqs)\n",
    "plt.ylabel('Measured frequency [Hz]')\n",
    "plt.xlabel('DC voltage [V]')"
   ]
  },
  {
   "cell_type": "markdown",
   "id": "c2ae5562-03c1-4200-8d7d-d3ec69af30ea",
   "metadata": {},
   "source": [
    "## Idea 2: Sensor Calibration\n",
    "\n",
    "Measure the frequency and the photocurrent simultaneously to derive the average photodiode sensitivity for the blue LED.\n",
    "\n",
    ">This experiment can help you determine whether the parameters chosen in the *Settings* section reflect the reality, or further measurements and calibration are required.\n",
    "\n",
    "<details>\n",
    "<summary><font size=3>ℹ️ <b>Detailed schematic for calibrating the Light Sensor</b></font></summary>  \n",
    "\n",
    "<div style=\"text-align: center\">\n",
    "<img src=\"https://gitlab.tudelft.nl/mwdocter/nb2214-images/-/raw/main/oscillator/16ImplementCalibration.png\" width=1000>\n",
    "<br>\n",
    "<em>Light Sensor Calibration</em>\n",
    "</div><br>\n",
    "    \n",
    "<div style=\"text-align: center\">\n",
    "<img src=\"https://gitlab.tudelft.nl/mwdocter/nb2214-images/-/raw/main/oscillator/16_Fritzing_LEDStationCalibration.png\" width=1500><br>\n",
    "</div> <br>\n",
    "\n",
    "</details>  \n"
   ]
  },
  {
   "cell_type": "code",
   "execution_count": null,
   "id": "61452dea-b865-407b-b761-3bcf74377fa6",
   "metadata": {
    "jupyter": {
     "source_hidden": true
    }
   },
   "outputs": [],
   "source": [
    "### Settings\n",
    "desired_num_samples = 2000 # Original number of samples you wanted\n",
    "DELAY_MS = 2\n",
    "\n",
    "# Define constants\n",
    "C = 470e-9  # Capacitance in Farads\n",
    "Ra = 3.3e3\n",
    "Rb = 5e3\n",
    "Rc = 10e3\n",
    "Rd = 100e3\n",
    "\n",
    "Rlambda = 0.4 # A/W\n",
    "Aphotodiode = 1e-6 #m2\n",
    "\n",
    "dV = 2*Ra/Rb*10.8  # Voltage range (Vhigh_threshold - Vlow_threshold) in Volts\n",
    "Idiode = 10.8/Rc\n",
    "\n",
    "### Pre-configure\n",
    "NUM_SAMPLES = nearest_power_of_2(desired_num_samples)  # Adjusted to nearest power of 2\n",
    "#print(NUM_SAMPLES)"
   ]
  },
  {
   "cell_type": "code",
   "execution_count": null,
   "id": "728891cf-22a0-49ea-9d37-a4bba873279d",
   "metadata": {
    "jupyter": {
     "source_hidden": true
    }
   },
   "outputs": [],
   "source": [
    "# Test your setup: Set DAC A and Measure ADC0 and ADC1\n",
    "dc_voltage = 2\n",
    "a0,a1 = SetDAC_and_MeasureADC0andADC1(dc_voltage)"
   ]
  },
  {
   "cell_type": "code",
   "execution_count": null,
   "id": "32e6e822-5ec4-4b74-aec3-05741bbbc866",
   "metadata": {
    "jupyter": {
     "source_hidden": true
    }
   },
   "outputs": [],
   "source": [
    "# Test your setup: Plot the Integrator signal acquired with ADC0\n",
    "plot_acquired_signal(a0[:1000])\n",
    "\n",
    "#print(np.max(a0)/ 65535 * 3.3 / ADC0gain)"
   ]
  },
  {
   "cell_type": "code",
   "execution_count": null,
   "id": "ea18b192-445b-4a9a-976d-83bc747e4f1f",
   "metadata": {
    "jupyter": {
     "source_hidden": true
    }
   },
   "outputs": [],
   "source": [
    "# Plot the the photocurrent signal from the Current - to - Voltage converter acquired with ADC1\n",
    "plt.plot(a1[:100] / 65535 * 3.3 / Rd * 1e6 )\n",
    "plt.ylabel(\"Photocurrent Iphoto (µA)\")\n"
   ]
  },
  {
   "cell_type": "code",
   "execution_count": null,
   "id": "7a5717ea-9f0f-4cdf-9bef-490116beb11b",
   "metadata": {
    "jupyter": {
     "source_hidden": true
    }
   },
   "outputs": [],
   "source": [
    "# Record measurements for different DC voltages from 0.0 to 3.3 V\n",
    "dc_voltages = np.linspace(0.0, 3.3, 34)\n",
    "meas_freqs = np.zeros(len(dc_voltages))\n",
    "meas_currents = np.zeros(len(dc_voltages))\n",
    "\n",
    "for ii, dc_voltage in enumerate(dc_voltages):\n",
    "    a0, a1 = SetDAC_and_MeasureADC0andADC1(dc_voltage)\n",
    "    meas_freqs[ii] = calculate_meas_freq(a0)\n",
    "    meas_currents[ii] = np.mean(a1) / 65535 * 3.3 * Rd * \n",
    "    print('DC voltage = %.2f V, measured frequency = %.2f Hz, measured current = %.2f uA' % (dc_voltage, meas_freqs[ii], meas_currents[ii]))\n",
    "    time.sleep_ms(100)"
   ]
  },
  {
   "cell_type": "code",
   "execution_count": null,
   "id": "295bfac6-a8b1-4a05-84de-1414f13150c1",
   "metadata": {
    "jupyter": {
     "source_hidden": true
    }
   },
   "outputs": [],
   "source": [
    "# Plot your results\n",
    "Lrange = np.array([light_intensity(Fs) for Fs in meas_freqs])\n",
    "Ip = Rlambda * Aphotodiode * Lrange\n",
    "\n",
    "Iphoto = np.linspace(1e-8, 1.5e-4, 100)  # Iphoto range from 0.01 µA to 150 µA\n",
    "\n",
    "F = -Iphoto * (Iphoto - Idiode) / (C * dV * Idiode)  # Calculate frequency\n",
    "plt.plot(Iphoto * 1e6, F, label=f\"Idiode = {1e3*Idiode:.} mA\",)\n",
    "    \n",
    "plt.plot(meas_currents, meas_freqs, label=f\"Measured Idiode = {1e3*ID1:.} mA\")\n",
    "# Plot settings\n",
    "plt.xlabel(\"Photocurrent Iphoto (µA)\")\n",
    "plt.ylabel(\"Frequency F (Hz)\")\n",
    "plt.title(\"Frequency of Oscillation vs Photocurrent for Different Idiode\")\n",
    "plt.ylim(0,20)\n",
    "#plt.xlim(100,101)\n",
    "plt.grid(True)\n",
    "plt.legend(title=\"Idiode Values\")"
   ]
  }
 ],
 "metadata": {
  "kernelspec": {
   "display_name": "Alpaca Kernel",
   "language": "python",
   "name": "alpaca"
  },
  "language_info": {
   "codemirror_mode": {
    "name": "ipython",
    "version": 3
   },
   "file_extension": ".py",
   "mimetype": "text/x-python",
   "name": "python",
   "nbconvert_exporter": "python",
   "pygments_lexer": "ipython3",
   "version": "3.10.14"
  }
 },
 "nbformat": 4,
 "nbformat_minor": 5
}
