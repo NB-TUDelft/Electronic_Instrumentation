{
 "cells": [
  {
   "cell_type": "markdown",
   "id": "e987aab8-1b97-4b75-abbf-9b1aa39f85a1",
   "metadata": {},
   "source": [
    "<b>For use with:</b> <font color=\"red\" ><b>Alpaca Kernel</b></font>\n",
    "<br>\n",
    "Accessibility of this notebook  \n",
    "\n",
    "    \n",
    ">- Adjust the width of the text with the function provided in the cell below. \n",
    ">- Toggle the auto-numbering of the sections in the outline toolbox (sidebar or topbar).\n",
    ">- Toggle the code line numbers in the dropdown menu of the \"view\" button in the topbar. \n",
    ">- Collapse/expand a cell by clicking the blue bar on the left side of the cell.\n",
    "\n"
   ]
  },
  {
   "cell_type": "code",
   "execution_count": null,
   "id": "de628e31-f6a6-4a10-9fb2-507d6f6ed3ec",
   "metadata": {
    "jupyter": {
     "source_hidden": true
    },
    "tags": []
   },
   "outputs": [],
   "source": [
    "from IPython.core.display import HTML\n",
    "def set_width(width):\n",
    "    display(HTML(f\"\"\"<style>  \n",
    "            .container {{ width:{width}% !important; \n",
    "                            min-width:800px !important; margin: 0 auto}} \n",
    "            .jp-Cell {{ width:{width}% !important; \n",
    "                            min-width:800px !important; margin: 0 auto}} </style>\"\"\"))\n",
    "# Set container width to X%v of the fullscreen \n",
    "set_width(50)"
   ]
  },
  {
   "cell_type": "markdown",
   "id": "acf45400-fdb5-4cdc-85a0-ffe1ec736f8f",
   "metadata": {},
   "source": [
    "**Voltammetry - Final Project**\n",
    "\n",
    "<font size=\"3\"><b> Goals - Overview:</b></font>\n",
    "\n",
    "- Week 17: Understand the design limitations and build a simple model of a potentiostat<br>\n",
    "- **Week 18: Build the potentiostat and write code for voltammetric measurements <br>**\n",
    "- Week 19: Run voltammetric measurements with different techniques and samples <br>\n",
    "\n",
    "<font size=\"3\"><b> Experiments - Week 18:</b></font>\n",
    "\n",
    "- 18A: Cyclic Voltammetry - Part 1 - Data Acquisition\n",
    "- 18B: Cyclic Voltammetry - Part 2 - Data Evaluation\n",
    "- 18o: Optional Voltammetric Techniques"
   ]
  },
  {
   "cell_type": "markdown",
   "id": "d3b9d5c7-00e7-482e-ac16-b316e0492ce8",
   "metadata": {},
   "source": [
    "# 17A - Potentiostat: Design and Limitations - Introduction\n",
    "\n",
    "## Goals\n",
    "   \n",
    "   >- Get an overview of the proposed implementations of a Potentiostat on Alpaca with Pico Pi\n",
    "   >- Understand the challenges, limitations, pros and cons in suggested designs\n",
    "   >- Choose a design for your implementation\n",
    "   >- Learn how to control the potentiostat\n",
    "\n",
    "## Structure\n",
    "\n",
    "   >- Background: 90 min\n",
    "   >- Anticipate: 5 + 60 + 30 min\n",
    "   >- Simulate:   10 + 20 + 30 min\n",
    "   >- Conclude and Choose: 15 min\n",
    "\n",
    "## Check-off rules\n",
    "   \n",
    "   >- If you are still unsure which design to choose at the beginning of the *Classroom session*, feel free to reach out to the TAs and discuss which option would be the most suitable for you and your partner.\n",
    "   >- Reach out to the TAs for checking off this notebook after completing Background + Anticipate + Simulate and discussing your results, preference and decision with your partner\n",
    "   >   - Prepare your answers (and if you still have some questions) from the Anticipate section\n",
    "   >   - Present the simulated Voltammomogram\n",
    "   >   - Discuss your answers from the Conclude and Choose section\n",
    "\n",
    "## Optional assignments\n",
    "\n",
    "1. 🏆 = Entirely optional. Interesting and useful. \n",
    "2. 🏆🏆 = Optional. Recommended.\n",
    "3. 🏆🏆🏆 = Recommended. It might be challenging, but not necessarily.\n",
    "4. 🏆🏆🏆🐐 = Challenging. Surely, it's worth it!"
   ]
  },
  {
   "cell_type": "markdown",
   "id": "35645dcd-b194-4497-b79a-67d57dbdb586",
   "metadata": {},
   "source": [
    "# Background\n"
   ]
  },
  {
   "cell_type": "markdown",
   "id": "d94fd68b-967a-408c-be41-51ba785889dc",
   "metadata": {},
   "source": [
    "## The Measurement Cell\n",
    "\n",
    "There are many approaches to constructing measurement cells. Historically, these were made from glassware, but modern techniques increasingly favor planar designs. Planar construction allows for electrodes to be screen-printed, resulting in cost-effective and disposable sensors.\n",
    "\n",
    "### Sensor\n",
    "\n",
    "Below are examples of such planar sensors, which will also be used in our experiments:\n",
    "\n",
    "<div style=\"text-align: center\">\n",
    "<img src=\"https://gitlab.tudelft.nl/mwdocter/nb2214-images/-/raw/main/voltammetry/sensors.JPG\" width=500><br>\n",
    "<em>Sensors</em>\n",
    "</div><br>\n",
    "\n",
    "These sensors are printed on a foil substrate, except for the Metrohm sensor, which is printed on a ceramic base. The brown strip on the right acts as a support strip, providing mechanical stability for the foil sensors.\n",
    "\n",
    "All sensors share a standard connection method, as shown below:\n",
    "\n",
    "<div style=\"text-align: center\">\n",
    "<img src=\"https://gitlab.tudelft.nl/mwdocter/nb2214-images/-/raw/main/voltammetry/sensor_connection.jpg\" width=500><br>\n",
    "<em>Sensor Connections</em>\n",
    "</div><br>\n",
    "\n",
    "At the top is the Voltammetry Adapter, designed for use with a breadboard. Below it is the sensor. Since foil sensors are only 0.2 mm thick, the brown strip serves as a filler, ensuring mechanical stability when the sensor is inserted into the adapter.\n",
    "\n",
    "The adapter includes a GND connection linked to a copper plane on the circuit board. When grounded, this acts as a shield to minimize interference from external sources, such as the 50 Hz noise from power lines.\n",
    "\n",
    "In the adapter, pairs of pins are connected in parallel, making them compatible with standard breadboard contact arrangements.\n",
    "\n",
    "Below is an example of how the adapter connects to the ALPACA system:\n",
    "\n",
    "<div style=\"text-align: center\">\n",
    "<img src=\"https://gitlab.tudelft.nl/mwdocter/nb2214-images/-/raw/main/voltammetry/sensor_ALPACA.JPG\" width=500><br>\n",
    "<em>Sensor Connected to the ALPACA</em>\n",
    "</div>\n",
    "\n",
    "Finally, detailed photographs of the Voltammetry Adapter board are provided below:\n",
    "\n",
    "<div style=\"text-align: center\">\n",
    "<img src=\"https://gitlab.tudelft.nl/mwdocter/nb2214-images/-/raw/main/voltammetry/voltammetry_adapter_board.JPG\" width=500><br>\n",
    "<em>Voltammetry Adapter Board</em>\n",
    "</div>\n",
    "\n",
    "<div style=\"text-align: center\">\n",
    "<img src=\"https://gitlab.tudelft.nl/mwdocter/nb2214-images/-/raw/main/voltammetry/voltammetry_adapter_board_backside.JPG\" width=500><br>\n",
    "<em>Voltammetry Adapter Board - Back Side (Yellow = Support)</em>\n",
    "</div>"
   ]
  },
  {
   "cell_type": "markdown",
   "id": "dccab32c-7291-45a2-aa4e-7ed1c9d7569a",
   "metadata": {},
   "source": [
    "### Cell Models\n",
    "\n",
    "In the development of measurement systems, extensive testing is often required. When testing procedures focus on the electronic components, it is often practical to simplify or bypass the processes occurring in the electrochemical measurement cell. This can be achieved by replacing the chemical cell with a simple, predictable circuit.\n",
    "\n",
    "Below are two example models for this purpose:\n",
    "\n",
    "<div style=\"text-align: center\">\n",
    "<img src=\"https://gitlab.tudelft.nl/mwdocter/nb2214-images/-/raw/main/voltammetry/2024/CellModels.png\" width=1200><br>\n",
    "    <em>Cell Models</em>\n",
    "</div><br>\n",
    "\n",
    "#### Measurement Cell Model 1 - Linear \n",
    "\n",
    "This basic model uses two resistors, the values of which can be selected based on the specific testing requirements. For our current setup, resistor values in the range of 1 kΩ to 10 kΩ are appropriate. This model provides a straightforward and predictable behavior, ideal for initial testing of electronic components.\n",
    "\n",
    "#### Measurement Cell Model 2 - Non-linear\n",
    "\n",
    "This model introduces a more complex, non-linear behaviour by incorporating a Zener diode. In practice, this means that the signal from the potentiostat will be distinctly different for a negative and a positive cell potential, unlike in Model 1. This response mimics the measurement of a netural *Buffer solution* and can be very useful and significantly faster for testing of your complete setup. For example, for testing your *Cyclic Voltammetry* code.\n",
    "\n",
    "##### Replacements for the Zener diode\n",
    "\n",
    ">When the goal is to achieve an asymmetric response of the Measurement Cell Model, Zener diode can be replaced with various components, for example:\n",
    ">\n",
    ">1. a Si-diode ($V_{th\\,Diode} = 0.6 V$) and a LED ($V_{th\\,LED} = 2 V$) <br>connected in parallel - with opposing polarity.\n",
    ">   \n",
    ">2. a Si-diode ($V_{th\\,1xDiode} = 0.6 V$) connected in parallel to two Si-diodes in series <br> ($V_{th\\,2xDiode} = 1.2 V$), but in reverse polarity with respect to the single diode. <br> This combination produces a similar behaviour as LED, but across a smaller range of simulated cell potentials, which might be more practical in some designs or applications."
   ]
  },
  {
   "cell_type": "markdown",
   "id": "dda2466f-4c6e-4c95-bf51-84e903a484b7",
   "metadata": {},
   "source": [
    "## Potentiostat - Principle of Operation\n",
    "\n",
    "In the three-electrode potentiostat, two electrodes are used to conduct the current, while the third electrode is dedicated solely to measuring potential. Since the potential-measuring electrode carries no current, the voltage drop across its resistance in the liquid is zero volts, as per Ohm’s law: $ U = I \\cdot R = 0 \\cdot R = 0 \\, \\text{V}. $\n",
    "\n",
    "The general arrangement of this setup is shown below:\n",
    "\n",
    "<div style=\"text-align: center\">\n",
    "<img src=\"https://gitlab.tudelft.nl/mwdocter/nb2214-images/-/raw/main/voltammetry/2024/Convention.png\"><br>\n",
    "    <em>Potentiostat</em>\n",
    "</div><br>\n",
    "\n",
    "In this system:\n",
    "- The **Counter Electrode (CE)** and the **Working Electrode (WE)** carry the current.\n",
    "- The current is measured using an Ampere-meter (Am).\n",
    "- The potential $U_{cell}$ of the **Working Electrode (WE)** is measured relative to the **Reference Electrode (Ref)** using a voltmeter (Vm).\n",
    "- A variable voltage source $U_{\\text{var}}$ powers the entire setup.\n",
    "\n",
    "The potential of the working electrode ($U_{cell}$) is the parameter controlled in this setup. The voltage source $U_{\\text{var}}$ is adjusted to achieve the desired $U_{cell}$. Typically, $U_{cell}$ is not held constant but is swept across a range of voltages defined by the sample under study. \n",
    "\n",
    "> Historically, potentiostats required manual operation, with users adjusting $U_{\\text{var}}$ while monitoring the voltmeter and recording current measurements. Modern potentiostats, however, are computer-controlled, with a feedback loop that automatically fine-tunes $U_{\\text{var}}$ to maintain the desired $U_{cell}$.\n",
    "\n",
    "### Computer-Controlled Potentiostat\n",
    "\n",
    "The operation of a computer-controlled potentiostat is illustrated in the diagram below:\n",
    "\n",
    "<div style=\"text-align: center\">\n",
    "<img src=\"https://gitlab.tudelft.nl/mwdocter/nb2214-images/-/raw/main/voltammetry/2024/CompPotentiostat.png\"><br>\n",
    "    <em>Computer-Controlled System</em>\n",
    "</div><br>\n",
    "\n",
    "In this setup:\n",
    "- A voltage source $U_{\\text{sweep}}$ can generate negative and positive voltages and sets the desired value for $U_{cell}$.\n",
    "- A feedback loop, implemented using an operational amplifier (OPAMP1), adjusts the voltage of the CE. This ensures that the measured $U_{\\text{cell}}$ reflects $U_{\\text{sweep}}$, i.e., $U_{cell} = \\text{GND} - U_{\\text{sweep}}$ and so:\n",
    "$$\n",
    "U_{\\text{cell}} = - U_{\\text{sweep}}\n",
    "$$\n",
    "In the schematic, the Ampere-meter (Am) is idealized to have no voltage drop. However, in real-world applications, a small voltage drop across the Ampere-meter can result in a slight discrepancy between $U_a$ and $U_{\\text{sweep}}$.\n",
    "\n",
    "> The voltage sweep range is chosen based by expected the properties of the sample being analyzed and the composition of the surrounding solution. It often spans from the negative to positive voltages.\n",
    ">\n",
    "> **During the sweep, the current $I_{cell}$ can take on positive or negative values, regardless of the value of $U_{cell}$, because it depends on the chemical reaction taking place in the cell and the conditions of the measurement.**\n",
    ">\n",
    "> This wide range of possibilities causes a technical challenge for controlling and measuring such a system, and it is the case with Pico Pi and Alpaca.\n",
    "\n",
    "#### Potentiostat Controlled with Positive Voltages Sources \n",
    "\n",
    "The configuration explained in the previous section can be extended by an additional voltage source $U_{\\text{offset}}$.\n",
    "\n",
    "<div style=\"text-align: center\">\n",
    "<img src=\"https://gitlab.tudelft.nl/mwdocter/nb2214-images/-/raw/main/voltammetry/2024/CompPotentiostatOffset.png\"><br>\n",
    "    <em>Potentiostat Controlled with two Voltages Sources</em>\n",
    "</div><br>\n",
    "\n",
    "Thanks to this, both negative and positive $U_{\\text{cell}}$ can be set using voltage sources that output only positive voltages: \n",
    "$$\n",
    "U_{\\text{cell}} = U_{\\text{offset}} - U_{\\text{sweep}}\n",
    "$$\n",
    "\n",
    "\n"
   ]
  },
  {
   "cell_type": "markdown",
   "id": "0dc3a523-7af1-4583-a396-f5cbcd7c38dc",
   "metadata": {},
   "source": [
    "### Current measurement\n",
    "\n",
    "\n",
    "Measuring current in a circuit can be accomplished in several ways. One common method involves placing a resistor in series with the circuit and measuring the voltage drop across it. While simple and effective, this technique introduces an additional voltage drop into the circuit, which may lead to errors. Whether this is acceptable depends on the circuit's requirements and the magnitude of the introduced error.\n",
    "\n",
    "<details>\n",
    "<summary><font size=3>🏆</font> <b>Optional Challenge</b></summary>\n",
    "\n",
    "> Implement this technique in your potentiostat and compare it with the suggested designs. Make sure to report your observations.\n",
    "\n",
    "</details> \n",
    "<br>\n",
    "\n",
    "Preferably, an operational amplifier (OPAMP) can be used as a current-to-voltage converter. This method allows for current measurement with negligible voltage drop. However, the measurement range is limited by the current-handling capacity of the OPAMP.\n",
    "\n",
    "In voltammetry, where currents typically range from microamperes to milliamperes, OPAMP-based current measurement is highly effective. Below is an example of such a circuit:\n",
    "\n",
    "<div style=\"text-align: center\">\n",
    "<img src=\"https://gitlab.tudelft.nl/mwdocter/nb2214-images/-/raw/main/voltammetry/2024/CompPotConverter.png\"><br>\n",
    "    <em>Current Measurement</em>\n",
    "</div><br>\n",
    "\n",
    "In this circuit:\n",
    "1.  There is only one voltage source to control the potentiostat, which means that it must be able to generate negative voltages, if the positive $U_{\\text{cell}}$ is desired, and vice versa. <br>\n",
    "    <details>\n",
    "    <summary> <font size=4>💡</font> <b>Hint</b></summary>\n",
    "    \n",
    "    > Alpaca's `DAC Assistant` can be used in this case.\n",
    "    \n",
    "    </details> \n",
    "    <br>\n",
    "\n",
    "3. The voltage $U_a$ represents the current ($I_{\\text{cell}}$).\n",
    "    -  The cell current ($I_{\\text{cell}}$) is converted into a voltage by the OPAMP2 acting as a current-to-voltage converter in combination with the feedback resistor $R_f$.\n",
    "    -  The value of $R_f$ should be carefully chosen to ensure the current of interest utilizes the full range of the analog-to-digital converter (ADC).\n",
    "    -   The conversion is described by the equation: $U_{a} = - ( - I_{\\text{cell}} ) \\cdot R_f$, which simplifies to:\n",
    "        $$ \n",
    "        U_{a} = I_{cell} \\cdot R_f\n",
    "        $$\n",
    "    -   A positive current results in a positive voltage, and vice versa. <br>\n",
    "        <details>\n",
    "        <summary> <font size=4>💡</font> <b>Hint</b></summary>\n",
    "        \n",
    "        >If this configuration is implemented on Alpaca, the signal must be measured via the non-inverting and the inverting amplifier using two separate ADCs simulataneously, <br>i.e. `AMP0:SIGNAL+ to ADC0` and `AMP1:SIGNAL- to ADC1`, and then added together.\n",
    "        \n",
    "        </details> \n",
    "        <br>    "
   ]
  },
  {
   "cell_type": "markdown",
   "id": "2cb493d8-16f4-4326-a6fe-2d49810cf71c",
   "metadata": {},
   "source": [
    "####  Current-to-Voltage Converter with Offset\n",
    "\n",
    "Additionally, the output range of the OPAMP-based current-to-voltage converter can be adjusted with an offset voltage source $U_{\\text{offset}}$ at the non-inverting input of the OPAMP2. \n",
    "\n",
    "<div style=\"text-align: center\">\n",
    "<img src=\"https://gitlab.tudelft.nl/mwdocter/nb2214-images/-/raw/main/voltammetry/2024/CompPotConverterOffset.png\"><br>\n",
    "    <em>Current Measurement with Offset</em>\n",
    "</div><br>\n",
    "\n",
    "In this circuit:\n",
    "1. The conversion is described by the equation: \n",
    "    $$ \n",
    "    U_{a} = I_{cell} \\cdot R_f + U_{offset}\n",
    "    $$\n",
    "2. Positive currents result in positive voltages, but with an offset.\n",
    "   \n",
    "4. Additionally, a pre-defined range of negative currents also results in a positive voltages.\n",
    "   <details>\n",
    "    <summary> <font size=4>💡</font> <b>Hint</b></summary>\n",
    "       \n",
    "   > Note that:\n",
    "   > - $U_{\\text{offset}}$ affects the value of $U_{\\text{cell}}$\n",
    "   > - Setting $U_{\\text{offset}} = 0V$ reduces this system to the previous one.\n",
    "   </details> "
   ]
  },
  {
   "cell_type": "markdown",
   "id": "0ca2245a-4a4a-4a01-b1bd-beee04fbc1e4",
   "metadata": {
    "jp-MarkdownHeadingCollapsed": true
   },
   "source": [
    "#### Handling Noise \n",
    "\n",
    "##### Filtering with a *Tamed* Integrator\n",
    "One of the easiest to implement and a very effective method to increase the signal-to-noise ratio and to improve the quality of your measurements is to use filters. A simple addition of a capacitor parallel to the feedback line of the current-to-voltage converter creates a low-pass filter between the Measurement Cell and the Voltmeter.\n",
    "\n",
    "<div style=\"text-align: center\">\n",
    "<img src=\"https://gitlab.tudelft.nl/mwdocter/nb2214-images/-/raw/main/voltammetry/2024/CellConverterFIlter.png\"><br>\n",
    "    <em>Current-to-Voltage Converter with a Low-pass Filter</em>\n",
    "</div><br>\n",
    "\n",
    "<details>\n",
    "<summary><font size=4>💡</font> <b>Hint</b></summary>\n",
    "\n",
    "> Keep in mind that setting the cut-off frequency of the filter too low might obscure some essential information in your results, so use your intuition first to set a cut off frequency for a given set of parameters, and test your setup before running the actual measurement.\n",
    "</details>\n",
    "\n",
    "<details>\n",
    "<summary><font size=3>🏆🏆🏆</font> <b>Optional</b></summary>\n",
    "\n",
    "> Think at which other points in the circuit of your setup filtering could be applied. It might require some creativity and a closer look at the Alpaca's main circuit diagram. Do let us know your about your ideas before trying! But if you give it a thought, make sure to include that in your report.\n",
    "</details>\n",
    "\n",
    "##### Averaging\n",
    "\n",
    "For the extra bit of noise below the cut-off frequency, averaging over several measurements in a very short time can dramatically improve your results. However, pay attention to the often neglected issue that each measurement takes time, and if it's not accounted for properly in your procedure, your measurement results might deviate from the expectation."
   ]
  },
  {
   "cell_type": "markdown",
   "id": "d8881eb7-7f74-4ff0-a8a9-42d8bc474204",
   "metadata": {},
   "source": [
    "## Potentiostat - Design\n",
    "\n",
    "The considerations of the previous section can be summarised in three functions of a potentiostat that will guide the design choices:\n",
    "1. Controlling $U_{\\text{cell}}$\n",
    "2. Controlling $I_{\\text{cell}}$-to-$U_{\\text{a}}$ conversion\n",
    "3. Measuring $U_{\\text{a}}$\n",
    "\n",
    "Based on the functionality and the limitations of Alpaca and Pico Pi, we outlined two design options for a Potentiostat. Their features, as well as, some key advantages and disadvantages are presented in this section."
   ]
  },
  {
   "cell_type": "markdown",
   "id": "c4977810-949a-402a-bb2b-8ca0f60d1cbf",
   "metadata": {
    "jp-MarkdownHeadingCollapsed": true
   },
   "source": [
    "### Basic Design (Design B) \n",
    "\n",
    "This design is recommended when ease of use is prioritised.\n",
    "\n",
    "#### Layout\n",
    "<div style=\"text-align: center\">\n",
    "<img src=\"https://gitlab.tudelft.nl/mwdocter/nb2214-images/-/raw/main/voltammetry/2024/DesignB+ADC.png\"><br>\n",
    "    <em>Potentiostat - Basic Design</em>\n",
    "</div><br>\n",
    "\n",
    "In this design, current measurement is realised via the standard current-to-voltage converter without the offset (`Uoffset = GND`). This approach has the following implications for the implementation on Alpaca:\n",
    "1. In order to control `Ucell` across a range of positive and negative values, `DAC Assistant` has to be used.\n",
    "    <details>\n",
    "    <summary><font size=4>💡</font> <b>Hint</b></summary>\n",
    "\n",
    "    > Think carefully what is the output of `DAC Assistant: OUT`, when `DACA` is not active, so `DACA=0V`. Check the section *Disconnecting the measurement cell* below for more information.\n",
    "    </details>\n",
    "2. `Ua` can be both positive and negative, so to obtain reliable and precise results, this signal has to be measured with two channels simultaneously;\n",
    "   - one configured to measure the positive part of the signal `AMP0:SIGNAL+ to ADC0`\n",
    "   - and the other, to measure the negative part of the signal `AMP1:SIGNAL- to ADC1`.<br>\n",
    "   In this configuration, `AMP0` acts as a non-inverting amplifier and `AMP1` as an inverting amplifier. Further details on the correct settings will be presented later in this assignment. You can also find further instructions in the Alpaca Manual.\n",
    "3. 🏆🏆🏆 **Optional:** The original `DACA` values before they're converted to `DAC Assistant:OUT` can be measured independently via `Ain2` for reference.\n",
    "\n",
    "#### Advantages\n",
    "\n",
    "1. Intuitive control of `Ucell` and evaluation of `Icell`\n",
    "2. Wide range of `Ucell`, from -10V to ca. +5V\n",
    "3. Wide range of `Icell`, thanks to the dual channel measurement\n",
    "\n",
    "#### Disadvantages\n",
    "\n",
    "1. Lower accuracy of and lower resolution of `Ucell` control\n",
    "2. Lower accuracy for measurements of low voltages `-100mV<Ua<100mV` because of the dual-channel measurement\n",
    "3. Higher total noise\n",
    "4. `Relay` must be used to disconnect the Measurement Cell at idle operation\n",
    "\n",
    "<details>\n",
    "<summary><font size=4>🔌<b>Disconnecting the Measurement Cell</b></font></summary>\n",
    "<br>\n",
    "The electrochemical reaction within the measurement cell continues as long as a current can flow. To prevent undesired reactions during idle periods, it's crucial to make sure that the signals applied to the cell do not generate a substantial current.\n",
    "\n",
    "This can be achieved by setting the voltage to the cell to zero, by controlling the voltage in the potentiometric regulation loop. This comes with its own challenges in this design, which you will discover during the test procedures.\n",
    "\n",
    "Alternatively, the relay on the ALPACA board can be used to electrically disconnect the measurement cell from the control setup. The relay is located on the ALPACA board, close to the construction site. It can be controlled using the pin labelled `Relay` on `J8`. The relay will react (energize the electro-magnet) when a signal 3.3V or 5V is applied to the pin “relay”.\n",
    "\n",
    "<div style=\"text-align: center\">\n",
    "<img src=\"https://gitlab.tudelft.nl/mwdocter/nb2214-images/-/raw/main/voltammetry/diconnect_via_relay.JPG\" width=400><br>\n",
    "    <em>ALPACA's Relay</em>\n",
    "</div><br>\n",
    "\n",
    ">In its **default state**, the electromagnet is not energized:\n",
    ">- the relay connects the `COMMON` terminal to the `NORMAL CLOSED`. <br>\n",
    ">\n",
    ">In its **energized state**, the electromagnet switches this connection:\n",
    ">- and the relay links the `COMMON` terminal with `NORMAL OPEN`, effectively connecting the measurement cell.\n",
    ">\n",
    ">\n",
    ">\n",
    "> Use the `GPIO14` pin of `J1` on Cria to control the action of the relay. <br>\n",
    "> You can instantiate and manipulate the Python object for the relay with:\n",
    "> ```python\n",
    "> from machine import Pin\n",
    "> relay = Pin(14, Pin.OUT)\n",
    "> relay.value(0) ## OFF\n",
    "> relay.value(1) ## ON\n",
    "> ``` \n",
    "\n",
    "Have a look into the Alpaca Manual (Download from Brightspace) for more info on the use of the relay and **a complete Alpaca circuit layout on the last page of the manual.**\n",
    "\n",
    "\n",
    "</details>\n"
   ]
  },
  {
   "cell_type": "markdown",
   "id": "f550d348-faa6-4d18-9925-253642654682",
   "metadata": {},
   "source": [
    "### Design A (Advanced)\n",
    "\n",
    "This design is recommended for high quality measurements.\n",
    "\n",
    "#### Layout\n",
    "\n",
    "<div style=\"text-align: center\">\n",
    "<img src=\"https://gitlab.tudelft.nl/mwdocter/nb2214-images/-/raw/main/voltammetry/2024/DesignA+ADC.png\"><br>\n",
    "    <em>Potentiostat - Advanced Design</em>\n",
    "</div><br>\n",
    "\n",
    "In this design, current measurement is realised via the current-to-voltage converter with offset (`Uoffset = DACB`). This approach has the following implications for the implementation on Alpaca:\n",
    "1. In order to control `Ucell` across a range of positive and negative values, `DACA` and `DACB` are used directly in combination. They can be configured such that `Ucell` takes positive or negative values.\n",
    "2. The offset `Uoffset` can be set such that `Ua` takes only positive values for a range of currents, negative and positive, and thus, `Ua` can be measured with a single analog-to-digital converter, for example: `ADC0` via `AMP0:SIGNAL+`.\n",
    "3. 🏆🏆🏆 **Optional:** `DACA` and `DACB` can be measure independently via `Ain1` or `AMP1:SIGNAL+` and `Ain2` for reference.\n",
    "\n",
    "#### Advantages\n",
    "\n",
    "1. Higher accuracy and a higher resolution of `Ucell` control.\n",
    "2. Precise measurement with a single ADC across a range of negative and positive cell currents.\n",
    "3. Lower total noise.\n",
    "4. 🏆🏆🏆🐐 **Optional:** Range of `Ua` can be adjusted programatically.\n",
    "5. 🏆🏆🏆🐐 **Optional:** `Relay` is available and can be used for switching `Rf` on demand.\n",
    "\n",
    "#### Disadvantages\n",
    "\n",
    "1. Control of `Ucell` and evaluation of `Icell` are slightly more complicated\n",
    "2. Lower range of `Ucell`\n",
    "3. Lower range of `Icell`\n",
    "4. Depending on the control procedure the range of `Icell` measured via `Ua` might be correlated with the value of `Ucell`  \n"
   ]
  },
  {
   "cell_type": "markdown",
   "id": "f74a77a9-75ad-4afc-8d14-fdca68682b85",
   "metadata": {},
   "source": [
    "# Anticipate"
   ]
  },
  {
   "cell_type": "markdown",
   "id": "e7a633f5-11b4-4c93-a2ff-3c83f3ad7825",
   "metadata": {},
   "source": [
    "## A1: Identify and make considerations about known design limitations of Alpaca and Pico Pi\n",
    "\n",
    "> <font color='grey'>⏳ Estimated time: 5 + 60 + 30  min</font>"
   ]
  },
  {
   "cell_type": "markdown",
   "id": "b4bce6a9-1cdc-4e8d-bb4b-2f7dca433450",
   "metadata": {},
   "source": [
    "### Range and Resolution\n",
    "\n",
    "What is the available range and resolution of: \n",
    "\n",
    "1. Pico Pi's analog-to-digital converters (ADC)?\n",
    "2. Alpaca's digital-to-analog converters (DAC)?"
   ]
  },
  {
   "cell_type": "code",
   "execution_count": null,
   "id": "b5778a53-c0d9-491f-bd41-f62b4bb75c6e",
   "metadata": {},
   "outputs": [],
   "source": []
  },
  {
   "cell_type": "markdown",
   "id": "bd8ceda5-2eb7-44d8-8136-24a6d55d7f71",
   "metadata": {},
   "source": [
    "### Device timer\n",
    "\n",
    "Recall the smallest value of `DELAY_MS` used in your previous experiments with Pico.\n",
    "\n",
    "1. What is then the highest sampling rate achievable with Pico?\n",
    "2. 🏆 **Optional:** Do you think it is reliable and consistent?<br>\n",
    "    > In one of the experiments in the notebook 17B, you will have a chance to explore some timing peculiarities and timing inconsistencies of Pico Pi."
   ]
  },
  {
   "cell_type": "code",
   "execution_count": null,
   "id": "5cc87e21-6ae7-4dc0-b81e-0519f12af84c",
   "metadata": {},
   "outputs": [],
   "source": []
  },
  {
   "cell_type": "markdown",
   "id": "09fbadde-349e-4f78-9845-60b0629cbb70",
   "metadata": {},
   "source": [
    "### Opamps\n",
    "\n",
    "1. What are the highest and the lowest outputs of the OPAMPs that you **measured** in the previous assignments? <br> *Keep this in mind throughout the project and also when answering the questions in A2.*\n",
    "2. Are you expecting the $U_{\\text{offset}}$ and $I_{\\text{bias}}$ of the OPAMPs to affect your measurement significantly?"
   ]
  },
  {
   "cell_type": "code",
   "execution_count": null,
   "id": "f8a3acf1-f450-4715-874a-f21b056c0a45",
   "metadata": {},
   "outputs": [],
   "source": []
  },
  {
   "cell_type": "markdown",
   "id": "985af9f9-1bb3-47f4-94d2-da8bd5e1a7d8",
   "metadata": {},
   "source": [
    "## A2: Predict signals\n",
    "\n",
    "We would to encourage you to choose the *Advanced Design* for this project. However, if you decide to go with the *Basic Design*, you may consider the tasks in the *Advanced* track as optional.\n",
    "\n",
    "- **A2.1: Required**\n",
    "- **A2.2: Required only for the Advanced design - Recommended!**"
   ]
  },
  {
   "cell_type": "markdown",
   "id": "412dd229-e7b1-48d3-a6b5-d94cbc34d1a8",
   "metadata": {},
   "source": [
    "### A2.1 Design B (Basic) - Linear Potentiostat Model\n",
    "\n",
    "<div style=\"text-align: center\">\n",
    "<img src=\"https://gitlab.tudelft.nl/mwdocter/nb2214-images/-/raw/main/voltammetry/2024/DesignBModel1+ADC.png\"><br>\n",
    "    <em>Linear Potentiostat Model - Basic Design</em>\n",
    "</div><br>"
   ]
  },
  {
   "cell_type": "markdown",
   "id": "06a6f8e3-a4d7-4bbd-ae03-88e4fd5e3c59",
   "metadata": {},
   "source": [
    "1. Recall the answer from *Anticipate1: Resolution* and compute the smallest $U_{\\text{cell}}$ step when *DAC Assistant* is used to control it."
   ]
  },
  {
   "cell_type": "code",
   "execution_count": null,
   "id": "0c8cd074-cc72-47f8-97dc-17db44460b37",
   "metadata": {},
   "outputs": [],
   "source": []
  },
  {
   "cell_type": "markdown",
   "id": "115dac25-9344-4218-9b06-bd370138ed0f",
   "metadata": {},
   "source": [
    "2. Derive the formula for $U_a$ as a function of $U_{DAC A}$"
   ]
  },
  {
   "cell_type": "code",
   "execution_count": null,
   "id": "6e74a18d-553b-4bdc-888e-ff003274b3c1",
   "metadata": {},
   "outputs": [],
   "source": []
  },
  {
   "cell_type": "markdown",
   "id": "dc604e1f-f1ac-48ba-a0a1-4cf16c08e9c6",
   "metadata": {},
   "source": [
    "3. Compute the range of $U_{DAC A}$ required to generate $U_{DAC Assistant} = (-3V ,3V)$ "
   ]
  },
  {
   "cell_type": "code",
   "execution_count": null,
   "id": "b832b894-3ee7-486e-bcdf-eafbc4c24e4b",
   "metadata": {},
   "outputs": [],
   "source": []
  },
  {
   "cell_type": "markdown",
   "id": "5068b048-d288-4bd2-ad1b-b505fe2141a3",
   "metadata": {},
   "source": [
    "4. Compute the range of $I_{cell}$ generated by $U_{DAC Assistant} = (-3V ,3V)$ for:\n",
    "\n",
    "   1. $R_1 = R_2 = 1k\\Omega$\n",
    "   2. $R_1 = R_2 = 10k\\Omega$"
   ]
  },
  {
   "cell_type": "markdown",
   "id": "c42bc21b-1491-4cd3-9b67-5ded7aaff274",
   "metadata": {},
   "source": [
    "5. Compute the ranges of $U_a$ generated by $U_{DAC Assistant} = (-3V ,3V)$ for:\n",
    "\n",
    "    1. $R_1 = R_2 = 1k\\Omega$ and $R_f = 1k\\Omega$\n",
    "    2. $R_1 = R_2 = 1k\\Omega$ and $R_f = 3.3k\\Omega$\n",
    "    3. $R_1 = R_2 = 10k\\Omega$ and $R_f = 10k\\Omega$\n",
    "    4. $R_1 = R_2 = 10k\\Omega$ and $R_f = 33k\\Omega$"
   ]
  },
  {
   "cell_type": "code",
   "execution_count": null,
   "id": "18da7a0b-9738-4d4c-b10d-99711df8e3c9",
   "metadata": {},
   "outputs": [],
   "source": []
  },
  {
   "cell_type": "markdown",
   "id": "4bdacfdc-8acd-4517-b8a6-ab1bc0c0046c",
   "metadata": {},
   "source": [
    "5. Which attenuation and the jumper setting (A,B,C,D,E) on Alpaca's `ATTENUATOR` on `J42` of the `AMP0` would you choose to make the best use of the available range of `ADC0=(0,3.3V)` when capturing the positive signals via `J40:SIGNAL+`? Answer the question for each of the cases above\n",
    "   <details>\n",
    "   <summary><font size=4>💡</font> <b>Hint</b></summary>\n",
    "\n",
    "   > - What is the highest value of `Ua` possible?\n",
    "   > - What is the highest value of `Ua` that can be measured at each attenuation factor?\n",
    "   > - Use the relevant table from the Alpaca Manual in section  *2.10 The Amplifier* to match the attenuation with the jumper setting.\n",
    "   </details>\n",
    "   \n",
    "   "
   ]
  },
  {
   "cell_type": "code",
   "execution_count": null,
   "id": "0b4a0e00-41a7-4a54-9749-72ff1513fabd",
   "metadata": {},
   "outputs": [],
   "source": []
  },
  {
   "cell_type": "markdown",
   "id": "0b84c61c-07e2-48d8-927c-f493ee185366",
   "metadata": {},
   "source": [
    "6. You will use `AMP1` to measure the negative part of the signal via `J60:SIGNAL-`. In the default setting - recommended - the inverting amplifier `AMP1:SIGNAL-` has a resistor `R69=100k` on the feedback line. So, in order to use it as an attenuator, you can simply insert a resistor between the output `Ua` and `AMP1:SIGNAL-`.\n",
    "   - Calculate the resistor $R_{preamp}$ that you need to add to your circuit on the breadboard between `Ua` and `J60:SIGNAL-` to match the attenuation selected for the positive inputs via `ADC0` in the previous question.\n",
    "\n",
    " <details><summary><font size=4>💡</font> <b>Using AMP1 as an inverting attenuator</b></summary> \n",
    "\n",
    ">\n",
    "> If you have a look into the Alpaca's circuit diagram in the Alpaca Manual, the last page, and find the circuit of the amplifier associated with `ADC1` (*Hint: Look for jumpers and resistors in series *60*, i.e. `J62` or `R69` to find `AMP1`*), you will notice that the `J62:ATTENUATOR` only works for signals measured via `J60:SIGNAL+`.\n",
    ">\n",
    "> Reading and understanding Alpaca's circuit diagram may seem daunting and complicated at first, but it turns out that in order to attenuate a negative input and match the attenuation on the positive part of the signal, you will simply have to add an extra resistor before the inverting input of the OPAMP.  \n",
    "> \n",
    "> The default setting for `J60:SIGNAL-` is `GAIN=-1` and it is realised with the following combination:\n",
    "> 1. `Ua` to `J60:SIGNAL- = J60:3` \n",
    "> 2. `J60:SIGNAL+ = J60:2` to `J60:GND = J60:1`\n",
    "> 3. `J60:DC`\n",
    "> 5. `J62:1-4 = J62:B = 0 Ohm`\n",
    "> 6. `J63:1-4 = J63:B = 0 Ohm`\n",
    "> 7. `J65:1-4 = J65:B = 0 Ohm`\n",
    "> 8. No jumpers on `J64` and `J17`\n",
    "</details>"
   ]
  },
  {
   "cell_type": "code",
   "execution_count": null,
   "id": "64070e5e",
   "metadata": {},
   "outputs": [],
   "source": []
  },
  {
   "cell_type": "markdown",
   "id": "43b53fce",
   "metadata": {},
   "source": [
    "### A2.2 Design A (Advanced) - Linear Potentiostat Model\n",
    "\n",
    "<div style=\"text-align: center\">\n",
    "<img src=\"https://gitlab.tudelft.nl/mwdocter/nb2214-images/-/raw/main/voltammetry/2024/DesignAModel1+ADC.png\"><br>\n",
    "<em>Linear Potentiostat Model - Advanced Design</em>\n",
    "</div><br>\n"
   ]
  },
  {
   "cell_type": "markdown",
   "id": "6136243d",
   "metadata": {},
   "source": [
    "1. Recall the answer from *Anticipate1: Resolution* and compute the smallest $U_{\\text{cell}}$ step when `DAC A` and `DAC B` are used to control it."
   ]
  },
  {
   "cell_type": "code",
   "execution_count": null,
   "id": "44f39a12-3c35-4452-bbae-b9816d30605d",
   "metadata": {},
   "outputs": [],
   "source": []
  },
  {
   "cell_type": "markdown",
   "id": "ce0ee6ab",
   "metadata": {},
   "source": [
    "2. Derive the formula for `Ua` as a function of `DAC A` and `DAC B`, and calculate the maximum range of $U_{cell}$ achievable with this configuration."
   ]
  },
  {
   "cell_type": "code",
   "execution_count": null,
   "id": "7304ffa1",
   "metadata": {},
   "outputs": [],
   "source": []
  },
  {
   "cell_type": "markdown",
   "id": "d54d80f0",
   "metadata": {},
   "source": [
    "3. There are at least three procedures to control `Ucell` and operate the potentiostat:\n",
    "\n",
    "   >1. Use `DAC A` to fix the potential of the `Ref` and use `DAC B` to control the `Ucell`\n",
    "   >2. Use `DAC B` to fix the potential of the `WE` and use `DAC A` to control the `Ucell`\n",
    "   >3. Modulate `DAC A` and `DAC B` simultaneously to control the `Ucell`\n",
    "   \n",
    "   Each procedure has its pros and cons when used to perform a voltage sweep across the Measurement Cell. <br><br>\n",
    "\n",
    "   🏆🏆🏆 **Optional:** List pros and cons for each control procedure mentioned above.<br><br>\n",
    "\n",
    "    Use procedure 2 in this and in the following exercises. Take the range $-0.5 V$ to $1.5 V$, so $U_{cell} = (-0.5V,1.5V)$ as an example. You may assume that $R_1 = R_2 = 1k\\Omega$ and $R_f = 3.3k\\Omega$. Remember that you can only measure positive voltages at `Ua`. For simplicity or to optimise for resolution and signal-to-noise ratio, we will use attenuations `1:1` and `1:3` via `ADC0:SIGNAL+`, depending on the priority.\n",
    "   - Derive the formula to find the range of $I_{cell}$,\n",
    "   - Compute the range for both attenuation factors when `DAC B = 1.5V`.<BR>\n",
    "   - 🏆**Optional:** Derive the general formula for the effective resolution of $I_{cell}$ and compute it for both attenuations factors.\n",
    "   \n",
    "\n",
    "    <details><summary><font size=4>💡</font> <b>Hints</b></summary>\n",
    "\n",
    "    > - What is the highest value of `Ua` possible?\n",
    "    > - What is the highest value of `Ua` that can be measured at each attenuation factor?\n",
    "    > - Use the relevant table from the Alpaca Manual in section  *2.10 The Amplifier* to match the attenuation with the jumper setting for `J42`.</details>"
   ]
  },
  {
   "cell_type": "code",
   "execution_count": null,
   "id": "7da43e81",
   "metadata": {},
   "outputs": [],
   "source": []
  }
 ],
 "metadata": {
  "kernelspec": {
   "display_name": "Python 3 (ipykernel)",
   "language": "python",
   "name": "python3"
  },
  "language_info": {
   "codemirror_mode": {
    "name": "ipython",
    "version": 3
   },
   "file_extension": ".py",
   "mimetype": "text/x-python",
   "name": "python",
   "nbconvert_exporter": "python",
   "pygments_lexer": "ipython3",
   "version": "3.7.12"
  }
 },
 "nbformat": 4,
 "nbformat_minor": 5
}
