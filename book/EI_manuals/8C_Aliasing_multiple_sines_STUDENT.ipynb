{
 "cells": [
  {
   "cell_type": "code",
   "execution_count": null,
   "id": "f17c1968",
   "metadata": {},
   "outputs": [],
   "source": [
    "from IPython.core.display import HTML\n",
    "def set_width(width):\n",
    "    display(HTML(f\"\"\"<style>  \n",
    "            .container {{ width:{width}% !important; \n",
    "                            min-width:800px !important; margin: 0 auto}} \n",
    "            .jp-Cell {{ width:{width}% !important; \n",
    "                            min-width:800px !important; margin: 0 auto}} </style>\"\"\"))\n",
    "# Set container width to X% of the fullscreen \n",
    "set_width(50)"
   ]
  },
  {
   "cell_type": "markdown",
   "id": "3c9df31d",
   "metadata": {},
   "source": [
   "# 8C: Aliasing in combined sines \n",
  "> <font color='blue'>Learning goal:</font> be able to calculate the outcome of aliasing in case of combined sines. Understand how each individual sine contributes to the result.\n",
   "\n",
    "Structure of an experiment:\n",
    "- Background + Anticipate + Stimulate (45 min): per person. This is homework and should be finished **before** you start your 4 hours practicum session\n",
    "- Implement + Investigate (50 min): with your partner(group of 2)\n",
    "- Compare + Conclude (10 min): with a group of 4(per table)\n",
    "\n",
    "\n",
    "<font color='magenta'> **This notebook does not need an alpaca nor the classroom equipment** </font>"
   ]
  },
  {
   "cell_type": "markdown",
   "id": "fad35899",
   "metadata": {},
   "source": [
    "## BACKGROUND\n",
    "> <font color='grey'>⏳ Estimated time: 15 min</font>\n",
    "\n",
    "You already within a triggered acquisition of an aliased sine, that the phase of the recorded signal might be in antiphase of the original signal in case of aliasing. The phase depends on whether $ f+ 2N f_{Nyquist}$ is below or above $f_{Nyquist}$. When observing the fourier transform, we often look at the absolute value and neglect the phase. For a single sine the phase is not that interesting, but it is different when acquiring a combined signal, consisting of two sines with different frequency. \n",
    "\n",
    "When recording two sines, one or both sines might become aliased. In that case the phase does matter, if the two frequencies (aliased or not) are measured at the same measured frequency. It helps to remeber a sine in antiphase can be seen as a sine in phase with a negative amplitude, and in that case of destructive interference, the sum of two signals might be 0 instead of 2:\n",
    "\n",
    "$sin(2 \\pi f_0) +sin (2 \\pi f_0 + \\pi) = sin(2 \\pi f_0) -sin (2 \\pi f_0)=0$\n"
   ]
  },
  {
   "cell_type": "markdown",
   "id": "808f4ace",
   "metadata": {},
   "source": [
    "## ANTICIPATE: what would be the outcome of different 2 sines aliasing\n",
    "> <font color='grey'>⏳ Estimated time: 15 min</font>\n",
    "\n",
    "An aliased signal can be in antiphase of its original signal. Now, imagine two sines with different frequencies and equal amplitude (say value 1) are recorded, and the sampling rate will be varied. Brainstorm + write down all possible outcomes (in terms of overal number of peaks, which signal is aliased, and height of peaks) for the Fourier transform/ frequency spectrum.\n",
    "\n",
    "Hint: you should be able to get a variation of number of peaks (0,1,2), similarly you should also get a variation  of amplitudes (0,1,2)"
   ]
  },
  {
   "cell_type": "code",
   "execution_count": null,
   "id": "78cde8f6",
   "metadata": {},
   "outputs": [],
   "source": [
    "### TO DO =\"your answer to all possible outcomes of the sum of two (un)aliased sines\"\n"
   ]
  },
  {
   "cell_type": "markdown",
   "id": "3e4df086",
   "metadata": {},
   "source": [
    "## SIMULATE: outcome of aliasing 2 sines \n",
    "> <font color='grey'>⏳ Estimated time: 15 min</font>\n",
    "\n",
    "Now you will try to verify your predictions using *calculate_measured_frequency* you created in 8B. Say you have two signals with amplitude 1, frequencies 300 and 650 Hz. Find two values of the sample rate, for which the measured signal will give: \n",
    "1. no peaks at all\n",
    "2. one peak with amplitude 2\n",
    "\n",
    "Feel free (not obligated) to adapt the function to also output the phase/antiphase."
   ]
  },
  {
   "cell_type": "code",
   "execution_count": 2,
   "id": "684ce00a",
   "metadata": {},
   "outputs": [
    {
     "name": "stdout",
     "output_type": "stream",
     "text": [
      "(300, -1)\n",
      "(175.0, 1)\n",
      "(175.0, -1)\n",
      "(0, 1)\n",
      "(0, 1)\n"
     ]
    }
   ],
   "source": [
    "### TO DO=\"your calculate_measured_frequency and calculate_measured_frequency_phase:\" \n",
    "\n",
    "def calculate_measured_frequency( signal_frequency, sampling_rate):\n",
    "\n",
    "    remainder = signal_frequency%sampling_rate\n",
    "    if remainder < sampling_rate/2:\n",
    "        return remainder \n",
    "    if remainder > sampling_rate/2:\n",
    "        return sampling_rate - remainder\n",
    "    return 0\n",
    "\n",
    "def calculate_measured_frequency_phase( signal_frequency, sampling_rate):\n",
    "\n",
    "    remainder = signal_frequency%sampling_rate\n",
    "    if remainder < sampling_rate/2:\n",
    "        return remainder , 1\n",
    "    if remainder > sampling_rate/2:\n",
    "        return sampling_rate - remainder , -1\n",
    "    return 0, 0\n",
    "\n",
    "# one aliased, one not:\n",
    "print(calculate_measured_frequency_phase(650, 950))\n",
    "# how to calculate: find the frequency exactly between 300 and 650 --> fN=650/2=475 Hz, fs=950\n",
    "\n",
    "# both aliased, one in phase, one in antiphase\n",
    "print(calculate_measured_frequency_phase(650, 2*237.5))\n",
    "print(calculate_measured_frequency_phase(300, 2*237.5))\n",
    "# how to calculate: aliased 300=> fN-(300-fN)= 2 fN-300; aliased 650=> 650-2fN. When put equal, fs= 2fN=475 Hz, fN=237.50\n",
    "\n",
    "# both aliased, measured as 0\n",
    "print(calculate_measured_frequency_phase(650, 50))\n",
    "print(calculate_measured_frequency_phase(300, 50))\n",
    "# how to calculate: find a value which fits N times in 300 and 650\n",
    "### END SOLUTION\n",
    "\n"
   ]
  },
  {
   "cell_type": "code",
   "execution_count": null,
   "id": "e544899b",
   "metadata": {},
   "outputs": [],
   "source": [
    "### TO DO =\"your answer, adapt your prediction if needed\"\n"
   ]
  },
  {
   "cell_type": "markdown",
   "id": "93dc8513",
   "metadata": {},
   "source": [
    "Feel free to watch the precap from last year:"
   ]
  },
  {
   "cell_type": "code",
   "execution_count": null,
   "id": "d3fbf4a5",
   "metadata": {},
   "outputs": [],
   "source": [
    "#precap\n",
    "from IPython.lib.display import YouTubeVideo\n",
    "YouTubeVideo('oLhrG39o0Ag', width = 600, height = 450)\n"
   ]
  },
  {
   "cell_type": "markdown",
   "id": "1feb0fd3",
   "metadata": {},
   "source": [
    "## IMPLEMENT & INVESTIGATE 1: observing superposition \n",
    "> <font color='grey'>⏳ Estimated time: 30 min</font>\n",
    "\n",
    "You have learned how aliasing works for a single sine. You also learned how to determine the phase of the aliased signal: whether it is inverted or not. In this exercise, you will learn to apply this knowledge to multiple sines.\n",
    "\n",
    "When an electronic circuit contains more than one source, we can often (in case of a linear time-invariant system) add the two individual voltages to calculate the combined result. This is the principle of superposition. Let's have a look at the superposition of nine sines with the frequencies 1 Hz, 2 Hz, 3 Hz, ..., 9 Hz.\n",
    "\n",
    "$$\n",
    "y(t) = A_1 \\sin(1\\cdot 2\\pi t) + A_2 \\sin(2\\cdot 2\\pi t) + A_3 \\sin(3\\cdot 2\\pi t)+\\cdots + A_9 \\sin(9\\cdot 2\\pi t)\n",
    "$$\n",
    "\n",
    "Run the code below. You may need to run it twice before the plot appears."
   ]
  },
  {
   "cell_type": "code",
   "execution_count": 1,
   "id": "a038c3aa",
   "metadata": {},
   "outputs": [
    {
     "data": {
      "application/vnd.jupyter.widget-view+json": {
       "model_id": "f0f42f0f45764783aab77e42f50583fb",
       "version_major": 2,
       "version_minor": 0
      },
      "text/plain": [
       "interactive(children=(FloatSlider(value=1.0, description='Amp 1:', max=2.5, min=-2.5, step=0.25), FloatSlider(…"
      ]
     },
     "metadata": {},
     "output_type": "display_data"
    },
    {
     "data": {
      "text/plain": [
       "<function __main__.overtones(amp1, amp2, amp3, amp4, amp5, amp6, amp7, amp8, amp9)>"
      ]
     },
     "execution_count": 1,
     "metadata": {},
     "output_type": "execute_result"
    }
   ],
   "source": [
    "import ipywidgets as widgets\n",
    "import numpy as np\n",
    "import matplotlib.pyplot as plt\n",
    "\n",
    "time = np.arange(0.0, 3.0, 0.01)\n",
    "\n",
    "def overtones(amp1, amp2, amp3, amp4, amp5, amp6, amp7, amp8, amp9):\n",
    "    signal =  amp1*np.sin( 1 * 2*np.pi*time)\n",
    "    signal += amp2*np.sin( 2 * 2*np.pi*time)\n",
    "    signal += amp3*np.sin( 3 * 2*np.pi*time)\n",
    "    signal += amp4*np.sin( 4 * 2*np.pi*time)\n",
    "    signal += amp5*np.sin( 5 * 2*np.pi*time)\n",
    "    signal += amp6*np.sin( 6 * 2*np.pi*time)        \n",
    "    signal += amp7*np.sin( 7 * 2*np.pi*time)\n",
    "    signal += amp8*np.sin( 8 * 2*np.pi*time)\n",
    "    signal += amp9*np.sin( 9 * 2*np.pi*time)    \n",
    "    \n",
    "    plt.plot(time, signal )\n",
    "    plt.show()\n",
    "\n",
    "widgets.interact(overtones, amp1=widgets.FloatSlider(min=-2.5, max=2.5, step=0.25, value=1, description='Amp 1:'),\n",
    "         amp2=widgets.FloatSlider(min=-1.25, max=1.25, step=0.125, value=0, description='Amp 2:'),\n",
    "         amp3=widgets.FloatSlider(min=-0.8333333333, max=0.8333333333, step=0.08333333333, value=0.33333, description='Amp 3:'),\n",
    "         amp4=widgets.FloatSlider(min=-0.625, max=0.625, step=0.0625, value=0, description='Amp 4:'),\n",
    "         amp5=widgets.FloatSlider(min=-0.5, max=0.5, step=0.05, value=0.2, description='Amp 5:'),\n",
    "         amp6=widgets.FloatSlider(min=-0.416665, max=0.416665, step=0.0416665, value=0, description='Amp 6:'),\n",
    "         amp7=widgets.FloatSlider(min=-0.35714, max=0.35714, step=0.035714, value=0, description='Amp 7:'),\n",
    "         amp8=widgets.FloatSlider(min=-0.3125, max=0.3125, step=0.03125, value=0, description='Amp 8:'),\n",
    "         amp9=widgets.FloatSlider(min=-0.27778, max=0.27778, step=0.027778, value=0, description='Amp 9:'))"
   ]
  },
  {
   "cell_type": "markdown",
   "id": "f27d6a23",
   "metadata": {},
   "source": [
    "**Experiment with different amplitudes**, so that you understand what superposition is. It might be helpful to first put all amplitudes to 0 except first and second.\n",
    "\n",
    "> <font color='blue'>Hint:</font> You can either use the slider, or left click on the numerical value, to adapt it. \n",
    "\n",
    "\n",
    "**Set `Amp 1` to $1$, set `Amp 2` to $\\frac{1}{2}$, set `Amp 3` to $\\frac{1}{3}$ et cetera.** (a) What pattern do you approach? (b) Draw the Fourier spectrum of this pattern and upload a picture."
   ]
  },
  {
   "cell_type": "code",
   "execution_count": null,
   "id": "9b049654",
   "metadata": {},
   "outputs": [],
   "source": [
    "### TO DO=\" Write your answer down here; which patteren do you see?\"\n"
   ]
  },
  {
   "cell_type": "code",
   "execution_count": null,
   "id": "4d85dcd9",
   "metadata": {},
   "outputs": [],
   "source": [
    "from ipywidgets import FileUpload\n",
    "from IPython.display import Image\n",
    "import os\n",
    "upload=FileUpload()\n",
    "upload\n"
   ]
  },
  {
   "cell_type": "code",
   "execution_count": null,
   "id": "d1a0a755",
   "metadata": {},
   "outputs": [],
   "source": [
    "file_name=\"8C_Spectrum_1.jpg\"\n",
    "if upload.value!={}:\n",
    "    with open(file_name,\"wb\") as f:\n",
    "        try: f.write(upload.data[-1]) # python 3.7 Kernel code, not working on Vocareum\n",
    "        except: f.write(upload.value[-1][\"content\"])  # python 3.8 Kernel code, works on Vocareum if you change the kernel\n",
    "\n",
    "Image(filename=file_name, width=\"50%\")"
   ]
  },
  {
   "cell_type": "markdown",
   "id": "b531d671",
   "metadata": {},
   "source": [
    "**Set all even amplitudes to zero.** (a) What pattern do you approach now? (b) Draw the Fourier spectrum of this pattern."
   ]
  },
  {
   "cell_type": "code",
   "execution_count": null,
   "id": "faeffb9e",
   "metadata": {},
   "outputs": [],
   "source": [
    "### TO DO=\"write your answer here: which pattern do you see?\"\n"
   ]
  },
  {
   "cell_type": "code",
   "execution_count": null,
   "id": "f6be78c9",
   "metadata": {},
   "outputs": [],
   "source": [
    "#b. upload the spectrum\n",
    "upload"
   ]
  },
  {
   "cell_type": "code",
   "execution_count": null,
   "id": "0ba21b97",
   "metadata": {},
   "outputs": [],
   "source": [
    "file_name=\"8C_Spectrum_odd_2.jpg\"\n",
    "if upload.value!={}:\n",
    "    with open(file_name,\"wb\") as f:\n",
    "        try: f.write(upload.data[-1]) # python 3.7 Kernel code, not working on Vocareum\n",
    "        except: f.write(upload.value[-1][\"content\"])  # python 3.8 Kernel code, works on Vocareum if you change the kernel\n",
    "\n",
    "Image(filename=file_name, width=\"50%\")"
   ]
  },
  {
   "cell_type": "markdown",
   "id": "6e4bbb92",
   "metadata": {},
   "source": [
    "From now on, we will consider the signal with odd frequencies up to 19 Hz, where **`Amp 1` is $2$, `Amp 3` is $\\frac{2}{3}$, `Amp 5` is $\\frac{2}{5}$, `Amp 7` is $\\frac{2}{7}$ et cetera.** In formula form, that is:\n",
    "\n",
    "$$\n",
    "y(t) = \\sum_{k=1, k\\text{ odd}}^{19} \\frac{2}{k} \\sin( k \\cdot 2\\pi t))\n",
    "$$\n",
    "\n",
    "You know from the previous exercises that this signal approximates a square wave. \n",
    "\n",
    "Imagine that we sample this signal with a sampling rate of 19 Hz. Use your knowledge of aliasing to draw the Fourier spectrum of the aliased signal. Upload the drawing\n",
    "\n",
    "> ### <font color='blue'>Hint:</font>\n",
    "If the sampling rate is 19 Hz, what is the Nyquist frequency? \n",
    "Which frequencies will be aliased? For example, what is the measured frequency of input frequency 11 Hz?\n",
    "\n",
    ">You should be able to do the calculation as back-of-the-envelope, but may use the interactive figure or the calculate_measured_frequency() to verify your calculations\n"
   ]
  },
  {
   "cell_type": "code",
   "execution_count": null,
   "id": "f392ba86",
   "metadata": {},
   "outputs": [],
   "source": [
    "### TO DO=\"your answer for the Nyquist frequency when sampling with 19 Hz, which frequencies aliase, how will a 11 Hz be measured?\"\n"
   ]
  },
  {
   "cell_type": "code",
   "execution_count": null,
   "id": "c9cc7ecc",
   "metadata": {},
   "outputs": [],
   "source": [
    "# upload your drawing\n",
    "\n",
    "upload"
   ]
  },
  {
   "cell_type": "code",
   "execution_count": null,
   "id": "32ef7080",
   "metadata": {},
   "outputs": [],
   "source": [
    "file_name=\"8C_Spectrum_odd_3.jpg\"\n",
    "if upload.value!={}:\n",
    "    with open(file_name,\"wb\") as f:\n",
    "        try: f.write(upload.data[-1]) # python 3.7 Kernel code, not working on Vocareum\n",
    "        except: f.write(upload.value[-1][\"content\"])  # python 3.8 Kernel code, works on Vocareum if you change the kernel\n",
    "\n",
    "Image(filename=file_name, width=\"50%\")"
   ]
  },
  {
   "cell_type": "markdown",
   "id": "93c78508",
   "metadata": {},
   "source": [
    "## IMPLEMENT & INVESTIGATE 2: observing interference\n",
    "> <font color='grey'>⏳ Estimated time: 20 min</font>\n",
    "\n",
    "Suppose that we have a single sine of variable frequency $f$. We measure it with a sampling frequency of 50 Hz.\n",
    "\n",
    "What frequency would you measure with this sampling frequency \n",
    "1. if $f=10\\text{Hz}$, \n",
    "2. if $f=20\\text{Hz}$, \n",
    "3. if $f=30\\text{Hz}$?"
   ]
  },
  {
   "cell_type": "code",
   "execution_count": null,
   "id": "479b131d",
   "metadata": {},
   "outputs": [],
   "source": [
    "### TO DO =\"your 'measured' frequencies\"\n"
   ]
  },
  {
   "cell_type": "markdown",
   "id": "7bbc753f",
   "metadata": {},
   "source": [
    "Now, we will put these three signals in superposition, like so:\n",
    "\n",
    "$$\n",
    "y(t) = \\sin(10\\cdot2\\pi t)+\\sin(20\\cdot2\\pi t)+\\sin(30\\cdot2\\pi t)\n",
    "$$\n",
    "\n",
    "Predict what its Fourier spectrum woud look like when sampled with a rate of 50 Hz. If you find it hard, try drawing the result."
   ]
  },
  {
   "cell_type": "code",
   "execution_count": null,
   "id": "60ab9cf9",
   "metadata": {},
   "outputs": [],
   "source": [
    "### TO DO=\"your prediction for the superposed, aliased signal\"\n"
   ]
  },
  {
   "cell_type": "markdown",
   "id": "c4035f96",
   "metadata": {},
   "source": [
    "In the Fourier spectrum, you might have predicted two peaks since the 30 Hz signal lands on the 20 Hz. However, the answer looks like this. Red is the analogue signal. Blue is the aliased signal. The samples are green.\n",
    "\n",
    "<img src=\"https://gitlab.tudelft.nl/mwdocter/nb2214-images/-/raw/main/PyDAQ-Next/PyDAQ8-interference-2.png\" width=80%></img>\n",
    "\n",
    "Explain why there is only one peak in this signal. \n",
    "\n",
    "> ### <font color='blue'>Hint:</font>\n",
    "Use words like antiphase in your explanation"
   ]
  },
  {
   "cell_type": "code",
   "execution_count": null,
   "id": "51d41ed5",
   "metadata": {},
   "outputs": [],
   "source": [
    "### TO DO=\"explanation on why you see only one peak\"\n"
   ]
  },
  {
   "cell_type": "markdown",
   "id": "43141783",
   "metadata": {},
   "source": [
    "Suppose that we increase the 30 Hz frequency to 70 Hz, like so:\n",
    "\n",
    "$$\n",
    "y(t) = \\sin(10\\cdot2\\pi t)+\\sin(20\\cdot2\\pi t)+\\sin(70\\cdot2\\pi t)\n",
    "$$\n",
    "\n",
    "Now, the last sine will land on 20 Hz too, but not in anti-phase.\n",
    "\n",
    "Predict how high the peak in the aliased Fourier spectrum will be at 20 Hz?\n"
   ]
  },
  {
   "cell_type": "code",
   "execution_count": null,
   "id": "c5adee6d",
   "metadata": {},
   "outputs": [],
   "source": [
    "### TO DO=\"your prediction on the peak height\"\n"
   ]
  },
  {
   "cell_type": "markdown",
   "id": "27594138",
   "metadata": {},
   "source": [
    " For the following signal, draw the Fourier spectrum after sampling with a rate of 20 Hz. Indicate the heights of the peaks.\n",
    "\n",
    "$$\n",
    "g(t) = 1 -3\\sin(2\\pi t) + 2\\sin(28\\cdot 2\\pi t) + \\sin(12\\cdot 2\\pi t) + \\sin(32\\cdot 2\\pi t) + 3\\sin(21\\cdot 2\\pi t)\n",
    "$$"
   ]
  },
  {
   "cell_type": "code",
   "execution_count": null,
   "id": "29cc70cf",
   "metadata": {},
   "outputs": [],
   "source": [
    "### TO DO=\"indicate the location and height of the peak(s)\"\n"
   ]
  },
  {
   "cell_type": "code",
   "execution_count": null,
   "id": "d50ac8a6",
   "metadata": {},
   "outputs": [],
   "source": [
    "upload\n"
   ]
  },
  {
   "cell_type": "code",
   "execution_count": null,
   "id": "8b5a517a",
   "metadata": {},
   "outputs": [],
   "source": [
    "file_name=\"8C_Interference_4.jpg\"\n",
    "if upload.value!={}:\n",
    "    with open(file_name,\"wb\") as f:\n",
    "        try: f.write(upload.data[-1]) # python 3.7 Kernel code, not working on Vocareum\n",
    "        except: f.write(upload.value[-1][\"content\"])  # python 3.8 Kernel code, works on Vocareum if you change the kernel\n",
    "\n",
    "Image(filename=file_name, width=\"50%\")"
   ]
  },
  {
   "cell_type": "markdown",
   "id": "4716ef6b",
   "metadata": {},
   "source": [
    "## COMPARE & CONCLUDE\n",
    "> <font color='grey'>⏳ Estimated time: 10 min</font>\n",
    "\n",
    "* Wait till all (4) group members finish their observation\n",
    "* Compare your results with your other group members. \n",
    "* If your results agree, and are in line with all predictions, then talk to a TA and get checked off\n",
    "* Otherwise, so if your results do not agree, or your results are not in line with your predictions, then first discuss amongst your group before getting a TA. \n",
    "\n",
    "\n",
    "**to be checked off by a TA:**\n",
    "1. Discuss the answer about the fourier spectrum of (g(t)) (the last question)\n",
    "2. Explain how different combinations of interference can lead to a. 0, 1 or 2 peaks, b. amplitudes between 0 and 2?\n",
    "3. exit card: 1. Write a brief abstract on what you learned (conclusion, useful graph), 2. Which troubleshooting skills do you want to remember for next sessions, 3. Which code do you copy for use in next sessions,\n",
    "4. How do think this notebook could be improved\n"
   ]
  },
  {
   "cell_type": "code",
   "execution_count": null,
   "id": "0f36e36a",
   "metadata": {},
   "outputs": [],
   "source": [
    "#8C aliasing multiple sines\n",
    "### TO DO='1. Discuss the answer about the fourier spectrum of (g(t))'\n",
    "\n",
    "### TO DO='2. explain how aliasing and interference can lead to a. peaks 0-2, b. amplitude 0-2\n",
    "\n",
    "### TO DO=\"3a. abstract\"\n",
    "\n",
    "### TO DO=\"3b. troubleshooting\"\n",
    "\n",
    "### TO DO=\"3c. code\"\n",
    "\n",
    "### TO DO=\"4. what changes would you suggest?\"\n"
   ]
  },
  {
   "cell_type": "code",
   "execution_count": null,
   "id": "c5eea0f1",
   "metadata": {},
   "outputs": [],
   "source": [
    "#recording\n",
    "from IPython.lib.display import YouTubeVideo\n",
    "YouTubeVideo('E605Us5OscA', width = 600, height = 450)"
   ]
  }
 ],
 "metadata": {
  "kernelspec": {
   "display_name": "Python 3 (ipykernel)",
   "language": "python",
   "name": "python3"
  },
  "language_info": {
   "codemirror_mode": {
    "name": "ipython",
    "version": 3
   },
   "file_extension": ".py",
   "mimetype": "text/x-python",
   "name": "python",
   "nbconvert_exporter": "python",
   "pygments_lexer": "ipython3",
   "version": "3.10.14"
  }
 },
 "nbformat": 4,
 "nbformat_minor": 5
}
