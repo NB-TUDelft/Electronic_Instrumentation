{
 "cells": [
  {
   "cell_type": "markdown",
   "id": "0146c69c",
   "metadata": {},
   "source": [
  "# 13C: Integrator & differentiator\n ",
 "> <font color='blue'>Learning goal:</font> Explore uses of opamps like integrator and differentiator circuits. Know when they are used and how to make them.",
"\n",
    "Structure of an experiment:\n",
    "- Background + Predict + Stimulate (35): per person. This is homework and should be finished **before** you start your 4 hours practicum session\n",
    "- Build + Measure (40): with your partner(group of 2)\n",
    "- Evaluate (10): with a group of 4(per table)"
   ]
  },
  {
   "cell_type": "markdown",
   "id": "36b8e7e1-1fb4-4732-9c33-2c09a91572c0",
   "metadata": {
    "jp-MarkdownHeadingCollapsed": true
   },
   "source": [
    "## BACKGROUND\n",
    "> <font color='grey'>⏳ Estimated time: 10 min</font>\n",
    "\n",
    "\n",
    "The opamp circuits we have used up till now use solely resistors in the feedback path. However, other passive components (capacitors, inductors) could be used in the feedback path as well. In this situation we can use the same formulas for the transfer function as we use with resistors (inverting amplifier configuration and non-inverting amplifier configuration). Instead of the resistors-values we will use the (complex) impedance in the standard opamp formulas for the non-resistive components.\n",
    "\n",
    "In this lab we will focus on circuits were a **resistor is replaced by a capacitor**:\n",
    "- When we replace the resistor connected between the signal source and the opamps input with a capacitor we create a circuit which we call a **differentiator**. The behavior of this circuit corresponds to a (mathematical) differentiator when viewed in the time-domain, or to a high-pass filter in the frequency domain.\n",
    "- When (only!) the resistor between the output and the inverting input is replaced by a capacitor we will create a circuit called an **integrator**. This means, it will integrate signals in the time-domain in a mathematical way, in the frequency domain this behavior translates to a low-pass filter. \n",
    "\n",
    "For both the integrator and the differentiator the inverting input as a **virtual ground** point. Have a look at the following circuit. \n",
    "\n",
    "<center><img src=\"https://gitlab.tudelft.nl/mwdocter/nb2214-images/-/raw/main/LTS/13C=clean.png\" width=600px></img></center>\n",
    "\n",
    "From the virtual ground point, since the noninverting (+) input is connected to ground, can be found that $V_\\mathrm{in} + V_\\mathrm{C1} = 0 \\Rightarrow V_\\mathrm{in} = -V_\\mathrm{C1}$. The current $I_{\\mathrm{C}1}$ through C1 is time dependent (and also frequency dependent), and is equal to $V_\\mathrm{out}/R_1$. Using the two equations above, plus the following equation for the current through a capacitor.\n",
    "$$\n",
    "\\begin{align}\n",
    "\\mathrm{d}Q = C \\cdot \\mathrm{d}V = I \\cdot \\mathrm{d}t\n",
    "\\tag{1}\n",
    "\\end{align}\n",
    "$$\n",
    "\n",
    "In which $Q$ is the charge on the capacitor in Coulomb, $C$ is the capacitance in Farad, $V$ is the voltage over the capacitor, I is the current through the capacitor, and $t$ for time. You can derive that:\n",
    "$$\n",
    "\\begin{align}\n",
    "I_\\mathrm{C1} &= C_1 \\frac{\\mathrm{d} V_\\mathrm{C1}}{\\mathrm{d}t} = -C_1 \\frac{\\mathrm{d} V_\\mathrm{in}}{\\mathrm{d}t} = \\frac{V_\\mathrm{out}}{R_1} \n",
    "\\tag{2}\n",
    "\\end{align}\n",
    "$$\n",
    "\n",
    "Rearranging terms:\n",
    "\n",
    "$$\n",
    "\\begin{align}\n",
    "\\Rightarrow \\frac{\\mathrm{d} V_\\mathrm{in}}{\\mathrm{d}t} &= -\\frac{V_\\mathrm{out}}{R_1 C_1} \\tag{3a}\\\\\n",
    "V_\\mathrm{out} &= -R_1 C_1 \\frac{\\mathrm{d} V_\\mathrm{in}}{\\mathrm{d}t}\n",
    "\\tag{3b}\n",
    "\\end{align}\n",
    "$$\n",
    "This means that this circuit behaves as an **differentiator**! Notice that if the C1 and R1 get exchanged and you solve for $V_\\mathrm{out}$ you find the relation: $V_\\mathrm{out} = -\\frac{1}{R_1 C_1} \\int V_\\mathrm{in} \\mathrm{d}t $ which defines an **integrator**. \n",
    "\n",
    "Thinking about this, it is hopefully logical that a square-wave on the input of the integrator, will show up as a triangle wave at the output of the integrator.\n",
    "\n",
    "> <font size=5>ℹ️</font>\n",
    "> <font color='00a6ed'>\n",
    "> Please note: Both the integrator and the differentiator are derived from the **inverting amplifier**. Hence the differentiator and the integrator have an inverting function, as well.\n",
    "\n",
    "\n",
    "\n"
   ]
  },
  {
   "cell_type": "markdown",
   "id": "e6643bd7",
   "metadata": {},
   "source": [
    "## ANTICIPATE: predict behaviour of differentiator circuit\n",
    "> <font color='grey'>⏳ Estimated time: 10 min</font> \n",
    "\n",
    "As the name already says, the circuit above is a differentiator.\n",
    "\n",
    "\n",
    "* If a circuit acts as a differentiator, what will be the shape and phase of $V_\\mathrm{out}$ when $V_\\mathrm{in}$ is a sine wave? Explain why.\n",
    "* Explain what happens to the amplitude of $V_\\mathrm{out}$ when the frequency of the sine input doubles.\n"
   ]
  },
  {
   "cell_type": "code",
   "execution_count": null,
   "id": "6679dde9",
   "metadata": {},
   "outputs": [],
   "source": [
    "### TO DO =\"your answer: Vout from diffrentiator, with Vin=sine\"\n",
    " \n",
    "\n",
    "### TO DO =\"your answer: if frequency doubles, what happens to the amplitude of Vout\"\n",
    " "
   ]
  },
  {
   "cell_type": "markdown",
   "id": "0b1105b1",
   "metadata": {},
   "source": [
    "## SIMULATE 1: simulate an differentiator circuit\n",
    "> <font color='grey'>⏳ Estimated time: 10 min</font>\n",
    "\n",
    "In LTSpice, build the given differentiator circuit or download a file from brightspace named 'week13C' and fill in missing values.\n",
    "<center><img src=\"https://gitlab.tudelft.nl/mwdocter/nb2214-images/-/raw/main/LTS/13C=clean.png\" width=600px></img></center>\n",
    "\n",
    "Run a transient simulation with a stop time of 15ms and start saving data after 5ms. Plot *Vin* and *Vout*. <br>\n",
    "Explain the look of the waveforms? \n",
    "> __<font color='blue'>Hint:</font>__\n",
    "Consider the phase of the signal. Which phase difference would you expect based on the differentiation? Don't forget to take the phase shift caused by the inverting opamp into account.\n",
    "\n",
    "\n",
    "- Explain the similarities and differences between the signal at $V_\\mathrm{in}$ and $V_\\mathrm{out}$.\n"
   ]
  },
  {
   "cell_type": "code",
   "execution_count": null,
   "id": "a9b1980d-e849-43fe-a07f-8f4c39cfdccd",
   "metadata": {},
   "outputs": [],
   "source": [
    "### TO DO='describe Vin and Vout, plus explain'\n",
    " "
   ]
  },
  {
   "cell_type": "markdown",
   "id": "9d01bbf3",
   "metadata": {},
   "source": [
    "## SIMULATE 2: an integrator circuit\n",
    "> <font color='grey'>⏳ Estimated time: 15 min</font>\n",
    "\n",
    "Since you already have the differentiator circuit in LTSpice, you can pretty quickly simulate an integrator as well. Use the same file, copy paste the circuit, and swap some elements (remember to change the labels such as Vout). <br>\n",
    "Run the simulation twice:\n",
    "\n",
    "\n",
    "* With the same sine input (as in the anticipate), plot $V_\\mathrm{in}$ and both the $V_\\mathrm{out}$ from the differentiator and integrator. Add a screenshot of the $V_\\mathrm{in}$ and both $V_\\mathrm{out}$.\n",
    "* What differences do you see?"
   ]
  },
  {
   "cell_type": "code",
   "execution_count": null,
   "id": "966c1b62",
   "metadata": {},
   "outputs": [],
   "source": [
    "%python\n",
    "from ipywidgets import FileUpload\n",
    "from IPython.display import Image\n",
    "import os\n",
    "upload=FileUpload()\n",
    "upload\n"
   ]
  },
  {
   "cell_type": "code",
   "execution_count": null,
   "id": "86d45025",
   "metadata": {},
   "outputs": [],
   "source": [
    "%python\n",
    "file_name=\"13C_1_int.jpg\"\n",
    "if upload.value:\n",
    "    with open(file_name,\"wb\") as f:\n",
    "        try: f.write(upload.data[-1]) # python 3.7 Kernel code, not working on Vocareum\n",
    "        except: f.write(upload.value[-1][\"content\"])  # python 3.8 Kernel code, not working on Vocareum\n",
    "\n",
    "Image(filename=file_name, width=\"50%\")\n"
   ]
  },
  {
   "cell_type": "code",
   "execution_count": null,
   "id": "0c132e36",
   "metadata": {},
   "outputs": [],
   "source": [
    "### TO DO =\"description of the differences between Vin and Vout (differentiator and integrator)\" \n",
    " "
   ]
  },
  {
   "cell_type": "markdown",
   "id": "524ee879-be2b-4f0c-87e0-c696b558c7e3",
   "metadata": {},
   "source": [
    "In the introduction, you briefly saw that for the integrator we have the relation:\n",
    "$$ V_\\mathrm{out} = -\\frac{1}{R_1 C_1} \\int V_\\mathrm{in} \\; \\mathrm{d}t \\tag{4}$$\n",
    "\n",
    "You can also express this relation as a derivative (simply take the derivative of both sides):\n",
    "\n",
    "$$\\begin{equation} \n",
    "\\frac{\\mathrm{d} V_\\mathrm{out}}{\\mathrm{d}t} = \\frac{1}{-R_1 C_1} V_\\mathrm{in} \n",
    "\\tag{5}\n",
    "\\end{equation}$$\n",
    "\n",
    "\n",
    "* Adapt the voltage source to  create a square wave.\n",
    "* Using equation **(5)**, compare the calculated slope with your simulation.\n",
    "* Investigate which effect the values of the resistor and capacitor have (by changing the value **one order of magnitude up and down** at the time) on the output signal in LTSpice. Using the theory you have learned, explain how these components effect the output signal."
   ]
  },
  {
   "cell_type": "code",
   "execution_count": null,
   "id": "f989b212",
   "metadata": {},
   "outputs": [],
   "source": [
    "%python\n",
    "upload"
   ]
  },
  {
   "cell_type": "code",
   "execution_count": null,
   "id": "ec354806",
   "metadata": {},
   "outputs": [],
   "source": [
    "%python\n",
    "file_name=\"13C_2_diffV.jpg\"\n",
    "if upload.value:\n",
    "    with open(file_name,\"wb\") as f:\n",
    "        try: f.write(upload.data[-1]) # python 3.7 Kernel code, not working on Vocareum\n",
    "        except: f.write(upload.value[-1][\"content\"])  # python 3.8 Kernel code, not working on Vocareum\n",
    "\n",
    "Image(filename=file_name, width=\"50%\")\n"
   ]
  },
  {
   "cell_type": "code",
   "execution_count": null,
   "id": "d4931e0f",
   "metadata": {},
   "outputs": [],
   "source": [
    "### TO DO=\" your answers on the slope value, and dependency on R&C\" \n",
    " "
   ]
  },
  {
   "cell_type": "markdown",
   "id": "74c3c22a",
   "metadata": {},
   "source": [
    "**Change the simulation type to AC-analysis**. Select the *octave* sweep with 50 points per octave, start at 1 Hz and stop at 10kHz. Give the AC-source a value of 100mV for the AC-analysis.\n",
    "\n",
    "\n",
    "* Plot `V(Vout)/V(Vin)` (which you can access by right-clicking the label on top of the simulation). Upload a screenshot.\n",
    "* Describe what you observe in this plot.\n",
    "* What is the gain change per octave?\n",
    "* And per decade?\n",
    "\n",
    "> __<font color='blue'>Hint:</font>__\n",
    "> * When looking at the graph, you can right click the trace and in the text box input an mathematical expression. <br>\n",
    "> \n",
    "> <img src=\"https://gitlab.tudelft.nl/mwdocter/nb2214-images/-/raw/main/LTS/13C_write_function_LTSpice.jpg\" width=400px></img>\n",
    ">\n",
    "> * Remember: an octave concerns a doubling of the frequency, while a decade involves multiplication by 10.\n"
   ]
  },
  {
   "cell_type": "code",
   "execution_count": null,
   "id": "57ec99c7",
   "metadata": {},
   "outputs": [],
   "source": [
    "%python\n",
    "upload"
   ]
  },
  {
   "cell_type": "code",
   "execution_count": null,
   "id": "eb49a8d3",
   "metadata": {},
   "outputs": [],
   "source": [
    "%python\n",
    "file_name=\"13C_3_diff_AC.jpg\"\n",
    "if upload.value!={}:\n",
    "    with open(file_name,\"wb\") as f:\n",
    "        try: f.write(upload.data[-1]) # python 3.7 Kernel code, not working on Vocareum\n",
    "        except: f.write(upload.value[-1][\"content\"])  # python 3.8 Kernel code, not working on Vocareum\n",
    "\n",
    "Image(filename=file_name, width=\"50%\")\n"
   ]
  },
  {
   "cell_type": "code",
   "execution_count": null,
   "id": "f9d5bd58",
   "metadata": {},
   "outputs": [],
   "source": [
    "### TO DO=\" write your answer here, incl. the gain change per octave and decade\" \n"
   ]
  },
  {
   "cell_type": "markdown",
   "id": "76731b8e",
   "metadata": {},
   "source": [
    "## IMPLEMENT & INVESTIGATE 1: build an integrator circuit\n",
    "> <font color='grey'>⏳ Estimated time: 30 min</font>\n",
    "\n",
    "To make a succesful integrator circuit on the ALPACA we need three parts:\n",
    "1. The actual integrator circuit\n",
    "2. An input signal which alternates between positive and negative values (like the pulse used in the second simulation). \n",
    "3. Measure via one of the onboard amplifiers to prevent any negative amplitudes on the analog in pins.\n",
    "\n",
    "A picture of opamp pins as a remider:\n",
    "\n",
    "<img src=\"https://gitlab.tudelft.nl/mwdocter/nb2214-images/-/raw/7b873596c01a500f66c42c89508ee5aa384b6335/voltammetry/opamp_dual_layout+component.jpg\" width=\"300\"/>\n",
    "\n",
    "The 1st and 3rd step you should already be confident doing, but for the 2nd step you have to think for yourselves how to generate negative voltages.\n",
   "<details>\n",
    "<summary><font size=4>ℹ️</font> <b>Hints</b></summary>\n",
    "\n",
    "On the right hand side of the ALPACA, you find the *DAC ASSISTANT*. \n",
    "Using this *DAC assistant* you can turn the purely positive signals from *+IN* into signals that both positive and negative value at *OUT*.\n",
    "\n",
    "To find the exact voltage conversion of the DAC assistent read the alpaca intro manual: https://mwdocter.github.io/TeachBook/main/EI_manuals/intro_ALPACA.html\n",
    "<!--\n",
    "This signal at *OUT*, however will not strictly have an average of at 0 V. You can correct this using a voltage from a potmeter, such that the average will become zero. For now the connections are given, the tuning will be done later:  \n",
    "* *DAC A* goes to *IN* at the *DAC ASSISTANT*.\n",
    "* potmeter outer pins go to 0 and 5 V\n",
    "* middle pin potmeter goes to DAC assist add1\n",
    "\n",
    "### step 2: adapt the max amplitude of the DAQ assistant output\n",
    "The DAC assist output is too big, therefore reduce the voltage by using a voltage divider with a factor of 10. The following implementation is done on the breadboard. Another (not shown) implementation is by using one of the onboard amplifiers in attenuation setting; check the Alpaca manual on BrightSpace how to do that). \n",
    "* make a voltage divider with 22k as R1, and 220 k as R2. \n",
    "* Connect DAC assist out to R1, R1 to R2, and R2 to ground. \n",
    "* then use the voltage at the R1-R2 crossing as input voltage for the integrator.\n",
    " -->\n",
    "\n",
"</details>\n",
"\n",
    "### Building the integrator\n",
    "Can you design the connection of the integrator yourself. Practice this, as you will need to be able to do this for the final assignment as well. Feel free to look back at the connections given in earlier assignments. \n",
    "\n",
    "> __<font color='blue'>Hint:</font>__\n",
    "> For some guidance, consult the example below. There is also a video put in this notebook which you can watch to see how this can be built step by step.\n",
    "<details>\n",
    "  <summary>Detailed fritzing</summary>\n",
    " <img src=\"https://gitlab.tudelft.nl/mwdocter/nb2214-images/-/raw/main/PicoPI/13C integrator.png\" width=\"1000px\"/>\n",
    "</details>\n",
    "\n",
    "### Using the amplifers\n",
    "\n",
    "The integrator can give any output between -12V and +12 V. <b>Always measure first with the Voltmeter!</b>\n",
    "By now you know how to measure safely with the ALPACA, think for yourself what attenuations you want to use for $V_{in}$ and $V_{out}$\n",
    "Have a look in the manual to find the right the corresponding settings: https://mwdocter.github.io/TeachBook/main/EI_manuals/intro_ALPACA.html\n"
   ]
  },
  {
   "cell_type": "markdown",
   "id": "eef3abd9-ed80-46a1-bb8d-b7d59441c5ab",
   "metadata": {},
   "source": [
    "\n",
    "- Use the following code to acquire and display your measurement. "
   ]
  },
  {
   "cell_type": "code",
   "execution_count": null,
   "id": "2e5e7708-b85d-49be-aa2c-e63152827d43",
   "metadata": {},
   "outputs": [],
   "source": [
    "%serialconnect to --port=\"COM7\" \n",
    "\n",
    "import time\n",
    "import numpy as np\n",
    "import matplotlib.pyplot as plt\n",
    "\n",
    "from machine import ADC # type: ignore\n",
    "from functiongenerator import FuncGen, DC, Sine, Square # type: ignore"
   ]
  },
  {
   "cell_type": "code",
   "execution_count": null,
   "id": "6e7e5b51-0b33-4349-ab81-47b00231b117",
   "metadata": {},
   "outputs": [],
   "source": [
    "def convert_DAC_voltage(assistant_v_out):\n",
    "    \"\"\"Converts OUT to +IN at DAC ASSISTANT\n",
    "\n",
    "    Finds the correct DAC voltage to get a specific output at the DAC ASSISTANT\n",
    "    \"\"\"\n",
    "    assistant_v_in = assistant_v_out / 5 + 2.048\n",
    "    return assistant_v_in\n",
    "\n",
    "def convert_samples_to_volts(samples, gain=1):\n",
    "    \"\"\"Converts integer values to volts\n",
    "\n",
    "    Converts the measurements from the analog input of the ALPACA\n",
    "    into volts. Has an optional parameter `gain` which when set\n",
    "    to the gain of the AMP0/1 will automatically correct for \n",
    "    the applied gain.\n",
    "    \"\"\"\n",
    "    return samples / 65536 * 3.3 / gain\n",
    "\n",
    "# Instantiate a measurement pin Ain0 for the output signal\n",
    "adc0 = ADC(26) \n",
    "adc1 = ADC(27) "
   ]
  },
  {
   "cell_type": "code",
   "execution_count": null,
   "id": "7ed6d345",
   "metadata": {},
   "outputs": [],
   "source": [
    "# Settings\n",
    "V_MAX = 2\n",
    "V_MIN = -2\n",
    "MAX_TIME = 1\n",
    "DELAY_MS = 5 #20\n",
    "\n",
    "num_samples = int(MAX_TIME / DELAY_MS * 1000)\n",
    "output_signal = np.zeros(num_samples)\n",
    "input_signal = np.zeros(num_samples)\n",
    "\n",
    "assert num_samples < 3000, \"Error: can't take that many samples!\"\n",
    "\n",
    "with FuncGen(Square(\n",
    "    Vmin=convert_DAC_voltage(V_MIN), \n",
    "    Vmax=convert_DAC_voltage(V_MAX), \n",
    "    freq=10)):\n",
    "    \n",
    "    time.sleep_ms(100)\n",
    "    \n",
    "    for i in range(num_samples):\n",
    "      \n",
    "        v_out = adc0.read_u16()\n",
    "        output_signal[i] = v_out\n",
    "        \n",
    "        v_in = adc1.read_u16()\n",
    "        input_signal[i] = v_in\n",
    "\n",
    "        time.sleep_ms(DELAY_MS)\n",
    "\n",
    "print('Acquisiton done!')\n",
    "\n",
    "plt.plot(convert_samples_to_volts(output_signal, gain=0.1), color='r', label='Vout')\n",
    "plt.plot(convert_samples_to_volts(input_signal), color='b', label='Vin')\n",
    "plt.ylabel(\"Voltage [V]\")\n",
    "plt.xlabel(\"Sample number\")\n",
    "plt.grid()\n",
    "plt.legend()"
   ]
  },
  {
   "cell_type": "markdown",
   "id": "ac650934",
   "metadata": {},
   "source": [
    "## IMPLEMENT & INVESTIGATE 2: build a differentiator circuit\n",
    "> <font color='grey'>⏳ Estimated time: 10 min</font>"
   ]
  },
  {
   "cell_type": "markdown",
   "id": "dc416e50-6919-4934-a795-3df36c398b7d",
   "metadata": {},
   "source": [
    "\n",
    "- Change around the resistor and capacitor to build a differentiator.\n",
    "- Run the code below. Note it is almost identical to the code above, but uses a sine wave rather than a square wave.\n",
    "- Explain why the output signal looks the way it does."
   ]
  },
  {
   "cell_type": "code",
   "execution_count": null,
   "id": "8ecd4194-72d5-4186-b2d6-5aa9205bfc73",
   "metadata": {},
   "outputs": [],
   "source": [
    "with FuncGen(Sine(\n",
    "    Vmin=convert_DAC_voltage(V_MIN), \n",
    "    Vmax=convert_DAC_voltage(V_MAX), \n",
    "    freq=10)):\n",
    "    \n",
    "    time.sleep_ms(100)\n",
    "    \n",
    "    for i in range(num_samples):\n",
    "      \n",
    "        v_out = adc0.read_u16()\n",
    "        output_signal[i] = v_out\n",
    "        \n",
    "        v_in = adc1.read_u16()\n",
    "        input_signal[i] = v_in\n",
    "\n",
    "        time.sleep_ms(DELAY_MS)\n",
    "\n",
    "print('Acquisiton done!')\n",
    "\n",
    "plt.plot(convert_samples_to_volts(output_signal, gain=0.1), color='r', label='Vout')\n",
    "plt.plot(convert_samples_to_volts(input_signal), color='b', label='Vin')\n",
    "plt.ylabel(\"Voltage [V]\")\n",
    "plt.xlabel(\"Sample number\")\n",
    "plt.grid()\n",
    "plt.legend()"
   ]
  },
  {
   "cell_type": "markdown",
   "id": "fb4dcc85",
   "metadata": {},
   "source": [
    "> __<font color='blue'>Hint:</font>__\n",
    "> * Think about how the sine is generated. How does such a signal look when zoomed in in voltage and time?\n"
   ]
  },
  {
   "cell_type": "code",
   "execution_count": null,
   "id": "2b3d8363",
   "metadata": {},
   "outputs": [],
   "source": [
    "### TO DO=\" your explanation for why the measured output does not look like a (co)sine\" \n",
    " "
   ]
  },
  {
   "cell_type": "markdown",
   "id": "c5ad7d34",
   "metadata": {},
   "source": [
    "\n",
    "## COMPARE & CONCLUDE\n",
    "> <font color='grey'>⏳ Estimated time: 10 min</font>\n",
    "\n",
    "* Wait till all (4) group members finish their observation\n",
    "* Compare your results with your other group members. \n",
    "* If your results agree, and are in line with all predictions, then talk to a TA and get checked off\n",
    "* Otherwise, so if your results do not agree, or your results are not in line with your predictions, then first discuss amongst your group before getting a TA. \n",
    "\n",
    "**to be checked off by a TA:**\n",
    "1. Show the signal with the square wave input plus (not clipped) sawtooth\n",
    "2. You built and used a differentiator circuit with a sine input, but were (probably) unsuccesfull. The resulting data showed many spikes (short peaks). Discuss and explain what might have gone wrong\n",
    "   \n",
    "3. exit card: 1. Write a brief abstract on what you learned (conclusion, useful graph), 2. Which troubleshooting skills do you want to remember for next sessions, 3. Which code do you copy for use in next sessions,\n",
    "4. How do think this notebook could be improved"
   ]
  },
  {
   "cell_type": "code",
   "execution_count": null,
   "id": "03b6c4ad",
   "metadata": {},
   "outputs": [],
   "source": [
    "#13C integrator-differentiator\n",
    "### TO DO =\"2. explain why we can't build a differentiator with sine wave input\"\n",
    "\n",
    "### TO DO=\"3a. abstract\"\n",
    "\n",
    "### TO DO=\"3b. troubleshooting\"\n",
    "\n",
    "### TO DO=\"3c. code\"\n",
    "\n",
    "### TO DO=\"4. what changes would you suggest?\"\n"
   ]
  },
  {
   "cell_type": "markdown",
   "id": "65821008-e2e3-4785-945f-ffbbc41f7e37",
   "metadata": {},
   "source": [
    "* Recording LTSpice differentiator: https://www.youtube.com/watch?v=mQ2uJXnaF3g\n"
   ]
  },
  {
   "cell_type": "markdown",
   "id": "7edb61e9-1e19-4bd7-9277-89d14a63c7df",
   "metadata": {},
   "source": [
    "* Build instruction: https://www.youtube.com/watch?v=_DpsR8ohYJM\n"
   ]
  },
  {
   "cell_type": "code",
   "execution_count": null,
   "id": "c7ba8b23-d8d7-482e-aa29-ee14bc30f782",
   "metadata": {},
   "outputs": [],
   "source": []
  }
 ],
 "metadata": {
  "kernelspec": {
   "display_name": "Python 3",
   "language": "python",
   "name": "python3"
  },
  "language_info": {
   "codemirror_mode": {
    "name": "ipython",
    "version": 3
   },
   "file_extension": ".py",
   "mimetype": "text/x-python",
   "name": "python",
   "nbconvert_exporter": "python",
   "pygments_lexer": "ipython3",
   "version": "3.8.8"
  }
 },
 "nbformat": 4,
 "nbformat_minor": 5
}
