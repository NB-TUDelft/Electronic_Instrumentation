{
 "cells": [
  {
   "cell_type": "markdown",
   "id": "09f6a7f9-8574-4bf5-82ed-86c0c2f7d91c",
   "metadata": {},
   "source": [
    "<b>For use with: <font color=\"red\" >Alpaca Kernel</font></b>\n"
   ]
  },
  {
   "cell_type": "markdown",
   "id": "2fccec09-f78b-43f8-b1a3-b634a9df51bb",
   "metadata": {},
   "source": [
    "# 17B - Testing and Calibration\n",
    "\n",
    "## Overview\n",
    "\n",
    "Before you begin assembling your potentiostat, in this assignment, you will learn about the limitations of Alpaca and Pico by measuring noise, resolution, and differences between requested and generated signal.\n",
    "\n",
    "We expect you to eventually make a voltammogram with positive and negative currents and voltages. The location of the voltammogram peak depends on the substance you measure, but can be influenced by limitations of your system. In this 17B assignment you will explore those limitations.\n",
    "\n",
    "\n",
    "**If you are still unsure which design to choose, feel free to reach out to the TAs and discuss which option would be the most suitable for you and your partner.**\n",
    "\n",
    "\n",
    "### Goals\n",
    "\n",
    ">1. Learn:\n",
    ">    - how to save and read files with Pico, and make a habit of saving data regularly\n",
    ">    - how to handle errors effectively\n",
    ">    - more about the noise in Alpaca\n",
    ">2. Calibrate your DAC Assistant\n",
    ">3. Understand the limits of Alpaca+Pico measurements\n",
    "\n",
    "### Requirements\n",
    "\n",
    ">1. ❗❗❗ = Mandatory\n",
    ">2. 🏆 = Entirely optional. Interesting and useful. \n",
    ">3. 🏆🏆 = Optional. Recommended.\n",
    ">4. 🏆🏆🏆 = Recommended.\n",
    ">5. 🏆🏆🏆🐐 = Challenging. Surely, it's worth it!\n",
    "\n",
    "### Outline \n",
    "\n",
    ">1. Implement 1 - Introduction\n",
    ">    - I1.1 ❗❗❗ - Jumpers\n",
    ">    - I1.2 🏆🏆🏆 - Picotools\n",
    ">    - I1.3 🏆🏆🏆 - Saving files\n",
    ">    - I1.4 🏆🏆🏆 - Handling errors\n",
    ">2. Implement 2 - ADCs\n",
    ">    - I2.1 🏆 - Offset\n",
    ">    - I2.2 🏆🏆 - Noise\n",
    ">    - I2.3 🏆🏆🏆 - -12Vin to Cria\n",
    ">3. Implement 3 - DAC\n",
    ">    - I3.1 ❗❗❗ - Accuracy\n",
    ">    - I3.2 🏆🏆 - Noise\n",
    ">    - I3.3 🏆🏆🏆 - Resolution\n",
    ">4. Implement 4 🏆🏆 - Timing accuracy\n",
    ">6. Implement 5B - Basic design only - DAC Assistant\n",
    ">    - I5B.1 ❗❗❗ - Calibration\n",
    ">    - I5B.2 🏆🏆🏆 - Resolution\n",
    ">    - I5B.3 🏆🏆 - Noise\n",
    ">6. Implement 6B - Basic design only - GAIN 1:3\n",
    ">    - I6B.1 ❗❗❗ - Configure GAIN 1:3\n",
    ">    - I6B.2 🏆 - Noise\n",
    ">8. Implement 7 🏆🏆🏆🐐 - Helper functions\n",
    ">9. Compare and Conclude ❗❗❗\n",
    "\n"
   ]
  },
  {
   "cell_type": "markdown",
   "id": "ca990755-56cd-4531-9a4d-75072b31fb02",
   "metadata": {},
   "source": [
    "# Implement 1: Introduction\n",
    "\n",
    "## ❗❗❗ I1.1: Jumpers\n",
    "\n",
    "**Check your Alpaca - are all jumpers present?** <br>\n",
    "\n",
    "The Fritzing just below shows how your Alpaca should look like at the beginning of this project.<br> \n",
    "**Make sure that your Alpaca matches this layout.** <br>\n",
    "\n",
    "**Double check the four jumpers at `SPI DIRECT TO DAQ` and the two jumpers (or wires) at `AMPLIFIER DIRECT TO NANO`**\n",
    "\n",
    "<div style=\"text-align: center\">\n",
    "<img src=\"https://gitlab.tudelft.nl/mwdocter/nb2214-images/-/raw/main/voltammetry/2024/17_Fritzing_Alpaca_Check_Jumpers.png\" width=1000>\n",
    "<br>\n",
    "<em>Default ALPACA configuration for the Final Project</em>\n",
    "</div>\n",
    "<br>"
   ]
  },
  {
   "cell_type": "markdown",
   "id": "720cbf2e-76b5-4918-a2e6-b1956c334c60",
   "metadata": {},
   "source": [
    "## 🏆🏆🏆 I1.2: `Picotools` - Module for testing the potentiostat\n",
    "\n",
    "In the previous assignments, we defined all our custom functions in the cell of the notebook, which makes Jupyter notebooks so handy for prototyping, but for a larger project, this approach creates notebooks that are cumbersome to navigate. So, when your custom function is tested and ready for use later, or simply to have a better overview in your notebook, you may store its definition in an external Python file - a library, which is a simple, and a good practice to improve your workflow.\n",
    "\n",
    "As an example, we prepared a small library with some familiar and some new functions for automating the testing of the potentiostat, the `picotools.py`. \n",
    "\n",
    "> Download this file from Brightspace and save it in the folder with the notebook 17B.\n",
    "\n",
    "This file has to be sent to Pico using the *Alpaca kernel*, and imported like any other module that you have been using so far. This procedure will be explained throughout this notebook.\n",
    "\n",
    "**Feel free to take a peek into this file to learn more about the function that we prepared for you to speed up and simplify some of the procedures.**\n",
    "\n",
    "At some points throughout the Final Project, you might need to tailor some functions for your application. If you want to write your own, improved functions, you may simply add them to *picotools.py*, when they're ready for \"deployment\". You could also create your own library(-ies) to store some of the advanced Voltammetry procedures of your Final Project. So, consider the use case of *picotools* as a basic example and an inspiration towards advanced programming practices with Python.\n",
    "\n",
    "> *Please, bear in mind that *Picotools* is currently in version 0.2, so it is not a production-level module. It wasn't thoroughly tested by a large community, like for example `numpy`, so prepare to encounter many constraints, minimal documentation, and potentially some serious bugs. If that happens, please report them to us or take the matter in your hands and improve them right away.*"
   ]
  },
  {
   "cell_type": "markdown",
   "id": "3c89a769-61ae-46c6-a86e-4885a8ac6e9f",
   "metadata": {},
   "source": [
    "### Import `picotools`\n",
    "\n",
    "Follow the procedure in the cells below to import `picotools`.\n",
    "\n",
    "> This procedure assumes that you have already downloaded `picotools.py` from Brightspace and placed it in the same folder with this notebook."
   ]
  },
  {
   "cell_type": "code",
   "execution_count": null,
   "id": "1d7c20a5-c1ec-4a99-af3e-c6cb54cb7fc5",
   "metadata": {},
   "outputs": [],
   "source": [
    "%serialconnect to --port=\"COM5\""
   ]
  },
  {
   "cell_type": "code",
   "execution_count": null,
   "id": "88fc9660-0034-4c05-ab9b-83fd59cbef04",
   "metadata": {},
   "outputs": [],
   "source": [
    "%sendtofile /picotools.py --source picotools.py"
   ]
  },
  {
   "cell_type": "code",
   "execution_count": null,
   "id": "a92fddae-c44a-4e6f-bb26-a5fe03befe64",
   "metadata": {},
   "outputs": [],
   "source": [
    "import picotools as pico"
   ]
  },
  {
   "cell_type": "code",
   "execution_count": null,
   "id": "c951f5a5-cb16-415c-90d6-c0ebb3069757",
   "metadata": {},
   "outputs": [],
   "source": [
    "import numpy as np\n",
    "import matplotlib.pyplot as plt\n",
    "\n",
    "import os\n",
    "import machine\n",
    "\n",
    "import time"
   ]
  },
  {
   "cell_type": "markdown",
   "id": "2f667ec0-4ba5-45b4-a99d-1e50362564d8",
   "metadata": {},
   "source": [
    "Now, all functions and variables specified in the `picotools.py` are available under as methods of the `pico.` object, so for example:\n",
    "\n",
    "```python\n",
    "# Example of a function in picotools\n",
    "pico.test_ADC()\n",
    "```\n",
    "\n",
    "Note that we also have to additionally import all the usual modules."
   ]
  },
  {
   "cell_type": "markdown",
   "id": "18adc54b-0f16-4a29-9676-e6001ff688b7",
   "metadata": {},
   "source": [
    "## 🏆🏆🏆 I1.3: Saving files"
   ]
  },
  {
   "cell_type": "markdown",
   "id": "340387d1-9d4b-4e8c-bdc9-14a1a3754a09",
   "metadata": {},
   "source": [
    "Because of the very limited storage in Pico's memory, you will have to develop a habit to regularly save your measurements. \n",
    "\n",
    "It is **crucial** in this project!\n",
    "\n",
    "Because of the amount of data that will be generated during your measurements, you will very often overload Pico's memory, and most likely have to reset it regularly.\n",
    "In this notebook, we will show you how to do it safely and to avoid frustration of lost data.\n",
    "\n",
    "Follow the recipe below to learn how to shuttle files between Pico and your computer. It is a little cumbersome, so we prepared some examples for you."
   ]
  },
  {
   "cell_type": "markdown",
   "id": "1e684d95-c30f-4577-9b9f-ab75908e0361",
   "metadata": {},
   "source": [
    "### Saving textfiles\n",
    "\n",
    "In the example below, you can also learn how to make a timestamp for your measurement."
   ]
  },
  {
   "cell_type": "code",
   "execution_count": null,
   "id": "c06a3409-e3f5-42a1-8f7f-65145a317244",
   "metadata": {},
   "outputs": [],
   "source": [
    "# Initialize the RTC (Real-time Clock)\n",
    "rtc = machine.RTC()\n",
    "\n",
    "# Get the current date and time\n",
    "year, month, day, weekday, hours, minutes, seconds, subseconds = rtc.datetime()\n",
    "\n",
    "# Define the file path\n",
    "file_path = 'Greeting.txt'\n",
    "\n",
    "# Create the greeting message\n",
    "file_content = (\n",
    "    \"Hello from Pico Pi and Alpaca!\\n\"\n",
    "    f\"File saved on: {year:04d}-{month:02d}-{day:02d} {hours:02d}:{minutes:02d}:{seconds:02d}.\\n\"\n",
    ")\n",
    "\n",
    "# Writing to the file\n",
    "with open(file_path, 'w') as file:\n",
    "    file.write(file_content)\n",
    "\n",
    "print(\"Greeting saved to Greeting.txt\")"
   ]
  },
  {
   "cell_type": "code",
   "execution_count": null,
   "id": "ded338bf-a956-4536-bbaa-fb457200e088",
   "metadata": {},
   "outputs": [],
   "source": [
    "# This is the essential command to fetch your file from Pico to your computer\n",
    "%fetchfile --binary \"Greeting.txt\" \"Greeting_from_Pico.txt\""
   ]
  },
  {
   "cell_type": "code",
   "execution_count": null,
   "id": "2b3996c6-9696-4b24-8e4d-09abc8c96e5a",
   "metadata": {},
   "outputs": [],
   "source": [
    "# This is a helper function to list all files currently in Pico's storage\n",
    "pico.list_files()"
   ]
  },
  {
   "cell_type": "code",
   "execution_count": null,
   "id": "bdb08322-1f03-4175-91e7-ac74213015f2",
   "metadata": {},
   "outputs": [],
   "source": [
    "# This is how you can remove a file\n",
    "pico.remove_file('Greeting.txt')"
   ]
  },
  {
   "cell_type": "code",
   "execution_count": null,
   "id": "6fc9545a-4ecb-44a6-addf-ef9c22f5fa01",
   "metadata": {},
   "outputs": [],
   "source": [
    "pico.list_files()"
   ]
  },
  {
   "cell_type": "markdown",
   "id": "3d5a7e49-7e32-489e-a622-ae96416c010a",
   "metadata": {},
   "source": [
    "### Saving numerical data\n",
    "\n",
    "Once you record the signal from multiple ADCs during a single measurement, **always save it in a temporary array on Pico**, i.e. `temporary_data.npy` and then fetch it from Pico to your computer. \n",
    "\n",
    "There is usually only enough storage on Pico for **just one** such aggregated array, so every time you run a new, *long* measurement, you must overwrite the already existing `temporary_data.npy` file. You could also, always remove it after use and create a new one after the next measurement. \n",
    "\n",
    "> How long is a *long* measurement? <br>\n",
    ">\n",
    "> - Anything with more than `NUM_SAMPLES > 500` might cause some trouble for storage or plotting. Remember that Pico will most likely have to handle multiple arrays of that size internally.\n",
    ">   <br><br> **For the regular measurements, we recommend `NUM_SAMPLES=1000`** <br><br> and only if you are confident that your code works, go for longer arrays in your final measurement. <br> *In our experience, and with the most optimised code, we managed to succesfully record and handle three arrays of `NUM_SAMPLES=3600`.*\n",
    "\n",
    "This procedure is again a little cumbersome, but **we will push Pico to its limits in this project to run high quality measurements.**\n",
    "\n",
    "You may use the code below as a template for later use."
   ]
  },
  {
   "cell_type": "code",
   "execution_count": null,
   "id": "bc202b59-cf6a-41e0-95d4-3f3dfe64f88a",
   "metadata": {},
   "outputs": [],
   "source": [
    "DATA=np.zeros((3,3))\n",
    "DATA[0,:]=1 \n",
    "DATA[1,:]=2\n",
    "DATA[2,:]=3\n",
    "\n",
    "np.save('temporary_data.npy', DATA)\n",
    "del(DATA)"
   ]
  },
  {
   "cell_type": "code",
   "execution_count": null,
   "id": "2b77775d-4889-4e7a-8812-3df479fff2ab",
   "metadata": {},
   "outputs": [],
   "source": [
    "%fetchfile --binary \"temporary_data.npy\" \"Greeting_DATA_from_Pico.npy\""
   ]
  },
  {
   "cell_type": "markdown",
   "id": "0b130f76-8040-4972-80a8-c1049cd6e819",
   "metadata": {},
   "source": [
    "💡 **Always check if the `Fetched XXX=XXX bytes`.** There are known issues with large files. Retrying often works, but for very large files, different solutions must be found."
   ]
  },
  {
   "cell_type": "code",
   "execution_count": null,
   "id": "7a61168d-6f96-4233-bd93-02c835f83a7f",
   "metadata": {},
   "outputs": [],
   "source": [
    "pico.remove_file('temporary_data.npy')"
   ]
  },
  {
   "cell_type": "markdown",
   "id": "dd67c01a-ecfa-457e-8de6-35b2d21ec514",
   "metadata": {},
   "source": [
    "## 🏆🏆🏆 I1.4:Handling Errors"
   ]
  },
  {
   "cell_type": "markdown",
   "id": "69361405-a075-4487-9c88-2f1b82f174ae",
   "metadata": {},
   "source": [
    "Saving data and optimising storage is one thing, but Pico's internal memory is another, and managing that is a very difficult task, so in order to prevent trouble here, we propose that you **regularly reset your Pico.** \n",
    "\n",
    "> What is the `machine.soft_reset()`?\n",
    ">\n",
    "> - In short, *Soft reset* mimics disconnecting and connecting the USB cable between Pico and your computer.\n",
    "> - It restarts Pico, which means that all your variables, i.e. you unsaved data, will be lost. We perform this reset to easily clear Pico's internal memory (not the storage, not your files). This means that all typical errors with plotting and handling data will be resolved.\n",
    "> - It also means that you will have to re-import all usual modules.\n",
    "\n",
    "**Use the two cells below to *restart* your Pico and start anew.**"
   ]
  },
  {
   "cell_type": "markdown",
   "id": "2b3ca2cd-6029-40d0-b610-759cd12cfacf",
   "metadata": {},
   "source": [
    "### Resetting Pico\n"
   ]
  },
  {
   "cell_type": "code",
   "execution_count": null,
   "id": "094290ee-2c93-4062-bcd5-55cb1c55137d",
   "metadata": {},
   "outputs": [],
   "source": [
    "# Note that you can execute machine.soft_reset() only when Pico is already connected. \n",
    "machine.soft_reset()"
   ]
  },
  {
   "cell_type": "code",
   "execution_count": null,
   "id": "77723efc-4ffc-4e27-b80d-0c1be14fe602",
   "metadata": {},
   "outputs": [],
   "source": [
    "# Default cell for re-connecting Pico, re-importing picotools and the usual modules.\n",
    "%serialconnect to --port=\"COM5\"\n",
    "\n",
    "%sendtofile /picotools.py --source picotools.py\n",
    "\n",
    "import picotools as pico\n",
    "\n",
    "import numpy as np\n",
    "import matplotlib.pyplot as plt"
   ]
  },
  {
   "cell_type": "code",
   "execution_count": null,
   "id": "74ede8c5-19f0-4d65-999a-0836d8678227",
   "metadata": {},
   "outputs": [],
   "source": [
    "# If you want to disconnect Pico from this notebook, use this command:\n",
    "# %disconnect"
   ]
  },
  {
   "cell_type": "markdown",
   "id": "3706adba-b48a-40e9-8aec-c0032fdd7b8e",
   "metadata": {},
   "source": [
    "# Implement 2: Exploring the limits of the ADCs\n",
    "\n",
    "Did you know that measuring very low voltages with Pico might be problematic? This is especially relevant for the Basic Design. Can you argue why it is so?\n",
    "\n",
    ">Goal 1: Measure the baseline noise level, without any signal on the ADC's. <br>\n",
    ">Goal 2: Observe ADC ground error and the improvement with `-12V` connected to Cria\n",
    "\n",
    "<details>\n",
    "<summary>\n",
    "<font color='darkred' size=4>💡<b>Fritzing: ADC Test</b></font>\n",
    "</summary>\n",
    "\n",
    "<div style=\"text-align: center\">\n",
    "<img src=\"https://gitlab.tudelft.nl/mwdocter/nb2214-images/-/raw/main/voltammetry/2024/17_Fritzing_Alpaca_Check_Jumpers.png\" width=1000>\n",
    "<br>\n",
    "<em>ADC Baseline Test - Do not connect anything to ADCs</em>\n",
    "</div><br>\n",
    "</details> \n",
    "<br>\n"
   ]
  },
  {
   "cell_type": "markdown",
   "id": "902bface-2c2c-4f91-abf3-eebfd2f733e4",
   "metadata": {},
   "source": [
    "## 🏆 I2.1: Baseline offset\n",
    "\n",
    "First, find out what's the baseline offset of the ADCs, so without any inputs \n",
    "\n",
    "> Behind the scenes, the `ADC0` and `ADC1` will be measured via the Alpaca's amplifiers. Let's see if they're really 0V!\n",
    "> In detail:\n",
    ">\t1. `Ain0` via `ADC0` (Jumpers on AMPLIFIER DIRECT TO NANO, directly in the cut on the right side of the Cria)\n",
    ">\t2. `Ain1` via `ADC1`\n",
    ">\t3. `Ain2` directly\n",
    "\n",
    "Let's start with *the reset* to develop a habit:"
   ]
  },
  {
   "cell_type": "code",
   "execution_count": null,
   "id": "0db390cf-1bdc-49a1-aa93-43b37f1d9f94",
   "metadata": {},
   "outputs": [],
   "source": [
    "machine.soft_reset()"
   ]
  },
  {
   "cell_type": "code",
   "execution_count": null,
   "id": "7cff4ce8-a920-4b24-9e32-cc04648805e2",
   "metadata": {},
   "outputs": [],
   "source": [
    "%serialconnect to --port=\"COM5\"\n",
    "\n",
    "%sendtofile /picotools.py --source picotools.py\n",
    "\n",
    "import picotools as pico\n",
    "\n",
    "import numpy as np\n",
    "import matplotlib.pyplot as plt\n"
   ]
  },
  {
   "cell_type": "code",
   "execution_count": null,
   "id": "48b4d8ec-f887-4d3f-b8e3-50618795623a",
   "metadata": {},
   "outputs": [],
   "source": [
    "# Run the test:\n",
    "AMP0, AMP1, Ain2 = pico.test_ADC()"
   ]
  },
  {
   "cell_type": "code",
   "execution_count": null,
   "id": "4980b413-c4e8-4828-8035-e1b2e9a6bdaa",
   "metadata": {},
   "outputs": [],
   "source": [
    "# Remember to convert ADC samples to Volts!\n",
    "AMP0v = pico.convert_samples_to_volts(AMP0, gain=1)\n",
    "AMP1v = pico.convert_samples_to_volts(AMP1, gain=1)\n",
    "Ain2v = pico.convert_samples_to_volts(Ain2, gain=1)\n",
    "\n",
    "# Plot the baseline offset\n",
    "plt.plot(AMP0v, label='AMP0')\n",
    "plt.plot(AMP1v, label='AMP1')\n",
    "plt.plot(Ain2v, label='Ain2')\n",
    "plt.xlabel('Sample')\n",
    "plt.ylabel('Signal [V]')\n",
    "plt.legend()"
   ]
  },
  {
   "cell_type": "markdown",
   "id": "e34d58f6-3984-46f7-a030-7ee7bec402df",
   "metadata": {},
   "source": [
    "It's most likely not 0V!\n",
    "\n",
    "Let's run some statistics and investigate this further."
   ]
  },
  {
   "cell_type": "markdown",
   "id": "27991552-90bb-4fe9-a46d-066388d38e42",
   "metadata": {},
   "source": [
    "## 🏆🏆 I2.2: ADC - Noise\n",
    "\n",
    "Run the cells below to compute the errors and find out more about the nature of this noise."
   ]
  },
  {
   "cell_type": "code",
   "execution_count": null,
   "id": "46368381-64ae-46c7-a30d-997e7ff727f3",
   "metadata": {},
   "outputs": [],
   "source": [
    "avg_signal_Ain0, std_dev_Ain0 = pico.compute_noise_statistics(AMP0v)\n",
    "avg_signal_Ain1, std_dev_Ain1 = pico.compute_noise_statistics(AMP1v)\n",
    "avg_signal_Ain2, std_dev_Ain2 = pico.compute_noise_statistics(Ain2v)"
   ]
  },
  {
   "cell_type": "markdown",
   "id": "dfeee20e-a24c-418f-b8dd-0849befd5fb1",
   "metadata": {},
   "source": [
    "1. Make a note of the magnitude of the error. **Will it affect your Voltammetry measurements?**\n",
    "2. What is the magnitude of the noise? **How does it compare to the resolution of ADCs?**"
   ]
  },
  {
   "cell_type": "code",
   "execution_count": null,
   "id": "393c09c8-f4ea-4525-bda2-8df7806ebe6f",
   "metadata": {},
   "outputs": [],
   "source": [
    "### Notes"
   ]
  },
  {
   "cell_type": "code",
   "execution_count": null,
   "id": "653cec4c-6491-4ab5-bf7e-e22829f46704",
   "metadata": {},
   "outputs": [],
   "source": [
    "pico.plot_noise_spectrum(AMP0v, label=\"AMP0\")\n",
    "pico.plot_noise_spectrum(AMP1v, label=\"AMP1\")\n",
    "pico.plot_noise_spectrum(Ain2v, label=\"Ain2\")\n",
    "plt.legend()"
   ]
  },
  {
   "cell_type": "markdown",
   "id": "86705e30-6a0b-4dac-8346-3ed2b346f2e7",
   "metadata": {},
   "source": [
    "3. Are there any significantly dominanting frequencies?\n",
    "\n",
    "Let's save the original data for practice, and for reference!"
   ]
  },
  {
   "cell_type": "code",
   "execution_count": null,
   "id": "ba058fea-c520-49e9-b25c-a60d5d4458e1",
   "metadata": {},
   "outputs": [],
   "source": [
    "DATA=np.zeros((3,pico.NUM_SAMPLES))\n",
    "DATA[0,:]=AMP0 \n",
    "DATA[1,:]=AMP1\n",
    "DATA[2,:]=Ain2\n",
    "\n",
    "np.save('temporary_data.npy', DATA)\n",
    "del(DATA)"
   ]
  },
  {
   "cell_type": "code",
   "execution_count": null,
   "id": "a7c131d5-6f0f-4ae6-a356-0a333032bdb1",
   "metadata": {},
   "outputs": [],
   "source": [
    "%fetchfile --binary \"temporary_data.npy\" \"ADC_Baseline_Test_DATA.npy\" # for I2.2\n",
    "#%fetchfile --binary \"temporary_data.npy\" \"ADC_Baseline_Test_DATA-12V.npy\" #for I2.3 (the next section)"
   ]
  },
  {
   "cell_type": "markdown",
   "id": "d2d234ff-3ef8-4f2f-973e-c692e6b01714",
   "metadata": {},
   "source": [
    "## 🏆🏆🏆 I2.3: Test ADCs with -12V connected to Cria\n",
    "\n",
    "<font color='#FF5F15' size=4>⚠️</font> \n",
    "<font color='#FF5F15' size=3><b>Warning:</b> Use the Fritzing below to carefully connect -12V to Cria: Orange LED will light up!</font> \n",
    "<details>\n",
    "<summary>\n",
    "<font size=3>💡</font> <b>Fritzing: -12V to Cria</b>\n",
    "</summary>\n",
    "\n",
    "<div style=\"text-align: center\">\n",
    "<img src=\"https://gitlab.tudelft.nl/mwdocter/nb2214-images/-/raw/main/voltammetry/2024/17_Fritzing_Alpaca_ADC_test_with_-12in.png\" width=1000>\n",
    "<br>\n",
    "<em>Connecting -12V source in Alpaca to Cria's J5:-12V in </em>\n",
    "</div><br>\n",
    "</details> \n",
    "\n",
    "\n",
    "1. Re-run the test from *I2.2* with `-12V` connected to the '-12V in' pin on the multifunction connector. \n",
    "2. Use a different name for your data file on your laptop (ADC_Baseline_Test_DATA), otherwise you overwrite previous data. Use our hint in the comments.\n",
    "3. In the cell below, compare the average noise signal without any input signal, in the two cases: with and without `-12V in`\n",
    "4. Argue whether it is better to work with `-12V in` or without?"
   ]
  },
  {
   "cell_type": "code",
   "execution_count": null,
   "id": "ecdbe649-291d-4e91-bcda-aa0b83742ba0",
   "metadata": {},
   "outputs": [],
   "source": [
    "### Notes"
   ]
  },
  {
   "cell_type": "markdown",
   "id": "2b0f3b28-4355-4106-85ea-f62cf177f4e8",
   "metadata": {},
   "source": [
    "# Implement 3: Exploring the limits of the DAC\n",
    "\n",
    "In this section, you will have a closer look at the accuracy, noise and the resolution of the DAC. Use the provided Fritzing for this test.\n",
    "\n",
    "> Goal: Measure the noise in the signal applied from `DACA` to the `ADC`s. <br>\n",
    "> <br>\n",
    "> You will be using amplifiers (attenuations 1:1 and 1:3) and measuring directly to Ain2.\n",
    "\n",
    "\n",
    "<details>\n",
    "<summary>\n",
    "<font color='darkred' size=4>💡 <b>Fritzing: DAC Test</b></font>\n",
    "</summary>\n",
    "<br>\n",
    "<div style=\"text-align: center\">\n",
    "<img src=\"https://gitlab.tudelft.nl/mwdocter/nb2214-images/-/raw/main/voltammetry/2024/17_Fritzing_DAC_Test.png\" width=1000>\n",
    "<br>\n",
    "<em>DAC Test</em>\n",
    "</div><br>\n",
    "</details> <br>\n",
    "\n",
    "Let's again start with a reset to clear Pico's memory."
   ]
  },
  {
   "cell_type": "code",
   "execution_count": null,
   "id": "8ca1afaf-c7f4-4ce4-9918-85f8d7e16461",
   "metadata": {},
   "outputs": [],
   "source": [
    "machine.soft_reset()"
   ]
  },
  {
   "cell_type": "code",
   "execution_count": null,
   "id": "85066e35-7ed7-40f3-9c34-32d4ba3f939d",
   "metadata": {},
   "outputs": [],
   "source": [
    "%serialconnect to --port=\"COM5\"\n",
    "\n",
    "%sendtofile /picotools.py --source picotools.py\n",
    "\n",
    "import picotools as pico\n",
    "\n",
    "import numpy as np\n",
    "import matplotlib.pyplot as plt\n",
    "\n",
    "import machine\n"
   ]
  },
  {
   "cell_type": "markdown",
   "id": "fd1763be-6ce2-461c-8bc4-1b881e7e8a9d",
   "metadata": {},
   "source": [
    "## ❗❗❗ I3.1 DAC - Accuracy\n",
    "\n",
    "The function in the cell below performs a sweep over all values of `DACA` and measures it with all three ADCs to check the accuracy of the measurement."
   ]
  },
  {
   "cell_type": "code",
   "execution_count": null,
   "id": "6b6d5a7b-b2b6-45c1-b64c-b4894e52fedc",
   "metadata": {},
   "outputs": [],
   "source": [
    "ref, Ain0, Ain1, Ain2, err_out_0, err_out_1, err_out_2 = pico.test_DAC_A(NUM_SAMPLES = 100, gain0=1, gain1=0.3333)"
   ]
  },
  {
   "cell_type": "code",
   "execution_count": null,
   "id": "adf722c5-70de-495a-abf4-283eb494237a",
   "metadata": {},
   "outputs": [],
   "source": [
    "# Plot the measured DACA output vs Expected DACA output\n",
    "plt.plot(ref, Ain0, label='AMP0')\n",
    "plt.plot(ref, Ain1, label='AMP1')\n",
    "plt.plot(ref, Ain2, label='Ain2')\n",
    "plt.xlabel(\"Expected value from the DACA output [V]\")\n",
    "plt.ylabel(\"DACA measured output [V]\")\n",
    "plt.legend()"
   ]
  },
  {
   "cell_type": "code",
   "execution_count": null,
   "id": "54e701df-2b4c-44c8-9104-b3664ce24f51",
   "metadata": {},
   "outputs": [],
   "source": [
    "# Plot the DACA Error vs DACA expected output\n",
    "plt.plot(ref, err_out_0*1e3, label='AMP0')\n",
    "plt.plot(ref, err_out_1*1e3, label='AMP1')\n",
    "plt.plot(ref, err_out_2*1e3, label='Ain2')\n",
    "plt.xlabel(\"Expected value from the DACA output [V]\")\n",
    "plt.ylabel(\"DACA measured error [mV]\")\n",
    "plt.legend()"
   ]
  },
  {
   "cell_type": "markdown",
   "id": "96bba607-03e8-4306-aa9c-07084c231d51",
   "metadata": {},
   "source": [
    "1. Make a note of the magnitude of the error. **Will it affect your Voltammetry measurements?**\n",
    "2. **Does it change when you disconnect -12V from Cria?** Run the measurements in the section with and without this connection."
   ]
  },
  {
   "cell_type": "code",
   "execution_count": null,
   "id": "7582bb39-84d0-4731-9002-f7826a37e6e8",
   "metadata": {},
   "outputs": [],
   "source": [
    "# Notes"
   ]
  },
  {
   "cell_type": "markdown",
   "id": "8c14f4d5-542a-4ea4-89df-8c256b86a1e6",
   "metadata": {},
   "source": [
    "## 🏆🏆 I3.2 DAC - Noise\n",
    "\n",
    "Run the cells below to measure the noise of the DAC output."
   ]
  },
  {
   "cell_type": "code",
   "execution_count": null,
   "id": "a8e7388d-53e4-41fc-86b7-1c31b96cebf6",
   "metadata": {},
   "outputs": [],
   "source": [
    "DCsetpoint = 1 # Set the DACA output value to test its accuracy\n",
    "AMP0,AMP1,Ain2 = pico.SetDAC_and_MeasureADC0andADC1andADC2(DCsetpoint)"
   ]
  },
  {
   "cell_type": "code",
   "execution_count": null,
   "id": "8087362f-8836-41c0-b62a-973f1e0d938d",
   "metadata": {},
   "outputs": [],
   "source": [
    "AMP0v = pico.convert_samples_to_volts(AMP0)\n",
    "AMP1v = pico.convert_samples_to_volts(AMP1, gain=0.333)\n",
    "Ain2v = pico.convert_samples_to_volts(Ain2)"
   ]
  },
  {
   "cell_type": "code",
   "execution_count": null,
   "id": "89cdf551-5058-4cdc-beb8-d4945dad175f",
   "metadata": {},
   "outputs": [],
   "source": [
    "plt.plot(AMP0v[:500], label='AMP0')\n",
    "plt.plot(AMP1v[:500], label='AMP1')\n",
    "plt.plot(Ain2v[:500], label='Ain2')\n",
    "plt.xlabel('Sample')\n",
    "plt.ylabel('Signal [V]')\n",
    "plt.legend()"
   ]
  },
  {
   "cell_type": "markdown",
   "id": "25c8b854-1a1b-4a95-bd79-9d8e0dfeec43",
   "metadata": {},
   "source": [
    "It's probably not as stable as you would expect it!\n",
    "\n",
    "Let's run some familiar statistics in the next section."
   ]
  },
  {
   "cell_type": "code",
   "execution_count": null,
   "id": "6bea76c0-e390-4a4c-a4bf-6adb4835a9f8",
   "metadata": {},
   "outputs": [],
   "source": [
    "avg_signal_AMP0v, std_dev_AMP0v = pico.compute_noise_statistics(AMP0v, DC=DCsetpoint)\n",
    "avg_signal_AMP1v, std_dev_AMP1v = pico.compute_noise_statistics(AMP1v, DC=DCsetpoint)\n",
    "avg_signal_Ain2v, std_dev_Ain2v = pico.compute_noise_statistics(Ain2v, DC=DCsetpoint)"
   ]
  },
  {
   "cell_type": "code",
   "execution_count": null,
   "id": "f33c9d84-c507-4641-99e1-7caf1f9def55",
   "metadata": {},
   "outputs": [],
   "source": [
    "pico.plot_noise_spectrum(AMP0v, label=\"AMP0\")\n",
    "pico.plot_noise_spectrum(AMP1v, label=\"AMP1\")\n",
    "pico.plot_noise_spectrum(Ain2v, label=\"Ain2\")\n",
    "plt.legend()"
   ]
  },
  {
   "cell_type": "markdown",
   "id": "b702c0af-e429-4291-8ecd-8c7c18d1d668",
   "metadata": {},
   "source": [
    "## Conclude \n",
    "\n",
    "Just like in the ADC Test:\n",
    "\n",
    "1. Make a note of the magnitude of the error. **Will it affect your Voltammetry measurements?**\n",
    "2. Is there any significantly dominant frequency? **Does it change when you disconnect -12V from Cria?**\n",
    "3. What is the magnitude of the noise? **How does it compare to the resolution of DAC?**\n",
    "\n",
    "The last answer is especially important for finding out the limits for the Voltammetry measurements."
   ]
  },
  {
   "cell_type": "code",
   "execution_count": null,
   "id": "76bbc753-d18f-4748-90fa-2fe748bfc973",
   "metadata": {},
   "outputs": [],
   "source": [
    "### Notes"
   ]
  },
  {
   "cell_type": "markdown",
   "id": "bbc634d3-cbe4-46b1-b420-18706e7d3657",
   "metadata": {},
   "source": [
    "Let's save the acquired data - *for practice, and for future reference!*"
   ]
  },
  {
   "cell_type": "code",
   "execution_count": null,
   "id": "eec9fdd4-025e-4d04-8e3d-43dc15ef39b0",
   "metadata": {},
   "outputs": [],
   "source": [
    "DATA=np.zeros((3,pico.NUM_SAMPLES))\n",
    "DATA[0,:]=Ain0v \n",
    "DATA[1,:]=Ain1v\n",
    "DATA[2,:]=Ain2v\n",
    "\n",
    "np.save('temporary_data.npy', DATA)\n",
    "del(DATA)"
   ]
  },
  {
   "cell_type": "code",
   "execution_count": null,
   "id": "c6b62151-cf76-46ce-abb0-a0bef135e7bb",
   "metadata": {},
   "outputs": [],
   "source": [
    "%fetchfile --binary \"temporary_data.npy\" \"DAC_Setpoint_Test_DATA_-12V.npy\"\n",
    "# %fetchfile --binary \"temporary_data.npy\" \"DAC_Setpoint_Test_DATA.npy\""
   ]
  },
  {
   "cell_type": "markdown",
   "id": "c5798f76-6e65-4d41-9750-d6fe9ed66e8f",
   "metadata": {},
   "source": [
    "## 🏆🏆🏆 I3.3 Resolution\n",
    "\n",
    "In this section, you will experimentally find the resolution of the DAC. Use the same setup as before.\n",
    "\n",
    "The provided test function: `pico.test_dac_resolution` measures a voltage ramp from `DACA` over very fine steps of `step_mV=0.1mV` over a range of `span_mV=10mV` using the `ADC0` via amplifier `AMP0`.\n",
    "\n",
    "In the first attempt, `DACA` is set to a desired value, and it is measured only once at each step. \n",
    "\n",
    "1. Run the code below"
   ]
  },
  {
   "cell_type": "code",
   "execution_count": null,
   "id": "04f183f8-f843-4924-9cb2-85036b248186",
   "metadata": {},
   "outputs": [],
   "source": [
    "machine.soft_reset()"
   ]
  },
  {
   "cell_type": "code",
   "execution_count": null,
   "id": "0e2a81b7-8729-46db-b65a-65a488062cd7",
   "metadata": {},
   "outputs": [],
   "source": [
    "%serialconnect to --port=\"COM5\"\n",
    "\n",
    "%sendtofile /picotools.py --source picotools.py\n",
    "\n",
    "import picotools as pico\n",
    "\n",
    "import numpy as np\n",
    "import matplotlib.pyplot as plt\n",
    "import machine"
   ]
  },
  {
   "cell_type": "code",
   "execution_count": null,
   "id": "92ce38bb-984e-402f-a5a1-2b4be0a5fb63",
   "metadata": {},
   "outputs": [],
   "source": [
    "voltages, ADC0, ADC0_errors, mean_error = pico.test_dac_resolution(adc=pico.adc0,gain=1,step_mV=0.1,set_initial_voltage_mV=2500,span_mV=10, N_iter=1)\n",
    "\n",
    "plt.plot(voltages, ADC0, label=\"ADC0 Measurement\")\n",
    "plt.xlabel(\"DAC Voltage (mV)\")\n",
    "plt.ylabel(\"ADC Reading (mV)\")\n",
    "plt.title(\"DAC Voltage vs ADC Reading from a single measurement\")\n",
    "plt.legend()\n",
    "plt.grid(True)"
   ]
  },
  {
   "cell_type": "markdown",
   "id": "1e4bb95d-c3d9-4978-bda9-ce06c3f68780",
   "metadata": {},
   "source": [
    "2. Have a look at the value of the *Absolute mean error* printed above the plot. Does it look familiar? \n",
    "\n",
    "Most likely it's similar to the ADC noise and DAC accuracy that you measured before. Confirm with the statistics plot below."
   ]
  },
  {
   "cell_type": "code",
   "execution_count": null,
   "id": "43b222ce-48b1-40a9-bea6-b20678f93560",
   "metadata": {},
   "outputs": [],
   "source": [
    "plt.plot(voltages, ADC0_errors, label=\"ADC0 Measurement\")\n",
    "plt.xlabel(\"DAC Voltage (mV)\")\n",
    "plt.ylabel(\"ADC Reading Error (mV)\")\n",
    "plt.title(\"DAC Voltage vs ADC Reading Error from a single measurement\")\n",
    "plt.legend()\n",
    "plt.grid(True)"
   ]
  },
  {
   "cell_type": "markdown",
   "id": "b9fca8b1-5c6b-456b-ba59-24f89edc7c36",
   "metadata": {},
   "source": [
    "We must therefore average over several measurements to resolve the finer steps. It turns out, that we must average a lot! \n",
    "\n",
    "3. In the next cell, each step is measured 4000 times! So, **it will take a few seconds to complete the measurement**, but be patient - It's worth it!\n",
    "\n",
    "    > If by any chance, this large number of iterations causes a problem with Pico, you just learned why we need all those cumbersome *save-and-reset* procedures. <br>\n",
    "    > Try lowering the `N_iter` to 1000 or so and reset Pico to resolve this issue. Then, re-run this entire section."
   ]
  },
  {
   "cell_type": "code",
   "execution_count": null,
   "id": "5865de8b-b9f7-4e6e-af7f-3734b3d4ad2c",
   "metadata": {},
   "outputs": [],
   "source": [
    "voltages, ADC0, ADC0_errors, noise = pico.test_dac_resolution(adc=pico.adc0,gain=1,step_mV=0.1,set_initial_voltage_mV=2500,span_mV=10, N_iter=4000)\n",
    "\n",
    "plt.plot(voltages, ADC0, label=\"ADC0 Measurement\")\n",
    "plt.xlabel(\"DAC Voltage (mV)\")\n",
    "plt.ylabel(\"ADC Reading (mV)\")\n",
    "plt.title(\"DAC Voltage vs ADC Reading from averaged measurement\")\n",
    "plt.legend()\n",
    "plt.grid(True)"
   ]
  },
  {
   "cell_type": "markdown",
   "id": "fc1bfd5b-fe7c-4b54-878d-681c3688480f",
   "metadata": {},
   "source": [
    "If everything went well, and you see *a staircase*, you should be able to deduce the DAC's resolution from the plot!\n",
    "\n",
    "And you can also confirm it from the amplitude of the error plotted below."
   ]
  },
  {
   "cell_type": "code",
   "execution_count": null,
   "id": "59e1ba49-4b61-4b72-9b6b-5817ac16c632",
   "metadata": {},
   "outputs": [],
   "source": [
    "plt.plot(voltages, ADC0_errors, label=\"ADC0 Measurement\")\n",
    "plt.xlabel(\"DAC Voltage (mV)\")\n",
    "plt.ylabel(\"ADC Reading Error (mV)\")\n",
    "plt.title(\"DAC Voltage vs ADC Reading Error from averaged measurement\")\n",
    "plt.legend()\n",
    "plt.grid(True)"
   ]
  },
  {
   "cell_type": "markdown",
   "id": "d45f8fb9-bac3-452f-aca2-b2b55798ac79",
   "metadata": {},
   "source": [
    "## Conclusions\n",
    "Think about the following questions and make some notes:\n",
    "\n",
    "1.  What can you conclude about:\n",
    "    - the accuracy of the DAC?\n",
    "    - the noise when measuring no input and the noise when measuring the DAC signal?\n",
    "2. What happens when you try to take smaller steps than the smallest detectable increment?\n",
    "\n",
    "In the actual measurement, you won't be able to measure 4000 times at each step to average over the noise. You just learned that it takes a relatively long time, but you can afford to measure a few times at each step.\n",
    "\n",
    "In the next section, you'll explore the effect of multiple measurements on timing of the experiment."
   ]
  },
  {
   "cell_type": "markdown",
   "id": "5c880221-366f-462c-9496-5e02c8c284c6",
   "metadata": {},
   "source": [
    "# 🏆🏆 Implement 4: Timing accuracy\n",
    "\n",
    "\n",
    "The function provided below `pico.test_pico_timing_with_for_loop()` measures the time between each step of a measurement with averaging.\n",
    "You can adjust two parameters:\n",
    "\n",
    "1. `N_iter` sets the number of measurements for all three ADCs that are then averaged at each step of your experiment \n",
    "2. `delay_ms` sets the delay between each step of your experiment\n",
    "\n",
    "By default, `NUM_SAMPLES=512` for demonstration.\n",
    "\n",
    "Run the code below for different values, for example:\n",
    "\n",
    "- `N_iter=1,3,10`\n",
    "- `delay_ms=1,2,5,10`\n",
    "\n",
    "Make notes from your observations, and feel free to reach out to the TAs for a discussion."
   ]
  },
  {
   "cell_type": "code",
   "execution_count": null,
   "id": "5cd5e32e-5d9b-4efa-b0a1-25c57fc31c68",
   "metadata": {},
   "outputs": [],
   "source": [
    "machine.soft_reset()"
   ]
  },
  {
   "cell_type": "code",
   "execution_count": null,
   "id": "43ca4175-1785-4803-8d3f-27cabab812c0",
   "metadata": {},
   "outputs": [],
   "source": [
    "%serialconnect to --port=\"COM5\"\n",
    "\n",
    "%sendtofile /picotools.py --source picotools.py\n",
    "\n",
    "import picotools as pico\n",
    "\n",
    "import numpy as np\n",
    "import matplotlib.pyplot as plt\n",
    "import machine"
   ]
  },
  {
   "cell_type": "code",
   "execution_count": null,
   "id": "717fcdfa-d4f9-4e7f-b2f3-9849cd48eff5",
   "metadata": {},
   "outputs": [],
   "source": [
    "times = pico.test_pico_timing_with_for_loop(N_iter=1,delay_ms=1)"
   ]
  },
  {
   "cell_type": "code",
   "execution_count": null,
   "id": "a111b723-0ae2-4fe9-afbb-fe0bba2ef056",
   "metadata": {},
   "outputs": [],
   "source": [
    "plt.plot(times*1e-3)\n",
    "plt.xlabel(\"Sample\")\n",
    "plt.ylabel(\"Duration of the measurement [ms]\")\n",
    "plt.grid(True)"
   ]
  },
  {
   "cell_type": "code",
   "execution_count": null,
   "id": "b3da74f9-044e-4a9a-a8e7-bd12632c944b",
   "metadata": {},
   "outputs": [],
   "source": [
    "### Notes"
   ]
  },
  {
   "cell_type": "markdown",
   "id": "3ceb1ee3-e756-4ca2-a21f-fd845de699d0",
   "metadata": {},
   "source": [
    "<details>\n",
    "<summary><font size=4>💡</font> <b>Hints </b>\n",
    "</summary>\n",
    "\n",
    "Note that `pico.test_pico_timing_with_for_loop()` uses a `for` loop for averaging over multiple measurements. It has an `if`-statement, and the averaging happens between the steps. Also, note that *time-keeping* takes some time too, so there are many operations additional to setting the DAC value and reading the ADCs.<br>\n",
    "The results above demonstrate how essential it is to optimise your code for the final measurements, especially if you are using averaging and DELAY_MS &lt; 10ms\" \n",
    "</details>\n",
    "\n"
   ]
  },
  {
   "cell_type": "markdown",
   "id": "2d9466cb-c13d-49b4-8f87-6bacab67bcfb",
   "metadata": {},
   "source": [
    "# Implement 5-Basic: DAC Assistant + Dual ADC\n",
    "\n",
    "Implement 5 is **required** only for the **Basic Design**, and **optional** for the **Advanced Design.**\n",
    "\n",
    "**Goal 1**: Calibrate your DAC Assistant and save the setting to a file<br>\n",
    "**Goal 2**: Measure the the accuracy, and the effective resolution of the controls used in the Basic Design<br>\n",
    "**Goal 3**: Practice setting attenuation `1:3` for positive and negative signals<br>\n",
    "\n",
    "In the Alpaca Manual, you can find a formula for the output `DAC Assistant`:\n",
    "\n",
    "$$\n",
    "U^{\\text{DAC Assistant}}_{OUT} = 5 \\cdot (U^{\\text{DAC Assistant}}_{+IN} - 2.048\\text{V})\n",
    "$$\n",
    "\n",
    "In reality, the expected offset `2.048V` might have a significant error making your potentiostat unusable. \n",
    "Follow the procedure below to calibrate your DAC Assistant."
   ]
  },
  {
   "cell_type": "markdown",
   "id": "a9fd6065-02e0-4f65-8c17-700459497ffd",
   "metadata": {},
   "source": [
    "## ❗❗❗ I5Basic.1: Calibration\n",
    "\n",
    "1. Build the calibration setup as shown in the Fritzing below.\n",
    "\n",
    "<details>\n",
    "<summary><font color='darkred' size=4>💡</font> <b>Fritzing: DAC Assistant Calibration</b></summary><br>\n",
    "<div style=\"text-align: center\">\n",
    "<img src=\"https://gitlab.tudelft.nl/mwdocter/nb2214-images/-/raw/main/voltammetry/2024/17_Fritzing_DAC_Assistant_Gain1.png\" width=1000>\n",
    "<br>\n",
    "<em>DAC Assistant Calibration Setup</em>\n",
    "</div><br> </details>\n"
   ]
  },
  {
   "cell_type": "markdown",
   "id": "264c2b71-c0ef-492b-a358-cea06d0e30aa",
   "metadata": {},
   "source": [
    "2. Run the code in the cells below to measure the accuracy of your DAC Assistant.\n",
    "\n",
    "> This calibration procedure performs a voltage sweep from -3V to +3V and checks for the accuracy of the generated signal.\n"
   ]
  },
  {
   "cell_type": "code",
   "execution_count": null,
   "id": "63a89074-d340-4749-aebc-a98b713bc0a8",
   "metadata": {},
   "outputs": [],
   "source": [
    "machine.soft_reset()"
   ]
  },
  {
   "cell_type": "code",
   "execution_count": null,
   "id": "c379ff57-d047-4fde-87f5-7f7deaa70b93",
   "metadata": {},
   "outputs": [],
   "source": [
    "%serialconnect to --port=\"COM5\"\n",
    "\n",
    "%sendtofile /picotools.py --source picotools.py\n",
    "\n",
    "import picotools as pico\n",
    "\n",
    "import numpy as np\n",
    "import matplotlib.pyplot as plt\n",
    "import machine"
   ]
  },
  {
   "cell_type": "code",
   "execution_count": null,
   "id": "10d122bd-a39d-4068-b374-5efa65ec6c2d",
   "metadata": {},
   "outputs": [],
   "source": [
    "ref, Ain0, Ain1, Ain2, err_in, err_out = pico.test_DAC_Assistant()"
   ]
  },
  {
   "cell_type": "code",
   "execution_count": null,
   "id": "9c77129f-ee7f-45c9-8bc3-ee8559acb191",
   "metadata": {},
   "outputs": [],
   "source": [
    "# Plot the DAC Assistant measured DAC Assistant output vs DAC A output\n",
    "plt.plot((5 * (ref - 2.048)), Ain0+Ain1)\n",
    "plt.xlabel(\"Expected value converted from the DAC_A output [V]\")\n",
    "plt.ylabel(\"DAC Assistant measured output [V]\")"
   ]
  },
  {
   "cell_type": "markdown",
   "id": "17d71efa-d8ab-4b66-9052-086513e058c7",
   "metadata": {},
   "source": [
    "3. Do you observe a large offset error in the figure above?"
   ]
  },
  {
   "cell_type": "code",
   "execution_count": null,
   "id": "f0aba8cc-7db1-432c-a957-e23992a3ae9a",
   "metadata": {},
   "outputs": [],
   "source": [
    "### Notes: "
   ]
  },
  {
   "cell_type": "markdown",
   "id": "5c951a87-4b7e-4f02-a31b-091261681847",
   "metadata": {},
   "source": [
    "4. Also, check the accuracy of `DACA`. Could it be causing such a large deviation?"
   ]
  },
  {
   "cell_type": "code",
   "execution_count": null,
   "id": "0d50b0e3-a3f8-4f6d-9eb2-4a748f1f9993",
   "metadata": {},
   "outputs": [],
   "source": [
    "# Plot Error on the DAC_A (SET vs GET)\n",
    "plt.plot(ref, 1e3*err_in)\n",
    "plt.xlabel(\"DAC_A voltage [V]\")\n",
    "plt.ylabel(\"DAC_A output error [mV]\")"
   ]
  },
  {
   "cell_type": "code",
   "execution_count": null,
   "id": "3c484fa1-ae09-4058-9643-99503894647e",
   "metadata": {},
   "outputs": [],
   "source": [
    "# Plot Error of the DAC_Assistant OUT (SET vs GET)\n",
    "plt.plot((5 * (ref - 2.048)), err_out*1e3)\n",
    "plt.xlabel(\"Expected DAC Assistant output [V]\")\n",
    "plt.ylabel(\"DAC Assistant output error [mV]\")"
   ]
  },
  {
   "cell_type": "markdown",
   "id": "4f879dde-c706-4300-a8ed-3d3730e06c29",
   "metadata": {},
   "source": [
    "It is rather unlikely that `DACA` inaccuracy leads to such a large error in the `DAC Assistant OUT`.\n",
    "> We measured it before already, but keep in mind that `DACA` output error is *magnified five times* in the `DAC Assistant OUT`, so its effect here could be very significant. <br> <br>**This is one of the main causes of the *Basic Design* potentiostat's low performance in some experiments.**\n",
    "\n",
    "At this point, we can only calibrate the offset, but the error that you see in the first from the two plots above is not likely to go away.\n",
    "\n",
    "5. Run the calibration procedure in the cell below."
   ]
  },
  {
   "cell_type": "code",
   "execution_count": null,
   "id": "368dc64e-d4af-4b23-b602-077459c35d23",
   "metadata": {},
   "outputs": [],
   "source": [
    "calibrated_offset = pico.Calibrate_DAC_Assistant(1.5)"
   ]
  },
  {
   "cell_type": "markdown",
   "id": "9f3e92ad-cdbb-4617-91e8-eb4cfc528f5a",
   "metadata": {},
   "source": [
    "**If the calibration was successful, go ahead and SAVE THIS VALUE! ... and if it is not working, please report this problem to the TAs!**\n",
    "\n",
    "Optionally, come up with a way to save this value in a file! \n",
    "> You can also run this calibration, on demand, without any modifications - as long as your setup matches the one required for this section.\n",
    "> This won't be the case for long in this project, so it is recommended that you find a practical way to include this offset in your code."
   ]
  },
  {
   "cell_type": "markdown",
   "id": "4faa4d88-45aa-4c7b-b215-435cadfca80a",
   "metadata": {},
   "source": [
    "Let's confirm that it worked by testing the accuracy again."
   ]
  },
  {
   "cell_type": "code",
   "execution_count": null,
   "id": "142f5ef9-cf70-4f9d-ad73-5f2403c9b77e",
   "metadata": {},
   "outputs": [],
   "source": [
    "ref, Ain0, Ain1, Ain2, err_in, err_out = pico.test_DAC_Assistant(offset=calibrated_offset)"
   ]
  },
  {
   "cell_type": "code",
   "execution_count": null,
   "id": "344b4f48-599b-4e14-a01a-53129a0a05c2",
   "metadata": {},
   "outputs": [],
   "source": [
    "plt.plot((5 * (ref - calibrated_offset)), Ain0+Ain1)\n",
    "plt.xlabel(\"DAC_A output [V]\")\n",
    "plt.ylabel(\"DAC Assistant measured output [V]\")"
   ]
  },
  {
   "cell_type": "markdown",
   "id": "a0ddc86a-e1da-4702-8e93-789d7b8bdab2",
   "metadata": {},
   "source": [
    "You should see a straight line here!\n",
    "\n",
    "6. Let's check the `DACA` error again. It should stay mostly the same, but shifted a bit."
   ]
  },
  {
   "cell_type": "code",
   "execution_count": null,
   "id": "4a58ba5b-9ec3-4511-b7af-e1fe7f234a73",
   "metadata": {},
   "outputs": [],
   "source": [
    "# plot Error on the DAC_A (SET vs GET)\n",
    "plt.plot(ref, 1e3*err_in)\n",
    "plt.xlabel(\"DAC_A voltage [V]\")\n",
    "plt.ylabel(\"DAC_A output error [mV]\")"
   ]
  },
  {
   "cell_type": "markdown",
   "id": "cfc0e64e-5f59-49a0-8493-d71b2386c042",
   "metadata": {},
   "source": [
    "7. It's the moment of truth! 🥁 The accuracy of the calibrated DAC Assistant is...."
   ]
  },
  {
   "cell_type": "code",
   "execution_count": null,
   "id": "7d5a50f2-4208-4654-bab1-e85a72b0a7af",
   "metadata": {},
   "outputs": [],
   "source": [
    "plt.plot((5 * (ref - calibrated_offset)), err_out*1e3)\n",
    "plt.xlabel(\"DAC Assistant output [V]\")\n",
    "plt.ylabel(\"DAC Assistant output error [mV]\")"
   ]
  },
  {
   "cell_type": "markdown",
   "id": "2dc1fc3e-06e1-4ef2-a0d7-65525ada7465",
   "metadata": {},
   "source": [
    "8. How does it compare to the `DACA` output error?"
   ]
  },
  {
   "cell_type": "code",
   "execution_count": null,
   "id": "ad8264ec-bfd8-4b96-84f3-fe0ef4d5c0d8",
   "metadata": {},
   "outputs": [],
   "source": [
    "#Notes"
   ]
  },
  {
   "cell_type": "markdown",
   "id": "2ce613e6-36f4-4f14-9f04-70dac5c6afad",
   "metadata": {},
   "source": [
    "## 🏆🏆🏆 I5Basic.2: Resolution - DAC Assistant\n",
    "\n",
    "Here, once again, you will test the resolution - This time, the one of the DAC Assistant. \n",
    "\n",
    "**The insights of this section are essential for finding the limits for parameters to run Cyclic and Squarewave Voltammetry with the Basic Design**\n",
    "\n",
    "Use the same setup as in the section above and follow the steps of the familiar procedure."
   ]
  },
  {
   "cell_type": "code",
   "execution_count": null,
   "id": "42ca0611-94ec-4e3b-b23d-5fe24a5690b2",
   "metadata": {},
   "outputs": [],
   "source": [
    "machine.soft_reset()"
   ]
  },
  {
   "cell_type": "code",
   "execution_count": null,
   "id": "1a74dd0c-4dc9-43f8-a304-92df4d5b0b42",
   "metadata": {},
   "outputs": [],
   "source": [
    "%serialconnect to --port=\"COM5\"\n",
    "\n",
    "%sendtofile /picotools.py --source picotools.py\n",
    "\n",
    "import picotools as pico\n",
    "\n",
    "import numpy as np\n",
    "import matplotlib.pyplot as plt\n",
    "import machine"
   ]
  },
  {
   "cell_type": "code",
   "execution_count": null,
   "id": "687a37a1-66ad-4156-9b05-05638ed417f9",
   "metadata": {},
   "outputs": [],
   "source": [
    "calibrated_offset = pico.Calibrate_DAC_Assistant(1.5)"
   ]
  },
  {
   "cell_type": "markdown",
   "id": "8e84b39c-1754-4e94-91fb-fc133e23752f",
   "metadata": {},
   "source": [
    "Let's first try with just one measurement at each step. \n"
   ]
  },
  {
   "cell_type": "code",
   "execution_count": null,
   "id": "b61e79e8-9edc-4416-94ef-c35f1a0d4275",
   "metadata": {},
   "outputs": [],
   "source": [
    "N_iter = 1\n",
    "voltages, ADC0, ADC0_errors, mean_error = pico.test_dac_assistant_resolution(adc=pico.adc0,gain=1,step_mV=0.1,set_initial_voltage_mV=2000,span_mV=10, N_iter=N_iter, calibrated_offset=calibrated_offset)\n",
    "\n",
    "plt.plot(voltages, ADC0, label=\"ADC0 Measurement\")\n",
    "plt.xlabel(\"DAC Assistant Voltage (mV)\")\n",
    "plt.ylabel(\"ADC Reading (mV)\")\n",
    "plt.title(f'DAC Assistant Voltage vs ADC Reading avg from {N_iter} measurement(s)')\n",
    "plt.legend()\n",
    "plt.grid(True)"
   ]
  },
  {
   "cell_type": "markdown",
   "id": "5f02da5f-3be5-46d6-95a1-aaade054f249",
   "metadata": {},
   "source": [
    "2. Is the *Absolute mean error* printed above the plot similar as for DAC in *Implement3.3*?\n",
    "\n",
    "Let's get a better idea of it with the statistics plot:"
   ]
  },
  {
   "cell_type": "code",
   "execution_count": null,
   "id": "d7bd7b40-e6f8-43f7-b059-0b5030232685",
   "metadata": {},
   "outputs": [],
   "source": [
    "plt.plot(voltages, ADC0_errors, label=\"ADC0 Measurement\")\n",
    "plt.xlabel(\"DAC Assistant Voltage (mV)\")\n",
    "plt.ylabel(\"ADC Reading Error (mV)\")\n",
    "plt.title(f'DAC Assistant Voltage vs ADC Reading avg from {N_iter} measurement(s)')\n",
    "plt.legend()\n",
    "plt.grid(True)"
   ]
  },
  {
   "cell_type": "markdown",
   "id": "dfb255da-1335-4c5c-aa79-61e4e9ad5b0d",
   "metadata": {},
   "source": [
    "Most likely, it is much bigger, which is expected. \n",
    "\n",
    "> Think about the gain factor in the `DAC Assistant OUT` formula. Could it be related to the magnitude of this error?\n",
    "\n",
    "3. So, let's again average over many samples to remove the noise."
   ]
  },
  {
   "cell_type": "code",
   "execution_count": null,
   "id": "94d36524-3bea-4d54-a194-da8d2ca5f593",
   "metadata": {},
   "outputs": [],
   "source": [
    "N_iter = 5000\n",
    "voltages, ADC0, ADC0_errors, mean_error = pico.test_dac_assistant_resolution(adc=pico.adc0,gain=1,step_mV=0.1,set_initial_voltage_mV=2000,span_mV=10, N_iter=N_iter, calibrated_offset=calibrated_offset)\n",
    "\n",
    "plt.plot(voltages, ADC0, label=\"ADC0 Measurement\")\n",
    "plt.xlabel(\"DAC Assistant Voltage (mV)\")\n",
    "plt.ylabel(\"ADC Reading (mV)\")\n",
    "plt.title(\"DAC Assistant Voltage vs ADC Reading from averaged measurement\")\n",
    "plt.legend()\n",
    "plt.grid(True)"
   ]
  },
  {
   "cell_type": "markdown",
   "id": "67a15959-1ea7-411a-ad0f-09f702ac194a",
   "metadata": {},
   "source": [
    "Do you still see *a staircase*? \n",
    "\n",
    "In this case, the steps are most likely much bigger, and therefore, the resolution lower.\n",
    "\n",
    "4. You can also confirm with the amplitude of the error plotted below."
   ]
  },
  {
   "cell_type": "code",
   "execution_count": null,
   "id": "ed8def33-4c69-4d57-9007-47e148d7870f",
   "metadata": {},
   "outputs": [],
   "source": [
    "plt.plot(voltages, ADC0_errors, label=\"ADC0 Measurement\")\n",
    "plt.xlabel(\"DAC Voltage (mV)\")\n",
    "plt.ylabel(\"ADC Reading Error (mV)\")\n",
    "plt.title(\"DAC Voltage vs ADC Reading Error from averaged measurement\")\n",
    "plt.legend()\n",
    "plt.grid(True)"
   ]
  },
  {
   "cell_type": "markdown",
   "id": "f25c6eca-625d-421a-a19a-5c4f1b3365ec",
   "metadata": {},
   "source": [
    "### Conclude\n",
    "\n",
    "1. What is therefore the smallest step for the `Ucell` increment in your Voltammetry measurements with the Basic Design?\n",
    "2. And taking into considerations that in your measurements, you won't be able to average over thoursands of samples, but only a few. What is the realistic resolution?"
   ]
  },
  {
   "cell_type": "code",
   "execution_count": null,
   "id": "d0653a29-a5de-41d3-98dc-935c164789f4",
   "metadata": {},
   "outputs": [],
   "source": [
    "### Notes:"
   ]
  },
  {
   "cell_type": "markdown",
   "id": "4f1dcfbb-49ad-4368-a2d5-a098b41d931c",
   "metadata": {},
   "source": [
    "## 🏆🏆 I5Basic.3: Noise - Optional\n",
    "\n",
    "**This section is optional, but it is recommended! You can learn more about the magnitude of noise in the Basic Design to be able to identify problems later in your design**\n",
    "\n",
    "Use the same test setup as for *Implement 5B.1: Calibration*, follow the steps, and write down your conclusions.\n",
    "> This test takes a few seconds\n",
    "> \n",
    "> `NUM_SAMPLES` sets the number of points across the test range , which is -3V to 3V by default <br>\n",
    "> `interations` sets the number of samples at each step to computer the noise statistics <br>\n",
    ">\n",
    "> For large values, you might expect problems with Pico's memory and plotting."
   ]
  },
  {
   "cell_type": "code",
   "execution_count": null,
   "id": "4abee5a4-fd4f-43e6-ab46-fc7a9f9cbdbe",
   "metadata": {},
   "outputs": [],
   "source": [
    "machine.soft_reset()"
   ]
  },
  {
   "cell_type": "code",
   "execution_count": null,
   "id": "0e240b6b-7804-4f4a-9b45-c5d6cd02619e",
   "metadata": {
    "jupyter": {
     "source_hidden": true
    }
   },
   "outputs": [],
   "source": [
    "%serialconnect to --port=\"COM5\"\n",
    "\n",
    "%sendtofile /picotools.py --source picotools.py\n",
    "\n",
    "import picotools as pico\n",
    "\n",
    "import numpy as np\n",
    "import matplotlib.pyplot as plt\n",
    "import machine"
   ]
  },
  {
   "cell_type": "code",
   "execution_count": null,
   "id": "db74a501-fd96-4e47-82bf-c2df1a9f5833",
   "metadata": {},
   "outputs": [],
   "source": [
    "calibrated_offset = pico.Calibrate_DAC_Assistant(1.5)"
   ]
  },
  {
   "cell_type": "code",
   "execution_count": null,
   "id": "8f43a163-6372-4840-a55c-c41eef7f8a84",
   "metadata": {},
   "outputs": [],
   "source": [
    "ref, Ain0, Ain1, Ain2, Ain0std, Ain1std, Ain2std, err_in, err_out = pico.test_DAC_Assistant_noise(offset=calibrated_offset, NUM_SAMPLES=600, iterations = 100, gain0=1, gain1=-1)"
   ]
  },
  {
   "cell_type": "code",
   "execution_count": null,
   "id": "901f149b-29d9-40ca-9dcb-b58a50ea5d75",
   "metadata": {},
   "outputs": [],
   "source": [
    "plt.plot((5 * (ref - calibrated_offset)), Ain0std*1e3, label='Noise via ADC0')\n",
    "plt.plot((5 * (ref - calibrated_offset)), -Ain1std*1e3, label='Noise via ADC1')\n",
    "plt.xlabel(\"DAC Assistant output [V]\")\n",
    "plt.ylabel(\"ADC average readout error [mV]\")\n",
    "plt.legend()"
   ]
  },
  {
   "cell_type": "code",
   "execution_count": null,
   "id": "d6cd15b6-01f1-4c03-a3cd-25aa1ae36383",
   "metadata": {
    "jupyter": {
     "source_hidden": true
    }
   },
   "outputs": [],
   "source": [
    "### Notes"
   ]
  },
  {
   "cell_type": "markdown",
   "id": "cd1c0cb0-ad0a-4952-bd6a-9c747db21921",
   "metadata": {},
   "source": [
    "# Implement 6-Basic: ADC Gain 1:3\n",
    "\n",
    "**The section I6B.1 is mandatory for Basic Design:** Learn how to implement attenuation 1:3 with Basic Design. \n",
    "\n",
    "### ❗❗❗ I6Basic.1: Configure and test ADC Gain 1:3 \n",
    "\n",
    "Implement the setup presented in the Fritzing below and run the test below to find out if you got it right!\n",
    "\n",
    "<details><summary> <font color='darkred' size=4>💡</font> \n",
    "<b>Fritzing: Basic Design - Gain 1:3</b></summary><br>\n",
    "<div style=\"text-align: center\">\n",
    "<img src=\"https://gitlab.tudelft.nl/mwdocter/nb2214-images/-/raw/main/voltammetry/2024/17_Fritzing_DAC_Assistant_Gain03.png\" width=1000>\n",
    "<br>\n",
    "<em>DAC Test</em>\n",
    "</div><br>\n",
    "<br>\n",
    "</details> <br>"
   ]
  },
  {
   "cell_type": "code",
   "execution_count": null,
   "id": "853d65fc-2ef4-45c1-97fe-7137a32b06b1",
   "metadata": {},
   "outputs": [],
   "source": [
    "machine.soft_reset()"
   ]
  },
  {
   "cell_type": "code",
   "execution_count": null,
   "id": "64afccf9-b88e-4786-bb18-563595c34156",
   "metadata": {},
   "outputs": [],
   "source": [
    "%serialconnect to --port=\"COM5\"\n",
    "\n",
    "%sendtofile /picotools.py --source picotools.py\n",
    "\n",
    "import picotools as pico\n",
    "\n",
    "import numpy as np\n",
    "import matplotlib.pyplot as plt\n",
    "import machine"
   ]
  },
  {
   "cell_type": "code",
   "execution_count": null,
   "id": "cdca9055-3d31-494c-8b5c-e663de5a1819",
   "metadata": {},
   "outputs": [],
   "source": [
    "calibrated_offset = 2.2826"
   ]
  },
  {
   "cell_type": "code",
   "execution_count": null,
   "id": "9428411b-ad2a-4cae-8e7d-e45ae0567297",
   "metadata": {},
   "outputs": [],
   "source": [
    "# GAIN (1:3)\n",
    "ref, Ain0v, Ain1v, Ain2v, err_in, err_out = pico.test_DAC_Assistant(offset=calibrated_offset, gain0=0.333, gain1=-0.333)"
   ]
  },
  {
   "cell_type": "code",
   "execution_count": null,
   "id": "08139772-e7dc-465d-94c2-e88c8b63795e",
   "metadata": {},
   "outputs": [],
   "source": [
    "# Plot the DAC Assistant measured DAC Assistant output vs DAC A output\n",
    "plt.plot((5 * (ref - calibrated_offset)), Ain0v+Ain1v)\n",
    "plt.xlabel(\"Expected value converted from the DAC_A output [V]\")\n",
    "plt.ylabel(\"DAC Assistant measured output [V]\")"
   ]
  },
  {
   "cell_type": "code",
   "execution_count": null,
   "id": "eb91a0ca-d1c3-4d60-948a-2e3f867d0c88",
   "metadata": {},
   "outputs": [],
   "source": [
    "### Notes:"
   ]
  },
  {
   "cell_type": "markdown",
   "id": "21942768-03db-442f-98c7-5f07677744a9",
   "metadata": {},
   "source": [
    "### 🏆 I6Basic.2: Noise - (GAIN 1:3) - Optional\n",
    "\n",
    "**This section is entirely optional.** Use it for debugging and to understand the cumulative effect of noise due to amplification and attenuation. \n",
    "> There is an interesting difference between the results of GAIN 1:1 (in section I5B.3) in and GAIN 1:3 (here). Can you argue what's behind that?"
   ]
  },
  {
   "cell_type": "code",
   "execution_count": null,
   "id": "2aa014a7-5c23-4da5-8e1a-ba3eb33ba817",
   "metadata": {},
   "outputs": [],
   "source": [
    "# GAIN (1:3)\n",
    "ref, Ain0, Ain1, Ain2, Ain0std, Ain1std, Ain2std, err_in, err_out = pico.test_DAC_Assistant_noise(offset=calibrated_offset, NUM_SAMPLES=240, iterations = 50, gain0=0.3333, gain1=-0.3333)"
   ]
  },
  {
   "cell_type": "code",
   "execution_count": null,
   "id": "71c600f8-dc53-4ef8-910e-8e9c1f8eda83",
   "metadata": {},
   "outputs": [],
   "source": [
    "plt.plot((5 * (ref - calibrated_offset)), Ain0std*1e3, label='Noise via ADC0')\n",
    "plt.plot((5 * (ref - calibrated_offset)), -Ain1std*1e3, label='Noise via ADC1')\n",
    "plt.xlabel(\"DAC Assistant output [V]\")\n",
    "plt.ylabel(\"ADC readout error [mV]\")\n",
    "plt.legend()\n"
   ]
  },
  {
   "cell_type": "markdown",
   "id": "c8252c02-903e-49e8-a904-651f0288affe",
   "metadata": {},
   "source": [
    "# 🏆🏆🏆🐐 Optional - Implement 7: Write Helper Functions\n",
    "\n",
    "Write some helper functions to make your further steps easier. Here are some ideas:\n",
    "\n",
    "1. 🏆🏆🏆🐐 Function to calculate the detectable `Icell` range based on the `Ucell`, `Rf` and the values of attenuation. Its form will vary per design.\n",
    "2. 🏆🏆🏆🐐 Function to calculate the cutoff frequency of the *tamed* integrator.\n",
    "3. 🏆🏆 Advanced Design only - Function for using the Alpaca's Relay for switching between two different `Rf` resistors.\n",
    "4. 🏆🏆 Advanced Design only - Function for including the use of DAC-B \n",
    "5. 🏆🏆🏆🐐🐐🐐 Your own ideas!\n"
   ]
  },
  {
   "cell_type": "code",
   "execution_count": null,
   "id": "37895c45-a86a-4977-ae15-a2dc2e8c81e3",
   "metadata": {},
   "outputs": [],
   "source": [
    "# Task for the students!"
   ]
  },
  {
   "cell_type": "markdown",
   "id": "2c316c5f-4872-4acc-9fb1-97359e2d1bb1",
   "metadata": {},
   "source": [
    "# ❗❗❗ Compare and Conclude\n",
    "\n",
    "**To check-off with the TA:**\n",
    "From DAC-accuracy:\n",
    "1. Make a note of the magnitude of the error. **Will it affect your Voltammetry measurements?**\n",
    "2. **Does it change when you disconnect -12V from Cria?** Run the measurements in the section with and without this connection.\n",
    "3. (for the Basic Model): discuss the outcome and necessity of the DAC assistant calibration\n",
    "4. (for the Advanced Model): discuss which additional picotools functions you will/did write for use of DAC-B\n",
    "\n",
    "**Mandatory to think about (for the report):**\n",
    ">1. Argue how significant;\n",
    "    - the ADC noise\n",
    "    - the DAC noise\n",
    "    - the DAC Assitant noise\n",
    "   are for your measurements.\n",
    ">2. How can you reduce the influence of each noise?\n",
    ">3. What can you conclude about the smallest detectable increment of the:\n",
    ">   - DAC Assistant?\n",
    ">   - DAC A measured directly?\n",
    ">4. What happens when you try to take smaller steps than the smallest detectable increment?\n",
    ">5. How does it relate to the resolution of the ADCs?\n",
    ">6. Can you already predict what will be the lowest effective `Ucell` increment for Voltammetry with your design?\n",
    "\n",
    "**Challenging:**\n",
    "\n",
    ">6. What is the estimated effective resolution in each design when you can take only a few measurements at once for averaging\n",
    ">7. How does it affect the electrochemical reaction in the measurement cell?\n",
    "\n",
    "**Very challenging:**\n",
    "\n",
    ">8. How does the `Icell` resolution depend on the ADC gain?\n",
    "\n",
    "\n"
   ]
  },
  {
   "cell_type": "code",
   "execution_count": null,
   "id": "0a281e91-bfd5-419a-84ad-a5344d0628c0",
   "metadata": {},
   "outputs": [],
   "source": []
  }
 ],
 "metadata": {
  "kernelspec": {
   "display_name": "Alpaca Kernel",
   "language": "python",
   "name": "alpaca"
  },
  "language_info": {
   "codemirror_mode": {
    "name": "ipython",
    "version": 3
   },
   "file_extension": ".py",
   "mimetype": "text/x-python",
   "name": "python",
   "nbconvert_exporter": "python",
   "pygments_lexer": "ipython3",
   "version": "3.10.14"
  }
 },
 "nbformat": 4,
 "nbformat_minor": 5
}
