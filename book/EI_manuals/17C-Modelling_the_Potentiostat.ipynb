{
 "cells": [
  {
   "cell_type": "markdown",
   "id": "7562b1ee-d73f-4cfc-bac2-1280829705ee",
   "metadata": {},
   "source": [
    "<b>For use with: <font color=\"red\" >Alpaca Kernel</font></b>\n",
    "<br>\n",
    "Accessibility of this notebook  \n",
    "\n",
    "    \n",
    ">- Adjust the width of the text with the function provided in the cell below. \n",
    ">- Toggle the auto-numbering of the sections in the outline toolbox (sidebar or topbar).\n",
    ">- Toggle the code line numbers in the dropdown menu of the \"view\" button in the topbar. \n",
    ">- Collapse/expand a cell by clicking the blue bar on the left side of the cell.\n",
    "\n"
   ]
  },
  {
   "cell_type": "code",
   "execution_count": null,
   "id": "3581caaa-7733-44ff-a402-9e6fe6959e88",
   "metadata": {
    "jupyter": {
     "source_hidden": true
    },
    "tags": []
   },
   "outputs": [],
   "source": [
    "%python \n",
    "from IPython.core.display import HTML\n",
    "def set_width(width):\n",
    "    display(HTML(f\"\"\"<style>  \n",
    "            .container {{ width:{width}% !important; \n",
    "                            min-width:800px !important; margin: 0 auto}} \n",
    "            .jp-Cell {{ width:{width}% !important; \n",
    "                            min-width:800px !important; margin: 0 auto}} </style>\"\"\"))\n",
    "# Set container width to X%v of the fullscreen \n",
    "set_width(50)"
   ]
  },
  {
   "cell_type": "markdown",
   "id": "26223214-9cd2-41ed-99bb-962704712cb5",
   "metadata": {},
   "source": [
    "\n",
    "# 17C - Implement and Investigate: Linear Potentiostat Model with Alpaca\n",
    "\n",
    "\n",
    "## Goals\n",
    "\n",
    ">1. Build a simple model of the potentiostat on Alpaca\n",
    ">2. Get an intuition for the (multiple) inversion of polarity between potentiostat's control and readout</br>\n",
    ">3. Compute `Icell` from the measurements, and compose you first voltammogram</br>\n",
    ">4. Optional: Compute the range and accuracy of `Icell`</br>\n",
    ">5. Optional: Suppress the noise"
   ]
  },
  {
   "cell_type": "markdown",
   "id": "b908749d-01bd-4206-8e1f-0f76be569692",
   "metadata": {},
   "source": [
    "## Implement 1: Implement the linear Potentiostat Model\n",
    "\n",
    "It's up to your decision whether you will use the Basic or the Advanced Design to implement the resistor-based Measurement Cell Model 1. \n"
   ]
  },
  {
   "cell_type": "markdown",
   "id": "a73fb7fc-99f9-448d-b026-3aa966f1dfec",
   "metadata": {},
   "source": [
    "### Design References"
   ]
  },
  {
   "cell_type": "markdown",
   "id": "31a55b18-ebc4-40b6-abe0-42feb0a23bf7",
   "metadata": {},
   "source": [
    "<details>\n",
    "<summary><font color='darkblue' size=4><b>Schematic: Basic Design - Model 1</b></font></summary>\n",
    "\n",
    "<div style=\"text-align: center\">\n",
    "    <img src=\"https://gitlab.tudelft.nl/mwdocter/nb2214-images/-/raw/main/voltammetry/2024/DesignBModel1+ADC.png\" width=1000>\n",
    "    <br>\n",
    "    <em>Design Basic: Model 1 implementation on Alpaca</em>\n",
    "</div><br>\n",
    "</details> \n",
    "<br>"
   ]
  },
  {
   "cell_type": "markdown",
   "id": "e095d686-ecc2-4fb0-89db-8d7ea868c58b",
   "metadata": {},
   "source": [
    "<details>\n",
    "<summary><font color='darkblue' size=4><b>Schematic: Advanced Design - Model 1</b></font></summary>\n",
    "<div style=\"text-align: center\">\n",
    "    <img src=\"https://gitlab.tudelft.nl/mwdocter/nb2214-images/-/raw/main/voltammetry/2024/DesignAModel1+ADC.png\" width=1000>\n",
    "    <br>\n",
    "    <em>Design Basic: Model 1 implementation on Alpaca</em>\n",
    "</div><br>\n",
    "</details> \n",
    "<br>"
   ]
  },
  {
   "cell_type": "markdown",
   "id": "57a4ec42-eeb1-44f3-ad75-6fd2807b3afb",
   "metadata": {},
   "source": [
    "<details>\n",
    "<summary><font color='purple' size=4><b>Fritzing: Alpaca's default jumpers</b></font></summary>\n",
    "<div style=\"text-align: center\">\n",
    "    <img src=\"https://gitlab.tudelft.nl/mwdocter/nb2214-images/-/raw/main/voltammetry/2024/17_Fritzing_Alpaca_Check_Jumpers.png\" width=1000>\n",
    "    <br>\n",
    "    <em>Alpaca - The starting point configuration for Voltammetry</em>\n",
    "</div><br>\n",
    "</details> \n",
    "<br>"
   ]
  },
  {
   "cell_type": "markdown",
   "id": "a09972c3-957b-4a56-a172-1d65d4468197",
   "metadata": {},
   "source": [
    "<details>\n",
    "<summary><font color='purple' size=4><b>Fritzing: Basic Design - Barebone with Relay</b></font></summary><br>\n",
    "<div style=\"text-align: center\">\n",
    "    <img src=\"https://gitlab.tudelft.nl/mwdocter/nb2214-images/-/raw/main/voltammetry/2024/17C_Fritzing_B_Barebone_with_Relay.png\" width=1000>\n",
    "    <br>\n",
    "    <em>Basic Design: Barebone with Relay</em>\n",
    "</div><br>\n",
    "</details> \n",
    "<br>"
   ]
  },
  {
   "cell_type": "markdown",
   "id": "0596c61d-5161-4841-9ce6-bdf4de1a1a5f",
   "metadata": {},
   "source": [
    "## Implement and Investigate 2.1: $U_{\\text{DAC}}$ and $U_{\\text{ADC}}$\n",
    "\n",
    "\n",
    "<font color='brown' size=3><b>Recall or derive the formula for $U_{ADC}$ as a function of $U_{\\text{DAC}}$ for the chosen design.</b></font> </br>\n",
    "Look up your results from 17A, and check Udac -> Udaq_assistant -> Ucell -> Ua -> Uadc. First we will noly look at Udac -> Uadc.\n",
    "\n",
    "Take the relevant parameters into account, write a code to set a desired `Udac` and to measure `Uadc`. \n",
    "> **Basic design**<br>\n",
    "> - `Udac_assistant = function of UdacA`\n",
    "> - `Uadc = Uadc0` and/or `Uadc=Uadc1` \n",
    ">   \n",
    "> **Advanced design**\n",
    "> - `Udac = UdacA` and/or `Udac = UdacB`\n",
    "> - `Uadc = Uadc0` <br>\n",
    "\n",
    "Use resistors `R1=10k`, `R2=10k` and `Rf=10k` and set the attenuation for the ADCs to `1:1`. \n",
    "\n",
    "1. Set `Udac = 1V` and  `Udac = -1V`, and measure `Uadc`.\n",
    "2. Convert the measured `Uadc` to Volts and compare with the expected outcome. Pay attention to the correct sign in your results (polarity).\n",
    "\n",
    "<details>\n",
    "<summary><font size=3>💡<b>Hints: Custom functions</b></font></summary>\n",
    "\n",
    "> You may use functions included in `picotools` as a reminder on how to control the DAC and the readouts.\n",
    ">\n",
    "> However, we recommend that you write your own functions, because in practice, adapting the existing unfamiliar functions for this purpose might take longer than writing your own.\n",
    ">\n",
    "> **Optional:** Consider creating your own Python module for this project, for example: `picovolt.py`\n",
    "> and import your functions with, for example: <br>\n",
    "> ```python\n",
    "> import picovolt as pv\n",
    "> data = pv.function(param1, param2, ...)\n",
    ">```\n",
    "</details> \n",
    "<br>   "
   ]
  },
  {
   "cell_type": "code",
   "execution_count": null,
   "id": "65420d61-8e9f-47bb-99db-4c2899495d1c",
   "metadata": {},
   "outputs": [],
   "source": []
  },
  {
   "cell_type": "markdown",
   "id": "f33658b3-3612-42dd-84ad-24deb2b2d37b",
   "metadata": {},
   "source": [
    "3. Write a code to loop over the `Udac` and to store the measured output voltages.\n",
    "\n",
    "> **Basic Design** <br>\n",
    "> Perform a voltage sweep from `Udac=-0.5V` to `Udac=1.5V` and plot the measured `Uadc`\n",
    ">\n",
    "> **Advanced Design**<br>\n",
    "> Perform a voltage sweep from `UdacA=0V` to `UdacA=2V` and plot the measured `Uadc`\n",
    "> \n",
    "> - while `UdacB=0V`,\n",
    "> - while `UdacB=1V`\n",
    "> \n",
    "> <br>\n",
    ">\n",
    "> *Optional: Swap the parameters for `UdacA` with `UdacB`*\n",
    "\n",
    "<details><summary><font size=3>💡<b>Hint: Function Generator</b></font></summary> \n",
    "    \n",
    "> You may in this assignment use the in-built Function Generator to extract a `Triangle` waveform with a required symmetry. <br>\n",
    ">\n",
    ">\n",
    "> ```python\n",
    "> from functiongenerator import Triangle\n",
    ">\n",
    "> triangle = Triangle(Vmin=V_min, Vmax=V_max, freq=1, symmetry=50) \n",
    "> waveform = triangle.get_voltages(n=NUM_SAMPLES)\n",
    ">\n",
    "> for ii in range(NUM_SAMPLES):\n",
    ">     dac_a.write(waveform[ii])\n",
    ">```\n",
    "\n",
    "</details> \n",
    "<br>"
   ]
  },
  {
   "cell_type": "code",
   "execution_count": null,
   "id": "879b844c-4168-448f-b562-ca8156224953",
   "metadata": {},
   "outputs": [],
   "source": []
  },
  {
   "cell_type": "markdown",
   "id": "2fd26baa-f6d1-4f6f-be17-0b4e79520299",
   "metadata": {},
   "source": [
    "### Conclude\n",
    "With help of the plots, reflect on:\n",
    "  > *Goal 2: Get an intuition for the (multiple) inversion of polarity between potentiostat's control and readout* </br>"
   ]
  },
  {
   "cell_type": "code",
   "execution_count": null,
   "id": "8b9e81d3-e5cd-4d33-bbd5-7f4aad1b2c34",
   "metadata": {},
   "outputs": [],
   "source": []
  },
  {
   "cell_type": "markdown",
   "id": "9062e2af-d695-43da-ae89-8bae5b0a28b1",
   "metadata": {},
   "source": [
    "## Implement and Investigate 2.2: Cell Potential\n",
    "\n",
    "**Recall or derive the formula for $U_{a}$ as a function of $U_{\\text{cell}}$ in Model 1.** \n",
    "Now we dive into the voltages between Udac & Uadc: Udac -> Udaq_assistant -> Ucell -> Ua -> Uadc.\n",
    "\n",
    "Use the experience from the previous section, and write a code that\n",
    "- sets `Udac` to generate the desired `Ucell`\n",
    "- and computes `Ua` from the measurement of `Uadc`.\n",
    "\n",
    "Then, \n",
    "1. Run a measurement for `Ucell = 1V` and `Ucell = -1V` and extract the `Ua`.\n",
    "   - **Optional:** Measure the actual `Ucell` with `Ain2` as a reference signal for later.\n",
    "\n",
    "<font color='black' size=3>💡<b> Hints</b></font>\n",
    "> - Remember to *reset* your Pico before the measurement and save the data\n",
    "> - Choose to measure with or without `-12V` to Cria"
   ]
  },
  {
   "cell_type": "markdown",
   "id": "dbbe9bb1-f52c-46ec-8e55-44844a80c2b9",
   "metadata": {},
   "source": [
    "2. Compare the measured `Ua` with the expected outcome."
   ]
  },
  {
   "cell_type": "code",
   "execution_count": null,
   "id": "dd4fa0ec-fb90-4fba-815d-fce2bba15c12",
   "metadata": {},
   "outputs": [],
   "source": []
  },
  {
   "cell_type": "markdown",
   "id": "1983f045-a816-45be-8664-97124e3dc0f6",
   "metadata": {},
   "source": [
    "3. Write a code to loop over the `Ucell` and to store the measured output voltages."
   ]
  },
  {
   "cell_type": "code",
   "execution_count": null,
   "id": "aac9ee6a-8ea2-46bf-ba47-f554ebccd344",
   "metadata": {},
   "outputs": [],
   "source": []
  },
  {
   "cell_type": "markdown",
   "id": "f4befdee-ec6e-42f4-9e38-d207d302c242",
   "metadata": {},
   "source": [
    "4. Perform a voltage sweep `Ucell=-1V` to `Ucell=1V` and convert the measured signal to `Ua`"
   ]
  },
  {
   "cell_type": "code",
   "execution_count": null,
   "id": "b6e15459-efe6-4589-a030-5b99cc074280",
   "metadata": {},
   "outputs": [],
   "source": []
  },
  {
   "cell_type": "markdown",
   "id": "25d21066-8cb6-4cca-969f-7c12f6d580b3",
   "metadata": {},
   "source": [
    "5. Plot the measured `Ua` along with a calculated, expected `Ua_ref` and discuss any potential differences in each case.\n"
   ]
  },
  {
   "cell_type": "code",
   "execution_count": null,
   "id": "c1880c07-bace-4ae0-9884-8be13d21163d",
   "metadata": {},
   "outputs": [],
   "source": []
  },
  {
   "cell_type": "markdown",
   "id": "d48d20ae-21a6-43ee-b04d-5dac3a62238a",
   "metadata": {},
   "source": [
    "6. Save your results in a file and fetch it from Pico to your computer"
   ]
  },
  {
   "cell_type": "code",
   "execution_count": null,
   "id": "1c11ac4f-83ea-49b4-b9b5-3136497f9b7e",
   "metadata": {},
   "outputs": [],
   "source": []
  },
  {
   "cell_type": "markdown",
   "id": "f205d675-f493-4407-b190-82994542c4bd",
   "metadata": {},
   "source": [
    "## Implement and Investigate 3: Cell Current \n",
    "\n",
    "**Recall or derive the formula for $I_{\\text{cell}}$ as a function of $U_{\\text{cell}}$ for Model 1 in your design.** \n",
    "\n",
    "1. Extract `Icell` from the measurement of `Ua` saved in *Implement and Investigate 3: Cell Potential*."
   ]
  },
  {
   "cell_type": "code",
   "execution_count": null,
   "id": "17d7ad3a-c1ad-45ec-9780-b7f2340d1a2a",
   "metadata": {},
   "outputs": [],
   "source": []
  },
  {
   "cell_type": "markdown",
   "id": "b30a8cca-f9f1-4954-9055-5dd4de18afd8",
   "metadata": {},
   "source": [
    "2. Plot `Icell` as a function of `Ucell`."
   ]
  },
  {
   "cell_type": "code",
   "execution_count": null,
   "id": "549d510e-4d26-41c7-838e-e6096280486b",
   "metadata": {},
   "outputs": [],
   "source": []
  },
  {
   "cell_type": "markdown",
   "id": "9f80b4b9-0df0-415b-a58b-b9cedb0102ae",
   "metadata": {},
   "source": [
    "3. **Optional:** Include a suitable capacitor in your circuit to reduce the noise. Compute the cut-off frequency."
   ]
  },
  {
   "cell_type": "code",
   "execution_count": null,
   "id": "a41b81c2-84fc-47fe-8f60-b007f3940075",
   "metadata": {},
   "outputs": [],
   "source": []
  },
  {
   "cell_type": "markdown",
   "id": "b05b326a-e962-4ab5-b467-cf88153743ee",
   "metadata": {},
   "source": [
    "4. **Optional:** Compute the accuracy and the noise in the measured `Icell` to evaluate the effect of the Noise filter."
   ]
  },
  {
   "cell_type": "code",
   "execution_count": null,
   "id": "066406b4-aad2-49ef-b355-57905e2ff926",
   "metadata": {},
   "outputs": [],
   "source": []
  },
  {
   "cell_type": "markdown",
   "id": "a9b4587c-1128-4f85-8d74-841a9ccc8334",
   "metadata": {},
   "source": [
    "5. **Optional:** Replace the resistors with `R1=R2=Rf=1k`. Then, run the same measurement and plot `Icell` as a function of `Ucell`. Finally, compare the quality of this plot with the one recorded with the previous configuration. "
   ]
  },
  {
   "cell_type": "code",
   "execution_count": null,
   "id": "0e08ec73-468f-4871-8f45-37b272970899",
   "metadata": {},
   "outputs": [],
   "source": []
  },
  {
   "cell_type": "markdown",
   "id": "4eca682c-c784-4465-82f5-a28e501221ba",
   "metadata": {},
   "source": [
    "---\n",
    "# Compare and Conclude\n",
    "\n",
    "> <font color='grey'>⏳ Estimated time: 5 min</font>\n",
    "\n",
    "## To be checked off by a TA\n",
    "\n",
    "1. Present your plot of `Icell` over `Ucell`.\n",
    "2. Discuss your results from the optional tasks."
   ]
  },
  {
   "cell_type": "markdown",
   "id": "ab30982f-50e8-41b9-8f2f-1b5864f405a0",
   "metadata": {},
   "source": [
    "---\n",
    "\n",
    "## Optional - Implement and Investigate 4: Progress to Week 18"
   ]
  },
  {
   "cell_type": "markdown",
   "id": "9697ab00-1600-411c-a287-983abdbbc482",
   "metadata": {},
   "source": [
    "### I4.1: Optimise the range of detectable `Icell` to improve the Signal-to-Noise ratio.\n",
    "\n",
    "**Recall or derive the formula for the range of `Icell` as a function of all relevant parameters in Model 1 for your chosen design.**\n",
    "\n",
    ">**Goal:** Find out how to configure your Potentiostat to ensure that are making use of the avaialable limits to record the strongest signal within a predefined range of `Icell`. \n",
    "\n",
    "1. Compute the range of possible `Icell` as a function `Rf` (and in the Advanced Design as a function of `Uoffset`) for roughly the entire range of possible `Ua` with the given configuration of resistors.\n",
    "   > the range of `Ua` is the range of the possible outputs of `OPAMP2`: <br>\n",
    "   > Basic - positive and negative, <br>\n",
    "   > Advanced - only positive."
   ]
  },
  {
   "cell_type": "code",
   "execution_count": null,
   "id": "ec598743-b41e-4538-a52a-9ec56197c9a9",
   "metadata": {},
   "outputs": [],
   "source": []
  },
  {
   "cell_type": "markdown",
   "id": "5bb34d49-1afb-48d9-9f48-40b9ba333551",
   "metadata": {},
   "source": [
    "2. Select `Rf` to increase the current-to-voltage conversion factor and to utilise *roughly* the entire range of `Ua` without causing clipping on `OPAMP2`, and adjust the attenuation of `AMPs` to capture the signal from `Ua` without *clipping* the `ADCs`.\n",
    "\n",
    "    > Note that it could be optimal to slightly re-adjust the value of `Rf` because there are only a few available options of attenuation factors. It is also fine to leave some margins. \n",
    " \n",
    "   **Advanced Design:** Focus on optimising the range for the positive currents first, so do not change the `Uoffset` yet. Notice what effect the change of `Rf` has on the `Icell` range for the negative currents."
   ]
  },
  {
   "cell_type": "code",
   "execution_count": null,
   "id": "6baac6df-0f96-4962-8764-f6e38abfb138",
   "metadata": {},
   "outputs": [],
   "source": []
  },
  {
   "cell_type": "markdown",
   "id": "a3ac3ada-268b-4f3b-8956-f883d753758c",
   "metadata": {},
   "source": [
    "3. **Advanced Design:** Derive a formula for setting a desired range of detectable `Icell` and describe the method to adjust that range while maintaining a fixed range of `Ucell`.\n",
    "   > Consider writing a function to compute that `Icell` range for a given set of parameters or to compute the required parameters for a given range of currents."
   ]
  },
  {
   "cell_type": "code",
   "execution_count": null,
   "id": "1b42c7cc-394e-4ee6-984d-11bd787bef9e",
   "metadata": {},
   "outputs": [],
   "source": []
  },
  {
   "cell_type": "markdown",
   "id": "5ed042fc-132c-4fde-bfbb-9fcd0dd5432c",
   "metadata": {},
   "source": [
    "4. Pre-compute several essential `Icell` ranges for a pre-defined set of ranges of `Ucell`.\n",
    "   > **Optional:** Write a function to compute the required parameters on demand."
   ]
  },
  {
   "cell_type": "code",
   "execution_count": null,
   "id": "74b8bd70-6282-4338-a851-65f8226ed3a8",
   "metadata": {},
   "outputs": [],
   "source": []
  },
  {
   "cell_type": "markdown",
   "id": "d510db42-71c4-4771-83a2-0d2846e67e66",
   "metadata": {},
   "source": [
    "### I4.2: Noise reduction"
   ]
  },
  {
   "cell_type": "markdown",
   "id": "b4adef05-bda1-4c63-87cd-de822613e342",
   "metadata": {},
   "source": [
    "#### Filtering\n",
    "\n",
    "Figure out how to estimate the bound for a suitable the cut-off frequency of your filter that will only negligibly affect your Voltammetry measurements."
   ]
  },
  {
   "cell_type": "markdown",
   "id": "32451f51-278d-4172-b713-e362ebb7bad9",
   "metadata": {},
   "source": [
    "#### Averaging\n",
    "\n",
    "Gather ideas on how to write an optimised code for measurements with averaging to reduce its effect on the timing precision."
   ]
  },
  {
   "cell_type": "code",
   "execution_count": null,
   "id": "cc60e649-2dd5-447f-ab02-cb625d5ca130",
   "metadata": {},
   "outputs": [],
   "source": []
  }
 ],
 "metadata": {
  "kernelspec": {
   "display_name": "Alpaca Kernel",
   "language": "python",
   "name": "alpaca"
  },
  "language_info": {
   "codemirror_mode": {
    "name": "ipython",
    "version": 3
   },
   "file_extension": ".py",
   "mimetype": "text/x-python",
   "name": "python",
   "nbconvert_exporter": "python",
   "pygments_lexer": "ipython3",
   "version": "3.10.14"
  }
 },
 "nbformat": 4,
 "nbformat_minor": 5
}
