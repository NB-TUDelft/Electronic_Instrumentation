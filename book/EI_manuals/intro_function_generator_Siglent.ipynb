{
 "cells": [
  {
   "cell_type": "code",
   "execution_count": null,
   "metadata": {},
   "outputs": [],
   "source": [
    "from IPython.core.display import HTML\n",
    "def set_width(width):\n",
    "    display(HTML(f\"\"\"<style>  \n",
    "            .container {{ width:{width}% !important; \n",
    "                            min-width:800px !important; margin: 0 auto}} \n",
    "            .jp-Cell {{ width:{width}% !important; \n",
    "                            min-width:800px !important; margin: 0 auto}} </style>\"\"\"))\n",
    "# Set container width to X% of the fullscreen \n",
    "set_width(50)"
   ]
  },
  {
   "cell_type": "markdown",
   "metadata": {},
   "source": [
    "# intro Function generator \n",
    "This intro supports labmanual 1B\n",
    "\n",
    "\n",
    "A function generator is an electronic instrument that generates electrical signals of different waveforms. The most common signals produced are the sine, triangle, square and sawtooth shapes. With this instrument, it is possible to set the amplitude and frequency or your signal to any value in the operation range of the generator. The function generator used in this course has a frequency range of 1 µHz to 30 MHz for sinusoidal waves and an amplitude range of 10 mVpp to 10 Vpp. \n",
    "\n",
    "Watch the following movie clip for an introduction to the function generator\n",
    "\n",
    "Also have a look at the quick start manual: https://siglentna.com/wp-content/uploads/dlm_uploads/2017/10/SDG1000X_QuickStart_QS0201X-E01B.pdf\n",
    "\n",
    "or the full manual: https://siglentna.com/wp-content/uploads/dlm_uploads/2024/08/SDG1000X_UserManual_UM0201X-E01H.pdf"
   ]
  },
  {
   "cell_type": "code",
   "execution_count": 1,
   "metadata": {},
   "outputs": [
    {
     "data": {
      "image/jpeg": "[encoded data removed]",
      "text/html": [
       "\n",
       "        <iframe\n",
       "            width=\"600\"\n",
       "            height=\"450\"\n",
       "            src=\"https://www.youtube.com/embed/sig0sRyqE1M\"\n",
       "            frameborder=\"0\"\n",
       "            allowfullscreen\n",
       "        ></iframe>\n",
       "        "
      ],
      "text/plain": [
       "<IPython.lib.display.YouTubeVideo at 0x1ccf58c02b0>"
      ]
     },
     "execution_count": 1,
     "metadata": {},
     "output_type": "execute_result"
    }
   ],
   "source": [
    "## SCR-function generator\n",
    "from IPython.lib.display import YouTubeVideo\n",
    "YouTubeVideo('WFzjtMYQmSE', width = 600, height = 450)\n"
   ]
  },
  {
   "cell_type": "markdown",
   "metadata": {},
   "source": [
    "## Setting and using the function generator\n",
    "\n",
    "<img src=\"https://primary.jwwb.nl/public/y/s/v/temp-vehueauhmxnzwujrdbsr/64td4i/SDG1000X-2-1.png?enable-io=true&enable=upscale&width=670\" width=60%></img>\n",
    "\n",
    "This Siglnet SDG 1032X function generator can generate the following (arbitrary) waveforms:\n",
    "- Sine \n",
    "- Square\n",
    "- Ramp\n",
    "- Pulse\n",
    "- Noise\n",
    "- DC\n",
    "- Arbitrary wave\n",
    "\n",
    "You can adapt amplitude settings:\n",
    "- Amplitude & Offset, \n",
    "- High level/ Low level\n",
    "\n",
    "You can adapt time settings:\n",
    "- Frequency / Period\n",
    "- Phase/ Delay\n",
    "- for square wave: duty cycle\n",
    "\n",
    "After setting the correct settings for the waveform, connect the coax cable, and **switch on the output**\n",
    "\n",
    "### dual channel\n",
    "This arbitrary waveform generator can generate 2 signals at the same time. You can switch between the displays with the blue Ch1/Ch2 button. \n",
    "\n",
    "### coax cable\n",
    "Note: the BNC connector, and attached coax cable, have two signals. The signal line (inner core of the coax cable) is equivalent to the red wire from the previous exercise. The outer shielding is equivalent to the black wire/ COM. You therefore connect 1 wire, with 2 signal lines. \n",
    "\n",
    "### Harmonics\n",
    "For the sine wave, you can add Harmonics:\n",
    "- Type: even/ odd/ all\n",
    "- Order: 2-10\n",
    "- Harmonic amplitude\n",
    "- harmonic phase\n",
    "\n",
    "You can use it to (try to) construct your own square wave, which consists off odd harmonics. "
   ]
  },
  {
   "cell_type": "markdown",
   "metadata": {},
   "source": [
    "## FG's internal resistance\n",
    "\n",
    "The Function generator can be seen as ideal voltage source, with an internal resistance (inside the device). The generated voltage is then divided over the (fixed) internal and the external resistor (termed LOAD resistor; outside the device). \n",
    "\n",
    "<img src=\"https://gitlab.tudelft.nl/mwdocter/nb2214-images/-/raw/main/ELC/ELC1b%20function%20generator%20-%20load%20resistor.jpg\" width=30%></img>\n",
    "\n",
    "\n",
    "### Utility - Output Setup\n",
    "\n",
    "Under Utility - Output Setup - Load, you find two options:\n",
    "- HighZ:  default (e.g. upon startup), the function generator assumes an infinite load resistance (for example a DMM, or scope)\n",
    "- 50 $\\Omega$: the generator assumes that the load resistance is 50 Ω (for example the rotary switch)\n",
    "\n",
    "If the wrong load is selected, you might be off by a **factor of 2** in the output signal.\n",
    "  \n"
   ]
  },
  {
   "cell_type": "markdown",
   "metadata": {},
   "source": [
    "## FG trigger out\n",
    "\n",
    "If you only need one output signal, the second signal can be set to a square waveform, with for example 50% duty cycle. Such square wave can be function as output trigger. \n",
    "\n",
    "## output trigger from the rear\n",
    "Under Utility - page 2/2 - Sync, you can:\n",
    "- switch the output state On/ Off\n",
    "- change the type between CH1 and Ch2.\n",
    "\n",
    "A 50 ns pulse will then be generated at the Aux In/Out on the rear panel. Such output pulse can be used to trigger the scope. "
   ]
  },
  {
   "cell_type": "code",
   "execution_count": null,
   "metadata": {},
   "outputs": [],
   "source": []
  }
 ],
 "metadata": {
  "celltoolbar": "Create Assignment",
  "kernelspec": {
   "display_name": "Python 3 (ipykernel)",
   "language": "python",
   "name": "python3"
  },
  "language_info": {
   "codemirror_mode": {
    "name": "ipython",
    "version": 3
   },
   "file_extension": ".py",
   "mimetype": "text/x-python",
   "name": "python",
   "nbconvert_exporter": "python",
   "pygments_lexer": "ipython3",
   "version": "3.7.12"
  },
  "latex_envs": {
   "LaTeX_envs_menu_present": true,
   "autoclose": false,
   "autocomplete": true,
   "bibliofile": "biblio.bib",
   "cite_by": "apalike",
   "current_citInitial": 1,
   "eqLabelWithNumbers": true,
   "eqNumInitial": 1,
   "hotkeys": {
    "equation": "Ctrl-E",
    "itemize": "Ctrl-I"
   },
   "labels_anchors": false,
   "latex_user_defs": false,
   "report_style_numbering": false,
   "user_envs_cfg": false
  },
  "toc": {
   "base_numbering": 1,
   "nav_menu": {},
   "number_sections": true,
   "sideBar": true,
   "skip_h1_title": false,
   "title_cell": "Table of Contents",
   "title_sidebar": "Contents",
   "toc_cell": false,
   "toc_position": {},
   "toc_section_display": true,
   "toc_window_display": false
  }
 },
 "nbformat": 4,
 "nbformat_minor": 4
}
