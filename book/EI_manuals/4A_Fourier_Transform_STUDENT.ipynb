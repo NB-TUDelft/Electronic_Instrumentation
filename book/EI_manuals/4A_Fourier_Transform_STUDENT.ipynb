{
 "cells": [
  {
   "cell_type": "code",
   "execution_count": 1,
   "metadata": {},
   "outputs": [
    {
     "data": {
      "text/html": [
       "<style>  \n",
       "            .container { width:50% !important; \n",
       "                            min-width:800px !important; margin: 0 auto} \n",
       "            .jp-Cell { width:50% !important; \n",
       "                            min-width:800px !important; margin: 0 auto} </style>"
      ],
      "text/plain": [
       "<IPython.core.display.HTML object>"
      ]
     },
     "metadata": {},
     "output_type": "display_data"
    }
   ],
   "source": [
    "from IPython.core.display import HTML\n",
    "def set_width(width):\n",
    "    display(HTML(f\"\"\"<style>  \n",
    "            .container {{ width:{width}% !important; \n",
    "                            min-width:800px !important; margin: 0 auto}} \n",
    "            .jp-Cell {{ width:{width}% !important; \n",
    "                            min-width:800px !important; margin: 0 auto}} </style>\"\"\"))\n",
    "# Set container width to X% of the fullscreen \n",
    "set_width(50)"
   ]
  },
  {
   "cell_type": "markdown",
   "metadata": {},
   "source": [
    "# 4A: Fourier Tansforms on scope\n",
    "><font color='blue'>Learning goal:</font> To be able to visualize the Fourier transform on the oscilloscope and relate changes in the frequency spectrum to changes in your signal.\n",
    "\n",
    "Experiments of this week:\n",
    "- Experiment 4A: Work with fourier transforms on the oscilloscope\n",
    "- Experiment 4B: Implement an RC circuit with PicoPi\n",
    "- Experiment 4C: Investigate RCCR circuit with PicoPi and compare to an RLC circuit in LTSpice \n",
    "\n",
    "\n",
    "Structure of an experiment:\n",
    "- Predict + Simulate (10+10+10): per person. This is homework and should be finished **before** you start your 4 hours practicum session\n",
    "- Build + Measure (20+20+10): with your partner(group of 2)\n",
    "- Evaluate (15): with a group of 4(per table)\n",
    "\n"
   ]
  },
  {
   "cell_type": "markdown",
   "metadata": {},
   "source": [
    "## BACKGROUND\n",
    "> <font color='grey'>⏳ Estimated time: 10 min</font>\n",
    "\n",
    "So far we have visualized our signals only in the time domain (amplitude vs. time). Using the oscilloscope, however, we can also visualize signals in the frequency or spectral domain (amplitude vs. frequency). The process of going from time to spectral domain is called a Fourier transform. The details will be explained later in much more detail during the course Signals and Systems. Here, we will limit to observe the spectral domain of different waveforms in a qualitative way. \n",
    "\n",
    "<img src=\"https://gitlab.tudelft.nl/mwdocter/nb2214-images/-/raw/main/ELC/4A_Sineft.png\" width=70%></img>\n",
    "\n",
    "A sinusoid is characterized by a single (or so-called fundamental) frequency, and can be seen as the sum of two exponentials:\n",
    "$$ \n",
    "sin⁡(ωt)=\\frac{(exp⁡(iωt)-exp⁡(-iωt))}{2i} \n",
    "$$\n",
    "\n",
    "It’s spectrum will show two peaks at ±ω.\n",
    "Any signal can be written as sum of sines (or exponentials). You could imagine that if you add higher harmonics (multiples of the initial freuqencies), you can alter the shape of the signal from sine for example into square\n",
    "(https://en.wikipedia.org/wiki/Square_wave):\n",
    "<img src=\"https://gitlab.tudelft.nl/mwdocter/nb2214-images/-/raw/main/ELC/Fourier_series_for_square_wave.gif\" width=30%></img>\n",
    "\n",
    "A block wave contains by definition only odd harmonics ($f_0, 3f_0, 5f_0$, ....). A triangular wave also contains higher harmonics, but with a lower amplitudes than the block wave. You could therefore change the shape of a signal, by altering the amplitude of the higher harmonics. \n",
    "\n"
   ]
  },
  {
   "cell_type": "markdown",
   "metadata": {},
   "source": [
    "Watch the following video to familiarize yourself with the subject, click on the link to access the video:\n",
    "* https://www.youtube.com/watch?v=1X9d8mmABXk"
   ]
  },
  {
   "cell_type": "markdown",
   "metadata": {},
   "source": [
    "## ANTICIPATE\n",
    "> <font color='grey'>⏳ Estimated time: 15 min</font>\n",
    "\n",
    "In the practical session you will work with a sine wave and a block wave. \n",
    "* Draw the fourier transforms of a sine and block (square) wave in a graph\n",
    "* Explain which circuit you can use to change this block wave into a triangular wave without altering the settings of the function generator?\n",
    "\n",
    "<details>\n",
    "<summary><font size=4>ℹ️</font> <b>Hints</b></summary>\n",
    "The triangular wave and the block wave contain higher frequencies. The amplitudes of the triangular higher frequencies are less than the block wave ones. Think about cut-off frequencies, blocking the higher harmonics, using the capacitors and resistors on your testboards.\n",
    "</details>"
   ]
  },
  {
   "cell_type": "code",
   "execution_count": null,
   "metadata": {},
   "outputs": [],
   "source": [
    "from ipywidgets import FileUpload\n",
    "from IPython.display import Image\n",
    "import os\n",
    "upload=FileUpload()\n",
    "upload\n"
   ]
  },
  {
   "cell_type": "code",
   "execution_count": null,
   "metadata": {},
   "outputs": [],
   "source": [
    "file_name=\"4A_1_drawings.jpg\"\n",
    "if upload.value!={}:\n",
    "    with open(file_name,\"wb\") as f:\n",
    "        try: f.write(upload.data[-1]) # python 3.7 Kernel code, not working on Vocareum\n",
    "        except: f.write(upload.value[-1][\"content\"])  # python 3.8 Kernel code, not working on Vocareum\n",
    "\n",
    "Image(filename=file_name, width=\"50%\")\n"
   ]
  },
  {
   "cell_type": "code",
   "execution_count": null,
   "metadata": {},
   "outputs": [],
   "source": [
    "### TO DO =\"which circuit can you use to change a block wave into a triangular wave?\"\n"
   ]
  },
  {
   "cell_type": "markdown",
   "metadata": {},
   "source": [
    "## SIMULATE\n",
    "> <font color='grey'>⏳ Estimated time: 10 min</font>\n",
    "\n",
    "Simulate the circuit to make a block wave into a triangular wave. You can pick your own input frequency and components values. Upload the screenshot of your circuit and the graph\n",
    "* Which components do you use?\n",
    "* Explain whether the amplitude of Vout and Vin are equal?"
   ]
  },
  {
   "cell_type": "code",
   "execution_count": null,
   "metadata": {},
   "outputs": [],
   "source": [
    "from ipywidgets import FileUpload\n",
    "from IPython.display import Image\n",
    "import os\n",
    "upload=FileUpload()\n",
    "upload"
   ]
  },
  {
   "cell_type": "code",
   "execution_count": null,
   "metadata": {},
   "outputs": [],
   "source": [
    "file_name=\"4A_2_triangle_sim.jpg\"\n",
    "if upload.value!={}:\n",
    "    with open(file_name,\"wb\") as f:\n",
    "        try: f.write(upload.data[-1]) # python 3.7 Kernel code, not working on Vocareum\n",
    "        except: f.write(upload.value[-1][\"content\"])  # python 3.8 Kernel code, not working on Vocareum\n",
    "\n",
    "Image(filename=file_name, width=\"50%\")\n"
   ]
  },
  {
   "cell_type": "code",
   "execution_count": null,
   "metadata": {},
   "outputs": [],
   "source": [
    "### TO DO =\"describe the outcome of your simulation, which components and which Vout&Vin?\"\n"
   ]
  },
  {
   "cell_type": "markdown",
   "metadata": {},
   "source": [
    "## IMPLEMENT & INVESTIGATE 1: Visualize the fast Fourier transform (FFT) of a sine on the scope\n",
    "> <font color='grey'>⏳ Estimated time: 20 min</font>\n",
    "\n",
    "The Fourier transform states that a signal or waveform can be represented as a sum of sine waves. \n",
    "\n",
    "Read in the intro manual how to do a fourier transform with the scope:\n",
    "https://mwdocter.github.io/TeachBook/main/EI_manuals/intro_scope_Agilent.html\n",
    "\n",
    "To observe this on the oscilloscope:\n",
    "* Acquire a sine wave of 50Hz and 2Vpp. \n",
    "* Visualize this signal \n",
    "* Vary the frequency of the sinusoidal wave. What happens to the peak in the frequency spectrum? \n",
    "* Vary the amplitude of the signal. Observe the changes. \n",
    "\n",
    "You can use the cursor controls to move along the x and y axes, or use the Measure function.\n",
    "\n"
   ]
  },
  {
   "cell_type": "markdown",
   "metadata": {},
   "source": [
    ". "
   ]
  },
  {
   "cell_type": "markdown",
   "metadata": {},
   "source": [
    "> <font size=4>ℹ️</font> <b>Hints</b> <br>\n",
    "The result of a Fourier transform is a graph with frequency on the x-axis, while the amplitude is represented by the y-axis. The changes you have observed should match this description."
   ]
  },
  {
   "cell_type": "code",
   "execution_count": null,
   "metadata": {},
   "outputs": [],
   "source": [
    "### TO DO=\"your answer: for higher frequency the peak ..... for lower amplitude the peak .......\"\n"
   ]
  },
  {
   "cell_type": "markdown",
   "metadata": {},
   "source": [
    "## IMPLEMENT & INVESTIGATE 2: FFT of a block wave\n",
    "> <font color='grey'>⏳ Estimated time: 10 min</font>\n",
    "\n",
    "\n",
    "* Generate a block or square wave with a frequency you like\n",
    "\n",
    "<details>\n",
    "<summary><font size=4>ℹ️</font> <b>Hints</b></summary>\n",
    "\n",
    "* Your signal should look something like this:\n",
    "\n",
    "<img src=\"https://gitlab.tudelft.nl/mwdocter/nb2214-images/-/raw/main/ELC/ELC7%20block%20wave.jpg\" width=30%></img>\n",
    "\n",
    "* scales are 1V/div and 200 us/div- match it exactly using those settings.\n",
    "* You might want to switch off Math to see the signal on the fullscreen.\n",
    "\n",
    "</details>\n",
    "\n",
    "* Spread out the FFT horizontally until you can distinguish the fundamental frequency and harmonics.\n",
    "    * What is the fundamental frequency of this signal? \n",
    "    * What are the frequencies of the following peaks? \n",
    "    * What is the amplitude of these peaks compared to the amplitude in the fundamental frequency?\n",
    "\n",
    "\n"
   ]
  },
  {
   "cell_type": "code",
   "execution_count": null,
   "metadata": {},
   "outputs": [],
   "source": [
    "## your answers:\n",
    "\n",
    "# upload scope picture with Vin=square\n",
    "# upload a schematic of the circuit\n",
    "\n",
    "### TO DO=\" fundamental frequency, frequencies of first 3 peaks, plus trend amplitudes\"\n",
    "\n"
   ]
  },
  {
   "cell_type": "markdown",
   "metadata": {},
   "source": [
    "Upload an image of the scope."
   ]
  },
  {
   "cell_type": "code",
   "execution_count": null,
   "metadata": {},
   "outputs": [],
   "source": [
    "from ipywidgets import FileUpload\n",
    "from IPython.display import Image\n",
    "import os\n",
    "upload=FileUpload()\n",
    "upload\n"
   ]
  },
  {
   "cell_type": "code",
   "execution_count": null,
   "metadata": {},
   "outputs": [],
   "source": [
    "\n",
    "file_name=\"4A_3_scope_screen.jpg\"\n",
    "if upload.value!={}:\n",
    "    with open(file_name,\"wb\") as f:\n",
    "        try: f.write(upload.data[-1]) # python 3.7 Kernel code, not working on Vocareum\n",
    "        except: f.write(upload.value[-1][\"content\"])  # python 3.8 Kernel code, not working on Vocareum\n",
    "\n",
    "Image(filename=file_name, width=\"50%\")\n"
   ]
  },
  {
   "cell_type": "markdown",
   "metadata": {},
   "source": [
    "## IMPLEMENT & INVESTIGATE 3: turn a block wave into a triangular wave\n",
    "> <font color='grey'>⏳ Estimated time: 20 min</font>\n",
    "\n",
    "You have previously anticipated (in ANTICIPATE) a circuit that is able to change this blockwave into a triangular wave. Build the circuit with testboard 1 components and measure+record the outcome.\n",
    "\n",
    "**Remember**, you are **not** supposed to **change the settings**, except the output load on the function generator.\n",
    "> <font size=4>ℹ️</font> <b>Hint</b> <br>\n",
    "Use the variable resistor (knob) to get the resistance you need!"
   ]
  },
  {
   "cell_type": "markdown",
   "metadata": {},
   "source": [
    "Upload an photo of the circuit and the scope with Vout=triangle "
   ]
  },
  {
   "cell_type": "code",
   "execution_count": null,
   "metadata": {},
   "outputs": [],
   "source": [
    "from ipywidgets import FileUpload\n",
    "from IPython.display import Image\n",
    "import os\n",
    "\n",
    "upload=FileUpload()\n",
    "upload"
   ]
  },
  {
   "cell_type": "code",
   "execution_count": null,
   "metadata": {},
   "outputs": [],
   "source": [
    "\n",
    "file_name=\"4A_4_circuit.jpg\"\n",
    "if upload.value!={}:\n",
    "    with open(file_name,\"wb\") as f:\n",
    "        try: f.write(upload.data[-1]) # python 3.7 Kernel code, not working on Vocareum\n",
    "        except: f.write(upload.value[-1][\"content\"])  # python 3.8 Kernel code, not working on Vocareum\n",
    "\n",
    "Image(filename=file_name, width=\"50%\")\n"
   ]
  },
  {
   "cell_type": "code",
   "execution_count": null,
   "metadata": {},
   "outputs": [],
   "source": [
    "upload"
   ]
  },
  {
   "cell_type": "code",
   "execution_count": null,
   "metadata": {},
   "outputs": [],
   "source": [
    "\n",
    "file_name=\"4A_5_scope_triangle.jpg\"\n",
    "if upload.value!={}:\n",
    "    with open(file_name,\"wb\") as f:\n",
    "        try: f.write(upload.data[-1]) # python 3.7 Kernel code, not working on Vocareum\n",
    "        except: f.write(upload.value[-1][\"content\"])  # python 3.8 Kernel code, not working on Vocareum\n",
    "\n",
    "Image(filename=file_name, width=\"50%\")\n"
   ]
  },
  {
   "cell_type": "code",
   "execution_count": null,
   "metadata": {},
   "outputs": [],
   "source": [
    "### TO DO=\"describe which parts you used to make a triangular wave out of a block wave\"\n"
   ]
  },
  {
   "cell_type": "markdown",
   "metadata": {},
   "source": [
    "## COMPARE & CONCLUDE:\n",
    "> <font color='grey'>⏳ Estimated time: 15 min</font>\n",
    "\n",
    "* Wait until all (4) group members finish their observation\n",
    "* Compare your results with your other group members. \n",
    "* If your results agree, and are in line with all predictions, then talk to a TA and get checked off\n",
    "* Otherwise, so if your results do not agree, or your results are not in line with your predictions, then first discuss amongst your group before getting a TA. \n",
    "\n",
    "**to be checked off by a TA:** \n",
    "1. How does the position and height of a FFT of as sine changes with varying frequency?\n",
    "2. How did you succesfully filtered the block wave into a triangular wave? \n",
    "3. exit card:\n",
    "   1. Write a brief abstract on what you learned (conclusion, useful graph),\n",
    "   2. Which troubleshooting skills do you want to remember for next sessions,\n",
    "   3. Which code do you copy for use in next sessions,\n",
    "4. How do think this notebook could be improved"
   ]
  },
  {
   "cell_type": "code",
   "execution_count": 1,
   "metadata": {
    "lines_to_next_cell": 2
   },
   "outputs": [],
   "source": [
    "#4A Fourier transform\n",
    "\n",
    "### TO DO =\"1. How does the position and height of a FFT of as sine changes with varying frequency?\"\n",
    "\n",
    "### TO DO =\"2. How did you succesfully filtered the block wave into a triangular wave? \"\n",
    "\n",
    "### TO DO=\"3a. abstract\"\n",
    "\n",
    "### TO DO=\"3b. troubleshooting\"\n",
    "\n",
    "### TO DO=\"3c. code\"\n",
    "\n",
    "### TO DO=\"4. what changes would you suggest?\"\n"
   ]
  },
  {
   "cell_type": "markdown",
   "metadata": {},
   "source": [
    "If you got stuck during the measurement, at the end of the lab assignment we offer you a movie clip with our recorded efforts in the lab. If you were successfull with measuring, then skip this movie clip\n",
    "* https://www.youtube.com/watch?v=rG1sAAUFC0g\n"
   ]
  },
  {
   "cell_type": "code",
   "execution_count": null,
   "metadata": {},
   "outputs": [],
   "source": []
  }
 ],
 "metadata": {
  "celltoolbar": "Create Assignment",
  "kernelspec": {
   "display_name": "Python 3 (ipykernel)",
   "language": "python",
   "name": "python3"
  },
  "language_info": {
   "codemirror_mode": {
    "name": "ipython",
    "version": 3
   },
   "file_extension": ".py",
   "mimetype": "text/x-python",
   "name": "python",
   "nbconvert_exporter": "python",
   "pygments_lexer": "ipython3",
   "version": "3.10.14"
  },
  "latex_envs": {
   "LaTeX_envs_menu_present": true,
   "autoclose": false,
   "autocomplete": true,
   "bibliofile": "biblio.bib",
   "cite_by": "apalike",
   "current_citInitial": 1,
   "eqLabelWithNumbers": true,
   "eqNumInitial": 1,
   "hotkeys": {
    "equation": "Ctrl-E",
    "itemize": "Ctrl-I"
   },
   "labels_anchors": false,
   "latex_user_defs": false,
   "report_style_numbering": false,
   "user_envs_cfg": false
  },
  "toc": {
   "base_numbering": 1,
   "nav_menu": {},
   "number_sections": true,
   "sideBar": true,
   "skip_h1_title": false,
   "title_cell": "Table of Contents",
   "title_sidebar": "Contents",
   "toc_cell": false,
   "toc_position": {},
   "toc_section_display": true,
   "toc_window_display": false
  }
 },
 "nbformat": 4,
 "nbformat_minor": 4
}
