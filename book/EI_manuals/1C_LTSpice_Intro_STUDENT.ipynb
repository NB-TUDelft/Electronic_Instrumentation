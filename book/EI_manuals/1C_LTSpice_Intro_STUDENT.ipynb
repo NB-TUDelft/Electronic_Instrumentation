{
 "cells": [
  {
   "cell_type": "code",
   "execution_count": null,
   "metadata": {},
   "outputs": [],
   "source": [
    "from IPython.core.display import HTML\n",
    "def set_width(width):\n",
    "    display(HTML(f\"\"\"<style>  \n",
    "            .container {{ width:{width}% !important; \n",
    "                            min-width:800px !important; margin: 0 auto}} \n",
    "            .jp-Cell {{ width:{width}% !important; \n",
    "                            min-width:800px !important; margin: 0 auto}} </style>\"\"\"))\n",
    "# Set container width to X% of the fullscreen \n",
    "set_width(50)"
   ]
  },
  {
   "cell_type": "markdown",
   "metadata": {},
   "source": [
    "# 1C: voltage dividers LTSpice \n",
    "> <font color='blue'>Learning goal:</font> get introduced to the LTspice program, and design voltage dividers\n",
    "Structure + Timing of this experiment: \n",
    "BASIC = background, anticipate, simulate, implement & investigate, compare&conclude\n",
    "- 40 (20+20) min background+anticipate : per person. This is homework.\n",
    "- 40 (30+10) min simulate + implement & investigate     : with partner (group of 2)\n",
    "- 15 min compare&conclude                    : with group of 4 (per table)"
   ]
  },
  {
   "cell_type": "markdown",
   "metadata": {},
   "source": [
    "## Background (homework): install LTSpice on your laptop\n",
    "> <font color='grey'>⏳ Estimated time: 20 min</font>\n",
    "\n",
    "In this course we use LTSpice. LTspice is a circuit simulator made available by the company Linear Technology, which is part of Analog Devices now. It allows to quickly draw a schematic with general or specific components and simulate the circuits to perform DC, AC and transient analysis (=response to a step function). Simulation results are presented in a graphical way. \n",
    "\n",
    "go to the LTSpice intro manual, to install and learn how to use it:\n",
    "* https://nb-tudelft.github.io/Electronic_Instrumentation/main/EI_manuals/intro_LTSpice.html\n",
    "\n",
    "In this 1C manual we focus on DC analysis, the transient and AC analysis will be covered when working with resistors and capacitors at a later stage. .\n",
    "\n",
    "## Anticipate: Does the arrangement of voltage dividers influence the output voltage\n",
    "> <font color='grey'>⏳ Estimated time: 20 min</font>\n",
    "\n",
    "In exercise 1A you measured a simple voltage, which can be used to define a Vout which is smaller than its Vin. In this exercise you will combine two voltage dividers, and determine whether arrangement of these two voltage dividers will affect Vout. \n",
    "\n",
    "* predict the  $\\frac{Signal \\, out}{Signal \\, in}$ ratio for two individual voltage dividers, one with twice 10kΩ, the other one with 220Ω and 1kΩ \n",
    "<div>\n",
    "<img src=\"https://gitlab.tudelft.nl/mwdocter/nb2214-images/-/raw/a894a02ef157ca15d3d118eb243245eb912ba4f0/PicoPI/picopi2_2_individual_dividers.jpg\" width=\"50%\"/>\n",
    "</div>\n",
    "\n",
    "* Calculate the ratio $\\frac{Signal \\, out}{Signal \\, in}$ for both the left and right voltage divider. Are they behaving the same?\n",
    "<div>\n",
    "<img src=\"https://gitlab.tudelft.nl/mwdocter/nb2214-images/-/raw/a894a02ef157ca15d3d118eb243245eb912ba4f0/PicoPI/picopi2_1_combined_dividers.jpg\" width=\"50%\"/>\n",
    "</div>\n",
    "    \n",
    "You might want to watch the following movie clips on how to approach a resistor circuit, and how to work wih a current splitter."
   ]
  },
  {
   "cell_type": "code",
   "execution_count": null,
   "metadata": {},
   "outputs": [],
   "source": [
    "### TO DO=\"your answer, Vout/Vin for the individual and combined voltage dividers\"\n"
   ]
  },
  {
   "cell_type": "markdown",
   "metadata": {},
   "source": [
    "* Theory resistor circuit: https://www.youtube.com/watch?v=r2p5FDGEZSM \n",
    "* Theory current splitter: https://www.youtube.com/watch?v=UkF0ZLMI_0s \n",
    "* Precap on stacked voltage divider: https://www.youtube.com/watch?v=vOUG4c1OQBU \n"
   ]
  },
  {
   "cell_type": "markdown",
   "metadata": {},
   "source": [
    "## Simulate: Use LTSpice to build the simulation\n",
    "> <font color='grey'>⏳ Estimated time: 30 min</font>\n",
    "\n",
    "In LTSpice you will often use the top tool bar. Familiarize yourself with it, trough the intro LTSpice manual. "
   ]
  },
  {
   "cell_type": "markdown",
   "metadata": {},
   "source": [
    "\n",
    "> <font size=4>ℹ️</font> <b>Hint</b><br>\n",
    ">   Your LTSpice scheme could already look similar to the following figure. For convenience you might want to use 1V as Vin (then the ratio Vout/Vin is easier to retrieve). You can use ctrl+c, ctrl+v for easy duplication.\n",
    "    \n",
    "> <img src=\"https://gitlab.tudelft.nl/mwdocter/nb2214-images/-/raw/main/ELC/stacked%20voltage%20divider.JPG\" width=60%></img>     "
   ]
  },
  {
   "cell_type": "markdown",
   "metadata": {},
   "source": [
    "## Implement&Investigate (simulate) 1: Do the stacked voltage dividers behave the same?\n",
    "> <font color='grey'>⏳ Estimated time: 10 min</font>\n",
    "\n",
    "Run the simulations you created in simulate and write down in the cell below which values you find for Vout?\n",
    "Also upload a screendump, in which both your circuit plus the simulated outcome are shown."
   ]
  },
  {
   "cell_type": "code",
   "execution_count": null,
   "metadata": {},
   "outputs": [],
   "source": [
    "### TO DO=\" your simulated Vout, for the 4 circuits\"\n"
   ]
  },
  {
   "cell_type": "code",
   "execution_count": null,
   "metadata": {},
   "outputs": [],
   "source": [
    "from ipywidgets import FileUpload\n",
    "from IPython.display import Image\n",
    "\n",
    "upload=FileUpload()\n",
    "upload\n"
   ]
  },
  {
   "cell_type": "code",
   "execution_count": null,
   "metadata": {},
   "outputs": [],
   "source": [
    "import os\n",
    "#print(upload.value)\n",
    "file_name=\"1C_1_all_R=1.jpg\"\n",
    "if upload.value!={}:\n",
    "    with open(file_name,\"wb\") as f:\n",
    "        try: f.write(upload.data[-1]) # python 3.7 Kernel code, not working on Vocareum\n",
    "        except: f.write(upload.value[-1][\"content\"])  # python 3.8 Kernel code, not working on Vocareum\n",
    "\n",
    "Image(filename=file_name, width=\"50%\") \n",
    "#Image(os.path.abspath(file_name), width=\"50%\")"
   ]
  },
  {
   "cell_type": "markdown",
   "metadata": {},
   "source": [
    "## Compare&conclude\n",
    "> <font color='grey'>⏳ Estimated time: 15 min</font>\n",
    "\n",
    "* Wait till all (4) group members finish their observation\n",
    "* Compare your results with your other group members. \n",
    "* If your results agree, and are in line with all predictions, then talk to a TA and get checked off\n",
    "* Otherwise, so if your results do not agree, or your results are not in line with your predictions, then first discuss amongst your group before getting a TA. \n",
    "\n",
    "**to be checked off by a TA:**\n",
    "1. How/ why does the order of stacking matters?\n",
    "2. exit card: \n",
    "    1. Write a brief abstract on what you learned (conclusion, useful graph), \n",
    "    2. Which troubleshooting skills do you want to remember for next sessions, \n",
    "    3. Which code do you copy for use in next sessions,\n",
    "3. How do you think this notebook could be improved"
   ]
  },
  {
   "cell_type": "code",
   "execution_count": null,
   "metadata": {},
   "outputs": [],
   "source": [
    "#1C LTSpice intro\n",
    "### TO DO=\"1. why does stacking matter?\"\n",
    "\n",
    "### TO DO=\"2a. abstract\"\n",
    "\n",
    "\n",
    "### TO DO=\"2b. troubleshooting\"\n",
    "\n",
    "\n",
    "### TO DO=\"2c. code\"\n",
    "\n",
    "\n",
    "### TO DO=\"3. what changes would you suggest?\"\n"
   ]
  },
  {
   "cell_type": "markdown",
   "metadata": {},
   "source": [
    "If you got stuck during the measurement, at the end of the lab assignment we offer you a movie clip with our recorded efforts in the lab. If you were successfull with measuring, then skip this movie clip\n",
    "* https://www.youtube.com/watch?v=-HNAZ0IUNTs"
   ]
  },
  {
   "cell_type": "code",
   "execution_count": null,
   "metadata": {},
   "outputs": [],
   "source": []
  }
 ],
 "metadata": {
  "celltoolbar": "Create Assignment",
  "kernelspec": {
   "display_name": "Python 3 (ipykernel)",
   "language": "python",
   "name": "python3"
  },
  "language_info": {
   "codemirror_mode": {
    "name": "ipython",
    "version": 3
   },
   "file_extension": ".py",
   "mimetype": "text/x-python",
   "name": "python",
   "nbconvert_exporter": "python",
   "pygments_lexer": "ipython3",
   "version": "3.7.12"
  },
  "latex_envs": {
   "LaTeX_envs_menu_present": true,
   "autoclose": false,
   "autocomplete": true,
   "bibliofile": "biblio.bib",
   "cite_by": "apalike",
   "current_citInitial": 1,
   "eqLabelWithNumbers": true,
   "eqNumInitial": 1,
   "hotkeys": {
    "equation": "Ctrl-E",
    "itemize": "Ctrl-I"
   },
   "labels_anchors": false,
   "latex_user_defs": false,
   "report_style_numbering": false,
   "user_envs_cfg": false
  },
  "toc": {
   "base_numbering": 1,
   "nav_menu": {},
   "number_sections": true,
   "sideBar": true,
   "skip_h1_title": false,
   "title_cell": "Table of Contents",
   "title_sidebar": "Contents",
   "toc_cell": false,
   "toc_position": {},
   "toc_section_display": true,
   "toc_window_display": false
  }
 },
 "nbformat": 4,
 "nbformat_minor": 4
}
