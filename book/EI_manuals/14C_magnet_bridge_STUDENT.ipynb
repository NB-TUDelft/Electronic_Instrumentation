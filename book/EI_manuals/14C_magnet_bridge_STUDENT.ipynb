{
 "cells": [
  {
   "cell_type": "markdown",
   "id": "18c3b638",
   "metadata": {},
   "source": [
    "# 14C: Magnetic bridge \n",
    "> <font color='blue'>Learning goal:</font>  Understanding and Using Comparators\n",
    "\n",
    "Structure of an experiment:\n",
    "- Predict + Simulate (50): per person. This is homework and should be finished **before** you start your 4 hours practicum session\n",
    "- Build + Measure (65): with your partner(group of 2)\n",
    "- Evaluate (10): with a group of 4(per table)"
   ]
  },
  {
   "cell_type": "markdown",
   "id": "7139f4cd",
   "metadata": {},
   "source": [
    "# Goals\n",
    "<font color='blue'>Learning goal:</font> Experiments with Differential and Common Mode Voltages\n",
    " - **Focus of Experiments**: We'll explore how to suppress unwanted common mode voltage and amplify the desired differential voltage.\n",
    " - **Practical Sensor-Bridge Application**: The experiments will include using a sensor-bridge sensitive to magnetic fields. This involves detecting the magnetic field created by current passing through a wire or a printed circuit board track.\n",
    "\n"
   ]
  },
  {
   "cell_type": "markdown",
   "id": "dab529b6-58f4-419c-8cee-729ca5571969",
   "metadata": {},
   "source": [
    "## BACKGROUND\n",
    "> <font color='grey'>⏳ Estimated time: 10 min</font>\n",
    "\n",
    "### 1. Exploring Sensor-Bridge Applications\n",
    "In this experiment, we delve into the practical application of a sensor-bridge. Sensor bridges are particularly useful with sensors that exhibit higher sensitivity to secondary parameters other than the one being primarily measured. Here, we focus on a bridge constructed with resistors sensitive to magnetic fields, which are, notably, even more sensitive to temperature changes!\n",
    "\n",
    "### 2. Balancing Sensitivities in the Bridge\n",
    "To offset the varying sensitivities, the bridge is designed with two resistors having a negative coefficient for the targeted parameter (magnetic field) and two with a positive coefficient. This configuration enables the creation of a functional system, even though all resistors share the same sensitivity coefficient for temperature.\n",
    "\n",
    "<div style=\"text-align: center\">\n",
    "    <img src=\"https://gitlab.tudelft.nl/mwdocter/nb2214-images/-/raw/main/LTS/LTS9_1+2.png\" width=800>\n",
    "    <br>\n",
    "    <em>Diagram: Sensor-Bridge Resistor Configuration.</em>\n",
    "</div>\n",
    "\n",
    "### 3. Instrumentation Amplifier vs OPAMP\n",
    "While the schematic of an instrumentation amplifier may resemble that of an Operational Amplifier (OPAMP), their functionalities differ. The instrumentation amplifier, a specialized form of a differential amplifier, amplifies the voltage difference between its inverting and non-inverting inputs with an adjustable gain-factor. This gain is set using an external resistor (Rg).\n",
    "\n",
    "\n",
    "\n",
    "### 4. Understanding the Behavior under Magnetic Fields and Temperature\n",
    "The diagram above illustrates how resistors react to magnetic fields, with all resistors demonstrating a positive coefficient (+dR) in response to temperature changes. In the absence of a magnetic field, all resistors maintain equal value, resulting in output voltages Ul and Ur being half the bridge voltage. Temperature-induced resistance changes, equal in all resistors, will similarly maintain this half-bridge voltage balance.\n",
    "\n",
    "However, when exposed to a magnetic field, two resistors increase their resistance while the other two decrease it. This creates a small but significant deviation from the half-bridge voltage, yielding a differential voltage ($U_r - U_l$). This differential voltage is then amplified by the instrumentation amplifier to a usable level.\n",
    "\n",
    "### 5. Bridge Output Voltage Dependency\n",
    "For a full bridge configuration with four sensitive resistors, the differential output voltage can be expressed as:\n",
    "\n",
    "$$ Uo = U_{bridge} \\cdot \\frac{dR}{R} $$\n",
    "\n",
    "\n",
    "This equation indicates that the bridge's output voltage is directly proportional to its supply voltage. Increasing the bridge voltage enhances the signal strength! However, the maximum bridge voltage is constrained by the heat (power) tolerance of the bridge resistors.\n",
    "\n"
   ]
  },
  {
   "cell_type": "markdown",
   "id": "f7d585c3",
   "metadata": {},
   "source": [
    "## ANTICIPATE : Differential output voltage through the magnet bridge\n",
    "> <font color='grey'>⏳ Estimated time: 20 min</font>\n",
    "\n",
    "### Exploring the HMC1052 Resistor Bridge - temperature dependency\n",
    "In this section, we examine the HMC1052, which you will later use in the Implement & Investigate (I&I) setup. This device consists of a resistor bridge made up of four identical resistors, each with the **same temperature coefficient**. \n",
    "\n",
    ">**Crucially, this uniformity means that all resistors respond to temperature changes in a similar manner, thereby maintaining the stability of the bridge’s differential output voltage ($U_{out} = U_{+out} – U_{-out}$).**\n",
    "\n",
    "<div style=\"text-align: center\">\n",
    "    <img src=\"https://gitlab.tudelft.nl/mwdocter/nb2214-images/-/raw/main/ELC/ELC14_5.jpg\" width=\"600\">\n",
    "    <br>\n",
    "    <em>Figure: Magnetic Bridge, Equivalent Circuit. <b>In this figure dR represents changes due to temperature variation</b>.</em>\n",
    "</div>\n",
    "\n",
    "\n",
    "Your task is to mathematically confirm the above statement by calculating the bridge’s differential output voltage under uniform resistance change. Consider the following scenario:\n",
    "- All resistors (R1, R2, R3, and R4) in the bridge alter their resistance by an equal amount, denoted as dR.\n",
    "- Assume the basic resistance value of each resistor (R1 = R2 = R3 = R4) is R.\n",
    "\n",
    "**Objective**: Determine the differential voltage, which is the voltage difference between the “+out” and “-out” terminals of the bridge.\n",
    "\n",
    "<details>\n",
    "<summary><font size=4>ℹ️</font> <b>Hints</b></summary>\n",
    "    \n",
    "To determine if the differential output voltage is indeed zero, consider the following approach:\n",
    "* Voltage Calculation for '-out': Measure the voltage across (R1 + dR). Express this voltage in terms of R and dR.\n",
    "* Voltage Calculation for '+out': Similarly, measure the voltage across (R3 + dR), and express it in terms of R and dR.\n",
    "* Calculating the Differential Output Voltage: Calculate the difference between the voltages at '+out' and '-out'. This will give you the differential output voltage.\n",
    "</details>\n"
   ]
  },
  {
   "cell_type": "code",
   "execution_count": null,
   "id": "cde17936",
   "metadata": {},
   "outputs": [],
   "source": [
    "### TO DO =\"derive that Uout does not depende on dR for the above circuit\"\n",
    " "
   ]
  },
  {
   "cell_type": "markdown",
   "id": "021fda06",
   "metadata": {},
   "source": [
    "\n",
    "> <font size=4>ℹ️</font> <b>Hint</b><br>\n",
    "'-out' measures the voltage over (R1+dR); '+out' measures the voltage over (R3+dR). When you express these voltages in R and dR and calculate the difference, do you indeed find that the differential output voltage is zero?"
   ]
  },
  {
   "cell_type": "markdown",
   "id": "9a24b1de",
   "metadata": {},
   "source": [
    "### Calculating the Differential Output Voltage under Magnetic Influence\n",
    "Now, let's shift our focus to the impact of a magnetic field on the resistor bridge. Unlike the previous scenario where dR represented changes due to temperature, here dR signifies the change in resistance due to a variation in the **magnetic field**.\n",
    "\n",
    "<div style=\"text-align: center\">\n",
    "    <img src=\"https://gitlab.tudelft.nl/mwdocter/nb2214-images/-/raw/main/ELC/ELC14_6.jpg\" width=600>\n",
    "    <br>\n",
    "    <em>Figure: Magnetic Bridge, Equivalent Circuit. <b>Here, dR represents changes due to variations in the magnetic field. </b></em>\n",
    "</div>\n",
    "\n",
    "> **Key Assumption**: For any practical magnetic field, it can be safely assumed that dR << R. This means the change in resistance (dR) due to the magnetic field is much smaller than the basic resistance value (R) of each resistor.\n",
    "\n",
    "**Task:** Apply the same method of calculation as for the temperature variation. Determine the new differential voltage, which is the voltage difference between the “+out” and “-out” terminals, considering the influence of a magnetic field on the bridge.\n"
   ]
  },
  {
   "cell_type": "code",
   "execution_count": null,
   "id": "721246f6",
   "metadata": {},
   "outputs": [],
   "source": [
    "### TO DO=\" Derive how Uout depends on dR in the above (second) picture \"\n",
    " "
   ]
  },
  {
   "cell_type": "markdown",
   "id": "0e3c6bac",
   "metadata": {},
   "source": [
    "**Conclude:** Now, you should understand why this configuration is used to measure changes in magnetic field."
   ]
  },
  {
   "cell_type": "code",
   "execution_count": null,
   "id": "698f1e2f",
   "metadata": {},
   "outputs": [],
   "source": [
    "### TO DO=\" Explain how such bridge configuration can be used to measure a magnetic field \"\n",
    " "
   ]
  },
  {
   "cell_type": "markdown",
   "id": "a1dbd5bf",
   "metadata": {},
   "source": [
    "## SIMULATE: Analyzing a simple instrumentation amplifier\n",
    "> <font color='grey'>⏳ Estimated time: 20 min</font>\n",
    "\n",
    "### Setting Up the Simulation\n",
    "- **Download the Scheme**: Download the schematic named \"week14C\" from Brightspace. This schematic represents a simple instrumentation amplifier configuration, which, unlike the AD620 used in Implement & Investigate (I&I), lacks capacitors and inductors.\n",
    "- **Run the Simulation**: Observe the behavior and output of the amplifier. What is the gain?\n",
    "\n",
    "<div style=\"text-align: center\">\n",
    "    <img src=\"https://gitlab.tudelft.nl/mwdocter/nb2214-images/-/raw/main/LTS/14C_simple_diff_amplifier.PNG\" width=\"800\">\n",
    "    <br>\n",
    "    <em>Figure: Schematic of the circuit</em>\n",
    "</div>\n"
   ]
  },
  {
   "cell_type": "code",
   "execution_count": null,
   "id": "51c292f8",
   "metadata": {},
   "outputs": [],
   "source": [
    "### TO DO=\" what is the gain of the week 14C simulation \"\n",
    " "
   ]
  },
  {
   "cell_type": "markdown",
   "id": "bd55ae76",
   "metadata": {},
   "source": [
    "### Determining the Amplifier's Gain\n",
    "- **Gain Formula**: The gain of this specific instrumentation amplifier can be calculated using the following formula:\n",
    "\n",
    "  $$ G = \\frac{R_d}{R_c} \\left(1 + \\frac{2  R_b}{R_a}\\right) $$\n",
    "\n",
    "  "
   ]
  },
  {
   "cell_type": "markdown",
   "id": "1e564c69",
   "metadata": {},
   "source": [
    "-  **Identify resistors:** Your task is to match the resistors from the circuit (R1, R2, R3, R4, R5, R6, R7) to their corresponding parts in the gain formula ($R_a, R_b, R_c, R_d$). Note: we give you R1=R3, R4=R6, R5=R7. \n",
    "\n",
    "| Scheme Sign | Formula Sign |\n",
    "  | ----------- | ------------ |\n",
    "  | R1 & R3     | ?            |\n",
    "  | R2          | ?            |\n",
    "  | R4 & R6     | ?            |\n",
    "  | R5 & R7     | ?            |\n",
    "\n",
    "- **Adjust and Observe**: Experiment by changing the value of one group of resistors in the simulation. Observe how this adjustment affects the output and, consequently, the gain of the amplifier."
   ]
  },
  {
   "cell_type": "code",
   "execution_count": null,
   "id": "fc1bd61b",
   "metadata": {},
   "outputs": [],
   "source": [
    "### TO DO=\"match R1234567 to Rabcd\"\n",
    " "
   ]
  },
  {
   "cell_type": "markdown",
   "id": "11bd12bb-2eee-4654-8d03-2dbb11783269",
   "metadata": {},
   "source": [
    "\n",
    "* Precap: https://www.youtube.com/watch?v=40dbfSzPY-Q\n"
   ]
  },
  {
   "cell_type": "markdown",
   "id": "ad56c33b",
   "metadata": {},
   "source": [
    "## IMPLEMENT & INVESTIGATE\n",
    "This experiment requires some prepatory steps:\n",
    "* I&I1: verification of the amplifier's gain\n",
    "* I&I2: resetting the sensor, adjusting the bridge voltage\n",
    "* I&I3: connect bridge to instrumentation amplifier, and measure the amplified differential signal. Investigate the (amplification) properties. \n",
    "\n",
    "\n",
    "## IMPLEMENT & INVESTIGATE 1: Verifying the AD620 Amplifier Gain\n",
    "> <font color='grey'>⏳ Estimated time: 25 min</font>\n",
    "\n",
    "### Connecting the Instrumentation Amplifier Circuit\n",
    "- Use Testboard 15!\n",
    "<details>\n",
    "<summary><font size=4>ℹ️</font> <b>Hint on location instrumentation amplifier</b></summary>\n",
    "  <div style=\"text-align: center\">\n",
    "      <img src=\"https://gitlab.tudelft.nl/mwdocter/nb2214-images/-/raw/main/ELC/14C_magnet_bridge.jpg\" width=800>\n",
    "      <br>\n",
    "      <em>Figure: Magnetic Bridge Connection for Observation.</em>\n",
    "  </div>\n",
    "</details>  \n",
    "- **Circuit Implementation**: directly connect the function generator to the instrumentation amplifier and measure its output with the scope probe. Think of what amplitude you can expect when using the real sensor.\n",
    "\n",
    "  <div style=\"text-align: center\">\n",
    "      <img src=\"https://gitlab.tudelft.nl/mwdocter/nb2214-images/-/raw/main/ELC/ELC14_2.jpg\"  width=\"70%\">\n",
    "      <br>\n",
    "      <em>Figure: Instrumentation Amplifier Implementation on Testboard.</em>\n",
    "  </div>\n",
    "\n",
    "- **Powering the AD620**: Ensure that the AD620 is properly powered before proceeding.\n",
    "- **Having switches in correct position**: Check if power switches are both in +/- 12V position(down) and amplifier switch is turned ON (up).\n",
    "\n",
    "### Gain Verification (fill in the table)\n",
    "- **Calculating and Measuring Gain**: Using the AD620 datasheet (available at [AD620 Datasheet](https://nl.mouser.com/pdfdocs/AD620.pdf)), particularly the “Theory of operation” section, calculate the gain of the instrumentation amplifier for various settings of Rg (infinite, 5.5kΩ, 500 Ω, 50 Ω).\n",
    "- **Implement and Record**: Measure the input ($U_{in}$) and output ($U_{out}$) voltages for each $R_g$ setting. Record these values along with the calculated and measured gains in dB in the table below.\n",
    "- Look at the resistors on the board (next to the switches), read their bands and conclude which resistor is linked to which SW102 switch. \n",
    "\n",
    "|Value of Rg[Ω]|Switch position (SW102)|Gain (See datasheet)|Uin|Uout|Gain measured|Gain measured [dB]|Remarks|\n",
    "| :-           |               :-:     | :-:                | :-| :- | :-          | :-               | :-    |\n",
    "| ∞            |                       |                    |   |    |             |                  |       |\n",
    "|5.49kΩ        |                       |                    |   |    |             |                  |       |\n",
    "|499Ω          |                       |                    |   |    |             |                  |       |\n",
    "|49.9Ω         |                       |                    |   |    |             |                  |       |"
   ]
  },
  {
   "cell_type": "code",
   "execution_count": null,
   "id": "4287299a",
   "metadata": {},
   "outputs": [],
   "source": [
    "### TO DO =\"fill in the table, and derive the gain value\"\n",
    " "
   ]
  },
  {
   "cell_type": "markdown",
   "id": "33a65785",
   "metadata": {},
   "source": [
    "> <font size=4>ℹ️</font> <b>Hint</b> <br>\n",
    "Not seeing the amplification that you expected? Are you using the correct probe settings in the scope? "
   ]
  },
  {
   "cell_type": "markdown",
   "id": "21ddad4a",
   "metadata": {},
   "source": [
    "> <font color='red'> <b> Optional challenge:</b> </font> Observing the Effects of Reversed Connections at 20dB Gain <br>\n",
    ">Proceed with the following experiment to explore the impact of connection reversal:\n",
    ">1. Adjust the amplifier's gain to 20dB. \n",
    ">2. Carefully reverse the connections at U15 and U16. \n",
    ">3. Once you have reversed the connections, examine both the input and output signals on the oscilloscope.\n",
    "   > Pay close attention to any changes in the waveforms, particularly noting alterations in phase, amplitude, or other signal characteristics.\n",
    "> - **Observations**: What differences do you notice in the output signal compared to the input signal after reversing the connections?"
   ]
  },
  {
   "cell_type": "code",
   "execution_count": 1,
   "id": "83614920",
   "metadata": {},
   "outputs": [],
   "source": [
    "### TO optionally DO =\"What is the change due to reverse connections\"\n",
    " "
   ]
  },
  {
   "cell_type": "markdown",
   "id": "64ba0ce8",
   "metadata": {},
   "source": [
    "## IMPLEMENT & INVESTIGATE 2: Calibrate the bridge and the sensor\n",
    "> <font color='grey'>⏳ Estimated time: 20 min</font>\n",
    "\n",
    "Before delving into the experiment with the magnet bridge, some preparatory steps are essential:\n",
    "\n",
    "<br>\n",
    "<b>Remove your previous setup from the board</b>. You can keep the connected coax cable.<br>\n",
    "<br>\n",
    "\n",
    "### Sensor Reset\n",
    "- **Understanding the SET/RESET Strap**: The sensor incorporates a built-in SET/RESET strap, essentially a coil surrounding the magneto-sensitive resistors. Regularly resetting these resistors is crucial as their values can drift over time.\n",
    "- **Applying Current Pulses**: \n",
    "  - Use **SW101** to apply short current pulses, switching either to SET or RESET.\n",
    "  - Remember to **return the switch to its middle position** after each use. Leaving the switch in SET or RESET will continuously generate reset pulses every second.\n",
    "\n",
    "  <div style=\"text-align: center\">\n",
    "      <img src=\"https://gitlab.tudelft.nl/mwdocter/nb2214-images/-/raw/main/ELC/14C_reset__Vbridge.jpg\" width=\"70%\">\n",
    "      <br>\n",
    "      <em>Figure: Sensor Reset Mechanism.</em>\n",
    "  </div>\n",
    "\n",
    "### Adjust the bridge voltage\n",
    "*We will now perform some measurements. But before doing them use R17 to adjust the bridge voltage to 5V. This voltage can be observed at U4. Note: U2 is ground.*\n",
    "You are free to use any measurement device you want.\n",
    "\n"
   ]
  },
  {
   "cell_type": "markdown",
   "id": "d80710b8",
   "metadata": {},
   "source": [
    "> <font color='red'> <b> Optional challenge: Observing and Measuring Current </font> <br>\n",
    "> **Setting Up for Current Observation** <br>\n",
    "> Use the function generator to run a current between U1A and U1B, which are connected by a copper wire. This wire is placed underneath the bridge sensor, such that the induced magnetic field can be picked up.\n",
    "> When a voltage is applied, current wil run, and a magnetic field is generated, to be sensed by the bridge sensor. <br>\n",
    ">\n",
    "> **Measuring the Injected Current**\n",
    "> - Set the function generator's amplitude to 5Vpp.\n",
    "> - Take a handheld amperometer to measure the current flowing through the circuit. Record the measured current value.<br>\n",
    ">\n",
    "> **Calculating the Injected Current**\n",
    "> - Calculate the peak-to-peak amplitude of the injected current (𝑑𝐼𝑔𝑒𝑛) in the copper tracks. Assume there is no resistance in the wires for this calculation (but there is resistance in the function generator). <br>\n",
    ">\n",
    "> **Comparison**: Compare your calculated value of 𝑑𝐼𝑔𝑒𝑛 with the value measured using the handheld amperometer.\n",
    "> <details>\n",
    "> <summary><font size=4>ℹ️</font> <b>Hint, on calculating the current between U1A and U1B</b></summary>\n",
    "> As said, assume there is no resistance in the wire between U1A and U1B. But remember there is an internal resistor in the function generator. Use this resistor to calculate the (max) current through the U1A-U1B wire. \n",
    "> </details>"
   ]
  },
  {
   "cell_type": "code",
   "execution_count": 2,
   "id": "9a72fdbd",
   "metadata": {},
   "outputs": [],
   "source": [
    "### TO DO=\" your observation on amperemter and that converted to Ipp\"\n",
    " "
   ]
  },
  {
   "cell_type": "markdown",
   "id": "9ed398d9",
   "metadata": {},
   "source": [
    "## IMPLEMENT & INVESTIGATE 3: Observe the magnetic field effect\n",
    "> <font color='grey'>⏳ Estimated time: 25 min</font>\n",
    "\n",
    "<br>\n",
    "Now you have all the components needed to observe the magnetic field effect, and investigate further. <br>\n",
    "You may remove the current meter from I&I2, and replace it with a simple wire to maintain the circuit. \n",
    "<br>\n",
    "\n",
    "### Setting Up the Experiment\n",
    "- **Amplifier Input Connection**: Connect the input of the AD620 amplifier (U15,U16) to the bridge output (U11, U13). Use the following connections:\n",
    "  - U15 to U11\n",
    "  - U16 to U13\n",
    "- **Adjusting Amplifier Gain**: Set the AD620 to a gain of 100x.\n",
    "- **Observing Output on Oscilloscope**: Monitor the amplifier's output on the oscilloscope. *Tip: Remember how you connected to the scope in I&I1 ?*\n",
    "\n",
    "  <div style=\"text-align: center\">\n",
    "      <img src=\"https://gitlab.tudelft.nl/mwdocter/nb2214-images/-/raw/main/ELC/14C_magnet_bridge.jpg\" width=800>\n",
    "      <br>\n",
    "      <em>Figure: Magnetic Bridge Connection for Observation.</em>\n",
    "  </div>\n",
    "  \n",
    "### Calculating Transfer Impedance\n",
    "- **Objective**: Calculate the overall transfer impedance (𝑑𝑉𝑈17/𝑑𝐼𝑔𝑒𝑛) in mV/mA of the sensor system based on the observed results.\n",
    "- **Use Ideal Current**: Refer to the ideal (non-experimental) current value from the previous optional exercise for this calculation. \n",
    "<details>\n",
    "<summary><font size=4>ℹ️</font> <b>Hint for dIgen:</b></summary>\n",
    "    You generate 5V, and the only resistor in that part of the circuit is the 50 $\\Omega$ internal resistance. So you can calculate dIgen. \n",
    "</details>"
   ]
  },
  {
   "cell_type": "code",
   "execution_count": null,
   "id": "a75edc9b",
   "metadata": {
    "lines_to_next_cell": 2
   },
   "outputs": [],
   "source": [
    "### TO DO=\" your derivation of the overall transfer impedance\"\n",
    " "
   ]
  },
  {
   "cell_type": "markdown",
   "id": "3b780d97",
   "metadata": {},
   "source": [
    "### Experimental Verification\n",
    "1. **Sensor Sensitivity to Current Direction, DC offset, and linearity of the sensor**:\n",
    "   - Investigate whether the sensor is sensitive to the direction of current flow.\n",
    "   - <font size=4>ℹ️</font> <b>Hint</b>: Focus on the phase of the output, not only the amplitude.<br>\n",
    "   <details>     <summary><font size=4>ℹ️</font> <b>Hints</b></summary>\n",
    "        * switch the two wires to U1A and U1B, providing the current that generates the magnetic field <br>\n",
    "        * on the oscilloscope observe both the input (from function generator) and output (from instrumentation amplifier)\n",
    "    </details>\n",
    "\n",
    "2. **Sensitivity to DC Offset**:\n",
    "   - Determine if the sensor is affected by DC offset in the input signal (generated by the function generator).\n",
    "\n",
    "3. **Linearity of Magnetic Sensor**:\n",
    "   - Assess the linearity of the magnetic sensor by examining the shape of the amplifier output signal.\n",
    "   - <font size=4>ℹ️</font> <b>Hint</b>:Use a triangle wave as the input and observe how the output signal changes. \n",
    "   - How does this affect your understanding of the sensor's linearity?"
   ]
  },
  {
   "cell_type": "code",
   "execution_count": null,
   "id": "3809f275",
   "metadata": {},
   "outputs": [],
   "source": [
    "### TO DO=\"1.senstive to currect? 2.sensitive to DC offset? 3. linearity?\"\n",
    " "
   ]
  },
  {
   "cell_type": "markdown",
   "id": "62fd8f4a",
   "metadata": {},
   "source": [
    "4. **Calculating Resistance Variation**\n",
    "- **Peak-to-Peak Resistance Variation (dRpp)**: Calculate the peak-to-peak resistance variation dRpp(dR/R) of the bridge elements from the measured amplitude variation (dVU17) of the amplifier output.\n",
    "- **Relative Variation (dRpp/R)**: Determine how large the relative variation is. Use the formula $$U_{out} = \\frac{dR}{R} \\times U_{bridge}$$ \n",
    "\n",
    "Note that $dVU17 \\neq U_{out}$.\n",
    "<details>\n",
    "<summary><font size=4>ℹ️</font> <b>Hints</b></summary>\n",
    "    \n",
    "- Ubridge is measured after the bridge, and before the instrumentation amplifier\n",
    "- You measure the output of the instrumentation amplifier with the probe\n",
    "- With the above two hints taken into account, calculate the correct Ubridge\n",
    "    \n",
    "- You know that Ubridge depends on dR, R and the common voltage (5V). \n",
    "- So now you can calculate $\\frac{dR}{R}$, and rewrite that fraction into ppm (=part per million; 1 ppm = 1 x 10^-6)\n",
    "\n",
    "    </details>\n",
    "\n",
    "**5. Comparing with Temperature Coefficient**\n",
    "- Compare your calculated relative variation (dRpp/R) with the typical temperature coefficient of the resistors in the sensor, which is around 2500ppm/°C or equivalent to 2.5Ω/°C.\n",
    "- Is it (much) bigger, smaller or comparable to $\\frac{dR}{R}$? \n"
   ]
  },
  {
   "cell_type": "code",
   "execution_count": null,
   "id": "7b2da6d3",
   "metadata": {},
   "outputs": [],
   "source": [
    "### TO DO=\"Derive the dR/R value and compare it to the tempearature coefficient\"\n"
   ]
  },
  {
   "cell_type": "markdown",
   "id": "6620bce0",
   "metadata": {},
   "source": []
  },
  {
   "cell_type": "markdown",
   "id": "e039a2db",
   "metadata": {},
   "source": [
    "> ## **<font color = 'red'> OPTIONAL EXERCISE : <br> Analyzing the Impact of Bridge Voltage on Output Voltage</font>**\n",
    "> ### System overview\n",
    "The schematic below illustrates the entire measurement system. From this representation, it's evident that the bridge voltage also significantly impacts the system's output.\n",
    "  \n",
    "  <div style=\"text-align: center\">\n",
    "      <img src=\"https://gitlab.tudelft.nl/mwdocter/nb2214-images/-/raw/main/ELC/ELC14_8.jpg\" width=\"800\">\n",
    "      <br>\n",
    "      <em>Figure: Schematic of the Measurement System.</em>\n",
    "  </div>\n",
    "\n",
    "> #### Experiment Setup\n",
    ">- **Function Generator Settings**:\n",
    ">  - Adjust the function generator to emit a 5V peak-to-peak (Vpp) sine wave.\n",
    ">  - Set the DC offset to 0V.\n",
    ">  - Frequency should be set to 400Hz.\n",
    "\n",
    "> ### Adjusting and Measuring Bridge Voltage\n",
    "**Bridge Voltage Adjustment**: Vary the bridge voltage (measured at U4, with U2 as Ground) to different levels - 1.2V, 2V, 3V, 4V, and 5V.<br>\n",
    "Carefully observe the changes in the output voltage of the amplifier at each bridge voltage level.\n",
    "\n",
    "\n",
    "> ### Recording Observations\n",
    "Fill in the table below with your observations\n"
   ]
  },
  {
   "cell_type": "markdown",
   "id": "50cee0ef",
   "metadata": {},
   "source": [
    "\n",
    "\n",
    "| Bridge voltage [V] | 1.2 (!)|2.0|3.0|4.0|5.0|\n",
    "| :-                 |:-      |:- |:- |:- |:- |\n",
    "| Output voltage [V] |        |   |   |   |   |\n",
    "\n"
   ]
  },
  {
   "cell_type": "code",
   "execution_count": 2,
   "id": "8e8a9944",
   "metadata": {},
   "outputs": [],
   "source": [
    "### TO DO optionally =\" room for additional comments on the table above\"\n"
   ]
  },
  {
   "cell_type": "markdown",
   "id": "f1ebb89a",
   "metadata": {},
   "source": [
    "## COMPARE & CONCLUDE\n",
    "> <font color='grey'>⏳ Estimated time: 10 min</font>\n",
    "\n",
    "* Wait till all (4) group members finish their observation\n",
    "* Compare your results with your other group members. \n",
    "* If your results agree, and are in line with all predictions, then talk to a TA and get checked off\n",
    "* Otherwise, so if your results do not agree, or your results are not in line with your predictions, then first discuss amongst your group before getting a TA. \n",
    "\n",
    "\n",
    "**to be checked off by a TA:**\n",
    "1. Evaluate the instrumentation amplifier (I&I1): explain whether it behaves as expected (gain, removing common signal)\n",
    "2. Compare the change in temp vs change in magnetic field, what can you conclude?\n",
    "3. Exit card: \n",
    "    1. Write a brief abstract on what you learned (conclusion, useful graph), \n",
    "    2. Which troubleshooting skills do you want to remember for next sessions, \n",
    "    3. Which code do you copy for use in next sessions,\n",
    "4. How do you think this notebook could be improved"
   ]
  },
  {
   "cell_type": "code",
   "execution_count": null,
   "id": "6997a408-69c9-4276-961d-a4b02be69544",
   "metadata": {},
   "outputs": [],
   "source": [
    "#14C magnet bridge\n",
    "### TO DO=\"1 evaluate the instrumentation amplifier\"\n",
    "\n",
    "### TO DO=\"2 Compare the change in temp vs change in magnetic field \"\n",
    "\n",
    "### TO DO=\"3a. abstract\"\n",
    " \n",
    "### TO DO=\"3b. troubleshooting\"\n",
    " \n",
    "### TO DO=\"3c. code\"\n",
    " \n",
    "### TO DO=\"4. what changes would you suggest?\"\n",
    "\n"
   ]
  },
  {
   "cell_type": "markdown",
   "id": "17ce0148",
   "metadata": {},
   "source": [
    "* Recording: https://www.youtube.com/watch?v=oVPmAAvVhO4 \n"
   ]
  }
 ],
 "metadata": {
  "kernelspec": {
   "display_name": "Python 3 (ipykernel)",
   "language": "python",
   "name": "python3"
  },
  "language_info": {
   "codemirror_mode": {
    "name": "ipython",
    "version": 3
   },
   "file_extension": ".py",
   "mimetype": "text/x-python",
   "name": "python",
   "nbconvert_exporter": "python",
   "pygments_lexer": "ipython3",
   "version": "3.7.12"
  }
 },
 "nbformat": 4,
 "nbformat_minor": 5
}
