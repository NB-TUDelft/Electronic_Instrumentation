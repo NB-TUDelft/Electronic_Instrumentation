{
 "cells": [
  {
   "cell_type": "markdown",
   "metadata": {},
   "source": [
    "<div class=\"alert alert-block alert-info\">\n",
    "\n",
    "**Accessibility of the notebook:**\n",
    "- You can adjust the width of the text with the function provided below. Copy it into a new code cell and execute it using the `ipykernel`.\n",
    "    ```python\n",
    "    from IPython.core.display import HTML\n",
    "    def set_width(width):\n",
    "        display(HTML(f\"\"\"<style>  \n",
    "                .container {{ width:{width}% !important; \n",
    "                                min-width:800px !important; margin: 0 auto}} \n",
    "                .jp-Cell {{ width:{width}% !important; \n",
    "                                min-width:800px !important; margin: 0 auto}} </style>\"\"\"))\n",
    "    # Set container width to X% of the fullscreen \n",
    "    set_width(50)\n",
    "    ```\n",
    "- You can toggle the auto-numbering of the sections in the outline toolbox (sidebar or topbar).\n",
    "- You can toggle the code line numbers in the dropdown menu of the \"view\" button in the topbar. \n",
    "- You can collapse/expand a cell by clicking the blue bar on the left side of the cell.\n",
    "\n",
    "</div>"
   ]
  },
  {
   "cell_type": "code",
   "execution_count": 2,
   "metadata": {},
   "outputs": [
    {
     "data": {
      "text/html": [
       "<style>  \n",
       "            .container { width:50% !important; \n",
       "                            min-width:800px !important; margin: 0 auto} \n",
       "            .jp-Cell { width:50% !important; \n",
       "                            min-width:800px !important; margin: 0 auto} </style>"
      ],
      "text/plain": [
       "<IPython.core.display.HTML object>"
      ]
     },
     "metadata": {},
     "output_type": "display_data"
    }
   ],
   "source": [
    "from IPython.core.display import HTML\n",
    "def set_width(width):\n",
    "    display(HTML(f\"\"\"<style>  \n",
    "            .container {{ width:{width}% !important; \n",
    "                            min-width:800px !important; margin: 0 auto}} \n",
    "            .jp-Cell {{ width:{width}% !important; \n",
    "                            min-width:800px !important; margin: 0 auto}} </style>\"\"\"))\n",
    "# Set container width to X% of the fullscreen \n",
    "set_width(50)"
   ]
  },
  {
   "cell_type": "markdown",
   "metadata": {},
   "source": [
    "# Intro Scope\n",
    "This intro supports labmanuals 2A, 2B and 4A\n",
    "\n",
    ">* scope option: channels\n",
    ">* scope option: measure in AC or DC\n",
    ">* scope option: triggering on channel 1\n",
    "\n",
    "The oscilloscope is an indispensable device to test electronic circuits and is an important complement to the DMM. It allows the observation of signals that vary over time and therefore allows a better study of parameters such as frequency and amplitude for AC signals. \n",
    "\n",
    "<img src=\"https://gitlab.tudelft.nl/mwdocter/nb2214-images/-/raw/main/ELC/ELC3a%20scope.jpg\" width=50%></img>\n",
    "\n",
    "You can use the function generator to generate a signal (from the output), and the oscilloscope to record this signal (with channel 1). The two devices are to be connected by a coax cable, which is a cable with an inner connector (=signal line) and outer shield (=COM, or ground), and can be seen as 2 cables in one.\n",
    "\n",
    "<img src=\"https://gitlab.tudelft.nl/mwdocter/nb2214-images/-/raw/main/ELC/ELC-coax%20cable.JPG\" width=50%></img>\n",
    "\n",
    "Watch the movie clip below to get a quick intro into the scope"
   ]
  },
  {
   "cell_type": "code",
   "execution_count": null,
   "metadata": {},
   "outputs": [],
   "source": [
    "## SCR-scope \n",
    "\n",
    "\n",
    "from IPython.lib.display import YouTubeVideo\n",
    "YouTubeVideo('ecqLWHD7bDM', width = 600, height = 450)"
   ]
  },
  {
   "cell_type": "markdown",
   "metadata": {},
   "source": [
    "## Use the scope - basics\n",
    "    \n",
    "* Turn on the oscilloscope. \n",
    "    * Channels 1 and 2 (CH1 and CH2) can be switched on and off by pressing the buttons “1” and “2.” \n",
    "      * To switch on a channel that is off, press the button once. \n",
    "      * To switch off a channel that is on, press the button twice. \n",
    "\n",
    "\n",
    "* Correctly adapt a channel (1)'s settings \n",
    "    * Press button “1” once, while looking at the screen. \n",
    "    * For a short while a menu should appear, with “CH1” written on top. \n",
    "    * Next, press the button “MENU ON/OFF.” You should see the same menu. \n",
    "    \n",
    "    \n",
    "* Change a menu setting (Coupling), press the corresponding menu button:\n",
    "    * this button is on the right-hand side of the screen while the menu is visible. \n",
    "    * find the menu setting “Coupling.” Set Ch1 to \"DC\" coupling. DC coupling means you display the value of the signal, with AC coupling the average is subtracted before display.  \n",
    "    * other default settings are: “BW Limit” at ‘OFF,” “Probe” at “1X” and “Invert” at “OFF.” \n",
    "\n",
    "\n",
    "* Scaling of voltage and timescale\n",
    "    * Adjust the vertical and horizontal scale to your likings. For example, set the vertical scale to 1.00 V/div and set the offset to (precisely) 0.00 V (small coloured knob). \n",
    "    * Find the time scale knob. Set the time scale to for example 50 millisec/div. \n",
    "\n",
    "\n",
    "* Basic Triggering\n",
    "* Find the trig level knob. Adjust the trigger level to for example 0.50 V( this doesn't have to be precise).\n",
    "    * Verify that the scope is triggering on channel 1 by pressing “MODE / COUPLING”. If your scope doesn't have this button, check the triggering through \"Trig Menu\" and see what the source is set on.\n",
    "    * The menu item “Source” of the trigger menu should read “CH1.” \n",
    "\n",
    "\n",
    "> **<font color = 'blue'> Hint: </font>** Scope can be a little finicky when adjusting settings with a knob. Don't get discouraged!<br>\n"
   ]
  },
  {
   "cell_type": "markdown",
   "metadata": {},
   "source": [
    "## Cursors\n",
    "* You can use the cursor controls to move along the x and y axes. \n",
    "* In the menu CURSORS select mode MANUAL, source (CH1,CH2, but also FFT) and TYPE (voltage or time) to switch between horizontal and vertical cursors. \n",
    "\n",
    "## Measure\n",
    "* instead of the manual cursors, you can also use 'Measure' to automatically determine for example the Vpp or the frequency of a signal. "
   ]
  },
  {
   "cell_type": "markdown",
   "metadata": {},
   "source": [
    "## Triggering\n",
    "The trigger is a very useful function that allows us to control the way in which a signal is displayed by the oscilloscope. The trigger determines when the oscilloscope starts to acquire data and display a waveform. \n",
    "\n",
    "When a trigger is set up properly, it can convert unstable displays or blank screens into meaningful waveforms. The oscilloscope acquires data while waiting for the trigger condition to occur, which is the measured voltage crossing a set threshold. After a trigger is detected, the oscilloscope continues to acquire enough data to draw the waveform on the display.\n",
    "\n",
    "<img src=\"https://gitlab.tudelft.nl/mwdocter/nb2214-images/-/raw/main/ELC/ELC4a%20triggering.jpg\" width=50%></img>\n",
    "\n",
    "### connecting the function generator to the scope for triggering\n",
    "You will use the function generator to generate a signal (from the output), and the oscillscope to record this signal. The two devices are to be connected by two coax cable: besides the output, you will now also use the SYNC of the function generator (to either CH2 or EXT TRIG on the scope). \n",
    "The SYNC signal has the same frequency as the signal OUT, and is a block wave with minimum 0V and maximum 5V. \n",
    "\n",
    "### Default settings\n",
    "* Default: In the TRIGGER menu select MODE/SOURCE as EXT. \n",
    "* Default: Keep SWEEP as AUTO and COUPLING as DC. \n",
    "\n",
    "\n",
    "### MODE and SLOPE control\n",
    "* Make sure to trigger on the channel with an inupt signal (for example CH1)\n",
    "* The first option in the TRIGGER menu is MODE. Select the EDGE trigger. An edge trigger occurs when the signal passes through a specified voltage level with the specified slope. \n",
    "* The SLOPE control controls whether the scope starts measuring at the rising edge and the falling edge. \n",
    "\n",
    "### Trigger level\n",
    "* The LEVEL control determines the voltage point on the waveform where the trigger occurs. \n",
    "* As you move the LEVEL control, the level value will appear on the screen. \n",
    "* In general, it is recommended not to set the trigger at a very high level.  \n",
    "\n",
    "### EXT TRIG\n",
    "* if you know the trigger signal, you can connect it to the EXT TRIG input. \n",
    "* any signal at EXT TRIG is not being displayed, but can be used to trigger on. "
   ]
  },
  {
   "cell_type": "markdown",
   "metadata": {},
   "source": [
    "## Fourier Transform\n",
    "The Fourier transform states that a signal or waveform can be represented as a sum of sine waves. \n",
    "To observe this on the oscilloscope:\n",
    "* Visualize this signal in the frequency spectrum by using the FFT function of the Math key. \n",
    "* Select Display/Split for better visualization.\n",
    "* Select Scale ->Vrms\n",
    "* Make sure you see the full fourier transform - on the second page of the menu you can adjust the resolution\n",
    "* On the scope however you only see the positive frequency axis, so only one peak is shown for a recorded sine. \n",
    "\n",
    "\n"
   ]
  }
 ],
 "metadata": {
  "celltoolbar": "Create Assignment",
  "kernelspec": {
   "display_name": "Python 3",
   "language": "python",
   "name": "python3"
  },
  "language_info": {
   "codemirror_mode": {
    "name": "ipython",
    "version": 3
   },
   "file_extension": ".py",
   "mimetype": "text/x-python",
   "name": "python",
   "nbconvert_exporter": "python",
   "pygments_lexer": "ipython3",
   "version": "3.8.8"
  },
  "latex_envs": {
   "LaTeX_envs_menu_present": true,
   "autoclose": false,
   "autocomplete": true,
   "bibliofile": "biblio.bib",
   "cite_by": "apalike",
   "current_citInitial": 1,
   "eqLabelWithNumbers": true,
   "eqNumInitial": 1,
   "hotkeys": {
    "equation": "Ctrl-E",
    "itemize": "Ctrl-I"
   },
   "labels_anchors": false,
   "latex_user_defs": false,
   "report_style_numbering": false,
   "user_envs_cfg": false
  },
  "toc": {
   "base_numbering": 1,
   "nav_menu": {},
   "number_sections": true,
   "sideBar": true,
   "skip_h1_title": false,
   "title_cell": "Table of Contents",
   "title_sidebar": "Contents",
   "toc_cell": false,
   "toc_position": {},
   "toc_section_display": true,
   "toc_window_display": false
  }
 },
 "nbformat": 4,
 "nbformat_minor": 4
}
