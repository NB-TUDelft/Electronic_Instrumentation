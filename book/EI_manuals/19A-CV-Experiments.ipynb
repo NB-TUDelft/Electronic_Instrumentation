{
 "cells": [
  {
   "cell_type": "markdown",
   "id": "ed780d61-5fc2-4b5c-afdc-bfb043a0b9a2",
   "metadata": {},
   "source": [
    "<font size=\"5\"><b>For use with: <font color=\"green\" size=\"5\"><b>ipykernel</b></font>\n",
    "<details> \n",
    "<summary>\n",
    "Accessibility of this notebook  [Click to expand]\n",
    "</summary>\n",
    "    \n",
    ">- Adjust the width of the text with the function provided in the cell below. \n",
    ">- Toggle the auto-numbering of the sections in the outline toolbox (sidebar or topbar).\n",
    ">- Toggle the code line numbers in the dropdown menu of the \"view\" button in the topbar. \n",
    ">- Collapse/expand a cell by clicking the blue bar on the left side of the cell.\n",
    "\n",
    "</details>"
   ]
  },
  {
   "cell_type": "code",
   "execution_count": null,
   "id": "f90d8e62-216f-4864-a890-70640f6640ac",
   "metadata": {
    "jupyter": {
     "source_hidden": true
    },
    "tags": []
   },
   "outputs": [],
   "source": [
    "from IPython.core.display import HTML\n",
    "def set_width(width):\n",
    "    display(HTML(f\"\"\"<style>  \n",
    "            .container {{ width:{width}% !important; \n",
    "                            min-width:800px !important; margin: 0 auto}} \n",
    "            .jp-Cell {{ width:{width}% !important; \n",
    "                            min-width:800px !important; margin: 0 auto}} </style>\"\"\"))\n",
    "# Set container width to X%v of the fullscreen \n",
    "set_width(50)"
   ]
  },
  {
   "cell_type": "markdown",
   "id": "0e12f192-ce95-42cc-9709-709abb02ccdd",
   "metadata": {},
   "source": [
    "---\n",
    "## Voltammetry - Final Project\n",
    "\n",
    "## Goals - Overview\n",
    "\n",
    "- Week 17: Understand the design limitations and build a simple model of a potentiostat<br>\n",
    "- Week 18: Build the potentiostat and write code for voltammetric measurements <br>\n",
    "- **Week 19: Run voltammetric measurements with different techniques and samples <br>**\n",
    "\n",
    "## Experiments - Week 18</b></font>\n",
    "\n",
    "- **19A: CV - Experiments**\n",
    "- 19o: Optional - Experiments\n",
    "\n",
    "---"
   ]
  },
  {
   "cell_type": "markdown",
   "id": "33dbd831-6357-4dbd-9bba-8da9bdb6a779",
   "metadata": {},
   "source": [
    "# 19A - CV - Experiments\n",
    "\n",
    "Notebook 19A contains **instructions for mandatory experiments**\n",
    "\n",
    "### Goals\n",
    "   \n",
    "   > - Run Cyclic Voltammetry experiments on samples with Paracetamol and Aspirin\n",
    "   > - Evaluate your experiments\n",
    "\n",
    "### Structure\n",
    "\n",
    "   >1. Background <font color='red' size=\"3\"> <b>Preparation</b></font>\n",
    "   >2. Anticipate: <font color='green' size=\"3\"> <b>Classroom</b></font>, <font color='purple' size=\"3\"> <b>Recommended as Preparation!</b></font>\n",
    "   >4. Simulate: <font color='green' size=\"3\"> <b>Classroom</b></font>, <font color='purple' size=\"3\"> <b>Recommended as Preparation!</b></font>\n",
    "   >5. Implement and Investigate: <font color='green' size=\"3\"> <b>Classroom</b></font>\n",
    "\n",
    "\n",
    "### Requirements\n",
    "\n",
    ">1. ❗❗❗ = Mandatory\n",
    ">2. 🏆 = Entirely optional - It is interesting and leads to a deeper understanding. \n",
    ">3. 🏆🏆 = Optional. Recommended - It can be re-visited later. \n",
    ">4. 🏆🏆🏆 = Recommended - It is relevant now. \n",
    ">5. 🏆🏆🏆🐐 = Strongly recommended - It might be challenging, but it is surely worth the effort!\n",
    ">\n",
    "> Note: The number of trophies (🏆) indicates the level of recomendation for the optional tasks. It does not correlate with the level of difficulty. "
   ]
  },
  {
   "cell_type": "markdown",
   "id": "f9e33fbe-ca68-47e8-b291-a7ab33bb1b98",
   "metadata": {},
   "source": [
    "# ❗❗❗ Background\n",
    "\n",
    "## Phosphate-buffered Saline\n",
    "\n",
    "Phosphate-buffered Saline, PBS, and in this course colloquially - *the Buffer*, is widely used in biological and biochemical experiments to maintain a stable pH and osmotic balance, replicating the conditions in living organisms.\n",
    "\n",
    "\n",
    "\n",
    "<details><summary><font size=4></font>🧪<b>PBS solution - pH 7.4 - Ingredients</b></summary>\n",
    "\n",
    ">- **139 mM $ \\text{NaCl} $ (Sodium Chloride)** provides the ionic strength of the buffer, mimicking physiological conditions.\n",
    ">- **2.7 mM $ \\text{KCl} $ (Potassium Chloride)** adds potassium ions to the buffer, similar to what's found in biological systems.\n",
    ">- **10 mM $ \\text{Na}_2\\text{HPO}_4 $ (Disodium Hydrogen Phosphate)** is a buffering agent that helps maintain the pH at 7.4.\n",
    ">- **1.8 mM $ \\text{KH}_2\\text{PO}_4 $ (Monopotassium Dihydrogen Phosphate)** balances the pH along with $ \\text{Na}_2\\text{HPO}_4 $, ensuring the solution is stable and physiological.\n",
    ">- **in $ \\text{H}_2\\text{O} $ (Water)**\n",
    "\n",
    "</details><br>\n",
    "\n",
    "This solution is used for preparing samples provided for the measurements.\n",
    "\n",
    "## Samples\n",
    "\n",
    "We selected two common over-the-counter analgesics for your measurements.\n",
    "\n",
    "1. **Paracetamol - 0.5mg/ml in PBS**\n",
    "    > Samples with Paracetamol were prepared using a generic 500mg Paracetamol tablet purchased in Kruidvat. The concentration of 0.5 mg/ml in PBS was chosen for its optimal performance across a wide range of experimental parameters.\n",
    "2. **Aspirin - 2.5mg/ml in PBS**\n",
    "    > Samples with Aspirin were prepared using a generic 500mg Acetylsalicylzuur (acetylsalicylic acid) tablet purchased in Kruidvat. In this case, a concentration of  2.5mg/ml in PBS - close to the saturation level in aqueous solutions in normal conditions was chosen for the experiments.\n",
    "\n",
    "## 💡 Constructing waveforms using np.arange() and np.concatenate()\n",
    "\n",
    "We would like to propose yet another approach to generating a waveform for cyclic voltammetry with `np.arange()` and `np.concatenate()`. We believe that this approach is more intuitive than the ones proposed before, like the method using the `Triangle`, but feel free to use any technique that gives a correct waveform.\n",
    "\n",
    "Breaking down a CV measurement cycle into segments separated by *vertices* can simplify construction of custom waveforms.\n",
    "In a conventional, one-cycle, voltammetry measurement, the cell potential starts at `Ucell=0` (vertex0), and is swept to the highest positive cell potential `Umax` (vertex1). In the next phase, `Ucell` is swept to `Umin` (vertex2) - typically a negative value. In the last phase, the cell potential is brought back to zero (Vertex3), so this waveform consists of three segments. The choice for the vertices and for their order is dictated by the goals of the measurement, so if you decide to conduct advanced measurements, you might need to design a suitable waveform for each case. \n",
    "\n",
    "> In *Anticipate 2.2*, we listed some parameters for a recommended measurement of Paracetamol, where you will find a list of *vertices* for the first cycle. The optimal waveform for the measurement of Aspirin might be slightly different, but re-using the one recommended for Paracetamol is a good starting point.  \n",
    "\n",
    "In the proposed technique, `Ustep` is the control parameter. The NUM_SAMPLES is relaxed and derived from the resulting length of the waveform, e.g. `len(waveform)`. If your `Ustep>5mV`, you can safely work with upto 3 cycles without overloading the Pico, but it's still a good idea to print the length of your final waveform to confirm that it's not too long. \n",
    "\n",
    ">**Example for constructing a conventional waveform for Cyclic Voltammetry using np.arange() and np.concatenate()**\n",
    ">1. Each segment of the waveform can be generated using `np.arange()`, for example:\n",
    ">    - `segment1 = np.arange(vertex0, vertex1, step)` which takes the limiting values of that segment, e.g. `(0, Umax)` <br>and a suitable spacing `step = segment1[i+1]-segment[i]` between the values e.g. `step = Ustep`. Note that it's positive for sweeps going more positive, and negative for sweeps going more negative.\n",
    ">2. All segments can be combined into the waveform representing one complete cycle using `np.concatenate()`, for example;\n",
    ">    - `fullcycle = np.concatenate((segment1, segment2, ...))`\n",
    ">3. Similarly, for multiple cycles, the final waveform is a concatenation of the full cycles.\n",
    ">4. If the starting point of the measurement deviates from the starting point of the default cycle, which is the case for Paracetamol, a custom segment e.g. `prep = np.arange(Ubegin, 0, Ustep)` can be prepended to the full waveform, for example;\n",
    ">    - `customwaveform = np.concatenate((prep, waveform))`"
   ]
  },
  {
   "cell_type": "markdown",
   "id": "6e9f7bae-e3e4-4fc3-89fd-e8f40b980cb5",
   "metadata": {},
   "source": [
    "# ❗❗❗ Anticipate\n",
    "\n",
    "## A1. Limits of PBS for Voltammetry\n",
    "\n",
    "Based on your measurements of the Buffer in week 18, what is the *practical* cell potential window (`Umin` and `Umax`) for measurements of samples in the PBS solution? "
   ]
  },
  {
   "cell_type": "code",
   "execution_count": null,
   "id": "e352a05e-77e2-466d-8bec-e92aaa4b4cc8",
   "metadata": {},
   "outputs": [],
   "source": [
    "# Notes"
   ]
  },
  {
   "cell_type": "markdown",
   "id": "cd84a527-7548-4aa2-85c2-0202fe50442a",
   "metadata": {},
   "source": [
    "## A2. Establish the settings for the measurements\n",
    "\n",
    "### A2.1. Parameters for CV of Paracetamol 0.5mg/ml\n",
    "\n",
    "1. Consider our recommended settings for measuring Paracetamol with Cyclic Voltammetry.\n",
    "\n",
    "    >**Recommended settings**\n",
    "    >\n",
    "    >1. `Ucell` - vertices across the cycle.\n",
    "    >    1. `U0 = Ubegin = -0.2V` --> Start the sweep from slightly below the zero potential\n",
    "    >    2. `U1 = Umax = 1.4V` --> Sweep to the maximum positive cell potential \n",
    "    >    3. `U2 = Umin = -0.5V` --> Sweep from the maximum positive to the maximum negative cell potential \n",
    "    >    4. `U3 = Uend = 0V` ---> Sweep from the maximum negative cell potential to zero potential<br>\n",
    "    >    Note that only the first cycle starts from $U_{begin} \\neq 0$. The subsequent cycles continue where the preceding cycle ends, so in this case at `Ucell = 0`. <br>\n",
    "    >2. `Ustep = 5mV`\n",
    "    >3. `rate = 100mV/s`\n",
    "    >4. `Icell` - suggested minimum range of detection - the peak values are expected within the limits\n",
    "    >    1. `Icellmax = 150 uA` (expected upper limit)\n",
    "    >    2. `Icellmin = -50 uA` (expected lower limit)\n",
    "    >5. `Ncycles = 3` <br><br>\n",
    "    >\n",
    "    >This configuration will generate 2320 samples and take around 2 minutes. For testing, consider using *a faster* configuration with a higher `rate` or a larger `Ustep`. <br>\n",
    "    \n",
    "2. Set or derive the remaining parameters required to configure your potentiostat (some might be optional - depending on your design choices), for example:\n",
    "\n",
    "    >1. `DELAY_MS = ???` - derived from `rate` - a value for `sleep_ms()` between steps.\n",
    "    >2. `wait = ???` - equilibration time\n",
    "    >3. `Navg = ???`\n",
    "    >4. `Rf = ???`\n",
    "    >5. `C = ???`\n",
    "    >6. `gain = ???` - AMP0 (and/or AMP1) attenuation factor\n",
    "    >7. ... all other remaining design specific parameters"
   ]
  },
  {
   "cell_type": "code",
   "execution_count": null,
   "id": "201141ce-f920-4731-9bbc-08030bba41f8",
   "metadata": {},
   "outputs": [],
   "source": [
    "# Notes"
   ]
  },
  {
   "cell_type": "markdown",
   "id": "6f67d44f-602f-4109-affd-e75f59459692",
   "metadata": {},
   "source": [
    "### A2.2. Parameters for CV of Aspirin 2.5mg/ml\n",
    "\n",
    "1. Choose a set of parameters for measuring this sample for the first time, so without any prior knowledge of the optimal settings. You may return to this question after gaining some insights and intuition from the measurements with Paracetamol."
   ]
  },
  {
   "cell_type": "code",
   "execution_count": null,
   "id": "bab9d2e3-1d64-4e8b-872e-6eb2b5f2d63f",
   "metadata": {},
   "outputs": [],
   "source": [
    "# Notes"
   ]
  },
  {
   "cell_type": "markdown",
   "id": "ad838f42-2df2-4b5d-9b90-6e63f32fb240",
   "metadata": {},
   "source": [
    "## A3. Prepare waveforms\n",
    "\n",
    "1. Prepare waveforms for the measurements anticipated in *A2.1* and *A2.2*."
   ]
  },
  {
   "cell_type": "code",
   "execution_count": null,
   "id": "9c10ff1e-d7fe-4acf-ab45-438f065703fc",
   "metadata": {},
   "outputs": [],
   "source": [
    "# Notes"
   ]
  },
  {
   "cell_type": "markdown",
   "id": "c744aa41-f7c7-4d27-860c-29126f80e3f1",
   "metadata": {},
   "source": [
    "## A4. Reproducibility and efficient use of resources\n",
    "\n",
    "The screen-printed sensors used in our experiments are **single-use sensors**, so the measurement results are considered to be correct only during the first cycle(s) of your analysis. However, the measurements of *the Buffer* do not degrade the electrodes significantly, so they can be repeated multiple times for testing and recording a reference signal before performing the actual measurement of each sample.\n",
    "\n",
    "1. Plan your measurements with single-use sensors.\n",
    "\n",
    "<details><summary><font size=4>💡</font><b>Hint: Re-using sensors</b></summary>\n",
    "\n",
    "> In some scenarios, the electrodes with only *a few runs* can be restored to provide an *acceptable level* of accuracy for further testing by flushing them with warm water, running multiple cycles of Voltammetry with the Buffer across a wide cell potential range, and optionally, even gently cleaning them with a cellulose tissue. However, such treated electrodes aren't generally considered suitable for reproducible measurements, so if critical cases arise and your sensors have degraded, please request a new sensor. \n",
    "\n",
    "</details>"
   ]
  },
  {
   "cell_type": "code",
   "execution_count": null,
   "id": "628c49d1-175b-4624-b4ed-ad59f632eccd",
   "metadata": {},
   "outputs": [],
   "source": [
    "# Notes"
   ]
  },
  {
   "cell_type": "markdown",
   "id": "11d7e3ac-bce5-460b-b243-9e178e87e5d2",
   "metadata": {},
   "source": [
    "# ❗❗❗ Implement and Investigate\n",
    "\n",
    "\n",
    "<font size=4>💡 </font><b>Testing before the measurements</b>\n",
    "\n",
    "> Test your waveform and the chosen configuration using a sensor reserved for testing before performing an actual measurement of samples with a new sensor.<br>\n",
    ">\n",
    "> Before moving to a new sensor (which are sparse), do a test run with a used sensor and try with the buffer and then with the paracetamol. See whether you already observe an additional peak in the voltammogram of the used sensor. If it's not yet working, you can do more testing without ruining a new sensor. If your configuration is already correct, continue to I1, for the actual measurement. Proceed similarily in I2.\n",
    "  \n",
    "## I1. Cyclic Voltammetry - Paracetamol 0.5mg/ml\n",
    "\n",
    "- Record a Voltammogram of the Paracetamol 0.5mg/ml sample with a Cyclic Voltammetry. Acquire at least one full cycle that captures Paracetamol's signature peaks. Consider using the recommended parameters. Use only one single-use sensor for this sample.\n",
    "\n",
    "## I2. Cyclic Voltammetry - Aspirin 2.5mg/ml\n",
    "\n",
    "- Record a Voltammogram of the Aspirin 2.5mg/ml sample with a Cyclic Voltammetry. Acquire at least one full cycle that captures the signature of Aspirin. Consider using one sensor for the initial measurement with rough estimates of the parameters and finding a more optimal configuration, and another sensor for the measurement with optimised settings.\n"
   ]
  },
  {
   "cell_type": "code",
   "execution_count": null,
   "id": "065f9ea8-e1d1-45b8-a147-87486034fbe7",
   "metadata": {},
   "outputs": [],
   "source": [
    "# Notes"
   ]
  }
 ],
 "metadata": {
  "kernelspec": {
   "display_name": "Python 3",
   "language": "python",
   "name": "python3"
  },
  "language_info": {
   "codemirror_mode": {
    "name": "ipython",
    "version": 3
   },
   "file_extension": ".py",
   "mimetype": "text/x-python",
   "name": "python",
   "nbconvert_exporter": "python",
   "pygments_lexer": "ipython3",
   "version": "3.8.8"
  }
 },
 "nbformat": 4,
 "nbformat_minor": 5
}
