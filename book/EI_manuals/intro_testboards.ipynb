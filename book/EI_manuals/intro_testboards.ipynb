{
 "cells": [
  {
   "cell_type": "markdown",
   "metadata": {},
   "source": [
    "<div class=\"alert alert-block alert-info\">\n",
    "\n",
    "**Accessibility of the notebook:**\n",
    "- You can adjust the width of the text with the function provided below. Copy it into a new code cell and execute it using the `ipykernel`.\n",
    "    ```python\n",
    "    from IPython.core.display import HTML\n",
    "    def set_width(width):\n",
    "        display(HTML(f\"\"\"<style>  \n",
    "                .container {{ width:{width}% !important; \n",
    "                                min-width:800px !important; margin: 0 auto}} \n",
    "                .jp-Cell {{ width:{width}% !important; \n",
    "                                min-width:800px !important; margin: 0 auto}} </style>\"\"\"))\n",
    "    # Set container width to X% of the fullscreen \n",
    "    set_width(50)\n",
    "    ```\n",
    "- You can toggle the auto-numbering of the sections in the outline toolbox (sidebar or topbar).\n",
    "- You can toggle the code line numbers in the dropdown menu of the \"view\" button in the topbar. \n",
    "- You can collapse/expand a cell by clicking the blue bar on the left side of the cell.\n",
    "\n",
    "</div>  "
   ]
  },
  {
   "cell_type": "code",
   "execution_count": 1,
   "metadata": {},
   "outputs": [
    {
     "data": {
      "text/html": [
       "<style>  \n",
       "            .container { width:50% !important; \n",
       "                            min-width:800px !important; margin: 0 auto} \n",
       "            .jp-Cell { width:50% !important; \n",
       "                            min-width:800px !important; margin: 0 auto} </style>"
      ],
      "text/plain": [
       "<IPython.core.display.HTML object>"
      ]
     },
     "metadata": {},
     "output_type": "display_data"
    }
   ],
   "source": [
    "from IPython.core.display import HTML\n",
    "def set_width(width):\n",
    "    display(HTML(f\"\"\"<style>  \n",
    "            .container {{ width:{width}% !important; \n",
    "                            min-width:800px !important; margin: 0 auto}} \n",
    "            .jp-Cell {{ width:{width}% !important; \n",
    "                            min-width:800px !important; margin: 0 auto}} </style>\"\"\"))\n",
    "# Set container width to X% of the fullscreen \n",
    "set_width(50)"
   ]
  },
  {
   "cell_type": "markdown",
   "metadata": {},
   "source": [
    "# intro Testboards\n",
    "> <font color='blue'>Learning goal:</font> know how to use the testboards in the Studio Classroom practicum\n",
    "\n",
    "In the caddie (located next to each desk), you have a collection of testboards: \n",
    "- board 1: contains resistors, capacitors and and inductor.\n",
    "- board 2: contains a lightbulb and transistor.\n",
    "- board 3: contains more transistors, a voltage regulator and multiplexer\n",
    "- board 4: contains opamps, diodes, and resistor decades\n",
    "- board 5: contains a complex RLC filter\n",
    "- board 7: contains a complex transistor-opamp circuits\n",
    "- board 15: contains more transistor-opamp circuits\n",
    "\n",
    "In NB2214 mainly board 1 and 4 will be used. \n",
    "\n",
    "## movie of how to use Testboard 1\n",
    "Watch the following movie clips to get introduced to the test board.\n",
    "\n"
   ]
  },
  {
   "cell_type": "code",
   "execution_count": 2,
   "metadata": {},
   "outputs": [
    {
     "data": {
      "image/jpeg": "[encoded data removed]",
      "text/html": [
       "\n",
       "        <iframe\n",
       "            width=\"600\"\n",
       "            height=\"450\"\n",
       "            src=\"https://www.youtube.com/embed/LwQ_9zIQuX0\"\n",
       "            frameborder=\"0\"\n",
       "            allowfullscreen\n",
       "            \n",
       "        ></iframe>\n",
       "        "
      ],
      "text/plain": [
       "<IPython.lib.display.YouTubeVideo at 0x1cc48325f30>"
      ]
     },
     "execution_count": 2,
     "metadata": {},
     "output_type": "execute_result"
    }
   ],
   "source": [
    "## SCR-caddies&testboards, start the movie at 1:02\n",
    "\n",
    "from IPython.lib.display import YouTubeVideo\n",
    "YouTubeVideo('LwQ_9zIQuX0', width = 600, height = 450)"
   ]
  },
  {
   "attachments": {},
   "cell_type": "markdown",
   "metadata": {},
   "source": [
    "## Type & color of connectors\n",
    "\n",
    "In order to keep overview: \n",
    "- always connect black wires to ground (GND)\n",
    "- use colored cables, like red (sometimes blue) for the wires with a signal\n",
    "\n",
    "Mainly two types of cables and connectors are used: \n",
    "- Banana plugs, either 4mm or mini 2mm: These are one directional cables, not shielded. So you need a set of red signal and black ground wire to make an actual circuit.\n",
    "As seen from the figure below, you can often stack banana plugs on top of each other, which is especially usefull when connecting all black wires\n",
    "<img src=\"https://upload.wikimedia.org/wikipedia/commons/thumb/e/eb/4mm-plugs.png/330px-4mm-plugs.png\" width=20%></img>\n",
    "\n",
    "- shielded coax cables with BNC connectors: These are bi-directional cables, with an inner signal wire, and an outer shield connected to ground.\n",
    "<img src=\"https://upload.wikimedia.org/wikipedia/commons/thumb/b/b9/BNC_connector_50_ohm_male.jpg/500px-BNC_connector_50_ohm_male.jpg\" width=20%></img>\n",
    " \n",
    "\n",
    "\n",
    "\n"
   ]
  },
  {
   "cell_type": "markdown",
   "metadata": {},
   "source": [
    "## Connections on the board\n",
    "<img src=\"https://gitlab.tudelft.nl/mwdocter/nb2214-images/-/raw/main/ELC/ELC%20testboard1.jpg\" width=50%></img>\n",
    "\n",
    "The white wires drawn on the testboard are physical connections. In the above image J2 and U12 are connected, which allow connecting a 2 and 4 mm cable (with banana connector) on the board. \n",
    "\n",
    "## connecting a scope probe\n",
    "<img src=\"https://upload.wikimedia.org/wikipedia/commons/thumb/1/11/Test_probe.jpg/500px-Test_probe.jpg\" width=20%></img>\n",
    "\n",
    "Special care needs to be taken when connecting a scope probe. This probe has a hook for the signal, and a crocodile clip for ground connection. \n",
    "When directly attaching the clamp or hook to a component on the board (a resistor), the component's connection to the board gets easily damaged (which is unwanted!!).\n",
    "\n",
    "Therefore, it is far better to connect the hook or clamp to one side of a 2 mm cable, and stick the banana plug at the other side into the testboard. "
   ]
  },
  {
   "cell_type": "code",
   "execution_count": null,
   "metadata": {},
   "outputs": [],
   "source": []
  }
 ],
 "metadata": {
  "celltoolbar": "Create Assignment",
  "kernelspec": {
   "display_name": "Python 3 (ipykernel)",
   "language": "python",
   "name": "python3"
  },
  "language_info": {
   "codemirror_mode": {
    "name": "ipython",
    "version": 3
   },
   "file_extension": ".py",
   "mimetype": "text/x-python",
   "name": "python",
   "nbconvert_exporter": "python",
   "pygments_lexer": "ipython3",
   "version": "3.10.14"
  },
  "latex_envs": {
   "LaTeX_envs_menu_present": true,
   "autoclose": false,
   "autocomplete": true,
   "bibliofile": "biblio.bib",
   "cite_by": "apalike",
   "current_citInitial": 1,
   "eqLabelWithNumbers": true,
   "eqNumInitial": 1,
   "hotkeys": {
    "equation": "Ctrl-E",
    "itemize": "Ctrl-I"
   },
   "labels_anchors": false,
   "latex_user_defs": false,
   "report_style_numbering": false,
   "user_envs_cfg": false
  },
  "toc": {
   "base_numbering": 1,
   "nav_menu": {},
   "number_sections": true,
   "sideBar": true,
   "skip_h1_title": false,
   "title_cell": "Table of Contents",
   "title_sidebar": "Contents",
   "toc_cell": false,
   "toc_position": {},
   "toc_section_display": true,
   "toc_window_display": false
  }
 },
 "nbformat": 4,
 "nbformat_minor": 4
}
