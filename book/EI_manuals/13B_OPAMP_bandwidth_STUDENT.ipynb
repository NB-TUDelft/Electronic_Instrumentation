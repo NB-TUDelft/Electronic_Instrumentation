{
 "cells": [
  {
   "cell_type": "markdown",
   "id": "b68d51af",
   "metadata": {},
   "source": [
    "<div class=\"alert alert-block alert-info\">\n",
    "\n",
    "**Accessibility of the notebook:**\n",
    "- You can adjust the width of the text with the function provided below. Copy it into a new code cell and execute it using the `ipykernel`.\n",
    "    ```python\n",
    "    from IPython.core.display import HTML\n",
    "    def set_width(width):\n",
    "        display(HTML(f\"\"\"<style>  \n",
    "                .container {{ width:{width}% !important; \n",
    "                                min-width:800px !important; margin: 0 auto}} \n",
    "                .jp-Cell {{ width:{width}% !important; \n",
    "                                min-width:800px !important; margin: 0 auto}} </style>\"\"\"))\n",
    "    # Set container width to X% of the fullscreen \n",
    "    set_width(50)\n",
    "    ```\n",
    "- You can toggle the auto-numbering of the sections in the outline toolbox (sidebar or topbar).\n",
    "- You can toggle the code line numbers in the dropdown menu of the \"view\" button in the topbar. \n",
    "- You can collapse/expand a cell by clicking the blue bar on the left side of the cell.\n",
    "\n",
    "</div>"
   ]
  },
  {
   "cell_type": "code",
   "execution_count": null,
   "id": "a4241940",
   "metadata": {},
   "outputs": [],
   "source": [
    "from IPython.core.display import HTML\n",
    "def set_width(width):\n",
    "    display(HTML(f\"\"\"<style>  \n",
    "            .container {{ width:{width}% !important; \n",
    "                            min-width:800px !important; margin: 0 auto}} \n",
    "            .jp-Cell {{ width:{width}% !important; \n",
    "                            min-width:800px !important; margin: 0 auto}} </style>\"\"\"))\n",
    "# Set container width to X% of the fullscreen \n",
    "set_width(50)"
   ]
  },
  {
   "cell_type": "markdown",
   "id": "505398fb",
   "metadata": {},
   "source": [
    "Experiments of this week:\n",
    "- Experiment 13A: observe the imperfections of a real life op-amp like bias and offset.\n",
    "- Experiment 13B: observe the properties of an op-amp like GB product and slew rate.\n",
    "- Experiment 13C: observe the behaviour of integrator and differentiator circuits.\n",
    "\n",
    "Goal: Learn how op-amps are used in real life applications and what are their real life limitations. \n",
    "\n",
    "Structure of an experiment:\n",
    "- Background + Predict + Stimulate (40): This is homework and should be finished **before** you start your 4 hours practicum session. (To be done individually)\n",
    "- Build + Measure (55): with your partner(group of 2)\n",
    "- Evaluate (10): with a group of 4 (per table)"
   ]
  },
  {
   "cell_type": "markdown",
   "id": "31728203",
   "metadata": {},
   "source": [
    "# 13B: Gain-bandwidth product "
   ]
  },
  {
   "cell_type": "markdown",
   "id": "2b6795d5",
   "metadata": {},
   "source": [
    "> <font color='blue'>Learning goal:</font> understand how properties of an op-amp like GB product and slew rate might affect the measurements. Make a circuit to experimentally observe them."
   ]
  },
  {
   "cell_type": "markdown",
   "id": "086537a0-2c6b-41c3-acfa-c02cfa64e7ba",
   "metadata": {},
   "source": [
    "## BACKGROUND Gain-Bandwidth product and slew rate of OPAMPs\n",
    "> <font color='grey'>⏳ Estimated time: 10 min</font>\n",
    "\n",
    "#### non-ideal OPAMP\n",
    "An ideal OPAMP would have an infinite gain, based on the feedback theory, this would give us ideal amplifiers with infinite bandwidth. In real life the gain of an OPAMP is extremely high (>100dB), but not infinite, and even worse it drops with increasing frequency.  <br>\n",
    "\n",
    "The gain at DC is referred to as **Ao**. This very high gain is valid from DC to a specific frequency of the amplifier, the bandwidth. After this **“bandwidth-frequency”** the gain of the amplifier starts to drop with 20dB/decade, similar to a first order low-pass filter (e.g. like a RC-filter). \n",
    "The gain will continue to drop, at a certain moment the gain of the OPAMP itself will be equal to 1x (0dB), this frequency is called the **unity-gain** frequency. The product of the bandwidth-frequency and Ao gives us a number. This number is expressed in “Hz”. The frequency we get from this multiplication corresponds to the unity-gain frequency. When further investigating on this, one could find that the product of the gain and the bandwidth of the amplifier is a constant. This constant is referred to as the **Gain-Bandwidth product**, or GB-product in short. In this experiment we will “prove” that the product of the gain and the bandwidth is a constant. \n",
    "\n",
    "$$ \\mathrm{gain} \\cdot \\mathrm{bandwidth} = \\mathrm{constant} = \\mathrm{GB} $$\n",
    "\n",
    "#### bandwidth of active networks\n",
    "Up till now we were used to measure the bandwidth of passive networks. As a result of this the maximum gain was always 1x (0dB). The cut-off frequency was always found at the -3dB point, which corresponded to a transfer of 0.71x (square root of 0.5). \n",
    "\n",
    "Now we are looking at the bandwidth of amplifiers with a gain (usually) bigger then 1x (0dB). The voltage gain of such an amplifier could be e.g. 10x which equals 20dB. The bandwidth of such an amplifier is specified as the frequency where the gain of the amplifier has dropped by -3dB. \n",
    "\n",
    "The resulting gain of the amplifier is then 20dB – 3dB = 17dB, which corresponds to a factor of 7.1x. So, in order to determine the bandwidth of such an amplifier, we need to find the point where the gain is 7.1x instead of 0.71x. Another example, when the gain is 26dB, thus 20x, we need to find the point where the gain is 26dB – 3dB = 23dB, thus 14.1x.\n",
    "\n",
    "<img src=\"https://gitlab.tudelft.nl/mwdocter/nb2214-images/-/raw/main/ELC/13B_gain_bandwidth.jpg\" width=\"500px\"></img>\n",
    "\n",
    "#### slew rate\n",
    "Another parameter which will influence the performance of our amplifier is the slew-rate. The slew-rate of an amplifier can influence the performance of an amplifier such that it looks like a bandwidth limitation, however the underlying principle is different. Slew rate has to do with **limitation in speed** at which the output voltage of the OPAMP can change. Thus the slew-rate indicates the voltage change of the output per unit of time, in general it is expressed in Volts per microsecond (V/us). This maximum speed of change is a characteristic of the OPAMP and it is constant (does not depend on frequency!). \n",
    "\n",
    "The effect of the slew-rate is indicated in the picture below. The input signal (Ui) here is a square wave, the output signal shown is supposed to be a square wave as well. However, due to the finite speed at which the output can change it will be a trapezium-shaped waveform at medium frequencies and becomes a triangle at high frequencies.\n",
    "\n",
    "<img src=\"https://gitlab.tudelft.nl/mwdocter/nb2214-images/-/raw/main/ELC/13B_slew_rate.jpg\" width=\"500px\"></img>\n",
    "\n",
    "A common mistake is that people only look at the peak-to-peak values of a signal when measuring the gain. They neglect the distorted waveform, this will lead to a confusion between gain limitation due to the bandwidth or due to the slew rate.\n",
    "\n",
    "When repeating the measurement with lower amplitude signals gives you different results for the bandwidth, it might be that you are “fooled” by the slew rate . A final note on slew rate, some OPAMPs have an extremely high slew rate (e.g. 100V/us), others have a fairly low slew rate (e.g. 0.5V/us). So where slew rate can be a limiting factor with one type of OPAMP, and is of no limitation with another OPAMP."
   ]
  },
  {
   "cell_type": "markdown",
   "id": "9f50b3e9",
   "metadata": {},
   "source": [
    "## ANTICIPATE: signals used to experimentally measure bandwidth and slew\n",
    "> <font color='grey'>⏳ Estimated time: 15 min</font>\n",
    "\n",
    "Using certain input signals you can easly observe bandwidth and slew rate on the output.\n",
    "\n",
    "\n",
    "* Explain how to measure the bandwidth experimentally. Include which input signal to use and how to interpret the results.\n",
    "* Explain how to measure the slew rate. Again, include which input signal to use and how to interpret the results."
   ]
  },
  {
   "cell_type": "code",
   "execution_count": null,
   "id": "dc04dd1c",
   "metadata": {},
   "outputs": [],
   "source": [
    "### TO DO=\"your proposed measurement for bandwidth and slew rate\"\n"
   ]
  },
  {
   "cell_type": "markdown",
   "id": "a2103a53",
   "metadata": {},
   "source": [
    "## SIMULATE: \n",
    "> <font color='grey'>⏳ Estimated time: 15 min</font>\n",
    "\n",
    "Download the circuit named 'week13B' from Brightspace from LTSpice resources. Pick the correct simulation settings yourself!!\n",
    "\n",
    "\n",
    "\n",
    "\n",
    "\n",
    "- Determine the gain-bandwidth product."
   ]
  },
  {
   "cell_type": "code",
   "execution_count": 3,
   "id": "da2a7a76",
   "metadata": {},
   "outputs": [],
   "source": [
    "### TO DO=\"your found gain-bandwidth product\"\n",
    "\n",
    "\n"
   ]
  },
  {
   "cell_type": "markdown",
   "id": "4254bc9b-8f78-4b08-8452-e6a68729f0e3",
   "metadata": {},
   "source": [
    "> **<font color = 'blue'> Hints: </font>** <br>\n",
    "> * Make sure the circuit is built correctly\n",
    "> * Check whether you are measuring at the correct spots."
   ]
  },
  {
   "cell_type": "code",
   "execution_count": 1,
   "id": "8ec35d79-ab7b-4c3c-8ff4-fd6c6c21fd5b",
   "metadata": {},
   "outputs": [
    {
     "data": {
      "image/jpeg": "[encoded data removed]",
      "text/html": [
       "\n",
       "        <iframe\n",
       "            width=\"600\"\n",
       "            height=\"450\"\n",
       "            src=\"https://www.youtube.com/embed/MSqN1yLn9ko\"\n",
       "            frameborder=\"0\"\n",
       "            allowfullscreen\n",
       "            \n",
       "        ></iframe>\n",
       "        "
      ],
      "text/plain": [
       "<IPython.lib.display.YouTubeVideo at 0x1230ab7bc40>"
      ]
     },
     "execution_count": 1,
     "metadata": {},
     "output_type": "execute_result"
    }
   ],
   "source": [
    "### precap to be updated\n",
    "from IPython.lib.display import YouTubeVideo\n",
    "YouTubeVideo('MSqN1yLn9ko', width = 600, height = 450)"
   ]
  },
  {
   "cell_type": "markdown",
   "id": "d23d1f57",
   "metadata": {},
   "source": [
    "## IMPLEMENT & INVESTIGATE 1: gain-bandwidth product calculations\n",
    "> <font color='grey'>⏳ Estimated time: 30 min</font>\n",
    "\n",
    "You will need:\n",
    "* testboard 4\n",
    "* oscilloscope\n",
    "* function generator\n",
    "* all necessary cables\n",
    "* testboard 4 scheme (to know where different resistors are located) - you can find this on Brightspace: *`Resources` > `Studio Classroom Resources` > `Test Boards`*\n",
    "\n",
    "Build the circuit given below and connect the function generator to the input. Use 1Vpp amplitude (to avoid already looking at the slew rate). Connect the oscilloscope to display both the input signal and the output-signal of the amplifier.\n",
    "<center><img src=\"https://gitlab.tudelft.nl/mwdocter/nb2214-images/-/raw/main/ELC/ELC11-1.jpg\" width=\"1000px\"></img></center>\n",
    "\n",
    "Using an appropriate input signal(that you predicted in ANTICIPATE):\n",
    "\n",
    "* Determine (measure and calculate) the gain for each combination of resistors as shown in the table below.\n",
    "* For first row, make sure to pick an input amplitude that does not distort the output signal.\n",
    "* Measure the bandwidth of the amplifier for each gain. \n",
    "* Calculate the GB-product.\n",
    "<br>\n",
    "<br>\n",
    "Note: if you see attenuation instead of amplification, your setup is wrong!\n"
   ]
  },
  {
   "cell_type": "markdown",
   "id": "f2ec1564",
   "metadata": {},
   "source": [
    "Ra |Rb |Gain (calculated) |Bandwidth (measured) |GB-product |\n",
    "-----|-----|-----|-----|-----|\n",
    "1kOhm|1kOhm|?|?|?\n",
    "1kOhm|10kOhm|?|?|?\n",
    "1kOhm|100kOhm|?|?|?\n",
    "1kOhm|1MegOhm|?|?|?"
   ]
  },
  {
   "cell_type": "markdown",
   "id": "91a57c1b",
   "metadata": {},
   "source": [
    "\n",
    "- Edit the table above with your answers. Double click to access it. \n",
    "- Do you notice any patterns?\n",
    "- Is it what you expected?"
   ]
  },
  {
   "cell_type": "code",
   "execution_count": null,
   "id": "1cabd83b",
   "metadata": {},
   "outputs": [],
   "source": [
    "### TO DO=\"conclusion based on the data on the GB product\"\n"
   ]
  },
  {
   "cell_type": "markdown",
   "id": "b8e1ec36-3ca9-4928-9a40-c12a4d9c88f7",
   "metadata": {},
   "source": [
    "> **<font color = 'blue'> Hints: </font>** <br>\n",
    "> * Remember that the bandwidth is the frequency at which the gain drops with 3 dB\n",
    "> * Make sure the output signal does not clip. The easiest way to do so is to reduce the Vpp of the input signal.\n",
    "> * You can use the absolute gain, $|\\mathrm{gain}|$, here."
   ]
  },
  {
   "cell_type": "markdown",
   "id": "78734958",
   "metadata": {},
   "source": [
    "## IMPLEMENT & INVESTIGATE 2: observe slew rate\n",
    "> <font color='grey'>⏳ Estimated time: 20 min</font>\n",
    "\n",
    "Using the same LM741 op-amp, choose the proper resistors for a gain of 20 dB (gain=-10). Connect the function generator to the amplifier input and the output to the oscilloscope. Set the generator for a 1 Vpp square wave with, frequency 1 kHz and a duty-cycle of 50%.\n",
    "\n",
    "The slew rate will be visible as a steadily rising or falling output signal, while the input is a square wave with sharp edges.\n",
    "\n",
    "\n",
    "- Determine the slope of the rising and falling edge.\n",
    "\n",
    "> <font color='red'> optional challenge: 20 min</font>\n",
    "> the slew rate limits the 'bandwidth'. Increase the frequency of the generator, and observe how (and at which frequency) the slew rate limits the bandwidth.  "
   ]
  },
  {
   "cell_type": "code",
   "execution_count": null,
   "id": "68333661",
   "metadata": {},
   "outputs": [],
   "source": [
    "### TO DO=\"your value for the slew rate\"\n"
   ]
  },
  {
   "cell_type": "markdown",
   "id": "60c97649",
   "metadata": {},
   "source": [
    "## IMPLEMENT & INVESTIGATE 3: validate your results\n",
    "> <font color='grey'>⏳ Estimated time: 5 min</font>\n",
    "\n",
    "\n",
    "\n",
    "- Reflect whether your measurement value for the GB-product is in agreement with the value in the data sheet of the LM741 (https://www.ti.com/product/LM741, look for bandwidth/GBW). If not, what might be the cause? \n",
    "- Is your measurement for the slew rate is in agreement with the value in the datasheet. If not, what might be the cause?\n"
   ]
  },
  {
   "cell_type": "code",
   "execution_count": null,
   "id": "1424b401",
   "metadata": {},
   "outputs": [],
   "source": [
    "### TO DO=\"comparison measurements with GB specs\"\n"
   ]
  },
  {
   "cell_type": "markdown",
   "id": "5142e13a",
   "metadata": {},
   "source": [
    "## COMPARE & CONCLUDE\n",
    "> <font color='grey'>⏳ Estimated time: 10 min</font>\n",
    "\n",
    "\n",
    "* Wait till all (4) group members finish their observation\n",
    "* Compare your results with your other group members. \n",
    "* If your results agree, and are in line with all predictions, then talk to a TA and get checked off\n",
    "* Otherwise, so if your results do not agree, or your results are not in line with your predictions, then first discuss amongst your group before getting a TA. \n",
    "\n",
    "**to be checked off by a TA:**\n",
    "1. What GB product and slew rate did you find?\n",
    "2. Explain in your own words how these values limit your op-amp performance?\n",
    "3. exit card: 1. Write a brief abstract on what you learned (conclusion, useful graph), 2. Which troubleshooting skills do you want to remember for next sessions, 3. Which code do you copy for use in next sessions,\n",
    "4. How do think this notebook could be improved"
   ]
  },
  {
   "cell_type": "code",
   "execution_count": null,
   "id": "89624cb8",
   "metadata": {},
   "outputs": [],
   "source": [
    "#13B opamp bandwidth\n",
    "### TO DO =\" 1.your GB product and slew rate\"\n",
    "\n",
    "### TO DO =\" 2. explain how the GB product and slew rate limit the op-amp's performance\"\n",
    "\n",
    "### TO DO=\"3a. abstract\"\n",
    "\n",
    "### TO DO=\"3b. troubleshooting\"\n",
    "\n",
    "### TO DO=\"3c. code\"\n",
    "\n",
    "### TO DO=\"4. what changes would you suggest?\"\n",
    "\n",
    "\n"
   ]
  },
  {
   "cell_type": "code",
   "execution_count": null,
   "id": "a5330c99-065e-4ef8-b6c1-c96a1ac4750e",
   "metadata": {},
   "outputs": [],
   "source": [
    "# recording\n",
    "from IPython.lib.display import YouTubeVideo\n",
    "YouTubeVideo('Q2QpqJ9KvzA', width = 600, height = 450)"
   ]
  }
 ],
 "metadata": {
  "kernelspec": {
   "display_name": "Python 3",
   "language": "python",
   "name": "python3"
  },
  "language_info": {
   "codemirror_mode": {
    "name": "ipython",
    "version": 3
   },
   "file_extension": ".py",
   "mimetype": "text/x-python",
   "name": "python",
   "nbconvert_exporter": "python",
   "pygments_lexer": "ipython3",
   "version": "3.8.8"
  }
 },
 "nbformat": 4,
 "nbformat_minor": 5
}
