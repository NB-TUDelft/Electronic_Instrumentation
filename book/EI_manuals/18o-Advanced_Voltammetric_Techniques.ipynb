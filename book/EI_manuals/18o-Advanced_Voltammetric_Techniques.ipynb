{
 "cells": [
  {
   "cell_type": "markdown",
   "id": "ba4715a4-28eb-40c4-bce4-a0ae4667ce4d",
   "metadata": {},
   "source": [
    "<b>For use with: <font color=\"green\" ><b>ipykernel</b></font>\n",
    "<br>\n",
    "Accessibility of this notebook  [Click to expand]\n",
    "\n",
    "    \n",
    ">- Adjust the width of the text with the function provided in the cell below. \n",
    ">- Toggle the auto-numbering of the sections in the outline toolbox (sidebar or topbar).\n",
    ">- Toggle the code line numbers in the dropdown menu of the \"view\" button in the topbar. \n",
    ">- Collapse/expand a cell by clicking the blue bar on the left side of the cell.\n",
    "\n"
   ]
  },
  {
   "cell_type": "code",
   "execution_count": null,
   "id": "14996369-3cdb-437b-a140-30b0cfde5172",
   "metadata": {
    "jupyter": {
     "source_hidden": true
    },
    "tags": []
   },
   "outputs": [],
   "source": [
    "python\n",
    "from IPython.core.display import HTML\n",
    "def set_width(width):\n",
    "    display(HTML(f\"\"\"<style>  \n",
    "            .container {{ width:{width}% !important; \n",
    "                            min-width:800px !important; margin: 0 auto}} \n",
    "            .jp-Cell {{ width:{width}% !important; \n",
    "                            min-width:800px !important; margin: 0 auto}} </style>\"\"\"))\n",
    "# Set container width to X%v of the fullscreen \n",
    "set_width(50)"
   ]
  },
  {
   "cell_type": "markdown",
   "id": "52030cab-93d1-4b8a-8547-9669d448946b",
   "metadata": {},
   "source": [
    "**Voltammetry - Final Project**\n",
    "\n",
    "## Goals - Overview\n",
    "\n",
    "- Week 17: Understand the design limitations and build a simple model of a potentiostat<br>\n",
    "- **Week 18: Build the potentiostat and write code for voltammetric measurements <br>**\n",
    "- Week 19: Run voltammetric measurements with different techniques and samples <br>\n",
    "\n",
    "## Experiments - Week 18</b></font>\n",
    "\n",
    "- ❗❗❗ 18A: Cyclic Voltammetry - Part 1 - Data Acquisition\n",
    "- ❗❗❗ 18B: Cyclic Voltammetry - Part 2 - Data Evaluation\n",
    "- 🏆🏆🏆🐐 **18o: Advanced Voltammetric Techniques**\n"
   ]
  },
  {
   "cell_type": "markdown",
   "id": "b89c682d-f05d-4873-95c4-3593f388a8d8",
   "metadata": {},
   "source": [
    "# 18o - Advanced Voltammetric Techniques \n",
    "\n",
    "## Introduction\n",
    "\n",
    "The field of voltammetry has evolved over decades, and the advancements of computer-controlled systems introduced more complex waveforms than a simple linear point-wise voltage sweep. \n",
    "Pulsed Voltammetry, and particularly, Squarewave Voltammetry and Differential Pulse Voltammetry offer distinct advantages and improved resolving ability over the conventional sweep-based techniques. Let's not forget, however, that Cyclic Voltammetry, especially when highly customisable, delivers unique insights into reversibility of chemical reactions. \n",
    "\n",
    "With this notebook, we would like to invite you to advance your final project and add new features to your potentiostat by implementing some advanced voltammetric techniques. Feel free to pick your own direction, and implement a technique of your choice. You may also choose the recommended options presented here.\n",
    "\n",
    "### Goals\n",
    "   \n",
    "   > Learn about advanced voltammetric techniques\n",
    "   > Implement a chosen advanced voltammetric procedure on Alpaca with Pico Pi \n",
    "\n",
    "### Structure\n",
    "\n",
    "   >1. Background <font color='green' size=\"3\"> <b>Classroom</b></font>\n",
    "   >2. Anticipate: <font color='green' size=\"3\"> <b>Classroom</b></font>, <font color='purple' size=\"3\"> <b>also recommended as Preparation for Week 19!</b></font>\n",
    "   >4. Simulate: <font color='green' size=\"3\"> <b>Classroom</b></font>, <font color='purple' size=\"3\"> <b>also recommended as Preparation for Week 19!</b></font>\n",
    "   >5. Implement and Investigate: <font color='green' size=\"3\"> <b>Classroom</b></font>, <font color='purple' size=\"3\"> <b>also recommended as Preparation for Week 19!</b></font>\n",
    "   >6. Discuss and Conclude: <font color='green' size=\"3\"> <b>Classroom - Week 18 or 19</b></font>\n",
    "\n",
    "### Requirements\n",
    "\n",
    "   >1. ❗❗❗ = Mandatory\n",
    "   >2. 🏆 = Entirely optional - It is interesting and leads to a deeper understanding. \n",
    "   >3. 🏆🏆 = Optional. Recommended - It can be re-visited later. \n",
    "   >4. 🏆🏆🏆 = Recommended - It is relevant now. \n",
    "   >5. 🏆🏆🏆🐐 = Strongly recommended - It might be challenging, but it is surely worth the effort!\n",
    "   >\n",
    "   > Note: The number of trophies (🏆) indicates the level of recomendation for the optional tasks. It does not correlate with the level of difficulty. "
   ]
  },
  {
   "cell_type": "markdown",
   "id": "0979e5a9-9ad9-42fe-b723-10893b0d33b7",
   "metadata": {},
   "source": [
    "# 🏆🏆🏆🐐 Background\n",
    "\n",
    "The links and materials in this section serve as a starting point for learning more about the mentioned techniques.\n",
    "\n",
    "## (Advanced) Cyclic Voltammetry\n",
    "\n",
    "Recall the list of suggested (optional) parameters for configuration of your potentiostat in notebook 18A. Some of the optional functions listed there enable functionality comparable to commercial analytical devices. \n",
    "\n",
    "Further information and inspiration can be found e.g. here: [Pine Research: Cyclic Voltammetry (CV)](https://pineresearch.com/shop/kb/software/methods-and-techniques/voltammetric-methods/cyclic-voltammetry-cv/)"
   ]
  },
  {
   "cell_type": "markdown",
   "id": "0d3199a1-63a1-47b7-acbd-d446450406b0",
   "metadata": {},
   "source": [
    "## Squarewave Voltammetry\n",
    "\n",
    "Another commonly used technique is Squarewave Voltammetry. In this method, the linear sweep is superposed with a waveform characterized by symmetric pulses, resembling a squarewave. This approach suppresses the capacitive effects building up during a simple linear sweep that are common in Cyclic Voltammetry\n",
    "\n",
    "More information about configuring Squarewave procedure can be found e.g. here: [Pine Research: Squarewave Voltammetry (SWV)](https://pineresearch.com/shop/kb/software/methods-and-techniques/voltammetric-methods/square-wave-voltammetry/)\n",
    "\n",
    "Similiarly, you may find a screenshot from yet another commercial device by *PalmSens* as a reference for the list of parameters.\n",
    "\n",
    "<div style=\"text-align: center\">\n",
    "<img src=\"https://gitlab.tudelft.nl/mwdocter/nb2214-images/-/raw/main/voltammetry/settings_data_square_wave_voltammetry.jpg\" width=800></img><br>\n",
    "    <em>Screenshot: Squarewave Voltammetry with a PalmSens device</em>\n",
    "</div><br>"
   ]
  },
  {
   "cell_type": "markdown",
   "id": "a5ab6bff-dfb2-4dc0-a855-9533bbdab7e1",
   "metadata": {},
   "source": [
    "## Differential Pulse Voltammetry\n",
    "\n",
    "In this method, the linear sweep is modified into a waveform characterized by small pulses, typically around 100mV. Techniques with intricate waveforms often result in enhanced measurement resolution.\n",
    "\n",
    "More information can be found e.g. here: [Pine Research: Differential Pulse Voltammetry (DPV)](https://pineresearch.com/shop/kb/software/methods-andtechniques/voltammetric-methods/differential-pulse-voltammetry-dpv/)."
   ]
  },
  {
   "cell_type": "markdown",
   "id": "d9b3fd05-5b25-4701-b94c-63784f0218e2",
   "metadata": {},
   "source": [
    "# 🏆🏆🏆🐐 Anticipate\n",
    "\n",
    "## A1. Choose the right technique for the measurement\n",
    "\n",
    "Prepare a short list or table with a comparison between the proposed procedures that could help you match the technique (and perhaps the parameters too) with the goal of your measurement."
   ]
  },
  {
   "cell_type": "markdown",
   "id": "ee7e66c2-84a7-445c-b3cf-d8d701355173",
   "metadata": {},
   "source": [
    "# 🏆🏆🏆🐐 Simulate\n",
    "\n",
    "## S1. Custom potentiostat models for testing\n",
    "\n",
    "Having a test model for the development phase can significantly speed up the process. In the previous notebooks, you already encountered the Measurement Cell Model 1 and 2, which you could use for testing your potentiostat and your code. In our experience, a increased complexity of the SWV and DPV procedures may lead to unnoticed bugs in the code that lead to hidden evaluation errors. It turns out that mentioned models might fail to test some aspects of SWV and DPV, like for example whether the forward current and reverse current are associated with the correct cell voltage. Coming up with an accurate test scenario for these procedures might be very difficult, and it certainly requires some creativity. Nevertheless, we would like to invite you to give it a try to come up with some ideas for a suitable test model or a test procedure."
   ]
  },
  {
   "cell_type": "markdown",
   "id": "242214a6-ec75-4613-9b7d-0f8a5cea95d9",
   "metadata": {},
   "source": [
    "# 🏆🏆🏆🐐 Implement and Investigate\n",
    "\n",
    "## I1. Advanced Voltammetric Techniques\n",
    "\n",
    "Implement a chosen advanced voltammetric technique(s) in your potentiostat."
   ]
  },
  {
   "cell_type": "markdown",
   "id": "83008833-b442-415a-86fb-c48836c1b6fc",
   "metadata": {},
   "source": [
    "# 🏆🏆🏆🐐 Discuss and Conclude\n",
    "\n",
    "This is an optional assignment. However, if you choose to advance your project in this direction,\n",
    "do reach out to the TAs for a short discussion about your choices and plans for implementation.\n",
    "\n",
    "**To be checked off by a TA:** \n",
    "\n",
    "1. Summarise your goals and present your approach for the implementation. "
   ]
  }
 ],
 "metadata": {
  "kernelspec": {
   "display_name": "Python 3",
   "language": "python",
   "name": "python3"
  },
  "language_info": {
   "codemirror_mode": {
    "name": "ipython",
    "version": 3
   },
   "file_extension": ".py",
   "mimetype": "text/x-python",
   "name": "python",
   "nbconvert_exporter": "python",
   "pygments_lexer": "ipython3",
   "version": "3.8.8"
  }
 },
 "nbformat": 4,
 "nbformat_minor": 5
}
