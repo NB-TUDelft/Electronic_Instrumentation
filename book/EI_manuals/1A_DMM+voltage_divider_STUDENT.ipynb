{
 "cells": [
  {
   "cell_type": "code",
   "execution_count": 1,
   "metadata": {},
   "outputs": [
    {
     "data": {
      "text/html": [
       "<style>  \n",
       "            .container { width:50% !important; \n",
       "                            min-width:800px !important; margin: 0 auto} \n",
       "            .jp-Cell { width:50% !important; \n",
       "                            min-width:800px !important; margin: 0 auto} </style>"
      ],
      "text/plain": [
       "<IPython.core.display.HTML object>"
      ]
     },
     "metadata": {},
     "output_type": "display_data"
    }
   ],
   "source": [
    "from IPython.core.display import HTML\n",
    "def set_width(width):\n",
    "    display(HTML(f\"\"\"<style>  \n",
    "            .container {{ width:{width}% !important; \n",
    "                            min-width:800px !important; margin: 0 auto}} \n",
    "            .jp-Cell {{ width:{width}% !important; \n",
    "                            min-width:800px !important; margin: 0 auto}} </style>\"\"\"))\n",
    "# Set container width to X% of the fullscreen \n",
    "set_width(50)"
   ]
  },
  {
   "cell_type": "markdown",
   "metadata": {},
   "source": [
    "# 1A: Digital multimeter + voltage divider\n",
    "> <font color='blue'>Learning goal:</font> understand how to use the DMM, how it behaves as part of a (voltage divider) circuit, and what its limitations are.\n",
    "\n",
    "In each assignment the estimated time you will spend per part is given. If you spend much more time than that, it is a clear sign to ask for help sooner. \n",
    "\n",
    "**Structure + Timing of this experiment**: \n",
    "- 30 (10+10+10+0) min Background+Anticipate+Simulate  : per person. This is homework: finish it before the 4 hours practicum session\n",
    "- 55 (10+30+15) min implement & investigate: with partner (group of 2)\n",
    "- 10 min compare&conclude                  : with group of 4 (per table)\n",
    "\n",
    "## Background \n",
    "> <font color='grey'>⏳ Estimated time: 10 min</font>\n",
    "\n",
    "During this practical session, you will use a power supply, testboard, and two digital multimeters: a handheld one, and one in the caddie (do not take this Agilent DMM out of the caddie!!).\n",
    "Spend some time getting familiar with these devices. Ask the TAs if you have doubts.\n",
    "\n",
    "Have a look at the individual intros:\n",
    "- https://mwdocter.github.io/TeachBook/main/EI_manuals/intro_testboards.html\n",
    "- https://mwdocter.github.io/TeachBook/main/EI_manuals/intro_power_supply_Agilent.html\n",
    "- https://mwdocter.github.io/TeachBook/main/EI_manuals/intro_DMM_Agilent%2Bhandheld.html\n",
    "\n"
   ]
  },
  {
   "cell_type": "markdown",
   "metadata": {},
   "source": [
    "\n",
    "## Anticipate 1: Which voltage will the DMM measure over R2?\n",
    "> <font color='grey'>⏳ Estimated time: 10 min</font>\n",
    "\n",
    "If the DMM measures the voltage over R2 in the image below, with R1=R2, predict:\n",
    "* which voltage over R2 will be measured, for increasing resistor values (both resistors being either 10 Ω, or 1 kΩ, 10 MΩ)?\n",
    "\n",
    "<img src=\"https://gitlab.tudelft.nl/mwdocter/nb2214-images/-/raw/main/ELC/ELC1b%20voltage%20divider.jpg\" width=30%></img>\n",
    "\n",
    "\n",
    "Watch the following movie clip for an explanation on the voltage divider\n",
    "\n",
   "https://www.youtube.com/watch?v=RSAVxhfckII"
   ]
  },
  {
   "cell_type": "code",
   "execution_count": 2,
   "metadata": {},
   "outputs": [],
   "source": [
    "### TO DO =\"your answer to predict 1&2\"\n"
   ]
  },
  {
   "cell_type": "markdown",
   "metadata": {},
   "source": [
    "## Anticipate 2: Which setting to use on the DMM for max accuracy\n",
    "> <font color='grey'>⏳ Estimated time: 10 min</font>\n",
    "\n",
    "The formula for the accuracy of the 5½ digit DMM is specified as ±(0.025% + 0.005%) = ±(reading%+ range%) by the manufacturer.\n",
    " \n",
    "* Calculate the accuracy for a measurement of 1.2 V on a 2V and 20 V range\n",
    "* Explain which range is prefered for optimally measuring 1.2V.\n",
    "\n",
    "> Note: the 1.2V is the reading, which is smaller than the 2 or 20 V range. <br>\n",
    "> For a 2V range measured with a 3½ digit DMM, the maximum is 1.999 V, the minimum is 0.001 V. <br>\n",
    "> For a 20 V range measured with a 3½ digit DMM, the maximum is 19.99 V, the minimum is 0.01 V. <br>\n",
    "> For each range with the same number of digits, you have a different number of digits behind the decimal point. <br>\n",
    "\n",
    "> **<font color='blue'>__Hint__: </font>**\n",
    "You'll find these hints throughout the practicals. You can use them to check whether you are on the right track, and for troubleshooting the more common issues.\n",
    "<br>\n",
    "For 1.2V, the accuracy is 0.4 mV. (± 0.025% * 1.2+0.005% * 2V)\n",
    "\n",
    "Please note: \n",
    "* not all exercises will be checked/evaluated with the TA, only a selection\n",
    "* the TA will only check you off after all questions are evaluated (see the section EVALUATE at the end of the notebook)\n",
    "* you can always ask help from a TA, but before you do, discuss with your direct neighbor (groups of 4); learn from each other.\n"
   ]
  },
  {
   "cell_type": "code",
   "execution_count": 3,
   "metadata": {},
   "outputs": [],
   "source": [
    "## accuracy 1.2V in 2V range is\n",
    "# accuracy 1.2V in 20V range is\n",
    "# better to measure in the .... range because ....\n",
    "\n",
    "\n",
    "### TO DO: 'explain which range gives you a better accuracy'\n"
   ]
  },
  {
   "cell_type": "markdown",
   "metadata": {},
   "source": [
    "## Simulate \n",
    "> <font color='grey'>⏳ Estimated time: 0 min</font>\n",
    "\n",
    "You will have to learn how to simulate in LTSpice, and will learn this in a later assignment. "
   ]
  },
  {
   "cell_type": "markdown",
   "metadata": {},
   "source": [
    "## Implement 1: Discuss predictions\n",
    "> <font color='grey'>⏳ Estimated time: 10 min</font>\n",
    "\n",
    "Discuss your predictions with your partner.\n",
    "- If they don't agree: find differences, and try to resolve. You may ask your TA for help, always.\n",
    "\n",
    "Below we continue with the detailed steps for building and measuring the voltage divider. If you want a quick overview, feel free to watch the following movie clip.\n ",
   "\n",
   "https://www.youtube.com/watch?v=gEYWuJdgVv4"
   ]
  },
  {
   "cell_type": "markdown",
   "metadata": {},
   "source": [
    "## Implement&investigate  2: Build a voltage divider with R1&R2 \n",
    "> <font color='grey'>⏳ Estimated time: 30 min</font>\n",
    "\n",
    "The goal is to find out how voltage meters can influence their own measurement. To do this you have to build the following circuit on test board 1. \n",
    "\n",
    "<img src=\"https://gitlab.tudelft.nl/mwdocter/nb2214-images/-/raw/main/ELC/ELC1b%20voltage%20divider.jpg\" width=30%></img>\n",
    "\n",
    "### Person1: Connect the power supply with the resistors on the testboard\n",
    "\n",
    "<img src=\"https://gitlab.tudelft.nl/mwdocter/nb2214-images/-/raw/main/ELC/ELC%20testboard1.jpg\" width=50%></img>\n",
    "\n",
    "Try to think by yourself which connections have to be made.\n",
    "<details>\n ",
    "<summary><font size=4>ℹ️</font> <b> If you are not sure what to do click here</b></summary>\n",
    "\n",
    "- Place testboard 1 at your table. \n",
    "- Connect a red wire in the red socket, and a black wire in the black socket\n",
    "- Place R1&R2 in series, by connecting the right pins with a small red wire. \n",
    "\n",
    "Connect to the power supply:\n",
    "- without power on, adapt the source to output 5V\n",
    "- put the red and black wire in the correct ports\n",
    "- turn on the power output, just before measuring\n",
   "</details>\n",
    "\n",
 
    "### Person2: Connect the caddies' DMM as current meter\n",
    "\n",
    "After reading the intro notebook on DMM's you know how to connect a current meter:\n",
    "<details>\n",
    "<summary><font size=4>ℹ️</font> <b>Hint</b></summary>\n",
    "\n",
    "- replace the small red wire between R1 and R2 with the DMM in current meter mode. \n",
    "- Switch on the DMM, set the measurement to Idc (DC current)\n",
    "</details>\n",
    "\n",
    ">* __Measuring current should be done carefully since the DMM is part of the circuit.__\n",
    ">* __A common mistake is to leave the cables or test leads in the current input terminals and measure voltage.__ \n",
    ">* __Remember that the current terminals are connected to a very low resistance (Shunt resistance).__\n",
    ">* __When connected in parallel to your circuit, high current will flow through the DMM.__\n",
    ">* __This can damage both the multimeter and the circuit.__\n",
    ">* __If you are not sure about how to connect your multimeter, please ask one of the TAs.__\n",
    "\n",
    "> **<font color='blue'>__Hint:__ </font>**\n",
    "You can touch the metal part of the resistor to measure above R2 as metal is conductive. The exposed part of pin already in U1 is also metal.\n",
    "\n",
    "### Person2: Connect the handheld DMM as voltage meter. \n",
    "<img src=\"https://gitlab.tudelft.nl/mwdocter/nb2214-images/-/raw/main/ELC/ELC%20multimeter%20handheld%20example.jpg\" width=20%></img>\n",
    "\n",
    "- Find another set of wires with testpins.\n",
    "- Place the handheld DMM as voltage meter, parallel to R2 \n",
    "- Turn the knob of the handheld to Vdc (or V with a horizontal flat line)\n",
    "\n",
    "> **<font color='blue'>__Hint:__ </font>**\n",
    "You can use two DMMs at the same time, one for the current, one for the voltage.  \n",
    "\n",
    "\n"
   ]
  },
  {
   "cell_type": "markdown",
   "metadata": {},
   "source": [
    "Upload your drawing of the meters (or photograph of your circuit+measurement pins) below <br>\n",
    "To upload the picture, run the first cell of code. Below it, \"Upload\" button will appear.\n",
    "\n",
    "Click on it and choose the right file. \n",
    "Then run the second cell of code"
   ]
  },
  {
   "cell_type": "code",
   "execution_count": 5,
   "metadata": {},
   "outputs": [
    {
     "data": {
      "application/vnd.jupyter.widget-view+json": {
       "model_id": "d0e4c680a1e744c9ae8e1e9e7db4239e",
       "version_major": 2,
       "version_minor": 0
      },
      "text/plain": [
       "FileUpload(value={}, description='Upload')"
      ]
     },
     "metadata": {},
     "output_type": "display_data"
    }
   ],
   "source": [
    "from ipywidgets import FileUpload\n",
    "from IPython.display import Image\n",
    "import os\n",
    "upload=FileUpload()\n",
    "upload\n",
    "\n"
   ]
  },
  {
   "cell_type": "code",
   "execution_count": null,
   "metadata": {
    "lines_to_next_cell": 2
   },
   "outputs": [],
   "source": [
    "file_name=\"1A_1_VImeters.jpg\"\n",
    "if upload.value!={}:\n",
    "    with open(file_name,\"wb\") as f:\n",
    "        try: f.write(upload.data[-1]) # python 3.7 Kernel code, not working on Vocareum\n",
    "        except: f.write(upload.value[-1][\"content\"])  # python 3.8 Kernel code, works on Vocareum if you change the kernel\n",
    "\n",
    "Image(filename=file_name, width=\"50%\")"
   ]
  },
  {
   "cell_type": "markdown",
   "metadata": {},
   "source": [
    "## Implement&investigate 3: Measure current and voltage of the voltage divider\n",
    "> <font color='grey'>⏳ Estimated time: 15 min</font>\n",
    "\n",
    "* Measure the current: read off the value from the DMM. Adapt the range for more significant numbers. \n",
    "* Measure the voltage over R2: read of the value from the handheld DMM. Make sure you picked a right setting on the handheld DMM(think your answer to Anticipate 2)\n",
    "* What do you notice about resistors R1 and R2? \n",
    ">    * **<font color='blue'>__Hint:__ </font>** do they dissipate energy in some way?\n",
    ">    * **<font color='blue'>__Hint:__ </font>** holding your hand closeby is enough. Make sure to only touch the casing, not the metal   \n",
    "\n",
    "After having measured over R1&R2, you will repeat the measurement, by moving the measurement pins (connected to the current meter). \n",
    "\n",
    "* Repeat this with R3&R4, and measure again. Switch roles (person 1 becomes person 2)\n",
    "* Repeat this with R5&R6, and measure again. \n",
    "\n",
    "In the cell below:\n",
    "* Write down all currents and voltages for all resistor combinations  \n",
    "* Do the measured values agree with the calculated ones? \n",
    "* Is the current through the resistor dangerous? Look it up!\n",
    "\n"
   ]
  },
  {
   "cell_type": "code",
   "execution_count": null,
   "metadata": {},
   "outputs": [],
   "source": [
    "## TO DO= write down the values for the voltage over R2 and the current through R2 in the divider. \n",
    "\n",
    "## TO DO= what do you notice about R1 and R2?\n",
    "\n"
   ]
  },
  {
   "cell_type": "markdown",
   "metadata": {},
   "source": [
    "## Compare & Conclude: per group of 4\n",
    "> <font color='grey'>⏳ Estimated time: 10 min</font>\n",
    "\n",
    "* Wait till all (4) group members finish their measurements, please help each other!\n",
    "* Compare your results with your other group members. \n",
    "* If your results do not agree, or your results are not in line with your predictions, then work with your group members to find out likely sources of discrepancies. Ask a TA for assistance to help you identify your problem. \n",
    "\n",
    "* If your results agree, and are in line with all predictions, then talk to a TA and get checked off\n",
    "\n",
    "\n",
    "**to be checked off by a TA:**\n",
    "1. Which setting of the DMM is most accurate (PREDICT2)\n",
    "2. Explain the odd measured voltage, both qualitatively and quantitatively?\n",
    "3. exit card: 1. Write a brief abstract on what you learned (conclusion, useful graph), 2. Which troubleshooting skills do you want to remember for next sessions, 3. Which code do you copy for use in next sessions,\n",
    "4. How do think this notebook could be improved"
   ]
  },
  {
   "cell_type": "code",
   "execution_count": 1,
   "metadata": {},
   "outputs": [],
   "source": [
    "# 1A digital multimeter\n",
    "### TO DO=\"1.which setting is most accurate (predict2) \"\n",
    "\n",
    "### TO DO=\"2.explain the odd measured voltage\"\n",
    "\n",
    "### TO DO=\"3a. abstract\"\n",
    "\n",
    "### TO DO=\"3b. troubleshooting\"\n",
    "\n",
    "### TO DO=\"3c. code?\"\n",
    "\n",
    "### TO DO=\"4. what changes would you suggest?\"\n"
   ]
  },
  {
   "cell_type": "markdown",
   "metadata": {},
   "source": [
    "If you got stuck during the measurement, at the end of the lab assignment we offer you a movie clip with our recorded efforts in the lab. If you were successfull with measuring, then skip this movie clip\n",
  "\n",
   "https://www.youtube.com/watch?v=Z_bJT63KGFE"
   ]
  },
  {
   "cell_type": "code",
   "execution_count": null,
   "metadata": {},
   "outputs": [],
   "source": []
  }
 ],
 "metadata": {
  "celltoolbar": "Create Assignment",
  "kernelspec": {
   "display_name": "Python 3 (ipykernel)",
   "language": "python",
   "name": "python3"
  },
  "language_info": {
   "codemirror_mode": {
    "name": "ipython",
    "version": 3
   },
   "file_extension": ".py",
   "mimetype": "text/x-python",
   "name": "python",
   "nbconvert_exporter": "python",
   "pygments_lexer": "ipython3",
   "version": "3.7.12"
  },
  "latex_envs": {
   "LaTeX_envs_menu_present": true,
   "autoclose": false,
   "autocomplete": true,
   "bibliofile": "biblio.bib",
   "cite_by": "apalike",
   "current_citInitial": 1,
   "eqLabelWithNumbers": true,
   "eqNumInitial": 1,
   "hotkeys": {
    "equation": "Ctrl-E",
    "itemize": "Ctrl-I"
   },
   "labels_anchors": false,
   "latex_user_defs": false,
   "report_style_numbering": false,
   "user_envs_cfg": false
  },
  "toc": {
   "base_numbering": 1,
   "nav_menu": {},
   "number_sections": true,
   "sideBar": true,
   "skip_h1_title": false,
   "title_cell": "Table of Contents",
   "title_sidebar": "Contents",
   "toc_cell": false,
   "toc_position": {},
   "toc_section_display": true,
   "toc_window_display": false
  }
 },
 "nbformat": 4,
 "nbformat_minor": 4
}
