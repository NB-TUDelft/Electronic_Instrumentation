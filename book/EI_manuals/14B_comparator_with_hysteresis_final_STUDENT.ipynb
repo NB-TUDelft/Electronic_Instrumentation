{
 "cells": [
  {
   "cell_type": "markdown",
   "id": "c492df47",
   "metadata": {},
   "source": [
    "# 14B: Comparator \n",
    "\n",
    "> <font color='blue'>Learning goal:</font> Experiments with Differential and Common Mode Voltages\n",
    "\n",
    " - **Focus of Experiments**: We'll explore how to suppress unwanted common mode voltage and amplify the desired differential voltage.\n",
    " - **Practical Sensor-Bridge Application**: The experiments will include using a sensor-bridge sensitive to magnetic fields. This involves detecting the magnetic field created by current passing through a wire or a printed circuit board track.\n",
    "  \n",
    "## Structure of the practical assignment 14B:\n",
    "- Background + Predict + Simulate (45): per person. This is homework and should be finished **before** you start your 4 hours practicum session\n",
    "- Build + Measure (40): with your partner(group of 2)\n",
    "- Evaluate (10): with a group of 4(per table)"
   ]
  },
  {
   "cell_type": "markdown",
   "id": "a8f7872c-5996-4847-b988-6e6e75a38224",
   "metadata": {},
   "source": [
    "## BACKGROUND\n",
    "> <font color='grey'>⏳ Estimated time: 15 min</font>\n",
    "\n",
    "### 1. Exploring OPAMP as a Comparator\n",
    "In this segment, we delve into the use of an Operational Amplifier (OPAMP) in a unique role—as a comparator. This setup is intriguing because it leverages the OPAMP's high gain without requiring negative feedback. Essentially, the OPAMP's output oscillates between two extremes, clipping against either its positive or negative supply rail, indicating a binary state: either fully positive or fully negative.\n",
    "\n",
    "### 2. Comparators vs OPAMPs\n",
    "It's important to highlight that there are specialized Integrated Circuits (ICs) designed as comparators. While bearing a resemblance to OPAMPs with differential inputs and high gain, comparators are distinctly engineered to output just two levels: high or low. Unlike OPAMPs, they are unsuitable for linear amplification tasks.\n",
    "\n",
    "### 3. Comparator Circuit Analysis\n",
    "The comparator circuit employs one input for reference and another for the signal. When the reference voltage (Vd) is connected to the inverting input and the signal voltage (Vi) to the non-inverting input, the circuit operates in the following manner: If Vi is less than Vd, the output is negative (since Vi - Vd yields a negative result). Conversely, if Vi exceeds Vd, the output turns positive.\n",
    "\n",
    "<div style=\"text-align: center\">\n",
    "    <img src=\"https://gitlab.tudelft.nl/mwdocter/nb2214-images/-/raw/main/ELC/14B_comparator.png\" width=\"100%\">\n",
    "</div>\n",
    "\n",
    "Above is the circuit diagram and its typical behavior.\n",
    "\n",
    "> What would change if we would swap both inputs? So Vi to the inverting input and the reference (Vd) to the non-inverting input?\n",
    "\n",
    "### 4. Dealing with Noisy Signals\n",
    "In an ideal world, signals are noise-free, but reality presents us with noisy signals that can lead to erratic behavior in the circuit, as shown below.\n",
    "\n",
    "<div style=\"text-align: center\">\n",
    "    <img src=\"https://gitlab.tudelft.nl/mwdocter/nb2214-images/-/raw/main/ELC/14B_noisy_signal.png\" width=\"70%\">\n",
    "</div>\n",
    "\n",
    "Noise-induced fluctuations, or 'bouncing', can be problematic. It depends on the applications, but especially in scenarios where the comparator feeds into a counter, \"bouncing\" will lead to counting errors. To mitigate this, we introduce hysteresis into the circuit, altering the switching threshold based on the current output state.\n",
    "\n",
    "Changing of the switching levels, the hysteresis, is achieved via positive feedback where the output is connected back to the **non-inverting input** through a set of resistors. \n",
    "\n",
    "> Note: this is not a linear circuit! So we cannot assume that inverting and non-inverting input have the same potential. However, we still assume that no current is flowing into the OPAMPs inputs.\n",
    "\n",
    "<div style=\"text-align: center\">\n",
    "    <img src=\"https://gitlab.tudelft.nl/mwdocter/nb2214-images/-/raw/main/ELC/14B_non-inverting_comparator.png\" width=\"600\">\n",
    "</div>\n",
    "\n",
    "The diagram above showcases **a non-inverting comparator.** The output is positive when the input signal surpasses the threshold and negative otherwise.\n",
    "\n",
    "<div style=\"text-align: center\">\n",
    "    <img src=\"https://gitlab.tudelft.nl/mwdocter/nb2214-images/-/raw/main/ELC/14B_switching_level.png\" width=\"600\">\n",
    "</div>\n",
    "\n",
    "#### 5. Calculating the Switching Levels\n",
    "To determine the switching levels, recognize that:\n",
    "1. The OPAMP compares the voltage on the non-inverting input to the potential on the inverting input (GND).\n",
    "2. The potential on the inverting input is stems from the resistive divider R1 and R2, which are connected between the input voltage and the output voltage.\n",
    "3. At the moment of switching, the potential on the non-inverting input is exactly 0V, meaning that the voltage drop over R2 is equal to Uout, and so the current is Uout/R2.\n",
    "4. The current through R2 flows through R1, creating a voltage drop over R1: \\$(U_{out}/R2) * R1\\$\n",
    "5. Thus, the switching levels are calculated as ± Uout * (R1/R2).\n"
   ]
  },
  {
   "cell_type": "markdown",
   "id": "d92cd258-4f36-45d6-8794-fc0df6f29d66",
   "metadata": {},
   "source": [
    "## ANTICIPATE: Switching Levels in a Comparator with Hysteresis\n",
    "> <font color='grey'>⏳ Estimated Time: 15 min</font>\n",
    "\n",
    "### Understanding the Schmitt-Trigger Comparator\n",
    "This section focuses on calculating the switching levels of a comparator circuit with hysteresis, commonly known as a Schmitt-trigger. The circuit diagram below illustrates the comparator in question. For this calculation, assume the following:\n",
    "- The positive output voltage of the OPAMP is +12V.\n",
    "- The negative output voltage of the OPAMP is -12V.\n",
    "\n",
    "<div style=\"text-align: center\">\n",
    "    <img src=\"https://gitlab.tudelft.nl/mwdocter/nb2214-images/-/raw/main/ELC/ELC13_1.jpg\" width=\"50%\">\n",
    "        <br>\n",
    "    <em>Figure: Comparator with Hysteresis, featuring resistances Ra = 10kΩ and Rc = 3.4kΩ.</em>\n",
    "</div>\n",
    "\n",
    "\n",
    "Your task is to determine the specific points at which this comparator switches its output state, considering the given resistor values and the OPAMP's output voltage limits. This exercise is crucial in understanding how hysteresis impacts the behavior of comparators in real-world applications.\n"
   ]
  },
  {
   "cell_type": "code",
   "execution_count": null,
   "id": "2eebe7a3",
   "metadata": {},
   "outputs": [],
   "source": [
    "### TO DO=\"write your answer for comparator switching-levels \" \n"
   ]
  },
  {
   "cell_type": "markdown",
   "id": "1df80bef",
   "metadata": {},
   "source": [
    "## SIMULATE: Building and Analyzing a Comparator without Hysteresis\n",
    "> <font color='grey'>⏳ Estimated Time: 15 min</font>\n",
    "\n",
    "### Constructing the Comparator Circuit\n",
    "Your task in this section is to construct a comparator circuit using an LM741 operational amplifier (opamp). To ensure accurate simulation results, remember to power the LM741 with a ±12V supply. The circuit diagram to guide your construction is provided below:\n",
    "\n",
    "<div style=\"text-align: center\">\n",
    "    <img src=\"https://gitlab.tudelft.nl/mwdocter/nb2214-images/-/raw/main/ELC/ELC13_2.jpg\" width=\"50%\">\n",
    "</div>\n",
    "\n",
    "### Simulation\n",
    "Once your circuit is built, proceed with a simulation to observe the voltage changes over time. \n",
    "- For the simulation, set your input voltage source to have a 1V amplitude and a frequency of 100Hz. \n",
    "- Pay special attention to the voltage across the components labeled as U16 and U6 in your circuit.\n",
    "\n",
    "### Questions\n",
    "- What changes in voltage do you observe in the simulation?\n",
    "- How does the output voltage respond to the input signal?\n",
    "\n",
    "> **<font color = 'blue'> Hint: </font>**\n",
    "Look closely where the \"switching\" happens and what are the max values\n",
    "\n",
    "Upload screenshot of your simulation results showing the voltage changes over time"
   ]
  },
  {
   "cell_type": "code",
   "execution_count": null,
   "id": "2e05103d",
   "metadata": {},
   "outputs": [],
   "source": [
    "### TO DO=\" If you input a sine, explain how will the output look like (shape, phase, amplitude) \"\n",
    " "
   ]
  },
  {
   "cell_type": "code",
   "execution_count": null,
   "id": "3f75d0b6",
   "metadata": {
    "tags": []
   },
   "outputs": [],
   "source": [
    "from ipywidgets import FileUpload\n",
    "from IPython.display import Image\n",
    "import os\n",
    "upload=FileUpload()\n",
    "upload"
   ]
  },
  {
   "cell_type": "code",
   "execution_count": null,
   "id": "a193b7d4",
   "metadata": {},
   "outputs": [],
   "source": [
    "file_name=\"14B_1_comparator_sim.jpg\"\n",
    "if upload.value!={}:\n",
    "    with open(file_name,\"wb\") as f:\n",
    "        try: f.write(upload.data[-1]) # python 3.7 Kernel code, not working on Vocareum\n",
    "        except: f.write(upload.value[-1][\"content\"])  # python 3.8 Kernel code, not working on Vocareum\n",
    "\n",
    "Image(filename=file_name, width=\"50%\")\n"
   ]
  },
  {
   "cell_type": "markdown",
   "id": "b6535c58",
   "metadata": {},
   "source": [
    "Now switch the inputs of opamps' inputs. Looking at the graphic, you should connect U16 to U5 and U4 to U101-GND. <br>\n",
    "What changed, compared to the previous exercise?"
   ]
  },
  {
   "cell_type": "markdown",
   "id": "73a514e1-6658-49ff-8067-50d77bfd358d",
   "metadata": {},
   "source": [
    "### Modify the Comparator Configuration\n",
    "In this next step, you'll modify the comparator circuit by switching its inputs. Refer to the original circuit diagram and make the following changes:\n",
    "- Connect U16 to U5.\n",
    "- Connect U4 to U101-GND.\n",
    "\n",
    "Once you have rearranged the inputs as described, run the simulation again with the same settings as before (1V amplitude, 100Hz frequency). Observe the changes in the comparator's behavior and output.\n",
    "\n",
    "**Question:** What differences do you notice in the comparator's output compared to the previous configuration?"
   ]
  },
  {
   "cell_type": "code",
   "execution_count": null,
   "id": "76fae383",
   "metadata": {},
   "outputs": [],
   "source": [
    "### TO DO=\" write your answer: the difference is ...\"\n",
    " "
   ]
  },
  {
   "cell_type": "code",
   "execution_count": null,
   "id": "6170412b-dbc4-4cf2-9637-1a4cae758ee3",
   "metadata": {},
   "outputs": [],
   "source": [
    "#precap  \n",
    "from IPython.lib.display import YouTubeVideo\n",
    "YouTubeVideo('kaO_t4k1ggw', width = 600, height = 450)"
   ]
  },
  {
   "cell_type": "markdown",
   "id": "869b2bf2",
   "metadata": {},
   "source": [
    "## IMPLEMENT & INVESTIGATE 1: Building a Comparator Circuit with Hysteresis\n",
    "> <font color='grey'>⏳ Estimated Time: 40 min</font>\n",
    "\n",
    "### Equipment Required\n",
    "To construct and investigate the comparator circuit, gather the following items:\n",
    "- Testboard 4\n",
    "- Function generator\n",
    "- Oscilloscope\n",
    "- Coaxial splitter\n",
    "- All necessary cables\n",
    "\n",
    "### Circuit\n",
    "Build a comparator circuit with hysteresis on Testboard 4. Refer to the circuit diagram provided below for guidance:\n",
    "\n",
    "<div style=\"text-align: center\">\n",
    "    <img src=\"https://gitlab.tudelft.nl/mwdocter/nb2214-images/-/raw/main/ELC/ELC13_3.jpg\" width=\"800\">\n",
    "    <br>\n",
    "    <em>Figure 3: Comparator with Hysteresis.</em>\n",
    "</div>\n",
    "\n",
    "\n",
    "### Setting Up the Experiment\n",
    "1. Set the resistances as follows:\n",
    "    - Ra to 10kΩ (activate switch #3).\n",
    "    - Rc to 3.4kΩ (turn on switches #2 and #3, paralleling 10kΩ and 5.2kΩ resistors).\n",
    "2. Connect the signal generator to the **input** of the comparator circuit.\n",
    "3. Use the coaxial splitter to connect **CH1** of the oscilloscope to the signal generator.\n",
    "4. Connect the **output** of the comparator circuit to **CH2** of the oscilloscope\n",
    "\n",
    "### Configuration Parameters \n",
    "Configure the signal generator with these settings:\n",
    "- Waveform: Sine\n",
    "- Output Impedance: High Z\n",
    "- Amplitude: 17V peak-to-peak (Vpp)\n",
    "- Offset: 0V\n",
    "- Symmetry: 50%\n",
    "- Frequency: 200Hz\n",
    "\n",
    "### Questions\n",
    "Monitor the input and the output of the circuit simultaneously. \n",
    "1. Did you expect this behaviour? \n",
    "2. How does it compare to results from SIMULATE?\n"
   ]
  },
  {
   "cell_type": "markdown",
   "id": "49c8f7b1",
   "metadata": {},
   "source": [
    "> **<font color = 'blue'> Hint: </font>**\n",
    "You should see a shift in your signal due to these modifications. What parameter was changed by changing the resistor values (think about the anticipate and simulate)."
   ]
  },
  {
   "cell_type": "code",
   "execution_count": null,
   "id": "1d5cd58b",
   "metadata": {},
   "outputs": [],
   "source": [
    "### TO DO=\" write your answer\"\n",
    " "
   ]
  },
  {
   "cell_type": "markdown",
   "id": "3b7b38fa-1b8f-46ea-868b-b660d984d4f1",
   "metadata": {},
   "source": [
    "### Analyzing Switching Levels Using Oscilloscope's XY-Mode\n",
    "\n",
    "After setting up your comparator circuit, it's time to analyze its switching levels in a more visual and insightful way:\n",
    "\n",
    "1. **Switch the oscilloscope to XY-Mode**: \n",
    "   - Locate and press the “main/delayed” button on your oscilloscope.\n",
    "   - Change the display mode from Y-T (normal) to X-Y.\n",
    "   \n",
    "2. **Investigate and document switching levels**: \n",
    "   1. Examine the oscilloscope screen to determine the comparator's switching levels.\n",
    "   2. Make an accurate drawing of the figure displayed on the oscilloscope screen. \n",
    "       - Ensure that your drawing captures the key features and thresholds of the waveform.\n",
    "       - Alternatively, you can take a clear photograph of the oscilloscope screen.\n",
    "\n",
    "   \n"
   ]
  },
  {
   "cell_type": "code",
   "execution_count": null,
   "id": "e200bc8c",
   "metadata": {},
   "outputs": [],
   "source": [
    "### TO DO=\" your answer, supported by an image of the scope screen\" \n",
    " "
   ]
  },
  {
   "cell_type": "code",
   "execution_count": null,
   "id": "3e6cb6fe",
   "metadata": {},
   "outputs": [],
   "source": [
    "from ipywidgets import FileUpload\n",
    "from IPython.display import Image\n",
    "import os\n",
    "upload=FileUpload()\n",
    "upload"
   ]
  },
  {
   "cell_type": "code",
   "execution_count": null,
   "id": "25777dce",
   "metadata": {},
   "outputs": [],
   "source": [
    "file_name=\"14B_2_switching_levels.jpg\"\n",
    "if upload.value!={}:\n",
    "    with open(file_name,\"wb\") as f:\n",
    "        try: f.write(upload.data[-1]) # python 3.7 Kernel code, not working on Vocareum\n",
    "        except: f.write(upload.value[-1][\"content\"])  # python 3.8 Kernel code, not working on Vocareum\n",
    "\n",
    "Image(filename=file_name, width=\"50%\")\n"
   ]
  },
  {
   "cell_type": "markdown",
   "id": "698a90a2",
   "metadata": {},
   "source": [
    "### Studying Low-Speed Comparator Behavior\n",
    "\n",
    "Now that you have observed the comparator's switching levels, the next step involves analyzing its behavior at a significantly lower frequency:\n",
    "\n",
    "1. Set the frequency of the signal generator to 0.1 Hz. This change will cause the curve on the oscilloscope to be traced at a much slower pace.\n",
    "\n",
    "2. Carefully watch the curve as it slowly follows the input signal. \n",
    "\n",
    "    - Pay attention to how the comparator reacts at this reduced speed. \n",
    "    - Try to understand and explain the changes you observe in the circuit's behavior. <br>\n",
    "\n",
    "**Question:** How does the comparator respond to the slower input signal transitions?\n",
    "\n",
    "\n",
    "> **<font color='blue'>Hint:</font>** If you are having difficulty observing the curve due to its slow movement, consider adjusting the persistence setting of the oscilloscope screen to 'infinite'. This setting will make the trace remain visible longer, aiding in your analysis.\n",
    "\n",
    "> **<font color = 'blue'> Hint 2: </font>**\n",
    "A comparator circuit has the output reacting to the input. Why would changing the frequency influences the way this happens?"
   ]
  },
  {
   "cell_type": "code",
   "execution_count": null,
   "id": "526feafb",
   "metadata": {},
   "outputs": [],
   "source": [
    "### TO DO=\" your answer, what do you see and how can you explain\" \n",
    " \n"
   ]
  },
  {
   "cell_type": "markdown",
   "id": "69c5d411",
   "metadata": {},
   "source": [
    "## COMPARE & CONCLUDE\n",
    "> <font color='grey'>⏳ Estimated time: 10 min</font>\n",
    "\n",
    "* Wait till all (4) group members finish their observation\n",
    "* Compare your results with your other group members. \n",
    "* If your results agree, and are in line with all predictions, then talk to a TA and get checked off\n",
    "* Otherwise, so if your results do not agree, or your results are not in line with your predictions, then first discuss amongst your group before getting a TA. \n",
    "\n",
    "**to be checked off by a TA:**\n",
    "\n",
    "1.  What are the advantages of using hysteresis in comparator circuits.\n",
    "2. exit card: 1. Write a brief abstract on what you learned (conclusion, useful graph), 2. Which troubleshooting skills do you want to remember for next sessions, 3. Which code do you copy for use in next sessions,\n",
    "3. How do think this notebook could be improved\n"
   ]
  },
  {
   "cell_type": "code",
   "execution_count": null,
   "id": "a50b0f8c",
   "metadata": {},
   "outputs": [],
   "source": [
    "#14B comperator\n",
    "### TO DO=\"1. the advantage of hysteresis\"\n",
    " \n",
    "### TO DO=\"2a. abstract\"\n",
    " \n",
    "### TO DO=\"2b. troubleshooting\"\n",
    " \n",
    "### TO DO=\"2c. code\"\n",
    " \n",
    "### TO DO=\"3. what changes would you suggest?\"\n",
    " "
   ]
  },
  {
   "cell_type": "markdown",
   "id": "2bedbe47-a881-41d5-adc3-4188f17d5ece",
   "metadata": {},
   "source": [
    "* Recording: https://www.youtube.com/watch?v=RBpHN07FWME\n"
   ]
  }
 ],
 "metadata": {
  "jupytext": {
   "formats": "ipynb,md"
  },
  "kernelspec": {
   "display_name": "Python 3 (ipykernel)",
   "language": "python",
   "name": "python3"
  },
  "language_info": {
   "codemirror_mode": {
    "name": "ipython",
    "version": 3
   },
   "file_extension": ".py",
   "mimetype": "text/x-python",
   "name": "python",
   "nbconvert_exporter": "python",
   "pygments_lexer": "ipython3",
   "version": "3.10.14"
  }
 },
 "nbformat": 4,
 "nbformat_minor": 5
}
