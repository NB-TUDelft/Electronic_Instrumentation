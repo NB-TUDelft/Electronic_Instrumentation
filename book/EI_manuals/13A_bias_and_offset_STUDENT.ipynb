{
 "cells": [
  {
   "cell_type": "code",
   "execution_count": null,
   "id": "09b219a8",
   "metadata": {},
   "outputs": [],
   "source": [
    "from IPython.core.display import HTMLdef set_width(width):\n",
    "    display(HTML(f\"\"\"<style>  \n",
    "            .container {{ width:{width}% !important; \n",
    "                            min-width:800px !important; margin: 0 auto}} \n",
    "            .jp-Cell {{ width:{width}% !important; \n",
    "                            min-width:800px !important; margin: 0 auto}} </style>\"\"\"))\n",
    "# Set container width to X% of the fullscreen \n",
    "set_width(50)"
   ]
  },
  {
   "cell_type": "markdown",
   "id": "bafe3d7b",
   "metadata": {},
   "source": [
    "# 13A: bias and offset\n",
    "\n",
    "> <font color='blue'>Learning goal:</font> understand how real opamps are biased, how to calculate and experimentally measure that bias and offset. Understand how it might influence your circuit.\n",
    "Experiments of this week:\n",
    "- Experiment 13A: observe the imperfections of a real life op-amp like bias and offset.\n",
    "- Experiment 13B: observe the properties of an op-amp like GB product and slew rate.\n",
    "- Experiment 13C: observe the behaviour of integrator and differentiator circuits.\n",
    "\n",
    "Structure of an experiment:\n",
    "- Predict + Stimulate (35): This is homework and should be finished **before** you start your 4 hours practicum session (done individually)\n",
    "- Build + Measure (45): with your partner (group of 2)\n",
    "- Evaluate (10): with a group of 4 (per table)"
   ]
  },
  {
   "cell_type": "markdown",
   "id": "d82b84fd",
   "metadata": {},
   "source": [
    "## BACKGROUND\n",
    "> <font color='grey'>⏳ Estimated time: 10 min</font>\n",
    "\n",
    "The op-amp in theory is quite an ideal device. In practice the op-amp has some flaws, luckily these are not so dominant that the op-amp is not usable, but from time to time you need to consider these non-ideal characteristics.\n",
    "In this experiment we will have a look at the current flowing into the op-amps inputs (bias current) and the offset-voltage, a small voltage difference at the op-amps inputs.\n",
    "In order to be able to analyze these currents and voltages we need a model for the real-life op-amp. A model including the non-ideal characteristics mentioned above is shown the image below. It consists of an ideal op-amp and some current and voltage sources:\n",
    "\n",
    "<center><img src=\"https://gitlab.tudelft.nl/mwdocter/nb2214-images/-/raw/main/ELC/ELC10-1.jpg\" width=500px></img></center>\n",
    "\n",
    "In this model we can see two current sources, these resemble the current flowing into the op-amps inputs, these are called the bias-currents. We see a voltage source, called the offset-voltage. \n",
    "The red-colored op-amp in the diagram is an ideal op-amp.\n",
    "With some simple measurements we can estimate the value of the bias-currents and the offset-voltage. The measurements involve a multimeter, op-amp and a resistor.\n",
    "\n",
    "With one input (non-inverting) input connected to ground we can neglect the bias-current needed for the non-inverting input. The only two sources having an influence then are the offset-voltage, $V_\\mathrm{offset}$ and the bias-current of the inverting input.\n",
    "The feedback network will be connected to the inverting input, and will look like the circuit shown below:\n",
    "\n",
    "<center><img src=\"https://gitlab.tudelft.nl/mwdocter/nb2214-images/-/raw/main/ELC/13A_bias_offset.png\" width=500px></img></center>\n",
    "\n",
    "The only resistor in the circuit is $R_\\mathrm{f}$. Regard this circuit as a non-inverting ampilifier, noting that $R_\\mathrm{i}$ is not there (i.e. infinite resistance). Think about the following questions:\n",
    "- What will happen to the gain when $R_\\mathrm{i}$ is infinite?\n",
    "- What will be the influence of $R_\\mathrm{f}$?\n",
    "- Does this intuition hold up when you check this with the gain formula for a non-inverting amplifier?\n",
    "\n",
    "Now remember that the output will regulate the inputs through the feedback network (here it is only $R_\\mathrm{f}$). For such a non-ideal op-amp, the feedback applied will be perturbed by the bias-current abd the offset voltage.\n",
    "\n",
    "When designing a circuit and you need to select an op-amp, always have a look at the datasheet. In the datasheet of a specific type of op-amp you will find information on the bias-current, offset voltage and many other parameters.\n",
    "\n",
    "An important question to ask is when do need to take the bias-current into account? This depends on the application. Take measuring a pH for example For measuring pH a lot of different sensors are available. When you want to build your own read-out circuit, you should carefully look at the characteristics of the pH-probe. Such a probe very often generates a small pH-sensitive voltage. This voltage should be amplified, e.g. by an op-amp circuit, before it can be sampled by an ADC. Typical pH sensors have a high-impedance. Imagine the sensor as a Thevenin equivalent with a simple resistor. Because the amplifier draws a bias current, a current will flow over that resistor. Due to the large impedeance of the sensor, a large voltage drop occurs, and thus you get a large error in the voltage measurement. In this example, care should be taken to select an op-amp with very small bias-current in order to minimize this voltage drop.\n",
    "\n",
    "<!-- Inside the probe is a tiny electrode, in order to make the probe fast responding. This tiny electrode will behave like a high-impedance (think of it like a Thevenin equivalent with a low voltage and a high Thevenin resistance). -->\n",
    "\n"
   ]
  },
  {
   "cell_type": "markdown",
   "id": "4988a887",
   "metadata": {},
   "source": [
    "## ANTICIPATE: imperfections of an op-amp\n",
    "> <font color='grey'>⏳ Estimated time: 10 min</font>\n",
    "\n",
    "The offset voltage and bias-current can be measured with a simple circuit. For this exercise, we will consider the following circuit:\n",
    "\n",
    "<center><img src=\"https://gitlab.tudelft.nl/mwdocter/nb2214-images/-/raw/main/ELC/ELC10-2.jpg\" width=500px></img></center>\n",
    "\n",
    "The bias-current at the input of the op-amp has to flow from the output of the op-amp. In doing so, it will flow through the resistor.\n",
    "\n",
    "\n",
    "\n",
    "* Predict the value of $R_\\mathrm{a}$, to be used to measure $V_\\mathrm{offset}$ without being influenced by the $I_\\mathrm{bias}$ of the op-amp. <br>\n",
    "* Predict the value of $R_\\mathrm{a}$, to be used to measure $I_\\mathrm{bias}$ with minimal influence of $V_\\mathrm{offset}$ of the op-amp.\n",
    "\n"
   ]
  },
  {
   "cell_type": "markdown",
   "id": "9d8fa594",
   "metadata": {},
   "source": [
    "<details>\n",
    "<summary><font size=4>ℹ️</font> <b>Hints</b></summary>\n",
    "    \n",
    "* What would be the gain of this circuit? <br>\n",
    "* If you only want to measure the offset voltage, you need to make sure that $I_\\mathrm{bias}$ cannot result in any voltage error. What value for $R_\\mathrm{a}$ do you choose?\n",
    "* In a voltage measurement, you will always measure the offset voltage. How do you make sure that this is negligible compared to the voltage error caused by $I_\\mathrm{bias}$?\n",
    "\n",
    "</details>"
   ]
  },
  {
   "cell_type": "code",
   "execution_count": null,
   "id": "daf9cb7c",
   "metadata": {},
   "outputs": [],
   "source": [
    "### TO DO=\"your predicted values for Ra, to measure Voffset and Ibias\"\n"
   ]
  },
  {
   "cell_type": "markdown",
   "id": "cea5a005",
   "metadata": {},
   "source": [
    "## SIMULATE: \n",
    "> <font color='grey'>⏳ Estimated time: 15 min</font>\n",
    "\n",
    "Recreate the circuit above in LTSpice. \n",
    "\n",
    "Use the type LM741 opamp and supply it with 12 V on \\\"+\\\" supply rail and -12 V on \\\"-\\\" rail, which is the same opamp as on the testboards in the SCR. Please note that the LM741 performs much less ideally then the opamps we are using on the ALPACA (TL072 and LM358, for more info: https://components101.com/article/difference-between-lm358-and-lm741)\n",
       "\n",
    "LM741 op-amap is not avaliable by default in LTSpice. You will need to download a file from Brightspace (from LTSpice resources) named `LM741.rar`. Extract 2 files inside it. Put the two files (not the folder) in the same location as your schematic. This is probably `Documents\\LTspice`\n",
"\n",
"<!--\n",
    "<center><img src=\"https://gitlab.tudelft.nl/mwdocter/nb2214-images/-/raw/main/LTS/LTSpice_add_component_1.png\" width=\"500px\"/></center>\n",
    "\n",
    "<center><img src=\"https://gitlab.tudelft.nl/mwdocter/nb2214-images/-/raw/main/LTS/LTSpice_add_component_2+3+4+5.png\" width=\"500px\"/></center>\n",
    "\n",
    "<center><img src=\"https://gitlab.tudelft.nl/mwdocter/nb2214-images/-/raw/main/LTS/LTSpice_add_component_7.png\" width=\"500px\"/></center>\n",
    "\n",
    "<center><img src=\"https://gitlab.tudelft.nl/mwdocter/nb2214-images/-/raw/main/LTS/LTSpice_add_component_8.png\" width=\"500px\"/></center>\n",
    "\n",
    "<center><img src=\"https://gitlab.tudelft.nl/mwdocter/nb2214-images/-/raw/main/LTS/LTSpice_add_component_9.png\" width=\"500px\"/></center>\n",
    "\n",
    "\n",
"-->\n",
    "### Questions\n",
    "\n",
    "* What offset voltage and bias current do observe? (Pick the right simulation settings yourself!)\n",
    "* Test your ANTICIPATE predictions <br>\n",
    "> Take the maximum resistance as $1 \\;\\mathrm{M} \\Omega$ (so if you need infinite, put $1 \\;\\mathrm{M} \\Omega$).\n",
    "\n",
    "<center><img src=\"https://gitlab.tudelft.nl/mwdocter/nb2214-images/-/raw/main/LTS/13A_LM741_bias.JPG\" width=\"500px\"/></center>"
   ]
  },
  {
   "cell_type": "markdown",
   "id": "a7a21bb4",
   "metadata": {},
   "source": [
"<!--\n",
    "> <font size=4>ℹ️</font> <b>Hints</b>\n",
    "> * You might need to add additional labels to see the result better.\n",
    "> * You can supply the rails using labels. First create two voltage sources and connect them. In the middle(between the sources)add a ground connection and add short wires to the free \"+\" and \"-\" ends. Then attach labels to them and attach those labels to rails on opamp.\n",
    "> * If you correctly place both files inside the same folder and get a pop-up saying `lm741.lib not found` while trying to use LM741, you can autogenerate a path to fix this problem. Go into *`Tools` > `Control Panel` > `Sym & Lib Search Paths` > `library search path`* and write `lm741.lib`'s file directory there.\n",
    "> \n",
    "> <img src=\"https://gitlab.tudelft.nl/mwdocter/nb2214-images/-/raw/main/LTS/LTSpice_add_component_10.png\" width=\"400px\"/>\n",
    ">\n",
    "> <img src=\"https://gitlab.tudelft.nl/mwdocter/nb2214-images/-/raw/main/LTS/LTSpice_add_component_11.png\" width=\"400px\"/>",
"-->\n"
   ]
  },
  {
   "cell_type": "code",
   "execution_count": null,
   "id": "06356326",
   "metadata": {},
   "outputs": [],
   "source": [
    "### TO DO=\"your observations for Voffset and Ibias\"\n"
   ]
  },
  {
   "cell_type": "markdown",
   "id": "a253f460-0ff9-4c44-891d-e78624a7e1c2",
   "metadata": {},
   "source": [
    "* Precap (to be updated?): https://www.youtube.com/watch?v=o6wAT3JkHEc\n"
   ]
  },
  {
   "cell_type": "markdown",
   "id": "0b9cee3c",
   "metadata": {},
   "source": [
    "## IMPLEMENT & INVESTIGATE 1: Measure the bias and offset experimentally\n",
    "> <font color='grey'>⏳ Estimated time: 30 min</font>\n",
    "\n",
    "You will need:\n",
    "* Testboard 4\n",
    "* Digital multimeter\n",
    "* Cables\n",
    "\n",
    "For these experiments an op-amp of the type LM741 is used. It is marked with U201 on the board in the Studio Classroom.\n",
    "\n",
    "<details>\n",
    "<summary><font size=4>ℹ️</font> <b>Hints</b></summary>\n",
    "\n",
    "<center><img src=\"https://gitlab.tudelft.nl/mwdocter/nb2214-images/-/raw/main/ELC/ELC10-3.jpg\" width=300px></img></center>\n",
    "\n",
    "> - U25 is **NOT** the output <br>\n",
    "> - The inputs and output are marked in <font color='red'> **RED** </font> \n",
    "> - Search for testboard 4 schematic on Brightspace to see which resistor you need to use.\n",
    "> - Make sure that the **switch under the opamp** is in **up(on)** position, while **2 switches situated under the power supply** conections are in the **down(-/+12V)** position.\n",
    "</details>\n",
    "\n",
    "- Measure $U_\\mathrm{o}$(Vout) with the correctly chosen $R_\\mathrm{a}$ and determine *$V_\\mathrm{offset}$*."
   ]
  },
  {
   "cell_type": "code",
   "execution_count": null,
   "id": "d1d5e424",
   "metadata": {},
   "outputs": [],
   "source": [
    "### TO DO=\"your value for RA + determined Voffset\"\n"
   ]
  },
  {
   "cell_type": "markdown",
   "id": "000cd570",
   "metadata": {},
   "source": [
    "\n",
    "\n",
    "- Measure *Uo* with the appropriate *Ra* and determine *Ibias*.\n",
    "\n",
    "> <font size=4>ℹ️</font> <b>Hints</b>\n",
    "> * The measurements are done at the output of the op-amp.\n",
    "> * Note that the voltages will be in the mV range."
   ]
  },
  {
   "cell_type": "code",
   "execution_count": 1,
   "id": "58d7c242",
   "metadata": {},
   "outputs": [],
   "source": [
    "### TO DO=\"your value for RA + determined Ibias\"\n"
   ]
  },
  {
   "cell_type": "markdown",
   "id": "ed6020ec-ec92-4cf6-a28d-f68e0431c760",
   "metadata": {},
   "source": [
    "## IMPLEMENT & INVESTIGATE 2: Validate your measurements\n",
    "> <font color='grey'>⏳ Estimated time: 15 min</font>\n",
    "\n",
    "\n",
    "* Find the expected values for Voffset and Ibias in the data sheet values of the LM741 by clicking this [**LINK**](https://gitlab.tudelft.nl/mwdocter/nb2214-images/-/blob/main/ELC/ELC10%20Appendix+OPAMPS.pdf). Look for the *LM741 Datasheet*. Note down these values\n",
    "\n",
    "* Compare these values with your experimental values and simulation. Are they in agreement? If not, think why and redo I&I 1 so the values match (they should be in the same/smaller magnitude, not exacly the same value but close). If you cannot get why you got it wrong, as your TA.\n",
    "\n",
    "* What can you say about a difference between real life measurement and a simulation?"
   ]
  },
  {
   "cell_type": "code",
   "execution_count": null,
   "id": "0ce0ab1c",
   "metadata": {},
   "outputs": [],
   "source": [
    "### TO DO=\"your comparison between real life and simulation\"\n"
   ]
  },
  {
   "cell_type": "markdown",
   "id": "e6a74e74",
   "metadata": {},
   "source": [
    "## COMPARE & CONCLUDE\n",
    "> <font color='grey'>⏳ Estimated time: 10 min</font>\n",
    "\n",
    "\n",
    "* Wait till all (4) group members finish their observation\n",
    "* Compare your results with your other group members. \n",
    "* If your results agree, and are in line with all predictions, then talk to a TA and get checked off\n",
    "* Otherwise, so if your results do not agree, or your results are not in line with your predictions, then first discuss amongst your group before getting a TA. \n",
    "\n",
    "**To be checked off by a TA**\n",
    "1. Explain what values of $R_\\mathrm{a}$ did you pick for $V_\\mathrm{offset}$ and $I_\\mathrm{bias}$?\n",
    "2. exit card: 1. Write a brief abstract on what you learned (conclusion, useful graph), 2. Which troubleshooting skills do you want to remember for next sessions, 3. Which code do you copy for use in next sessions,\n",
    "3. How do think this notebook could be improved"
   ]
  },
  {
   "cell_type": "code",
   "execution_count": null,
   "id": "3d72ae23",
   "metadata": {},
   "outputs": [],
   "source": [
    "#13A bias-offset\n",
    "### TO DO='1 explain which values you picked for Ra'\n",
    "\n",
    "### TO DO=\"2a. abstract\"\n",
    "\n",
    "### TO DO=\"2b. troubleshooting\"\n",
    "\n",
    "### TO DO=\"2c. code\"\n",
    "\n",
    "### TO DO=\"3. what changes would you suggest?\"\n"
   ]
  },
  {
   "cell_type": "code",
   "execution_count": 2,
   "id": "5d385ddf-4d44-420a-a13c-23ab6a584faf",
   "metadata": {
    "scrolled": true
   },
   "outputs": [
    {
     "data": {
      "image/jpeg": "[encoded data removed]",
      "text/html": [
       "\n",
       "        <iframe\n",
       "            width=\"600\"\n",
       "            height=\"450\"\n",
       "            src=\"https://www.youtube.com/embed/8ozZaZrRE38\"\n",
       "            frameborder=\"0\"\n",
       "            allowfullscreen\n",
       "            \n",
       "        ></iframe>\n",
       "        "
      ],
      "text/plain": [
       "<IPython.lib.display.YouTubeVideo at 0x1c4f6bbb700>"
      ]
     },
     "execution_count": 2,
     "metadata": {},
     "output_type": "execute_result"
    }
   ],
   "source": [
    "# recording\n",
    "from IPython.lib.display import YouTubeVideo\n",
    "YouTubeVideo('8ozZaZrRE38', width = 600, height = 450)"
   ]
  },
  {
   "cell_type": "code",
   "execution_count": null,
   "id": "49102348-7c77-449d-b88c-21ba92cfa0de",
   "metadata": {},
   "outputs": [],
   "source": []
  }
 ],
 "metadata": {
  "kernelspec": {
   "display_name": "Python 3 (ipykernel)",
   "language": "python",
   "name": "python3"
  },
  "language_info": {
   "codemirror_mode": {
    "name": "ipython",
    "version": 3
   },
   "file_extension": ".py",
   "mimetype": "text/x-python",
   "name": "python",
   "nbconvert_exporter": "python",
   "pygments_lexer": "ipython3",
   "version": "3.10.14"
  }
 },
 "nbformat": 4,
 "nbformat_minor": 5
}
