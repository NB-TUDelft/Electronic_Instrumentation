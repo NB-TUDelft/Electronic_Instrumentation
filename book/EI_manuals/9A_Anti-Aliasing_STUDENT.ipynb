{
 "cells": [
  {
   "cell_type": "code",
   "execution_count": null,
   "metadata": {},
   "outputs": [],
   "source": [
    "from IPython.core.display import HTML\n",
    "def set_width(width):\n",
    "    display(HTML(f\"\"\"<style>  \n",
    "            .container {{ width:{width}% !important; \n",
    "                            min-width:800px !important; margin: 0 auto}} \n",
    "            .jp-Cell {{ width:{width}% !important; \n",
    "                            min-width:800px !important; margin: 0 auto}} </style>\"\"\"))\n",
    "# Set container width to X% of the fullscreen \n",
    "set_width(50)"
   ]
  },
  {
   "cell_type": "markdown",
   "metadata": {},
   "source": [
 "# 9A: Anti-Aliasing \n",
    "\n",
    "> <font color='blue'>Learning goals:</font> Explore how to effectively deal with aliasing\n",
    "\n",
    "Experiments of this week:\n",
    "- Experiment 9A: perform Anti-Aliasing using analog filter\n",
    "- Experiment 9B: use Digital Filtering and Averaging to improve signal quality\n",
    "- Experiment 9C: apply Signal Denoising by phase shifiting & averaging\n",
    "\n",
    "Structure of an experiment:\n",
    "- Background+ Anticipate + Simulate (5+15+0 min) : per person. This is homework and should be finished **before** you start your 4 hours practicum session\n",
    "- Implement + Investigate (40 min): with your partner(group of 2)\n",
    "- Compare + Conclude (10 min): with a group of 4(per table)\n"
   ]
  },
  {
   "cell_type": "markdown",
   "metadata": {},
   "source": [
    "## BACKGROUND\n",
    "> <font color='grey'>⏳ Estimated time: 5 min</font>\n",
    "\n",
    "Aliasing is undesired for interpreting spectra of sampled signals. Since aliasing occurs during acquisition, one cannot distinguish correctly sampled and the aliased frequencies from an already acquired signal.\n",
    "\n",
    "How to avoid aliasing:\n",
    "* increase the Nyquist frequency \n",
    "* remove future aliased frequencies before sampling by the ADC\n",
    "* use prior knowledge of the expected sample to filter digitally \n",
    "\n",
    "In this assignment, we will implement an analog anti-aliasing filter. "
   ]
  },
  {
   "cell_type": "markdown",
   "metadata": {},
   "source": [
    "## ANTICIPATE: which filter for anti-aliasing and which effect?\n",
    "> <font color='grey'>⏳ Estimated time: 15 min</font>\n",
    "\n",
    "To visualise the effect of anti-aliasing, we will have a look at a square wave signal, acquired at a conveniently chosen sample rate (such that higher aliased harmonics do not overlap with the original signal). From Analysis you should know how the spectrum of a square wave looks. It is also in your formula sheet. You might want to recap that if yoou have troubles completing this exercise.\n",
    "\n",
    "**Exercise 1** recap block wave spectrum\n",
    "\n",
    "* For a block wave of 3kHz, draw the frequency spectrum including the first five higher harmonics. Pay attention to the location of the harmonics, plus the general trend in amplitude. \n",
    "* Assume that you measure with a Nyquist frequency of 16.5 kHz. Redraw the spectrum, and pay attention to where the aliased peaks above Nyquist end up.\n",
    "* Explain which type of filter, with which -3dB frequency, you should use to reduce the amplitude of the aliased frequencies only (so you are left with non-aliased frequencies). \n",
    "\n",
    "> ### <font color='blue'>Hint:</font>\n",
    "> * do you remember which harmonic frequencies occur for a blockwave? Which frequency does the 5th harmonic has?\n",
    "> * what is the relation between Nyquist and sampling frequency? Which one is the frequency you set for the acquisition?\n"
   ]
  },
  {
   "cell_type": "code",
   "execution_count": null,
   "metadata": {},
   "outputs": [],
   "source": [
    "### TO DO=\"your predictions for the first five harmonics, plus which frequencies are measured after aliasing\"\n"
   ]
  },
  {
   "cell_type": "code",
   "execution_count": null,
   "metadata": {},
   "outputs": [],
   "source": [
    "\n",
    "from ipywidgets import FileUpload\n",
    "from IPython.display import Image\n",
    "import os\n",
    "upload=FileUpload()\n",
    "upload\n"
   ]
  },
  {
   "cell_type": "code",
   "execution_count": null,
   "metadata": {},
   "outputs": [],
   "source": [
    "# your spectrum\n",
    "file_name=\"9A_1_spectra.jpg\"\n",
    "if upload.value!={}:\n",
    "    with open(file_name,\"wb\") as f:\n",
    "        try: f.write(upload.data[-1]) # python 3.7 Kernel code, not working on Vocareum\n",
    "        except: f.write(upload.value[-1][\"content\"])  # python 3.8 Kernel code, not working on Vocareum\n",
    "\n",
    "Image(filename=file_name, width=\"50%\")"
   ]
  },
  {
   "cell_type": "markdown",
   "metadata": {},
   "source": [
    "## SIMULATE\n",
    "> <font color='grey'>⏳ Estimated time: 0 min</font>\n",
    "\n",
    "No simulate part for this assignment, but feel free to watch the precap movie"
   ]
  },
  {
   "cell_type": "code",
   "execution_count": null,
   "metadata": {},
   "outputs": [],
   "source": [
    "#precap\n",
    "from IPython.lib.display import YouTubeVideo\n",
    "YouTubeVideo('IajSgvQN9Po', width = 600, height = 450)"
   ]
  },
  {
   "cell_type": "markdown",
   "metadata": {},
   "source": [
    "## IMPLEMENT & INVESTIGATE 1: anti-aliasing filter measured\n",
    "> <font color='grey'>⏳ Estimated time: 40 min</font>\n",
    "\n",
    "**Exercise 1.1**: Copy-paste your code for `calculate_fft` here."
   ]
  },
  {
   "cell_type": "code",
   "execution_count": null,
   "metadata": {
    "lines_to_next_cell": 2
   },
   "outputs": [],
   "source": [
    "### TO DO=\"copy your code for calculate_fft here\"\n",
    "\n"
   ]
  },
  {
   "cell_type": "markdown",
   "metadata": {},
   "source": [
    "**Exercise 1.2**: Do a measurement in which you acquire a signal transmitted through a (low pass) filter, as well as the unfiltered signal (taken directly from the function generator). \n",
    "* The filter is in the caddy (looks like an aluminium box with IN and OUT coax connector) \n",
    "* Use a Nyquist frequency of 16.5 kHz. , compare the unfiltered and filtered signal\n",
    "* set the function generator to a square wave of 3 kHz\n",
    "> <font color='blue'>Hint:</font> you know what the Nyquist frequency is, so you should have no problem to figure out the sampling rate\n",
    "\n",
    "\n",
    "After taking the acquisition compare the two signals, and answer the following questions:\n",
    "* Which signal frequencies have a different amplitude? \n",
    "* Which amplitudes are higher (unfiltered or filtered)?\n",
    "* Which frequencies are aliased?\n",
    "* Explain how a low pass filter can help against aliasing. \n"
   ]
  },
  {
   "cell_type": "code",
   "execution_count": null,
   "metadata": {},
   "outputs": [],
   "source": [
    "## your code, based on Analog Input DAQ and fourier transform\n",
    "\n",
    "#\n",
    "#put number of samples to 110 - so you measure 1 sec at least, you can try a bigger number, but be aware that it will lengthen\n",
    "# the time it takes the code to run\n",
    "\n",
    "# don't forget to add two Analog in channels, check the np.shape of your data afterwards\n",
    "# task.ai_channels.add_ai_voltage_chan(\"Dev1/ai0\")\n",
    "# task.ai_channels.add_ai_voltage_chan(\"Dev1/ai1\")\n",
    "# save the plots at the end\n",
    "\n",
    "# with Pillow you can automatically save images: plt.savefig('image'+str(set_freq)+'.jpg')\n",
    "# if receiving an error, do pip install Pillow in an Anaconda command window"
   ]
  },
  {
   "cell_type": "code",
   "execution_count": null,
   "metadata": {},
   "outputs": [],
   "source": [
    "### TO DO=\"your code to measure a single signal with nidaqmx\"\n"
   ]
  },
  {
   "cell_type": "code",
   "execution_count": null,
   "metadata": {},
   "outputs": [],
   "source": [
    "### TO DO =\"your answer to the reflecting questions, how the analog filter acts against aliasing\""
   ]
  },
  {
   "cell_type": "markdown",
   "metadata": {},
   "source": [
    "## COMPARE & CONCLUDE\n",
    "> <font color='grey'>⏳ Estimated time: 10 min</font>\n",
    "\n",
    "* Wait till all (4) group members finish their observation\n",
    "* Compare your results with your other group members. \n",
    "* If your results agree, and are in line with all predictions, then talk to a TA and get checked off\n",
    "* Otherwise, so if your results do not agree, or your results are not in line with your predictions, then first discuss amongst your group before getting a TA. \n",
    "\n",
    "\n",
    "Were your predictions correct? If not, discuss how to improve\n",
    "\n",
    "**to check off by a TA:**\n",
    "1. Discuss when aliasing occurs (before, during, after acquistion), and when the analog filter is anti-aliasing (also choose from before, during, after acquistion)\n",
    "2. Discuss whether you can consider a digital filter anti-aliasing\n",
    "3. exit card: 1. Write a brief abstract on what you learned (conclusion, useful graph), 2. Which troubleshooting skills do you want to remember for next sessions, 3. Which code do you copy for use in next sessions,\n",
    "4. How do think this notebook could be improved"
   ]
  },
  {
   "cell_type": "code",
   "execution_count": null,
   "metadata": {},
   "outputs": [],
   "source": [
    "#9A anti-aliasing\n",
    "### TO DO = \"1. when does aliasing occur\"\n",
    "\n",
    "### TO DO = 2. how to use digital filtering against aliasing\"\n",
    "\n",
    "### TO DO=\"3a. abstract\"\n",
    "\n",
    "### TO DO=\"3b. troubleshooting\"\n",
    "\n",
    "### TO DO=\"3c. code\"\n",
    "\n",
    "### TO DO=\"4. what changes would you suggest?\"\n"
   ]
  },
  {
   "cell_type": "markdown",
   "metadata": {},
   "source": [
    "* recording: https://www.youtube.com/watch?v=l-T0m7k9lXc\n"
   ]
  },
  {
   "cell_type": "code",
   "execution_count": null,
   "metadata": {},
   "outputs": [],
   "source": []
  }
 ],
 "metadata": {
  "celltoolbar": "Create Assignment",
  "jupytext": {
   "formats": "ipynb,md"
  },
  "kernelspec": {
   "display_name": "Alpaca Kernel",
   "language": "python",
   "name": "alpaca"
  },
  "language_info": {
   "codemirror_mode": {
    "name": "ipython",
    "version": 3
   },
   "file_extension": ".py",
   "mimetype": "text/x-python",
   "name": "python",
   "nbconvert_exporter": "python",
   "pygments_lexer": "ipython3",
   "version": "3.10.14"
  },
  "latex_envs": {
   "LaTeX_envs_menu_present": true,
   "autoclose": false,
   "autocomplete": true,
   "bibliofile": "biblio.bib",
   "cite_by": "apalike",
   "current_citInitial": 1,
   "eqLabelWithNumbers": true,
   "eqNumInitial": 1,
   "hotkeys": {
    "equation": "Ctrl-E",
    "itemize": "Ctrl-I"
   },
   "labels_anchors": false,
   "latex_user_defs": false,
   "report_style_numbering": false,
   "user_envs_cfg": false
  },
  "toc": {
   "base_numbering": 1,
   "nav_menu": {},
   "number_sections": true,
   "sideBar": true,
   "skip_h1_title": false,
   "title_cell": "Table of Contents",
   "title_sidebar": "Contents",
   "toc_cell": false,
   "toc_position": {},
   "toc_section_display": true,
   "toc_window_display": false
  }
 },
 "nbformat": 4,
 "nbformat_minor": 4
}
