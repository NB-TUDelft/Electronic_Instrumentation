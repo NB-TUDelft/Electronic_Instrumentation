{
 "cells": [
  {
   "cell_type": "code",
   "execution_count": null,
   "id": "13ba8612",
   "metadata": {},
   "outputs": [],
   "source": [
    "from IPython.core.display import HTML\n",
    "def set_width(width):\n",
    "    display(HTML(f\"\"\"<style>  \n",
    "            .container {{ width:{width}% !important; \n",
    "                            min-width:800px !important; margin: 0 auto}} \n",
    "            .jp-Cell {{ width:{width}% !important; \n",
    "                            min-width:800px !important; margin: 0 auto}} </style>\"\"\"))\n",
    "# Set container width to X% of the fullscreen \n",
    "set_width(50)"
   ]
  },
  {
   "cell_type": "markdown",
   "id": "a58dc6b8",
   "metadata": {},
   "source": [
   "# 6C: Whack-a-mole\n",
    "> <font color='blue'>Learning goal:</font> Use the Alpaca's digital signals to make a fun game: whack the mole. After exploring how the Alpaca's switches work, you will build this game in steps with incrasing difficulty, to end up with a inpredictable game with anti-cheating measures.\n ",
    "Structure of an experiment:\n",
    "- Anticipe + Stimulate (5+15+0): per person. This is homework and should be finished **before** you start your 4 hours practicum session\n",
    "- Implement + Investigate (5+65): with your partner(group of 2)\n",
    "- Compare + Conclude: with a group of 4(per table)"
   ]
  },
  {
   "cell_type": "markdown",
   "id": "62faf188",
   "metadata": {},
   "source": [
    "## BACKGROUND\n",
    "> <font color='grey'>⏳ Estimated time: 5 min</font>\n",
    "\n",
    " Whack the mole is a game, in which moles are popping up and you have to hit them with a hammer, before they go underground again. \n",
    "<img src=\"https://gitlab.tudelft.nl/mwdocter/nb2214-images/-/raw/main/PyDAQ-Next/PyNext2_2_WhackAMoleTech.jpg\" width=40%></img>\n",
    "Because your Alpaca doesn't have moles, nor hammers, you are going to replace them with leds (moles) and buttons (hammer). No destruction here. \n",
    "\n",
    "You already know how to use leds, but need a background on how exacly buttons work in Alpaca.\n",
    " When looking at the electonic scheme of the Alpaca, you should notice that (the output of) SW1&2 are on 5V when the switch is not pushed. Once the switch is pushed a connection through ground is established, and SW1&2 become 0V. As you can see on the scheme below, the 3rd button is more complicated. You will build a bit more extended circuit to be able to use switch 3 in your experiment.\n",
    " \n",
    "<img src=\"https://gitlab.tudelft.nl/mwdocter/nb2214-images/-/raw/main/PyDAQ-Next/PyNext2_1_pullup_brief.jpg\" width=60%></img>\n",
    "\n"
   ]
  },
  {
   "cell_type": "markdown",
   "id": "0227cf8b",
   "metadata": {},
   "source": [
    "## ANTICIPATE: elements you will need to program in\n",
    "> <font color='grey'>⏳ Estimated time: 10 min</font>\n",
    "\n",
    "Your game will need to utilize leds to represent moles and buttons to represent a hammer. You should also record the reaction time.\n",
    "\n",
    "You have three LEDs and three push buttons available as well as a buzzer. \n",
    "\n",
    "In order to be a more efficient programmer, you need to break the problem into smaller steps. \n",
    "* Which steps will you take, in order to step-by-step test your software and hardware? \n",
    "* How can you make your game less predictable? \n",
    "* How to discourage cheating on the game (like pressing the button, without looking at the LED or holding all the buttons down)?"
   ]
  },
  {
   "cell_type": "code",
   "execution_count": null,
   "id": "252186cb",
   "metadata": {},
   "outputs": [],
   "source": [
    "### TO DO =\"your step by step approach\"\n"
   ]
  },
  {
   "cell_type": "markdown",
   "id": "2bf39bbb",
   "metadata": {},
   "source": [
    "## SIMULATE\n",
    "> <font color='grey'>⏳ Estimated time: 0 min</font>\n",
    "\n",
    "no simulate => the preparation does not cost that much time, but the implementation cost much more. It would be wise to already start coding parts below. "
   ]
  },
  {
   "cell_type": "markdown",
   "id": "6900c184",
   "metadata": {},
   "source": [
    "Feel free to watch the precap video from 2022, in which you'll get an overview of all steps plus see the whack the mole demonstrated:\n",
    "* https://www.youtube.com/watch?v=HA-nz5xsPXI"
   ]
  },
  {
   "cell_type": "markdown",
   "id": "1d928f79",
   "metadata": {},
   "source": [
    "## IMPLEMENT & INVESTIGATE 1: See the button in action\n",
    "> <font color='grey'>⏳ Estimated time: 5 min</font>\n",
    "\n",
    "First you will see how the button works on its own\n",
    "* Connect *LED2C* to  *GND* \n",
    "* Connect *SW2* to *LED2A* (middle switch to middle LED)\n",
    "\n",
    "After making these connections, push and release the button a couple of times. \n",
    "* When pushed, is the light on or off?\n",
    "* Use this info in the next parts\n",
    "\n",
    "<img src=\"https://gitlab.tudelft.nl/mwdocter/nb2214-images/-/raw/main/PicoPI/6C_1_switch.jpg\" width=70%></img>\n",
    "\n",
    "> <font size=6>ℹ️</font>\n",
    ">\n",
    "> <font color='00a6ed'> \n",
    "> If you have connected the PicoPI with USB to your laptop, the LED light should be on. You should be able to switch it off by pressing the switch(button). \n"
   ]
  },
  {
   "cell_type": "markdown",
   "id": "f4673d84",
   "metadata": {},
   "source": [
    "## IMPLEMENT & INVESTIGATE 2: Build the game\n",
    "> <font color='grey'>⏳ Estimated time: 10+15+15+15+10 min</font>\n",
    "\n",
    "Combine your plan from Anticipate and steps below to create a working game of whack-a-mole\n",
    "\n",
    "### Step 1: PicoPI + Button Controlling One LED\n",
    "> <font color='grey'>⏳ Estimated time: 10 min</font>\n",
    "\n",
    "In this part you will turn one LED on via PicoPI, and you switch it off via pushing the corresponding switch. \n",
    "\n",
    ">switch a LED of as response to a switch\n",
    "* Disconnect *SW2* from *LED2A*\n",
    "* Connect *SW2* to *Din2*\n",
    "* Connect *LED2A* to *Dout2*\n",
    "* Run the code below twice:\n",
    "    * explore the relation between LED on/off in response to you pressing and releasing button 2\n",
    "    * explore the effect of `time.sleep` in and out the `if` statement. (by commenting either line 13 or 14)\n",
    "\n",
    "\n",
    "**remember to connect your alpaca(both cables) to your laptop**"
   ]
  },
  {
   "cell_type": "markdown",
   "id": "fc0d8e55",
   "metadata": {},
   "source": [
    "<details>\n",
    "  <summary>Detailed fritzing</summary>\n",
    "  <img src=\"https://gitlab.tudelft.nl/mwdocter/nb2214-images/-/raw/main/PicoPI/6C_2_switch+logics.jpg\" width=\"900\"/>\n",
    "</details>"
   ]
  },
  {
   "cell_type": "code",
   "execution_count": null,
   "id": "479cb6f9",
   "metadata": {},
   "outputs": [],
   "source": [
    "#%use micropython\n",
    "%serialconnect to --port=\"COM3\" \n",
    "#ADD COM PORT HERE, e.g. --port=\"COM4\""
   ]
  },
  {
   "cell_type": "code",
   "execution_count": null,
   "id": "8ec886af",
   "metadata": {},
   "outputs": [],
   "source": [
    "import machine # type: ignore\n",
    "import time\n",
    "\n",
    "# INITIALIZING THE PICO - the pins we will use to perform our measurement with\n",
    "from machine import Pin # type: ignore\n",
    "\n",
    "led = Pin(16, Pin.OUT)\n",
    "button = Pin(20, Pin.IN,  None) # options:None,Pin.PULL_UP, Pin.PULL_DOWN\n",
    "\n",
    "for ii in range(50):\n",
    "    if button.value(): #think about & test whether button value is 0 or 1 when pressed\n",
    "        led.toggle()\n",
    "        #time.sleep(0.2) #option 1: sleep in the if statement\n",
    "    time.sleep(0.2) # option 2: sleep outside the if statement\n",
    "    #print(ii, button.value()) #uncomment if you want to see what is happening\n",
    "print('done')\n",
    "led.value(0)"
   ]
  },
  {
   "cell_type": "code",
   "execution_count": null,
   "id": "b2194877",
   "metadata": {},
   "outputs": [],
   "source": [
    "# Can explain what is happening?\n",
    "# Can you comment on:\n",
    "# 1 whether the button value is high or low when pressed?\n",
    "# 2 the difference in behavior between sleep ...\n",
    "#              in and out the if statement (option1 or 2)\n",
    "\n",
    "### TO DO=\"your explanation what is happening\"\n"
   ]
  },
  {
   "cell_type": "markdown",
   "id": "394fade0",
   "metadata": {},
   "source": [
    "### Step 2: PicoPI + Button-Based LED Extinguishing\n",
    "> <font color='grey'>⏳ Estimated time: 15 min</font>\n",
    "\n",
    "In the earlier code the response of the program was different to what we want for Whack A Mole: it toggled the LED rather than permanently switching it off. Let's adapt the earlier code to get the behavior we want.\n",
    "\n",
    "* Switch on one LED \n",
    "* Turn the LED off, only when the switch is pressed.\n"
   ]
  },
  {
   "cell_type": "code",
   "execution_count": null,
   "id": "ca9b8d79",
   "metadata": {},
   "outputs": [],
   "source": [
    "import machine # type: ignore\n",
    "import time\n",
    "\n",
    "# INITIALIZING THE PICO - the pins we will use to perform our measurement with\n",
    "from machine import Pin # type: ignore\n",
    "\n",
    "led = Pin(16, Pin.OUT)\n",
    "button = Pin(20, Pin.IN,  None) # options:None,Pin.PULL_UP, Pin.PULL_DOWN\n",
    "sleep_time=0.01\n",
    "\n",
    "# switch the LED on (with either led.toggle() or led.value(0) or (1)\n",
    "led.\"__FILL_IN__\" #replace \"__FILL_IN__\" with the appropriate code\n",
    "\n",
    "# use a for loop to wait max 5 seconds\n",
    "for ii in range(...): # something with 5 (seconds) and sleep_time\n",
    "    if ...: #something with button.value(), should you check for 0V or 5V? Or just try and adapt later if needed.\n",
    "        break #end the for loop if the button is pressed\n",
    "    time.sleep(sleep_time)\n",
    "\n",
    "# don't forget to switch the LED off\n",
    "led.\"__FILL_IN__\" #replace \"__FILL_IN__\" with the appropriate code"
   ]
  },
  {
   "cell_type": "code",
   "execution_count": null,
   "id": "eafb2feb",
   "metadata": {},
   "outputs": [],
   "source": []
  },
  {
   "cell_type": "markdown",
   "id": "a605c291",
   "metadata": {},
   "source": [
    "> <font size=6>ℹ️</font>\n",
    "> \n",
    "> <font color='00a6ed'>\n",
    "> A lot of hints are already given in the comments above. Think critically about: \n",
    "> \n",
    "> * Is it smarter to use `led.toggle` or `led.value`? How do you make sure that the LED is switched off at the end of your code?\n",
    "> * Do you want to `break` at `button.value` high or low?\n"
   ]
  },
  {
   "cell_type": "code",
   "execution_count": null,
   "id": "9f337c85",
   "metadata": {},
   "outputs": [],
   "source": []
  },
  {
   "cell_type": "markdown",
   "id": "8e5ae9ad",
   "metadata": {},
   "source": [
    "After you verfied you can switch of a single LED with the above code, copy your above code and:\n",
    "1. add some randomness using the `random` module (wait a random time before switching on the led)\n",
    "2. record your reaction time\n",
    "\n",
    "Add the following functionalities: \n",
    "* randomly wait between 1-5 seconds \n",
    "* measure the reaction time\n",
    "* display the reaction time"
   ]
  },
  {
   "cell_type": "markdown",
   "id": "1d0b777f",
   "metadata": {},
   "source": [
    "> <font size=6>ℹ️</font>\n",
    "> \n",
    "> <font color='00a6ed'>\n",
    ">\n",
    "> time() works in seconds, random.random() generates a random number between 0 and 1. If you want to start at 1 second and have maximum value of 5 second, how do you need to scale random.random() using math operations ?\n",
    ">\n",
    "> time.ticks_ms is in miliseconds, so when you print the reaction time for that you might want to convert it to seconds.\n",
    "    It takes a timepoint - it does NOT start counting "
   ]
  },
  {
   "cell_type": "code",
   "execution_count": null,
   "id": "66489784",
   "metadata": {},
   "outputs": [],
   "source": [
    "import time\n",
    "import random\n",
    "\n",
    "from machine import Pin # type: ignore\n",
    "\n",
    "led = Pin(16, Pin.OUT)\n",
    "button = Pin(20, Pin.IN, None)\n",
    "sleep_time=0.01 # to be used in the loop\n",
    "\n",
    "# switch LED on after random 1-5 seconds\n",
    "time.sleep(...) #use random.random()\n",
    "\n",
    "start_time=time.ticks_ms() \n",
    "\n",
    "#enter your solution from above, starting with switching on the led\n",
    "\n",
    "# modify it to include time aquisition\n",
    "end_time= ... # again something with time.ticks_ms() \n",
    "reaction_time= ... #something with start and end time\n",
    "print('Your reaction time was ',reaction_time)"
   ]
  },
  {
   "cell_type": "code",
   "execution_count": null,
   "id": "21b9e612",
   "metadata": {},
   "outputs": [],
   "source": []
  },
  {
   "cell_type": "markdown",
   "id": "3f4752d0",
   "metadata": {},
   "source": [
    "## Step 3: PicoPI Button Control of Multiple LEDs\n",
    "\n",
    "> <font color='grey'>⏳ Estimated time: 15 min</font>\n",
    "\n",
    "Change the previous code to light up 1 out of 3 LEDS. Which LED is turned on should be decided at random.\n",
    "\n",
    "\n",
    "Implement the connection scheme mentioned below. Also already add the connections for later use of the buzzer. \n",
    "* Connect *SW1* to *Din1* (on the Cria), connect *LED3A* to *Dout1* and *LED3C* to *GND*\n",
    "* Place a 10k resistor in the breadboard. Connect one side to *+5V*, and the other side to *SW3B* and *Din3* (left switch to left LED, connect it on the breadboard) and connect *LED1A* to *Dout3*\n",
    "* Connect *Dout0* to *BUZZER*\n",
    "\n",
    "\n",
    "> <font size=6>ℹ️</font>\n",
    "> \n",
    "> <font color='00a6ed'>\n",
    ">\n",
    "> The following connections should be present on your board:\n",
    "> * *Dout1* - *LED3A*\n",
    "> * *Dout2 - LED2A*\n",
    "> * *Dout3 - LED1A*\n",
    "> * *LED1C - GND*\n",
    "> * *LED2C - GND*\n",
    "> * *LED 3C - GND*\n",
    "> * *SW3A - GND*\n",
    "> * *5V* - one end of resistor\n",
    "> * *Din3* - other end of resistor\n",
    "> * *SW3B*- other end of resistor\n",
    "> * *Din1 -SW1*\n",
    "> * *Din2- SW2*\n",
    "> * *Dout0*-*BUZZER*"
   ]
  },
  {
   "cell_type": "markdown",
   "id": "c5f793f8",
   "metadata": {},
   "source": [
    "<details>\n",
    "  <summary>Detailed fritzing</summary>\n",
    "  <img src=\"https://gitlab.tudelft.nl/mwdocter/nb2214-images/-/raw/main/PicoPI/6C_3_switch+logics_3chan.jpg\" width=\"900\"/>\n",
    "</details>"
   ]
  },
  {
   "cell_type": "markdown",
   "id": "7c8bf670",
   "metadata": {},
   "source": [
    "> <font size=6>ℹ️</font>\n",
    "> \n",
    "> <font color='00a6ed'>\n",
    ">\n",
    "> use random.randint(?,?) to choose which led you will switch on\n",
    ">   \n",
    "> In order to keep your code as short as possible, you can implement the random LED without altering your previous code. All you need is: \n",
    "> * Work with a general LED in the switching code (as before, the variable used was `led`), \n",
    "> * Before the switching code, define which random switch to this general LED variable (for example `led=ledB`).\n",
    "> * For testing each switch, you can run your code multiple times, OR temporarily overwrite which LED and switch you use. \n",
    "\n",
    "    First choose the led randomly, then wait the random time. It will make later step easier.\n",
    "    \n",
    "    Check if you connected the switches and leds correctly.\n",
    "    \n",
    "<font color='ff822d' size=6> 📝 <font> <font color='ff822d' size=4> **Todo**: <font>\n",
    "    \n",
    "* **Test your code**: Does every switch and LED behave the same? If not, check your connections and code.\n"
   ]
  },
  {
   "cell_type": "code",
   "execution_count": null,
   "id": "d5c0215f",
   "metadata": {},
   "outputs": [],
   "source": [
    "import machine # type: ignore\n",
    "import time\n",
    "import random\n",
    "\n",
    "from machine import Pin # type: ignore\n",
    "\n",
    "ledA = Pin(15, Pin.OUT)\n",
    "ledB = Pin(16, Pin.OUT)\n",
    "ledC = Pin(17, Pin.OUT)\n",
    "#ledC.value(0)\n",
    "buttonA = Pin(19, Pin.IN, None)\n",
    "buttonB = Pin(20, Pin.IN, None)\n",
    "buttonC = Pin(21, Pin.IN, None)\n",
    "\n",
    "#1. write code which randomly assigns led&button (from your previous code), to options A or B or C just above. \n",
    "#     depending on the option, you could say led=ledA, and then continue with the already written code\n",
    "#2. copy the code for a single LED+button from the previous exercise\n",
    "\n",
    "### TO DO=\"your code\"\n"
   ]
  },
  {
   "cell_type": "markdown",
   "id": "e72bb9e6",
   "metadata": {},
   "source": [
    "# Step 4: PicoPI Button Control of Multiple LEDs - repeatedly\n",
    "\n",
    "\n",
    "> <font color='grey'>⏳ Estimated time: 15 min</font>\n",
    "\n",
    "Now put your previous code in a loop, such that you would have to press a random LED 10 times. Also store the reaction_time value in an array `reaction_time`\n",
    "\n",
    "Finish coding the game for three LEDs and 10 random blinks."
   ]
  },
  {
   "cell_type": "code",
   "execution_count": null,
   "id": "4bb73120",
   "metadata": {},
   "outputs": [],
   "source": [
    "import machine # type: ignore\n",
    "import time\n",
    "import random\n",
    "\n",
    "from machine import Pin\n",
    "\n",
    "ledA = Pin(15, Pin.OUT)\n",
    "ledB = Pin(16, Pin.OUT)\n",
    "ledC = Pin(17, Pin.OUT)\n",
    "#ledC.value(0)\n",
    "buttonA = Pin(19, Pin.IN, None)\n",
    "buttonB = Pin(20, Pin.IN, None)\n",
    "buttonC = Pin(21, Pin.IN, None)\n",
    "\n",
    "reaction_time=[]\n",
    "# list & array debacle - as you can see, reaction_time is a list now, if you prefer working on an array, change the line of code above\n",
    "\n",
    "\n",
    "# here paste the code you created above and modify it so you save the reaction time in the array/list and it plays 10 times\n",
    "### TO DO=\"your code\"\n",
    "\n",
    "print('Your reaction times are ', reaction_time) \n",
    "print('Your average reaction time is ',sum(reaction_time)/len(reaction_time))"
   ]
  },
  {
   "cell_type": "markdown",
   "id": "9cdb0862",
   "metadata": {},
   "source": [
    "> <font size=6>ℹ️</font>\n",
    "> \n",
    "> <font color='00a6ed'>\n",
    "> for adding new entrys to the list use list.append(??) and replace 'list' with the name od your list"
   ]
  },
  {
   "cell_type": "markdown",
   "id": "bc949064",
   "metadata": {},
   "source": [
    "## Step 5: The End of the Game and Warning for Fraud\n",
    "\n",
    "\n",
    "> <font color='grey'>⏳ Estimated time: 10 min</font>\n",
    "\n",
    "Signal the end of the game by making all 3 leds blink 3 times in unison.\n",
    "\n",
    "Make sure that you cannot cheat the game by continuously pressing the button even before the LED lights up. You can resolve this be checking if the button is not pressed before you start the random wait time. If it is pressed (too early), let the buzzer sound for one second, print a warning on screen and set the measured reaction time to 5 seconds as punishment!\n",
    "\n",
    "Test and enjoy your whack the mole game. Feel free to test whether you are faster with your left or right hand. \n",
    "\n",
    "Remember that the buzzer is pretty loud and annoying, so don't overdo it!\n"
   ]
  },
  {
   "cell_type": "code",
   "execution_count": null,
   "id": "6f53591e",
   "metadata": {},
   "outputs": [],
   "source": [
    "##buzzer code for you\n",
    "from machine import Pin # type: ignore\n",
    "import time\n",
    "\n",
    "buzzer= Pin(14, Pin.OUT)\n",
    "\n",
    "buzzer.value(1)\n",
    "time.sleep(1)\n",
    "buzzer.value(0)\n",
    "    "
   ]
  },
  {
   "cell_type": "code",
   "execution_count": null,
   "id": "e12d7d38",
   "metadata": {},
   "outputs": [],
   "source": [
    "import machine # type: ignore\n",
    "import time\n",
    "import random\n",
    "\n",
    "from machine import Pin # type: ignore\n",
    "\n",
    "buzzer= Pin(14, Pin.OUT)\n",
    "ledA = Pin(15, Pin.OUT)\n",
    "ledB = Pin(16, Pin.OUT)\n",
    "ledC = Pin(17, Pin.OUT)\n",
    "#ledC.value(0)\n",
    "buttonA = Pin(19, Pin.IN, None)\n",
    "buttonB = Pin(20, Pin.IN, None)\n",
    "buttonC = Pin(21, Pin.IN, None)\n",
    "\n",
    "reaction_time=[]\n",
    "\n",
    "### TO DO=\"your code\"\n",
    "\n",
    "\n",
    "print('Your average reaction time is ',sum(reaction_time)/len(reaction_time))     "
   ]
  },
  {
   "cell_type": "markdown",
   "id": "35cf5db6",
   "metadata": {},
   "source": [
    "## COMPARE & CONCLUDE\n",
    "> <font color='grey'>⏳ Estimated time: 5 min</font>\n",
    "\n",
    "* Wait till all (4) group members finish their observation\n",
    "* Compare your results with your other group members. \n",
    "* If your results agree, and are in line with all predictions, then talk to a TA and get checked off\n",
    "* Otherwise, so if your results do not agree, or your results are not in line with your predictions, then first discuss amongst your group before getting a TA. \n",
    "\n",
    "\n",
    "**to be checked off by a TA:**\n",
    "1. let the TA enjoy your game (or you playing the game), reflect how all the features are implemented\n",
    "2. exit card: 1. Write a brief abstract on what you learned (conclusion, useful graph), 2. Which troubleshooting skills do you want to remember for next sessions, 3. Which code do you copy for use in next sessions,\n",
    "3. How do think this notebook could be improved"
   ]
  },
  {
   "cell_type": "code",
   "execution_count": null,
   "id": "cba6e0ad",
   "metadata": {},
   "outputs": [],
   "source": [
    "#6C Whack a mole\n",
    "### TO DO=\"1. reflect: how did you manage to get implement all required features?\" \n",
    "\n",
    "### TO DO=\"2a. abstract\"\n",
    "\n",
    "### TO DO=\"2b. troubleshooting\"\n",
    "\n",
    "### TO DO=\"2c. code\"\n",
    "\n",
    "### TO DO=\"3. what changes would you suggest?\"\n"
   ]
  },
  {
   "cell_type": "code",
   "execution_count": null,
   "id": "cf45df80",
   "metadata": {},
   "outputs": [],
   "source": [
    "%rebootdevice\n",
    "%disconnect"
   ]
  }
 ],
 "metadata": {
  "kernelspec": {
   "display_name": "Alpaca Kernel",
   "language": "python",
   "name": "alpaca"
  },
  "language_info": {
   "codemirror_mode": {
    "name": "ipython",
    "version": 3
   },
   "file_extension": ".py",
   "mimetype": "text/x-python",
   "name": "python",
   "nbconvert_exporter": "python",
   "pygments_lexer": "ipython3",
   "version": "3.10.14"
  }
 },
 "nbformat": 4,
 "nbformat_minor": 5
}
