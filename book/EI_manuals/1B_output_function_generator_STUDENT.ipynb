{
 "cells": [
  {
   "cell_type": "markdown",
   "metadata": {},
   "source": [
    "<div class=\"alert alert-block alert-info\">\n",
    "\n",
    "**Accessibility of the notebook:**\n",
    "- You can adjust the width of the text with the function provided below. Copy it into a new code cell and execute it using the `ipykernel`.\n",
    "    ```python\n",
    "    from IPython.core.display import HTML\n",
    "    def set_width(width):\n",
    "        display(HTML(f\"\"\"<style>  \n",
    "                .container {{ width:{width}% !important; \n",
    "                                min-width:800px !important; margin: 0 auto}} \n",
    "                .jp-Cell {{ width:{width}% !important; \n",
    "                                min-width:800px !important; margin: 0 auto}} </style>\"\"\"))\n",
    "    # Set container width to X% of the fullscreen \n",
    "    set_width(50)\n",
    "    ```\n",
    "- You can toggle the auto-numbering of the sections in the outline toolbox (sidebar or topbar).\n",
    "- You can toggle the code line numbers in the dropdown menu of the \"view\" button in the topbar. \n",
    "- You can collapse/expand a cell by clicking the blue bar on the left side of the cell.\n",
    "\n",
    "</div> "
   ]
  },
  {
   "cell_type": "code",
   "execution_count": null,
   "metadata": {},
   "outputs": [],
   "source": [
    "from IPython.core.display import HTML\n",
    "def set_width(width):\n",
    "    display(HTML(f\"\"\"<style>  \n",
    "            .container {{ width:{width}% !important; \n",
    "                            min-width:800px !important; margin: 0 auto}} \n",
    "            .jp-Cell {{ width:{width}% !important; \n",
    "                            min-width:800px !important; margin: 0 auto}} </style>\"\"\"))\n",
    "# Set container width to X% of the fullscreen \n",
    "set_width(50)"
   ]
  },
  {
   "cell_type": "markdown",
   "metadata": {},
   "source": [
    "Experiments of this week:\n",
    "-   experiment 1A: Work with a digital multimeter to measure a voltage divider\n",
    "-   experiment 1B: Use a function generator to vary the voltage on the load resistance\n",
    "-   experiment 1C: Design voltage dividers with LTSpice to change the output voltage\n",
    "\n",
    "Goal: learn how to use function generator, digital multimeter and voltage dividers to measure and control circuits\n",
    "\n",
    "Structure + Timing of this experiment: \n",
    "BASIC = background, anticipate, simulate, implement & investigate, compare&conclude\n",
    "- 28 (8+10+10) min background+anticipate     : per person. This is homework: finish it before the 4 hours practicum session\n",
    "- 55 (15+15+5+20) min implement & investigate: with partner (group of 2)\n",
    "- 10 min compare&conclude                    : with group of 4 (per table)"
   ]
  },
  {
   "cell_type": "markdown",
   "metadata": {},
   "source": [
    "# 1B: Function generator load resistance\n",
    "\n",
    "><font color='blue'>Learning goal:</font>\n",
    "Understand how to connect the function generator, use the proper settings, and measure quantities such as the voltage.\n",
    "\n",
    "## Background\n",
    "> <font color='grey'>⏳ Estimated time: 8 min</font>\n",
    "\n",
    "A function generator is an electronic instrument that generates electrical signals of different waveforms. The most common signals produced are the sine, triangle, square and sawtooth shapes. With this instrument, it is possible to set the amplitude and frequency or your signal to any value in the operation range of the generator. The function generator used in this course has a frequency range of 1 µHz to 20 MHz for sinusoidal waves and an amplitude range of 10 mVpp to 10 Vpp. \n",
    "<img src=\"https://gitlab.tudelft.nl/mwdocter/nb2214-images/-/raw/main/ELC/ELC2a%20function%20generator.jpg\" width=50%></img>\n",
    "\n",
    "> __<font color='blue'>Hint:</font>__ don't forget to switch the output on!\n",
    "\n",
    "Watch the following movie clip for an introduction to the function generator"
   ]
  },
  {
   "cell_type": "code",
   "execution_count": 1,
   "metadata": {},
   "outputs": [
    {
     "data": {
      "image/jpeg": "[encoded data removed]",
      "text/html": [
       "\n",
       "        <iframe\n",
       "            width=\"600\"\n",
       "            height=\"450\"\n",
       "            src=\"https://www.youtube.com/embed/sig0sRyqE1M\"\n",
       "            frameborder=\"0\"\n",
       "            allowfullscreen\n",
       "            \n",
       "        ></iframe>\n",
       "        "
      ],
      "text/plain": [
       "<IPython.lib.display.YouTubeVideo at 0x1d1a519bb80>"
      ]
     },
     "execution_count": 1,
     "metadata": {},
     "output_type": "execute_result"
    }
   ],
   "source": [
    "## SCR-function generator\n",
    "from IPython.lib.display import YouTubeVideo\n",
    "YouTubeVideo('sig0sRyqE1M', width = 600, height = 450)"
   ]
  },
  {
   "cell_type": "markdown",
   "metadata": {},
   "source": [
    "## Anticipate 1: Distinguish Vpp, Vp, Vrms\n",
    "> <font color='grey'>⏳ Estimated time: 10 min</font>\n",
    "\n",
    "While generating a sine wave, the DMM is most often set to Vpp (=Volt peak-peak). The DMM measures the Vrms (=Volt root-mean-square).  \n",
    "\n",
    "> From a sine wave with amplitude (=Vp=Volt peak) of 1 V, the Vpp is 2V. The Vrms is the continuous DC signal having the same power as the time-varying AC signal, the quadratic mean. The Vrms is 1/sqrt(2)=0.71 V.  \n",
    "\n",
    "- The function generator generates the signal below. Derive the amplitude of the signal in Vrms, Vp and Vpp. Also derive the frequency:\n",
    "\n",
    "<img src=\"https://gitlab.tudelft.nl/mwdocter/nb2214-images/-/raw/main/ELC/ELC2b%20Vpp%20Vp%20Vrms.jpg\" width=50%></img>\n",
    "\n",
    "\n"
   ]
  },
  {
   "cell_type": "code",
   "execution_count": null,
   "metadata": {},
   "outputs": [],
   "source": [
    "#TO DO: what are Vrms, Vp, Vpp, and frequency of the above signal"
   ]
  },
  {
   "cell_type": "markdown",
   "metadata": {},
   "source": [
    "For more information on Vpp, Vp and Vrms, please watch:"
   ]
  },
  {
   "cell_type": "code",
   "execution_count": 1,
   "metadata": {},
   "outputs": [
    {
     "data": {
      "text/html": [
       "<video src=\"https://mediaplayer.pearsoncmg.com/assets/58_atE_dMfrjlBJXwgUu6CfZ4iDEgeMO\" controls  width=\"600\"  height=\"450\">\n",
       "      Your browser does not support the <code>video</code> element.\n",
       "    </video>"
      ],
      "text/plain": [
       "<IPython.core.display.Video object>"
      ]
     },
     "execution_count": 1,
     "metadata": {},
     "output_type": "execute_result"
    }
   ],
   "source": [
    "## storey:sine wave, visit https://mediaplayer.pearsoncmg.com/assets/58_atE_dMfrjlBJXwgUu6CfZ4iDEgeMO\n",
    "\n",
    "# from IPython.display import Video\n",
    "# Video('https://mediaplayer.pearsoncmg.com/assets/58_atE_dMfrjlBJXwgUu6CfZ4iDEgeMO', width = 600, height = 450)"
   ]
  },
  {
   "cell_type": "markdown",
   "metadata": {},
   "source": [
    "## Anticipate 2: Solve how to deal with a range of LOAD resistors\n",
    "> <font color='grey'>⏳ Estimated time: 10 min</font>\n",
    "\n",
    "The DMM can be seen as ideal voltage source, with an internal resistance (inside the device). The generated voltage is then divided over the (fixed) internal and the external resistor (termed LOAD resistor; outside the device). \n",
    "- Come up with a (qualitative) solution how the function generator (with internal resistor) can work with a wide range of LOAD resistors, for example 50 Ω and 10 MΩ. \n",
    "\n",
    "<img src=\"https://gitlab.tudelft.nl/mwdocter/nb2214-images/-/raw/main/ELC/ELC1b%20function%20generator%20-%20load%20resistor.jpg\" width=30%></img>"
   ]
  },
  {
   "cell_type": "code",
   "execution_count": 3,
   "metadata": {},
   "outputs": [],
   "source": [
    "## TO DO ; your answers here: \n",
    "#1. what is the Vrms, Vp and Vpp of the signal\n",
    "\n",
    "#2. How can you let a function generator (with internal resistor) work over a large range of load resistors?\n",
    "\n"
   ]
  },
  {
   "cell_type": "markdown",
   "metadata": {},
   "source": [
    "Before starting the measurements, feel free to watch a brief overview on what you'll be doing\n",
    "\n"
   ]
  },
  {
   "cell_type": "code",
   "execution_count": 3,
   "metadata": {},
   "outputs": [
    {
     "data": {
      "image/jpeg": "[encoded data removed]",
      "text/html": [
       "\n",
       "        <iframe\n",
       "            width=\"600\"\n",
       "            height=\"450\"\n",
       "            src=\"https://www.youtube.com/embed/Wvbk_qMJ2kE\"\n",
       "            frameborder=\"0\"\n",
       "            allowfullscreen\n",
       "            \n",
       "        ></iframe>\n",
       "        "
      ],
      "text/plain": [
       "<IPython.lib.display.YouTubeVideo at 0x1d1a51b0f40>"
      ]
     },
     "execution_count": 3,
     "metadata": {},
     "output_type": "execute_result"
    }
   ],
   "source": [
    "### precap ELC2\n",
    "\n",
    "from IPython.lib.display import YouTubeVideo\n",
    "YouTubeVideo('Wvbk_qMJ2kE', width = 600, height = 450)"
   ]
  },
  {
   "cell_type": "markdown",
   "metadata": {},
   "source": [
    "## Simulate\n",
    "> <font color='grey'>⏳ Estimated time: 0 min</font>\n",
    "\n",
    "No simulation yet, not until you get properly introduced to LTSpice"
   ]
  },
  {
   "cell_type": "markdown",
   "metadata": {},
   "source": [
    "## Implement & investigate 1: Measure the Vrms with the DMM\n",
    "> <font color='grey'>⏳ Estimated time: 15 min</font>\n",
    "\n",
    "As shown in the diagram below:\n",
    "* connect the output of the function generator to both the **DMM** and to **test board 1** (making use of a BNC T-connector).\n",
    "\n",
    "> the BNC connector, and attached coax cable, have two signals. The signal line (inner core of the coax cable) is equivalent to the red wire from the previous exercise. The outer shielding is equivalent to the black wire/ COM. You therefore connect 1 wire, with 2 signal lines. \n",
    "\n",
    "* Do not connect the BNC connector to any other components on the test board. \n",
    "* Activate the function generator’s output by pressing OUTPUT.\n",
    "* Program the function generator to generate a sine wave of 1kHz and amplitude 2V\n",
    "    * set the amplitude to 2 Vrms and measure the voltage with the DMM.\n",
    "<img src=\"https://gitlab.tudelft.nl/mwdocter/nb2214-images/-/raw/main/ELC/ELC2c%20output%20function%20generator.jpg\" width=30%></img>\n",
    "\n",
    "**Questions to answer**:\n",
    "1. Confirm which type of voltage (Vpp, Vp or Vrms) is measured by the DMM\n",
    "2. If you input 2 Vrms, does the DMM measure 2 Vrms? \n",
    "3. Can you already explain why 2 Vrms from the function generator might not be measured as 2 Vrms by the DMM? \n",
    "> At this point: don't worry too much about a possible discrepancy. Please continue - we will investigate further. "
   ]
  },
  {
   "cell_type": "code",
   "execution_count": 4,
   "metadata": {},
   "outputs": [],
   "source": [
    "### TO DO=\"your answers\"\n",
    "\n"
   ]
  },
  {
   "cell_type": "markdown",
   "metadata": {},
   "source": [
    "\n",
    "##  Implement & investigate 2: For which rotary switch setting do you measure the correct Vrms?\n",
    "> <font color='grey'>⏳ Estimated time: 15 min</font>\n",
    "\n",
    "* Keep the function generator's output on 2Vrms \n",
    "* Connect the rotary switch, a big black turning knob with 12 numbered positions, (SW1) to the BNC. \n",
    "* Make sure to form a closed circuit: \n",
    "    - use a red wire to go from the signal line of the BNC connector (U30) to the rotary switch (U20)\n",
    "    - don't forget to connect the BNC's COM (U35) to the other side of the rotary switch\n",
    "* Measure the voltage over the rotary switch, with the already connected DMM.\n",
    "* Find the setting (and resistance value) of the switch, for which the voltage measured by the DMM most correct?\n",
    "\n",
    "<img src=\"https://gitlab.tudelft.nl/mwdocter/nb2214-images/-/raw/main/ELC/ELC%20coax%20connectors.JPG\" width=30%></img>\n",
    "\n",
    "\n",
    ">**<font color='blue'>Hint:</font>**\n",
    "Just measure the Vrms at different Rs as specified by the rotor.\n",
    "The layout plus values of testboard components can be found on Brightspace, in the document 'Testboard layouts and component values'. THE LAYOUT ABOVE DOES NOT CONTAIN THE RIGHT VALUES FOR THE ROTARY SWITCH"
   ]
  },
  {
   "cell_type": "code",
   "execution_count": 5,
   "metadata": {},
   "outputs": [],
   "source": [
    "### TO DO=\" your answer: switch setting .... with resistance value ....\"\n",
    "\n",
    "\n"
   ]
  },
  {
   "cell_type": "markdown",
   "metadata": {},
   "source": [
    "##  Implement & investigate 3: Observe the influence of DC offset on the measured Vrms\n",
    "> <font color='grey'>⏳ Estimated time: 5 min</font>\n",
    "\n",
    "* What happens to the measured voltage, when changing the DC offset of the sine wave (at the function generator)?\n",
    "* Put the DC offset back to 0V.\n",
    "\n"
   ]
  },
  {
   "cell_type": "code",
   "execution_count": 6,
   "metadata": {},
   "outputs": [],
   "source": [
    "### TO DO=\" your answer: changing the DC offset of the sine wave leads to ....... in the measured voltage \"\n",
    "\n"
   ]
  },
  {
   "cell_type": "markdown",
   "metadata": {},
   "source": [
    "##  Implement & investigate 4: Determine correct use of the output setup\n",
    "> <font color='grey'>⏳ Estimated time: 20 min</font>\n",
    "\n",
    "If you know the value of the load resistance, you can use the setting called 'output setup'. This setting will internally switch the voltage supplied with a factor of 2, and allows to deal with a variation of LOAD resistors. \n",
    ">* for HIGH Z the function generator assumes an infinite load resistance (for example a DMM). \n",
    ">* default (e.g. upon startup), the generator assumes that the load resistance is 50 Ω (for example the rotary switch)\n",
    "\n",
    "The load setting can be found at the function generator under UTILITY / OUTPUT SETUP, and then select 50 Ω / HIGH Z or LOAD. \n",
    "* Do a correct measurement with the testboard connected. \n",
    "  - Which LOAD setting should you use? Write down this setting, the Vrms of both function generator and DMM. \n",
    "* Disconnect the coax cable from the testboard. \n",
    "  - Again: Which LOAD setting should you use? Write down this setting, the Vrms of both function generator and DMM.  \n",
    "\n",
    "> **<font color='blue'>__Hint:__ </font>**\n",
    "The OUTPUT SETUP is related to the resistance that is present in the circuit you're measuring.\n",
    "Think about ALL the components that are in your circuit (... these include the measuring devices).\n",
    "What is the correct setting? Do you indeed measure the correct voltage?\n",
    "\n",
    "**Hence, to be sure of the actual signal amplitude, you should always measure it. Keep this in mind during all exercises!**"
   ]
  },
  {
   "cell_type": "code",
   "execution_count": 7,
   "metadata": {},
   "outputs": [],
   "source": [
    "### TO DO=\"the correct load setting for the testboard connected and disconnected\"\n",
    "\n"
   ]
  },
  {
   "cell_type": "markdown",
   "metadata": {},
   "source": [
    "> **<font color=red> Optional challenge (exam question)</font>** <br>\n",
    "> - Predict the measured value for an 1 Vrms output on 50 Ω actual load, while the OUTPUT SETUP is set to high. <br>\n",
    "> - Predict the measured value for an 1 Vrms output on actual high load, while the OUTPUT SETUP is set to 50 Ω . <br> <br>\n",
    "> Note: red colored additional challenges are not mandatory, but serve as extra challenge. You can also verify the answers of these additional challenges with the TA"
   ]
  },
  {
   "cell_type": "code",
   "execution_count": null,
   "metadata": {},
   "outputs": [],
   "source": [
    "### TO DO=\"optional: your prediction for measurements with a mismatched load setting\"\n"
   ]
  },
  {
   "cell_type": "markdown",
   "metadata": {},
   "source": [
    "##  Compare & Conclude: per group of 4\n",
    "> <font color='grey'>⏳ Estimated time: 10 min</font>\n",
    "\n",
    "* Wait till all (4) group members finish their observation\n",
    "* Compare your results with your other group members. \n",
    "* If your results agree, and are in line with all predictions, then talk to a TA and get checked off\n",
    "* Otherwise, so if your results do not agree, or your results are not in line with your predictions, then first discuss amongst your group before getting a TA. \n",
    "\n",
    "**to be checked off by a TA:**\n",
    "1. Explain how the function generator is able to deal with a large range of load resistors.\n",
    "2. exit card: 1. Write a brief abstract on what you learned (conclusion, useful graph), 2. Which troubleshooting skills do you want to remember for next sessions, 3. Which code do you copy for use in next sessions,\n",
    "3. How do think this notebook could be improved\n"
   ]
  },
  {
   "cell_type": "code",
   "execution_count": 8,
   "metadata": {},
   "outputs": [],
   "source": [
    "#1B function generator output\n",
    "### TO DO=\"1. your explanation, to be checked by the TA. DON'T FORGET TO WRITE IT DOWN!\"\n",
    "\n",
    "### TO DO=\"2a. abstract\"\n",
    "\n",
    "### TO DO=\"2b. troubleshooting\"\n",
    "\n",
    "### TO DO=\"2c. code\"\n",
    "\n",
    "### TO DO=\"3. what changes would you suggest?\"\n"
   ]
  },
  {
   "cell_type": "markdown",
   "metadata": {},
   "source": [
    "If you got stuck during the measurement, at the end of the lab assignment we offer you a movie clip with our recorded efforts in the lab. If you were successfull with measuring, then skip this movie clip"
   ]
  },
  {
   "cell_type": "code",
   "execution_count": 7,
   "metadata": {},
   "outputs": [
    {
     "data": {
      "text/html": [
       "\n",
       "        <iframe\n",
       "            width=\"600\"\n",
       "            height=\"450\"\n",
       "            src=\"https://www.youtube.com/embed/VZgE8SF8r84\"\n",
       "            frameborder=\"0\"\n",
       "            allowfullscreen\n",
       "            \n",
       "        ></iframe>\n",
       "        "
      ],
      "text/plain": [
       "<IPython.lib.display.YouTubeVideo at 0x1d1a51b6bb0>"
      ]
     },
     "execution_count": 7,
     "metadata": {},
     "output_type": "execute_result"
    }
   ],
   "source": [
    "## recording ELC2\n",
    "\n",
    "from IPython.lib.display import YouTubeVideo\n",
    "YouTubeVideo('VZgE8SF8r84', width = 600, height = 450)"
   ]
  },
  {
   "cell_type": "code",
   "execution_count": null,
   "metadata": {},
   "outputs": [],
   "source": []
  }
 ],
 "metadata": {
  "celltoolbar": "Create Assignment",
  "kernelspec": {
   "display_name": "Python 3 (ipykernel)",
   "language": "python",
   "name": "python3"
  },
  "language_info": {
   "codemirror_mode": {
    "name": "ipython",
    "version": 3
   },
   "file_extension": ".py",
   "mimetype": "text/x-python",
   "name": "python",
   "nbconvert_exporter": "python",
   "pygments_lexer": "ipython3",
   "version": "3.10.14"
  },
  "latex_envs": {
   "LaTeX_envs_menu_present": true,
   "autoclose": false,
   "autocomplete": true,
   "bibliofile": "biblio.bib",
   "cite_by": "apalike",
   "current_citInitial": 1,
   "eqLabelWithNumbers": true,
   "eqNumInitial": 1,
   "hotkeys": {
    "equation": "Ctrl-E",
    "itemize": "Ctrl-I"
   },
   "labels_anchors": false,
   "latex_user_defs": false,
   "report_style_numbering": false,
   "user_envs_cfg": false
  },
  "toc": {
   "base_numbering": 1,
   "nav_menu": {},
   "number_sections": true,
   "sideBar": true,
   "skip_h1_title": false,
   "title_cell": "Table of Contents",
   "title_sidebar": "Contents",
   "toc_cell": false,
   "toc_position": {},
   "toc_section_display": true,
   "toc_window_display": false
  }
 },
 "nbformat": 4,
 "nbformat_minor": 4
}
