  {
   "cell_type": "code",
   "execution_count": null,
   "metadata": {},
   "outputs": [],
   "source": [
    "from IPython.core.display import HTML\n",
    "def set_width(width):\n",
    "    display(HTML(f\"\"\"<style>  \n",
    "            .container {{ width:{width}% !important; \n",
    "                            min-width:800px !important; margin: 0 auto}} \n",
    "            .jp-Cell {{ width:{width}% !important; \n",
    "                            min-width:800px !important; margin: 0 auto}} </style>\"\"\"))\n",
    "# Set container width to X% of the fullscreen \n",
    "set_width(50)"
   ]
  },
  {
   "cell_type": "markdown",
   "metadata": {},
   "source": [
    "Experiments of this week:\n",
    "-   experiment 1A: Work with a digital multimeter to measure a voltage divider\n",
    "-   experiment 1B: Use a function generator to vary the voltage on the load resistance\n",
    "-   experiment 1C: Design voltage dividers with LTSpice to change the output voltage\n",
    "\n",
    "Goal: learn how to use function generator, digital multimeter and voltage dividers to measure and control circuits\n",
    "\n",
    "Structure + Timing of this experiment: \n",
    "BASIC = background, anticipate, simulate, implement & investigate, compare&conclude\n",
    "- 28 (8+10+10) min background+anticipate     : per person. This is homework: finish it before the 4 hours practicum session\n",
    "- 55 (15+15+5+20) min implement & investigate: with partner (group of 2)\n",
    "- 10 min compare&conclude                    : with group of 4 (per table)"
   ]
  },
  {
   "cell_type": "markdown",
   "metadata": {},
   "source": [
    "# 1B: Function generator load resistance\n",
    "\n",
    "><font color='blue'>Learning goal:</font>\n",
    "Understand how to connect the function generator, use the proper settings, and measure quantities such as the voltage.\n",
    "\n",
    "## Background\n",
    "> <font color='grey'>⏳ Estimated time: 8 min</font>\n",
    "\n",
    "A function generator is an electronic instrument that generates electrical signals of different waveforms. \n",
    "\n",
    "Have a look at the introduction to the function generator:\n",
    "https://mwdocter.github.io/TeachBook/main/EI_manuals/intro_function_generator.html"
   ]
  },
  {
   "cell_type": "markdown",
   "metadata": {},
   "source": [
    "## Anticipate 1: Distinguish Vpp, Vp, Vrms\n",
    "> <font color='grey'>⏳ Estimated time: 10 min</font>\n",
    "\n",
    "While generating a sine wave, the DMM is most often set to Vpp (=Volt peak-peak). The DMM measures the Vrms (=Volt root-mean-square).  \n",
    "\n",
    "> From a sine wave with amplitude (=Vp=Volt peak) of 1 V, the Vpp is 2V. The Vrms is the continuous DC signal having the same power as the time-varying AC signal, the quadratic mean. The Vrms is 1/sqrt(2)=0.71 V.  \n",
    "\n",
    "- The function generator generates the signal below. Derive the amplitude of the signal in Vrms, Vp and Vpp. Also derive the frequency:\n",
    "\n",
    "<img src=\"https://gitlab.tudelft.nl/mwdocter/nb2214-images/-/raw/main/ELC/ELC2b%20Vpp%20Vp%20Vrms.jpg\" width=50%></img>\n",
    "\n",
    "\n"
   ]
  },
  {
   "cell_type": "code",
   "execution_count": null,
   "metadata": {},
   "outputs": [],
   "source": [
    "#TO DO: what are Vrms, Vp, Vpp, and frequency of the above signal"
   ]
  },
  {
   "cell_type": "markdown",
   "metadata": {},
   "source": [
    "For more information on Vpp, Vp and Vrms, please watch:"
   ]
  },
  {
   "cell_type": "code",
   "execution_count": 1,
   "metadata": {},
   "outputs": [
    {
     "data": {
      "text/html": [
       "<video src=\"https://mediaplayer.pearsoncmg.com/assets/58_atE_dMfrjlBJXwgUu6CfZ4iDEgeMO\" controls  width=\"600\"  height=\"450\">\n",
       "      Your browser does not support the <code>video</code> element.\n",
       "    </video>"
      ],
      "text/plain": [
       "<IPython.core.display.Video object>"
      ]
     },
     "execution_count": 1,
     "metadata": {},
     "output_type": "execute_result"
    }
   ],
   "source": [
    "## storey:sine wave, visit https://mediaplayer.pearsoncmg.com/assets/58_atE_dMfrjlBJXwgUu6CfZ4iDEgeMO\n",
    "\n",
    "# from IPython.display import Video\n",
    "# Video('https://mediaplayer.pearsoncmg.com/assets/58_atE_dMfrjlBJXwgUu6CfZ4iDEgeMO', width = 600, height = 450)"
   ]
  },
  {
   "cell_type": "markdown",
   "metadata": {},
   "source": [
    "## Anticipate 2: Solve how to deal with a range of LOAD resistors\n",
    "> <font color='grey'>⏳ Estimated time: 10 min</font>\n",
    "\n",
    "The function generator can be seen as ideal voltage source, with an internal resistance (inside the device). The generated voltage is then divided over the (fixed) internal and the external resistor (termed LOAD resistor). This inlcudes everything inside the circuit that you attach to the function generator. \n",
    "- Come up with a (qualitative) solution how the function generator (with internal resistor) can work with a wide range of LOAD resistors, for example 50 Ω and 10 MΩ. \n",
    "\n",
    "<img src=\"https://gitlab.tudelft.nl/mwdocter/nb2214-images/-/raw/main/ELC/ELC1b%20function%20generator%20-%20load%20resistor.jpg\" width=30%></img>"
   ]
  },
  {
   "cell_type": "code",
   "execution_count": 3,
   "metadata": {},
   "outputs": [],
   "source": [
    "## TO DO ; your answers here: \n",
    "#1. what is the Vrms, Vp and Vpp of the signal\n",
    "\n",
    "#2. How can you let a function generator (with internal resistor) work over a large range of load resistors?\n",
    "\n"
   ]
  },
  {
   "cell_type": "markdown",
   "metadata": {},
   "source": [
    "Before starting the measurements, feel free to watch a brief overview on what you'll be doing\n",
    "\n"
   ]
  },
  {
   "cell_type": "code",
   "execution_count": 3,
   "metadata": {},
   "outputs": [
    {
     "data": {
      "image/jpeg": "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",
      "text/html": [
       "\n",
       "        <iframe\n",
       "            width=\"600\"\n",
       "            height=\"450\"\n",
       "            src=\"https://www.youtube.com/embed/Wvbk_qMJ2kE\"\n",
       "            frameborder=\"0\"\n",
       "            allowfullscreen\n",
       "            \n",
       "        ></iframe>\n",
       "        "
      ],
      "text/plain": [
       "<IPython.lib.display.YouTubeVideo at 0x1d1a51b0f40>"
      ]
     },
     "execution_count": 3,
     "metadata": {},
     "output_type": "execute_result"
    }
   ],
   "source": [
    "### precap ELC2\n",
    "\n",
    "from IPython.lib.display import YouTubeVideo\n",
    "YouTubeVideo('Wvbk_qMJ2kE', width = 600, height = 450)"
   ]
  },
  {
   "cell_type": "markdown",
   "metadata": {},
   "source": [
    "## Simulate\n",
    "> <font color='grey'>⏳ Estimated time: 0 min</font>\n",
    "\n",
    "No simulation yet, not until you get properly introduced to LTSpice"
   ]
  },
  {
   "cell_type": "markdown",
   "metadata": {},
   "source": [
    "## Implement & investigate 1: Measure the Vrms with the DMM\n",
    "> <font color='grey'>⏳ Estimated time: 15 min</font>\n",
    "\n",
    "As shown in the diagram below:\n",
    "* connect the output of the function generator to both the **DMM** and to **test board 1** (making use of a BNC T-splitter inside the small toolbox).\n",
    "\n",
    "> the BNC connector, and attached coax cable, have two signals. The signal line (inner core of the coax cable) is equivalent to the red wire from the previous exercise. The outer shielding is equivalent to the black wire/ COM. You therefore connect 1 wire, with 2 signal lines. \n",
    "\n",
    "* Do not connect the BNC connector to any other components on the test board. \n",
    "* Activate the function generator’s output.\n",
    "* Program the function generator to generate a sine wave of 1kHz and amplitude 2V\n",
    "    * measure the voltage with the DMM.\n",
    "\n",
    "**Questions to answer**:\n",
    "1. Confirm which type of voltage (Vpp, Vp or Vrms) is measured by the DMM\n",
    "2. If you input 2 Vrms, does the DMM measure 2 Vrms? \n",
    "3. Can you already explain why 2 Vrms from the function generator might not be measured as 2 Vrms by the DMM? \n",
    "> At this point: don't worry too much about a possible discrepancy. Please continue - we will investigate further. "
   ]
  },
  {
   "cell_type": "code",
   "execution_count": 4,
   "metadata": {},
   "outputs": [],
   "source": [
    "### TO DO=\"your answers\"\n",
    "\n"
   ]
  },
  {
   "cell_type": "markdown",
   "metadata": {},
   "source": [
    "\n",
    "##  Implement & investigate 2: For which rotary switch setting do you measure the correct Vrms?\n",
    "> <font color='grey'>⏳ Estimated time: 15 min</font>\n",
    "\n",
    "* Keep the function generator's output on 2Vrms \n",
    "* Connect the rotary switch, a big black turning knob with 12 numbered positions, (SW1) to the BNC. \n",
    "* Make sure to form a closed circuit: \n",
    "    - use a red wire to go from the signal line of the BNC connector (U30) to the rotary switch (U20)\n",
    "    - don't forget to connect the BNC's COM (U35) to the other side of the rotary switch\n",
    "* Measure the voltage over the rotary switch, with the already connected DMM.\n",
    "* Find the setting (and resistance value) of the switch, for which the voltage measured by the DMM most correct?\n",
    "\n",
    "<img src=\"https://gitlab.tudelft.nl/mwdocter/nb2214-images/-/raw/main/ELC/ELC%20coax%20connectors.JPG\" width=30%></img>\n",
    "\n",
    "\n",
    ">**<font color='blue'>Hint:</font>**\n",
    "Just measure the Vrms at different Rs as specified by the rotor.\n",
    "The layout plus values of testboard components can be found on Brightspace, in the document 'Testboard layouts and component values'. THE LAYOUT ABOVE DOES NOT CONTAIN THE RIGHT VALUES FOR THE ROTARY SWITCH"
   ]
  },
  {
   "cell_type": "code",
   "execution_count": 5,
   "metadata": {},
   "outputs": [],
   "source": [
    "### TO DO=\" your answer: switch setting .... with resistance value ....\"\n",
    "\n",
    "\n"
   ]
  },
  {
   "cell_type": "markdown",
   "metadata": {},
   "source": [
    "##  Implement & investigate 3: Observe the influence of DC offset on the measured Vrms\n",
    "> <font color='grey'>⏳ Estimated time: 5 min</font>\n",
    "\n",
    "* What happens to the measured voltage, when changing the DC offset of the sine wave (at the function generator)?\n",
    "* Put the DC offset back to 0V.\n",
    "\n"
   ]
  },
  {
   "cell_type": "code",
   "execution_count": 6,
   "metadata": {},
   "outputs": [],
   "source": [
    "### TO DO=\" your answer: changing the DC offset of the sine wave leads to ....... in the measured voltage \"\n",
    "\n"
   ]
  },
  {
   "cell_type": "markdown",
   "metadata": {},
   "source": [
    "##  Implement & investigate 4: Determine correct use of the output setup\n",
    "> <font color='grey'>⏳ Estimated time: 20 min</font>\n",
    "\n",
    "If you know the value of the load resistance, you can use the setting called 'output setup'. This setting will internally switch the voltage supplied with a factor of 2, and allows to deal with a variation of LOAD resistors. \n",
    ">* for HIGH Z the function generator assumes an infinite load resistance (for example a DMM). \n",
    ">* default (e.g. upon startup), the generator assumes HIGH Z\n",
    "\n",
    "The load setting can be found at the function generator under UTILITY / OUTPUT SETUP, and then select 50 Ω / HIGH Z or LOAD. \n",
    "* Do a correct measurement with the testboard connected. \n",
    "  - Which LOAD setting should you use? Write down this setting, the Vrms of both function generator and DMM. \n",
    "* Disconnect the coax cable from the testboard. \n",
    "  - Again: Which LOAD setting should you use? Write down this setting, the Vrms of both function generator and DMM.  \n",
    "\n",
    "> **<font color='blue'>__Hint:__ </font>**\n",
    "The OUTPUT SETUP is related to the resistance that is present in the circuit you're measuring.\n",
    "Think about ALL the components that are in your circuit (... these include the measuring devices).\n",
    "What is the correct setting? Do you indeed measure the correct voltage?\n",
    "\n",
    "**Hence, to be sure of the actual signal amplitude, you should always measure it. Keep this in mind during all exercises!**"
   ]
  },
  {
   "cell_type": "code",
   "execution_count": 7,
   "metadata": {},
   "outputs": [],
   "source": [
    "### TO DO=\"the correct load setting for the testboard connected and disconnected\"\n",
    "\n"
   ]
  },
  {
   "cell_type": "markdown",
   "metadata": {},
   "source": [
    "> **<font color=red> Optional challenge (exam question)</font>** <br>\n",
    "> - Predict the measured value for an 1 Vrms output on 50 Ω actual load, while the OUTPUT SETUP is set to high. <br>\n",
    "> - Predict the measured value for an 1 Vrms output on actual high load, while the OUTPUT SETUP is set to 50 Ω . <br> <br>\n",
    "> Note: red colored additional challenges are not mandatory, but serve as extra challenge. You can also verify the answers of these additional challenges with the TA"
   ]
  },
  {
   "cell_type": "code",
   "execution_count": null,
   "metadata": {},
   "outputs": [],
   "source": [
    "### TO DO=\"optional: your prediction for measurements with a mismatched load setting\"\n"
   ]
  },
  {
   "cell_type": "markdown",
   "metadata": {},
   "source": [
    "##  Compare & Conclude: per group of 4\n",
    "> <font color='grey'>⏳ Estimated time: 10 min</font>\n",
    "\n",
    "* Wait till all (4) group members finish their observation\n",
    "* Compare your results with your other group members. \n",
    "* If your results agree, and are in line with all predictions, then talk to a TA and get checked off\n",
    "* Otherwise, so if your results do not agree, or your results are not in line with your predictions, then first discuss amongst your group before getting a TA. \n",
    "\n",
    "**to be checked off by a TA:**\n",
    "1. Explain how the function generator is able to deal with a large range of load resistors.\n",
    "2. exit card: 1. Write a brief abstract on what you learned (conclusion, useful graph), 2. Which troubleshooting skills do you want to remember for next sessions, 3. Which code do you copy for use in next sessions,\n",
    "3. How do think this notebook could be improved\n"
   ]
  },
  {
   "cell_type": "code",
   "execution_count": 8,
   "metadata": {},
   "outputs": [],
   "source": [
    "#1B function generator output\n",
    "### TO DO=\"1. your explanation, to be checked by the TA. DON'T FORGET TO WRITE IT DOWN!\"\n",
    "\n",
    "### TO DO=\"2a. abstract\"\n",
    "\n",
    "### TO DO=\"2b. troubleshooting\"\n",
    "\n",
    "### TO DO=\"2c. code\"\n",
    "\n",
    "### TO DO=\"3. what changes would you suggest?\"\n"
   ]
  },
  {
   "cell_type": "markdown",
   "metadata": {},
   "source": [
    "If you got stuck during the measurement, at the end of the lab assignment we offer you a movie clip with our recorded efforts in the lab. If you were successfull with measuring, then skip this movie clip"
   ]
  },
  {
   "cell_type": "code",
   "execution_count": 7,
   "metadata": {},
   "outputs": [
    {
     "data": {
      "text/html": [
       "\n",
       "        <iframe\n",
       "            width=\"600\"\n",
       "            height=\"450\"\n",
       "            src=\"https://www.youtube.com/embed/VZgE8SF8r84\"\n",
       "            frameborder=\"0\"\n",
       "            allowfullscreen\n",
       "            \n",
       "        ></iframe>\n",
       "        "
      ],
      "text/plain": [
       "<IPython.lib.display.YouTubeVideo at 0x1d1a51b6bb0>"
      ]
     },
     "execution_count": 7,
     "metadata": {},
     "output_type": "execute_result"
    }
   ],
   "source": [
    "## recording ELC2\n",
    "\n",
    "from IPython.lib.display import YouTubeVideo\n",
    "YouTubeVideo('VZgE8SF8r84', width = 600, height = 450)"
   ]
  },
  {
   "cell_type": "code",
   "execution_count": null,
   "metadata": {},
   "outputs": [],
   "source": []
  }
 ],
 "metadata": {
  "celltoolbar": "Create Assignment",
  "kernelspec": {
   "display_name": "Python 3 (ipykernel)",
   "language": "python",
   "name": "python3"
  },
  "language_info": {
   "codemirror_mode": {
    "name": "ipython",
    "version": 3
   },
   "file_extension": ".py",
   "mimetype": "text/x-python",
   "name": "python",
   "nbconvert_exporter": "python",
   "pygments_lexer": "ipython3",
   "version": "3.7.12"
  },
  "latex_envs": {
   "LaTeX_envs_menu_present": true,
   "autoclose": false,
   "autocomplete": true,
   "bibliofile": "biblio.bib",
   "cite_by": "apalike",
   "current_citInitial": 1,
   "eqLabelWithNumbers": true,
   "eqNumInitial": 1,
   "hotkeys": {
    "equation": "Ctrl-E",
    "itemize": "Ctrl-I"
   },
   "labels_anchors": false,
   "latex_user_defs": false,
   "report_style_numbering": false,
   "user_envs_cfg": false
  },
  "toc": {
   "base_numbering": 1,
   "nav_menu": {},
   "number_sections": true,
   "sideBar": true,
   "skip_h1_title": false,
   "title_cell": "Table of Contents",
   "title_sidebar": "Contents",
   "toc_cell": false,
   "toc_position": {},
   "toc_section_display": true,
   "toc_window_display": false
  }
 },
 "nbformat": 4,
 "nbformat_minor": 4
}
