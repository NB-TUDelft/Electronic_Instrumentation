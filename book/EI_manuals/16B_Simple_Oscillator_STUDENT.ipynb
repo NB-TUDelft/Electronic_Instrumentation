{
 "cells": [
  {
   "cell_type": "markdown",
   "id": "0584472f-771b-41ba-a574-7c19185f85c3",
   "metadata": {},
   "source": [
    "<b>For use with:<font color=\"blue\" ><b> Student's laptop</b></font> \n",
    "<br> and </b></font><font color=\"magenta\"><b>Alpaca kernel</b></font>\n",
    "\n",
    "<font color='red' > <b>Complete this notebook before the practical session.<br> \n",
    "REQUIREMENT:  Work together with your partner.</b></font>\n",
    "<br><br>\n",
    "<font color='black' > <b> There will be enough time to complete this notebook during the classroom session if you and your partner could not meet to work together.</b></font>"
   ]
  },
  {
   "cell_type": "markdown",
   "id": "3fad9b5d-4d22-41e1-b939-ea16a294c305",
   "metadata": {},
   "source": [
    "<div class=\"alert alert-block alert-info\">\n",
    "<b>(Optional) Accessibility of this notebook</b>  \n",
    "\n",
    "- You can adjust the width of the text with the function provided in the cell below. \n",
    "- You can toggle the auto-numbering of the sections in the outline toolbox (sidebar or topbar).\n",
    "- You can toggle the code line numbers in the dropdown menu of the \"view\" button in the topbar. \n",
    "- You can collapse/expand a cell by clicking the blue bar on the left side of the cell.\n",
    "\n",
    "</div>  "
   ]
  },
  {
   "cell_type": "code",
   "execution_count": null,
   "id": "9377ad65-49eb-4f82-9aca-ad4a67d7189f",
   "metadata": {
    "jupyter": {
     "source_hidden": true
    },
    "tags": []
   },
   "outputs": [],
   "source": [
    "%python\n",
    "from IPython.core.display import HTML\n",
    "def set_width(width):\n",
    "    display(HTML(f\"\"\"<style>  \n",
    "            .container {{ width:{width}% !important; \n",
    "                            min-width:800px !important; margin: 0 auto}} \n",
    "            .jp-Cell {{ width:{width}% !important; \n",
    "                            min-width:800px !important; margin: 0 auto}} </style>\"\"\"))\n",
    "# Set container width to X%v of the fullscreen \n",
    "set_width(50)"
   ]
  },
  {
   "cell_type": "markdown",
   "id": "bbaaaabc",
   "metadata": {},
   "source": [
    "**Overview: Practical Assignments - Week 16**.\n",
    "\n",
    "<font size=\"3\"><b>Experiments for This Week:</b></font>\n",
    "\n",
    "- Oscillator 16A: **Before** the Classroom Session - Background and Simulation\n",
    "- Oscillator 16B: **Before** the Classroom Session - Assembly and Tests  \n",
    "- Oscillator 16C: **During** the Classroom Session - Light Sensor\n",
    "  \n",
    "<font size=\"3\"><b>Goal:</b></font>\n",
    "\n",
    "- Build a complex circuit.\n",
    "- Understand the role of the Relaxation Oscillator in processing of the signal from a light sensor <br>"
   ]
  },
  {
   "cell_type": "markdown",
   "id": "32649722-16f2-44e6-9a0b-823f9fe825ae",
   "metadata": {},
   "source": [
    "# 16B: Oscillator - Simple Relaxation Oscillator\n",
    "\n",
    "<font color='blue'><b>Learning goal:</b></font>\n",
    "- Build a Simple Relaxation Oscillator\n",
    "- Perform Unit Tests on individual components of the Oscillator\n",
    "\n",
    "**Timing of this experiment:**\n",
    "- <b>5+30+30+5+5 = <font color='red'> 75 min</b></font>\n",
    "\n",
    "<font color='green'><b>This is a challenging assignment. Please support your partner in solving problems. </b></font>"
   ]
  },
  {
   "cell_type": "markdown",
   "id": "6353e440-e77d-4abe-b142-19f016ec8d32",
   "metadata": {},
   "source": [
    "# IMPLEMENT & INVESTIGATE - Part A: Simple Relaxation Oscillator\n",
    "> <font color='grey'>⏳ Estimated total time: 75 min</font>"
   ]
  },
  {
   "cell_type": "markdown",
   "id": "c3496311-73df-486b-a75f-eb63d909c99b",
   "metadata": {},
   "source": [
    "## Overview of the circuit\n",
    "\n",
    "> <font color='grey'>⏳ Estimated time: 5 min</font>\n",
    "\n",
    "The challenge starts here. Drafting a *blueprint* is a good first step to get an overview of the implementation. This time we prepared it for you as an example and an inspiration.\n",
    "\n",
    "<div style=\"text-align: center\">\n",
    "    <img src=\"https://gitlab.tudelft.nl/mwdocter/nb2214-images/-/raw/main/oscillator/16ImplementLightStationPotmeter.png\" width=1000></img>\n",
    "    <br>\n",
    "    <em>Implementation blueprint: Light-sensing Relaxation Oscillator</em>\n",
    "</div>\n",
    "<br>\n",
    "\n",
    "Start the assembly of the oscillator from building and testing the Integrator. Plan the placement of its components on the white breadboard (also known as the \"Sandbox\") to make adding and testing the Comparator unit, as well as the Feedback Line, a straightforward task in the later stages of your build. We suggest that you build the Illumination Station on a separate breadboard - the black mini breadboard to avoid a densely wired setup in the later stage of this assignment. <br>\n",
    "\n",
    "In PART A of the Implementation, the emphasis is placed on ensuring that each component of the Oscillator works as expected before it is integrated further into the larger, more complex assembly. This procedure is commonly called **\"unit testing\"**. The suggested workflow in this assignment includes *planning*, *unit testing*, and *journaling*, and it demonstrates a good practice. "
   ]
  },
  {
   "cell_type": "markdown",
   "id": "0407775f-bd32-4c13-bbea-1723c4b14e4a",
   "metadata": {},
   "source": [
    "## Implement 1 - The Integrator\n",
    "> <font color='grey'>⏳ Estimated time: 30 min</font>\n",
    "\n",
    "Building the integrator on your ALPACA is simple, but testing will require some additional components that won't be a part of the final setup, so make a note of *what has to stay*, especially when removing the components of the test setup afterwards. \n",
    "\n",
    "<font size=4>ℹ️</font> <b>Hint</b>\n",
    "\n",
    "> **Layout Table** <br>\n",
    "> Make a table, a spreadsheet (**or download a template from Brightspace**) with for example, 11 rows (index *20* to *30*) and 10 columns (*a* to *j*) - the addressing of the lower part of the Alpaca's Sandbox. Use it to store the labels of your build layout, <br> like `+12V`, `Vout`, `VoutOA1`, `VinOA2`, `Ra=3.3k`, `C=470nF` etc. <br><br> It might happen that this part of your Alpaca's sandbox has some loose connections. In that case, consider moving your layout to the higher rows or to an external mini breakout box.\n",
    "\n",
    "\n"
   ]
  },
  {
   "cell_type": "markdown",
   "id": "17037720",
   "metadata": {},
   "source": [
    "### Build the Integrator\n",
    "\n",
    "**List of components for the Integrator:**\n",
    "\n",
    "1. OPAMP\n",
    "    - Use the left hand side OPAMP (OA1 = CH1) for the Integrator. <br><div><img src=\"https://gitlab.tudelft.nl/mwdocter/nb2214-images/-/raw/7b873596c01a500f66c42c89508ee5aa384b6335/voltammetry/opamp_dual_layout+component.jpg\" width=\"300\"/><br>\n",
    "    <em>Opamp pin layout</em>\n",
    "    </div><br>\n",
    "\n",
    "2. Capacitor, we suggest the $470 nF$ (blue one), but feel free to choose any other one.\n",
    "\n",
    "<details>\n",
    "<summary><font size=3>ℹ️ <b>Detailed schematic of the suggested <font color='green'> Integrator </font> placement</b></font></summary>  \n",
    "\n",
    "> <div style=\"text-align: center;\"><img src=\"https://gitlab.tudelft.nl/mwdocter/nb2214-images/-/raw/main/oscillator/16_Fritzing_Integrator.png\" width=\"400px\"/></div>\n",
    "</details>\n",
    "\n"
   ]
  },
  {
   "cell_type": "code",
   "execution_count": null,
   "id": "fc236469-8488-4943-852b-8dfcf99b8a38",
   "metadata": {
    "jupyter": {
     "source_hidden": true
    }
   },
   "outputs": [],
   "source": [
    "# Initialize the connection with your Alpaca\n",
    "%serialconnect to --port=\"COM4\" "
   ]
  },
  {
   "cell_type": "code",
   "execution_count": null,
   "id": "bbf7f5eb-3ce9-4a74-8a3d-43f6d0acea88",
   "metadata": {},
   "outputs": [],
   "source": [
    "%plot --mode live\n",
    "\n",
    "import time\n",
    "import numpy as np\n",
    "import matplotlib.pyplot as plt\n",
    "from machine import ADC\n",
    "from functiongenerator import FuncGen, DC, Sine\n",
    "\n",
    "# Instantiate a measurement pin Ain0 for the output signal\n",
    "adc0 = ADC(26) \n",
    "# The other pin can be instantiated with the following line:\n",
    "# adc1 = ADC(27) \n",
    "\n",
    "\n",
    "# Define the sampling frequency and the duration of the experiment\n",
    "DELAY_MS = 50\n",
    "NUM_SAMPLES = 200\n",
    "\n",
    "# Initialize the array for the acquired signal\n",
    "output_signal = np.zeros(NUM_SAMPLES)\n",
    "\n",
    "\n",
    "# Start the measurement\n",
    "with FuncGen(DC(V=0.5)):\n",
    "    \n",
    "    time.sleep_ms(100)\n",
    "    \n",
    "    for ii in range(NUM_SAMPLES):\n",
    "        # Take a sample ever 20 ms (e.g. at 50 Hz)\n",
    "        sample = adc0.read_u16()\n",
    "        output_signal[ii] = sample\n",
    "        \n",
    "        if (ii % 5) == 0 :\n",
    "            # Plot 1 in 5 samples to the live plotter (e.g. with a frequency of 10 Hz)\n",
    "            plt.liveplot(sample*5.035E-4, labels = ['Output [V]'])\n",
    "            \n",
    "            \n",
    "        time.sleep_ms(DELAY_MS)\n",
    "\n",
    "print('Acquisition done!')"
   ]
  },
  {
   "cell_type": "code",
   "execution_count": null,
   "id": "2d35b634-eaa6-4a39-ada7-d3e603f4a2a6",
   "metadata": {
    "jupyter": {
     "source_hidden": true
    }
   },
   "outputs": [],
   "source": [
    "# Plot the complete acquisition, without dropped datapoints like in the code above\n",
    "\n",
    "output_signal = output_signal / 65535 * 3.3\n",
    "plt.plot(output_signal)\n",
    "plt.plot([0],[0]) # Lazy trick to get the X-axis in the plot\n",
    "plt.ylabel('Output [V]')\n",
    "plt.xlabel('Sample number')"
   ]
  },
  {
   "cell_type": "code",
   "execution_count": null,
   "id": "dbdcc000-2a2c-4c93-b48f-5f91de81dc63",
   "metadata": {},
   "outputs": [],
   "source": [
    "### Notes: Integrator Test"
   ]
  }
 ],
 "metadata": {
  "kernelspec": {
   "display_name": "Alpaca Kernel",
   "language": "python",
   "name": "alpaca"
  },
  "language_info": {
   "codemirror_mode": {
    "name": "ipython",
    "version": 3
   },
   "file_extension": ".py",
   "mimetype": "text/x-python",
   "name": "python",
   "nbconvert_exporter": "python",
   "pygments_lexer": "ipython3",
   "version": "3.10.14"
  }
 },
 "nbformat": 4,
 "nbformat_minor": 5
}
