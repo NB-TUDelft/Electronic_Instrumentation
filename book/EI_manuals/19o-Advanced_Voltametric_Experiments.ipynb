{
 "cells": [
  {
   "cell_type": "markdown",
   "id": "f9face87-cbeb-4e91-882c-96f93df2c1ad",
   "metadata": {},
   "source": [
    "<font size=\"5\"><b>For use with: <font color=\"green\" size=\"5\"><b>ipykernel</b></font>\n",
    "<details> \n",
    "<summary>\n",
    "Accessibility of this notebook  [Click to expand]\n",
    "</summary>\n",
    "    \n",
    ">- Adjust the width of the text with the function provided in the cell below. \n",
    ">- Toggle the auto-numbering of the sections in the outline toolbox (sidebar or topbar).\n",
    ">- Toggle the code line numbers in the dropdown menu of the \"view\" button in the topbar. \n",
    ">- Collapse/expand a cell by clicking the blue bar on the left side of the cell.\n",
    "\n",
    "</details>"
   ]
  },
  {
   "cell_type": "code",
   "execution_count": 1,
   "id": "34bf136e-087a-4291-bff2-075bccb78e45",
   "metadata": {
    "jupyter": {
     "source_hidden": true
    },
    "tags": []
   },
   "outputs": [
    {
     "data": {
      "text/html": [
       "<style>  \n",
       "            .container { width:50% !important; \n",
       "                            min-width:800px !important; margin: 0 auto} \n",
       "            .jp-Cell { width:50% !important; \n",
       "                            min-width:800px !important; margin: 0 auto} </style>"
      ],
      "text/plain": [
       "<IPython.core.display.HTML object>"
      ]
     },
     "metadata": {},
     "output_type": "display_data"
    }
   ],
   "source": [
    "from IPython.core.display import HTML\n",
    "def set_width(width):\n",
    "    display(HTML(f\"\"\"<style>  \n",
    "            .container {{ width:{width}% !important; \n",
    "                            min-width:800px !important; margin: 0 auto}} \n",
    "            .jp-Cell {{ width:{width}% !important; \n",
    "                            min-width:800px !important; margin: 0 auto}} </style>\"\"\"))\n",
    "# Set container width to X%v of the fullscreen \n",
    "set_width(50)"
   ]
  },
  {
   "cell_type": "markdown",
   "id": "122c0312-2743-4cfc-98b8-fbc1946c4fe8",
   "metadata": {},
   "source": [
    "---\n",
    "# Voltammetry - Final Project\n",
    "\n",
    "## Goals - Overview\n",
    "\n",
    "- Week 17: Understand the design limitations and build a simple model of a potentiostat<br>\n",
    "- Week 18: Build the potentiostat and write code for voltammetric measurements <br>\n",
    "- **Week 19: Run voltammetric measurements with different techniques and samples <br>**\n",
    "\n",
    "## Experiments - Week 18</b></font>\n",
    "\n",
    "- 19A: CV - Experiments\n",
    "- **19o: Optional - Experiments**\n",
    "\n",
    "---"
   ]
  },
  {
   "cell_type": "markdown",
   "id": "35bea65e-40bf-48ee-b35c-737d75c0b870",
   "metadata": {},
   "source": [
    "# 🏆🏆🏆🐐 19o - Advanced Voltammetric Experiments \n",
    "\n",
    "## Introduction\n",
    "\n",
    "### Goals\n",
    "   \n",
    "   > - Conduct advanced experiments with your potentiostat\n",
    "   > - Deepen your understanding of Voltammetry and its features\n",
    "\n",
    "### Structure\n",
    "\n",
    "   >1. Background <font color='green' size=\"3\"> <b>Classroom</b></font>, <font color='purple' size=\"3\"> <b>also recommended as Preparation!</b></font>\n",
    "   >2. Anticipate: <font color='green' size=\"3\"> <b>Classroom</b></font>, <font color='purple' size=\"3\"> <b>also recommended as Preparation!</b></font>\n",
    "   >3. Implement and Investigate: <font color='green' size=\"3\"> <b>Classroom</b></font>\n",
    "   >4. Discuss and Conclude: <font color='green' size=\"3\"> <b>Classroom - Week 19 or Catch-up session, optionally request by email</b></font>"
   ]
  },
  {
   "cell_type": "markdown",
   "id": "f329c915-6ca8-4fc8-912a-270466902a15",
   "metadata": {},
   "source": [
    "# Background\n",
    "\n",
    "## Advanced Techniques - Sequence Details\n",
    "\n",
    "In this section, you will find drawings with hints for evaluation of the differential currents in SWV and DPV. Pay attention to the convention in SWV and DPV to correctly match your measured `Icell` with its corresponding `Ucell`. The coloured boxed in these drawings mark a \"current sampling window\". Since each measurement takes time, those are not just points in time, but *short* periods and depending on the number of samples for averaging, they might be a few miliseconds long.\n",
    "\n",
    "<details>\n",
    "    <summary><font size=4>💡</font> <b>Cyclic Voltammetry - Sequence Details</b></summary>\n",
    "<div style=\"text-align: center\">\n",
    "<img src=\"https://gitlab.tudelft.nl/mwdocter/nb2214-images/-/raw/main/voltammetry/2024/CV.png\"></img><br>\n",
    "    <em>Cyclic Voltammetry - Sequence Details</em>\n",
    "</div><br>\n",
    "</details>\n",
    "\n",
    "<details>\n",
    "    <summary><font size=4>💡</font> <b>Squarewave Voltammetry - Sequence Details</b></summary>\n",
    "<div style=\"text-align: center\">\n",
    "<img src=\"https://gitlab.tudelft.nl/mwdocter/nb2214-images/-/raw/main/voltammetry/2024/SWV.png\"></img><br>\n",
    "    <em>Squarewave Voltammetry - Sequence Details</em>\n",
    "</div><br>\n",
    "</details>\n",
    "\n",
    "<details>\n",
    "    <summary><font size=4>💡</font> <b>Differential Pulse Voltammetry - Sequence Details</b></summary>\n",
    "<div style=\"text-align: center\">\n",
    "<img src=\"https://gitlab.tudelft.nl/mwdocter/nb2214-images/-/raw/main/voltammetry/2024/DPV.png\"></img><br>\n",
    "    <em>Differential Pulse Voltammetry - Sequence Details</em>\n",
    "</div><br>\n",
    "</details>"
   ]
  },
  {
   "cell_type": "markdown",
   "id": "722cc0f9-0d57-430a-b7d6-cd03e13f2539",
   "metadata": {},
   "source": [
    "## Advanced Voltammetric Experiments\n",
    "\n",
    "### Samples"
   ]
  },
  {
   "cell_type": "markdown",
   "id": "831394cb-855e-4f62-92b8-4d680ed23ff4",
   "metadata": {},
   "source": [
    "#### Source materials\n",
    "\n",
    "Samples were prepared from pills of some common over-the-counter analgesics purchased from Kruidvat, and a Pure Caffeine pill from MyVitamins:\n",
    "1. Paracetamol 500mg (aka P)\n",
    "2. Aspirin 500mg (aka A)\n",
    "3. Paracetamol 500mg + Caffeine 50mg (aka PC)\n",
    "4. Aspirin 250mg + Paracetamol 250mg + Caffeine 50mg (aka APC)\n",
    "5. Caffeine 200mg (aka C)\n",
    "\n",
    "Feel free to use your own ideas to prepare a sample!\n",
    "- Use your own substance - the active ingredient must be **NON-TOXIC**, soluble in water, and electrochemically active in the available cell potential window for PBS."
   ]
  },
  {
   "cell_type": "markdown",
   "id": "9188d321-f60f-445e-a2f5-e3b84043e7ea",
   "metadata": {},
   "source": [
    "#### Solutions\n",
    "\n",
    "*The set from the notebook 19A is also applicable in 19o*\n",
    "\n",
    ">1. **PBS pH 7.4**\n",
    ">2. **Paracetamol 0.5mg/ml (aka P05)**\n",
    ">3. **Aspirin 2.5mg/ml (aka A25)**\n",
    "\n",
    "*Optional set for the Advanced Experiments in notebook 19o*\n",
    "\n",
    ">4. **Paracetamol 5mg/ml (aka P5)**\n",
    ">5. **Paracetamol 5mg/ml + Caffeine 0.5mg/ml (aka PC5)**\n",
    ">6. **Aspirin 2.5mg/ml + Paracetamol 2.5mg/ml + Caffeine 0.5mg/ml (aka APC25)**\n",
    ">7. **Caffeine 1mg/ml (aka C1)**\n",
    ">8. **Own ideas**\n",
    ">    - If you would like to conduct experiments using a solution with yet another substance, you might have to first find a suitable concentration and the sweep range, which is already an idea for a series of experiments."
   ]
  },
  {
   "cell_type": "markdown",
   "id": "7e10c70f-f795-4aaf-9518-861fcdc0b35d",
   "metadata": {},
   "source": [
    "#### Preparation\n",
    "\n",
    "Samples 4,5,6,7 from the *Optional set* are highly-concentrated. It is known that Paracetamol concentration larger than 0.5 - 1 mg/ml leads to emergence of a complex electrochemical behaviour that may obscure the expected results. Aspirin saturates in water at 3.2mg/ml in normal conditions, so we are using almost the highest stable concentration, and Caffeine exhibits a very broad oxidation peak at concentrations higher than 0.5 mg/ml. \n",
    "\n",
    "> Optimal concentrations per substance:\n",
    "> - Paracetamol: 0.1 - 0.5 mg/ml\n",
    "> - Aspirin: 0.5 - 2.5 mg/ml\n",
    "> - Caffeine: 0.05 - 0.5 mg/ml\n",
    "\n",
    "For preparation of samples with your own substance, make sure that the active ingredient is sufficiently well soluble in water.\n",
    "\n",
    "<font size=4>💡</font> <b>Hints for preparing solutions</b>\n",
    "\n",
    "> - The small conical plastic vials (1.5ml) have markings at 0.1 ml, 0.5ml, 1ml, 1.5ml\n",
    "> - 1ml pipette has markings every 0.25ml. Also, 0.1 ml marker line can be added/drawn 14mm below the 0.25 ml marker , and 0.9 ml marker can be added 9mm below 1 ml marker. <br><br>\n",
    "> These tools allow for sufficient precision and a very efficient use of your solutions."
   ]
  },
  {
   "cell_type": "markdown",
   "id": "e1c51b16-9445-4531-8ba9-35fc99311f55",
   "metadata": {},
   "source": [
    "### Ideas for Experiments\n",
    "\n",
    "#### 1. Own ideas\n",
    "\n",
    "Feel free to come up with your own objective and plans for your experiments!"
   ]
  },
  {
   "cell_type": "markdown",
   "id": "a5558aa1-2c7c-4757-bd75-75b413c2c0cf",
   "metadata": {},
   "source": [
    "#### 2. Varying a parameter of the measurement\n",
    "\n",
    "Some insightful results are offered by varying the following parameters:\n",
    "\n",
    ">- Rate\n",
    ">- Ustep\n",
    ">- SWV-only parameters: Squarewave amplitude\n",
    ">- DPV-only parameters: Pulse amplitude, Pulse width, Pulse polarity\n",
    ">- Own ideas"
   ]
  },
  {
   "cell_type": "markdown",
   "id": "b8dd4b03-6092-45ae-888b-9c0eba788c43",
   "metadata": {},
   "source": [
    "#### 3. Diluting\n",
    "\n",
    "Whether to explore the effects of halving (all samples) or doubling the concentration (using P5 to prepare samples to compare with P05), or to look for the detection limit (all samples), dilution experiments can be very insightful:\n",
    "\n",
    ">- Changing the concentration in octaves (1/2x or 2x) to study the effect of lower and/or higher concentrations\n",
    ">- Diluting in decades (1/10x) to find the limit of detection"
   ]
  },
  {
   "cell_type": "markdown",
   "id": "15574c9f-89f9-478c-a1ff-18e1608c7af9",
   "metadata": {},
   "source": [
    "#### 4. Studying reversibility of redox reactions with different voltammetric techniques\n",
    "\n",
    "Explore the possibilities of the *cyclic* versions of SWV and DPV in comparison to the familiar Cyclic (Staircase) Voltammetry:\n",
    "\n",
    "> - Cyclic Squarewave Voltammetry\n",
    "> - Cyclic Differential Pulse Voltammetry"
   ]
  },
  {
   "cell_type": "markdown",
   "id": "33012e20-2720-43e8-aceb-f8dcca8a24c9",
   "metadata": {},
   "source": [
    "#### 5. Identifying combination drugs\n",
    "\n",
    "It turns out that all three substances: A, P, and C achieve their optimal electrochemical activity at different concentrations, and the concentration of only moderately electrochemically active Caffeine in the commonly available combination drugs like PC and APC is relatively small. That combined with a very large activity of Paracetamol already at low concentrations makes identification of Caffeine in these drugs quite challenging. \n",
    "\n",
    ">- Which approach would you take to tackle this problem? Would you set the concentration of these mixtures to the optimal level of detection to that of Paracetamol or that of Caffeine?\n",
    ">- Which voltammetric technique could give the best resolution? Since a direct identification of Caffeine in those mixtures might be very difficult, a clever comparison between some solutions could be sufficient.\n",
    ">\n",
    ">1. Compare P vs PC (and optionally C for reference)\n",
    ">2. Compare (P or A, or your own AP mix derived from A25 and P5) vs APC (and optionally C for reference)\n",
    ">3. You own ideas!"
   ]
  },
  {
   "cell_type": "markdown",
   "id": "e8258697-a028-446a-ab6a-c5ed7691aed3",
   "metadata": {},
   "source": [
    "# Anticipate\n",
    "\n",
    "## A.1 Redox peaks\n",
    "\n",
    "1. Paracetamol:\n",
    "   - oxidation at 0.4V - 0.6V,\n",
    "   - reduction at -0.1V - 0V\n",
    "2. Aspirin:\n",
    "   - oxidation at 0.9V - 1.1V\n",
    "3. Caffeine:\n",
    "   - oxidation at 1.4 (sweep to max 1.55V is recommended)\n",
    "  \n",
    "> Hint: Sweeping below water reduction level (-0.6V) *might* lead to some unexpected results."
   ]
  },
  {
   "cell_type": "markdown",
   "id": "f6dc92fb-54fd-4161-927c-0736584c00b1",
   "metadata": {},
   "source": [
    "# Implement and Investigate\n",
    "\n",
    "**Come up with your idea for an experiment, or choose a recommended experiment!**\n",
    "\n",
    "1. Make sure to explain the objective of your experiment, describe your approach, and discuss the results in your report. If you encountered any potential problems, include your commentary about the process of troubleshooting and the outcomes.\n",
    "\n",
    "2. **Acquire up to three voltammograms.**\n",
    "    - Use **one new sensor for each of these optimised final acquisitions** - single use each,\n",
    "    - and **up to two new sensors overall for testing** - multiple use - you may also refurbish and re-use the sensors used in notebook 19A or 18A.\n",
    "    - Please refrain from using more than five new sensors - we have only a very limited number of them. \n",
    "    > If you would like to conduct experiments that require additional sensors, please reach out to the teachers or TAs to work out a detailed plan. \n",
    "\n"
   ]
  },
  {
   "cell_type": "markdown",
   "id": "2f775f09-9360-4035-afb2-d9e517b53b70",
   "metadata": {},
   "source": [
    "# Discuss and Conclude\n",
    "\n",
    "Since this is an entirely optional notebook, feel free to reach out to the TAs and the teachers for additional guidance during the Final Project time window. "
   ]
  }
 ],
 "metadata": {
  "kernelspec": {
   "display_name": "Python 3 (ipykernel)",
   "language": "python",
   "name": "python3"
  },
  "language_info": {
   "codemirror_mode": {
    "name": "ipython",
    "version": 3
   },
   "file_extension": ".py",
   "mimetype": "text/x-python",
   "name": "python",
   "nbconvert_exporter": "python",
   "pygments_lexer": "ipython3",
   "version": "3.10.14"
  }
 },
 "nbformat": 4,
 "nbformat_minor": 5
}
