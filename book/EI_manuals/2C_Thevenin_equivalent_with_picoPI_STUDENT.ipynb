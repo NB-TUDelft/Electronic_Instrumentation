{
 "cells": [
  {
   "cell_type": "code",
   "execution_count": 1,
   "id": "35c03a30",
   "metadata": {},
   "outputs": [
    {
     "name": "stdout",
     "output_type": "stream",
     "text": [
      "\u001b[31mNo serial connected\n",
      "\u001b[0m  %serialconnect to connect\n",
      "  %esptool to flash the device\n",
      "  %lsmagic to list commands"
     ]
    }
   ],
   "source": [
    "from IPython.core.display import HTML\n",
    "def set_width(width):\n",
    "    display(HTML(f\"\"\"<style>  \n",
    "            .container {{ width:{width}% !important; \n",
    "                            min-width:800px !important; margin: 0 auto}} \n",
    "            .jp-Cell {{ width:{width}% !important; \n",
    "                            min-width:800px !important; margin: 0 auto}} </style>\"\"\"))\n",
    "# Set container width to X% of the fullscreen \n",
    "set_width(50)"
   ]
  },
  {
   "cell_type": "markdown",
   "id": "653e969f",
   "metadata": {},
   "source": [
 "# 2C:  Thevenin equivalent \n",
    "\n",
    "> <font color='blue'>Learning goal:</font> Predict the Thevenin equivalent of a circuit and measure it with the Alpaca. \n",
    "\n",
    "Structure of experiment:\n",
    "- Background+ Installation + Anticipate (15+5+30+25 min): per person. This is homework.\n",
    "- Simulate (10 min): use LTSpice to verify your prediction\n",
    "- Implement & Investigate (10+30+5+5 min): with partner (group of 2)\n",
    "- Compare & Conclude (10 min): with group of 4 (per table)"
   ]
  },
  {
   "cell_type": "markdown",
   "id": "8579a987",
   "metadata": {
    "kernel": "SoS"
   },
   "source": [
    "## Background Thevenin\n",
    "> <font color='grey'>⏳ Estimated time: 15 min</font>\n",
    "\n",
    "You can replace each complicated circuit with one or multiple sources with many resistors, by a much simpler one with only one source and one resistor. This one source can be a voltage source (Thevenin equivalance) or current source (Norton equivalence): \n",
    "\n",
    "<img src=\"https://gitlab.tudelft.nl/mwdocter/nb2214-images/-/raw/main/LTS/2C_thev_norton_equiv.JPG          \" width=50% ></img>\n",
    "\n",
    "Measuring the Thevenin voltage of any complex circuit can be done by placing a voltage meter (with infinite resistance) at the location of Vout.  <br>\n",
    "Measuring the Norton current is done by placing a current meter (with no resistance) at the location of Vout.<br>\n",
    "Since the two equivalents behave the same, you can deduct that Rth=Rn=Vth/In.\n",
    "You can measure this equivalent resistance by turning off the sources, and measure the resistance at Vout. If you do this on paper, you will:\n",
    "1. replace the sources by their internal resistance\n",
    "    * a current source has infinite resistance (hence is replaced by a broken wire)\n",
    "    * a voltage source has no resistance (hence is replaced by a wire)\n",
    "2. combine all resistors, start with the one furthest away from the measurement point (Vout)\n",
    "\n",
    "If you have multiple sources, then you need to use superposition: \n",
    "* replace all other sources by their internal resistance\n",
    "* derive the contribution of each source independently\n",
    "* sum all contributions of all sources.  \n",
    "\n",
    "Note, when looking at the resistances of meters and/or sources, please remember:\n",
    "* a current source and a volt meter have (ideally) infinite resistance, and are replaced by a broken wire\n",
    "* a voltage source and a current meter have (ideally) no resistance, and are replaced by a connected wire"
   ]
  },
  {
   "cell_type": "markdown",
   "id": "6cf49d6b",
   "metadata": {},
   "source": [
    "Watch the movie(s) below on the Thevenin equivalent (voltage source+resistor) and Norton equivalent (current source plus resistor).\n",
 	  "* Thevenin: https://www.youtube.com/watch?v=UQ8ykDXDQgw\n",
    "* Norton: https://www.youtube.com/watch?v=l1iYdBq1pvc"
   ]
  },
  {
   "cell_type": "markdown",
   "id": "5a75e4a4",
   "metadata": {},
   "source": [
    "\n",
    "## Background ALPACA & installation software \n",
    "> <font color='grey'>⏳ Estimated time: 5 +30  min</font>\n",
    "\n",
    "You'll be learning to how take electronic measurements by means of programmed instructions. For this you will not only use  the classroom equipment, but also an ALPACA. This Advanced Learning Platform for Analog Circuits and Automation (https://zenodo.org/record/5615137) is developed specifically for this course by Jeroen Bastemeijer. In short: the ALPACA is a \"pocket Studio Classroom\" with devices on board you can use to do experiments. \n",
    "\n",
    "Go to the intro manual, read the introduction, and install the software:\n",
    "https://mwdocter.github.io/TeachBook/main/EI_manuals/intro_ALPACA.html"
   ]
  },
  {
   "cell_type": "markdown",
   "id": "a593c765",
   "metadata": {},
   "source": [
    "## Anticipate: What will be the Thevenin equivalent of the following circuit?\n",
    "> <font color='grey'>⏳ Estimated time: 25 min</font>\n",
    "\n",
    "In the following circuit two sources are used: V1 and V2. With help of a set resistors these two sources are combined. \n",
    "\n",
    "<img src=\"https://gitlab.tudelft.nl/mwdocter/nb2214-images/-/raw/main/LTS/thevenin circuit ALPACA.JPG\" width=50%></img>\n",
    "\n",
    "* Predict which voltage you would measure at location V1_out and V2_out (=V_thevenin)\n",
    "* If you replace this circuit by its equivalent one with a source with V_thevenin, which (Thevenin) resistor would you need to add?\n",
    "\n"
   ]
  },
  {
   "cell_type": "code",
   "execution_count": 7,
   "id": "71c94227",
   "metadata": {},
   "outputs": [],
   "source": [
    "### TO DO=\" your predicted values \"\n"
   ]
  },
  {
   "cell_type": "markdown",
   "id": "eec95603",
   "metadata": {},
   "source": [
    "## Simulate: find the Thevenin equivalent of the above circuit \n",
    "> <font color='grey'>⏳ Estimated time: 10 min</font>\n",
    "\n",
    "From now on, LTSpice will be used to verify your written predictions. In order to reduce the workload in this assignment, reuse your stacked voltage divider simulation. Don't forget to save it under a different name. \n",
    "As can be seen in the figure below, you use the same resistors, but different voltage sources. \n",
    "\n",
    "* What is the Thevenin voltage? (Hint: Vthevenin= Vout1=Vout2)\n",
    "* Find the Thevenin resistance, via the Norton current. \n",
    "    * add a small resistor (1e-6, or 1e-9) at the bottom, to connect Vout to ground.\n",
    "    * measure the current through the small resistor, this is the Norton current\n",
    "* if your simulation and prediction do not agree, solve your mistake"
   ]
  },
  {
   "cell_type": "code",
   "execution_count": 8,
   "id": "d1d0a016",
   "metadata": {},
   "outputs": [],
   "source": [
    "### TO DO=\" your predicted and simulated values \"\n"
   ]
  },
  {
   "cell_type": "markdown",
   "id": "2f0bebbf",
   "metadata": {
    "kernel": "MicroPython - USB"
   },
   "source": [
    "## Implement &Investigate 1: Measure a voltage with the ALPACA\n",
    "> <font color='grey'>⏳ Estimated time: 15 min</font>\n",
    "\n",
    "There are two ways of measuring the voltage: with the voltmeter, and reading an Anolog Input Channel. \n",
    "\n",
    "The PicoPi can only handle voltages up to 3.3V. Therefore, it is highly recommended to test the voltage level of your output signal with the voltmeter before connecting it to the picoPI. \n",
    "\n",
    "###  Downloading this Notebook \n",
    "\n",
    "Go to https://mwdocter.github.io/TeachBook/main/EI_manuals/intro_ALPACA.html and follow the steps to download and run this notebook locally.\n",
    "\n",
    "With the ALPACA you can generate and acquire digital and analog signals. Introducing you to all of that is too much for today, so we will focus on doing building a circuit and measuring the generated Vout.\n",
    "\n",
    "### Make a variable voltage source, and measure Vout with the voltmeter\n",
    "* At the **potentiometer** (AKA \"potmeter\") on the Alpaca, connect the leftmost pin to +12V and the rightmost pin to -12V. +12V and -12 V can be found just below the white breadboard. \n",
    "\n",
    "<img src=\"https://gitlab.tudelft.nl/mwdocter/nb2214-images/-/raw/a894a02ef157ca15d3d118eb243245eb912ba4f0/PicoPI/picopi1_15_potmeter.jpg\" width=50% style=\"float:right\"></img>\n",
    "\n",
    "* The middle pin of the potmeter goes to the Voltmeter (left column 4th pin of the Multifunction connector on the Cria). \n",
    "\n",
    "<img src=\"https://gitlab.tudelft.nl/mwdocter/nb2214-images/-/raw/a894a02ef157ca15d3d118eb243245eb912ba4f0/PicoPI/picopi1_17_voltmeter 2.jpg\" width=50% style=\"float:right\"></img>\n",
    "\n",
    "* Turn the knob of the potmeter, and observe the polarity and voltage levels change (visualised by the LEDs of the voltmeter). \n",
    "    * What would the color of the voltmeter LED mean?\n",
    "    * Which voltages (and polarity) are allowed on Digital In pin `Din3 - GP21`?\n",
    "    * What happens to the voltage measured, if you remove the wire connected to the +12V of the potmeter? What would have happened with the Alpaca input pins? What does this mean for cleaning up the circuit, which wire to start with?\n",
    "\n"
   ]
  },
  {
   "cell_type": "code",
   "execution_count": 9,
   "id": "b1f26632",
   "metadata": {},
   "outputs": [],
   "source": [
    "### TO DO=\" which voltages and polarity are allowed on the digital pins\" \n",
    "\n",
    "\n",
    "### TO DO=\"what happens if you remove +12V? In which order should you clean up the circuit?\" \n"
   ]
  },
  {
   "cell_type": "markdown",
   "id": "d916134c",
   "metadata": {},
   "source": [
    "<img src=\"https://gitlab.tudelft.nl/mwdocter/nb2214-images/-/raw/main/PicoPI/2c_voltmeter_test.jpg\" width=\"75%\"/>\n",
    "\n",
    "* Pay attention to cleaning up the circuit: **remove the signal wires first**. So first remove the wire from the middle pin. **WHY?** Well, if you remove one of the outer pins, there is no divider and current anymore, and the middle pin goes to the still attached + or -12V. \n",
    "* Luckily the middle pin was connected to the voltmeter, but if it was connected to the Analog or Digital Inputs you would have damaged your picoPI (replacement is possible, but depends on availability of our soldering expert and results in delay on your side). \n",
    "\n",
    "Feel free to watch the recording with some extra tips on the voltmeter and the ALPACA all the way at the bottom of this assignment. "
   ]
  },
  {
   "cell_type": "markdown",
   "id": "2ad678e3",
   "metadata": {},
   "source": [
    "## Implement&Investigate 2: Build the circuit on the Alpaca Breadboard\n",
    "> <font color='grey'>⏳ Estimated time: 30 min</font>\n",
    "\n",
    "\n",
    "\n",
    "### Find the correct resistors\n",
    "In order to find the right resistors amongst all provided to you, look at their color coding:\n",
    "\n",
    "<img src=\"https://gitlab.tudelft.nl/mwdocter/nb2214-images/-/raw/a894a02ef157ca15d3d118eb243245eb912ba4f0/PicoPI/picopi2_3_pico1-resistor_colors.jpg\" width=35% ></img>\n",
    "    \n",
    "In this practicum, you'll mostly encounter 4-band or 5-band color code. For example a 10k resistor can be:\n",
    "* 4 band brown (1)- black (0) - orange (3) - (some tolerance) --> 10 * 10^3 = 10000\n",
    "* 5 band brown (1)- black (0) - black (0) - red (2) - (some tolerance) --> 100 * 10^2 = 10000\n",
    "\n",
    "Feel free to use online resistor color code calculators like https://www.digikey.com/en/resources/conversion-calculators/conversion-calculator-resistor-color-code\n",
    "\n",
    "### Using the breadboard\n",
    "    \n",
    "The breadboard has the pins on a row (in the middle) and column (on the edges) connected. Therefore wisely position your resistor (vertically). :  \n",
    "    \n",
    "<img src=\"https://gitlab.tudelft.nl/mwdocter/nb2214-images/-/raw/a894a02ef157ca15d3d118eb243245eb912ba4f0/PicoPI/picopi2_4_pico1-use_breadboard.jpg\" width=70% ></img>\n",
    "\n",
    "### Build the circuit on the breadboard\n",
    "\n",
    "Check out the intro manual, how the rows and columns of pins are interconnected:\n",
    "https://mwdocter.github.io/TeachBook/main/EI_manuals/intro_ALPACA.html\n",
    "\n",
    "### Connect Vin and measure the output power with the Voltmeter\n",
    "\n",
    "The Vin comes from 3V3 OUT and 5V Vsys, and you measure with the voltmeter. Only if it is safe (+ polarity, <3.5V), you can continue to the next part, record the analog Vin via the Alpaca. "
   ]
  },
  {
   "cell_type": "markdown",
   "id": "7ec00591",
   "metadata": {},
   "source": [
    "## Implement&Investigate 3:  Connect to the Alpaca \n",
    "> <font color='grey'>⏳ Estimated time: 5 min</font>\n",
    "\n",
    "Before starting, a connection to the ALPACA needs to be established. This is done by using a micro-USB cable to connect the PicoPi to a PC. It is described in the 'Connect to' section of https://mwdocter.github.io/TeachBook/main/EI_manuals/intro_ALPACA.html#connect-to-the-alpaca\n",
    "\n",
    "\n",
    "**Now it is time to connect.** In the cell below, enter the appropraite `COM` port. Your code should look something like: \n",
    "\n",
    "`%serialconnect to --port=\"COM4\"`"
   ]
  },
  {
   "cell_type": "code",
   "execution_count": 10,
   "id": "7a556a6c",
   "metadata": {},
   "outputs": [
    {
     "name": "stdout",
     "output_type": "stream",
     "text": [
      "\u001b[34mConnecting to --port=COM3 --baud=115200 \u001b[0m\n",
      "\u001b[34mReady.\n",
      "\u001b[0m"
     ]
    }
   ],
   "source": [
    "\n",
    "%serialconnect to --port=\"COM3\" \n"
   ]
  },
  {
   "cell_type": "markdown",
   "id": "ffa2ebd6",
   "metadata": {
    "kernel": "MicroPython - USB"
   },
   "source": [
    "\n",
    "> <font size=6>ℹ️</font>\n",
    "    >\n",
    "    > <font color='00a6ed'>\n",
    "If everthing went well, the cell should give a response that looks like: \n",
    ">\n",
    "> `Connecting to --port=COM4 --baud=115200`\n",
    ">\n",
    "> `Ready.`\n",
    "\n",
    "> If is is not the case, please check the hints in the intro manual\n"
   ]
  },
  {
   "cell_type": "markdown",
   "id": "152a8589",
   "metadata": {},
   "source": [
    "## Implement&Investigate 4: Generate a since and record Vout \n",
    "> <font color='grey'>⏳ Estimated time: 5 min</font>\n",
    "\n",
    "Only when it is safe, connect Vout not only to the voltmeter but also to pin Ain0 (also on the mulitfunction connector). Run the code below and see whether you measured the Thevenin voltage of the circuit correctly. "
   ]
  },
  {
   "cell_type": "code",
   "execution_count": 12,
   "id": "7f1f3484",
   "metadata": {},
   "outputs": [
    {
     "name": "stdout",
     "output_type": "stream",
     "text": [
      "[3.276585]\n"
     ]
    }
   ],
   "source": [
    "from functiongenerator import FuncGen, Sine\n",
    "import machine\n",
    "import time\n",
    " \n",
    "a0 = machine.ADC(26)\n",
    "\n",
    "samples = []\n",
    "\n",
    "with FuncGen(Sine(Vpp=2, offset=2, freq=25)):\n",
    "    voltage = a0.read_u16() * 3/2**16 \n",
    "    ## 3.0V corresponds to 16 bits, or 2**16=65536\n",
    "    samples.append(voltage)\n",
    "print(samples)\n",
    "\n"
   ]
  },
  {
   "cell_type": "code",
   "execution_count": null,
   "id": "35eb802b",
   "metadata": {},
   "outputs": [],
   "source": [
    "### TO DO =\"which voltage did you find and does it agree with your simulate results\"\n",
    "\n"
   ]
  },
  {
   "cell_type": "markdown",
   "id": "2162c961",
   "metadata": {},
   "source": [
    "<font color = 'blue'> Hint: </font> Your experimental values should be close enough to your simulated ones. If they are not, try trouble shooting steps below and call your TA!"
   ]
  },
  {
   "cell_type": "markdown",
   "id": "a255169d",
   "metadata": {},
   "source": [
    "\n",
    "\n",
    "> <font size=6>🔥</font>  \n",
    ">\n",
    "> <font color='ff6723'> Troubleshooting tips, if you don't measure the expected voltage\n",
    "    \n",
    "> * Is the value is close enough (the last band of the resistor is the tolerance)\n",
    "    \n",
    "> * If the measured value is far off:\n",
    ">     * if it is close to 0.07V: <br> this is the noise on an open channel. Most likely you have not yet connected the wire to the correct analog input channel\n",
    ">     * for other values: narrow down the issue: <br>disconnect the wire between V1_out and V2_out, and measure the two voltage dividers individually, first with the voltmeter to see the levels are safe, then with Ain0 and running the code. It could be you have to adapt the location of the wire and/or resistors. After checking the individual dividers are working correclty, connect V1_out and V2_out and measure V_thevenin. "
   ]
  },
  {
   "cell_type": "markdown",
   "id": "93f4e5c2",
   "metadata": {},
   "source": [
    " >### <font color='red'>Optional challenge </font>\n",
    " > you know measure the Thevenin voltage, but not yet the Thevenin resistance. WIth the Alpaca you can only measure voltage. \n",
    " > 1. imagine you could add an additional small load, say 100 $Ohm$, how could you use that in order to determine Thevenin resistance (in combination with your above measurement)\n",
    " > 2. Add such resistor, do the measurement, and derive Thevenin resistance. Does it match your prediction?"
   ]
  },
  {
   "cell_type": "code",
   "execution_count": 1,
   "id": "4d8880fe",
   "metadata": {},
   "outputs": [
    {
     "name": "stdout",
     "output_type": "stream",
     "text": [
      "\u001b[31mNo serial connected\n",
      "\u001b[0m  %serialconnect to connect\n",
      "  %esptool to flash the device\n",
      "  %lsmagic to list commands"
     ]
    }
   ],
   "source": [
    "### TO DO =\"optional challenge: describe how you found the value for the Thevenin resistance\"\n"
   ]
  },
  {
   "cell_type": "markdown",
   "id": "d4ff914c",
   "metadata": {
    "kernel": "MicroPython - USB"
   },
   "source": [
    "## Compare&Conclude\n",
    "> <font color='grey'>⏳ Estimated time: 10 min</font>\n",
    "\n",
    "* Wait till all (4) group members finish their observation\n",
    "* Compare your results with your other group members. \n",
    "* If your results agree, and are in line with all predictions, then talk to a TA and get checked off\n",
    "* Otherwise, so if your results do not agree, or your results are not in line with your predictions, then first discuss amongst your group before getting a TA. \n",
    " \n",
    "\n",
    "**to be checked off by a TA:** <br>\n",
    "1. Which voltages are safe to use on the Analog Input, and why you should use the Cria's Voltmeter before connecting Analog Input to the PicoPi?\n",
    "2. the Thevenin equivalent of the given circuit schematic (including the measurement) \n",
    "3. exit card: 1. Write a brief abstract on what you learned (conclusion, useful graph), 2. Which troubleshooting skills do you want to remember for next sessions, 3. Which code do you copy for use in next sessions,\n",
    "4. How do think this notebook could be improved"
   ]
  },
  {
   "cell_type": "code",
   "execution_count": null,
   "id": "a4ac51e6",
   "metadata": {},
   "outputs": [],
   "source": [
    "#2C Thevenin\n",
    "\n",
    "### TO DO=\"# What are the safe voltages for Ain, and 2. why to use the voltmeter on the Cria\"\n",
    "\n",
    "### TO DO=\"# 2.your values for the Thevenin equivalent, predicted and measured\"\n",
    "\n",
    "### TO DO=\"3a. abstract\"\n",
    "\n",
    "### TO DO=\"3b. troubleshooting\"\n",
    "\n",
    "### TO DO=\"3c. code\"\n",
    "\n",
    "### TO DO =\"4. what changes would you suggest?\"\n"
   ]
  },
  {
   "cell_type": "code",
   "execution_count": null,
   "id": "6cc31080",
   "metadata": {},
   "outputs": [],
   "source": [
    "#at the end of an assignment: reboot&disconnect \n",
    "# (such that for the next assignment you can restart fresh again)\n",
    "# and such that all Vout are switched off\n",
    "%rebootdevice\n",
    "%disconnect\n"
   ]
  },
  {
   "cell_type": "markdown",
   "id": "d79b31d8",
   "metadata": {},
   "source": [
    "When you can produce and record a sine wave, both your hardware and software allow you to use the ALPACA for further exercises! Congratulations! \n",
    "\n",
    "<font color='ff822d' size=6> 📝 <font> <font color='ff822d' size=4> **Todo**: <font>\n",
    " \n",
"* Recording voltmeter: https://www.youtube.com/watch?v=djbOieC-fH4\n",
"* Recording building voltage dividers on the ALPACA: https://www.youtube.com/watch?v=9AMlHRCkTU0\n"
   ]
  }
 ],
 "metadata": {
  "celltoolbar": "Create Assignment",
  "jupytext": {
   "formats": "ipynb,md"
  },
  "kernelspec": {
   "display_name": "Alpaca Kernel",
   "language": "python",
   "name": "alpaca"
  },
  "language_info": {
   "codemirror_mode": {
    "name": "ipython",
    "version": 3
   },
   "file_extension": ".py",
   "mimetype": "text/x-python",
   "name": "python",
   "nbconvert_exporter": "python",
   "pygments_lexer": "ipython3",
   "version": "3.10.14"
  }
 },
 "nbformat": 4,
 "nbformat_minor": 5
}
