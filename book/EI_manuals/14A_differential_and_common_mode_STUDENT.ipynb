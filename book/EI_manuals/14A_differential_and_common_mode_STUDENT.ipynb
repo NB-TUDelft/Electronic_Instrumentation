{
 "cells": [
  {
   "cell_type": "markdown",
   "id": "7356b21f",
   "metadata": {},
   "source": [
 "# 14A: Differential and common mode",
    "\n",
    "> <font color='blue'>Learning goal:</font> Understand the use of differential mode, bridge sensors, a comparator (with positive feedback), and sensing a magnetic field.\n",
    "\n",
    "Experiments of this week:\n",
    "- experiment 14A: simulate a circuit to understand how differential mode is amplified and common mode is rejected\n",
    "- experiment 14B: build a comparator (with hysteresis) circuit and explain its behaviour\n",
    "- experiment 14C: build a magnetic sensor using instrumentation amplifer and understand how it works\n",
    "\n",
    "Structure of an experiment:\n",
    "- Background+Anticipate + Simulate (50 min): per person. <br>\n",
    "  <font color='red'>This is homework and should be finished **before** you start your 4 hours practicum session</font>\n",
    "- Implement + Investigate (45 min): with your partner(group of 2)\n",
    "- Compare + Conclude (10 min): with a group of 4(per table)"
   ]
  },
  {
   "cell_type": "markdown",
   "id": "58109fb3",
   "metadata": {},
   "source": [
    "## Goals\n",
    "\n",
    "### Understanding Differential Signals\n",
    "\n",
    "- **Context of Previous Circuits**: Previously, we've seen circuits with signals referenced to ground, where one side of the signal source is grounded and the other is connected to the circuit input. The output is similarly measured with respect to ground.\n",
    "- **Differential Signals**: Often, we encounter signals not referenced to ground but to another potential in the circuit or system, known as differential signals. These are the differences in potential between two points (A and B).\n",
    "- **Handling Differential Signals**: Despite not being ground-referenced, differential signals can be filtered, amplified, etc. Their average value (potential) isn't zero but is considered as a common offset, known as the common mode voltage.\n"
   ]
  },
  {
   "cell_type": "markdown",
   "id": "d9fdd152",
   "metadata": {},
   "source": [
    "## <font color='magenta'> This whole notebook uses only LTSpice. If you want, you can do it all at home before the practical session. </font>"
   ]
  },
  {
   "cell_type": "markdown",
   "id": "58e9f14f",
   "metadata": {},
   "source": [
    "\n",
    "\n"
   ]
  },
  {
   "cell_type": "markdown",
   "id": "07993666-711a-4b95-b094-7b5be74d7367",
   "metadata": {},
   "source": [
    "## BACKGROUND\n",
    "> <font color='grey'>⏳ Estimated time: 20 min</font>\n",
    "\n",
    "## BACKGROUND\n",
    "> ⏳ **Estimated Time**: 20 min\n",
    "\n",
    "### Topics Covered:\n",
    "- Differential and common mode signals\n",
    "- Common Mode Rejection Ratio (CMMR)\n",
    "- Wheatstone bridge\n",
    "\n",
    "### Measuring Small Differential Signals\n",
    "Suppose you need to measure a small differential (time-varying) signal that is overshadowed by a much larger common-mode signal. Previously, we've seen that an AC mode can be used for this purpose. But what if your goal is to amplify the small differential mode?\n",
    "\n",
    "Using a single-ended amplifier (a standard amplifier type) would amplify both differential and common-mode signals equally. This approach makes it challenging to distinguish the small differential signal, as the amplifier is likely to saturate due to the high common-mode signal.\n",
    "\n",
    "![Differential and Common Mode Signal](https://gitlab.tudelft.nl/mwdocter/nb2214-images/-/raw/72f7c30357b9caa07cefd5a8c79735c2e179be67/LTS/LTS9_8.jpg)\n",
    "\n",
    "### OPAMP Simulation: Differential Amplifier\n",
    "In the OPAMP simulation session, focus will be on the differential amplifier, which involves an opamp and four resistors (two pairs with carefully chosen values). \n",
    "\n",
    "This setup is designed to measure **differential signals** = signals with the same amplitude but opposite phase (polarity).\n",
    "\n",
    "The key advantage of a differential amplifier is its ability to amplify only the differential part of the signal while suppressing any common-mode signal present. This common-mode signal could be a large voltage offset or external noise, which are typically not of interest.\n",
    "\n",
    "| Schematic of a Differential Amplifier | Voltage Reference Diagram |\n",
    "| --- | --- |\n",
    "| ![Differential Amplifier](https://gitlab.tudelft.nl/mwdocter/nb2214-images/-/raw/main/LTS/LTS9_1a.png) | ![Another Diagram](https://gitlab.tudelft.nl/mwdocter/nb2214-images/-/raw/72f7c30357b9caa07cefd5a8c79735c2e179be67/LTS/LTS9_2.png) |\n",
    "\n",
    "### Wheatstone Bridge: Differential and Common-Mode Signals\n",
    "The Wheatstone bridge exemplifies a signal source with both differential and common-mode signals. Similar to the diode bridge, it consists of four resistive elements. Some of these resistors change their resistance in response to external factors like magnetic fields or temperature. The voltage between the terminals UR and UL represents a **differential** signal, while the half-bridge voltage is a **common-mode** signal (shared by both UR and UL).\n",
    "\n",
    "#### Equations\n",
    "- **Differential Equation**: \n",
    "  $$ U_{diff} = U_{R} - U_{L} = \\frac{dR}{R} \\times U_{b} $$\n",
    "\n",
    "- **Common-mode Signal**: \n",
    "  $$ U_{com} = \\frac{U_{R} + U_{L}}{2} = \\frac{U_{b}}{2} $$\n",
    "  $$ U_{L} = U_{com} - \\frac{U_{d}}{2} $$\n",
    "  $$ U_{R} = U_{com} + \\frac{U_{d}}{2} $$"
   ]
  },
  {
   "cell_type": "markdown",
   "id": "0dd4fbdb",
   "metadata": {},
   "source": [
    "## ANTICIPATE: Gain of the Differential Amplifier\n",
    "> ⏳ **Estimated Time**: 15 min\n",
    "\n",
    "### Task: Calculate Differential Gain ($G_{d}$)\n",
    "Calculate the differential gain ($G_{d}$) of the differential amplifier shown in the circuit below. Consider the following assumptions:\n",
    "- Both voltage sources are ideal (output resistance = 0 Ω).\n",
    "- They have the same common signal, with a small difference between the two signals (like 5V ± a pulse of 10mV).\n",
    "- The OPAMP is assumed to be ideal.\n",
    "\n",
    "![Differential Amplifier Circuit](https://gitlab.tudelft.nl/mwdocter/nb2214-images/-/raw/72f7c30357b9caa07cefd5a8c79735c2e179be67/LTS/LTS9_8.jpg)\n",
    "\n",
    "### Understanding CMRR\n",
    "- **Explanation Required**: Describe what the Common Mode Rejection Ratio (CMRR) is.\n",
    "- **Impact of Resistor Mismatch**: Discuss the effects on the CMRR if R1 is not exactly equal to R3, or if R2 is not precisely the same as R4. Explain the reasons behind these effects.\n"
   ]
  },
  {
   "cell_type": "code",
   "execution_count": null,
   "id": "88d62a6c",
   "metadata": {},
   "outputs": [],
   "source": []
  },
  {
   "cell_type": "code",
   "execution_count": null,
   "id": "d5cf530a",
   "metadata": {},
   "outputs": [],
   "source": []
  },
  {
   "cell_type": "code",
   "execution_count": 2,
   "id": "dea09a8e",
   "metadata": {},
   "outputs": [],
   "source": [
    "### TO DO =\"your prediction for ideal and when the resistor values almost (but not completely) match\"\n",
    "\n",
    " "
   ]
  },
  {
   "cell_type": "markdown",
   "id": "799608f4",
   "metadata": {},
   "source": [
    "## SIMULATE: Making a Differential Signal\n",
    "> ⏳ **Estimated Time**: 15 min\n",
    "\n",
    "### Task 1: Generate a Differential Signal\n",
    "The objective is to generate a differential signal (Vd+ and Vd-) superimposed on a common-mode signal Vcom. The setup involves:\n",
    "- **Differential Signal**: A small pulse.\n",
    "- **Common Mode Signal**: A large sinewave.\n",
    "\n",
    "![Schematic for Differential Signal Generation](https://gitlab.tudelft.nl/mwdocter/nb2214-images/-/raw/72f7c30357b9caa07cefd5a8c79735c2e179be67/LTS/LTS9_3.jpg)\n",
    "\n",
    "#### Voltage Sources Configuration \n",
    "Enter the voltage sources description as indicated below. Note that the values for V3 are identical to V2.\n",
    "\n",
    "| Voltage Source V1 | Voltage Sources V2 and V3 |\n",
    "| --- | --- |\n",
    "| ![Voltage Source V2 Description](https://gitlab.tudelft.nl/mwdocter/nb2214-images/-/raw/72f7c30357b9caa07cefd5a8c79735c2e179be67/LTS/LTS9_4.jpg) | ![Voltage Source V3 Description](https://gitlab.tudelft.nl/mwdocter/nb2214-images/-/raw/72f7c30357b9caa07cefd5a8c79735c2e179be67/LTS/LTS9_5.jpg) |\n",
    "\n",
    "Note:\n",
    "- **Inverted Signal**: Since V3 is connected with its + terminal to Vcom, its - terminal (Vd-) will exhibit an inverted signal shape compared to Vd+.\n",
    "\n",
    "### Questions\n",
    "1. **Total Amplitude of Differential Signal**: What is the total amplitude of the differential signal? Include a screenshot to support your finding.\n",
    "2. **Visibility of Signal**: Can you clearly discern the differential signal just by observing Vd+ and Vd-?\n",
    "## SIMULATE: Making a Differential Signal\n",
    "> ⏳ **Estimated Time**: 15 min\n",
    "\n",
    "### Task 1: Generate a Differential Signal\n",
    "The objective is to generate a differential signal (Vd+ and Vd-) superimposed on a common-mode signal Vcom. The setup involves:\n",
    "- **Differential Signal**: A small pulse.\n",
    "- **Common Mode Signal**: A large sinewave.\n",
    "\n",
    "![Schematic for Differential Signal Generation](https://gitlab.tudelft.nl/mwdocter/nb2214-images/-/raw/72f7c30357b9caa07cefd5a8c79735c2e179be67/LTS/LTS9_3.jpg)\n",
    "\n",
    "#### Voltage Sources Configuration \n",
    "Enter the voltage sources description as indicated below. Note that the values for V3 are identical to V2.\n",
    "\n",
    "| Voltage Source V1 | Voltage Sources V2 and V3 |\n",
    "| --- | --- |\n",
    "| ![Voltage Source V2 Description](https://gitlab.tudelft.nl/mwdocter/nb2214-images/-/raw/72f7c30357b9caa07cefd5a8c79735c2e179be67/LTS/LTS9_4.jpg) | ![Voltage Source V3 Description](https://gitlab.tudelft.nl/mwdocter/nb2214-images/-/raw/72f7c30357b9caa07cefd5a8c79735c2e179be67/LTS/LTS9_5.jpg) |\n",
    "\n",
    "Note:\n",
    "- **Inverted Signal**: Since V3 is connected with its + terminal to Vcom, its - terminal (Vd-) will exhibit an inverted signal shape compared to Vd+.\n",
    "\n",
    "### Questions\n",
    "1. **Total Amplitude of Differential Signal**: What is the total amplitude of the differential signal? Include a screenshot to support your finding.\n",
    "2. **Visibility of Signal**: Can you clearly discern the differential signal just by observing Vd+ and Vd-?\n",
    "\n"
   ]
  },
  {
   "cell_type": "code",
   "execution_count": null,
   "id": "5a3c8714",
   "metadata": {},
   "outputs": [],
   "source": [
    "from ipywidgets import FileUpload\n",
    "from IPython.display import Image\n",
    "import os\n",
    "upload=FileUpload()\n",
    "upload\n"
   ]
  },
  {
   "cell_type": "code",
   "execution_count": 3,
   "id": "b19edce4",
   "metadata": {},
   "outputs": [],
   "source": [
    "### TO DO=\" What do you observe from Vd+ and Vd-\"\n",
    " "
   ]
  },
  {
   "cell_type": "code",
   "execution_count": null,
   "id": "9e50bce9",
   "metadata": {},
   "outputs": [],
   "source": [
    "file_name=\"14A_1_diffsignal.jpg\"\n",
    "if upload.value!={}:\n",
    "    with open(file_name,\"wb\") as f:\n",
    "        try: f.write(upload.data[-1]) # python 3.7 Kernel code, not working on Vocareum\n",
    "        except: f.write(upload.value[-1][\"content\"])  # python 3.8 Kernel code, not working on Vocareum\n",
    "\n",
    "Image(filename=file_name, width=\"50%\")\n"
   ]
  },
  {
   "cell_type": "markdown",
   "id": "2e511abd",
   "metadata": {},
   "source": [
    "> **__<font color='blue'>Hints:</font>__**\n",
    "> - Consider the non-zero difference between Vd+ and Vd-. \n",
    "> - Remember to account for the sign of each voltage.\n",
    "\n",
    "> **__<font color='red'>Troubleshooting tip:</font>__**\n",
    "> - If you're having difficulty discerning the difference between Vd+ and Vd-, try temporarily setting the sine wave to 0V and rerun the simulation for clarity.\n",
    "\n",
    "### Task 2: Plotting the Differential Signal\n",
    "1. **Plot Differential Signal**: Now, plot the differential signal *Vd+ - Vd-*. You should be familiar with how to plot an equation as a trace (right-click a trace in the plot of the simulation).\n",
    "2. **Observations**: What do you notice about the differential signal and common mode?\n",
    "3. **Evidence**: Upload a screenshot to support your observations and conclusions.\n",
    "4. __<font color='red'>SAVE YOUR LTSPICE DRAFT. YOU WILL NEED IT DURING I&I. Otherwise, you will have to redo it</font>__"
   ]
  },
  {
   "cell_type": "code",
   "execution_count": 4,
   "id": "e18800f7",
   "metadata": {},
   "outputs": [],
   "source": [
    "### TO DO=\" Do you see the common signal, differential or both signals. \"\n",
    " \n"
   ]
  },
  {
   "cell_type": "code",
   "execution_count": null,
   "id": "4de766fa",
   "metadata": {},
   "outputs": [],
   "source": [
    "upload"
   ]
  },
  {
   "cell_type": "code",
   "execution_count": null,
   "id": "ba267407",
   "metadata": {},
   "outputs": [],
   "source": [
    "file_name=\"14A_2_diffsignal_only.jpg\"\n",
    "if upload.value!={}:\n",
    "    with open(file_name,\"wb\") as f:\n",
    "        try: f.write(upload.data[-1]) # python 3.7 Kernel code, not working on Vocareum\n",
    "        except: f.write(upload.value[-1][\"content\"])  # python 3.8 Kernel code, not working on Vocareum\n",
    "\n",
    "Image(filename=file_name, width=\"50%\")"
   ]
  },
  {
   "cell_type": "code",
   "execution_count": 1,
   "id": "d210d825-fbbd-4698-88fb-1dc6f0ad95ee",
   "metadata": {},
   "outputs": [
    {
     "data": {
      "image/jpeg": "[encoded data removed]",
      "text/html": [
       "\n",
       "        <iframe\n",
       "            width=\"600\"\n",
       "            height=\"450\"\n",
       "            src=\"https://www.youtube.com/embed/UWEMglDP5Nk\"\n",
       "            frameborder=\"0\"\n",
       "            allowfullscreen\n",
       "            \n",
       "        ></iframe>\n",
       "        "
      ],
      "text/plain": [
       "<IPython.lib.display.YouTubeVideo at 0x2a8895d9de0>"
      ]
     },
     "execution_count": 1,
     "metadata": {},
     "output_type": "execute_result"
    }
   ],
   "source": [
    "#precap \n",
    "from IPython.lib.display import YouTubeVideo\n",
    "YouTubeVideo('UWEMglDP5Nk', width = 600, height = 450)"
   ]
  },
  {
   "cell_type": "markdown",
   "id": "8c802789",
   "metadata": {},
   "source": [
    "## IMPLEMENT & INVESTIGATE: <br> Simulate a Differential Amplifier Circuit\n",
    "> ⏳ **Estimated Time**: 45 min\n",
    "\n",
    "### Implement\n",
    "The goal is to simulate a differential amplifier, an essential electronic circuit for measuring the difference between Vd+ and Vd-. This task expands upon the circuit used in the previous simulation.\n",
    "\n",
    "![Differential Amplifier Circuit](https://gitlab.tudelft.nl/mwdocter/nb2214-images/-/raw/72f7c30357b9caa07cefd5a8c79735c2e179be67/LTS/LTS9_9.jpg)\n",
    "\n",
    "#### Circuit Setup Instructions\n",
    "- **Power Supply**: Note the dual power supply on the left, labeled as Vp and Vn, for powering the OPAMP.\n",
    "- **Signal Connections**: Connect the signals Vd+ and Vd- to the inputs of the amplifier using labels. \n",
    "    - **Important**: Remember that the non-inverting input is below the inverting input.\n",
    "- __<font color='orange'>Caution:</font>__ Ensure that the Vcom sinewave has a **1 volt** amplitude before simulating the circuit.\n",
    "\n",
    "### Investigate\n",
    "- **1. Output Signal Description**: After simulating the circuit, describe the output signal. Focus on two aspects:\n",
    "  - Differential Signal Gain\n",
    "  - Common-Mode Signal\n"
   ]
  },
  {
   "cell_type": "markdown",
   "id": "1e029bd0",
   "metadata": {},
   "source": [
    "> __<font color='blue'>Hint:</font>__\n",
    "**You can reduce the font size** of the expressions appearing in the schematic, it occupies\n",
    "quite some space. When you extend the schematic and need the space, rightclick the text to change font size."
   ]
  },
  {
   "cell_type": "code",
   "execution_count": null,
   "id": "18793b28",
   "metadata": {},
   "outputs": [],
   "source": [
    "### TO DO=\" how does the output depend on common mode and differential signal\"\n",
    " "
   ]
  },
  {
   "cell_type": "markdown",
   "id": "85db207d",
   "metadata": {},
   "source": [
    "- **2. Identifying Common-Mode Sine-Wave:** Examine the output signal closely to identify the common-mode sine-wave. Here are the steps to follow:\n",
    "\n",
    "    1. **Zooming In**: Focus on the y-axis scale of the output signal. Right-click on the y-scale and adjust it to zoom in, making the sine-wave visible.\n",
    "    2. **Amplitude Measurement**: Determine the amplitude of the common-mode sine-wave once it becomes visible.\n",
    "\n",
    "> __<font color='blue'>Hint:</font>__\n",
    "> The common-mode signal is significantly suppressed (rejected), resulting in a very small amplitude. You may need to zoom into the microvolt (uV) scale to clearly observe the common mode signal.\n"
   ]
  },
  {
   "cell_type": "code",
   "execution_count": null,
   "id": "3ecc6444",
   "metadata": {},
   "outputs": [],
   "source": [
    "### TO DO=\" What is the amplitude of the sine wave (zoom in!)\"\n",
    " "
   ]
  },
  {
   "cell_type": "markdown",
   "id": "d2fd9c34",
   "metadata": {},
   "source": [
    "- **3. Determine the gain ($G_{c}$) of the common-mode signal, as ratio and in dB.**\n",
    "\n",
    "- **4. Determine the Common Mode Rejection Ratio (CMMR)**, the CMRR is defined as:\n",
    " $CMRR = \\frac{G_{d}}{G_{c}} $"
   ]
  },
  {
   "cell_type": "code",
   "execution_count": null,
   "id": "136a839b",
   "metadata": {},
   "outputs": [],
   "source": [
    "### TO DO=\" Derivation for CMRR\"\n",
    " "
   ]
  },
  {
   "cell_type": "markdown",
   "id": "c36dd922",
   "metadata": {},
   "source": [
    "#### Realistic Common-Mode Rejection Analysis\n",
    "The common-mode rejection observed in this simulation is **unrealistically** high due to perfect conditions that are hard to replicate in real life. This is because:\n",
    "\n",
    "- The resistors in the simulation are 100% matching.\n",
    "- Both inputs of the OPAMP are identical, *which in practice is impossible to achieve.*\n",
    "\n",
    "#### Adjusting for Realism\n",
    "- **5. To simulate a more realistic scenario, make the following adjustment:**\n",
    "\n",
    "    1. **Change Resistor Value**: Modify the value of resistor R3 to be 1% larger than its current value.\n",
    "    2. **Re-evaluate Parameters**: After changing R3, re-determine the common-mode gain ($G_{c}$) and the Common Mode Rejection Ratio (CMMR).\n",
    "\n"
   ]
  },
  {
   "cell_type": "code",
   "execution_count": null,
   "id": "2316fe2e",
   "metadata": {},
   "outputs": [],
   "source": [
    "### TO DO=\" write your answer here for the CMRR with R3+1%\"\n",
    " \n"
   ]
  },
  {
   "cell_type": "markdown",
   "id": "fcec7a7c",
   "metadata": {},
   "source": [
    "- **6. What is the drop in CMRR?**"
   ]
  },
  {
   "cell_type": "code",
   "execution_count": null,
   "id": "a99ac644",
   "metadata": {},
   "outputs": [],
   "source": [
    "### TO DO=\"derive the change in CMRR due to mismatch in resistance values\"\n",
    " "
   ]
  },
  {
   "cell_type": "markdown",
   "id": "ca5cf3cb",
   "metadata": {},
   "source": [
    "This is a more realistic value of CMRR, but in practice it is difficult to achieve such good preformance with this kind of circuit."
   ]
  },
  {
   "cell_type": "markdown",
   "id": "d624cbe7",
   "metadata": {},
   "source": [
    "## COMPARE & CONCLUDE\n",
    "> <font color='grey'>⏳ Estimated time: 10 min</font>\n",
    "\n",
    "### Group Collaboration and Comparison\n",
    "1. **Wait for All Members**: Ensure that all four group members have completed their observations.\n",
    "2. **Compare Results**: Discuss and compare your findings with the rest of your group members.\n",
    "3. **Consensus and Verification**:\n",
    "   - If your results are consistent and align with predictions, call a TA for verification and check-off.\n",
    "   - If there are discrepancies in your results, or they don't match your predictions, discuss these among your group before seeking assistance from a TA.\n",
    "\n",
    "### TA Check-off Requirements\n",
    "1. What was the ideal CMRR and the more realistic CMRR?\n",
    "2. How do you calculate ($G_{d}$) ?\n",
    "3. exit card: 1. Write a brief abstract on what you learned (conclusion, useful graph), 2. Which troubleshooting skills do you want to remember for next sessions, 3. Which code do you copy for use in next sessions,\n",
    "4. How do think this notebook could be improved"
   ]
  },
  {
   "cell_type": "code",
   "execution_count": null,
   "id": "4beb5a96",
   "metadata": {},
   "outputs": [],
   "source": [
    "#14A differential and common mode\n",
    "### TO DO=\"1. ideal CMRR\"\n",
    "\n",
    "### TO DO=\" 2. how do you calculate Gd?\"\n",
    " \n",
    "### TO DO=\"3a. abstract\"\n",
    " \n",
    "### TO DO=\"3b. troubleshooting\"\n",
    " \n",
    "### TO DO=\"3c. code\"\n",
    " \n",
    "### TO DO=\"4. what changes would you suggest?\"\n",
    " \n",
    "\n"
   ]
  },
  {
   "cell_type": "code",
   "execution_count": null,
   "id": "8bdb081e-f0bb-42e2-b4d1-46c01ca1e00b",
   "metadata": {},
   "outputs": [],
   "source": [
    "#recording \n",
    "from IPython.lib.display import YouTubeVideo\n",
    "YouTubeVideo('mrvtgzx2Cik', width = 600, height = 450)"
   ]
  }
 ],
 "metadata": {
  "jupytext": {
   "formats": "ipynb,md"
  },
  "kernelspec": {
   "display_name": "Python 3",
   "language": "python",
   "name": "python3"
  },
  "language_info": {
   "codemirror_mode": {
    "name": "ipython",
    "version": 3
   },
   "file_extension": ".py",
   "mimetype": "text/x-python",
   "name": "python",
   "nbconvert_exporter": "python",
   "pygments_lexer": "ipython3",
   "version": "3.8.8"
  }
 },
 "nbformat": 4,
 "nbformat_minor": 5
}
