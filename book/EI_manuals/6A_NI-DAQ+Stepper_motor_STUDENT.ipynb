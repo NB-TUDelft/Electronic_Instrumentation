{
 "cells": [
  {
   "cell_type": "code",
   "execution_count": null,
   "id": "4fd28b12",
   "metadata": {},
   "outputs": [],
   "source": [
    "from IPython.core.display import HTML\n",
    "def set_width(width):\n",
    "    display(HTML(f\"\"\"<style>  \n",
    "            .container {{ width:{width}% !important; \n",
    "                            min-width:800px !important; margin: 0 auto}} \n",
    "            .jp-Cell {{ width:{width}% !important; \n",
    "                            min-width:800px !important; margin: 0 auto}} </style>\"\"\"))\n",
    "# Set container width to X% of the fullscreen \n",
    "set_width(50)"
   ]
  },
  {
   "cell_type": "markdown",
   "id": "db35b51f",
   "metadata": {},
   "source": [
    "# 6A: Using NI-DAQ for digital output\n",
    "> <font color='blue'>Learning goal:</font> Learn how to use NI-DAQ to create digital signals. Light up led diode and make stepper motor move using NI-DAQ\n",
    "\n",
    "Experiments of this week:\n",
    "- experiment 6A: use NI-DAQ to create digital signals\n",
    "- experiment 6B: use PicoPI to create a visual Morse signal and observe digital signals\n",
    "- experiment 6C: program your Alpaca using a mix digital inputs and outputs\n",
    "\n",
    "Structure of an experiment:\n",
    "- Anticipe + Stimulate (15+15+5): per person. This is homework and should be finished **before** you start your 4 hours practicum session\n",
    "- Implement + Investigate (30+20): with your partner(group of 2)\n",
    "- Compare + Conclude (15 min): with a group of 4(per table)"
   ]
  },
  {
   "cell_type": "markdown",
   "id": "95218026",
   "metadata": {},
   "source": [
    "## BACKGROUND\n",
    "> <font color='grey'>⏳ Estimated time: 15 min</font>\n",
    "\n",
    "In this part of the practicals we occupy ourselves with interfaces directly between the real analog world and the PC. Both directions are covered: the conversion of an analog signal outside the PC into a digital representation of the signal inside the PC by an analog-to-digital converter (ADC) and conversely by a digital-to-analog converter (DAC). You can thus directly input an analog voltage to the interface or output an analog voltage from it. The interface is usually executed as a plug-in board with an edge connector that is plugged into an expansion slot of the PC. This type of interface is described with the term data-acquisition board. The DAQ-board is not an independent measuring device; it has no display and no own power supply, and is always used in combination with a PC.\n",
    "\n",
    "**note: the DAQ board is in the PC. Whenever you want to use the DAQ card through Python/Jupyter notebook (like this assignment) you will need to download the jupyter notebook file on the classroom PC and run it locally.**\n",
    "\n",
    "Usually the board also has provisions for digital I/O, where the conversion of the digital representation inside the PC to a digital signal outside the PC and vice versa takes place. For this, so-called I/O ports and I/O lines are used. On the board counters and timers are present for the timing of signals.\n",
    "\n",
    "In this practical we use the NI PCI-6221 DAQ board of National Instruments. You can find this board next to your computer. \n",
    "\n",
    "This popular M-series multifunction DAQ board has a. o. the following specifications. Except the counter, you will be using the analog and digital inputs and outputs plus the trigger:\n",
    "* Analog input: \n",
    "    * 16 single-ended or 8 differential channels\n",
    "    * 16 bits ADC resolution\n",
    "    * 250 kS/s (kilosamples per second) sampling rate\n",
    "    * ± 10 V,  ± 5 V, ± 1 V, ± 0.2 V input range\n",
    "* Analog output:\n",
    "    * 2 channels\n",
    "    * 16 bits DAC resolution\n",
    "    * 740 kS/s per channel update rate\n",
    "    * ± 10 V output range\n",
    "* Digital I/O:\n",
    "    * 24 input/output\n",
    "* Counter/timers:\n",
    "    * 2 up/down\n",
    "    * 32 bits resolution\t\n",
    "    * 80 MHz time base rate\n",
    "* Triggers:\n",
    "    * digital\n",
    "\n",
    "\n",
    "The 68 pins connector on the board is connected to the breakout box BNC-2110.\n",
    "<table><tr>\n",
    "<td>\n",
    "<img src=\"https://gitlab.tudelft.nl/mwdocter/nb2214-images/-/raw/main/PyDAQ-Next/PyDAQ1-img1.jpg\" width=70%></img>\n",
    "</td>\n",
    "<td>\n",
    "<img src=\"https://gitlab.tudelft.nl/mwdocter/nb2214-images/-/raw/main/PyDAQ-Next/PyDAQ1-img2.png\" width=70%></img>\n",
    "</td>\n",
    "</tr></table>"
   ]
  },
  {
   "cell_type": "markdown",
   "id": "b8f0a3f1",
   "metadata": {},
   "source": [
    "In this first assignment you will let a motor turn. \n",
    "\n",
    "<img src=\"https://gitlab.tudelft.nl/mwdocter/nb2214-images/-/raw/main/PyDAQ-Next/6A_stepper_motor.jpg\" width=50%></img>\n",
    "\n",
    "After powering the motor, the motor can be connected and controlled through the three signal wires: black for ground, and {red and green} for {step and direction}. Note: at this point we do not tell you whether the step is controlled through the red or green wire, this is something you'll have to discover yourself. \n",
    "The applied signals are logical (so called TTL) signals, which means 'digital low 0' = 0V, and 'digital high 1'= 5V. \n",
    "\n",
    "- In order to let the motor turn a bit (\"make a step\"), it needs the signal on the pulse input to go from low to high TTL signal. Whenever the input signal goes from low to high, the motor moves **7 degrees** and the (middle) PULSE LED lights up. The rotation speed is limited to 1 Hz.\n",
    "\n",
    "- The spinning direction is determined from the left/right input. low signal (0) means clockwise direction, high signal (1) means anti-clockwise direction. The corresponding left or right LED will light up. \n"
   ]
  },
  {
   "cell_type": "markdown",
   "id": "8e8712b2",
   "metadata": {},
   "source": [
    "## ANTICIPATE: connection points on the board and signal required to make stepper motor move\n",
    "> <font color='grey'>⏳ Estimated time: 15 min</font>\n",
    "\n",
    "1. In order to familiarize yourself with DAQ board, pinpoint on the top BNC connector image where the following connections are. You can make a graphic or write it in text:\n",
    "* analog in 0 (AI0)\n",
    "* analog out 0 (AO0)\n",
    "* Digital I/O line P0.0\n",
    "* Digital Ground\n",
    "* PFI 0 \n",
    "\n",
    "2. Make a prediction (either in text or in drawing) which signals you have to generate in order to:\n",
    "* let the motor make 2 full turns to the left\n",
    "* let the motor make 3 full turns to the right\n",
    "\n",
    "> <font size=4>ℹ️</font> <b>Hint</b><br> the 'direction' signal and 'pulse' signal are 2 different inputs on the DAQ!"
   ]
  },
  {
   "cell_type": "code",
   "execution_count": null,
   "id": "5cf32d0a",
   "metadata": {},
   "outputs": [],
   "source": [
    "from ipywidgets import FileUpload\n",
    "from IPython.display import Image\n",
    "\n",
    "upload=FileUpload()\n",
    "upload"
   ]
  },
  {
   "cell_type": "code",
   "execution_count": null,
   "id": "3597131e",
   "metadata": {},
   "outputs": [],
   "source": [
    "file_name=\"6A_1a_daqdescription.jpg\"\n",
    "if upload.value!={}:\n",
    "    with open(file_name,\"wb\") as f:\n",
    "        try: f.write(upload.data[-1]) # python 3.7 Kernel code, \n",
    "        except: f.write(upload.value[-1][\"content\"])  # python 3.8 Kernel code, \n",
    "\n",
    "Image(filename=file_name, width=\"50%\")"
   ]
  },
  {
   "cell_type": "code",
   "execution_count": null,
   "id": "d0ef8e90",
   "metadata": {},
   "outputs": [],
   "source": [
    "upload"
   ]
  },
  {
   "cell_type": "code",
   "execution_count": null,
   "id": "c51b5145",
   "metadata": {},
   "outputs": [],
   "source": [
    "file_name=\"6A_1b_stepperdescription.jpg\"\n",
    "if upload.value!={}:\n",
    "    with open(file_name,\"wb\") as f:\n",
    "        try: f.write(upload.data[-1]) # python 3.7 Kernel code, \n",
    "        except: f.write(upload.value[-1][\"content\"])  # python 3.8 Kernel code, \n",
    "\n",
    "Image(filename=file_name, width=\"50%\")"
   ]
  },
  {
   "cell_type": "code",
   "execution_count": null,
   "id": "c6743e4d",
   "metadata": {},
   "outputs": [],
   "source": [
    "### TO DO=\"your answer on which signals you have to generate\"\n"
   ]
  },
  {
   "cell_type": "markdown",
   "id": "d4b5ecea",
   "metadata": {},
   "source": [
    "## SIMULATE\n",
    "> <font color='grey'>⏳ Estimated time: 5 min</font>\n",
    "\n",
    "There is no simulation for this experiment, but do already think about:\n",
    "1. What would happen if you swap the pulse and left/right signals\n",
    "2. If these signals are swapped, think about how to adapt. Do you prefer changing wires, or adapting code?"
   ]
  },
  {
   "cell_type": "code",
   "execution_count": 1,
   "id": "ab8456a6",
   "metadata": {},
   "outputs": [],
   "source": [
    "### TO DO=\"your answers regarding swapping pulse with left/right signal\"\n"
   ]
  },
  {
   "cell_type": "markdown",
   "id": "2154d4bf",
   "metadata": {},
   "source": [
    "If you want to have a precap on the lab work, feel free to watch the following movie"
   ]
  },
  {
   "cell_type": "markdown",
   "id": "ee048b58",
   "metadata": {},
   "source": [
    "* Precap:https://www.youtube.com/watch?v=2oJ4llTsxgc\n"
   ]
  },
  {
   "cell_type": "markdown",
   "id": "5c1a9a2c",
   "metadata": {},
   "source": [
    "## IMPLEMENT & INVESTIGATE 1: Explore the NI-DAQ code for switching on LEDs. \n",
    "> <font color='grey'>⏳ Estimated time: 30 min</font>\n",
    "\n",
    "**You will need to run python locally on Studio Classroom desktop for later exercise.**\n",
    "\n",
    "<font size=4>ℹ️</font> <b>Note</b> <br> You do not have to install anything, just select the right kernel in VScode on the SCR desktop computers. We tested this code works with kernel: base (Python 3.11.9)"
   ]
  },
  {
   "cell_type": "markdown",
   "id": "ca8e48dd",
   "metadata": {},
   "source": [
    "In the Studio Classroom (SCR) the board has already been installed and configured with the NI-DAQ driver software and support files. Within NI-DAQ software, the Measurement & Automation Explorer (MAX), has been installed. Feel free to explore this graphical user interface, but note we will only use code from now. In this assignment we start with the digital signals, in later exercises also analog signals will be used. "
   ]
  },
  {
   "cell_type": "markdown",
   "id": "2161fef6",
   "metadata": {},
   "source": [
    "### You will need to run python locally on Studio Classroom desktop.\n",
    "\n",
    "### Switching on LED\n",
    "\n",
    "* Connect an LED with its long pin into P0.0 and its short pin into D GND of your DAQ breakout box, section Digital and Timing I/O.\n",
    "You can find the LED in a same box where T-junction.\n",
    "Note that I/O stands for Input/Output; LED stands for Light Emitting Diode\n",
    "\n",
    "**Put the LED in the big holes, those make the best connection.** <br>\n",
    "**Use the orange button to open the clamp (on the bottom of the hole), both when inserting and most importantly during removal**\n",
    "\n",
    "* Run the code below and make sure the LED is on. If not working: make sure the pins are well-connected and the LED is not broken.\n",
    "\n",
    "> ### <font color='blue'>Important:</font> \n",
    "> As you will learn in octal 3 a diode is one-directional. If your LED is not switching on/off, please check whether you connected it correctly"
   ]
  },
  {
   "cell_type": "code",
   "execution_count": null,
   "id": "9cb22cdb",
   "metadata": {},
   "outputs": [],
   "source": [
    "import nidaqmx\n",
    "import numpy as np\n",
    "import matplotlib.pyplot as plt\n",
    "import time\n",
    "from nidaqmx.constants import AcquisitionType, Edge, LineGrouping\n",
    "\n",
    "system = nidaqmx.system.System.local()\n",
    "\n",
    "with nidaqmx.Task() as task:\n",
    "    task.do_channels.add_do_chan('Dev1/port0/line0')\n",
    "    task.write(True)\n"
   ]
  },
  {
   "cell_type": "code",
   "execution_count": null,
   "id": "f4188e7f",
   "metadata": {},
   "outputs": [],
   "source": [
    "### TO DO=\"Did you get the LED working?\"\n"
   ]
  },
  {
   "cell_type": "markdown",
   "id": "e8fc83e4",
   "metadata": {},
   "source": [
    "Alter the code below and switch off the LED programmatically after one second.\n",
    "\n",
    "\n",
    "> <font size=4>ℹ️</font> <b>Hint</b><br> The 'with' statement is used for simplificiation with resources. Also see https://www.geeksforgeeks.org/with-statement-in-python/. You can do anything with the task inside the with statement, outside the statement the nidaqmx.Task() is closed and unavailable for further use. "
   ]
  },
  {
   "cell_type": "code",
   "execution_count": null,
   "id": "9b57efac",
   "metadata": {},
   "outputs": [],
   "source": [
    "import nidaqmx\n",
    "import numpy as np\n",
    "import matplotlib.pyplot as plt\n",
    "import time\n",
    "from nidaqmx.constants import AcquisitionType, Edge, LineGrouping\n",
    "\n",
    "system = nidaqmx.system.System.local()\n",
    "\n",
    "with nidaqmx.Task() as task:\n",
    "    task.do_channels.add_do_chan('Dev1/port0/line0')\n",
    "    task.write(True)\n",
    "### TO DO=\"your code, hint: use time.sleep and task.write\"\n"
   ]
  },
  {
   "cell_type": "markdown",
   "id": "287e12c0",
   "metadata": {},
   "source": [
    "### Now we are going to use 2 LEDs"
   ]
  },
  {
   "cell_type": "markdown",
   "id": "77d65aee",
   "metadata": {},
   "source": [
    "* Add another LED in P0.1 and D GND.\n",
    "\n",
    "There are two versions of a code. One contains `line_grouping=LineGrouping.CHAN_FOR_ALL_LINES`, the other one `line_grouping=LineGrouping.CHAN_PER_LINE`.\n",
    "* Run the codes below. Explore the difference between the two versions. "
   ]
  },
  {
   "cell_type": "code",
   "execution_count": null,
   "id": "832ec515",
   "metadata": {},
   "outputs": [],
   "source": [
    "import nidaqmx\n",
    "import numpy as np\n",
    "import matplotlib.pyplot as plt\n",
    "import time\n",
    "from nidaqmx.constants import AcquisitionType, Edge, LineGrouping\n",
    "\n",
    "system = nidaqmx.system.System.local()\n",
    "\n",
    "with nidaqmx.Task() as task:\n",
    "    task.do_channels.add_do_chan('Dev1/port0/line0:1', line_grouping=LineGrouping.CHAN_FOR_ALL_LINES)\n",
    "    task.write(1),    time.sleep(1)\n",
    "    task.write(2),    time.sleep(1)\n",
    "    task.write(3),    time.sleep(1)\n",
    "    task.write(0),    time.sleep(1)\n"
   ]
  },
  {
   "cell_type": "code",
   "execution_count": null,
   "id": "8960357a",
   "metadata": {},
   "outputs": [],
   "source": [
    "#import nidaqmx\n",
    "#import numpy as np\n",
    "#import matplotlib.pyplot as plt\n",
    "#import time\n",
    "#from nidaqmx.constants import AcquisitionType, Edge, LineGrouping\n",
    "\n",
    "#system = nidaqmx.system.System.local()\n",
    "\n",
    "with nidaqmx.Task() as task:\n",
    "    task.do_channels.add_do_chan('Dev1/port0/line0:1',line_grouping=LineGrouping.CHAN_PER_LINE)\n",
    "    task.write([True,False]),    time.sleep(1)\n",
    "    task.write([False,True]),    time.sleep(1)\n",
    "    task.write([True,True]),     time.sleep(1)\n",
    "    task.write([False,False]),   time.sleep(1)"
   ]
  },
  {
   "cell_type": "markdown",
   "id": "242fffb8",
   "metadata": {},
   "source": [
    "Why do we end with `task.write(0)` or `task.write([False,False])`(what do they do)?\n",
    "\n",
    "> <font size=4>ℹ️</font> <b>Hints to explore and answer the above question</b> <br>\n",
    "> * notice the difference in line_grouping\n",
    "> * comment out lines to see what each individual line does. \n",
    "> * Or introduce longer pauses, with import time, time.sleep(1) to see which line you are on\n",
    "\n",
    "Why would you use one code over the other?\n",
    "\n",
    "**If your LEDs are not working, contact a TA and get help** \n"
   ]
  },
  {
   "cell_type": "code",
   "execution_count": null,
   "id": "3bd64041",
   "metadata": {},
   "outputs": [],
   "source": [
    "\n",
    "### TO DO =\"Explain which LineGrouping you choose\" \n"
   ]
  },
  {
   "cell_type": "markdown",
   "id": "d8323839",
   "metadata": {},
   "source": [
    "## IMPLEMENT & INVESTIGATE 2: Make stepper motor move\n",
    "> <font color='grey'>⏳ Estimated time: 20 min</font>"
   ]
  },
  {
   "cell_type": "markdown",
   "id": "9627c79f",
   "metadata": {},
   "source": [
    "Now you are finally ready to make stepper motor move! \n",
    "* Take the stepper motor from the caddy and __power__ it. \n",
    "\n",
    "Connect it to DAQ:\n",
    "* The black wire goes to D GND\n",
    "* The red and green are for left/right and making a step (for you to figure out which one is which )). Connect them to P0.0 and P0.1 (figure out which cable where).\n",
    "\n",
    "## When you want to remove the cables from the big holes, press the orange button (with a pen tip or a screwdriver) to release. DO NOT PULL when you encounter resistance\n",
    "\n",
    "Adapt the code below to let the motor spin first 2 full turns to the left and then 3 full turns to the right.\n",
    ">  <font size=4>ℹ️</font> <b>Hints</b> <br>\n",
    "> * First make it spin just to the left, it will help you figure out if you connected the cables right\n",
    "> * '...' and .\"__FILL_IN__\" indicates you should add a line of code or complete pre-existing code there\n"
   ]
  },
  {
   "cell_type": "code",
   "execution_count": null,
   "id": "1f9cef77",
   "metadata": {},
   "outputs": [],
   "source": [
    "#if you want to run just part of the code, comment the rest out(don't delete it!)\n",
    "with nidaqmx.Task() as task:\n",
    "    task.do_channels.add_do_chan('Dev1/port0/line0:1',line_grouping=LineGrouping.\"__FILL_IN__\"   ) \n",
    "    left_right= ... # are you going left or right\n",
    "    time_to_wait= ...                                                                               \n",
    "    for ii in range(       ...   ): # you calculated that in your anticipate!\n",
    "        task.write(  ...  ),    time.sleep(time_to_wait) # make it move! (this and next line) get inspired by code in I&I1\n",
    "        ...\n",
    "    ...   switch direction\n",
    "    for ii in range(    ...       ):\n",
    "        task.write(   ...    ),    time.sleep(time_to_wait)  \n",
    "        ...\n",
    "    ... # (end 'with' statement) "
   ]
  },
  {
   "cell_type": "code",
   "execution_count": null,
   "id": "9ad0caed",
   "metadata": {},
   "outputs": [],
   "source": [
    "### TO DO=\"# did you power the motor?\"\n"
   ]
  },
  {
   "cell_type": "markdown",
   "id": "c1fdc6ac",
   "metadata": {},
   "source": [
    "If you need more ideas, here are a couple more hints for you!\n",
    "> <font size=4>ℹ️</font> <b>Hints</b> <br>\n",
    "> - You have used task.write() before, to light two LEDs. Use that code as inspiration. \n",
    "> - Try to figure out which output port corresponds to which wire. You can use NI-MAX.\n",
    "> - If you have them connected wrongly, think about solving it either with the wires or the code (whatever you find easier)\n",
    "> - Expected: a functional code that makes the motor first spin 2 full tunrs to the left and then 3 full turns to the right."
   ]
  },
  {
   "cell_type": "markdown",
   "id": "7ceec292",
   "metadata": {},
   "source": [
    "### Congratulations! You made stepper motor move. You will need to show to the TA that it is working either in person or take video proof\n",
    "\n",
    "### Remember to save this notebook in H drive on the desktop! Feel free to send it to yourself, or access the H-drive remotely. "
   ]
  },
  {
   "cell_type": "markdown",
   "id": "a3c71140",
   "metadata": {},
   "source": [
    "## COMPARE & CONCLUDE\n",
    "> <font color='grey'>⏳ Estimated time: 15 min</font>\n",
    "\n",
    "* Wait till all (4) group members finish their observation\n",
    "* Compare your results with your other group members. \n",
    "* If your results agree, and are in line with all predictions, then talk to a TA and get checked off\n",
    "* Otherwise, so if your results do not agree, or your results are not in line with your predictions, then first discuss amongst your group before getting a TA. \n",
    "\n",
    "\n",
    "**to be checked off by a TA:**\n",
    "1. Show your motor move in the requested way\n",
    "2. Reflect on the journey from predicted signal to functioning Python code: which steps did you take\n",
    "3. exit card: \n",
    "    1. Write a brief abstract on what you learned (conclusion, useful graph), \n",
    "    2. Which troubleshooting skills do you want to remember for next sessions, \n",
    "    3. Which code do you copy for use in next sessions,\n",
    "4. How do you think this notebook could be improved"
   ]
  },
  {
   "cell_type": "code",
   "execution_count": null,
   "id": "6e204ccc",
   "metadata": {},
   "outputs": [],
   "source": [
    "#6A stepper motor\n",
    "### TO DO=\"1. show your TA your spinning motor\"\n",
    "\n",
    "### TO DO=\"2.reflect on your journey from prediction to correct motor movement\"\n",
    "\n",
    "### TO DO=\"3a. abstract\"\n",
    "\n",
    "### TO DO=\"3b. troubleshooting\"\n",
    "\n",
    "### TO DO=\"3c. code\"\n",
    "\n",
    "### TO DO=\"4. what changes would you suggest?\"\n"
   ]
  },
  {
   "cell_type": "code",
   "execution_count": null,
   "id": "13e13fda",
   "metadata": {},
   "outputs": [],
   "source": [
    "#no recording this time: just look at your motor spinning "
   ]
  }
 ],
 "metadata": {
  "kernelspec": {
   "display_name": "Python 3 (ipykernel)",
   "language": "python",
   "name": "python3"
  },
  "language_info": {
   "codemirror_mode": {
    "name": "ipython",
    "version": 3
   },
   "file_extension": ".py",
   "mimetype": "text/x-python",
   "name": "python",
   "nbconvert_exporter": "python",
   "pygments_lexer": "ipython3",
   "version": "3.13.5"
  }
 },
 "nbformat": 4,
 "nbformat_minor": 5
}
