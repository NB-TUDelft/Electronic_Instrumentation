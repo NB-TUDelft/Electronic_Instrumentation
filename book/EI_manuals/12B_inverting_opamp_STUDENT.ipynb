{
 "cells": [
  {
   "cell_type": "markdown",
   "id": "663d6fa6",
   "metadata": {},
   "source": [
    "<div class=\"alert alert-block alert-info\">\n",
    "\n",
    "**Accessibility of the notebook:**\n",
    "- You can adjust the width of the text with the function provided below. Copy it into a new code cell and execute it using the `ipykernel`.\n",
    "    ```python\n",
    "    from IPython.core.display import HTML\n",
    "    def set_width(width):\n",
    "        display(HTML(f\"\"\"<style>  \n",
    "                .container {{ width:{width}% !important; \n",
    "                                min-width:800px !important; margin: 0 auto}} \n",
    "                .jp-Cell {{ width:{width}% !important; \n",
    "                                min-width:800px !important; margin: 0 auto}} </style>\"\"\"))\n",
    "    # Set container width to X% of the fullscreen \n",
    "    set_width(50)\n",
    "    ```\n",
    "- You can toggle the auto-numbering of the sections in the outline toolbox (sidebar or topbar).\n",
    "- You can toggle the code line numbers in the dropdown menu of the \"view\" button in the topbar. \n",
    "- You can collapse/expand a cell by clicking the blue bar on the left side of the cell.\n",
    "\n",
    "</div>"
   ]
  },
  {
   "cell_type": "code",
   "execution_count": null,
   "id": "c7cbc8dd",
   "metadata": {},
   "outputs": [],
   "source": [
    "from IPython.core.display import HTML\n",
    "def set_width(width):\n",
    "    display(HTML(f\"\"\"<style>  \n",
    "            .container {{ width:{width}% !important; \n",
    "                            min-width:800px !important; margin: 0 auto}} \n",
    "            .jp-Cell {{ width:{width}% !important; \n",
    "                            min-width:800px !important; margin: 0 auto}} </style>\"\"\"))\n",
    "# Set container width to X% of the fullscreen \n",
    "set_width(50)"
   ]
  },
  {
   "cell_type": "markdown",
   "id": "08cde242",
   "metadata": {},
   "source": [
    "Experiments of this week:\n",
    "- experiment 12A: Simulate and build a non-inverting opamp\n",
    "- experiment 12B: Simulate and build an inverting opamp\n",
    "- experiment 12C: Build a current to voltage converter and understand how it works\n",
    "\n",
    "Goal: In these experiments we will explore the basic OPAMP circuits and learn about the photodiode. There are two basic OPAMP circuits, the inverting and the non-inverting amplifier, most other OPAMP based circuits are derived from these two circuits. These circuits work for both AC and DC signals. During the experiments we will see what the difference is between AC-coupling and DC-coupling of signals, as well.\n",
    "OPAMPs are very often used in conjunction with sensors. Example of a sensor, often used in biochemical systems, is the photodiode. The photodiode is sensitive to light. It can be read out in two different modes; voltage mode and current mode. In voltage mode it will act as a “solar cell”, this gives with low light intensity already a voltage. However, the voltage mode is not linear. When used as an intensity sensor, with high linearity, the current mode is more suited. In order to convert the photocurrent to a voltage, a circuit with an OPAMP is used, the current to voltage converter.\n",
    "\n",
    "\n",
    "Structure of an experiment:\n",
    "- Background+Anticipate+ Simulate(5+20+10):  per person\n",
    "- Implement + Investigate(60):  with your partner (group of 2)\n",
    "- Compare + Conclude(15):  with a group of 4 (per table)"
   ]
  },
  {
   "cell_type": "markdown",
   "id": "f86f9cb9",
   "metadata": {},
   "source": [
    "#  12B: Inverting amplifier\n",
    "> <font color='blue'>Learning goal:</font> Calculate and explain some properties of an inverting amplifier circuit. Build the circuit and observe it in real life.\n",
    "\n",
    "* Extra information or hints is given in boxes denoted by: <font size=4>ℹ️</font>\n",
    "* Help fixing progrems is given in boxed denoted by: <font size=4>🔥</font>\n",
    "\n",
    "Materials used:\n",
    "- Alpaca\n",
    "- opamp TL072\n",
    "- 220 and 1k $\\Omega$ resistors\n",
    "\n"
   ]
  },
  {
   "cell_type": "markdown",
   "id": "1ea9c998",
   "metadata": {},
   "source": [
    "## BACKGROUND\n",
    "> <font color='grey'>⏳ Estimated time: 5 min</font>\n",
    "\n",
    "Below is an inverting amplifier circuit is depicted\n",
    "\n",
    "<div>\n",
    "<img src=\"https://gitlab.tudelft.nl/mwdocter/nb2214-images/-/raw/main/PicoPI/picopi8_2_circuit_with_pins.jpg\" width=\"75%\"/>\n",
    "</div>\n",
    "\n",
    "In the above circuit, the + (non-inverting) input is connected to ground. Because of (ideal) opamp characteristics, the - (inverting) input will be a **virtual ground point**. \n",
    "<br>\n",
    "\n",
    "In an ideal opamp, the voltage difference between the inverting and non-inverting inputs is virtually zero. Thus, if the non-inverting input is grounded, the inverting input also appears to be at ground potential, even though there is no physical connection to ground.\n",
    "<br>    \n",
    "\n",
    "Due to the virtual ground, the voltage across Rb is Vsource, and the voltage across Ra, it is Vout, so (as per Ohm's law) the current through Rb and Ra is equal. \n",
    "- The current through Rb will be Vsource/Rb, and Vout is the same current times Ra, but with a minus sign. \n",
    "- The sign change is due to $I=(V_{in}-V_{virtual ground})/R_{b} = (V_{virtual ground}-V_{out})/R_{a}$. \n",
    "\n",
    "*Can you now calculate the gain?*\n"
   ]
  },
  {
   "cell_type": "markdown",
   "id": "cdecea0e",
   "metadata": {},
   "source": [
    "## ANTICIPATE: \n",
    "> <font color='grey'>⏳ Estimated time: 20 min</font>\n",
    "\n",
    "Calculate the gain of the above circuit. Clearly state the formula you used to calculate the gain."
   ]
  },
  {
   "cell_type": "code",
   "execution_count": null,
   "id": "cf23d609-06af-4f0a-a91e-50b46a9991b1",
   "metadata": {},
   "outputs": [],
   "source": [
    "### TO DO=\"# write your answer here: gain formula+ calculation\"\n"
   ]
  },
  {
   "cell_type": "markdown",
   "id": "0a4860a1-ac0e-473b-823b-dd33e01bf792",
   "metadata": {},
   "source": [
    "If you apply a sine between 0 and 1 V, what would be the Vout?<br>\n",
    "Reason whether you can directly measure this Vout with the analog Input Pin. <br>\n",
    "In doubt: check with your TA before connecting, and **always use the Voltmeter on the Cria first.**"
   ]
  },
  {
   "cell_type": "code",
   "execution_count": null,
   "id": "676d6d03-44da-40c1-ab7e-a67ece7d94f5",
   "metadata": {},
   "outputs": [],
   "source": [
    "### TO DO=\"# write your answer here: Vout + safe to connect?\"\n"
   ]
  },
  {
   "cell_type": "markdown",
   "id": "94855de1-6826-4cd6-a850-9b418e5cd8ac",
   "metadata": {},
   "source": [
    "If the operational amplifier is assumed to be ideal, what are the input and output impedance?\n"
   ]
  },
  {
   "cell_type": "code",
   "execution_count": null,
   "id": "03921c86-2d87-4d76-ab51-d29c04a122e9",
   "metadata": {},
   "outputs": [],
   "source": [
    "### TO DO=\"# write your answer here: input and output impedance opamp\"\n"
   ]
  },
  {
   "cell_type": "markdown",
   "id": "71be3ed3",
   "metadata": {},
   "source": [
    "## SIMULATE: \n",
    "> <font color='grey'>⏳ Estimated time: 10 min</font>\n",
    "\n",
    "Recreate the above inverting circuit in LTSpice, and observe Vin and Vout. Are they indeed inverting?<br>\n",
    "Use the same simulation settigns as in 12A. Remember to power the opamp!<br>\n",
    "Upload the screenshot of the graph and you setup."
   ]
  },
  {
   "cell_type": "code",
   "execution_count": null,
   "id": "39e3be84-a320-4069-a1b5-c3244b476454",
   "metadata": {},
   "outputs": [],
   "source": [
    "from ipywidgets import FileUpload\n",
    "from IPython.display import Image\n",
    "import os\n",
    "upload=FileUpload()\n",
    "upload\n"
   ]
  },
  {
   "cell_type": "code",
   "execution_count": null,
   "id": "3fff96fe",
   "metadata": {},
   "outputs": [],
   "source": [
    "file_name=\"12B_1_inverting_input.jpg\"\n",
    "if upload.value!={}:\n",
    "    with open(file_name,\"wb\") as f:\n",
    "        try: f.write(upload.data[-1]) # python 3.7 Kernel code, not working on Vocareum\n",
    "        except: f.write(upload.value[-1][\"content\"])  # python 3.8 Kernel code, not working on Vocareum\n",
    "\n",
    "Image(filename=file_name, width=\"50%\")\n"
   ]
  },
  {
   "cell_type": "code",
   "execution_count": 1,
   "id": "6dae1840-2b0a-4c04-b9b8-95a646a10c98",
   "metadata": {},
   "outputs": [
    {
     "data": {
      "image/jpeg": "[encoded data removed]",
      "text/html": [
       "\n",
       "        <iframe\n",
       "            width=\"600\"\n",
       "            height=\"450\"\n",
       "            src=\"https://www.youtube.com/embed/i8DNapKYyXQ\"\n",
       "            frameborder=\"0\"\n",
       "            allowfullscreen\n",
       "            \n",
       "        ></iframe>\n",
       "        "
      ],
      "text/plain": [
       "<IPython.lib.display.YouTubeVideo at 0x1de66d1f190>"
      ]
     },
     "execution_count": 1,
     "metadata": {},
     "output_type": "execute_result"
    }
   ],
   "source": [
    "%python #  PRECAP VIDEO\n",
    "from IPython.lib.display import YouTubeVideo\n",
    "YouTubeVideo('i8DNapKYyXQ', width = 600, height = 450)"
   ]
  },
  {
   "cell_type": "markdown",
   "id": "c5b5c722",
   "metadata": {},
   "source": [
    "## IMPLEMENT & INVESTIGATE: \n",
    "> <font color='grey'>⏳ Estimated time: 60 min</font>\n",
    "\n",
    "You will be building an measuring the characteristics of the inverting amplifier using the ALPACA.<br>\n",
    "The pin diagram of the operational amplifier is given below as reminder: <br>\n",
    "* The non-inverting input is marked with a (+)<br>\n",
    "* and the inverting input with a (-).\n",
    "\n",
    "<div>\n",
    "<img src=\"https://gitlab.tudelft.nl/mwdocter/nb2214-images/-/raw/7b873596c01a500f66c42c89508ee5aa384b6335/voltammetry/opamp_dual_layout+component.jpg\" width=\"300\"/>\n",
    "</div>\n",
    "\n",
    "### Exercise 1: build an inverting opamp circuit\n",
    "<font color='ff822d' size=6> 📝 <font> <font color='ff822d' size=4> **Todo**: <font>\n",
    "\n",
    "Build the inverting amplifier circuit as depicted below\n",
    "<div>\n",
    "<img src=\"https://gitlab.tudelft.nl/mwdocter/nb2214-images/-/raw/main/PicoPI/picopi8_2_circuit_with_pins.jpg\" width=\"80%\"/>\n",
    "</div>\n",
    "\n",
    "       \n",
    "    \n",
    "* Measure both the input signal that is generated with DAC output A, and the output of the opamp. \n",
    "* Use the amplifier (*AMP1 IN* and *AMP0 IN* pins) for measuring the analog signals, since these pins are protected against too high voltages.\n",
    "* Connect the jumpers using the illustration below. This setup will not change the input signals, but simply protects the PicoPi.\n",
    "* Remember to power your opamp!\n",
    "    \n",
    "> <font size=6>ℹ️</font>\n",
    ">\n",
    "> <font color='00a6ed'> Tip: Instead of using a jumper at *AMPLIFIER DIRECT TO NANO*, consider using a wire to bridge the connection instead. It is easier to place and remove!\n",
    ">\n",
    "> <font>  \n",
    "\n",
    "<div>\n",
    "<img src=\"https://gitlab.tudelft.nl/mwdocter/nb2214-images/-/raw/main/PicoPI/picopi8_3_neutral_amp_settings.jpg\" width=\"500\"/>\n",
    "</div>\n",
    "    \n",
    "<details>\n",
    "  <summary>Fritzing circuit</summary>\n",
    "Your circuit should look somewhat like the built circuit below. Remeber that resistors in the image might not have correct colors. Note the jumpers in pink.\n",
    " \n",
    "<img src=\"https://gitlab.tudelft.nl/mwdocter/nb2214-images/-/raw/main/PicoPI/picopi7_2_build.png\" width=\"90%\"/>\n",
    "</details>\n",
    "    \n",
    "The code for this exercise has already been written and can be found below. The code generates a sine wave at 50 Hz with a $V_\\text{PP}$ of 0.5 volt with Vmin = 0.\n",
    "<br>    \n",
    "<br>   \n",
    "> <font size=6>🔥</font>  \n",
    ">\n",
    "> <font color='ff6723'>\n",
    ">\n",
    "> Before running the code, please verify that:\n",
    "> * Both USB cables are plugged in\n",
    "> * The _+12 V_ and _-12 V_ switches are turned to the on position on the ALPACA.\n",
    "> * Resistors are in correct position! - doublecheck if they are correctly placed in relation to the inputs and outputs of an opamp\n",
    "    \n",
    "<br>\n",
    "Try to predict what the output will look like."
   ]
  },
  {
   "cell_type": "code",
   "execution_count": null,
   "id": "2e2e29ed",
   "metadata": {},
   "outputs": [],
   "source": [
    "### TO DO=\"# the predicted output voltage\"\n"
   ]
  },
  {
   "cell_type": "code",
   "execution_count": null,
   "id": "b45ce79f",
   "metadata": {},
   "outputs": [],
   "source": [
    "# Run this cell to connect your ALPACA\n",
    "%serialconnect to --port=\"COM3\"\n",
    "#ADD COM PORT ABOVE, e.g. --port=\"COM3\""
   ]
  },
  {
   "cell_type": "code",
   "execution_count": null,
   "id": "4eedaf6a-e5a2-4cff-8682-b4681a722a00",
   "metadata": {},
   "outputs": [],
   "source": [
    "import time\n",
    "import numpy as np\n",
    "import matplotlib.pyplot as plt\n",
    "from machine import ADC\n",
    "from functiongenerator import FuncGen, Sine\n",
    "\n",
    "# Do you know what these variables define?\n",
    "NUM_SAMPLES = 200\n",
    "DELAY_MS = 1 # Sampling delay in ms\n",
    "\n",
    "# How would you figure out which ADC(??) ports to use?\n",
    "adc0 = ADC(26)\n",
    "adc1 = ADC(27)\n",
    "\n",
    "# Remember to initialize the arrays to store the acquired data\n",
    "input_signal = np.zeros(NUM_SAMPLES) #arrays\n",
    "output_signal = np.zeros(NUM_SAMPLES)\n",
    "\n",
    "# Define the procedure for the function generator and the acquisition\n",
    "with FuncGen(Sine(Vmax=0.5, Vmin=0, freq=50)):\n",
    "    time.sleep_ms(1000)\n",
    "    for ii in range(NUM_SAMPLES):\n",
    "        input_signal[ii] = adc1.read_u16()\n",
    "        output_signal[ii] = adc0.read_u16()\n",
    "        time.sleep_ms(DELAY_MS)\n",
    "\n",
    "# Convert integer input/output signal to voltage.\n",
    "input_signal = input_signal / 65535 * 3.3\n",
    "output_signal = output_signal / 65535 * 3.3\n",
    "print(np.max(input_signal), np.max(output_signal))\n",
    "print('Aquisition done!')"
   ]
  },
  {
   "cell_type": "code",
   "execution_count": null,
   "id": "9790fb2d-8ef8-4a1d-a2c3-ad38d7a6a0c9",
   "metadata": {},
   "outputs": [],
   "source": [
    "# Plot\n",
    "plt.plot(input_signal, label='Input signal')\n",
    "plt.plot(output_signal, label='Output signal')\n",
    "plt.ylabel('signal [V]')\n",
    "plt.xlabel('Measurement number')\n",
    "plt.legend()\n",
    "\n",
    "print('Plotting done!')\n",
    "\n",
    "# Calculate Vpp for input/output and gain\n",
    "Vpp_input = np.max(input_signal) - np.min(input_signal)\n",
    "Vpp_output = np.max(output_signal) - np.min(output_signal)\n",
    "gain = Vpp_output/Vpp_input\n",
    "\n",
    "# Print the results of the calculations\n",
    "print(f'The Vpp of the input signal is: {Vpp_input:.2f} V')\n",
    "print(f'The Vpp of the output signal is: {Vpp_output:.2f} V')\n",
    "print(f'The gain is {gain:.2f}')"
   ]
  },
  {
   "cell_type": "markdown",
   "id": "05ac5aca-0291-4950-b72f-d1e7bc43869f",
   "metadata": {},
   "source": [
    "\n",
    "### Exercise 2: No detectable output signal??\n",
    "Explain why you do not detect an output signal?\n",
    "\n",
    "> <font size=6>ℹ️</font>\n",
    ">\n",
    "> <font color='00a6ed'> Hint 1: To see if there is any output generated by the opamp, connect the signal at the output of the opamp to the voltmeter on the Cria. Lower output the frequency of the DAC to 1 Hz and observe the indicator leds. Do not forget to change the frequency back when you continue to the next question.\n",
    ">\n",
    "> <font>   \n",
    "> <font size=6>ℹ️</font>\n",
    ">\n",
    "> <font color='00a6ed'> Hint 2: Think about Alpaca's limitations\n",
    ">\n",
    "> <font>   "
   ]
  },
  {
   "cell_type": "code",
   "execution_count": null,
   "id": "23516b3a-679b-495f-9e17-c9e3d25837cc",
   "metadata": {},
   "outputs": [],
   "source": [
    "### TO DO=\"# write your answer here: why don't you get an output signal?\"\n"
   ]
  },
  {
   "cell_type": "markdown",
   "id": "c458d00c-190e-4abe-8b39-66e6cbc4933f",
   "metadata": {},
   "source": [
    "### Exercise 3 Influence AC-DC coupling on output signal\n",
    "Measure the output of the opamp both in AC and in DC coupling for *AMP0 IN*. \n",
    "    \n",
    "\n",
    "Just like the in 12A, we can use the amplifier on the ALPACA to visualize signals which we could otherwise not observe. <br>\n",
    "Similar to the scope in the studio classroom, we can switch between AC and DC coupling mode.\n",
    "\n",
    "<font color='ff822d' size=6> 📝 <font> <font color='ff822d' size=4> **Todo**: <font>\n",
    "    \n",
    "* Use the jumper closest to the *SIGNAL+* pins of the amplifier to switch the *AMP0 IN* amplfier between the AC/DC coupling modes.\n",
    "    * Note that this corresponds to the top jumper in blue circle in the illustration above showing the jumper settings. \n",
    "    * Having the jumper be on the pins sets the input to DC coupling, whilst having it off sets the input to AC coupling.\n",
    "\n",
    "#### PART 1 - AC/DC coupling\n",
    "       \n",
    "**A)** In which mode do you see the signal? \n",
    "    \n",
    "**B)** Deduce why AC and DC coupling result in their corresponding signals."
   ]
  },
  {
   "cell_type": "code",
   "execution_count": null,
   "id": "90a56872-15a4-45a8-98d3-2dd3c14ad41c",
   "metadata": {},
   "outputs": [],
   "source": [
    "### TO DO=\"# write your answer here: influence AC and DC mode\"\n"
   ]
  },
  {
   "cell_type": "markdown",
   "id": "f44a47b3-dcf8-43ec-9d48-e36163782e06",
   "metadata": {},
   "source": [
    "**C)** Why does the signal appear to have a 180 degree phase shift compared to the input signal?"
   ]
  },
  {
   "cell_type": "code",
   "execution_count": null,
   "id": "b651ea1c-4d30-4230-b097-c9b99b1de7eb",
   "metadata": {},
   "outputs": [],
   "source": [
    "### TO DO =\"# write your answer here: explain phase shift\"\n"
   ]
  },
  {
   "cell_type": "markdown",
   "id": "6033bc54-0910-4eb2-aa87-db95504834d5",
   "metadata": {},
   "source": [
    "<br>\n",
    "<br>\n",
    "You can use one more trick to visualize the output signal more clearly. You can apply a DC offset to the output signal before measuring it. \n",
    "<br>\n",
    "\n",
    "#### PART 2 - DC offset\n",
    "\n",
    "<font color='ff822d' size=6> 📝 <font> <font color='ff822d' size=4> **Todo**: <font>\n",
    "* For this purpose connect a jumper over the pins called: *WITH OFFSET*, on the amplifier corresponding to *AMP0 IN*. See the image below for the correct jumper settings.\n",
    "* The jumpers for *AMP1 IN* should not be changed.\n",
    "* Put *AMP0 IN* in DC coupling mode again.\n",
    "\n",
    "<div>\n",
    "<img src=\"https://gitlab.tudelft.nl/mwdocter/nb2214-images/-/raw/main/PicoPI/picopi8_4_offset_jumper.jpg\" width=\"50%\"/>\n",
    "</div>\n",
    "\n",
    "The potentiometer above AMP0 IN can now be used to regulate the DC offset that is added to the signal. <br>\n",
    "Regulate the DC offset of the signal such that the entire output signal can now be visualized. To make it easy to find the right setting for the potentiometer, you can use a special plotting mode unique to NB2211 that allows you to plot the data live. <br>\n",
    "This function is called `plt.liveplot`. When a number is put into `plt.liveplot`, e.g. `plt.liveplot(x)`, the value `x` will be added as a point on the plot. Note: this only works if the cell containing `plt.liveplot` starts with the \"magic command\" `%plot --mode live`\n",
    "    \n",
    "> <font size=6>🔥</font>  \n",
    ">\n",
    "> <font color='ff6723'>\n",
    ">\n",
    "> **WARNING** There is a bug in the Firefox browser that makes the plot flicker. If you are sensitive to this: **BE CAREFUL**\n",
    "> * For most people the flicker is really annoying anyways. Switching to any other browser will resolve this.\n",
    "> * The following browsers are have been tested and have been shown to produce smooth images: Edge (Windows), Safari (macOS).\n",
    "    \n",
    "<font color='ff822d' size=6> 📝 <font> <font color='ff822d' size=4> **Todo**: <font>\n",
    "* Use the live plot to acquire the full signal. Turning the potentiometer clockwise will increase the DC offset, turning it counter-clockwise will lower the DC offset.\n",
    "    * The range is finicky, so you will need to adjust carefully\n",
    "\n",
    "* Measure the gain using the (non-live) code you used at Exercise 2."
   ]
  },
  {
   "cell_type": "code",
   "execution_count": null,
   "id": "c284e64d",
   "metadata": {},
   "outputs": [],
   "source": [
    "%serialconnect to --port=\"COM3\" \n",
    "#ADD COM PORT ABOVE, e.g. --port=\"COM3\""
   ]
  },
  {
   "cell_type": "code",
   "execution_count": null,
   "id": "7982af59-2e1d-4cb8-90c1-cde55a4c9587",
   "metadata": {},
   "outputs": [],
   "source": [
    "\n",
    "%plot --mode live\n",
    "\n",
    "import time\n",
    "import numpy as np\n",
    "import matplotlib.pyplot as plt\n",
    "from machine import ADC\n",
    "from functiongenerator import FuncGen, Sine\n",
    "\n",
    "# Instantiate two measurement pints, one for Ain0 the other for Ain1 to measure the input and output signal\n",
    "adc0 = ADC(26) \n",
    "adc1 = ADC(27)\n",
    "\n",
    "with FuncGen(Sine(Vmax=0.5, Vmin=0, freq=1)):\n",
    "    \n",
    "    time.sleep_ms(100)\n",
    "    \n",
    "    for ii in range(400):\n",
    "        input_signal = adc1.read_u16()\n",
    "        output_signal = adc0.read_u16()\n",
    "        input_signal = input_signal / 65535 * 3.3\n",
    "        output_signal = output_signal / 65535 * 3.3\n",
    "        plt.liveplot(input_signal , output_signal, labels = ['Input', 'Output'])\n",
    "        time.sleep_ms(100)"
   ]
  },
  {
   "cell_type": "markdown",
   "id": "3fc7c341-7b40-4130-95c3-ff1354b39098",
   "metadata": {},
   "source": [
    "### Exercise 4: Measure + evaluate the gain\n",
    "\n",
    "**THINK:**\n",
    "1. Use the new knowledge from the setup in exercise 3.\n",
    "2. Do you need to put back the jumper to switch from AC and DC coupling mode?\n",
    "3. When fine tuning the offset, what should you bear in mind about the lower and the upper limit of the observed signal?\n",
    "\n",
    "Now:\n",
    "\n",
    "**A)** Measure the gain (use non-live code from ex 2)\n",
    "\n",
    "**B)** Reflect back on the answer you gave in Exercise 3C, was this answer correct? \n",
    "\n"
   ]
  },
  {
   "cell_type": "code",
   "execution_count": null,
   "id": "cbd20eae-03e9-49ad-8452-11ac01023a72",
   "metadata": {},
   "outputs": [],
   "source": [
    "\n",
    "### TO DO=\"write your answer here: measured gain + reflection\"\n",
    "\n"
   ]
  },
  {
   "cell_type": "markdown",
   "id": "82adb9f0-9e17-4965-950e-c0f44a7504db",
   "metadata": {},
   "source": [
    "This opamp circuit you built can be used to **amplify** signals, as you saw during this exercise, but it can also be used to **attenuate** signals. This attenuation is similar to the amplifier circuit we used in the non-inverting opamp exercise to measure the clipped signal. Attenuating a signal is useful because the PicoPi can only measure voltages from 0 to 3.3 volt. By attenuating a signal, we can measure voltages over a larger voltage range.\n",
    "\n",
    "### Exercise 5: Adapt resistors for another gain value\n",
    "\n",
    "#### PART 1 - adapt\n",
    "How should the resistors be changed to **attenuate** the signal with a factor of 4.5? "
   ]
  },
  {
   "cell_type": "code",
   "execution_count": null,
   "id": "e51d7465-6910-4268-a04a-bd26d1cc350c",
   "metadata": {},
   "outputs": [],
   "source": [
    "### TO DO=\"# write your answer here: how to attentuate\"\n"
   ]
  },
  {
   "cell_type": "markdown",
   "id": "f112699a-4c38-4ce1-b67e-17289cc89ef4",
   "metadata": {},
   "source": [
    "Implement the circuit you just suggested\n",
    "\n",
    "<div>\n",
    "<img src=\"https://gitlab.tudelft.nl/mwdocter/nb2214-images/-/raw/main/PicoPI/picopi8_1_attenuator_circuit.jpg\" width=\"75%\"/>\n",
    "</div>\n",
    "\n",
    "<font color='ff822d' size=6> 📝 <font> <font color='ff822d' size=4> **Todo**: <font>\n",
    "* Keep the jumpers on the ALPACA amplifier *AMP0 IN* unchanged\n",
    "* Remove the wire connecting *AMP1 IN*. It will not be used.\n",
    "* Remove the jumper for *ADC1* at *AMPLIFIER DIRECT TO NANO*. \n",
    "* Instead of using the output from *DAC A* directly, use the *DAC ASSISTANT*. \n",
    "    * Connect a wire from DAC output A to the *+IN pin* of the DAC assistant. \n",
    "    * Connect the output from the *OUT* pin of the DAC assistant to the input of the opamp circuit\n",
    "* Select the resistors based on your answer.\n",
    "\n",
    "> <font size=6>ℹ️</font>\n",
    ">\n",
    "> <font color='00a6ed'> Hint: your circuit should look somewhat like the built circuit below. Note the jumpers in pink. Remeber that resistors shown on the graphic might not be correct.\n",
    ">\n",
    "> <font>   \n",
    "<img src=\"https://gitlab.tudelft.nl/mwdocter/nb2214-images/-/raw/main/PicoPI/picopi7_6_build.png\" width=\"90%\"/>\n",
    "\n",
    "The  signal generated at the output of the DAC assistant now has an amplitude running from +4.8 to -4.8 V. This 9.6 volt peak to peak amplitude is too large to measure directly with the PicoPi, so we need to **attenuate** it first. This should be done using your opamp circuit. \n",
    "    \n",
    "#### PART 2 - adapt\n",
    "\n",
    "<font color='ff822d' size=6> 📝 <font> <font color='ff822d' size=4> **Todo**: <font>\n",
    "* Acquire the entire signal generated using the live plotter below\n",
    "* Observe whether you can still use the offset knob. Do you need it?\n",
    "* Perform the measurement and find the gain using the code below.\n",
    "    \n",
    "#### Live plotter:"
   ]
  },
  {
   "cell_type": "code",
   "execution_count": null,
   "id": "7e0082f7",
   "metadata": {},
   "outputs": [],
   "source": [
    "%serialconnect to --port=\"COM3\" \n",
    "#ADD COM PORT ABOVE, e.g. --port=\"COM3\""
   ]
  },
  {
   "cell_type": "code",
   "execution_count": null,
   "id": "2311a079-06b9-44a9-89fd-24f462c7e2e3",
   "metadata": {},
   "outputs": [],
   "source": [
    "\n",
    "%plot --mode live\n",
    "\n",
    "\n",
    "import time\n",
    "import numpy as np\n",
    "import matplotlib.pyplot as plt\n",
    "from machine import ADC\n",
    "from functiongenerator import FuncGen, Sine\n",
    "\n",
    "# Instantiate two measurement pints, one for Ain0 the other for Ain1 to measure the input and output signal\n",
    "adc0 = ADC(26) \n",
    "\n",
    "with FuncGen(Sine(Vmin=1.1, Vmax=3, freq=1)):\n",
    "    \n",
    "    time.sleep_ms(100)\n",
    "    \n",
    "    for ii in range(200):\n",
    "        output_signal = adc0.read_u16()\n",
    "        output_signal = output_signal / 65535 * 3.3\n",
    "        plt.liveplot(output_signal, labels = ['Output'])\n",
    "        time.sleep_ms(100)"
   ]
  },
  {
   "cell_type": "markdown",
   "id": "f7ddb907-7e34-47b3-af27-182f6dd17f96",
   "metadata": {},
   "source": [
    "#### Final acquisition:"
   ]
  },
  {
   "cell_type": "code",
   "execution_count": null,
   "id": "d67d0f18-9b70-4aa9-9962-c25228b64170",
   "metadata": {},
   "outputs": [],
   "source": [
    "\n",
    "\n",
    "import time\n",
    "import numpy as np\n",
    "import matplotlib.pyplot as plt\n",
    "from machine import ADC\n",
    "from functiongenerator import FuncGen, Sine\n",
    "\n",
    "# ACQUISITION SETTINGS\n",
    "NUM_SAMPLES = 350\n",
    "DELAY_US = 500 # Sampling delay in us\n",
    "\n",
    "adc0 = ADC(26) \n",
    "\n",
    "output_signal = np.zeros(NUM_SAMPLES)\n",
    "\n",
    "with FuncGen(Sine(Vmin=1.1, Vmax=3, freq=50)):\n",
    "    \n",
    "    time.sleep_ms(100)\n",
    "    \n",
    "    for ii in range(NUM_SAMPLES):\n",
    "        output_signal[ii] = adc0.read_u16()\n",
    "        time.sleep_us(DELAY_US)\n",
    "        \n",
    "# Convert integer input/output signal to voltage.\n",
    "output_signal = output_signal / 65535 * 3.3\n",
    "\n",
    "print('Aquisition done!')"
   ]
  },
  {
   "cell_type": "code",
   "execution_count": null,
   "id": "71e67629-12b5-423d-bef5-1a23acd4f9b9",
   "metadata": {},
   "outputs": [],
   "source": [
    "# Plot\n",
    "plt.plot(output_signal, label='Output signal')\n",
    "plt.ylabel('signal [V]')\n",
    "plt.xlabel('Measurement number')\n",
    "plt.legend()\n",
    "\n",
    "print('Plotting done!')\n",
    "\n",
    "# Calculate Vpp for input/output and gain\n",
    "Vpp_input = 9.6\n",
    "Vpp_output = np.max(output_signal) - np.min(output_signal)\n",
    "gain = Vpp_output/Vpp_input\n",
    "\n",
    "# Print the results of the calculations\n",
    "print(f'The Vpp of the input signal is: {Vpp_input:.2f} V')\n",
    "print(f'The Vpp of the output signal is: {Vpp_output:.2f} V')\n",
    "print(f'The gain is 1/{1/gain:.2f}')"
   ]
  },
  {
   "cell_type": "markdown",
   "id": "2d097f1c-6523-4fdd-bbf7-5cca2ef38cb0",
   "metadata": {},
   "source": [
    "### Exercise 6: Measure full sign wave with Alpaca's on-board amplifier\n",
    "**A)** Are you able to detect the entire sine wave? \n",
    "\n",
    "**B)** Comment on why using the amplifier on-board the ALPACA is still necessary for this measurement."
   ]
  },
  {
   "cell_type": "code",
   "execution_count": null,
   "id": "970e0a38-cbb6-4e11-80ab-edc3b510cd42",
   "metadata": {},
   "outputs": [],
   "source": [
    "### TO DO=\"# write your answer here: able to measure full sine, and is amplifier still necessary?\"\n"
   ]
  },
  {
   "cell_type": "markdown",
   "id": "3ca5e81c",
   "metadata": {},
   "source": [
    "## COMPARE & CONCLUDE\n",
    "> <font color='grey'>⏳ Estimated time: 15 min</font>\n",
    "\n",
    "* Wait till all (4) group members finish their observation\n",
    "* Compare your results with your other group members. \n",
    "* If your results agree, and are in line with all predictions, then talk to a TA and get checked off\n",
    "* Otherwise, so if your results do not agree, or your results are not in line with your predictions, then first discuss amongst your group before getting a TA. \n",
    "\n",
    "**to be checked off by a TA:**\n",
    "\n",
    "1. Discuss the various ways that one can measure a purely negative signal on the PicoPi. Which method will lead to what results?\n",
    "* A. Directly on Analog in **hypothetically**\n",
    "* B. Via AC/DC coupling of the amplifier\n",
    "* C. with offset of the amplifier\n",
    "\n",
    "2. Discuss why at Exercise 6 you still need the amplifier, although the $V_\\text{PP}$ is in range of the PicoPi\n",
    "\n",
    "3. exit card: 1. Write a brief abstract on what you learned (conclusion, useful graph), 2. Which troubleshooting skills do you want to remember for next sessions, 3. Which code do you copy for use in next sessions,\n",
    "4. How do think this notebook could be improved?"
   ]
  },
  {
   "cell_type": "code",
   "execution_count": null,
   "id": "0d3696e1",
   "metadata": {},
   "outputs": [],
   "source": [
    "#12B inverting opamp\n",
    "### TO DO =\"1. discuss the various ways to display a negative signal by the alpaca\"\n",
    "\n",
    "### TO DO =\"2. why do you need an amplifier in exercise 6?\"\n",
    "\n",
    "### TO DO=\"3a. abstract\"\n",
    "\n",
    "### TO DO=\"3b. troubleshooting\"\n",
    "\n",
    "### TO DO=\"3c. code\"\n",
    "\n",
    "### TO DO=\"4. what changes would you suggest?\"\n"
   ]
  },
  {
   "cell_type": "code",
   "execution_count": null,
   "id": "e5bb015d-6f3b-4f90-97a3-3e984529a475",
   "metadata": {},
   "outputs": [],
   "source": [
    "%python # recording\n",
    "from IPython.lib.display import YouTubeVideo\n",
    "YouTubeVideo('hR9duxRafQ4', width = 600, height = 450)"
   ]
  }
 ],
 "metadata": {
  "kernelspec": {
   "display_name": "Alpaca Kernel",
   "language": "python",
   "name": "alpaca"
  },
  "language_info": {
   "codemirror_mode": {
    "name": "ipython",
    "version": 3
   },
   "file_extension": ".py",
   "mimetype": "text/x-python",
   "name": "python",
   "nbconvert_exporter": "python",
   "pygments_lexer": "ipython3",
   "version": "3.10.14"
  }
 },
 "nbformat": 4,
 "nbformat_minor": 5
}
