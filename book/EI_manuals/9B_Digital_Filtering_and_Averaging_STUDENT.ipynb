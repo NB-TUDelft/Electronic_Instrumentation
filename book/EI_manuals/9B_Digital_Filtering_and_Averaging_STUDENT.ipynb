{
 "cells": [
  {
   "cell_type": "code",
   "execution_count": null,
   "metadata": {},
   "outputs": [],
   "source": [
    "from IPython.core.display import HTML\n",
    "def set_width(width):\n",
    "    display(HTML(f\"\"\"<style>  \n",
    "            .container {{ width:{width}% !important; \n",
    "                            min-width:800px !important; margin: 0 auto}} \n",
    "            .jp-Cell {{ width:{width}% !important; \n",
    "                            min-width:800px !important; margin: 0 auto}} </style>\"\"\"))\n",
    "# Set container width to X% of the fullscreen \n",
    "set_width(50)"
   ]
  },
  {
   "cell_type": "markdown",
   "metadata": {},
   "source": [
 "# 9B: Digital Filtering and Averaging (SCR)\n",
    "> <font color='blue'>Learning goals:</font> explore the options of digital filtering and averaging, for reducing the noise in your acquired signal. \n",
    "\n",
    "Structure of an experiment:\n",
    "- Background + Anticipate + Simulate(25 min): per person. This is homework and should be finished **before** you start your 4 hours practicum session\n",
    "- Implement + Investigate (60 min): with your partner(group of 2)\n",
    "- Compare + Conclude (15 min): with a group of 4(per table)\n"
   ]
  },
  {
   "cell_type": "markdown",
   "metadata": {},
   "source": [
    "## BACKGROUND\n",
    "> <font color='grey'>⏳ Estimated time: 5 min</font>\n",
    "\n",
    "Analog filters use electronic circuits made up of capacitors, resistors etc. in order to produce the required filtering effect. Thus, the signal being filtered is an electrical voltage or current which is the direct analog of the physical quantity involved (eg. sound, video signal). As you could have guessed from this analog filters are utilized for instance for (high or low frequency) noise reduction. \n",
    "\n",
    "**Digital filters** on the other hand use a digitial processor to perform numerical calculations on the signal. In order for this to happen, the analog input must first be sampled and digitised using an ADC (analog to digital converter). Only then, the processor may carry out the numerical calculations. The result of this may then be converted back to an analog signal through a DAC (digital to analog converter). \n",
    "Digital filters can either work in the time domain, or the frequency domain. In time domain, you can use a moving average, which averages within one timetrace, over a window (multiple datapoints) around the actual datapoint.  \n",
    "In frequency domain, particularly for a known and single frequency content, unwanted frequencies can be reduced to zero. \n",
    "\n",
    "**Averaging** is another data operation which can suppress noice. If you acquiring the same signal mutliple times, then you can average over those multiple times. The signal will remain, while the random noise is averaged out. \n",
    "\n",
    "<img src=\"https://gitlab.tudelft.nl/mwdocter/nb2214-images/-/raw/main/PicoPI/9B_digital_filtering_averaging.JPG\" width=60%></img>\n"
   ]
  },
  {
   "cell_type": "markdown",
   "metadata": {},
   "source": [
    "## ANTICIPATE: differences between digital filtering and averaging\n",
    "> <font color='grey'>⏳ Estimated time: 10 min</font>\n",
    "\n",
    "In this assignment you will acquire a noisy signal, by recording the light from a LED at large distance. The voltage applied to the LED is a 70 Hz sine. In the previous assignments you have seen the use of an anti-averaging filter, in this assignment you will explore digital filtering (by suppressing all frequency except one in the fourier spectrum) and averaging. \n",
    "\n",
    "Before going into the lab:\n",
    "* Argue whether you need triggering for 1. digital filtering, and 2. averaging\n",
    "* Give at least one pro and con of 1. digital filtering, and 2. averaging\n"
   ]
  },
  {
   "cell_type": "code",
   "execution_count": null,
   "metadata": {},
   "outputs": [],
   "source": [
    "### TO DO=\" Argue whether you need triggering for 1. digital filtering, 2. averaging\"\n",
    "\n",
    "\n",
    "\n",
    "\n",
    "### TO DO =\"Give at least one pro and con of 1. digital filtering, and 2. averaging\"\n"
   ]
  },
  {
   "cell_type": "markdown",
   "metadata": {},
   "source": [
    "##  SIMULATE: averaging\n",
    "> <font color='grey'>⏳ Estimated time: 10 min</font>\n",
    "\n",
    "Run the following code a couple of times, as simulation for a set of noisy acquisition. Afterwards look at the averaged signal over 10 acquisitions. \n",
    "* figure out how the two np.random.random in line 11 are contributing?\n",
    "* does the second graph looks good to you? Why or why not?\n",
    "* what can you learn from it for your later acquisition (of a noisy signal to be averaged)?\n"
   ]
  },
  {
   "cell_type": "code",
   "execution_count": null,
   "metadata": {},
   "outputs": [],
   "source": [
    "import numpy as np\n",
    "import matplotlib.pyplot as plt\n",
    "Nsamples = 350\n",
    "duration = 2 # seconds\n",
    "time = np.linspace(0,duration,Nsamples)\n",
    "freq1 = 5.0 # Hz\n",
    "\n",
    "\n",
    "VV=np.zeros((10, len(time)))\n",
    "for ii in range(10):\n",
    "    VV[ii,:]= np.sin( freq1 * 2.0 * np.pi * time+2.0 * np.pi*np.random.random()) + 0.7*(np.random.random(len(time))-0.5)\n",
    "    if ii==0: plt.figure(1), plt.plot(time, VV[ii,:],'b-x')\n",
    "plt.figure(2), plt.plot(time, np.mean(VV,0),'r-*')"
   ]
  },
  {
   "cell_type": "code",
   "execution_count": null,
   "metadata": {},
   "outputs": [],
   "source": [
    "### TO DO=\"1. function of the two np.random.random\"\n",
    "\n",
    "\n",
    "\n",
    "### TO DO=\"2. why (or why not) does the second graph look good\"\n",
    "\n",
    "\n",
    "### TO DO=\"3. what did you learn and will you adapt in your later experiment\"\n"
   ]
  },
  {
   "cell_type": "code",
   "execution_count": null,
   "metadata": {},
   "outputs": [],
   "source": [
    "#precap (pydaq 10 became week 9C, pydaq 11 week 9B)\n",
    "from IPython.lib.display import YouTubeVideo\n",
    "YouTubeVideo('8azdBqbswYU', width = 600, height = 450)\n"
   ]
  },
  {
   "cell_type": "markdown",
   "metadata": {},
   "source": [
    "## IMPLEMENT & INVESTIGATE 1: Acquisition of noisy signals\n",
    "> <font color='grey'>⏳ Estimated time: 25 min</font>\n",
    "\n",
    "\n",
    "<img src=\"https://gitlab.tudelft.nl/mwdocter/nb2214-images/-/raw/main/ELC/9B_photodiode_LED.jpg\" width=60%></img>\n",
    "\n",
    "**Exercise 1.1**: Do the following.\n",
    "* Connect the (tall) photodiode to the scope and breakout box\n",
    "* Connect the (small) LED to the function generator (Sine, 70 Hz, 1 Vpp, 1.2 Vdc offset). The offset is required for giving the LED always a positive voltage.\n",
    "* At 10 cm distance you see a reasonable Vout of around 25 mVpp. Increase the distance till you see a noisy sine wave (**$<5$ mV**). Adjust the amplitude on the generator if necessary.\n",
    "\n",
    "> ### <font color='blue'>Hint:</font>\n",
    "> * try to get the noise level in the range of the amplitude of your sine. The eventual filtering result will be much clearer.\n",
    "> * think about triggering (SIMULATE). What happens if you do not use triggering? \n",
    "\n",
    "**Exercise 1.2**: Copy and adjust the correct code from exercise of Analog input (you used it in 9A) to acquire 100 signals of 200 samples at 10 times the signal frequency. (so repeat 100 times signal aquisition, rememeber to store them ALL in the array)"
   ]
  },
  {
   "cell_type": "code",
   "execution_count": 1,
   "metadata": {},
   "outputs": [],
   "source": [
    "## your code, first part: acquisition. \n",
    "# Double check np.shape(measurement )=(100,200), and plot one figure to see the actual data \n",
    "\n",
    "# maybe smart to save the data, so you can continue working on it outside SCR:\n",
    "#np.save('data_9B_measure', measurement2)\n",
    "#measurement2 = np.load(r'data_9B_measure.npy')\n",
    "# if you are saving data, save both the measurement and the sampling rate"
   ]
  },
  {
   "cell_type": "code",
   "execution_count": null,
   "metadata": {},
   "outputs": [],
   "source": [
    "### TO DO=\"re-use previous acquisition code\" __ # taken from the anti-aliasing assignment 9B\n"
   ]
  },
  {
   "cell_type": "markdown",
   "metadata": {},
   "source": [
    "## IMPLEMENT & INVESTIGATE 2: digital filtering\n",
    "> <font color='grey'>⏳ Estimated time: 15 min</font>\n",
    "\n",
    "\n",
    "There are many different digital filter types, but we will just explore one: the butterworth filter (You will see this one and other filters on SNS in more detail). <br>\n",
    "The task is simple, adapt the code below, using an existing function, and add frequency plots.\n",
    "\n",
    "**Exercise 2.1**: Copy-paste your `calculate_fft()` function."
   ]
  },
  {
   "cell_type": "code",
   "execution_count": null,
   "metadata": {},
   "outputs": [],
   "source": [
    "### TO DO=\"add here your calculate_fft\" \n"
   ]
  },
  {
   "cell_type": "markdown",
   "metadata": {},
   "source": [
    "**Exercise 2.2**: Adapt the code below, using an existing function, and add frequency plots. At the bottom of this document, we give you some more code that you might find useful.\n",
    "\n"
   ]
  },
  {
   "cell_type": "code",
   "execution_count": null,
   "metadata": {},
   "outputs": [],
   "source": [
    "## Apply digital filtering ... adapt the code below\n",
    "# some more details on changing the current folder, or manouvering through folders, ...\n",
    "# there is additional code at the end of the document\n",
    "\n",
    "from scipy import signal\n",
    "import numpy as np\n",
    "%matplotlib notebook\n",
    "# %matplotlib inline\n",
    "import matplotlib.pyplot as plt\n",
    "\n",
    "dataALL=np.load(r'data_9B_measurement2.npy') #if you saved the data, change the name to the name you used!!!!\n",
    "sampling_rate=np.load(r'data_9B_sampling_rate.npy') #otherwise input the values yourself (remember the variables carry over between cells)\n",
    "\n",
    "data=dataALL[0,:]\n",
    "tt=np.arange(0,len(data))/sampling_rate\n",
    "\n",
    "# scipy.signal.butter(N, Wn, btype='low', analog=False, output='ba', fs=None)[source]¶\n",
    "# For digital filters, Wn needs to be normalized, with a value from 0 to 1. 1 corresponds to the Nyquist frequency\n",
    "# So Wn is actually the filter frequency divided by fN, which you can derive from the sampling frequency\n",
    "# For example, Wn =0.6 for the wanted -3dB frequency of 60 Hz, and a Nyquist frequency of 100 Hz (so smapling rate of ....)\n",
    "\n",
    "N=1 # order filter, start with 1st order, optionally explore other values\n",
    "\n",
    "Wn=...\n",
    "b, a = signal.butter(N, Wn,btype='lowpass')\n",
    "w, h = signal.freqs(b, a) \n",
    "y1 = signal.lfilter(b, a, data)\n",
    "\n",
    "Wn=..\n",
    "b, a = signal.butter(N, Wn,btype='highpass')\n",
    "w, h = signal.freqs(b, a) \n",
    "y2 = signal.lfilter(b, a, data)\n",
    "\n",
    "Wn=[...,...] # bandpass, so Wn is an array with two values\n",
    "b, a = signal.butter(N,Wn,btype='bandpass')\n",
    "w, h = signal.freqs(b, a)\n",
    "y3 = signal.lfilter(b, a, data)\n",
    "\n",
    "plt.subplot(1,2,1), plt.plot(tt, data, 'k',tt,y1,'r',tt,y2,'g',tt,y3,'b') \n",
    "# add labels to axis\n",
    "plt.subplot(1,2,2), ... # add here a frequency plot for all data plotted in the previous subplot\n",
    "# add labels to axis\n",
    "#plt.subplots_adjust(wspace = 1) #uncomment if the plots/labels of plots overlap\n",
    "plt.savefig('image_filtering.jpg') # saved on the TUDelft computer, don't forget to copy your data!"
   ]
  },
  {
   "cell_type": "code",
   "execution_count": null,
   "metadata": {},
   "outputs": [],
   "source": []
  },
  {
   "cell_type": "markdown",
   "metadata": {},
   "source": [
    "## IMPLEMENT & INVESTIGATE 3: averaging\n",
    "> <font color='grey'>⏳ Estimated time: 20 min</font>\n",
    "\n",
    "**Exercise 2.3**: Average the noisy (unfiltered) data, with np.mean.\n",
    "Adapt the code below, to make six subplots which will be used for evaluation of the two techniques.\n",
    "\n",
    "Don't forget to add labels!"
   ]
  },
  {
   "cell_type": "code",
   "execution_count": null,
   "metadata": {},
   "outputs": [],
   "source": [
    "## your averaging code, produce 6 subplots: time signal and spectrum, both for a single trace and for the averaged trace\n",
    "m_av=np.mean(...,axis=...)\n",
    "\n",
    "plt.subplot(2,3,1),  # plot the averaged signal, include the correct time axis + labels\n",
    "...\n",
    "plt.title('averaged signal')\n",
    "\n",
    "plt.subplot(2,3,2), # plot one single noisy trace, to see the improvement\n",
    "...\n",
    "plt.title('single noisy signal')\n",
    "\n",
    "\n",
    "plt.subplot(2,3,3) # plot a filtered trace\n",
    "plt.plot(...) #something with y3\n",
    "...\n",
    "\n",
    "plt.subplot(2,3,4) #fourier transform of the averaged signal\n",
    "...\n",
    "\n",
    "plt.subplot(2,3,5) #fourier transform of the single noisy trace\n",
    "...\n",
    "\n",
    "plt.subplot(2,3,6) #fourier transform of the filtered signal\n",
    "...\n",
    "\n",
    "#plt.subplots_adjust(wspace = 1) #uncomment if the plots/labels of plots overlap\n",
    "plt.savefig('image_averaging.jpg') # automatically save with Pillow (pip install Pillow )\n",
    "\n"
   ]
  },
  {
   "cell_type": "code",
   "execution_count": null,
   "metadata": {},
   "outputs": [],
   "source": [
    "### TO DO=\"copy the above code and adapt\"\n"
   ]
  },
  {
   "cell_type": "markdown",
   "metadata": {},
   "source": [
    "> ### <font color='blue'>Hint:</font>\n",
    "if your averaged signal does not resemble a sine, then double check whether you did correctly trigger. You could plot the first 10 traces for example. "
   ]
  },
  {
   "cell_type": "markdown",
   "metadata": {},
   "source": [
    "## COMPARE & CONCLUDE:\n",
    "> <font color='grey'>⏳ Estimated time: 15 min</font>\n",
    "\n",
    "* Wait till all (4) group members finish their observation\n",
    "* Compare your results with your other group members. \n",
    "* If your results agree, and are in line with all predictions, then talk to a TA and get checked off\n",
    "* Otherwise, so if your results do not agree, or your results are not in line with your predictions, then first discuss amongst your group before getting a TA. \n",
    "\n",
    "**to be checked off by a TA:**\n",
    "Using your last image, in which averaging and filtered results are displaced, reflect on your predictions:\n",
    "1. is triggering required for 1. digital filtering, and 2. averaging\n",
    "2. Which approach do you prefer, digital filtering or averaging? (which pros and cons do you find more important)\n",
    "3. exit card: 1. Write a brief abstract on what you learned (conclusion, useful graph), 2. Which troubleshooting skills do you want to remember for next sessions, 3. Which code do you copy for use in next sessions,\n",
    "4. How do think this notebook could be improved"
   ]
  },
  {
   "cell_type": "code",
   "execution_count": null,
   "metadata": {},
   "outputs": [],
   "source": [
    "#9B filtering and averaging\n",
    "### TO DO =\"reflect on whether triggering is required for figital filtering and/or averaging\"\n",
    "\n",
    "### TO DO=\"Explain whether you prefer difital filtering or triggering\"\n",
    "\n",
    "### TO DO=\"3a. abstract\"\n",
    "\n",
    "### TO DO=\"3b. troubleshooting\"\n",
    "\n",
    "### TO DO=\"3c. code\"\n",
    "\n",
    "### TO DO=\"4. what changes would you suggest?\"\n"
   ]
  },
  {
   "cell_type": "code",
   "execution_count": null,
   "metadata": {},
   "outputs": [],
   "source": []
  },
  {
   "cell_type": "markdown",
   "metadata": {
    "nbgrader": {
     "grade": false,
     "grade_id": "cell-f2da3f3ed83444ee",
     "locked": true,
     "solution": false
    }
   },
   "source": [
    "\n",
    "\n",
    "\n",
    "## <font color='red'> Additional useful code for data and folder handling:</font> "
   ]
  },
  {
   "cell_type": "code",
   "execution_count": null,
   "metadata": {},
   "outputs": [],
   "source": [
    "# USEFUL CODE TO CHANGE THE PATH / FOLDER YOU ARE IN NOW\n",
    "\n",
    "from pathlib import Path\n",
    "\n",
    "data_folder = Path(r'C:\\your_file_path)\n",
    "file_to_open = data_folder / 'data_9B.npy'\n",
    "data=np.load(file_to_open)"
   ]
  },
  {
   "cell_type": "code",
   "execution_count": null,
   "metadata": {},
   "outputs": [],
   "source": [
    "# USEFUL CODE TO SCAN THROUGH FOLDERS AND FOLDER NAMES\n",
    "import os\n",
    "from pathlib import Path\n",
    "print(os.getcwd())\n",
    "yourfoldername=r'C:\\fill_in_your_folder_name_here'\n",
    "print(os.path.exists(yourfoldername))\n",
    "os.chdir(yourfoldername)\n",
    "print(os.getcwd())\n",
    "os.listdir()"
   ]
  },
  {
   "cell_type": "code",
   "execution_count": null,
   "metadata": {},
   "outputs": [],
   "source": [
    "\n"
   ]
  },
  {
   "cell_type": "code",
   "execution_count": 6,
   "metadata": {},
   "outputs": [
    {
     "data": {
      "text/plain": [
       "[<matplotlib.lines.Line2D at 0x1d6a4481600>,\n",
       " <matplotlib.lines.Line2D at 0x1d6a4481630>,\n",
       " <matplotlib.lines.Line2D at 0x1d6a44815d0>,\n",
       " <matplotlib.lines.Line2D at 0x1d6a4481660>]"
      ]
     },
     "execution_count": 6,
     "metadata": {},
     "output_type": "execute_result"
    },
    {
     "data": {
      "image/png": "[encoded data removed]",
      "text/plain": [
       "<Figure size 640x480 with 1 Axes>"
      ]
     },
     "metadata": {},
     "output_type": "display_data"
    }
   ],
   "source": [
    "import numpy as np\n",
    "import matplotlib.pyplot as plt\n",
    "tt=np.arange(0,10,0.1)\n",
    "s1=np.sin(2*np.pi*.3*tt)\n",
    "s2=np.sin(2*np.pi*.3*tt+np.pi*2/3)\n",
    "s3=np.sin(2*np.pi*.3*tt+np.pi*4/3)\n",
    "plt.plot(tt,s1,'b',tt,s2,'g',tt,s3,'r',tt,s1+s2+s3,'m')"
   ]
  },
  {
   "cell_type": "code",
   "execution_count": null,
   "metadata": {},
   "outputs": [],
   "source": []
  }
 ],
 "metadata": {
  "celltoolbar": "Create Assignment",
  "kernelspec": {
   "display_name": "Python 3 (ipykernel)",
   "language": "python",
   "name": "python3"
  },
  "language_info": {
   "codemirror_mode": {
    "name": "ipython",
    "version": 3
   },
   "file_extension": ".py",
   "mimetype": "text/x-python",
   "name": "python",
   "nbconvert_exporter": "python",
   "pygments_lexer": "ipython3",
   "version": "3.7.12"
  },
  "latex_envs": {
   "LaTeX_envs_menu_present": true,
   "autoclose": false,
   "autocomplete": true,
   "bibliofile": "biblio.bib",
   "cite_by": "apalike",
   "current_citInitial": 1,
   "eqLabelWithNumbers": true,
   "eqNumInitial": 1,
   "hotkeys": {
    "equation": "Ctrl-E",
    "itemize": "Ctrl-I"
   },
   "labels_anchors": false,
   "latex_user_defs": false,
   "report_style_numbering": false,
   "user_envs_cfg": false
  },
  "toc": {
   "base_numbering": 1,
   "nav_menu": {},
   "number_sections": true,
   "sideBar": true,
   "skip_h1_title": false,
   "title_cell": "Table of Contents",
   "title_sidebar": "Contents",
   "toc_cell": false,
   "toc_position": {},
   "toc_section_display": true,
   "toc_window_display": false
  }
 },
 "nbformat": 4,
 "nbformat_minor": 4
}
