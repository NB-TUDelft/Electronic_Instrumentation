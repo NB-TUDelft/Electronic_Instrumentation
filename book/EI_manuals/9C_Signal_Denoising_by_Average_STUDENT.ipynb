{
 "cells": [
  {
   "cell_type": "code",
   "execution_count": null,
   "metadata": {},
   "outputs": [],
   "source": [
    "from IPython.core.display import HTML\n",
    "def set_width(width):\n",
    "    display(HTML(f\"\"\"<style>  \n",
    "            .container {{ width:{width}% !important; \n",
    "                            min-width:800px !important; margin: 0 auto}} \n",
    "            .jp-Cell {{ width:{width}% !important; \n",
    "                            min-width:800px !important; margin: 0 auto}} </style>\"\"\"))\n",
    "# Set container width to X% of the fullscreen \n",
    "set_width(50)"
   ]
  },
  {
   "cell_type": "markdown",
   "metadata": {},
   "source": [
    "# 9C: Signal Denoising by Average \n",
    "> <font color='blue'>Learning goals:</font> know how the starting phase effects the averaged signal.\n",
    "\n",
    "This assignment is based on one of the exam questions of previous years.\n",
    "Structure of an experiment:\n",
    "- Background + Anticipate + Simulate (32 min): per person. This is homework and should be finished **before** you start your 4 hours practicum session\n",
    "- Implement + Investigate (40 min): with your partner (group of 2)\n",
    "- Compare + Conclude (15 min): with a group of 4 (per table)\n"
   ]
  },
  {
   "cell_type": "markdown",
   "metadata": {},
   "source": [
    "## BACKGROUND \n",
    "> <font color='grey'>⏳ Estimated time: 2 min</font>\n",
    "\n",
    "In 9B simulate, you already saw what the trigger can do to the average of noisy signals. Suppose you do have important data, can you do something about the data, perhaps adapt the starting phase to be able to average it easily? In this assignment you'll explore two approaches. \n"
   ]
  },
  {
   "cell_type": "markdown",
   "metadata": {},
   "source": [
    "## ANTICIPATE\n",
    "> <font color='grey'>⏳ Estimated time: 15 min</font>\n",
    "\n",
    "If a signal is noisy, you could take multiple acquisitions and then average it.\n",
    "\n",
    "* Say why simply averaging over noisy untriggered data will not give you usable results.\n",
    "* Devise a strategy how to handle such data so you can still retrieve the signal using averaging as a denoising technique"
   ]
  },
  {
   "cell_type": "code",
   "execution_count": null,
   "metadata": {
    "lines_to_next_cell": 2
   },
   "outputs": [],
   "source": [
    "### TO DO=\"your prediction for the resulting signal after averaging\"\n"
   ]
  },
  {
   "cell_type": "markdown",
   "metadata": {},
   "source": [
    "## SIMULATE\n",
    "> <font color='grey'>⏳ Estimated time: 15 min</font>\n",
    "\n",
    "Continuing on the simulation of assignment 9B, run the code and reflect on why these approaches are not the best ones to:\n",
    "1. find the crossing to zero (for later shift of the signal)\n",
    "2. shift the signal to be able to average"
   ]
  },
  {
   "cell_type": "code",
   "execution_count": null,
   "metadata": {},
   "outputs": [],
   "source": [
    "# part 1: find the zero crossing\n",
    "\n",
    "import numpy as np\n",
    "import matplotlib.pyplot as plt\n",
    "Nsamples = 150\n",
    "duration = 0.89 # seconds\n",
    "time = np.linspace(0,duration,Nsamples)\n",
    "freq1 = 5 # Hz\n",
    "\n",
    "pp=2.0 * np.pi*np.random.random()\n",
    "voltage = np.sin( freq1 * 2.0 * np.pi * time+ pp) + 0.7*(np.random.random(len(time))-0.5)\n",
    "\n",
    "# code for finding the zero crossing\n",
    "crossing1a=np.where(voltage==0) #1a does not work ..... why?\n",
    "\n",
    "crossing1b=np.where(abs(voltage)==min(abs(voltage))) #1b is the slope always in the same direction?\n",
    "\n",
    "print(crossing1a)\n",
    "print(crossing1b)\n",
    "\n"
   ]
  },
  {
   "cell_type": "code",
   "execution_count": null,
   "metadata": {},
   "outputs": [],
   "source": [
    "### TO DO=\"your  answers (you can answer them after seeing the plot in the next cell)\"\n"
   ]
  },
  {
   "cell_type": "code",
   "execution_count": null,
   "metadata": {},
   "outputs": [],
   "source": [
    "# part 2. code for shifting the signal (and displaying)\n",
    "new_signal=voltage.copy()\n",
    "\n",
    "plt.plot(new_signal,'g')\n",
    "plt.plot(np.roll(new_signal, -round(crossing1b[0][0])),'b') #is the new signal still a sine?"
   ]
  },
  {
   "cell_type": "markdown",
   "metadata": {},
   "source": [
    "* Feel free to watch the (older) Precap (PyDAQ10 became week 9C, Pydaq11 became week 9B): https://www.youtube.com/watch?v=6Cl2hjsRiOQ\n"
   ]
  },
  {
   "cell_type": "markdown",
   "metadata": {},
   "source": [
    "## IMPLEMENT & INVESTIGATE 1 : Simulate an untriggered data measurement and try to average it\n",
    "> <font color='grey'>⏳ Estimated time: 10 min</font>\n",
    "\n",
    "If you average triggered data (as collected in the 9B assignment), you can average it without issues. This is different for untriggered data, which we will first simulate. \n",
    "\n",
    "**Exercise 1.1**: Run the following code to 'generate' a measurement. You might need to run twice in order to see the plot.<br>\n",
    "If you ever want to change the code below, COPY IT into a separate cell. Also be aware that after the first time you run it, you will have to delete 'exam_noisy_data_to_average.npy' file to be able to generate again"
   ]
  },
  {
   "cell_type": "code",
   "execution_count": null,
   "metadata": {},
   "outputs": [],
   "source": [
    "import numpy as np\n",
    "import matplotlib.pyplot as plt\n",
    "import numpy.matlib as npm # this sublibrary needs to be separately loaded\n",
    "import os\n",
    "\n",
    "Nrec=1000\n",
    "tt=np.arange(0,20,0.1)\n",
    "    \n",
    "if not(os.path.exists('exam_noisy_data_to_average.npy')):\n",
    "\n",
    "    AA=np.zeros((len(tt),Nrec))\n",
    "\n",
    "    for ii in range(Nrec):\n",
    "        AA[:,ii]=np.sin(2*np.pi*tt/3.4+np.random.randn()*(2*np.pi))+np.random.randn(1,len(tt))\n",
    "    np.save('exam_noisy_data_to_average',AA)\n",
    "else: \n",
    "    AA=np.load('exam_noisy_data_to_average.npy')\n",
    "\n",
    "#lenght=ii # or less    \n",
    "length=10\n",
    "plt.plot(AA[:,:length]+ np.amax(AA)*npm.repmat(np.arange(0,length),len(tt),1))\n",
    "plt.show()"
   ]
  },
  {
   "cell_type": "markdown",
   "metadata": {},
   "source": [
    "This plot shows 10 of the 1000 (simulated) recordings of a very noisy signal. Firstly, we will try to reduce the noise by taking the average of all these recordings. Perhaps, this filters out the noise.\n",
    "\n",
    "**Exercise 1.2**: Write code to plot the averaged recording AV, and the first (noisy) recording.\n",
    "\n",
    "> <font color='blue'>Hint:</font>  Note you have 1000 traces of 200 data points. Make sure you average in the right direction."
   ]
  },
  {
   "cell_type": "code",
   "execution_count": null,
   "metadata": {},
   "outputs": [],
   "source": [
    "### TO DO=\"your code, use np.mean(..., axis=...)\"\n",
    "print(np.shape(AA))\n",
    "AV=np.mean(..., axis=...)\n",
    "plt.plot(AV),plt.plot(AA[:,0]), plt.legend(['AV','AA'])\n",
    "plt.show()"
   ]
  },
  {
   "cell_type": "markdown",
   "metadata": {
    "nbgrader": {
     "grade": false,
     "grade_id": "cell-d7e56ce886f56b2f",
     "locked": false,
     "schema_version": 3,
     "solution": false,
     "task": false
    }
   },
   "source": [
    "Think about why the blue AV plot is pretty small/ flat (and not a sine with less noise). \n"
   ]
  },
  {
   "cell_type": "markdown",
   "metadata": {},
   "source": [
    "## IMPLEMENT & INVESTIGATE 2: Digital improvement of the data\n",
    "> <font color='grey'>⏳ Estimated time: 30 min</font>\n",
    "\n",
    "As you should have seen in the previous question, the phase of each trace is random. Therefore, the resultative average is not a clean signal. You can digitally improve this by aligning the traces to start with the same phase.\n",
    "\n",
    "> <font color='red'>**Optional Challenge**: </font>If you are up for a challenge, try writing the code from scratch without the below steps!\n",
    "> * afterwards, compare your own code with the -incompleted- one below\n",
    "> * Which code is better and why?"
   ]
  },
  {
   "cell_type": "markdown",
   "metadata": {},
   "source": [
    "**Exercise 2.1**: Complete, run and understand the code below. Answer the questions in the comments (comments will help you to write the code) to:\n",
    "* find the maximum location for each trace, (why the max?)\n",
    "* move several periods to the left, (why shift N periods?)\n",
    "* crop the data from that location,\n",
    "* store it in a new array,\n",
    "* average the new array after you looped over all traces."
   ]
  },
  {
   "cell_type": "code",
   "execution_count": null,
   "metadata": {},
   "outputs": [],
   "source": [
    "# try out the following function: \n",
    "np.remainder(10,3)"
   ]
  },
  {
   "cell_type": "code",
   "execution_count": null,
   "metadata": {},
   "outputs": [],
   "source": [
    "## your code - understand it (answer the questions), and let it function as wanted\n",
    "\n",
    "period=34; # 34 is the given period.  Optional challenge: can you deduct it from the data? \n",
    "\n",
    "BB=np.zeros((len(tt),Nrec))        # same as AA, why??\n",
    "for ii in range(...):               # what are you looping over, len(tt) or Nrec?\n",
    "    maxElement = np.amax(...)       #  of which variable do you want to take the maximum, in order to find the location in the next line\n",
    "                                   # why do you take the maximum, and not the zero crossing?\n",
    "    aa=np.where(...== maxElement)   # find the location of maxElement; what where you comparing again?\n",
    "    aar=np.remainder(aa,period)[0][0]; # this line is correct, but do you understand:\n",
    "                                       # 1. why remainder is improving the eventual result?\n",
    "                                       # 2. why do you use [0][0]?\n",
    "    bb=AA[...,ii];                   # hint: you don't want the full AA, but only a part (starting at phase 0) ..something with aar \n",
    "    BB[...,ii]=bb;                   # hint: compare the size of bb and BB[:,ii], they should become the same\n",
    "    \n",
    "# the part below is solution code, no need to alter. \n",
    "length=20 # you just do not want to plot 1000 traces, so only display a subset \n",
    "\n",
    "plt.figure(1), plt.plot(AA[:,:length]+ np.amax(AA)*(npm.repmat(np.arange(0,length),len(tt),1)))\n",
    "plt.figure(2), plt.plot(BB[:,:length]+ np.amax(AA)*(npm.repmat(np.arange(0,length),len(tt),1)))plt.show()"
   ]
  },
  {
   "cell_type": "code",
   "execution_count": null,
   "metadata": {},
   "outputs": [],
   "source": [
    "### TO DO=\"copy the above code and adapt\"\n"
   ]
  },
  {
   "cell_type": "markdown",
   "metadata": {},
   "source": [
    "Your plots should look like this (just less squished - if you want your plot to be squished, use plt.subplot instead of plt.plot):\n",
    "<img src=\"https://gitlab.tudelft.nl/mwdocter/nb2214-images/-/raw/main/PyDAQ-Next/PyDAQ10_more_aligned_traces.JPG\" width=50%></img>\n",
    "\n",
    "**Exercise 2.2**: Using the code below, plot the two averaged signal and enjoy the great improvement of the aligned / triggered averaging compared to unaligned / nontriggered signals."
   ]
  },
  {
   "cell_type": "code",
   "execution_count": null,
   "metadata": {},
   "outputs": [],
   "source": [
    "## the ultimate test!\n",
    "BV=np.mean(BB,axis=1)\n",
    "plt.subplot(1,2,1), plt.plot(AV), plt.plot(BV), plt.legend(['AV','BV']) # averaged AA and BB\n",
    "plt.subplot(1,2,2), plt.plot(BB[:,0]) # your phase shifted\n",
    "plt.savefig('image.jpg') # automatically save with Pillow (pip install Pillow )plt.show()"
   ]
  },
  {
   "cell_type": "markdown",
   "metadata": {
    "collapsed": true,
    "jupyter": {
     "outputs_hidden": true
    }
   },
   "source": [
    "## COMPARE & CONCLUDE:\n",
    "> <font color='grey'>⏳ Estimated time: 15 min</font>\n",
    "\n",
    "\n",
    "* Wait till all (4) group members finish their observation\n",
    "* Compare your results with your other group members. \n",
    "* If your results agree, and are in line with all predictions, then talk to a TA and get checked off\n",
    "* Otherwise, so if your results do not agree, or your results are not in line with your predictions, then first discuss amongst your group before getting a TA. \n",
    "\n",
    "**to be checked by TA** \n",
    "\n",
    "Reflect on your predictions and written code:\n",
    "1. how did you manage to improve the missing alignment of different starting phase?\n",
    "2. Explain why the signal seems to have strange peaks on top of smooth sine wave. It might have to do with the way we align all signals.\n",
    "3. exit card: \n",
    "    1. Write a brief abstract on what you learned (conclusion, useful graph), \n",
    "    2. Which troubleshooting skills do you want to remember for next sessions, \n",
    "    3. Which code do you copy for use in next sessions,\n",
    "4. How do think this notebook could be improved"
   ]
  },
  {
   "cell_type": "code",
   "execution_count": null,
   "metadata": {},
   "outputs": [],
   "source": [
    "#9C denoising by averaging\n",
    "### TO DO= \" 1. how did you manage to improve the misalgined phase\"\n",
    "\n",
    "### TO DO= 2. explain the strange peaks on top of the smooth sine wave\n",
    "\n",
    "### TO DO=\"3a. abstract\"\n",
    "\n",
    "### TO DO=\"3b. troubleshooting\"\n",
    "\n",
    "### TO DO=\"3c. code\"\n",
    "\n",
    "### TO DO=\"4. what changes would you suggest?\"\n"
   ]
  },
  {
   "cell_type": "markdown",
   "metadata": {},
   "source": [
    "> <font color='red'> **optional challenge** </font> :\n",
    "> - You could do an even better alignment, if you first remove noise by digital filtering, and then find the maximum. \n",
    "> - Another option is to do cross-correlation between noisy (or filtered) traces, to find a better estimate of the shift. And then apply a subpixel shift, with functions like scipy.ndimage.shift.\n",
    "> - If you are up to the challenge, feel free to try it."
   ]
  },
  {
   "cell_type": "markdown",
   "metadata": {},
   "source": [
    "* Record PyDAQ11 digital filtering: https://www.youtube.com/watch?v=8azdBqbswYU"
   ]
  },
  {
   "cell_type": "code",
   "execution_count": null,
   "metadata": {},
   "outputs": [],
   "source": [
    "### TO DO =\"your code for the optional challenge\"\n"
   ]
  },
  {
   "cell_type": "code",
   "execution_count": null,
   "metadata": {},
   "outputs": [],
   "source": []
  },
  {
   "cell_type": "code",
   "execution_count": null,
   "metadata": {},
   "outputs": [],
   "source": []
  }
 ],
 "metadata": {
  "celltoolbar": "Create Assignment",
  "kernelspec": {
   "display_name": "Python 3 (ipykernel)",
   "language": "python",
   "name": "python3"
  },
  "language_info": {
   "codemirror_mode": {
    "name": "ipython",
    "version": 3
   },
   "file_extension": ".py",
   "mimetype": "text/x-python",
   "name": "python",
   "nbconvert_exporter": "python",
   "pygments_lexer": "ipython3",
   "version": "3.7.12"
  },
  "toc": {
   "base_numbering": 1,
   "nav_menu": {},
   "number_sections": true,
   "sideBar": true,
   "skip_h1_title": false,
   "title_cell": "Table of Contents",
   "title_sidebar": "Contents",
   "toc_cell": false,
   "toc_position": {},
   "toc_section_display": true,
   "toc_window_display": false
  }
 },
 "nbformat": 4,
 "nbformat_minor": 4
}
