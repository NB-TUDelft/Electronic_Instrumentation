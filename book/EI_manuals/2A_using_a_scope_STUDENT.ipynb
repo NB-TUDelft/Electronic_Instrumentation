{
 "cells": [
  {
   "cell_type": "code",
   "execution_count": null,
   "metadata": {},
   "outputs": [],
   "source": [
    "from IPython.core.display import HTML\n",
    "def set_width(width):\n",
    "    display(HTML(f\"\"\"<style>  \n",
    "            .container {{ width:{width}% !important; \n",
    "                            min-width:800px !important; margin: 0 auto}} \n",
    "            .jp-Cell {{ width:{width}% !important; \n",
    "                            min-width:800px !important; margin: 0 auto}} </style>\"\"\"))\n",
    "# Set container width to X% of the fullscreen \n",
    "set_width(50)"
   ]
  },
  {
   "cell_type": "markdown",
   "metadata": {},
   "source": [
 "# 2A: Scope: AC/DC and AC frequency dependency scope\n",
    "\n",
    "> <font color='blue'>Learning goal:</font> be able to measure or calculate voltage and frequency with the oscillator, and understand how changing settings on the function generator and oscilloscope change your measurement.\n",
    "\n",
    "Experiments of this week:\n",
    "-   experiment 2A: Investigate the AC/DC coupling and the AC frequency dependency with the oscilloscope\n",
    "-   experiment 2B: Apply the correct triggering between function generator and oscilloscope\n",
    "-   experiment 2C: Use the picopi to measure the Thevenin equivalent of a circuit\n",
   "\n",
    "Structure of experiment:\n",
    "- Background+Anticipate (10+10+15 min): per person. This is homework.\n",
    "- Simulate: not this time\n",
    "- Implement & Investigate (25+30+20 min): with partner (group of 2)\n",
    "- Compare & Conclude (10 min): with group of 4 (per table)"
   ]
  },
  {
   "cell_type": "markdown",
   "metadata": {},
   "source": [
    ">This is an overview of the settings you will explore. They are broken in to I&I1, I&I2, and I&I3 you will find further below. \n",
    ">* scope option: channels\n",
    ">* scope option: measure in AC or DC\n",
    ">* scope option: triggering on channel 1\n",
    ">* function generator: duty cycle & scope: coupling\n",
    ">* function generator + scope: signal with varying duty cycle and varying frequency\n",
    "\n",
    "## Background \n",
    "> <font color='grey'>⏳ Estimated time: 10 min</font>\n",
    "\n",
    "The oscilloscope is an indispensable device to test electronic circuits and is an important complement to the DMM. It allows the observation of signals that vary over time and therefore allows a better study of parameters such as frequency and amplitude for AC signals. \n",
    "\n",
    "Check out the intro on the scope, read up to the scope basics and cursors \n",
    "https://mwdocter.github.io/TeachBook/main/EI_manuals/intro_scope_Agilent.html\n",
    "\n"
   ]
  },
  {
   "cell_type": "markdown",
   "metadata": {},
   "source": [
    "## Anticipate 1: Calculate the right Oscilloscope settings\n",
    "> <font color='grey'>⏳ Estimated time: 10 min</font>\n",
    "\n",
    "You need to be able to set the scope settings yourself (the auto setup button is helpful, but not flawless)\n",
    "\n",
    "Calculate the correct settings (time/div and V/div) for signal 1:\n",
    "* Input = a square or block wave of frequency 100Hz, amplitude 3Vpp and duty cycle 50%.\n",
    "* Display = 6 full cycles and full amplitude 3 divisions. \n",
    "* Oscilloscope (12 divisions wide, 8 divisions heigh)\n",
    "\n",
    "Calculate the right input voltage and frequency for signal 2:\n",
    "* A sine wave is displayed in the oscilloscope (12 divisions wide, 8 divisions heigh)\n",
    "* Its peak-to-peak amplitude is 5 divisions and 3 full cycles fit the display. \n",
    "* Settings are 500mV/division and 5ms/division.\n",
    "\n",
    "\n",
    "> **<font color='red'>__optional challenge__: </font>** (feel free, if you want to practice more) <br>\n",
    "Considering a sine wave of 3Vp, calculate the missing parameter\n",
    "\n",
    ">* 1.5\tCycles displayed; 10 ms/division: \tFrequency of the signal (Hz)??\n",
    ">* 0.02 ms/div; 8300 Hz:   how many cycles displayed?\n",
    ">* 3 Cycles displayed; 500 Hz: what is the scale (ms/div)\t\n",
    "\n"
   ]
  },
  {
   "cell_type": "code",
   "execution_count": null,
   "metadata": {},
   "outputs": [],
   "source": [
    "### TO DO=\"the correct settings for signal 1&2\"\n"
   ]
  },
  {
   "cell_type": "markdown",
   "metadata": {},
   "source": [
    "## Anticipate 2: How will AC/DC mode and signal's frequency influence the measured Voltage \n",
    "> <font color='grey'>⏳ Estimated time: 15 min</font>\n",
    "\n",
    "A scope can display in AC mode (average subtracted), or DC mode. You will vary the duty cycle (% of a blockwave signal being high).\n",
    "* What is the influence of changing the duty cycle of a signal, on the displayed AC signal on the scope?\n",
    "* When going to low frequency signals (sine < 0.5 Hz), how will the choice of AC/DC coupling affect the measured signal?\n",
    "\n",
    "> https://en.wikipedia.org/wiki/Duty_cycle: The duty cycle D is defined as the ratio between the pulse duration, or pulse width (PW) and the period (T) of a rectangular waveform\n",
    "<img src=\"https://gitlab.tudelft.nl/mwdocter/nb2214-images/-/raw/main/ELC/PWM_duty_cycle_with_label.jpg\" width=50%></img>\n",
    "\n",
    "> In DC mode: the displayed voltage is the actual voltage Vin <br>\n",
    "> In AC mode: the displayed voltage is Vin - average(Vin)\n",
    "> Below diagrams from UofW lab notes (https://ece.uwaterloo.ca/~lab140/scope_notes.pdf): \n",
    "<img src=\"https://gitlab.tudelft.nl/mwdocter/nb2214-images/-/raw/main/ELC/AC-DC coupling.JPG\" width=50%></img>\n",
    "\n",
    "> in AC an additional capacitor filters out the low frequencies. Note that a constant value can be seen as a signal with freuqency  0 Hz. "
   ]
  },
  {
   "cell_type": "code",
   "execution_count": null,
   "metadata": {
    "nbgrader": {
     "grade": false,
     "grade_id": "cell-a5e24aca6510b61c",
     "locked": false,
     "schema_version": 3,
     "solution": false,
     "task": false
    }
   },
   "outputs": [],
   "source": [
    "### TO DO=\"## your answer to: influence of AC/DC mode and frequency on measured signal\"\n"
   ]
  },
  {
   "cell_type": "markdown",
   "metadata": {},
   "source": [
    "Watch the following movie to get a quick intro on what you will be doing while doing the measurements\n",
   "* https://www.youtube.com/watch?v=Iqojk0z8l_0\n"
   ]
  },
  {
   "cell_type": "markdown",
   "metadata": {},
   "source": [
    "## Implement & Investigate 1: Measure the function generator's output with the scope\n",
"> <font color='grey'>⏳ Estimated time: 25 min</font>\n",
    "\n",
    "* Connect the output of the function generator to CH1 of the scope and generate a signal. \n",
   "* Generate a 25 Hz sine wave with an amplitude of 3 Vpp, a DC offset of 1.5 V\n",
   "* Change the settings such that you see a nice representation of your signal",
   "* Write down how many cycles or periods you see on the scope screen\n",
    "<details>\n",
    "<summary><font size=4>ℹ️</font> <b>Hints</b></summary>\n",
    " * Use a coax cable to connect the two devices.\n",
    " * Make sure that the correct LOAD resistance is entered (HIGH Z) under UTILITY / OUTPUT SETUP. \n",
    " * Set the generator to a 25 Hz sine wave with an amplitude of 3 Vpp, a DC offset of 1.5 V.\n",
    " * Don't forget to switch the output on\n",
    "\n",
    "* Turn on Channel 1 on the oscilloscope. \n",
    "\n",
    "* Set channel 1 to 'DC' coupling\n",
    "\n",
    "* Use 1.00 V/div, offset 0.00 V (small coloured knob)\n",
    "* trigger level is approximately 0.50 V, and trigger source is channel 1. \n",
    "\n",
    "> **<font color = 'blue'> Hint: </font>** Scope can be a little finicky when adjusting settings with a knob. Don't get discouraged!\n",
    "Also if you don't see the full sine wave, change the 1V/div to a different value so you see the whole function",
   "</details>\n"
   ]
  },
  {
   "cell_type": "code",
   "execution_count": null,
   "metadata": {
    "lines_to_next_cell": 2
   },
   "outputs": [],
   "source": [
    "### TO DO=\"How many cycles did you observe on the oscilloscope screen?\"\n"
   ]
  },
  {
   "cell_type": "markdown",
   "metadata": {},
   "source": [
    "## Implement & Investigate 2: Investigate the influence of AC/DC mode on the measured signal\n",
    "> <font color='grey'>⏳ Estimated time: 30 min</font>\n",
    "\n",
    "We will investigate what the difference is between AC and DC coupling\n",
    "* To observe this difference you can use a **rectangular** wave of 25 Hz, 4 Vpp, 50% duty cycle, DC offset -2V. \n",
    "* Change the duty cycle and toggle AC and DC mode to your liking\n",
"\n",
  "<details>\n",
    "<summary><font size=4>ℹ️</font> <b>Hints</b></summary>\n",
"\n",
    "* On the scope:\n",
    "    * Set the DC offset on the scope to zero. \n",
    "    * verify that the minimum and maximum of the measured signal are -2V and +2V. \n",
    "    * switch CH 1 between DC and AC coupling. \n",
    "\n",
    "Are the displayed signals different between DC and AC coupling?\n",
    "\n",
    "* On the function generator: set the duty cycle of the rectangular wave to 20%.  \n",
    "* On the scope: switch CH 1 between DC and AC coupling. \n",
    "    * Now you should observe a difference between DC and AC coupling. \n",
    "</details>\n",
   "\n",
    " > **<font color = 'blue'> Hint: </font>** You do not see any difference? Make sure you are coupling the signal, not the trigger\n",
    "\n",
    "Describe and explain what happens to the displayed signals when using AC or DC coupling.\n"
   ]
  },
  {
   "cell_type": "code",
   "execution_count": null,
   "metadata": {
    "lines_to_next_cell": 2
   },
   "outputs": [],
   "source": [
    "### TO DO=\"Describe and explain the difference between AC/DC for 20% duty cycle?\"\n",
    "\n"
   ]
  },
  {
   "cell_type": "markdown",
   "metadata": {},
   "source": [
    "## Implement & Investigate 3: Investigate the influence of the signal's frequency on the measured signal\n",
    "> <font color='grey'>⏳ Estimated time: 20 min</font>\n",
    "\n",
    "* Try to use different signals",
    "* Bring down the frequency and see what happens.",
    "\n",
  "<details>\n",
    "<summary><font size=4>ℹ️</font> <b>Hints</b></summary>\n",
   "\n",
    "* on the Scope: use AC coupling, 100 ms/div or even 1 sec/div\n",
    "* on the function generator: Select a **sine** wave of 25 Hz, 4 Vpp, no DC offset. \n",
    "    * Adapt the frequency, and observe the influence on the Vout\n",
    "      * Decrease the frequency from 25 Hz in steps of 1 Hz down to 1 Hz. \n",
    "      * Further decrease the frequency of the sine wave, in steps of 100 mHz down to 100 mHz. \n",
    "* on the scope, set CH1 to DC coupling. \n",
   "</details>\n",
    "\n",
    "Describe the difference between DC and AC coupling for 100mHz. "
   ]
  },
  {
   "cell_type": "code",
   "execution_count": null,
   "metadata": {},
   "outputs": [],
   "source": [
    "### TO DO=\"Describe the influence of DC and AC coupling for a 100 mHz signal\"\n"
   ]
  },
  {
   "cell_type": "markdown",
   "metadata": {},
   "source": [
    "## Compare&conclude \n",
    "> <font color='grey'>⏳ Estimated time: 10 min</font>\n",
    "\n",
    "Like previous week:\n",
    "\n",
    "* Wait till all (4) group members finish their observation\n",
    "* Compare your results with your other group members. \n",
    "* If your results agree, and are in line with all predictions, then talk to a TA and get checked off\n",
    "* Otherwise, so if your results do not agree, or your results are not in line with your predictions, then first discuss amongst your group before getting a TA. \n",
    "\n",
    "**to be checked off by a TA:**\n",
    "1. explanation of the effect of duty cycle on displayed blockwave (DC/AC mode)\n",
    "2. explanation of the difference between low frequency AC and DC display\n",
    "3. exit card: 1. Write a brief abstract on what you learned (conclusion, useful graph), 2. Which troubleshooting skills do you want to remember for next sessions, 3. Which code do you copy for use in next sessions,\n",
    "4. How do think this notebook could be improved"
   ]
  },
  {
   "cell_type": "code",
   "execution_count": null,
   "metadata": {},
   "outputs": [],
   "source": [
    "#2A scope\n",
    "\n",
    "### TO DO=\"1. explain duty cycle effect\"\n",
    "\n",
    "### TO DO=\"2.explain the AC-DC difference at low freuqency\"\n",
    "\n",
    "### TO DO=\"3a. abstract\"\n",
    "\n",
    "\n",
    "### TO DO=\"3b. troubleshooting\"\n",
    "\n",
    "\n",
    "### TO DO=\"3c. code\"\n",
    "\n",
    "\n",
    "### TO DO=\"4. what changes would you suggest?\"\n",
    "\n",
    "\n",
    "\n",
    "\n",
    "\n"
   ]
  },
  {
   "cell_type": "markdown",
   "metadata": {},
   "source": [
    "If you got stuck during the measurement, at the end of the lab assignment we offer you a movie clip with our recorded efforts in the lab. If you were successfull with measuring, then skip this movie clip\n",
   "* https://www.youtube.com/watch?v=_NP96CQDCSk"
   ]
  },
  {
   "cell_type": "code",
   "execution_count": null,
   "metadata": {},
   "outputs": [],
   "source": []
  }
 ],
 "metadata": {
  "celltoolbar": "Create Assignment",
  "kernelspec": {
   "display_name": "Python 3 (ipykernel)",
   "language": "python",
   "name": "python3"
  },
  "language_info": {
   "codemirror_mode": {
    "name": "ipython",
    "version": 3
   },
   "file_extension": ".py",
   "mimetype": "text/x-python",
   "name": "python",
   "nbconvert_exporter": "python",
   "pygments_lexer": "ipython3",
   "version": "3.7.12"
  },
  "latex_envs": {
   "LaTeX_envs_menu_present": true,
   "autoclose": false,
   "autocomplete": true,
   "bibliofile": "biblio.bib",
   "cite_by": "apalike",
   "current_citInitial": 1,
   "eqLabelWithNumbers": true,
   "eqNumInitial": 1,
   "hotkeys": {
    "equation": "Ctrl-E",
    "itemize": "Ctrl-I"
   },
   "labels_anchors": false,
   "latex_user_defs": false,
   "report_style_numbering": false,
   "user_envs_cfg": false
  },
  "toc": {
   "base_numbering": 1,
   "nav_menu": {},
   "number_sections": true,
   "sideBar": true,
   "skip_h1_title": false,
   "title_cell": "Table of Contents",
   "title_sidebar": "Contents",
   "toc_cell": false,
   "toc_position": {},
   "toc_section_display": true,
   "toc_window_display": false
  }
 },
 "nbformat": 4,
 "nbformat_minor": 4
}
