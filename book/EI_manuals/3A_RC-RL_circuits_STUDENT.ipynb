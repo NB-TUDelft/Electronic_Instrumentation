{
 "cells": [
  {
   "cell_type": "code",
   "execution_count": null,
   "id": "6b774516",
   "metadata": {},
   "outputs": [],
   "source": [
    "from IPython.core.display import HTML\n",
    "def set_width(width):\n",
    "    display(HTML(f\"\"\"<style>  \n",
    "            .container {{ width:{width}% !important; \n",
    "                            min-width:800px !important; margin: 0 auto}} \n",
    "            .jp-Cell {{ width:{width}% !important; \n",
    "                            min-width:800px !important; margin: 0 auto}} </style>\"\"\"))\n",
    "# Set container width to X% of the fullscreen \n",
    "set_width(50)"
   ]
  },
  {
   "cell_type": "markdown",
   "id": "b11bfcd3",
   "metadata": {},
   "source": [
    "# 3A: Filtering \n",
   "> <font color='blue'>Learning goal:</font> Understand the dB-scale and the relation between Vout/Vin and frequency for a high pass filter. Simulate a RL circuit, and perform transient and frequency analysis. Build a RC circuit and find its -3dB point and Vout spectrum\n",
"\n",    
"Experiments of this week:\n",
    "- experiment 3A: build and design RC and RL circuits and observe their behaviour\n",
    "- experiment 3B: use scope probes and see when it is beneficial to use them\n",
    "- experiment 3C: cause a ground loop and explain how it is happening\n",
    "\n",
    "Structure of an experiment:\n",
    "- Predict + Stimulate (25+10+20): per person. This is homework and should be finished **before** you start your 4 hours practicum session\n",
    "- Build + Measure (15+30+10): with your partner(group of 2)\n",
    "- Evaluate (15 min): with a group of 4(per table)"
   ]
  },
  {
   "cell_type": "markdown",
   "id": "4e96041e",
   "metadata": {},
   "source": [
    "## BACKGROUND\n",
    "> <font color='grey'>⏳ Estimated time: 25 min</font>\n",
    "\n",
    "The response of a capacitor or inductor to supplied voltage is not instant, it is out of phase. Therefore we do not speak about resistance values, but of (complex) impedance values. These impedances are frequency dependent, capacitors are slow, while inductors are pretty fast: \n",
    "- The complex impedance of an inductor is $j \\omega L$.\n",
    "- The complex impedance of an capacitor is $\\frac{1}{j \\omega C}$.\n",
    "\n",
    "What is relevant from complex numbers for our course:\n",
    "- $j^2$=-1 or $i^2$=-1\n",
    "- therefore $-j=\\frac{1}{j}$\n",
    "- the absolute value of a complex number $a+ib$ is the square root of the complex number times it complex conjugated: <br>  $|a+ib|$=$\\sqrt{ (a+ib)(a-ib)}$=$\\sqrt{a^2+b^2}$\n",
"* Very basic intro to complex numbers: https://www.youtube.com/watch?v=sxGWOkKdwdM\n"   
]
  },
  {
   "cell_type": "markdown",
   "id": "2d9789d9",
   "metadata": {},
   "source": [
    "Impedances can be used in a similar way as a voltage divider, to derive the behavior of a filter. A filter in its simplest form is a combination of a resistor and capacitor or inductor. For a filter with $L_1$ and $R_1$ (instead of $R_1$ and $R_2$ for a voltage divider), $V_{out}$ measured over $L_1$ is equal to $\\frac{Z_{L_1}}{{(R_1+{Z_{L_1}})}}$. \n",
    "\n",
    "The biggest difference is the frequency dependency. Low pass filters block high frequencies, and simlarly high pass filters block low frequencies. \n",
    "\n",
    "<img src=\"https://gitlab.tudelft.nl/mwdocter/nb2214-images/-/raw/72f7c30357b9caa07cefd5a8c79735c2e179be67/LTS/LTS2-RL_circuit.JPG\" width=30%></img>\n",
    "\n",
    "\n",
    "Whether you have a low or high pass filter can be found by using the following steps:\n",
    "* first derive $\\frac{V_{out}}{V_{in}}$ as function of R,C,L, and $\\omega$. \n",
    "* derive the behavior of really small $\\omega$ (going to zero)\n",
    "* derive the behavior of really high $\\omega$ (going to infinity)\n",
    "* find out where the -3 dB point is, which is where (in case of the voltage of a sine) $V_{out}=\\frac{V_{in}}{ \\sqrt(2)}$\n",
    "\n"
   ]
  },
  {
   "cell_type": "markdown",
   "id": "06f6cfae",
   "metadata": {},
   "source": [
    "Watch the following videos to familiarize yourself with the subject:\n",
"* RC low pass filter: https://www.youtube.com/watch?v=ZwetQNcP0c8\n",
"* Derivation of voltage in RC circuit: https://www.youtube.com/watch?v=jDB2d8zPK9w\n"
   ]
  },
  {
   "cell_type": "markdown",
   "id": "487b43e6",
   "metadata": {},
   "source": [
    "You can also visit the accompanying videos from the book (https://mediaplayer.pearsoncmg.com/assets/AMr8ons5dqRh8jQZjbzyF3wtRzgjkF6g) "
   ]
  },
  {
   "cell_type": "markdown",
   "id": "61e0b5ff",
   "metadata": {},
   "source": [
    "Decibel is a scale which looks at the order rather than the absolute value. Electronic engineers love it. You take the log10, and scale it with 20 (10 for 'deci', and 2 for power depending on the square of the voltage). \n",
    "You can calculate it with the code below. Try the dB of 2,4,10 and 100, and figure out the relation between a multiplying a signal and something else in decibel.\n",
    "\n",
    "Also good to know: Octave is doubling of the frequency, decade is 10x the frequency. "
   ]
  },
  {
   "cell_type": "code",
   "execution_count": 1,
   "id": "b6e5197b",
   "metadata": {},
   "outputs": [
    {
     "name": "stdout",
     "output_type": "stream",
     "text": [
      "20.0\n"
     ]
    }
   ],
   "source": [
    "import numpy as np\n",
    "value=10 # try 2,4,10,100\n",
    "print(20*np.log10(value))"
   ]
  },
  {
   "cell_type": "markdown",
   "id": "7a2e630d",
   "metadata": {},
   "source": [
    "## ANTICIPATE: a RL circuit\n",
    "> <font color='grey'>⏳ Estimated time: 10 min</font>\n",
    "\n",
    "<img src=\"https://gitlab.tudelft.nl/mwdocter/nb2214-images/-/raw/72f7c30357b9caa07cefd5a8c79735c2e179be67/LTS/LTS2-RL_circuit.JPG\" width=30%></img>\n",
    "\n",
    "\n",
    "* Derive what type of filter this (above circuit) is? High-pass or low-pass?\n",
    "* What is its corresponding $L/R$ time?\n",
    "\n",
    "> __<font color='blue'>Hint:</font>__\n",
    "You should find an L/R-time in the order of microseconds."
   ]
  },
  {
   "cell_type": "code",
   "execution_count": null,
   "id": "ee03f5ff",
   "metadata": {},
   "outputs": [],
   "source": [
    "### TO DO=\"your answer for L/R and the type of filter\"\n"
   ]
  },
  {
   "cell_type": "markdown",
   "id": "9261ed3a",
   "metadata": {},
   "source": [
    "## SIMULATE: a RL circuit and preform transient and frequency analysis \n",
    "> <font color='grey'>⏳ Estimated time: 20 min</font>\n",
    "\n",
    "First read the transient analysis, including adapting the voltage source, from the intro manual:\n",
    "https://mwdocter.github.io/TeachBook/main/EI_manuals/intro_LTSpice.html\n",
    "\n"
   ]
  },
  {
   "cell_type": "markdown",
   "id": "2b746046",
   "metadata": {},
   "source": [
    "### Simulate 1:\n",
    "Build the above schematic in LTSpice, and plot Vin, Vout and I(R).\n",
    "* Use settings: stop time 100u, time to start 0, maximum timesteps 1000. This results in the following analysis configuration: '.tran 0 100u 0 1000'\n",
    "* Run the transient simulation (with correct settings), and upload the screenshot. \n",
    "* Explain the behavior of Vout and I(R) in words.\n",
    "* What does Vout look like for larger and smaller values of R (500 Ohm or 50 kOhm)? Upload a screenshot.\n"
   ]
  },
  {
   "cell_type": "code",
   "execution_count": null,
   "id": "649c3368",
   "metadata": {},
   "outputs": [],
   "source": [
    "from ipywidgets import FileUpload\n",
    "from IPython.display import Image\n",
    "\n",
    "upload=FileUpload()\n",
    "upload"
   ]
  },
  {
   "cell_type": "code",
   "execution_count": null,
   "id": "7f02bdac",
   "metadata": {},
   "outputs": [],
   "source": [
    "file_name=\"3A_1_simulationAC.jpg\"\n",
    "if upload.value!={}:\n",
    "    with open(file_name,\"wb\") as f:\n",
    "        try: f.write(upload.data[-1]) # python 3.7 Kernel code, not working on Vocareum\n",
    "        except: f.write(upload.value[-1][\"content\"])  # python 3.8 Kernel code, works on Vocareum if you change the kernel\n",
    "\n",
    "Image(filename=file_name, width=\"50%\")"
   ]
  },
  {
   "cell_type": "code",
   "execution_count": null,
   "id": "966f6807",
   "metadata": {},
   "outputs": [],
   "source": [
    "upload\n"
   ]
  },
  {
   "cell_type": "code",
   "execution_count": null,
   "id": "369743f2",
   "metadata": {},
   "outputs": [],
   "source": [
    "file_name=\"3A_2_simulationAC_resistor_changed.jpg\"\n",
    "if upload.value!={}:\n",
    "    with open(file_name,\"wb\") as f:\n",
    "        try: f.write(upload.data[-1]) # python 3.7 Kernel code, not working on Vocareum\n",
    "        except: f.write(upload.value[-1][\"content\"])  # python 3.8 Kernel code, works on Vocareum if you change the kernel\n",
    "\n",
    "Image(filename=file_name, width=\"50%\")"
   ]
  },
  {
   "cell_type": "code",
   "execution_count": null,
   "id": "ac309ec6",
   "metadata": {},
   "outputs": [],
   "source": [
    "### TO DO=\"your answer for 1. Explain the behavior of Vout and I(L1) in words\"\n",
    "\n",
    "\n",
    "### TO DO=\"your answer for 2. what changes for larger/smaller R?\"\n"
   ]
  },
  {
   "cell_type": "markdown",
   "id": "d738123f",
   "metadata": {},
   "source": [
    "> <font color='red'>**Optional challenge**</font>\n",
    "Feel free to explore the exchange of positions of R and L in the above schematic"
   ]
  },
  {
   "cell_type": "markdown",
   "id": "b655e849",
   "metadata": {},
   "source": [
    "### Simulate 2:\n",
    "\n",
    "**remember to set your R value back to 5k Ohm**\n",
    "First read the AC analysis, including how to adapt the voltage source, from the intro manual:\n",
    "https://mwdocter.github.io/TeachBook/main/EI_manuals/intro_LTSpice_old.html\n",
    "\n",
    "* Use settings: type sweep decade, number of points 100, start frequency 10, stop frequency 1Meg. This results in the following analysis configuration: '.ac dec 100 10 1Meg'\n",
    "* Run the AC analysis simulation (with correct settings). \n",
    "\n",
    "* Show Vout, and with the cursor find the cutoff (-3dB) frequency. Upload a screenshot.\n",
    "* Does the frequency at the -3 dB point correspond to the cutoff frequency that you can find from the L/R time? (If not, what went wrong?)\n",
    "> __<font color='blue'>Hint:</font>__\n",
    "Your frequency should be around 1.1E5 Hz (don't forget the factor of 2pi)\n"
   ]
  },
  {
   "cell_type": "code",
   "execution_count": null,
   "id": "f986fd04",
   "metadata": {},
   "outputs": [],
   "source": [
    "upload"
   ]
  },
  {
   "cell_type": "code",
   "execution_count": null,
   "id": "9ec2ba2a",
   "metadata": {},
   "outputs": [],
   "source": [
    "file_name=\"3A_3_freq_dependency.jpg\"\n",
    "if upload.value!={}:\n",
    "    with open(file_name,\"wb\") as f:\n",
    "        try: f.write(upload.data[-1]) # python 3.7 Kernel code, not working on Vocareum\n",
    "        except: f.write(upload.value[-1][\"content\"])  # python 3.8 Kernel code, works on Vocareum if you change the kernel\n",
    "\n",
    "Image(filename=file_name, width=\"50%\")"
   ]
  },
  {
   "cell_type": "code",
   "execution_count": null,
   "id": "e430d7a4",
   "metadata": {},
   "outputs": [],
   "source": [
    "### TO DO=\"your answer\"\n",
    "\n"
   ]
  },
  {
   "cell_type": "markdown",
   "id": "8b83e30c",
   "metadata": {},
   "source": [
    "Feel free (to view or to skip) the following movie to see whether your simulation went correctly"
   ]
  },
  {
   "cell_type": "code",
   "execution_count": null,
   "id": "2eda674f",
   "metadata": {},
   "outputs": [],
   "source": [
    "##precap\n",
    "from IPython.lib.display import YouTubeVideo\n",
    "YouTubeVideo('4pVcAYFlJns', width = 600, height = 450)\n"
   ]
  },
  {
   "cell_type": "markdown",
   "id": "08a64252",
   "metadata": {},
   "source": [
    "> <font color='red'>**Optional challenge**</font>\n",
    "Go back to the time response, and derive the L/R time from the intensity versus time graph\n",
    "\n"
   ]
  },
  {
   "cell_type": "code",
   "execution_count": null,
   "id": "814f5b38",
   "metadata": {},
   "outputs": [],
   "source": [
    "### TO DO (optional)=\"your answer (optional)\"\n",
    "\n"
   ]
  },
  {
   "cell_type": "markdown",
   "id": "e728a21b",
   "metadata": {},
   "source": [
    "> ### <font color='red'>Additional Python code for simulating the step response of an RL circuit</font>"
   ]
  },
  {
   "cell_type": "code",
   "execution_count": null,
   "id": "290b83a5",
   "metadata": {},
   "outputs": [],
   "source": [
    "## The following code might be of some help.\n",
    "## It simulates the response of an RL circuit to a step function at t=0.\n",
    "import matplotlib.pyplot as plt\n",
    "import numpy as np\n",
    "# Increase font size\n",
    "from matplotlib import rcParams\n",
    "rcParams.update({'font.size': 12}) \n",
    "\n",
    "# Calculate V and I\n",
    "tt=np.arange(0,100,0.1)\n",
    "LR = 10\n",
    "I=1-np.exp(-tt/LR) # I is found from the differential \n",
    "# equation given by Kirchoff's voltage law\n",
    "V=np.exp(-tt/LR) # V = dI/dt\n",
    "\n",
    "plt.figure(figsize=(8,4))\n",
    "# Plot V\n",
    "plt.subplot(1,2,1),plt.plot(tt,V)\n",
    "plt.xlabel('t'), plt.ylabel(r'$V_{L}/V_{source}$')\n",
    "# Plot I\n",
    "plt.subplot(1,2,2),plt.plot(tt,I),\n",
    "plt.xlabel('t'), plt.ylabel(r'$I/I_0$') # I_0 = V_source/R\n",
    "# Optimal layout for subplots\n",
    "plt.tight_layout()"
   ]
  },
  {
   "cell_type": "markdown",
   "id": "e339cabd",
   "metadata": {},
   "source": [
    "Feel free to watch the following movie to get a quick intro in what you will be doing in the measurements"
   ]
  },
  {
   "cell_type": "code",
   "execution_count": null,
   "id": "fa85d658",
   "metadata": {},
   "outputs": [],
   "source": [
    "from IPython.lib.display import YouTubeVideo\n",
    "YouTubeVideo('0h4zvkrEmks', width = 600, height = 450)"
   ]
  },
  {
   "cell_type": "markdown",
   "id": "8b9ffb23",
   "metadata": {},
   "source": [
    "## IMPLEMENT & INVESTIGATE 1: Design a RC high pass filter\n",
    "> <font color='grey'>⏳ Estimated time: 15 min</font>\n",
    "\n",
    "We continue building a **high pass** filter, but now with a resistor R and capacitor C. First think about it, answer the following questions before implementing the circuit. \n",
    "- draw the schematic (including R, C, Vout, Vin)\n",
    "- derive the formula for Vout/Vin ratio\n",
    "- describe how does the filter behave at the extremes\n",
    "- for R=1k$\\Omega$ and C=33nF calculate:\n",
    "    * cut-off frequency of the -3dB point\n",
    "    * value of the time constant\n",
    "- calculate the value of the slope (in dB) for voltage vs frequency graph(draw the graph)."
   ]
  },
  {
   "cell_type": "code",
   "execution_count": 1,
   "id": "6dc39376",
   "metadata": {},
   "outputs": [],
   "source": [
    "### TO DO=\" your answer, derivation ,explanation, and calculation\"\n",
    "\n",
    "\n"
   ]
  },
  {
   "cell_type": "markdown",
   "id": "36e59eb3",
   "metadata": {},
   "source": [
    "Place to upload the drawing of your schematic"
   ]
  },
  {
   "cell_type": "code",
   "execution_count": 2,
   "id": "8660f4bd",
   "metadata": {},
   "outputs": [
    {
     "data": {
      "application/vnd.jupyter.widget-view+json": {
       "model_id": "a8ec1d684e9d42d0b5c6f08fd9dc7a5d",
       "version_major": 2,
       "version_minor": 0
      },
      "text/plain": [
       "FileUpload(value={}, description='Upload')"
      ]
     },
     "metadata": {},
     "output_type": "display_data"
    }
   ],
   "source": [
    "from ipywidgets import FileUpload\n",
    "from IPython.display import Image\n",
    "import os\n",
    "upload=FileUpload()\n",
    "upload\n"
   ]
  },
  {
   "cell_type": "code",
   "execution_count": 3,
   "id": "46a9296f",
   "metadata": {},
   "outputs": [
    {
     "ename": "FileNotFoundError",
     "evalue": "[Errno 2] No such file or directory: '3A_1_RC_high_pass.jpg'",
     "output_type": "error",
     "traceback": [
      "\u001b[1;31m---------------------------------------------------------------------------\u001b[0m",
      "\u001b[1;31mFileNotFoundError\u001b[0m                         Traceback (most recent call last)",
      "Input \u001b[1;32mIn [3]\u001b[0m, in \u001b[0;36m<cell line: 7>\u001b[1;34m()\u001b[0m\n\u001b[0;32m      4\u001b[0m         \u001b[38;5;28;01mtry\u001b[39;00m: f\u001b[38;5;241m.\u001b[39mwrite(upload\u001b[38;5;241m.\u001b[39mdata[\u001b[38;5;241m-\u001b[39m\u001b[38;5;241m1\u001b[39m]) \u001b[38;5;66;03m# python 3.7 Kernel code, not working on Vocareum\u001b[39;00m\n\u001b[0;32m      5\u001b[0m         \u001b[38;5;28;01mexcept\u001b[39;00m: f\u001b[38;5;241m.\u001b[39mwrite(upload\u001b[38;5;241m.\u001b[39mvalue[\u001b[38;5;241m-\u001b[39m\u001b[38;5;241m1\u001b[39m][\u001b[38;5;124m\"\u001b[39m\u001b[38;5;124mcontent\u001b[39m\u001b[38;5;124m\"\u001b[39m])  \u001b[38;5;66;03m# python 3.8 Kernel code, not working on Vocareum\u001b[39;00m\n\u001b[1;32m----> 7\u001b[0m \u001b[43mImage\u001b[49m\u001b[43m(\u001b[49m\u001b[43mfilename\u001b[49m\u001b[38;5;241;43m=\u001b[39;49m\u001b[43mfile_name\u001b[49m\u001b[43m,\u001b[49m\u001b[43m \u001b[49m\u001b[43mwidth\u001b[49m\u001b[38;5;241;43m=\u001b[39;49m\u001b[38;5;124;43m\"\u001b[39;49m\u001b[38;5;124;43m50\u001b[39;49m\u001b[38;5;124;43m%\u001b[39;49m\u001b[38;5;124;43m\"\u001b[39;49m\u001b[43m)\u001b[49m\n",
      "File \u001b[1;32mC:\\Programs\\Anaconda3\\envs\\nb2214-2022\\lib\\site-packages\\IPython\\core\\display.py:957\u001b[0m, in \u001b[0;36mImage.__init__\u001b[1;34m(self, data, url, filename, format, embed, width, height, retina, unconfined, metadata, alt)\u001b[0m\n\u001b[0;32m    955\u001b[0m \u001b[38;5;28mself\u001b[39m\u001b[38;5;241m.\u001b[39munconfined \u001b[38;5;241m=\u001b[39m unconfined\n\u001b[0;32m    956\u001b[0m \u001b[38;5;28mself\u001b[39m\u001b[38;5;241m.\u001b[39malt \u001b[38;5;241m=\u001b[39m alt\n\u001b[1;32m--> 957\u001b[0m \u001b[38;5;28;43msuper\u001b[39;49m\u001b[43m(\u001b[49m\u001b[43mImage\u001b[49m\u001b[43m,\u001b[49m\u001b[43m \u001b[49m\u001b[38;5;28;43mself\u001b[39;49m\u001b[43m)\u001b[49m\u001b[38;5;241;43m.\u001b[39;49m\u001b[38;5;21;43m__init__\u001b[39;49m\u001b[43m(\u001b[49m\u001b[43mdata\u001b[49m\u001b[38;5;241;43m=\u001b[39;49m\u001b[43mdata\u001b[49m\u001b[43m,\u001b[49m\u001b[43m \u001b[49m\u001b[43murl\u001b[49m\u001b[38;5;241;43m=\u001b[39;49m\u001b[43murl\u001b[49m\u001b[43m,\u001b[49m\u001b[43m \u001b[49m\u001b[43mfilename\u001b[49m\u001b[38;5;241;43m=\u001b[39;49m\u001b[43mfilename\u001b[49m\u001b[43m,\u001b[49m\n\u001b[0;32m    958\u001b[0m \u001b[43m        \u001b[49m\u001b[43mmetadata\u001b[49m\u001b[38;5;241;43m=\u001b[39;49m\u001b[43mmetadata\u001b[49m\u001b[43m)\u001b[49m\n\u001b[0;32m    960\u001b[0m \u001b[38;5;28;01mif\u001b[39;00m \u001b[38;5;28mself\u001b[39m\u001b[38;5;241m.\u001b[39mwidth \u001b[38;5;129;01mis\u001b[39;00m \u001b[38;5;28;01mNone\u001b[39;00m \u001b[38;5;129;01mand\u001b[39;00m \u001b[38;5;28mself\u001b[39m\u001b[38;5;241m.\u001b[39mmetadata\u001b[38;5;241m.\u001b[39mget(\u001b[38;5;124m'\u001b[39m\u001b[38;5;124mwidth\u001b[39m\u001b[38;5;124m'\u001b[39m, {}):\n\u001b[0;32m    961\u001b[0m     \u001b[38;5;28mself\u001b[39m\u001b[38;5;241m.\u001b[39mwidth \u001b[38;5;241m=\u001b[39m metadata[\u001b[38;5;124m'\u001b[39m\u001b[38;5;124mwidth\u001b[39m\u001b[38;5;124m'\u001b[39m]\n",
      "File \u001b[1;32mC:\\Programs\\Anaconda3\\envs\\nb2214-2022\\lib\\site-packages\\IPython\\core\\display.py:327\u001b[0m, in \u001b[0;36mDisplayObject.__init__\u001b[1;34m(self, data, url, filename, metadata)\u001b[0m\n\u001b[0;32m    324\u001b[0m \u001b[38;5;28;01melif\u001b[39;00m \u001b[38;5;28mself\u001b[39m\u001b[38;5;241m.\u001b[39mmetadata \u001b[38;5;129;01mis\u001b[39;00m \u001b[38;5;28;01mNone\u001b[39;00m:\n\u001b[0;32m    325\u001b[0m     \u001b[38;5;28mself\u001b[39m\u001b[38;5;241m.\u001b[39mmetadata \u001b[38;5;241m=\u001b[39m {}\n\u001b[1;32m--> 327\u001b[0m \u001b[38;5;28;43mself\u001b[39;49m\u001b[38;5;241;43m.\u001b[39;49m\u001b[43mreload\u001b[49m\u001b[43m(\u001b[49m\u001b[43m)\u001b[49m\n\u001b[0;32m    328\u001b[0m \u001b[38;5;28mself\u001b[39m\u001b[38;5;241m.\u001b[39m_check_data()\n",
      "File \u001b[1;32mC:\\Programs\\Anaconda3\\envs\\nb2214-2022\\lib\\site-packages\\IPython\\core\\display.py:992\u001b[0m, in \u001b[0;36mImage.reload\u001b[1;34m(self)\u001b[0m\n\u001b[0;32m    990\u001b[0m \u001b[38;5;124;03m\"\"\"Reload the raw data from file or URL.\"\"\"\u001b[39;00m\n\u001b[0;32m    991\u001b[0m \u001b[38;5;28;01mif\u001b[39;00m \u001b[38;5;28mself\u001b[39m\u001b[38;5;241m.\u001b[39membed:\n\u001b[1;32m--> 992\u001b[0m     \u001b[38;5;28;43msuper\u001b[39;49m\u001b[43m(\u001b[49m\u001b[43mImage\u001b[49m\u001b[43m,\u001b[49m\u001b[38;5;28;43mself\u001b[39;49m\u001b[43m)\u001b[49m\u001b[38;5;241;43m.\u001b[39;49m\u001b[43mreload\u001b[49m\u001b[43m(\u001b[49m\u001b[43m)\u001b[49m\n\u001b[0;32m    993\u001b[0m     \u001b[38;5;28;01mif\u001b[39;00m \u001b[38;5;28mself\u001b[39m\u001b[38;5;241m.\u001b[39mretina:\n\u001b[0;32m    994\u001b[0m         \u001b[38;5;28mself\u001b[39m\u001b[38;5;241m.\u001b[39m_retina_shape()\n",
      "File \u001b[1;32mC:\\Programs\\Anaconda3\\envs\\nb2214-2022\\lib\\site-packages\\IPython\\core\\display.py:353\u001b[0m, in \u001b[0;36mDisplayObject.reload\u001b[1;34m(self)\u001b[0m\n\u001b[0;32m    351\u001b[0m \u001b[38;5;28;01mif\u001b[39;00m \u001b[38;5;28mself\u001b[39m\u001b[38;5;241m.\u001b[39mfilename \u001b[38;5;129;01mis\u001b[39;00m \u001b[38;5;129;01mnot\u001b[39;00m \u001b[38;5;28;01mNone\u001b[39;00m:\n\u001b[0;32m    352\u001b[0m     encoding \u001b[38;5;241m=\u001b[39m \u001b[38;5;28;01mNone\u001b[39;00m \u001b[38;5;28;01mif\u001b[39;00m \u001b[38;5;124m\"\u001b[39m\u001b[38;5;124mb\u001b[39m\u001b[38;5;124m\"\u001b[39m \u001b[38;5;129;01min\u001b[39;00m \u001b[38;5;28mself\u001b[39m\u001b[38;5;241m.\u001b[39m_read_flags \u001b[38;5;28;01melse\u001b[39;00m \u001b[38;5;124m\"\u001b[39m\u001b[38;5;124mutf-8\u001b[39m\u001b[38;5;124m\"\u001b[39m\n\u001b[1;32m--> 353\u001b[0m     \u001b[38;5;28;01mwith\u001b[39;00m \u001b[38;5;28;43mopen\u001b[39;49m\u001b[43m(\u001b[49m\u001b[38;5;28;43mself\u001b[39;49m\u001b[38;5;241;43m.\u001b[39;49m\u001b[43mfilename\u001b[49m\u001b[43m,\u001b[49m\u001b[43m \u001b[49m\u001b[38;5;28;43mself\u001b[39;49m\u001b[38;5;241;43m.\u001b[39;49m\u001b[43m_read_flags\u001b[49m\u001b[43m,\u001b[49m\u001b[43m \u001b[49m\u001b[43mencoding\u001b[49m\u001b[38;5;241;43m=\u001b[39;49m\u001b[43mencoding\u001b[49m\u001b[43m)\u001b[49m \u001b[38;5;28;01mas\u001b[39;00m f:\n\u001b[0;32m    354\u001b[0m         \u001b[38;5;28mself\u001b[39m\u001b[38;5;241m.\u001b[39mdata \u001b[38;5;241m=\u001b[39m f\u001b[38;5;241m.\u001b[39mread()\n\u001b[0;32m    355\u001b[0m \u001b[38;5;28;01melif\u001b[39;00m \u001b[38;5;28mself\u001b[39m\u001b[38;5;241m.\u001b[39murl \u001b[38;5;129;01mis\u001b[39;00m \u001b[38;5;129;01mnot\u001b[39;00m \u001b[38;5;28;01mNone\u001b[39;00m:\n\u001b[0;32m    356\u001b[0m     \u001b[38;5;66;03m# Deferred import\u001b[39;00m\n",
      "\u001b[1;31mFileNotFoundError\u001b[0m: [Errno 2] No such file or directory: '3A_1_RC_high_pass.jpg'"
     ]
    }
   ],
   "source": [
    "file_name=\"3A_4_RC_high_pass.jpg\"\n",
    "if upload.value!={}:\n",
    "    with open(file_name,\"wb\") as f:\n",
    "        try: f.write(upload.data[-1]) # python 3.7 Kernel code, not working on Vocareum\n",
    "        except: f.write(upload.value[-1][\"content\"])  # python 3.8 Kernel code, not working on Vocareum\n",
    "\n",
    "Image(filename=file_name, width=\"50%\")\n"
   ]
  },
  {
   "cell_type": "markdown",
   "id": "158b5153",
   "metadata": {
    "lines_to_next_cell": 2
   },
   "source": [
    "## IMPLEMENT & INVESIGATE 2: find -3dB point of the RC circuit using test board 1\n",
    "> <font color='grey'>⏳ Estimated time: 30 min</font>\n",
    "\n",
    "### Equipment: \n",
    "- test board 1\n",
    "- function generator\n",
    "- oscilloscope\n",
    "- coax cables\n",
    "- wires\n",
    "\n",
    "Implement the RC circuit with R=1 kΩ and C=33 nF. Below you can see the overview of test board 1.\n",
    "\n",
    "<img src=\"https://gitlab.tudelft.nl/mwdocter/nb2214-images/-/raw/main/ELC/ELC%20testboard1.jpg\" width=50%></img>\n",
    "\n",
    "\n",
    "* Use R3 (1 kΩ) and C4 (33 nF). \n",
    "* Use BNC1 to connect to the generator (use BNC T-splitter so you can connect 2 coax cables to generator output). \n",
    "* Use BNC2 to connect to channel 2 (CH2) of the scope. \n",
    "* Connect channel 1 (CH1) of the scope to the output of the generator.\n",
    "\n",
    "> __<font color='blue'>Hint:</font>__ Make sure you are connecting the Vin to the \"signal\" part of BCN not the \"ground\" part when building the circuit on the board. Long arm is the \"signal\" while short arm is the ground! If you don't understand, check the week 1 setup to see how you connected to BCN\n",
    "\n",
    "If you need more help with the setup, check experiment 1A and 1B for information how to connect equipment together.\n",
    "\n"
   ]
  },
  {
   "cell_type": "markdown",
   "id": "5b3d494b",
   "metadata": {},
   "source": [
    "### Settings:\n",
    "Set the function generator to 10 kHz, 1.5 Vpp sine wave, \n",
    "## **remember to check if output setup setting is correct**!!!!!!!\n",
    "\n",
    "Set the osciloscope to 0.2 V/div and 50 us/div.\n",
    "\n",
    "On the oscilloscope screen you should see 2 signals (CH1 and CH2) that both show  a sine wave with a peak-to-peak value of  around 7.5 divisions, as indicated in the picture below.\n",
    "<img src=\"https://gitlab.tudelft.nl/mwdocter/nb2214-images/-/raw/main/ELC/3A_wave_on_scope_screen.jpg\" width=30%></img>\n",
    "\n",
    "On both scope channels the offset should be 0!\n"
   ]
  },
  {
   "cell_type": "markdown",
   "id": "32f38a00",
   "metadata": {},
   "source": [
    "### Exercise: \n",
    "Now decrease the \n",
    "**signal frequency** to find Vpp=1.06V (or 5 divisions height of your sine). That is your -3dB point.\n",
    "\n",
    "Do not decrease the voltage on function generator\n",
    "> **<font color='blue'>__Hint__: </font>**\n",
    "You should find a frequency of a few kHz as -3dB point. \n",
    "* Does it agree with the value you calculated in predition?\n",
    "* What is the phase difference between Vin and Vout(it might be hard to see)?"
   ]
  },
  {
   "cell_type": "code",
   "execution_count": null,
   "id": "cd41d3b6",
   "metadata": {},
   "outputs": [],
   "source": [
    "### TO DO=\"your answer: found -3dB frequency and phase\"\n"
   ]
  },
  {
   "cell_type": "markdown",
   "id": "99fa69ee",
   "metadata": {},
   "source": [
    "## IMPLEMENT & INVESTIGATE 3: measure Vout spectrum\n",
    "> <font color='grey'>⏳ Estimated time: 10 min</font>\n",
    "\n",
    "Now you will use your setup to find how voltage spectrum changes with frequency"
   ]
  },
  {
   "cell_type": "markdown",
   "id": "5cf75454",
   "metadata": {},
   "source": [
    "### Exercise:\n",
    "You will start with -3dB frequency you have found. Record the Vout in both Volts(V) and Decibels(dB) and write them down in the table below. Replace the cutoff frequency with your frequency values. Then repeat for halved frequency value.\n",
    "\n",
    "> **<font color='blue'>__Hint__: </font>** In case you triggered on a channel instead of using external trigger, the signal might become too low to trigger at. Then you should switch trigger source, or (less favourable) adapt the trigger threshold. \n",
    "\n",
    "You might want to explore the following features of the scope to find Vout easier:\n",
    "- measure > CH2 > Vpp: this will accurately readout subdivisions of the voltage level\n",
    "- cursors > be able to move a cursor along the measured voltage and return V and t of that cursor\n",
    "\n",
    "\n",
    "To edit the table doubleclick on it."
   ]
  },
  {
   "cell_type": "markdown",
   "id": "fd80a64c",
   "metadata": {},
   "source": [
    "Frequency |Vout |Decibles\n",
    "-----|-----|----- \n",
    " f(-3dB)|?|?\n",
    "f(-3dB)/2|?|?\n",
    "f(-3dB)/4|?|?\n",
    "f(-3dB)/8|?|?"
   ]
  },
  {
   "cell_type": "markdown",
   "id": "0fd4a41b",
   "metadata": {},
   "source": [
    "* What behaviour do you observe? \n",
    "* Is dB decrease constant?\n",
    "\n",
    "> **<font color='blue'>__Hint__: </font>**\n",
    "You should find a relatively low value for the first constant, while the others are slightly higher. What is \"special\" about this first constant? Think about the loglog-plot for Vout/Vin and frequency which you derived in the homework.\n",
    ">- you might want to import numpy as np and use np.log10 to calculate it using python instead doing it by hand"
   ]
  },
  {
   "cell_type": "code",
   "execution_count": null,
   "id": "a17d99cd",
   "metadata": {},
   "outputs": [],
   "source": [
    "### TO DO=\"your answer:explanation - dB constant (or not).\"\n"
   ]
  },
  {
   "cell_type": "code",
   "execution_count": null,
   "id": "bf14c607",
   "metadata": {},
   "outputs": [],
   "source": [
    "import numpy as np\n",
    "print(20*np.log10(10/1))\n",
    "### TO DO=\"use 20*np.log10 to find the number of dB per octave\"\n"
   ]
  },
  {
   "cell_type": "markdown",
   "id": "abffad84",
   "metadata": {},
   "source": [
    "###            testboard 1 will be used in 3B, so you can leave it at your table"
   ]
  },
  {
   "cell_type": "markdown",
   "id": "cbf3d320",
   "metadata": {},
   "source": [
    "## COMPARE & CONCLUDE\n",
    "> <font color='grey'>⏳ Estimated time: 15 min</font>\n",
    "\n",
    "* Wait till all (4) group members finish their observation\n",
    "* Compare your results with your other group members. \n",
    "* If your results agree, and are in line with all predictions, then talk to a TA and get checked off\n",
    "* Otherwise, so if your results do not agree, or your results are not in line with your predictions, then first discuss amongst your group before getting a TA. \n",
    "\n",
    "\n",
    "**to be checked off by a TA:**\n",
    "1. Schematics of the high pass LR (simulated) and RC (measured) filter: do you measure over R,L,or C?\n",
    "2. Value for -3dB frequency and measured slope (in dB) for high pass filter. \n",
    "3. exit card: 1. Write a brief abstract on what you learned (conclusion, useful graph), 2. Which troubleshooting skills do you want to remember for next sessions, 3. Which code do you copy for use in next sessions,\n",
    "4. How do think this notebook could be improved"
   ]
  },
  {
   "cell_type": "code",
   "execution_count": 1,
   "id": "fe01ce59",
   "metadata": {},
   "outputs": [],
   "source": [
    "#3A RC-RL\n",
    "### TO DO=\"1. schematic high pass, measure over E=R,L, or C?\"\n",
    "\n",
    "### TO DO=\"2. -3dB frequency and slope in dB?\"\n",
    "\n",
    "### TO DO=\"3a. abstract\"\n",
    "\n",
    "### TO DO=\"3b. troubleshooting\"\n",
    "\n",
    "### TO DO=\"3c. code\"\n",
    "\n",
    "### TO DO=\"4. what changes would you suggest?\"\n"
   ]
  },
  {
   "cell_type": "code",
   "execution_count": 1,
   "id": "7f60478c",
   "metadata": {},
   "outputs": [
    {
     "data": {
      "image/jpeg": "[encoded data removed]",
      "text/html": [
       "\n",
       "        <iframe\n",
       "            width=\"600\"\n",
       "            height=\"450\"\n",
       "            src=\"https://www.youtube.com/embed/O-8iIpCZn8k\"\n",
       "            frameborder=\"0\"\n",
       "            allowfullscreen\n",
       "            \n",
       "        ></iframe>\n",
       "        "
      ],
      "text/plain": [
       "<IPython.lib.display.YouTubeVideo at 0x16fc67c1ee0>"
      ]
     },
     "execution_count": 1,
     "metadata": {},
     "output_type": "execute_result"
    }
   ],
   "source": [
    "## recording LTSpice simulation\n",
    "from IPython.lib.display import YouTubeVideo\n",
    "YouTubeVideo('O-8iIpCZn8k', width = 600, height = 450)\n"
   ]
  },
  {
   "cell_type": "code",
   "execution_count": null,
   "id": "d5ecf53e",
   "metadata": {},
   "outputs": [],
   "source": [
    "## recording RC circuit in classroom\n",
    "from IPython.lib.display import YouTubeVideo\n",
    "YouTubeVideo('-9GN9OoFerI', width = 600, height = 450)\n"
   ]
  }
 ],
 "metadata": {
  "kernelspec": {
   "display_name": "Python 3",
   "language": "python",
   "name": "python3"
  },
  "language_info": {
   "codemirror_mode": {
    "name": "ipython",
    "version": 3
   },
   "file_extension": ".py",
   "mimetype": "text/x-python",
   "name": "python",
   "nbconvert_exporter": "python",
   "pygments_lexer": "ipython3",
   "version": "3.8.8"
  }
 },
 "nbformat": 4,
 "nbformat_minor": 5
}
