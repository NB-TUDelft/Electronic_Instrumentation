{
 "cells": [
  {
   "cell_type": "markdown",
   "metadata": {},
   "source": [
    "<div class=\"alert alert-block alert-info\">\n",
    "\n",
    "**Accessibility of the notebook:**\n",
    "- You can adjust the width of the text with the function provided below. Copy it into a new code cell and execute it using the `ipykernel`.\n",
    "    ```python\n",
    "    from IPython.core.display import HTML\n",
    "    def set_width(width):\n",
    "        display(HTML(f\"\"\"<style>  \n",
    "                .container {{ width:{width}% !important; \n",
    "                                min-width:800px !important; margin: 0 auto}} \n",
    "                .jp-Cell {{ width:{width}% !important; \n",
    "                                min-width:800px !important; margin: 0 auto}} </style>\"\"\"))\n",
    "    # Set container width to X% of the fullscreen \n",
    "    set_width(50)\n",
    "    ```\n",
    "- You can toggle the auto-numbering of the sections in the outline toolbox (sidebar or topbar).\n",
    "- You can toggle the code line numbers in the dropdown menu of the \"view\" button in the topbar. \n",
    "- You can collapse/expand a cell by clicking the blue bar on the left side of the cell.\n",
    "\n",
    "</div>"
   ]
  },
  {
   "cell_type": "code",
   "execution_count": null,
   "metadata": {},
   "outputs": [],
   "source": [
    "from IPython.core.display import HTML\n",
    "def set_width(width):\n",
    "    display(HTML(f\"\"\"<style>  \n",
    "            .container {{ width:{width}% !important; \n",
    "                            min-width:800px !important; margin: 0 auto}} \n",
    "            .jp-Cell {{ width:{width}% !important; \n",
    "                            min-width:800px !important; margin: 0 auto}} </style>\"\"\"))\n",
    "# Set container width to X% of the fullscreen \n",
    "set_width(50)"
   ]
  },
  {
   "cell_type": "markdown",
   "metadata": {},
   "source": [
    "Experiments of this week:\n",
    "- Experiment 4A: Work with fourier transforms on the oscilloscope\n",
    "- Experiment 4B: Implement an RC circuit with PicoPi\n",
    "- Experiment 4C: Investigate RCCR circuit with PicoPi and compare to an RLC circuit in LTSpice \n",
    "\n",
    "\n",
    "Goal: Work with various types of filters and understand their properties \n",
    "\n",
    "Structure of an experiment:\n",
    "- Anticipate + Simulate (55 min): per person. This is homework and should be finished **before** you start your 4 hours practicum session\n",
    "- Implement + Investigate (20+40 min): with your partner(group of 2)\n",
    "- Compare + Conclude (15 min): with a group of 4(per table)\n"
   ]
  },
  {
   "cell_type": "markdown",
   "metadata": {},
   "source": [
    "# Experiment 4C: Investigate an RCCR circuit with PicoPi and compare to an RLC circuit in LTSpice\n",
    "\n",
    "\n",
    "> <font color='blue'>Learning goal:</font> Understand the properties of an RCCR and RLC circuit. \n",
    "\n",
    "##  BACKGROUND:\n",
    "> <font color='grey'>⏳ Estimated time: 15 min</font>\n",
    "\n",
    "In this assignment you will predict and measure the behavior of an RCCR circuit, simulate an RLC circuit, and will compare whether they quantitatively behave the same. These are combined filters, and therefore instead of looking at a single high/low pass filter, you will now have to look at the combined behavior. \n",
    "\n",
    "When combining two low pass filters, the lowest -3dB point will be having most influence on the overall characteristics of the filter. Similar, when combining to high pass filters, the higherst -3dB point will have have most influence. \n",
    "\n",
    "The most interesting is when combining a low with a high pass filter. Depending on whether the lows pass -3dB is lower, equal or higher than the high pass -3dB, you can get different bandwidths and different max amplitudes. Visually you could see this as overlaying the two filters, and the overall filter is the area between the two filter graphs. \n",
    "\n",
    "<div>\n",
    "<img src=\"https://gitlab.tudelft.nl/mwdocter/nb2214-images/-/raw/main/ELC/4C_bandpass_combined_filters.jpg\" width=\"700\"/>\n",
    "</div>\n",
    "\n",
    "You can calculate characteristics of a bandpass filter, in a similar way as for a single pass filter. Just derive $\\frac{V_{out}}{V_{in}}$ and look at extreme cases for $\\omega$. \n",
    "When measuring the characteristics in the lab, for a single pass filter with sine input you can find the -3dB frequency as the frequency at which Vout= Vin/sqrt(2). For a bandpass filter you will have to locate the resonance frequency (with highest amplitude), which is flanked by two -3dB points; the difference between the two -3dB frequencies is the bandwidth. \n",
    "\n",
    "\n",
    "\n",
    "\n",
    "Watch the video below on the derivation of the properties of an RLC filter: "
   ]
  },
  {
   "cell_type": "code",
   "execution_count": null,
   "metadata": {},
   "outputs": [],
   "source": [
    "# RLC circuit  \n",
    "\n",
    "from IPython.lib.display import YouTubeVideo\n",
    "YouTubeVideo('H40Er_Djwc0', width = 600, height = 450)"
   ]
  },
  {
   "cell_type": "markdown",
   "metadata": {},
   "source": [
    "## ANTICIPATE: RC + RC behaviour\n",
    "> <font color='grey'>⏳ Estimated time: 15 min</font>\n",
    "\n",
    "Below you see a circuit which combines two RC filters, one with 22 kOhm, the other with 3.3 kOhm. \n",
    "<div>\n",
    "<img src=\"https://gitlab.tudelft.nl/mwdocter/nb2214-images/-/raw/main/PicoPI/picopi4_4_RCC_circ.jpg\" width=\"700\"/>\n",
    "</div>\n",
    "\n",
    "You can see this circuit as two RC filters in sequence.\n",
    "* Derive their filter type (low/high/bandpass). \n",
    "* Calculate the frequency of -3dB point(s).\n",
    "* Predict what the effect of these two parts in combination will be on the output signal.\n"
   ]
  },
  {
   "cell_type": "code",
   "execution_count": null,
   "metadata": {},
   "outputs": [],
   "source": [
    "###TO DO=\"your answer to the above 3 questions\"\n"
   ]
  },
  {
   "cell_type": "markdown",
   "metadata": {},
   "source": [
    "in order to get a quick start on the simulation, feel free to watch the precap video of 2022"
   ]
  },
  {
   "cell_type": "code",
   "execution_count": null,
   "metadata": {},
   "outputs": [],
   "source": [
    "## precap LTSpice RLC\n",
    "\n",
    "from IPython.lib.display import YouTubeVideo\n",
    "YouTubeVideo('eRc66EzcYe0', width = 600, height = 450)\n"
   ]
  },
  {
   "cell_type": "markdown",
   "metadata": {},
   "source": [
    "## SIMULATE 1: RLC circuit behaviour \n",
    "> <font color='grey'>⏳ Estimated time: 15 min</font>\n",
    "\n",
    "Build the below circuit in LTSpice, with R=3kΩ , L=5mH , C=7nF. Evaluate the effect of this filter.\n",
    "<img src=\"https://gitlab.tudelft.nl/mwdocter/nb2214-images/-/raw/main/LTS/LTS4_RLC_circuit.jpg\" width=50%></img>\n",
    "\n",
    "\n"
   ]
  },
  {
   "cell_type": "markdown",
   "metadata": {},
   "source": [
    "__Exercise 1:__ Find the bandwidth of the circuit. \n",
    "\n",
    "* What is the value of (max) Vout you look for at -3dB?\n",
    "* Do you expect the -3dB points to be symmetric around the resonance frequency?\n",
    "* Change the input frequency to find the -3 dB points (accuracy 100 Ohm) by trial and error.\n",
    "* Also have a look at the phase at these -3 dB points!\n",
    "> __<font color='blue'>Hint:</font>__\n",
    "When you have found the -3dB points, try to plot both Vout at one of the -3dB points (change the frequency) and Vin in a single graph. Using the time delay between two peaks and the period (which corresponds to 360 degrees), you can determine the phase delay."
   ]
  },
  {
   "cell_type": "markdown",
   "metadata": {},
   "source": [
    "**Support your findings with a screendump of the simulation**\n"
   ]
  },
  {
   "cell_type": "code",
   "execution_count": null,
   "metadata": {},
   "outputs": [],
   "source": [
    "from ipywidgets import FileUpload\n",
    "from IPython.display import Image\n",
    "import os\n",
    "upload=FileUpload()\n",
    "upload"
   ]
  },
  {
   "cell_type": "code",
   "execution_count": null,
   "metadata": {},
   "outputs": [],
   "source": [
    "\n",
    "file_name=\"4C_1_bandwidthRLC.jpg\"\n",
    "if upload.value!={}:\n",
    "    with open(file_name,\"wb\") as f:\n",
    "        f.write(upload.data[-1])\n",
    "Image(filename=file_name, width=\"50%\")\n"
   ]
  },
  {
   "cell_type": "code",
   "execution_count": null,
   "metadata": {},
   "outputs": [],
   "source": [
    "### TO DO=\"your bandwidth, discuss symmetry of the band, and phase of the signal\"\n"
   ]
  },
  {
   "cell_type": "markdown",
   "metadata": {},
   "source": [
    "### <font color='red'>Optional challenge</font>\n",
    "Try to retrieve the BW from Vout (in time) with Rser=100 Ohm. Have a look at the Vout in time for Rser=100. The amplitude of Vout should decrease with exp(-i t BW/2). \n",
    "* Derive the BW from Vout for Rser=100 Ohm?\n",
    "* why was this approach impossible for Rser=3kOhm?"
   ]
  },
  {
   "cell_type": "code",
   "execution_count": null,
   "metadata": {},
   "outputs": [],
   "source": [
    "### TO DO=\"your answer (optional)\""
   ]
  },
  {
   "cell_type": "code",
   "execution_count": null,
   "metadata": {},
   "outputs": [],
   "source": []
  },
  {
   "cell_type": "markdown",
   "metadata": {},
   "source": [
    "## SIMULATE 2: RCCR \n",
    "> <font color='grey'>⏳ Estimated time: 10 min</font>\n",
    "\n",
    "Use the file \"4_RC_CR_RCCR_Simulate\" that you can find in the folder for this week. It will contain an RCCR circuit as shown here: \n",
    "\n",
    "<img src=\"https://gitlab.tudelft.nl/mwdocter/nb2214-images/-/raw/main/LTS/4C_RCCR_Simulate.png\" width=50%></img>\n",
    "\n",
    "Run this simulation as you did in 4B to find the -3dB points. \n",
    "* Do they match the predicted values? \n",
    "* How do you think it will affecr the amplitude of Vout?\n",
    "* If you implement this circuit on the Alpaca do you expect to find similar values? \n"
   ]
  },
  {
   "cell_type": "code",
   "execution_count": null,
   "metadata": {},
   "outputs": [],
   "source": [
    "### TO DO=\"your answers on the above 3 questions\"\n"
   ]
  },
  {
   "cell_type": "markdown",
   "metadata": {},
   "source": [
    "in order to get a visual introduction to the measurements with the picopi, feel free to watch the following precap movie from 2022"
   ]
  },
  {
   "cell_type": "code",
   "execution_count": null,
   "metadata": {},
   "outputs": [],
   "source": [
    "#precap\n",
    "from IPython.lib.display import YouTubeVideo\n",
    "YouTubeVideo('hpfYnre2s2g', width = 600, height = 450)"
   ]
  },
  {
   "cell_type": "markdown",
   "metadata": {},
   "source": [
    "## IMPLEMENT & INVESTIGATE 1:  Analog Input & Output \n",
    "> <font color='grey'>⏳ Estimated time: 20 min</font>\n",
    "\n",
    "In assignment 4B you already used the analog `AinX - ext` pins on an area of the Cria called the **Multifunction connector**. \n",
    "\n",
    "<img src=\"https://gitlab.tudelft.nl/mwdocter/nb2214-images/-/raw/a894a02ef157ca15d3d118eb243245eb912ba4f0/PicoPI/picopi1_1_analog in.jpg\" width=50% style=\"float:right\"></img>\n",
    "\n",
    "### DAQ\n",
    "The code in the cell below allows you to output a continuous, arbitrary voltage between 0 and 3.3V from the ALPACA using the Digital-to-Analog Converter (DAC). Interfacing with the DAC is done using the `functiongenerator` module, and made to imitate the function generator in the Student Class Room as much as possible. From the `functiongenerator` module you import `FuncGen`, which you can use in parallel to other operations using the `with` environment. See the example below:\n",
    "\n",
    "```python\n",
    "from functiongenerator import FuncGen, Sine\n",
    "\n",
    "print(\"Starting function generator\")\n",
    "\n",
    "with FuncGen(Sine(Vpp=2, offset=1, freq=100)): # Use the function generator\n",
    "    print(\"Doing something else in the mean time\") # Do something else in parallel\n",
    "    time.sleep(10) # Wait 10 s. After this the function generator turns of automatically\n",
    "     \n",
    "```\n",
    "Similar to the limitation of the digital channel, the analog input channel is also **restricted to 0-3V**. So be careful with connecting signals. In this assignment you will output a sine from the Analog output channel and read it in into Analog in, plus connect it to the Voltmeter of the Cria. \n",
    "\n",
    "<img src=\"https://gitlab.tudelft.nl/mwdocter/nb2214-images/-/raw/a894a02ef157ca15d3d118eb243245eb912ba4f0/PicoPI/picopi1_5_DAC_A.jpg\" width=50% style=\"float:right\"></img>\n",
    "\n",
    "<font color='ff822d' size=6> 📝 <font> <font color='ff822d' size=4> **Todo**: <font>\n",
    "    \n",
    "In the simple example below, the function generator is turned on while the PicoPi waits for whatever is inside the `with` to finish (acts as a while loop). Because the stuff on the inside is a delay, the end result is that the function generator is on for 5 seconds\n",
    "    \n",
    "* Connect *DAC-A* output (on ALPACA) to the voltmeter (on the multifunction pin)\n",
    "* Run the code"
   ]
  },
  {
   "cell_type": "code",
   "execution_count": null,
   "metadata": {},
   "outputs": [],
   "source": [
    "%serialconnect to --port=\"COM4\" "
   ]
  },
  {
   "cell_type": "code",
   "execution_count": null,
   "metadata": {},
   "outputs": [],
   "source": [
    "from functiongenerator import FuncGen, DC\n",
    "import time\n",
    "\n",
    "with FuncGen(DC(V=2)):\n",
    "    print(\"Procedure starts - Duration: 5 seconds\\n\")\n",
    "    print(\"Have a look at the Voltmeter LEDs\")\n",
    "    time.sleep(5)\n",
    "    print(\"\\nProcedure ended\")"
   ]
  },
  {
   "cell_type": "markdown",
   "metadata": {},
   "source": [
    "<font color='ff822d' size=6> 📝 <font> <font color='ff822d' size=4> **Todo**: <font>\n",
    "\n",
    "Now we change to an AC signal, specifically to a Sine with a certain frequency, $V_{PP}$, and offset. \n",
    "\n",
    "For example the following function generates a sine with amplitude 1.5V and DC value 1.5V. \n",
    "```python\n",
    "with FuncGen(Sine(Vpp=3, offset=1.5, freq=10)):\n",
    "```\n",
    "\n",
    "* Connect *DAC-A* to *Ain0* (top-left pin Multifunction connector). \n",
    "* Run the code\n",
    "    \n",
    "> <font size=6>ℹ️</font>\n",
    ">\n",
    "> <font color='00a6ed'> You want to use the **breadboard** to connect the output of *DAC A* to both the voltmeter and *Ain0*. Or run the code once with the Voltmeter connected, and the second time (after checking it is save) Ain0 connected.\n",
    "    <font>"
   ]
  },
  {
   "cell_type": "code",
   "execution_count": null,
   "metadata": {},
   "outputs": [],
   "source": [
    "from functiongenerator import FuncGen, Sine\n",
    "from machine import ADC\n",
    "import time\n",
    "import numpy as np\n",
    "import matplotlib.pyplot as plt\n",
    "\n",
    "\n",
    "# Initialize the output pin: Ain0 has index 26, Ain1=27, Ain2=28.\n",
    "a0 = ADC(26) \n",
    "\n",
    "# Set the frequency to 1Hz\n",
    "frequency = 1\n",
    "# Initialize an array for the wave that will be plotted\n",
    "waveform = np.zeros(300)\n",
    "time_steps = np.zeros(300)\n",
    "\n",
    "# Set the sampling rate to 5ms (0.005s)\n",
    "sampling_rate = 0.005\n",
    "\n",
    "with FuncGen(Sine(Vpp=3, offset=1.5, freq=frequency)):\n",
    "    start_time = time.ticks_ms()\n",
    "    for ii in range(300):\n",
    "        integer = a0.read_u16()\n",
    "        \n",
    "        current_time = time.ticks_ms()\n",
    "        elapsed_time = current_time - start_time # Calculate the difference from the start time\n",
    "        time_steps[ii] = elapsed_time # Append the elapsed time to the time_steps list\n",
    "        \n",
    "        voltage = (integer / 65535) * 3.3\n",
    "        waveform[ii] = voltage  # Stores each measurement of the voltage\n",
    "\n",
    "        \n",
    "        time.sleep(sampling_rate)  # Time step\n",
    "            \n",
    "#time_steps = np.arange(len(waveform), dtype=np.float)\n",
    "\n",
    "print(f\"Waveform:\\n{waveform}\\n\")\n",
    "print(f\"Time Steps:\\n{time_steps}\\n\")\n",
    "print(f\"Waveform Shape: {waveform.shape}\")\n",
    "print(f\"Time Steps Shape: {time_steps.shape}\")"
   ]
  },
  {
   "cell_type": "code",
   "execution_count": null,
   "metadata": {},
   "outputs": [],
   "source": [
    "plt.plot(time_steps, waveform, label='Frequency: {:.2f} Hz'.format(frequency)) #This plots for last frequency\n",
    "plt.xlabel('Time [ms]')\n",
    "plt.ylabel('Voltage [V]')\n",
    "plt.legend()"
   ]
  },
  {
   "cell_type": "code",
   "execution_count": null,
   "metadata": {},
   "outputs": [],
   "source": [
    "# Initialize an array for the wave that will be plotted\n",
    "waveform = np.zeros((2, 300))  # Use a 2D array to store waveforms for each frequency\n",
    "# We use 2 frequencies in the range 1-10Hz \n",
    "freq_range = np.linspace(1, 10, 2) \n",
    "time_steps = np.zeros((2, 300))  # Use a 2D array to store time steps for each frequency\n",
    "# Try to understand the for loop over the frequencies \n",
    "for idx, frequency in enumerate(freq_range):  # Use enumerate to get the index\n",
    "\n",
    "    with FuncGen(Sine(Vpp=3, offset=1.5, freq=frequency)):\n",
    "        start_time = time.ticks_ms()\n",
    "        for ii in range(300):\n",
    "            integer = a0.read_u16()\n",
    "            current_time = time.ticks_ms() \n",
    "            elapsed_time = current_time - start_time    # Calculate the difference from the start time\n",
    "            time_steps[idx, ii] = elapsed_time  # Store the elapsed time in the 2D array\n",
    "            \n",
    "            voltage = (integer / 65535) * 3.3\n",
    "            waveform[idx, ii] = voltage  # Store each measurement of the voltage in the 2D array\n",
    "            \n",
    "            time.sleep(0.005)  # Set the sampling rate\n",
    "\n",
    "print(f\"Waveform:\\n{waveform}\\n\")\n",
    "print(f\"Time Steps:\\n{time_steps}\\n\")\n",
    "print(f\"Waveform Shape: {waveform.shape}\")\n",
    "print(f\"Time Steps Shape: {time_steps.shape}\")"
   ]
  },
  {
   "cell_type": "code",
   "execution_count": null,
   "metadata": {},
   "outputs": [],
   "source": [
    "plt.plot(time_steps[0,:], waveform[0,:], label='Frequency: {:.2f} Hz'.format(freq_range[0])) #This plots for last frequency\n",
    "plt.plot(time_steps[1,:], waveform[1,:], label='Frequency: {:.2f} Hz'.format(freq_range[1])) #This plots for last frequency\n",
    "plt.xlabel('Time [ms]')\n",
    "plt.ylabel('Voltage [V]')\n",
    "plt.legend()"
   ]
  },
  {
   "cell_type": "markdown",
   "metadata": {
    "slideshow": {
     "slide_type": ""
    },
    "tags": []
   },
   "source": [
    "Make sure you understand the concept of looping over all frequencies. This makes it a lot easier for you to compare multiple frequencies and you do not need to change them manually. In it especially useful when you want to plot the results live."
   ]
  },
  {
   "cell_type": "markdown",
   "metadata": {},
   "source": [
    "## IMPLEMENT & INVESTIGATE 2: RCCR (or CRRC) circuit \n",
    "> <font color='grey'>⏳ Estimated time: 40 min</font>\n",
    "\n",
    "**Disconnect the wires from the analog inputs (Ain0,Ain1,Ain2) on the Cria for safety reasons**\n",
    "\n",
    "\n",
    "Adapt your circuit on your Alpaca so that it consists of both filters: \n",
    "<div>\n",
    "<img src=\"https://gitlab.tudelft.nl/mwdocter/nb2214-images/-/raw/a894a02ef157ca15d3d118eb243245eb912ba4f0/PicoPI/picopi4_4_RCC_circ.jpg\" width=\"700\"/>\n",
    "</div>\n",
    "\n",
    "**Caution**: Applying a too high voltage (or negative voltage) to the Cria may destroys the chip on the PicoPi (=delay for you). Thus, to ensure that the range of the signal is within safe limits, we are going to use the Voltmeter on the Cria before connecting the signal to your ALPACA. It is good practice to always use the Voltmeter before connecting any signal to the Cria and PicoPi, in order to keep your Cria out of harm's way. \n",
    "\n",
    "    \n",
    "<font color='ff822d' size=6> 📝 <font> <font color='ff822d' size=4> **Todo**: <font>\n",
    " <div>\n",
    "<img src=\"https://gitlab.tudelft.nl/mwdocter/nb2214-images/-/raw/a894a02ef157ca15d3d118eb243245eb912ba4f0/PicoPI/picopi4_3_jumper_pos_no_pin_2nano.jpg\" style=\"float:right\" width=\"400\"/>\n",
    "</div>\n",
    "    \n",
    "* Build the circuit as shown in the image below \n",
    "* Connect the circuits Vout to the voltmeter\n",
    "* Connect both USB cables to the Alpaca, and turn the switches for the +12 and -12 voltage supply to the ON position\n",
    "* Make sure you have no jumpers on *AMPLIFIER DIRECT TO NANO*, remove the one indicated in the blue circle in photo on the right:\n",
    "\n",
    "* Run the code below, which generates a sine wave, and check the LEDs of the voltage meter\n",
    "\n",
    "\n",
    "    \n",
    "<img src=\"https://gitlab.tudelft.nl/mwdocter/nb2214-images/-/raw/f20061156f3e13d96652af0e301d7d35e08ebe5a/PicoPI/picopi4_6_RCC_build.png\" width=\"70%\"/>\n",
    "   \n"
   ]
  },
  {
   "cell_type": "code",
   "execution_count": null,
   "metadata": {},
   "outputs": [],
   "source": [
    "%serialconnect to --port=\"COM4\" \n",
    "#ADD COM PORT ABOVE, e.g. --port=\"COM3\""
   ]
  },
  {
   "cell_type": "markdown",
   "metadata": {},
   "source": [
    "If the measurement and setup was correct, you should have seen that a negative and a positive voltage is generated at the ouput of your circuit. **This negative voltage can damage your pico.** <br>\n",
    "Therefore we need to use *AMP 0* or *1* to measure our signal. This **amplifier** can be used as a **protective circuit**, which **forces your signal to be between 0 and 5V**, which should not damage the picopi. Make sure to use the amplifier that is present on the ALPACA, to measure the signal when you know it's going to have voltages exceding the PicoPi's limits. This way your PicoPi is always protected. \n",
    "\n",
    "This will be implemented below: \n",
    "\n",
    "<font color='ff822d' size=6> 📝 <font> <font color='ff822d' size=4> **Todo**: <font>\n",
    "* Build the circuit as shown in the image below\n",
    "* Connect the output of the DAC, e.g. $V_{in}$, to _Ain0_ on the multifunction connector.\n",
    "* Connect the output of your circuit, e.g. $V_{out}$, to the _SIGNAL+_ pin at _AMP1_ (on the ALPACA)\n",
    "* Connect the jumpers as indicated using magenta in the image below. You do need one jumper for _AMPLIFIER DIRECT TO NANO_ (I suggest you use a wire as removing it will be easier in the future).\n",
    "* Similar as before, a sine wave will be used. The code used to generate this sine wave and to perform the measurement is provided below. The frequency of the signal can be set in the code.\n",
    "\n",
    "\n",
    "<img src=\"https://gitlab.tudelft.nl/mwdocter/nb2214-images/-/raw/f20061156f3e13d96652af0e301d7d35e08ebe5a/PicoPI/picopi4_7_RCC_build.png\" width=\"70%\"/>\n",
    "\n"
   ]
  },
  {
   "cell_type": "code",
   "execution_count": null,
   "metadata": {},
   "outputs": [],
   "source": [
    "from machine import ADC, Pin\n",
    "import time\n",
    "\n",
    "import matplotlib.pyplot as plt\n",
    "import numpy as np\n",
    "\n",
    "from functiongenerator import FuncGen, Sine\n",
    "\n",
    "MEASUREMENTS = 300 # number of measurements\n",
    "\n",
    "v_in = np.zeros(MEASUREMENTS, dtype=np.uint16) # Store ADC output as integer, convert to voltage later\n",
    "v_out = np.zeros(MEASUREMENTS, dtype=np.uint16)\n",
    "tt= np.zeros(MEASUREMENTS)\n",
    "start = time.ticks_us() #Measure in us \n",
    "\n",
    "Ain0 = ADC(26) # Pin 26\n",
    "Ain1 = ADC(27) # Pin 27\n",
    "\n",
    "with FuncGen(Sine(Vpp=3, offset=1.5, freq=110)):\n",
    "    time.sleep(0.5) # Wait half a second for the Function Generator, before continuing to measure\n",
    "\n",
    "    for ii in range(MEASUREMENTS):\n",
    "        v_in[ii] = Ain0.read_u16()\n",
    "        v_out[ii] = Ain1.read_u16()\n",
    "        tt[ii] = time.ticks_us() #\n",
    "       # tt[ii]=ii\n",
    "        time.sleep_ms(1) # Sleep in milliseconds\n",
    "tt=(tt-tt[0])*1e-3     \n",
    "#print(v_in)\n",
    "#print(v_out)\n",
    "    \n",
    "plt.plot(tt,v_in * 3.3 / 65535, color='r', label='DAC A (Ain0) [V]') # Convert integer to voltage\n",
    "plt.plot(tt,v_out * 3.3 / 65535, color='b', label='Vout (Ain1 via AMP1) [V]')\n",
    "plt.ylabel('Signal [V]')\n",
    "plt.xlabel('Time [ms]')\n",
    "plt.legend()"
   ]
  },
  {
   "cell_type": "code",
   "execution_count": null,
   "metadata": {},
   "outputs": [],
   "source": [
    "from functiongenerator import FuncGen, Sine\n",
    "import time\n",
    "\n",
    "with FuncGen(Sine(Vpp=3, offset=1.5, freq=10)):\n",
    "    time.sleep(10)\n",
    "\n",
    "\n",
    "### TO DO =\"your answer, what does the voltmeter show\"\n",
    "\n"
   ]
  },
  {
   "cell_type": "markdown",
   "metadata": {},
   "source": [
    "You should notice the shape of Vout and the amplitude of Vout differ from Vin. \n",
    "\n",
    "__Exercise 1:__ Explain why there is a difference between Vin and Vout, and if this is what you expected for this circuit.\n",
    "> __<font color='blue'>Hint 1:</font>__ Do you see the full sine? Is the signal shifted vertically? If you have trouble seeing the sine, try changing frequency to 50Hz \n",
    "\n",
    "> __<font color='blue'>Hint 2:</font>__ DC components have 0Hz, what do you think happens when you pass them through the bandpass filter?"
   ]
  },
  {
   "cell_type": "code",
   "execution_count": null,
   "metadata": {},
   "outputs": [],
   "source": [
    "### TO DO=\"your answer, explaining the difference between Vin and Vout\"\n"
   ]
  },
  {
   "cell_type": "markdown",
   "metadata": {},
   "source": [
    "Because of one of the RC filters, the average of the output signal is now zero (make sure to understand why this is - Hint2 above). You can also observe the lack of negative voltage. This is thanks to the amplifier.\n",
    "\n",
    "Despite only a part of the signal being measured, the 3 dB points can still be determined from the plot.\n",
    "\n",
    "__Exercise 2:__ Set the frequency back of 110 Hz in the code, and calculate the amplitude (the max of the positive part of the sine wave) of the measured signal. \n",
    "* Report the amplitude. Why do you think it is not half of the Vin amplitude? Think back to ANTICIPATE and SIMULATE 2"
   ]
  },
  {
   "cell_type": "code",
   "execution_count": null,
   "metadata": {},
   "outputs": [],
   "source": [
    "print(np.max(v_out*3.3/65535)) ## you already did that measurement, just extract the max voltage\n",
    "\n",
    "\n",
    "### TO DO=\"your found peak voltage\"\n",
    "\n",
    "\n"
   ]
  },
  {
   "cell_type": "markdown",
   "metadata": {},
   "source": [
    "Now you found the maximum voltage value. Next, you will compare the -3dB points to the one you found in ANTICIPATE and SIMULATE 2. Rememeber that bandpass filter has 2 -3dB points, as the strength of the signal fall down in low frequencies (thanks to high pass filter component) and high frequencies (thanks to low pass filter component). Think back what -3dB means in terms of voltage drop. <br>\n",
    "__Exercise 3:__ Calculate the Voltage you should see at -3dB points based on vmax you found"
   ]
  },
  {
   "cell_type": "code",
   "execution_count": null,
   "metadata": {},
   "outputs": [],
   "source": [
    "### TO DO=\"Which voltage you should see at -3dB - V(-3dB)\"\n"
   ]
  },
  {
   "cell_type": "markdown",
   "metadata": {},
   "source": [
    "__Exercise 4:__ Lower the frequency by changing the parameter called \"freq\" in the code. Look for the lower -3 dB point of the signal by first setting the predicted frequency (ANTICIPATE) and then varying it to find the V(-3dB) voltage\n",
    "* You can reuse/rerun the above code, the three cells which do the acquisition, fetch the file and extract the max value\n",
    "* Does the frequency match the predicted value? \n",
    "\n",
    "> __<font color='blue'>Hint:</font>__ Did your SIMULATE 2 match ANTICIPATE? Think about why was that and apply the same logic to Alpaca"
   ]
  },
  {
   "cell_type": "code",
   "execution_count": null,
   "metadata": {},
   "outputs": [],
   "source": [
    "\n",
    "### TO DO=\"your answer for the lower -3dB point\"\n"
   ]
  },
  {
   "cell_type": "markdown",
   "metadata": {},
   "source": [
    "Because the above system is a band pass filter, we not only have a lower cut off frequency but also a higher limit for the frequency.\n",
    "\n",
    "__Exercise 5:__ Increase the frequency to look for the upper 3 dB point, up to a max of 500 Hz(physical limitation of Alpaca). You might want to change the parameter num_samples to 100 to better visualize the result.\n",
    "* At what frequency is the upper 3 dB point expected - look ANTICIPATE? \n",
    "* Set that frequency and measure the peak voltage at this expected -3dB frequency\n",
    "* Compare the measured cut off frequency with the theoretical value, does this result surprise you? (it should)\n",
    "* find the  V(-3dB) voltage by varying the frequency and report where it is"
   ]
  },
  {
   "cell_type": "code",
   "execution_count": null,
   "metadata": {},
   "outputs": [],
   "source": [
    "\n",
    "### TO DO=\"your higher -3 dB point\"\n",
    "\n"
   ]
  },
  {
   "cell_type": "markdown",
   "metadata": {},
   "source": [
    "Compared to the equipment in the studio classroom, you see that measuring with the Alpaca, has its limitations. In this case on of these limitations is that the frequency of the sine wave is limited to around 500 Hz. Designing a system with cut off frequencies which are further apart is in this case not possible, but would be possible with the equipment located in the studio classroom.\n",
    "\n",
    "<font color='red'>__Optional challenge 1__:</font> Switch position of the resistors<br>\n",
    "When we switch only the resistors around we get a circuit, which behaves differently.\n",
    "* Will the output signal of the system be the same, or will it respond differently when we switch around the resistors? (think about Vmax, -3dB points)\n",
    "* Argue what happens for a frequency of 20, 280 and 150 Hz.\n"
   ]
  },
  {
   "cell_type": "code",
   "execution_count": null,
   "metadata": {},
   "outputs": [],
   "source": [
    "### TO DO=\"answers optional challenge\"\n"
   ]
  },
  {
   "cell_type": "markdown",
   "metadata": {},
   "source": [
    "<font color='red'>__Optional challenge 2__:</font> In the code that you used above, can you add a for loop over the frequencies to automatically find the -3dB points without having to manually change it?"
   ]
  },
  {
   "cell_type": "code",
   "execution_count": null,
   "metadata": {},
   "outputs": [],
   "source": [
    "### TO DO=\"your code idea (there is a solution at the bottom of the assigment )\"\n",
    "\n"
   ]
  },
  {
   "cell_type": "markdown",
   "metadata": {},
   "source": [
    "## COMPARE & CONCLUDE:\n",
    "> <font color='grey'>⏳ Estimated time: 15 min</font>\n",
    "\n",
    "* Wait until all (4) group members finish their observation\n",
    "* Compare your results with your other group members. \n",
    "* If your results agree, and are in line with all predictions, then talk to a TA and get checked off\n",
    "* Otherwise, so if your results do not agree, or your results are not in line with your predictions, then first discuss amongst your group before getting a TA. \n",
    "\n",
    "**to be checked off by a TA:** \n",
    "1. Why does the output only show half of the sine wave with the RCCR circuit\n",
    "2. How well did your predictions agree with the measurements on the -3dB frequencies for the RCCR circuit? Explain the difference.\n",
    "3. exit card: 1. Write a brief abstract on what you learned (conclusion, useful graph), 2. Which troubleshooting skills do you want to remember for next sessions, 3. Which code do you copy for use in next sessions,\n",
    "4. How do think this notebook could be improved"
   ]
  },
  {
   "cell_type": "code",
   "execution_count": null,
   "metadata": {},
   "outputs": [],
   "source": [
    "### TO DO =\" 1. why do you see only half of the sine with the RCCR circuit?\"\n",
    "\n",
    "\n",
    "### TO DO=\"2. give values and explain the difference between found measured and predicted -3dB frequencies\"\n",
    "\n",
    "### TO DO=\"3a. abstract\"\n",
    "\n",
    "### TO DO=\"3b. troubleshooting\"\n",
    "\n",
    "### TO DO=\"3c. code\"\n",
    "\n",
    "### TO DO=\"4. what changes would you suggest?\""
   ]
  },
  {
   "cell_type": "markdown",
   "metadata": {},
   "source": [
    "> <font color='red'> Optional code:</font>\n",
    "Below is an adapted version of the code you used above and completely optional to do. The concepts used here will be explained in the next octal. As you can see there is a loop over a range of different frequencies (beware, the code takes a long time to run, thus, maybe you have some smart ideas to improve this code):"
   ]
  },
  {
   "cell_type": "code",
   "execution_count": null,
   "metadata": {},
   "outputs": [],
   "source": [
    "from machine import ADC, Pin\n",
    "import time\n",
    "\n",
    "import matplotlib.pyplot as plt\n",
    "import numpy as np\n",
    "\n",
    "from functiongenerator import FuncGen, Square\n",
    "\n",
    "MEASUREMENTS = 300 # number of measurements\n",
    "\n",
    "v_in = np.zeros(MEASUREMENTS, dtype=np.uint16) # Store ADC output as integer, convert to voltage later\n",
    "v_out = np.zeros(MEASUREMENTS, dtype=np.uint16)\n",
    "tt= np.zeros(MEASUREMENTS)\n",
    "start = time.ticks_us() #Measure in us \n",
    "\n",
    "Ain0 = ADC(26) # Pin 26\n",
    "Ain1 = ADC(27) # Pin 27\n",
    "\n",
    "FREQ=np.arange(1,500,1)\n",
    "VOUT=np.zeros(len(FREQ))\n",
    "for ff in range(len(FREQ)):\n",
    "    with FuncGen(Sine(Vpp=3, offset=1.5, freq=FREQ[ff])):\n",
    "        time.sleep(0.5) # Wait half a second for the Function Generator, before continuing to measure\n",
    "        if ff%10==0: print(FREQ[ff])\n",
    "        for ii in range(MEASUREMENTS):\n",
    "            v_in[ii] = Ain0.read_u16()\n",
    "            v_out[ii] = Ain1.read_u16()\n",
    "            tt[ii] = time.ticks_us() #\n",
    "           # tt[ii]=ii\n",
    "            time.sleep_ms(1) # Sleep in milliseconds\n",
    "    tt=(tt-tt[0])*1e-6     \n",
    "    \n",
    "    VOUT[ff]=np.max(v_out)\n",
    "    \n",
    "\n"
   ]
  },
  {
   "cell_type": "code",
   "execution_count": null,
   "metadata": {},
   "outputs": [],
   "source": [
    "plt.plot(FREQ, VOUT * 3.3 / 65535, color='b', label='Output voltage')\n",
    "plt.ylabel('Signal [V]')\n",
    "plt.xlabel('freq[Hz]')\n",
    "plt.legend()"
   ]
  },
  {
   "cell_type": "code",
   "execution_count": null,
   "metadata": {},
   "outputs": [],
   "source": [
    "### TO DO='perhaps you can make a smarter frequency range' \n",
    "A=(2**np.arange(0,9,0.2))\n",
    "print(len(A),A[0],A[-1])\n",
    "\n",
    "A=np.arange(1,500,1)\n",
    "print(len(A),A[0],A[-1])\n"
   ]
  },
  {
   "cell_type": "markdown",
   "metadata": {},
   "source": [
    "If you got stuck during the measurement, at the end of the lab assignment we offer you a movie clip with our recorded efforts in the lab. If you were successfull with measuring, then skip this movie clip\n"
   ]
  },
  {
   "cell_type": "code",
   "execution_count": null,
   "metadata": {},
   "outputs": [],
   "source": [
    "## recording LTSpice RLC simulation\n",
    "\n",
    "from IPython.lib.display import YouTubeVideo\n",
    "YouTubeVideo('LqNr2Sj7V6E', width = 600, height = 450)"
   ]
  },
  {
   "cell_type": "code",
   "execution_count": null,
   "metadata": {},
   "outputs": [],
   "source": [
    "## recording picopi measurements\n",
    "\n",
    "from IPython.lib.display import YouTubeVideo\n",
    "YouTubeVideo('oQ3e1UPY-B0', width = 600, height = 450)"
   ]
  }
 ],
 "metadata": {
  "celltoolbar": "Create Assignment",
  "jupytext": {
   "formats": "ipynb,md"
  },
  "kernelspec": {
   "display_name": "Alpaca Kernel",
   "language": "python",
   "name": "alpaca"
  },
  "language_info": {
   "codemirror_mode": {
    "name": "ipython",
    "version": 3
   },
   "file_extension": ".py",
   "mimetype": "text/x-python",
   "name": "python",
   "nbconvert_exporter": "python",
   "pygments_lexer": "ipython3",
   "version": "3.10.14"
  },
  "latex_envs": {
   "LaTeX_envs_menu_present": true,
   "autoclose": false,
   "autocomplete": true,
   "bibliofile": "biblio.bib",
   "cite_by": "apalike",
   "current_citInitial": 1,
   "eqLabelWithNumbers": true,
   "eqNumInitial": 1,
   "hotkeys": {
    "equation": "Ctrl-E",
    "itemize": "Ctrl-I"
   },
   "labels_anchors": false,
   "latex_user_defs": false,
   "report_style_numbering": false,
   "user_envs_cfg": false
  },
  "toc": {
   "base_numbering": 1,
   "nav_menu": {},
   "number_sections": true,
   "sideBar": true,
   "skip_h1_title": false,
   "title_cell": "Table of Contents",
   "title_sidebar": "Contents",
   "toc_cell": false,
   "toc_position": {},
   "toc_section_display": true,
   "toc_window_display": false
  }
 },
 "nbformat": 4,
 "nbformat_minor": 4
}
