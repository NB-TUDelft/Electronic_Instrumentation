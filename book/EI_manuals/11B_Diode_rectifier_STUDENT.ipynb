{
 "cells": [
  {
   "cell_type": "code",
   "execution_count": null,
   "metadata": {},
   "outputs": [],
   "source": [
    "from IPython.core.display import HTML\n",
    "def set_width(width):\n",
    "    display(HTML(f\"\"\"<style>  \n",
    "            .container {{ width:{width}% !important; \n",
    "                            min-width:800px !important; margin: 0 auto}} \n",
    "            .jp-Cell {{ width:{width}% !important; \n",
    "                            min-width:800px !important; margin: 0 auto}} </style>\"\"\"))\n",
    "# Set container width to X% of the fullscreen \n",
    "set_width(50)"
   ]
  },
  {
   "cell_type": "markdown",
   "metadata": {},
   "source": [
   "# 11B: Diode rectifier\n",
    "\n",
    "> <font color='blue'>Learning goal:</font> Explain and understand fundamental properties of diode circuits \n",
    "\n",
    "Structure of an experiment:\n",
    "- Background+Anticipate+ Simulate:  per person; 45 min.\n",
    "- Implement + Investigate:  with your partner (group of 2); 40 min.\n",
    "- Compare + Conclude:  with a group of 4 (per table); 10 min"
   ]
  },
  {
   "cell_type": "markdown",
   "metadata": {
    "kernel": "SoS",
    "nbgrader": {
     "grade": false,
     "grade_id": "cell-21510b084dded588",
     "locked": true,
     "schema_version": 3,
     "solution": false,
     "task": false
    }
   },
   "source": [
    "* Extra information or hints is given in boxes denoted by: <font size=4>ℹ️</font>\n",
    "* Help fixing progrems is given in boxed denoted by: <font size=4>🔥</font>\n",
    "\n",
    "\n",
    "\n",
    "Materials used:\n",
    "- ALPACA\n",
    "- A diode\n",
    "- A capacitor of 47 $\\mu$F\n",
    "- A resistor of 1k $\\Omega$\n",
    "- A red LED\n",
    "\n",
    "## Background: LED and rectifier\n",
    "> <font color='grey'>⏳ Estimated time: 5 min</font>\n",
    "\n",
    "During this exercise you will explore the functioning of a diode in different circuits. For this purpose, you will mostly be using a specific type of diode called a **Light Emitting Diode** (LED). An LED functions just like any other diode, with the added functionality of creating light when a current flows through it. The ALPACA has many LEDs already available on board, and you'll use these in circuits. A difference between a LED and other diodes is the voltage drop - LED's is higher at around 2V (depending on a LED type and manufacturer).\n",
    "\n",
    "\n",
    "You already know that a capacitor has a frequency dependent impedance. It 'blocks' low frequency signals. When combining a clipper with a capacitor, you can make use of the frequency dependent impedance, and build a rectifier. In this experiment we will look at a half-wave rectifier, which makes a DC signal from AC input. "
   ]
  },
  {
   "cell_type": "markdown",
   "metadata": {},
   "source": [
    "## Anticipate: LEDs and a Rectifier\n",
    "\n",
    "**A)** Predict the blinking behavior of the LED in the circuit below with an input (at *DAC A*) of a square wave with a $V_{min}$ of 0 and $V_{max}$ of 1 V.\n",
    "Explain which of the following answers is correct:\n",
    "- no led will turn on\n",
    "- only led A will blink\n",
    "- only led C will blink\n",
    "- both leds blink at the same time\n",
    "- the leds blink alternatingly (either one on at any point in time)\n",
    "<div>\n",
    "<img src=\"https://gitlab.tudelft.nl/mwdocter/nb2214-images/-/raw/main/PicoPI/picopi5_2_circ_D2.jpg\" width=\"400\"/>\n",
    "</div>\n",
    "\n",
    "**B)** Do the same prediction but with with a different input signal: $V_{min}$ of -10 V and $V_{max}$ of 10 V.\n",
    "\n",
    "\n",
    "\n",
    "**C)**  what will be the output voltage, Vout0 ?\n",
    "\n",
    "<img src=\"https://gitlab.tudelft.nl/mwdocter/nb2214-images/-/raw/main/LTS/LST5e_rect1a.jpg\" width=50%></img>\n",
    "\n",
    "For the exercise C you might want to read the rectifier book section (see scheme on BrightSpace)"
   ]
  },
  {
   "cell_type": "code",
   "execution_count": 1,
   "metadata": {
    "nbgrader": {
     "grade": true,
     "grade_id": "cell-c7b4ad76d0639d43",
     "locked": false,
     "points": 1,
     "schema_version": 3,
     "solution": true,
     "task": false
    }
   },
   "outputs": [],
   "source": [
    "### TO DO =\"your prediction + reasoning\"\n"
   ]
  },
  {
   "cell_type": "markdown",
   "metadata": {},
   "source": [
    "Note: In a half wave rectifier only half of the sine wave passes through a diode, charging the capacitor. In the rest of the remaining period the capacitor will discharge, leading to the characteristic output signal. "
   ]
  },
  {
   "cell_type": "markdown",
   "metadata": {},
   "source": [
    "## Simulate: half-wave rectifiers in LTSpice\n",
    "> <font color='grey'>⏳ Estimated time: 15 min</font>\n",
    "* Put the above rectifier circuit (**C**) in LTSpice. Insert your screendumps of the LTSpice circuit+simulated signals.\n"
   ]
  },
  {
   "cell_type": "code",
   "execution_count": null,
   "metadata": {},
   "outputs": [],
   "source": [
    "from ipywidgets import FileUpload\n",
    "from IPython.display import Image\n",
    "\n",
    "upload=FileUpload()\n",
    "upload"
   ]
  },
  {
   "cell_type": "code",
   "execution_count": null,
   "metadata": {},
   "outputs": [],
   "source": [
    "import os\n",
    "file_name=\"LTS05e_third_sim_diode_rectifier.jpg\"\n",
    "if upload.value!={}:\n",
    "    with open(file_name,\"wb\") as f:\n",
    "        try: f.write(upload.data[-1]) # python 3.7 Kernel code, not working on Vocareum\n",
    "        except: f.write(upload.value[-1][\"content\"])  # python 3.8 Kernel code, not working on Vocareum\n",
    "Image(filename=file_name, width=\"50%\")"
   ]
  },
  {
   "cell_type": "markdown",
   "metadata": {},
   "source": [
    "The following movie gives more info for the simulation."
   ]
  },
  {
   "cell_type": "code",
   "execution_count": 1,
   "metadata": {},
   "outputs": [
    {
     "data": {
      "image/jpeg": "[encoded data removed]",
      "text/html": [
       "\n",
       "        <iframe\n",
       "            width=\"600\"\n",
       "            height=\"450\"\n",
       "            src=\"https://www.youtube.com/embed/Pcwxl9ofFHE\"\n",
       "            frameborder=\"0\"\n",
       "            allowfullscreen\n",
       "            \n",
       "        ></iframe>\n",
       "        "
      ],
      "text/plain": [
       "<IPython.lib.display.YouTubeVideo at 0x20d380de560>"
      ]
     },
     "execution_count": 1,
     "metadata": {},
     "output_type": "execute_result"
    }
   ],
   "source": [
    "%python\n",
    "# diode rectifier 1b\n",
    "from IPython.lib.display import YouTubeVideo\n",
    "YouTubeVideo('Pcwxl9ofFHE', width = 600, height = 450)"
   ]
  },
  {
   "cell_type": "markdown",
   "metadata": {
    "nbgrader": {
     "grade": false,
     "grade_id": "cell-9c7393b569650415",
     "locked": true,
     "schema_version": 3,
     "solution": false,
     "task": false
    }
   },
   "source": [
    "## Implement & investigate 1: directionality and polarity of LEDs\n",
    "> <font color='grey'>⏳ Estimated time: 25 min</font>\n",
    "\n",
    "   \n",
    "### 1a Implement the circuit \n",
    "You can use the LEDs that are present on the Alpaca to test the directionality and the polarity. Implement the circuit below.\n",
    "\n",
    "<div>\n",
    "<img src=\"https://gitlab.tudelft.nl/mwdocter/nb2214-images/-/raw/main/PicoPI/picopi5_1_circ_D1.png\" width=\"50%\"/>\n",
    "</div>\n",
    "\n",
    "<details>\n",
    "  <summary>Detailed fritzing</summary>\n",
    "  <img src=\"https://gitlab.tudelft.nl/mwdocter/nb2214-images/-/raw/main/PicoPI/picopi5_2_build.jpg\" width=\"70%\"/>\n",
    "</details>\n",
    "\n",
    "In order to test this circuit you will write some Python code. Part of it is al ready written, but you will have to complete it. The code can be found in the cells below. \n",
    "    \n",
    "* The code must be able to make a square wave ranging from 0 to 3 V. For the frequency, we will select a frequency at which we can easily see the changes in the LEDs by eye, say 1 Hz. You can do this using the function generator and the *DAC A* output. You must be able to set a certain frequency for this square wave. \n",
    "* Do **not** yet perform a measurement using the analog in pins during this first part of the exercise.\n",
    "\n",
    "Part of the code is already written for you in the cells below. Comments with instructions are given at the places where you should complete it.\n",
    "    \n",
    "> <font size=6>ℹ️</font>\n",
    ">\n",
    "> <font color='00a6ed'> To refresh your memory, the syntax for the function generator was:\n",
    "> ```python\n",
    "> from functiongenerator import FuncGen, Square # type: ignore\n",
    "> with FuncGen(Square(Vpp=X, offset=Y, freq=Z)):\n",
    ">     # Do stuff here\n",
    "> ```\n",
    ">\n",
    ">    <font>    "
   ]
  },
  {
   "cell_type": "code",
   "execution_count": 2,
   "metadata": {
    "kernel": "MicroPython - USB"
   },
   "outputs": [
    {
     "name": "stdout",
     "output_type": "stream",
     "text": [
      "\u001b[34mConnecting to --port=COM3 --baud=115200 \u001b[0m\n",
      "\u001b[34mReady.\n",
      "\u001b[0m"
     ]
    }
   ],
   "source": [
    "%serialconnect to --port=\"COM3\" \n",
    "#ADD COM PORT ABOVE, e.g. --port=\"COM3\""
   ]
  },
  {
   "cell_type": "code",
   "execution_count": 3,
   "metadata": {
    "kernel": "MicroPython - USB",
    "nbgrader": {
     "grade": true,
     "grade_id": "cell-bd0e787340aa9b80",
     "locked": false,
     "points": 1,
     "schema_version": 3,
     "solution": true,
     "task": false
    }
   },
   "outputs": [],
   "source": [
    "import time\n",
    "from functiongenerator import FuncGen, Square # type: ignore\n",
    "\n",
    "'''\n",
    "Fill in a desired frequency and a duration\n",
    "'''\n",
    "FREQ = None     # Frequency of the measurement, in Hz\n",
    "DURATION = None # Duration of the measurement, in seconds\n",
    "\n",
    "\n",
    "'''\n",
    "Add the correct Vpp, offset, and frequency\n",
    "'''\n",
    "with FuncGen(Square(Vpp=None, offset=None, freq=None)):\n",
    "    '''\n",
    "    Think of how we can have the square wave be on for the time specified by DURATION.\n",
    "    '''\n",
    "    pass"
   ]
  },
  {
   "cell_type": "code",
   "execution_count": 6,
   "metadata": {
    "kernel": "MicroPython - USB"
   },
   "outputs": [
    {
     "name": "stdout",
     "output_type": "stream",
     "text": [
      "."
     ]
    }
   ],
   "source": []
  },
  {
   "cell_type": "markdown",
   "metadata": {
    "kernel": "SoS",
    "nbgrader": {
     "grade": false,
     "grade_id": "cell-ae93836757f43352",
     "locked": true,
     "schema_version": 3,
     "solution": false,
     "task": false
    }
   },
   "source": [
    "> <font size=6>ℹ️</font>\n",
    ">\n",
    "> <font color='00a6ed'> Thinking of what to put inside the `with` statement?\n",
    "> Remember that the `with` function stops whenever the code inside the\n",
    "> `with` (so whatever is indented) is finished.\n",
    ">\n",
    "> <font>    \n",
    "\n",
    "### 1b describe the LED blinking pattern\n",
    "Describe the blinking patterns of the LEDs (are they alternating or do they blink simultaneously)? Is this what you expect, note that the orientation of both LEDs is the same (unlike the above prediction)?"
   ]
  },
  {
   "cell_type": "code",
   "execution_count": 5,
   "metadata": {
    "kernel": "SoS",
    "nbgrader": {
     "grade": true,
     "grade_id": "cell-26f81ce178351053",
     "locked": false,
     "points": 1,
     "schema_version": 3,
     "solution": true,
     "task": false
    }
   },
   "outputs": [],
   "source": [
    "# Describe the blinking patterns of the LEDs(are they alternating or do they blink simultaneously)? Is this what you expected?\n",
    "# write your answer here\n",
    "\n",
    "### TO DO=\"Describe the blinking patterns of the LEDs. Did you expect this pattern?\"\n",
    "\n"
   ]
  },
  {
   "cell_type": "markdown",
   "metadata": {
    "kernel": "SoS",
    "nbgrader": {
     "grade": false,
     "grade_id": "cell-fc62f2db3a7e2228",
     "locked": true,
     "schema_version": 3,
     "solution": false,
     "task": false
    }
   },
   "source": [
    "<font color='ff822d' size=6> 📝 <font> <font color='ff822d' size=4> **Todo**: <font>\n",
    "    \n",
    "* You are going add a slight change to the circuit now. Implement the circuit below. Note that you only have to switch the wires on LED3-A and LED3-C in order to build the new circuit.\n",
    "* You can use the same code you wrote in the previous exercise. Keep the frequency at 1 Hz.\n",
    "\n",
    "<div>\n",
    "<img src=\"https://gitlab.tudelft.nl/mwdocter/nb2214-images/-/raw/main/PicoPI/picopi5_2_circ_D2.jpg\" width=\"50%\"/>\n",
    "</div>\n",
    "\n",
    "\n",
    "### 1c blinking for different LED orientations compared\n",
    "**A)** Check you prediction for two LEDs with opposite orientation (exercise 1A)\n",
    "    \n",
    "**B)** Observe how the blinking pattern changed compared to the previous exercise. \n",
    "    \n",
    "**C)** Explain the difference between the blinking patterns of exercise 1 & 2?"
   ]
  },
  {
   "cell_type": "code",
   "execution_count": 7,
   "metadata": {
    "kernel": "SoS",
    "nbgrader": {
     "grade": true,
     "grade_id": "cell-898153a6ddbbd47c",
     "locked": false,
     "points": 1,
     "schema_version": 3,
     "solution": true,
     "task": false
    }
   },
   "outputs": [],
   "source": [
    "### TO DO=\"explain the differences between blinking in 1a and 1b \"\n",
    "\n"
   ]
  },
  {
   "cell_type": "markdown",
   "metadata": {
    "kernel": "MicroPython - USB",
    "nbgrader": {
     "grade": false,
     "grade_id": "cell-3b5b65a9423ebb4e",
     "locked": true,
     "schema_version": 3,
     "solution": false,
     "task": false
    }
   },
   "source": [
    "> <font size=6>ℹ️</font>\n",
    ">\n",
    "> <font color='00a6ed'> Did you expect both LEDs to blink in an alternating fashion? Why did that not happen?\n",
    ">\n",
    "> <font>    "
   ]
  },
  {
   "cell_type": "markdown",
   "metadata": {
    "kernel": "SoS",
    "nbgrader": {
     "grade": false,
     "grade_id": "cell-202a4d644a545fe4",
     "locked": true,
     "schema_version": 3,
     "solution": false,
     "task": false
    }
   },
   "source": [
    "### 1d signal through DAC assistant\n",
    "    \n",
    "\n",
    "Let's change the circuit a slight bit again . Instead of using the output from the *DAC A* pin directly, we pass it through the *DAC Assistant* on the ALPACA. \n",
    "* Wire the signal of pin *DAC A* to the *+IN port* of the DAC assistant (right top of the ALPACA board, see image below). The output signal is now generated at the pin called *OUT*. Also see the circuit below.\n",
    "* Note that for this part of the exercise both USB cables must be connected. Turn the two switches for the *+12V >ON* and *-12V >ON* supplies on, their indicator LEDS will glow now.\n",
    "    \n",
    "<div>\n",
    "<img src=\"https://gitlab.tudelft.nl/mwdocter/nb2214-images/-/raw/main/PicoPI/picopi5_5_assistant.jpg\" width=\"50%\"/>\n",
    "</div>\n",
    "\n",
    "\n",
    "> <font size=6>ℹ️</font>\n",
    ">\n",
    "> <font color='00a6ed'> The ALPACA manual states that the the DAC assistant converts an input from 0 to 4.096 V, to an output voltage range of -10.24 to +10.24 V\n",
    ">\n",
    "> <font>    \n",
    "    \n",
    "<div>\n",
    "<img src=\"https://gitlab.tudelft.nl/mwdocter/nb2214-images/-/raw/main/PicoPI/picopi5_3_circ_D3.jpg\" width=\"50%\"/>\n",
    "</div>\n",
    "\n",
    "\n",
    "\n",
    "Because you're using the DAC assistant on the ALPACA, the square wave you create using the function generator will be turned into a square wave of the same frequency, but with a voltage from -10 to +10 V. You can see that your voltage range changed by using the voltmeter on the Cria, __but avoid connecting your signal to any of the input pins of the Pico__, this voltage range is harmful for your it!\n",
    "\n",
    "    \n",
    "* Observe the blinking pattern of the LED by running the code you wrote previously. What happened, and can you explain why this happened?"
   ]
  },
  {
   "cell_type": "code",
   "execution_count": 9,
   "metadata": {
    "kernel": "SoS",
    "nbgrader": {
     "grade": true,
     "grade_id": "cell-2c9794e372f3880f",
     "locked": false,
     "points": 1,
     "schema_version": 3,
     "solution": true,
     "task": false
    }
   },
   "outputs": [],
   "source": [
    "### TO DO=\"describe and explain the blinking\"\n",
    "\n"
   ]
  },
  {
   "cell_type": "markdown",
   "metadata": {
    "kernel": "SoS",
    "nbgrader": {
     "grade": false,
     "grade_id": "cell-26fc986164912f94",
     "locked": true,
     "schema_version": 3,
     "solution": false,
     "task": false
    }
   },
   "source": [
    "### 1e frequency of the LED\n",
    "Increase the frequency in the code. Determine the highest frequency at which you can still observe the blinking of the LEDs. Why can you no longer seperate the blinking of the LEDs at high frequencies?"
   ]
  },
  {
   "cell_type": "code",
   "execution_count": 11,
   "metadata": {
    "kernel": "SoS",
    "nbgrader": {
     "grade": true,
     "grade_id": "cell-35e55834d0d65411",
     "locked": false,
     "points": 1,
     "schema_version": 3,
     "solution": true,
     "task": false
    }
   },
   "outputs": [],
   "source": [
    "### TO DO=\"for which frequency you cannot see blinking anymore, and why?\"\n"
   ]
  },
  {
   "cell_type": "markdown",
   "metadata": {
    "kernel": "SoS",
    "nbgrader": {
     "grade": false,
     "grade_id": "cell-b282da7c3283c233",
     "locked": true,
     "schema_version": 3,
     "solution": false,
     "task": false
    }
   },
   "source": [
    "## Implement & investigate 2: half-wave rectifier\n",
    "\n",
    "### 2a. build the setup\n",
    "> <font color='grey'>⏳ Estimated time: 15 min</font>\n",
    "\n",
    "Now we are going to build the last circuit for this exercise. \n",
    "* Unplug your ALPACA. (Always recommended when rebuilding)\n",
    "* For this purpose, do not use one of the LEDs on the ALPACA, but **take the red LED that was supplied to you** together with the capacitors and resistors.\n",
    "* Note that you'll no longer be needing the *DAC Assistant*\n",
    "    \n",
    "Build the circuit below using the breadboard on the ALPACA. \n",
    "\n",
    "<div>\n",
    "<img src=\"https://gitlab.tudelft.nl/mwdocter/nb2214-images/-/raw/main/PicoPI/picopi5_4_circ_D4.jpg\" width=\"50%\"/>\n",
    "</div>\n",
    "    \n",
    "<details>\n",
    "  <summary>Detailed fritzing</summary>\n",
    "<img src=\"https://gitlab.tudelft.nl/mwdocter/nb2214-images/-/raw/main/PicoPI/picopi5_5_build.jpg\" width=\"70%\"/>\n",
    "</details>\n",
    "\n",
    "    \n",
    "### 2b. do the measurement  \n",
    "The code for this exercise is already written for you, it generates a sine wave. Execute it by running the cell below. Both the input and output signal of the circuit will be measured.\n",
    "\n",
    "> <font size=6>ℹ️</font>\n",
    ">\n",
    "> <font color='00a6ed'> Remember that the long leg of the capacitor and the LED correspond to the positive side (anode).\n",
    ">\n",
    "> <font>   "
   ]
  },
  {
   "cell_type": "code",
   "execution_count": 102,
   "metadata": {
    "kernel": "MicroPython - USB"
   },
   "outputs": [
    {
     "name": "stdout",
     "output_type": "stream",
     "text": [
      "\u001b[34mConnecting to --port=COM3 --baud=115200 \u001b[0m\n",
      "\u001b[34mReady.\n",
      "\u001b[0m"
     ]
    }
   ],
   "source": [
    "%serialconnect to --port=\"COM3\" \n",
    "#ADD COM PORT ABOVE, e.g. --port=\"COM3\"\n",
    "\n",
    "import time\n",
    "import numpy as np\n",
    "from machine import ADC # type: ignore\n",
    "from functiongenerator import FuncGen, Sine # type: ignore\n",
    "\n",
    "NUM_SAMPLES = 100\n",
    "DELAY_MS = 1\n",
    "\n",
    "adc0 = ADC(26) \n",
    "adc1 = ADC(27)\n",
    "\n",
    "input_signal = np.zeros(NUM_SAMPLES)\n",
    "output_signal = np.zeros(NUM_SAMPLES)\n",
    "\n",
    "with FuncGen(Sine(Vpp=3, offset=1.5, freq=20)):\n",
    "    \n",
    "    time.sleep(0.5)\n",
    "\n",
    "    for ii in range(NUM_SAMPLES):\n",
    "        input_signal[ii] = adc0.read_u16()\n",
    "        output_signal[ii] = adc1.read_u16()\n",
    "        time.sleep_ms(DELAY_MS)\n",
    "\n",
    "input_signal = input_signal / 65535 * 3.3\n",
    "output_signal = output_signal / 65535 * 3.3"
   ]
  },
  {
   "cell_type": "code",
   "execution_count": 103,
   "metadata": {
    "kernel": "Python3"
   },
   "outputs": [
    {
     "data": {
      "image/png": "[encoded data removed]"
     },
     "metadata": {
      "image/png": {
       "height": 400,
       "width": 600
      }
     },
     "output_type": "display_data"
    }
   ],
   "source": [
    "import matplotlib.pyplot as plt\n",
    "\n",
    "\n",
    "plt.plot(input_signal, label='Input signal')\n",
    "plt.plot(output_signal, label='Output signal')\n",
    "# plt.plot(output_signal + 0.7, label='Output signal + 0.7 V')\n",
    "plt.ylabel('signal [V]')\n",
    "plt.xlabel('Measurement number')\n",
    "plt.legend()"
   ]
  },
  {
   "cell_type": "markdown",
   "metadata": {
    "nbgrader": {
     "grade": false,
     "grade_id": "cell-a877ae5c2691a5b4",
     "locked": true,
     "schema_version": 3,
     "solution": false,
     "task": false
    }
   },
   "source": [
    "> <font size=6>🔥</font>  \n",
    ">\n",
    "> <font color='ff6723'>If the values of the input/output signal are lower than you expect, please check that\n",
    "> there are **no** jumpers on *AMPLIFIER DIRECT TO NANO* (slot on the right of the Cria-Pico Pi converter)\n",
    "</font>\n",
    "\n",
    "You might have noticed that the output is lower than you might expect. That has to do with us using LEDs instead of simple diodes. LEDs have a higher voltage drop."
   ]
  },
  {
   "cell_type": "markdown",
   "metadata": {
    "kernel": "SoS",
    "nbgrader": {
     "grade": false,
     "grade_id": "cell-8dceb7a380d846a6",
     "locked": true,
     "schema_version": 3,
     "solution": false,
     "task": false
    }
   },
   "source": [
    "\n",
    "### 2c explain plus test the dependency on the capacitor value\n",
    "**A)** Explain the shape of the output signal \n",
    "\n",
    "**B)** Test what will happen with the ripple voltage if you increase the capacitance of the capacitor\n",
    "\n"
   ]
  },
  {
   "cell_type": "code",
   "execution_count": 49,
   "metadata": {
    "kernel": "SoS",
    "nbgrader": {
     "grade": true,
     "grade_id": "cell-cb5820b3ba05c6fc",
     "locked": false,
     "points": 1,
     "schema_version": 3,
     "solution": true,
     "task": false
    }
   },
   "outputs": [],
   "source": [
    "### TO DO=\"Explain the shape of the output signal, how does this depend on the capacitance value?\"\n"
   ]
  },
  {
   "cell_type": "markdown",
   "metadata": {
    "nbgrader": {
     "grade": false,
     "grade_id": "cell-8f8eae4820cc6648",
     "locked": true,
     "schema_version": 3,
     "solution": false,
     "task": false
    }
   },
   "source": [
    "## Compare and conclude\n",
    "> <font color='grey'>⏳ Estimated time: 10 min</font>\n",
    "\n",
    "\n",
    "* Wait till all (4) group members finish their observation\n",
    "* Compare your results with your other group members. \n",
    "* If your results agree, and are in line with all predictions, then talk to a TA and get checked off\n",
    "* Otherwise, so if your results do not agree, or your results are not in line with your predictions, then first discuss amongst your group before getting a TA. \n",
    "\n",
    "\n",
    "**to be checked off by a TA:**\n",
    "1. explain why this rectifier is a half-wave rectifier?\n",
    "2. For the half-wave rectifier, discuss the effect of a (bigger) capacitor.\n",
    "3. exit card: 1. Write a brief abstract on what you learned (conclusion, useful graph), 2. Which troubleshooting skills do you want to remember for next sessions, 3. Which code do you copy for use in next sessions,\n",
    "4. How do think this notebook could be improved"
   ]
  },
  {
   "cell_type": "code",
   "execution_count": 4,
   "metadata": {
    "nbgrader": {
     "grade": true,
     "grade_id": "cell-a48813197e74e36a",
     "locked": false,
     "points": 1,
     "schema_version": 3,
     "solution": true,
     "task": false
    }
   },
   "outputs": [
    {
     "name": "stdout",
     "output_type": "stream",
     "text": [
      "\u001b[31mNo serial connected\n",
      "\u001b[0m  %serialconnect to connect\n",
      "  %esptool to flash the device\n",
      "  %lsmagic to list commands"
     ]
    }
   ],
   "source": [
    "#11B diode rectifier\n",
    "### TO DO =\"1. explanation why this rectifier is a half-wave one\"\n",
    "\n",
    "### TO DO=\"2. Explain the effect of a larger capacitor\"\n",
    "\n",
    "### TO DO=\"3a. abstract\"\n",
    "\n",
    "### TO DO=\"3b. troubleshooting\"\n",
    "\n",
    "### TO DO=\"3c. code\"\n",
    "\n",
    "### TO DO=\"4. what changes would you suggest?\"\n"
   ]
  },
  {
   "cell_type": "code",
   "execution_count": 54,
   "metadata": {
    "kernel": "SoS"
   },
   "outputs": [
    {
     "name": "stdout",
     "output_type": "stream",
     "text": [
      "\u001b[31mNo serial connected\n",
      "\u001b[0m  %serialconnect to connect\n",
      "  %esptool to flash the device\n",
      "  %lsmagic to list commands"
     ]
    }
   ],
   "source": [
    "%rebootdevice"
   ]
  },
  {
   "cell_type": "code",
   "execution_count": 55,
   "metadata": {
    "kernel": "SoS"
   },
   "outputs": [],
   "source": [
    "%disconnect"
   ]
  },
  {
   "cell_type": "markdown",
   "metadata": {},
   "source": [
    "* Recording: https://www.youtube.com/watch?v=YevPm66rgGg\n"
   ]
  }
 ],
 "metadata": {
  "celltoolbar": "Create Assignment",
  "jupytext": {
   "formats": "ipynb,md"
  },
  "kernelspec": {
   "display_name": "Alpaca Kernel",
   "language": "python",
   "name": "alpaca"
  },
  "language_info": {
   "codemirror_mode": {
    "name": "ipython",
    "version": 3
   },
   "file_extension": ".py",
   "mimetype": "text/x-python",
   "name": "python",
   "nbconvert_exporter": "python",
   "pygments_lexer": "ipython3",
   "version": "3.10.14"
  },
  "sos": {
   "kernels": [
    [
     "MicroPython - USB",
     "micropython",
     "micropython",
     "",
     "python"
    ],
    [
     "Python3",
     "python3",
     "Python3",
     "#FFD91A",
     ""
    ],
    [
     "SoS",
     "sos",
     "",
     "",
     "sos"
    ]
   ],
   "panel": {
    "displayed": true,
    "height": 0
   },
   "version": "0.22.3"
  },
  "toc": {
   "base_numbering": 1,
   "nav_menu": {},
   "number_sections": true,
   "sideBar": true,
   "skip_h1_title": false,
   "title_cell": "Table of Contents",
   "title_sidebar": "Contents",
   "toc_cell": false,
   "toc_position": {},
   "toc_section_display": true,
   "toc_window_display": false
  }
 },
 "nbformat": 4,
 "nbformat_minor": 4
}
