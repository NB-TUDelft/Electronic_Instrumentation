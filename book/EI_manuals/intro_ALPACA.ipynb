{
 "cells": [
  {
   "cell_type": "code",
   "execution_count": 1,
   "id": "35c03a30",
   "metadata": {},
   "outputs": [
    {
     "name": "stdout",
     "output_type": "stream",
     "text": [
      "\u001b[31mNo serial connected\n",
      "\u001b[0m  %serialconnect to connect\n",
      "  %esptool to flash the device\n",
      "  %lsmagic to list commands"
     ]
    }
   ],
   "source": [
    "from IPython.core.display import HTML\n",
    "def set_width(width):\n",
    "    display(HTML(f\"\"\"<style>  \n",
    "            .container {{ width:{width}% !important; \n",
    "                            min-width:800px !important; margin: 0 auto}} \n",
    "            .jp-Cell {{ width:{width}% !important; \n",
    "                            min-width:800px !important; margin: 0 auto}} </style>\"\"\"))\n",
    "# Set container width to X% of the fullscreen \n",
    "set_width(50)"
   ]
  },
  {
   "cell_type": "markdown",
   "id": "5a75e4a4",
   "metadata": {},
   "source": [
    "# intro ALPACA\n",
    "This intro supports manuals 2C, 12B, 13C, voltammetry\n",
    "\n",
    "In this course ALPACA means **Advanced Learning Platform for Analog Circuits and Automation** (https://zenodo.org/record/5615137) which is developed specifically for this course by Jeroen Bastemeijer. In short: the ALPACA is a \"pocket Studio Classroom\" with devices on board you can use to do experiments. \n",
    "The ALPACA has (among others):\n",
    "\n",
    "* A computer that can be **programmed** to execute instructions\n",
    "* A simple **function generator**\n",
    "* A means of **sampling** input signals\n",
    "* A **breadboard** where you can build circuits\n",
    "\n",
    "\n",
    "![ChessUrl](https://gitlab.tudelft.nl/mwdocter/nb2214-images/-/raw/main/PicoPI/picopi1_2_assembly.gif \"Alpaca+Cria+Picopi\")\n",
    "\n",
    "The Alpaca has features to learn about **digital** systems based on a Raspberry Pi Pico. In addition, it has a number of circuits on board which allow you to study **analog** circuits.\n",
    "\n",
    "The ALPACA is comprised of three components:\n",
    "1. The ALPACA board (Colored blue in the video above)\n",
    "2. The Cria board (Colored green)\n",
    "3. The Raspberry Pi Pico (AKA \"PicoPi\", colored red)\n",
    "\n",
    "<img src=\"https://gitlab.tudelft.nl/mwdocter/nb2214-images/-/raw/a894a02ef157ca15d3d118eb243245eb912ba4f0/PicoPI/picopi1_11_Flowchart - Visual overview of Pico functionality.jpg\" width=50% ></img>\n",
    "\n",
    "The ALPACA contains a lot of features that can be experimented with. We will consider four features that are relevant to Electronic Instrumentation. Each of these functions is accessed via different methods in either the `machine` module or the `functiongenerator` module.\n",
    "\n",
    "* Extra information or hints is given in boxes denoted by: <font size=4>ℹ️</font>\n",
    "* Help fixing programs is given in boxed denoted by: <font size=4>🔥</font>"
   ]
  },
  {
   "cell_type": "code",
   "execution_count": 1,
   "id": "c476e3c7",
   "metadata": {},
   "outputs": [
    {
     "data": {
      "image/jpeg": "/9j/4AAQSkZJRgABAQAAAQABAAD/2wCEABALDBoYFhsaGRoeHRsfIy8mIyIgJCUlKCU0MCo3Mi4nLS89PVBCNThLOTYvRGFFS1NWW11bNUFlbWRYbFBZW1cBERISGRYZLxsbMFc9N0JXV1dXV11dXVdXV1dYWFdXY19XV1dXV1dXV1dXV1dXXVdXX1dXV1dXV1dXV11YV2NXXf/AABEIAWgB4AMBIgACEQEDEQH/xAAbAAEAAgMBAQAAAAAAAAAAAAAABAUBAwYCB//EAEoQAAIBAgEFCgkLAwMFAQEBAAABAgMRBAUSITGSFRciQVFSU2Fx0gYTFDIzYoGR0RY0QmNyc4KhsbLBI6Lws+HxQ1R0k8Ik4iX/xAAaAQEBAQEBAQEAAAAAAAAAAAAAAQIDBQYE/8QAKxEBAQACAAQGAAUFAAAAAAAAAAECEQMSITEyQVFxkeETYaHB0QQFIoHw/9oADAMBAAIRAxEAPwD5+AAAAAAAAAAAAAAAAAAAAAAAAAAAAAAAAAAAAAAAAAAAAAAAAAAAAAAAAAAAAAAAAAAAAAAAAAAAAAAAAAAAAAAAAAAAAAAAAAAAAAAAAAAAAAAAAAAAAAAAAAAAAAAAAAAAAAAAAAAAAAAAAAAAAAAAAAAAAAAAADsN7jG9Lh9qp3BvcY3pcPtVO4Bx4Ow3uMb0uH2qncG9xjelw+1U7gHHg7De4xvS4faqdwb3GN6XD7VTuAceDsN7jG9Lh9qp3BvcY3pcPtVO4Bx4Ow3uMb0uH2qncG9xjelw+1U7gHHg7De4xvS4faqdwb3GN6XD7VTuAceDsN7jG9Lh9qp3BvcY3pcPtVO4Bx4Ow3uMb0uH2qncG9xjelw+1U7gHHg7De4xvS4faqdwb3GN6XD7VTuAceDsN7jG9Lh9qp3BvcY3pcPtVO4Bx4Ow3uMb0uH2qncG9xjelw+1U7gHHg7De4xvS4faqdwb3GN6XD7VTuAceDsN7jG9Lh9qp3BvcY3pcPtVO4Bx4Ow3uMb0uH2qncG9xjelw+1U7gHHg7De4xvS4faqdwb3GN6XD7VTuAceDsN7jG9Lh9qp3BvcY3pcPtVO4Bx4Ow3uMb0uH2qncG9xjelw+1U7gHHg7De4xvS4faqdwb3GN6XD7VTuAceDsN7jG9Lh9qp3BvcY3pcPtVO4Bx4Ow3uMb0uH2qncG9xjelw+1U7gHHg7De4xvS4faqdwb3GN6XD7VTuAceDsN7jG9Lh9qp3BvcY3pcPtVO4Bx4Ow3uMb0uH2qncG9xjelw+1U7gHHg7De4xvS4faqdwb3GN6XD7VTuAceDsN7jG9Lh9qp3BvcY3pcPtVO4Bx4Ow3uMb0uH2qncG9xjelw+1U7gHHg7De4xvS4faqdwb3GN6XD7VTuAceDsN7jG9Lh9qp3BvcY3pcPtVO4Bx4Ow3uMb0uH2qncG9xjelw+1U7gHHg7De4xvS4faqdwb3GN6XD7VTuAfUAAAPNj0APNimwtfHVlKcJ4aMfGTilKFRu0JuOlqfUXRVZEqRhh25NJePqq70aXXkkvedMbrG32/dGfF5Q6TC/+ur3xg8TiFiXQrulL+lnp04zj9K1neTLGjXhNXhJSXKnfiv+jRQ4vHPy6M8KliWoeKqxjdKHCvnOp5t1zdZZlzblkHQWFiHgcqU6+bmKXCi5K9uJpPj60TjkrzYWPQA82Fj0APNhY9ADzYWPQA82Fj0YArquW8NCcoSqPOi7SShN2fJdI8bv4XpJf+up3T1kbzsX/wCRL9kSyOuUwxutX5+k6oOFytQrTVOnUbm02k4zjdLXrXWTrFRlOtGnjcJOo82GbVjnPRFOWZmpvUm7O3YW5nOSasViwsegYHmxmxkAAAAAAAAAAAAAAAAAAAAAAAAAAAAAAAAAAAAAAAAAAAAAAAAAVGUKtarXeGoz8WoU8+pNa3nNqEE7PNvZtu17aimpYHEYbCzliJZ1HxkvG0pTzrwlUd6ilZOLV87Xp6nquso4evCr5RhoxqSdPMnTk83Os24ST5U29DtdPWiqoYvF4ujLymFOlh4y/qTinnNQlw4KKlL6SavyJnWeH8kdNSoxhnZqtnO77bJfokczhb1cTNYFeS5k/wCsqjsp9aocV+dwTpoV4ym4J8JJSas9TvZ/kynxWPo0cprxtSFP/wDNrm7L0mq79pOHLdyFbFlWSnD/APNK0nZyjd5vXq1avcy5K7d7B/8AdUP/AGR+JCl4TUVVcfHUMxSilLxkXdNaXr4tN/YT8PP0ptfAq5ZVlK7oUvHQbtGpGScXyvRxJ3XserQWNGTcYtqzaTa5Oox2V7AAAAAAAAIWUMoxoZqzZVKk21CnC2dK2t6dCS42yYVGMqRo4+lVqO0J0nSjJ+bGWcpWb4s5ftsWTqKfJuXvnXBcM+s2qialGnKSioZ+i6TfHb3HR4GFdOXjpJq0bW06bPOepW0uyWnRG/GVWUMqYWeGxFOkm6lZOKg6dSm6k5rNVs5K/Fd8SRfUIOMIxbu1FJvlstZvideutJHM5XvTxCeN/wD00Zy/pUoOzj20f+rblu+xFrgsnwjUTjVzs2bnayurxcM3RxaHotrj1EeGDjh8pRcG35TCpKedaTTg42zZPhJcJ6L26ixpZOpwq+NV8/hcbtwpOT0drZM+0EwGDRHG0nJRU0221brV7rt4L0dRhUgGmpi6cU3KpFW13a0G0DIAAAAAAAAAAAAAAAAAAAAAAAAAAAAAAAAAAAAAAAAAAAAAAAMFXkSmpYaUZK6datdPj/rTLQrcgegl99W/1pm54L7z90TqdCEW3GKTejQvyKLKOLhSyhCcYKvJ0/FShT4VSHCvnNW83taOhZyuEd68lkvRBVH4/wAZ6G/0s1Ph53ZaJeH5lXuFxtCtmZiTz05R4OtRaT/Ve8l+KjzV7kUtPK+FhUhm0sxzeYpKMdHU2uK9lya+QvDnuqrPB9f0JffVv9aRZlb4P+gn9/W/1pFmdOL477pOwADmoAAAAAGutSjOLjOKlFqzjJJp9TRsMAUOSMm0k8X4unGElVnCMopRlGObHgxkleKvyF3QjKMIqcs6SilKSVru2l2IGRvOxf8A5Ev2xLI3xPEkUGWqcnj8Hau6N4VUmlHXweCs7Rd9n0SZubiP++rbFDuFXle6qvdLTg85eL8X5mvR41ec3q1cEtMNg5QnGTxLlFScs2+hpxzc3XxOzN5Z2YyftA3NxH/fVtih3CL8n5xl4xYyspZzndQo+c1Zytm2vbR7+Vl6Yn5r7DP4mX5fE/g0psj4GlXwtCtVjnVJwzpSu1dyXCdloWlt9rbLorfBv5hhvuo/oWZOJNZ2T1IAAwoAAAAAAAAAAAAAAAAAAAAAAAAAAAAAAAAAAAAAAAAAAABBllegqni8+8rqOhNq7aS09rQEyc0ldtJdegrPB+pF0ZJSV/HVtF100yXlHAU8TSlSqxvGXvT4muRkDI+QIYabqvMlVazVKNONNKK5Irjetv8Ag648nJd3qnmuCnU6ayk5JwV8Ppd1p/qcbLg575JUPHZ2bDxOdn+L8XG+dyZ+vM483+NA4XJ15roroLIyEgclVvg/6Cf39b/WkWZWeD/oJ/f1v9aRZm+L477pOwADCgAAAAAYMmjGxqulJUZRjUtwXJXjfrLOoh5G87F/+RL9sSyOa8H44zx03N5tNycqqlSzG5tJZsHnO8dCedq/jpTpxsdZd9pFCsCqWU4Sb8b46NSSdVZ0qThm6Kb+jHhauolV8hU6mdnTm85yb83XJrq4kkl1dekqsoQx/lkXFxclnKi1SvDNm1neMlncFrNXFp4urp6SailJpytpaVk3xu3EXi46mN3voR6SsYn5r7DJifmvsOKq7wb+YYb7qP6FmVng38ww33Uf0LM6cXx33qQABzUAAAAAAAAAAAAAAAAAAAAAAAAAAAAAAAAAAAAAAAAAAA8OnG6earrU7aUewBgyAAAAAwZMAVvg/wCgn9/W/wBaRZlZ4P8AoJ/f1v8AWkWRvieO+6TsyADCgAAAAAYMgDBkADAMgAeZ+a+w9HmfmvsArvBv5hhvuo/oWZWeDfzDDfdR/QszpxfHfepAAHNQAAAAAAAAAAAAAAAAAAAAAAAAAAAAAAAAAAAAAAAAAAAAAAAAAADBkwBz+SsrUKMJ06s3GarVW1mTeurJrUuQm/KDC9L/AGVPgWYOmWWGV3Zfn6RWfKDCdK9ip8B8oMJ0r2KnwLME3h6X5+jqrPlBhOlexU+A+UGE6V7FT4FmYzlykufDnefr9L1VvygwnSvYqfAfKDCdK9ip8CzQLvD0vz9J1VnygwnSvYqfAfKDCdK9ip8CzA3h6X5+jqrPlBhOlexU+A+UGE6V7FT4FmBvD0vz9HVWfKDCdK9ip8B8oMJ0r2KnwLMDeHpfn6Oqs+UGE6V7FT4GJeEGFs/6r1cyp8C0A3h6X5+jqrvB2LWAwyas1SjofYWRgyTK81tUABkAAAAAAAAAAAAAAAAAAAAAAAAAAAAAAAAAAAAAAAAAAAAAAAAAAAAAAAADBkwBpqz02NR6nrZg+Z/qM8s+JeZ2nZ6hOzJBFJS1Hpf23PKy43tGM2QDB6jDIBgCE8c2+DBNcTcrX67WY8tn0cdt90jUfNj2HsqN3ls+jjtvujy2fRx233TSAN3lsujjtvumKmUXGLlKEVFK7ec9H5Go8zipJp6mBmGW4Si5LNaSzrpyehNpvzeVP3BZbg3m208jzl+sSNHJ9JNtJrOunwpWec22rX5W37TLwVN5+iXDd286V9bejTo1vUBIWXabV0rp20xvLXq1LjCy5TbStplaybs3ftX+XI9LAUoXzY2TabSbtdNNO3LoR5WTaN4vNbcbWblJtWaa4+qPbZA2mVMtQi7SVtNtL0e/2o8Qy/Sl5qcradGnW3FfmmvYaamCpyd5RvpvZt292riT7TVRyVQg24RcW0otqc/o6uPWuUCXLL9Ja01xadH+amSfLn0cvfH4kCeCpyak43ad07vQ7t37bt6SQBI8u+rl70PLlxwl7LP+SOEBZQmpJNO6fGj0c/4J15SpWk72tY6AigAAAAAAAAAAAAAAAAAAAAAAAAAAAAAAAAAAAAAAAAAAAADXUp37TV4t8hJMH4+N/RcPi5c16VqZWNUKXGzaDJ34XBx4WPLiluwGDJ1QMGTAFTR82PYeyuyjSjLDxcoqUYyhJpq6tnJP8mzbuThv+3pbERutcs1upgsQ9ycNxYelsRItDJVOcIydOgm1p/ox0PjJbZ5M24S66/p/K2sczlDK1aGNdGMmo58EtEdF0r8XaWe41PmUP/RA5zG0o08fmRilacFwUorTazzV/jM230TWOXTr/wB7V1/iqnSrYXxHi6vSR2P9zy3UjOCc1LObus22hJvl7DdWqZkZSfEr/wCxZpnLCY9d/rWrDSm3POaaTsmlbi08f+WJBrw9PNgk9fH2vS/zNhrHsY9uoACtAAABAICv8D/Rs6Q5vwP9HI6QigAAAAAAAAAAAAAAAAAAAAAAAAAAAAAAAAAAAAAAAAAAAAAAYbsrsDJgiPHr6MJyXLwVf3u5jy/6qfvh8QJgIfl/1U/fD4jy/wCqn74fECaYIfl/1U/fD4jy/wCqn74fECvr0vGYecOdBr3o2YWrn0oT50U/ejRipV0/6EI25KltHUrPUV+CljFDNhGjaEnHTncT1ax5td8V4aMLoU482b/PhL9SFn4/mUP7vieIzxinJKNHOdm/OtyK2kl7xxveVbnHZUoTeUs5U5uPjKelQk1qXGXufj+ZQ/u+I8Zj+ZQ/u+JXSXSbrrfZj+5//wAivwpwh15z7I6vzt7ivpyxrcpRjR0uzvfWtFlp1aCZgJSnnTnZSvmtRd0s3k9rbMTr/tnid5ilgA6KAAAAAAR5nPNV/wBOvQkap1alnm07vivJJe0CN4H+jkdIc5kKlPDQcZwv9lx/lotvL/qp++HxIqaCF5f9VP3w+I8v+qn74fECaCF5f9VP3w+I8v8Aqp++HxAmgheX/VT98PiPL/qp++HxAmgheX/VT98PiPL/AKqfvh8QJoIXl/1U/fD4jy/6qfvh8QJoIXl/1U/fD4jy/wCqn74fECaCF5f9VP3w+I8v+qn74fECaCF5f9VP3w+JuoYqM3azjLXZ2v2riYG8GDIAAAAAAAAAAAAAAAAAAAAAAI2UH/SfW4r3ySZJIuUPRfih+9ARQAVAAAAAB4nUST06f9rkXCvNr146dLhNdWdC36wfvN1aWvT/AHPmvi/j2miqrYuk7efBrVfTF3XZolLT8SVvHziWp3toem3E+M0zl/VpPVnKS06NaTX6M9U4eboX0foNcT69H8GqvwYUpc1x4s3js9HFob0Ey7OWfZJU720Pi4nxmHUsm2mko30q3L8DxCHm6Ob9BrVfr0fwaq0f6ebbzlCHmuOtu/HyX0cXtGV1NumM3dMQq5mH9fN1dcm7fmZw9PNk4KTSV9VtNow+LPNVt1Yx0ZseE+E1pzmkrW7e2xW+EdWUKM5QlKEs5aYtxeqHGTHox4s7V54r15fl8DE4NJvPlq6vgbTzU819jNqytSMmI6l2GQAAA1V3wV9qP7kV+Usu08NU8XOFSTzVK8UraW1xvqLQrco5Hw9RSqSp8JQdrNxWi7WhaNYJrzWRkAAAAMSkkrtpLr0AqfCn5jV/D+5FnQ8yP2V+gGwAj47FxoUpVZJuMbXUdelpfyBIBCyZlKGJjKUFJKLzXnW5L8pNAAGG7awMgwmZAAAAQ8qVnSpqpHXGSt7XZ/qTCty982f2o/uAv8JVz6cZcqN5EyX6CHYSyKAAAAAAAAAAAAAAAAAAAAABFyh6L8UP3olEXKHovxQ/egIoAKgAAAAA1VWrPhaeS/U9B5r0M6VGV2nCd9V73i1bq16+oVZa1f8Au9V8X8GyX0e3kb4n7iXssukehNOWatcc2/Bkvov3az1Vp51LN1Nw0aGuLRoeo14eiozcrJOThpzZK9o6tfbrN9CScYWaatbRdauKz0ox36VLq9Gug7xg7LSoPRF9fX/weUr1aUbWtHOfBa1XS1/a1cRqwlVRjBS15yh5slqcrflxcR7qxaTa86UI048Fq127vT77dRLdxMc9Y819GcK01Oblpm9CvxJtR9+kqfCj0E/tr/4LpWis1NJLNSWdb6TWq3/JV5fwlStRnGnHPeetCtfVB8fYbk1FxmtbXp5qea+xnjOnzFtf7GJubTWYtK53+xobY6l2GTCWgyAAAA1Yr0VT7Ev0NpqxXoqn2JfowNpjOV7XV+TjMspasHutTlZ28Q1e3W9FwRdEbKGNjh6TqzUnFNK0bN6XYkmjF4SFem6dRNxdrpNrU7rSgKytUWUsHUjRTg3JR/q6NTTeq5KyrWqUcJKVLTUiopWjncaT0dlzfgcDTw8HCkmot5zu29Pt7CSRdqvwfxlatSnKt5ym0uDm6LLiJ2Kw0K1OVOorwla6u1qd9a7DcCojYLAUsPFxpRzVJ3elvT7SSAAK7wg+ZV/s/wAosSu8IPmVf7P8oE7t+TPm1H7uP7USiLkz5tR+7j+1EoAAABW5e+bP7Uf3FkVuXvmz+1H9wF3kv0EOwlkTJfoIdhLIoAAAAAAAAAAAAAAAAAAAAAEXKHovxQ/eiURcoei/FD96AigAqAAAAADVVas+Fp5Lrkej+fYe5fR7eR8j93tNVaWtX9mcua9FrGyS83t6+R/5pHkqHVg3KjZuNnG9lON1Z6NP6Ht0nHNnTWmyzo2cc72PU+32mynFcHRzfoz5Hy6vb7SungqdKrhZwUk5VLO86ln/AE5u2bJ6NKRjlTKc003ww15puLspwmtEl9G3LxP9TfShnVIO3BjBNOzSbd1x8iv7zMlwOPzVxT6/8/XiGT4tU4315iv5z43xv/PyJrV0nJ/jq3zbbrTwrPkuuV29+r2Cjrn9r/5ieHLWr8mjOS1yfFbj/M90dc/tf/KNxqtoAKgAAAAAGrFeiqfYl+jNppxXoqn2JfowNzMX4rmWUtRf/wCvTdv+g9PtYIj+EOHxk6yeH8bmZi8year3fFdabWOghfNV9dlc9EfG4yFCm6k75qteyu9LsRe/RIBEyflCniYOdPOspZvCVndJP+SUVGQYMgAAAImVcNKth6tKFs6cbK90tfHY9YXGwqyqRhe9OWbK6tp6iSDs04Ok6dGnB2vGKTtq0KxuAAAAAVuXvmz+1H9xZFbl75s/tR/cBd5L9BDsJZEyX6CHYSyKAAAAAAAAAAAAAAAAAAAAABFyh6L8UP3olEXKHovxQ/egIoAKgAAAAA1VWrPhaeS65Ho/n2HuX0e3r5H/AJpNVWWvT7LrmvRY2S+j29fJ/mvQPJWqn9H8PFPkfL/Pt4iNivOwf3q5einy6feSaf0df0efyPl/n28RGxXnYP71cvRT5dPvIJNNeb+Hin18v8+0hYqmlUw0lnJ58I6HUirNT0NN24u0mw+jr+jz+vl/n2kXF68Nr9LDnck+X/nl4hpNJmctPCs+S65Xb36vYZ8W9LjK19ehNarX/Q8uWvTyaLx5z/zr4jchFrXmT5/9qGZPn/2o2kPEYBVJ5+fKOhLg2V7N637So35k+f8A2oZk+f8A2o1VcHnKnws109VlZa09Xs/U0LJEEuC7NK17LjTTb5XaX5ICZmT5/wDahmT5/wDajXhsHGlJuKSTWpRS42zVjse6VfD01FNVpNNt6Va2oCTmT5/9qMOm3olO640klfqNpxr8F8Tp009uXL2EWTbsjJW5BwM8PQ8XUtnZ7fBbas7FkVA0YzCQr03TqXzXa9nZ6HdaTeAKbGwWAwdSWH0NSUuFeWltJ/kSMq4WeIwkqcc3OmovhXS0NNmrwoV8DV/D+5FlR8yP2V+hF/NXeD+Tp4alOFTNu5uSzW2rWS5OonY3FRoUpVZ3zY2vZXelpavaYljKalKLlwo5mctOjPdo+9mjKs6LpypVs/NlFyeYpOyi027rVpsVPPq2ZOyjTxMZSp51ouzzlbSSytwUMNhlWhTlbMtOpdt2utD9yJbxcFmZ14upLNipRabdm7WfUmCo2S8DOjPESk42q1HONr6uvrLA11q0acc6Tsrxj7ZSUV+bRr8shnqGm8pOK4LteKbavq1JgSAeKtRQi5O7S12Tb9yMwmpRUlqauvaB6AAArcvfNn9qP7iyK3L3zZ/aj+4C7yX6CHYSyJkv0EOwlkUAAAAAAAAAAAAAAAAAAAAACLlD0X4ofvRKIuUPRfih+9ARQAVAAAAABqq2s+Fp5NHI9H8+w9S+j29fJ/mvQa6r16fzjzX7TbL6Pb18j/zSPJWmn9H8PP5Hy/z7eIjYrz8H96uXop8un3kmn9H8PHPkfL/Pt4iNivOwf3q5einy6feQSofR7I8/r/zT7SJjNeG+9hzuSfL/AM8vES6b83Xqjxz6+X+faRMXrw/3sOdyT5f+eXiAm6NPCt1aOV29+r2GxGlvXp5OOPOft/zQbkIVk1utH1vZCT/g2Gujq/FL9zKjHj48k9ifwHj48k9ifwNoA1xqpu2m/XGS/VHqVOLabSbWptLR2HmfnQ7X+hGxNCo6mfGTSSjaKbWc03nLXbU1xcQE0ECdGtOc25OEW45qUtKWqd+tpy9qRpeFxLaee4tJ/Tbu2vOte1k+Lk6wLU1Vb3ik7XevRydZXvDYm1lJqzzled+JZsG9b1aXx3ZGyhXr4WjKpdN56zVNynrum9ehWto6usC58XLpJe6PwHi5dJL3R+ByPypxXJS2J8vaPlTieSlsT5e0m2uWutptqcouWckk9KXG5cnYbSo8HsfUxKqTqZucmo8FNKyu+N9ZcFZVNXJM3UnUjVWdOSk4tLN4M4Shq06FC2l8bN9bJ/jpRlWeqEouMJTinnOL02aurLU+UngCqeSZZ9WfjdNS+jNVotSTpNcbzUtKbd+o2YvAVKzpylUUZU9KUFeLlnRabvptweKz0ssQBqxNFVKcoPRnLXyPifsdmQKmT6vi6MIVIKUG5Sm07ylJSUpJLVdybLQAR6tKdqmbO7n5qkuDDRZ2tpfKMDRnTpKNSSlJcava3EvcSAAAAArcvfNn9qP7iyK7L3zZ/aj+4C6yX6CHYSyJkv0EOwlkUAAAAAAAAAAAAAAAAAAAAACLlD0X4ofvRKIuUPRfih+9ARQAVAAAAABrqQunpfZo5Ho1Hpp6O3la4vz7DzXrRpwlObtGKbfsVypn4UYVxdpyvbRwJchFWkINZvs+lJ6k/f7dfGRsZFqeEvxVeVv/AKU+N6WUWFyhg/F01UrYnxmas61Svrtp1PlN1LKeT4zhPxleTi7xz5VpJOzV7N21Ng1XQwg9H4fpSeq/v/njImNi14j72mvOk+dy/rrZH+VGE58tiXwNFfL2HrSoxhKTfjYPTGS4wdV34vrfZo4m3yHsyCpQo8bjMVTqzhT8QoR08NTvpfLq49ReGithVPOd5JtRV1a6zW2mvewKiGKyhKWavJXJcScviaoZSxrSaeF06VfPWpZzdn6rT9pbQybGMlKE5xs9CWa0lxxV09F23y6dZ4w+SIU4qMZT0cfBV+Coq9lbRZPt5SLtrydPFzmpV/E+LSdnTbve9vdrLQ1YeiqcIwj5sVaK5FxLsS0ew2lQAAA1VXZxdm0m9Sb4nyG0AavHR5JbEvgPGx5JbEvgbQBppu85NJpZsVpTXHLl7UbgAAAAAAAAAAAAAAAVuXvmz+1H9xZEDLVNyg6Kaz7xfVruBcZL9BDsJZCw8vE0EpJtx0NLWRqnhBRi3FxqXTatZcXtIq2BTfKSjptTrO3JGPeEfCGD1YfEe2MF+sgLkAAAAAAAAAAAAAAAAAACLlD0X4ofvRKNdelnwcXovx8j4n7wK8EPE5QjRlm1YyT5Yq6fYaN3aHr7JUWYKzd2h6+yN3aHr7IFmCs3doevsjd2h6+yBNxC82yu7uy68yRWOc/EOV23n2i4uDa0NZqd/wBZPXrNk8t0Hb0mh3Vo9Vjw8r4d8dXQ7+b2/FgeKcZVMO1JvOdr3jd6JT4L0PRqV+Tj4zXjJzVODipweYrqNrxs5a29Ltyab9hsllHCyjKDU3GSs45uhrkt7WenlXDfWakvN0aNWj2sD1iabbpSUc7NepR5ZPhXtxaNF9V+o1TnPynNzpKGc9Flm8bzf5u7civpNm6uH0ek4LutGp2av7m/eY3Uw2v+o39nTrvrAuQVm7tD19kbu0PX2QLMFZu7Q9fZG7tD19kCzBWbu0PX2Ru7Q9fZAswVm7tD19kbu0PX2QLMFZu7Q9fZG7tD19kCzBWbu0PX2Ru7Q9fZAswVm7tD19kbu0PX2QLMFZu7Q9fZG7tD19kCzBWbu0PX2Ru7Q9fZAswVm7tD19kbu0PX2QLMxJ6GVu7tD19kbu0PX2QLGLukz0Vm7tD19kbu0PX2QLMFZu7Q9fZG7tD19kCzILl4zEvrnb3Oxq3doevsnnJfCrw7b+7SB0OKpOSVtd1frXIcRjZ1a9asqbjCEJNXetvjsd1Wvbg2vxXOMlhdEqk21Lxs3JKys0yW6bxm6rcm5UqYauqdfh05O19F1135DqKid9Ebdr/5OJx1FZsbaW37+Kx3enMWcrOyuuTqJ3TPovQfL98fG9Fh9mp3xvj43osPs1O+VH1AHy/fHxvRYfZqd8b4+N6LD7NTvgfUAfL98fG9Fh9mp3xvj43osPs1O+B9QB8v3x8b0WH2anfG+Pjeiw+zU74H1AHy/fHxvRYfZqd8b4+N6LD7NTvgfUAfL98fG9Fh9mp3xvj43osPs1O+B9QB8v3x8b0WH2anfG+Pjeiw+zU74H1AHy/fHxvRYfZqd8b4+N6LD7NTvgfSq+FhU8+KZH3JocxHz3fHxvRYfZqd8b4+N6LD7NTvgfQtyaHMQ3JocxHz3fHxvRYfZqd8b4+N6LD7NTvgfQtyaHMQ3JocxHz3fHxvRYfZqd8b4+N6LD7NTvgfQtyaHMQ3JocxHz3fHxvRYfZqd8b4+N6LD7NTvgfQtyaHMQ3JocxHz3fHxvRYfZqd8b4+N6LD7NTvgfQtyaHMQ3JocxHz3fHxvRYfZqd8b4+N6LD7NTvgfQtyaHMQ3JocxHz3fHxvRYfZqd8b4+N6LD7NTvgfQtyaHMQ3JocxHz3fHxvRYfZqd8b4+N6LD7NTvgfQtyaHMQ3JocxHz3fHxvRYfZqd8b4+N6LD7NTvgfQtyaHMQ3JocxHz3fHxvRYfZqd8b4+N6LD7NTvgfQtyaHMQ3JocxHz3fHxvRYfZqd8b4+N6LD7NTvgfQtyaHMQ3JocxHz3fHxvRYfZqd8b4+N6LD7NTvgfQtyaHMQ3JocxHz3fHxvRYfZqd8b4+N6LD7NTvgfQtyaHMQ3JocxHz3fHxvRYfZqd8b4+N6LD7NTvgfQtyaHMQ3JocxHz3fHxvRYfZqd8b4+N6LD7NTvgfQtyaHMQ3JocxHz3fHxvRYfZqd8b4+N6LD7NTvgfQtyaHMQ3JocxHz3fHxvRYfZqd8b4+N6LD7NTvgfQtyaHMQ3JocxHz3fHxvRYfZqd8b4+N6LD7NTvgfQtyaHMQ3JocxHz3fHxvRYfZqd8b4+N6LD7NTvgfQtyaHMRzuSqyjVTbtZP4HP74+N6LD7NTvlZhvCvEUpOUY0rtW0xk/wCQPpeVMu0sOo/Tk/oxf6viKlVlXw0qlkpTnJuOu2m3vtY4LGeEFevUdSebnPkTto4tZ6wvhJXpJqKhZ8TTtfl16P8AYlnRrG6q/hWdKupeLhNxd0pptR61ZrSWWA8I4V5RhUh4uUtCd7xb5L8TOLr5erTvogm+NJ3/AFIaxkuRfn8RDKyo4AKyAAAAAAAAAAAAAAAAAAAAAAAAAAAAAAAAAAAAAAAAAAAAAAAAAAAAAAAAAAAAAAAAAAAAAAAAAAAAAAAAAAAAAAAAAAAAAAAAAAAAAAAAAAAAAAAAAAAAAAAAAAAAAAAAAAAAAAAAAAAAAAAAAAAAAAAAAAAAAAAAAAAAAAAAAAAAAAAAAAAAAAAAAAAAAAAAAAAAAAAAAAAAAAAAAAAAAAAAAAAAAAAAAAAAAAAAAAAAAP/Z",
      "text/html": [
       "\n",
       "        <iframe\n",
       "            width=\"600\"\n",
       "            height=\"450\"\n",
       "            src=\"https://www.youtube.com/embed/EkGQ5gQo8_Q\"\n",
       "            frameborder=\"0\"\n",
       "            allowfullscreen\n",
       "            \n",
       "        ></iframe>\n",
       "        "
      ],
      "text/plain": [
       "<IPython.lib.display.YouTubeVideo at 0x2a8307cfaf0>"
      ]
     },
     "execution_count": 1,
     "metadata": {},
     "output_type": "execute_result"
    }
   ],
   "source": [
    "#precap intro movie ALPACA \n",
    "%python\n",
    "\n",
    "from IPython.lib.display import YouTubeVideo\n",
    "YouTubeVideo('EkGQ5gQo8_Q', width = 600, height = 450)"
   ]
  },
  {
   "cell_type": "markdown",
   "id": "c69b25b2-453a-4000-95f5-d721889caf10",
   "metadata": {},
   "source": [
    "##  Install the ALPACA software\n",
    "> <font color='grey'>⏳ Estimated time: 30 min</font>\n",
    "\n",
    "Online notebooks cannot communicate to local devices installed and connected to your computer or laptop. Therefore, in order to use the ALPACA, you need to have completed the following steps. \n",
    "\n",
    "1. Install VSCode\n",
    "2. Configure VSCode\n",
    "3. Install the ALPACA firmware on the ALPACA \n",
    "\n",
    "You'll also learn how to download Jupyter Notebooks to your computer and **run them locally**. You'll do this for each PicoPi Notebook you use, adapt or even make.\n",
    "\n",
    "\n",
    "> <font size=6>ℹ️</font>\n",
    ">\n",
    "> <font color='00a6ed'> Good news: once you've succesfully installed everything, you'll only need to download the notebook again for other Pico Pi assignments. Steps 1-3 only need to be performed once.\n",
    "    </font>\n"
   ]
  },
  {
   "cell_type": "markdown",
   "id": "750a6d46-f256-4150-bca3-ddd355777f31",
   "metadata": {},
   "source": [
    "### Installation Step 1: Install VSCode & Miniconda\n",
    "\n",
    "If you have taken the Nanobiology Programming Foundations, you should already have VSCode installed.If you also took the BioPhysics course, you can work with Jupyter Notebooks. \n",
    "\n",
    "#### VSCode installation\n",
    "<font color='ff822d' size=6> 📝 </font> <font color='ff822d' size=4> **Todo**: </font>\n",
    "If you have not installed VScode yet, follow the instructions in this nice online video: https://www.youtube.com/watch?v=1syk4ZDA2XI&list=PLU1ARaDkvyrOLwl3DsrqtmcxIVwhgEikC&index=2 \n",
    "\n",
    "The download link is: https://code.visualstudio.com/download\n",
    "\n",
    "\n",
    "#### Miniconda\n",
    "Follow the instructions on https://www.youtube.com/watch?v=5ztQJl1oTZw&list=PLU1ARaDkvyrOLwl3DsrqtmcxIVwhgEikC&index=1, select the Miniconda for macOS or Windows. \n",
    "Don't forget to make Miniconda your default interpreter. \n",
    "Miniconda is required, as VSCode does not come with a built-in Python interpreter. On macOS machines, Python 3.9 is pre-installed, but it is already outdated. On windows there is nothing by default. \n",
    "\n",
    "The download link is: https://www.anaconda.com/download/success"
   ]
  },
  {
   "cell_type": "markdown",
   "id": "a9c5d76e-53ad-4342-81c8-0aec9acd7b01",
   "metadata": {},
   "source": [
    "\n",
    "\n",
    "### Installation Step 2: Creating a Python Environment\n",
    "\n",
    "<font color='ff822d' size=6> 📝 </font> <font color='ff822d' size=4> **Todo**: </font>\n",
    "    \n",
    "1. Download a \"recipe\" file for the environment to your computer. Please consult the table below:\n",
    "    \n",
    "|             Machine |      Hyperlink    |\n",
    "|---------------:|:----------------------------------:|\n",
    "|             PC |      [requirements_windows.txt](https://brightspace.tudelft.nl/d2l/le/content/775335/viewContent/4586100/View)      |\n",
    "|    Mac (Intel) |        [requirements_mac.txt](https://brightspace.tudelft.nl/d2l/le/content/775335/viewContent/4586101/View)        |\n",
    "| Mac (M1 or M2) | File pending. Try Intel version or contact NB2214 staff |\n",
    "        \n",
    "\n",
    "    \n",
    "2. Follow the instructions in the following video. https://www.youtube.com/watch?v=5ztQJl1oTZw&list=PLU1ARaDkvyrOLwl3DsrqtmcxIVwhgEikC&index=1 \n",
    "```\n",
    "conda config --add channels conda-forge --add channels nb_tudelft\n",
    "conda create -n NB2214 --file \" DRAG FILE HERE\"\n",
    "conda activate NB2214\n",
    "python -m alpaca_kernel install\n",
    "python -m ipykernel install\n",
    "```\n",
    "\n",
     ]
  },
  {
   "cell_type": "markdown",
   "id": "f4a20308",
   "metadata": {
    "kernel": "SoS"
   },
   "source": [
    "### Installation Step 3: Installing the Alpaca Firmware\n",
    "\n",
    "   \n",
    "In order for the ALPACA to know how to respond to your Python code, you need to install MicroPython on the Pico Pi. Follow the instructions below to install Micropython (which we have taken to calling the \"firmware\" of the ALPACA).\n",
    "\n",
    "<font color='ff822d' size=6> 📝 </font> <font color='ff822d' size=4> **Todo**: </font>\n",
    "\n",
    "1. Download the firmware for the Alpaca (`Alpaca_firmware.uf2`) from <a href=\"https://brightspace.tudelft.nl/d2l/le/content/775335/viewContent/4586102/View\" target=\"_blank\">Brightspace</a>  (hyperlink). \n",
    "2. Remove the USB-B connector (AKA printer cable/power cable) from the ALPACA board.\n",
    "3. Unplug the micro-USB cable that attaches to the ALPACA from your PC.\n",
    "4. While pressing the “BOOTSEL” button on the ALPACA, reinsert the USB cable into the PC. Let go of the “BOOTSEL” button after a few seconds. The white, small round \"BOOTSEL\" button is located on the larger green rectangular Raspberry Pi Pico.\n",
    "5. When everything is okay, the ALPACA will appear as an flash drive in File Explorer (Windows)/Finder (MacOS)\n",
    "\n",
    "6. The `Alpaca_firmware.utf` downloaded file must be stored on the ALPACA by dragging and dropping it (or copy it in another way).\n",
    "7. When the ALPACA has rebooted, Micropython is active and is ready to run Python instructions or programs.\n",
    "\n",
    "If you ever need to redo this step, you can download or view the manual for installing the firmware (`Alpaca_firmware_manual.pdf`) from <a href=\"https://brightspace.tudelft.nl/d2l/le/content/682272/viewContent/3972819/View\" target=\"_blank\">Brightspace</a>  (hyperlink).\n"
    "\n",
    "### Installation Step 4: Installing the Alpaca in VSCode\n",
    "Follow: https://www.youtube.com/watch?v=vO22kPqNTEk&list=PLU1ARaDkvyrOLwl3DsrqtmcxIVwhgEikC&index=3 \n",
]
  },
  {
   "cell_type": "markdown",
   "id": "fe23ab5f",
   "metadata": {},
   "source": [
    "### Installation Step 4: Get ALPACA ready in VSCode\n",
    "\n",
    "Follow the following tutorial: https://www.youtube.com/watch?v=vO22kPqNTEk&list=PLU1ARaDkvyrOLwl3DsrqtmcxIVwhgEikC&index=3"
   ]
  },
  {
   "cell_type": "markdown",
   "id": "36bf6896",
   "metadata": {
    "kernel": "SoS",
    "lines_to_next_cell": 0
   },
   "source": [
    "###  Downloading a Notebook (for example this one)\n",
    "\n",
    "You're nearly there! This is a **Jupyter Notebook**, a document that can contain live code, equations, visualizations, and text. You will be using these notebooks throughout Electronic Instrumentation. Jupyter Notebooks consist of **cells**. Cells like this one simply contain text, while others contain code.\n",
    "\n",
    "Chances are, that you are currently viewing this notebook online and thus via a browser. Therefore, this notebook cannot interface with any electronics connected to your PC, including the ALPACA. So, Jupyter Notebook needs to be run **locally** (from your device), rather than from the browser. \n",
    "    \n",
    "<font color='ff822d' size=6> 📝 </font> <font color='ff822d' size=4> **Todo**: </font>\n",
    "    \n",
    "\n",
    "<img src=\"https://gitlab.tudelft.nl/mwdocter/nb2214-images/-/raw/194bfd7aea3c1833cd5cc5d5d1ccbfbd21da4392/PicoPI/picopi1_12_Flowchart%20-%20Visual%20overview%20of%20workflow.jpg?inline=false\" alt=\"Visual overview of programming environment\" width=50% style=\"float:right\"></img>\n",
    "\n",
    "1. Download the Notebook from the toolbar at the top of the screen: `File` > `Download as` > `Notebook (.ipynb)`. Save the file to a convenient location on your PC, remember that location. \n",
    "\n",
    "2. Open **VSCode**. \n",
    "\n",
    "    On Windows, this can be done via the Start menu. Alternatively, the pressing the Windows key will bring up a search bar in which `VSCode` can be typed. Once the search bar highlights the appropriate application, simply press `Enter`.\n",
    "    \n",
    "    On MacOS, follow  https://www.youtube.com/watch?v=WpjE2--FSgA:\n",
    "    - access via: this can be done via `Terminal` and type `code .`. \n",
    "    - You need to have `code` command in PATH installed, once. Do this via View> Command Palette. Type `shell`, and select Shell Command: Install `code` command in PATH \n",
    "    \n",
    "IS THIS STILL TRUE:    \n",
    "    > <font size=6>ℹ️</font>\n",
    "    >\n",
    "    > <font color='00a6ed'> On a Windows machine, make sure to use Miniconda prompt, and not Windows Terminal! \n",
    "    </font>\n",
    "\n",
    "3. Once VSCode has started. You'll need to change the environment from `base (root)` to `nb2214`, if this is not the case already. This can be done via the Command Palette (Cltr+Shift+P), use Python: Select Interpreter. Search and select the one with nb2214. \n",
    "\n",
    "4. Using the terminal, navigate to the directory in which you have placed the notebook. Do can do this via opening a folder, or via code in the terminal. For navigating through folders, see https://interactivetextbooks.tudelft.nl/programming-foundations/content/chapter2/bash-commands.html. For example, if `2C Thevenin equivalent with picoPI.ipynb` is placed on the desktop, your Miniconda Prompt will look something like:\n",
    "    ```bash\n",
    "    cd \"C:\\Users\\USERNAME\\Desktop\"\n",
    "    ```\n",
    "    Pressing `Enter` will change the working directory of Miniconda. You'll notice a change in the path between `nb2214` and `>`.\n",
    "        \n",
    "        \n",
    "5. Finally, open the Jupyter Notebook \n",
    "        \n",
    "        \n",
    "6. When using the ALPACA on a local instance, you'll need to tell Jupyter that you want to **execute code on the ALPACA rather than on your computer**. Open the Kernel Picker button on the top right-hand side of the notebook (or run the Notebook: Select Notebook Kernel command from the Command Palette). Instead of `ALPACA - USB` select `ALPACA kernel`."
   ]
  },
  {
   "cell_type": "markdown",
   "id": "9f198bfd",
   "metadata": {},
   "source": [
    "\n",
    "\n",
    "\n"
   ]
  },
  {
   "cell_type": "markdown",
   "id": "2f0bebbf",
   "metadata": {
    "kernel": "MicroPython - USB"
   },
   "source": [
    "With the ALPACA you can generate and acquire digital and analog signals. \n",
    "\n",
    "Before any acquisition you need to make sure the signal is low enough, so it is safe to measure. \n",
    "\n",
    "The PicoPi can only handle voltages up to 3.3V. Therefore, it is highly recommended to test the voltage level of your output signal before connecting it to the picoPI. \n",
    "\n",
    "### Measure with the voltmeter \n",
    "You will generate a varying signal via the potmeter, and measure with the Voltmeter. This can be done without connecting the ALPACA to your laptop. \n",
    "\n",
    "* At the **potentiometer** (AKA \"potmeter\") on the Alpaca, connect the leftmost pin to +12V and the rightmost pin to -12V. +12V and -12 V can be found just below the white breadboard. \n",
    "\n",
    "<img src=\"https://gitlab.tudelft.nl/mwdocter/nb2214-images/-/raw/a894a02ef157ca15d3d118eb243245eb912ba4f0/PicoPI/picopi1_15_potmeter.jpg\" width=50% style=\"float:right\"></img>\n",
    "\n",
    "* The middle pin of the potmeter goes to the Voltmeter (left column 4th pin of the Multifunction connector on the Cria). \n",
    "\n",
    "<img src=\"https://gitlab.tudelft.nl/mwdocter/nb2214-images/-/raw/a894a02ef157ca15d3d118eb243245eb912ba4f0/PicoPI/picopi1_17_voltmeter 2.jpg\" width=50% style=\"float:right\"></img>\n",
    "\n",
    "* Turn the knob of the potmeter, and observe the polarity and voltage levels change (visualised by the LEDs of the voltmeter). \n",
    "    * negative polarity --> will damage the picopi (input pins)\n",
    "    * input voltage > 3.3 V --> again damage the picopi \n",
    "    \n",
    "Note: Make sure to first power down a circuit, so disconnect the supplies, before removing wires from the circuit. If you remove the wrong one, you could fry the picopi with a too high or negative voltage. \n",
    "\n",
    "<img src=\"https://gitlab.tudelft.nl/mwdocter/nb2214-images/-/raw/main/PicoPI/2c_voltmeter_test.jpg\" width=\"75%\"/>\n",
    "\n",
    "* Pay attention to cleaning up the circuit: **remove the signal wires first**. So first remove the wire from the middle pin. **WHY?** Well, if you remove one of the outer pins, there is no divider and current anymore, and the middle pin goes to the still attached + or -12V. \n",
    "* Luckily the middle pin was connected to the voltmeter, but if it was connected to the Analog or Digital Inputs you would have damaged your picoPI (replacement is possible, but depends on availability of our soldering expert and results in delay on your side). \n"
   ]
  },
  {
   "cell_type": "markdown",
   "id": "2ad678e3",
   "metadata": {},
   "source": [
    "## Alpaca Breadboard\n",
    "You can make a circuit with on board voltage supplies and measure with the voltmeter. All components are placed on the breadbaord. This can be done without connecting the ALPACA to your laptop. \n",
    "   \n",
    "The breadboard has the pins on a row (in the middle) and column (on the edges) connected. Therefore wisely position your resistor (vertically). :  \n",
    "    \n",
    "<img src=\"https://gitlab.tudelft.nl/mwdocter/nb2214-images/-/raw/a894a02ef157ca15d3d118eb243245eb912ba4f0/PicoPI/picopi2_4_pico1-use_breadboard.jpg\" width=70% ></img>\n",
    "\n"
   ]
  },
  {
   "cell_type": "markdown",
   "id": "7ec00591",
   "metadata": {},
   "source": [
    "##  Connect to the Alpaca \n",
    "\n",
    "Before starting, a connection to the ALPACA needs to be established. This is done by using a micro-USB cable to connect the PicoPi to a PC. In order to connect to the PicoPi, we need to know which `COM` port it is connected to. This `COM` port is simply how the computer tells apart which devices it is connected to (using a serial port interface). You might already have figured out which it is on your device. If you don't know this yet, follow the steps below:\n",
    "\n",
    "---\n",
    "**On Windows:**\n",
    "<img src=\"https://gitlab.tudelft.nl/mwdocter/nb2214-images/-/raw/a894a02ef157ca15d3d118eb243245eb912ba4f0/PicoPI/picopi1_6_device manager.jpg\" width=50% style=\"float:right\"></img>\n",
    "* Press the Windows key\n",
    "* Type \"device manager\" and hit `enter`\n",
    "* Find the category called `Ports (COM & LPT)` and press the `>` icon to open the drop-down menu\n",
    "* Here you'll find all the devices connected via `COM` ports. The exact name and number will differ from device to device, but Pico will most likely be the device called `USB Serial Device (COM#)`, where `#` is a single-digit number. In the image below, this number is 4. \n",
    "\n",
    "---\n",
    "**On MacOS:**\n",
    "* Press the `Command` + `Space`\n",
    "* In the search bar that pops up, type `Terminal`\n",
    "* When a result pops up, press enter. A command line window will open.\n",
    "* Into the command line, type the following: `ls /dev/tty.*`\n",
    "* Devices connected over serial will then be listed in the format: `screen /dev/tty.[yourSerialPortName] [yourBaudRate]`\n",
    "\n",
    "\n",
    "---\n",
    "**Now it is time to connect.** In the cell below, enter the appropraite `COM` port. Your code should look something like: \n",
    "\n",
    "`%serialconnect to --port=\"COM4\"`"
   ]
  },
  {
   "cell_type": "code",
   "execution_count": 10,
   "id": "7a556a6c",
   "metadata": {},
   "outputs": [
    {
     "name": "stdout",
     "output_type": "stream",
     "text": [
      "\u001b[34mConnecting to --port=COM3 --baud=115200 \u001b[0m\n",
      "\u001b[34mReady.\n",
      "\u001b[0m"
     ]
    }
   ],
   "source": [
    "\n",
    "%serialconnect to --port=\"COM3\" \n"
   ]
  },
  {
   "cell_type": "markdown",
   "id": "ffa2ebd6",
   "metadata": {
    "kernel": "MicroPython - USB"
   },
   "source": [
    "\n",
    "> <font size=6>ℹ️</font>\n",
    "    >\n",
    "    > <font color='00a6ed'>\n",
    "If everthing went well, the cell should give a response that looks like: \n",
    "    > </font>\n",
    ">\n",
    "> `Connecting to --port=COM4 --baud=115200`\n",
    ">\n",
    "> `Ready.`\n",
    "\n",
    "    \n",
    "> <font size=6>🔥</font>  \n",
    ">\n",
    "> <font color='ff6723'>\n",
    "> If is is not the case, please check the following:\n",
    "> \n",
    "> * Are both USB cables plugged all the way? Both into the PC and the ALPACA? \n",
    "> * Are all three LEDs (+5, +12, -12V) on, left bottom corner of the ALPACA?\n",
    "> * Did you install the ALPACA firmware (Installation step 3)?\n",
    "> * Did you change the kernel? `Kernel` > `Change Kernel` > `ALPACA - USB`\n",
    "> * If you are using a USB hub or adapter, try using a different port or removing the hub all together.\n",
    "> * Did you double check whether the COM number is correct in Device Manager (Windows) or Terminal (MacOS)?\n",
    "> * Did the cell give any alternative COM ports? Try these!\n",
    "> * Ask a friend or a TA for help!\n",
    "> </font>"
   ]
  },
  {
   "cell_type": "markdown",
   "id": "152a8589",
   "metadata": {},
   "source": [
    "## Generate a sine with the DAC \n",
    "\n",
    "With the onboard DAC, you can generate a DC but also an AC signal. The outputpin to connect to is DAC-A. For testing the code below, cnnect DAC-A to the onboard Vltmeter. \n",
    "Run the code below and see whether you measured a signal.\n",
    "\n",
    "See the ALPACA code manual for more output functions of the FuncGen. "
   ]
  },
  {
   "cell_type": "code",
   "execution_count": 12,
   "id": "7f1f3484",
   "metadata": {},
   "outputs": [
    {
     "name": "stdout",
     "output_type": "stream",
     "text": [
      "[3.276585]\n"
     ]
    }
   ],
   "source": [
    "from functiongenerator import FuncGen, Sine\n",
    "from machine import ADC, Pin\n",
    "import time\n",
    " \n",
    "a0 = ADC(26)\n",
    "#a1 = ADC(27)\n",
    "samples = []\n",
    "\n",
    "with FuncGen(Sine(Vpp=2, offset=2, freq=25)):\n",
    "    time.sleep(10)\n",
    "\n"
   ]
  },
  {
   "cell_type": "markdown",
   "id": "841c61cb",
   "metadata": {},
   "source": [
    "## Generate a signal with a digital pin out\n",
    "You can also generate a signal from a digital pin. Select the pin as output, connect it to the voltmeter and observe its functioning:"
   ]
  },
  {
   "cell_type": "code",
   "execution_count": null,
   "id": "68636622",
   "metadata": {},
   "outputs": [],
   "source": [
    "from machine import ADC, Pin\n",
    "import time\n",
    "\n",
    "import matplotlib.pyplot as plt\n",
    "import numpy as np\n",
    "\n",
    "from machine import Pin\n",
    "Dout = Pin(14, Pin.OUT) \n",
    "\n",
    "for ii in range(1000):\n",
    "    time.sleep_ms(1)\n",
    "    if ii == 50: # Do this once, and don't forget to turn it off once the loop ends\n",
    "        Dout.value(True)\n",
    "        print(ii, \"samples acquired\\nEnabling Dout0 (Pin GP14)\\n\")\n",
    "Dout.value(False)\n"
   ]
  },
  {
   "cell_type": "markdown",
   "id": "df1bebe6",
   "metadata": {},
   "source": [
    "## Record data with analog input pin(s)\n",
    "\n",
    "While you could connect the signals you want to acquire to the Ain0 pins on the Cria direclty, the prefered way is through the ADCs, which are located at the top right of the ALPACA. These circuits remove the negative part and the too high voltage levels before the signal reaches the input channel of the picopi. \n",
    "\n",
    "One needs to set jumpers, which are small black blocks connecting two neighboring pins. \n",
    "\n",
    "Set the jumpers as follows:\n",
    "\n",
    "<img src=\"https://gitlab.tudelft.nl/mwdocter/nb2214-images/-/raw/main/PicoPI/picopi_default_jumpers.jpg\" width=100% ></img>\n",
    "\n",
    "This is how the jumpers for channel 1 look like in reality:\n",
    "\n",
    "<img src=\"https://gitlab.tudelft.nl/mwdocter/nb2214-images/-/raw/main/PicoPI/picopi4_2_jumper_pos_explanation.jpg\" width=100% ></img>\n",
    "\n"
   ]
  },
  {
   "cell_type": "markdown",
   "id": "110def81",
   "metadata": {},
   "source": [
    "Connect DAC-A to ADC0 - signal+, before running the next code. The FuncGen generates a signal on pin DAC-A, and the ADC0 is connected via the jumpers to a0. "
   ]
  },
  {
   "cell_type": "code",
   "execution_count": 2,
   "id": "d04bf898",
   "metadata": {},
   "outputs": [
    {
     "name": "stdout",
     "output_type": "stream",
     "text": [
      "\u001b[31mNo serial connected\n",
      "\u001b[0m  %serialconnect to connect\n",
      "  %esptool to flash the device\n",
      "  %lsmagic to list commands"
     ]
    }
   ],
   "source": [
    "from functiongenerator import FuncGen, Sine\n",
    "from machine import ADC, Pin\n",
    "import time\n",
    " \n",
    "a0 = ADC(26)\n",
    "#a1 = ADC(27)\n",
    "samples = []\n",
    "\n",
    "with FuncGen(Sine(Vpp=2, offset=2, freq=25)):\n",
    "    voltage = a0.read_u16() * 5.0354e-05 \n",
    "    ## 3.3V corresponds to 32 bits, or 2**32=65536. From this you can derive the conversion factor 5.034e-05\n",
    "    samples.append(voltage)\n",
    "print(samples)\n",
    "\n"
   ]
  },
  {
   "cell_type": "markdown",
   "id": "a255169d",
   "metadata": {},
   "source": [
    "> <font size=6>🔥</font>  \n",
    ">\n",
    "> * If the measured value is far off and close to 0.07V: <br> this is the noise on an open channel. Most likely you have not yet connected the wire to the correct analog input channel\n"
   ]
  },
  {
   "cell_type": "markdown",
   "id": "dbe3ef9f",
   "metadata": {},
   "source": [
    "## ALPACA's amplifier & attenuator - into depth\n",
    "\n",
    "### AC-DC coupling\n",
    "Similar to the scope in the studio classroom, we can switch between AC and DC coupling mode.\n",
    "\n",
    "<font color='ff822d' size=6> 📝 </font> <font color='ff822d' size=4> **Todo**: </font>\n",
    "\n",
    "* Use the jumper closest to the SIGNAL+ pins of the amplifier to switch the AMP0 IN amplfier between the AC/DC coupling modes.\n",
    "* Note that this corresponds to the top jumper in blue circle in the illustration above showing the jumper settings.\n",
    "* Having the jumper be on the pins sets the input to DC coupling, whilst having it off sets the input to AC coupling.\n",
    "\n",
    "###  DC offset \n",
    "    \n",
    "<font color='ff822d' size=6> 📝 </font> <font color='ff822d' size=4> **Todo**: </font>\n",
    "* For this purpose connect a jumper over the pins called: *WITH OFFSET*, on the amplifier corresponding to *AMP0 IN*. See the image below for the correct jumper settings.\n",
    "* The jumpers for *AMP1 IN* should not be changed.\n",
    "* Put *AMP0 IN* in DC coupling mode again.\n",
    "\n",
    "<div>\n",
    "<img src=\"https://gitlab.tudelft.nl/mwdocter/nb2214-images/-/raw/main/PicoPI/picopi8_4_offset_jumper.jpg\" width=\"50%\"/>\n",
    "</div>\n",
    "\n",
    "The potentiometer above AMP0 IN can now be used to regulate the DC offset that is added to the signal. <br>\n",
    "Regulate the DC offset of the signal such that the entire output signal can now be visualized. To make it easy to find the right setting for the potentiometer, you can use a special plotting mode unique to NB2211 that allows you to plot the data live. <br>\n",
    "This function is called `plt.liveplot`. When a number is put into `plt.liveplot`, e.g. `plt.liveplot(x)`, the value `x` will be added as a point on the plot. Note: this only works if the cell containing `plt.liveplot` starts with the \"magic command\" `%plot --mode live`\n",
    "    \n",
    "> <font size=6>🔥</font>  \n",
    ">\n",
    "> <font color='ff6723'> \n",
    ">\n",
    "> **WARNING** There is a bug in the Firefox browser that makes the plot flicker. If you are sensitive to this: **BE CAREFUL**\n",
    "> * For most people the flicker is really annoying anyways. Switching to any other browser will resolve this.\n",
    "> * The following browsers are have been tested and have been shown to produce smooth images: Edge (Windows), Safari (macOS).\n",
    "> </font> \n",
    "\n",
    "<font color='ff822d' size=6> 📝 </font> <font color='ff822d' size=4> **Todo**: </font>\n",
    "* Use the live plot to acquire the full signal. Turning the potentiometer clockwise will increase the DC offset, turning it counter-clockwise will lower the DC offset.\n",
    "    * The range is finicky, so you will need to adjust carefully"
   ]
  },
  {
   "cell_type": "code",
   "execution_count": null,
   "id": "bf2d3bfe",
   "metadata": {},
   "outputs": [],
   "source": [
    "%serialconnect to --port=\"COM3\" \n",
    "#ADD COM PORT ABOVE, e.g. --port=\"COM3\""
   ]
  },
  {
   "cell_type": "code",
   "execution_count": null,
   "id": "3242fcd8",
   "metadata": {},
   "outputs": [],
   "source": [
    "%plot --mode live\n",
    "\n",
    "import time\n",
    "import numpy as np\n",
    "import matplotlib.pyplot as plt\n",
    "from machine import ADC\n",
    "from functiongenerator import FuncGen, Sine\n",
    "\n",
    "# Instantiate two measurement pints, one for Ain0 the other for Ain1 to measure the input and output signal\n",
    "adc0 = ADC(26) \n",
    "adc1 = ADC(27)\n",
    "\n",
    "with FuncGen(Sine(Vmax=0.5, Vmin=0, freq=1)):\n",
    "    \n",
    "    time.sleep_ms(100)\n",
    "    \n",
    "    for ii in range(400):\n",
    "        input_signal = adc1.read_u16()\n",
    "        output_signal = adc0.read_u16()\n",
    "        input_signal = input_signal / 65535 * 3.3\n",
    "        output_signal = output_signal / 65535 * 3.3\n",
    "        plt.liveplot(input_signal , output_signal, labels = ['Input', 'Output'])\n",
    "        time.sleep_ms(100)"
   ]
  },
  {
   "cell_type": "markdown",
   "id": "46b44449",
   "metadata": {},
   "source": [
    "### setting Amplification and attenuation\n",
    "\n",
    "In the following image the schematic on the left, the circuit diagram on the middle, and the actual implementation are shown.\n",
    "\n",
    "<div>\n",
    "<img src=\"https://gitlab.tudelft.nl/mwdocter/nb2214-images/-/raw/main/PicoPI/Alpaca_jumpers_ADCs.jpg\" width=\"200%\"/>\n",
    "</div>\n",
    "\n",
    "The jumper placements for the attenuator (J42, or J62) can be set when the amplifier jumpers are placed in location 'B' (1x amplification). The attenuator jumpers then correspond to:\n",
    "* A, jumper on top:    1:2\n",
    "* B, jumper on right:  1:1 \n",
    "* C, jumper on bottom: 1:3\n",
    "* D, jumper on left:   1:4\n",
    "* E, no jumper at all: 1:10\n",
    "\n",
    "For the amplifier, first set the attenuator (J42, or J62) to position 'A'. \n",
    "The jumpers that correspond to the gain are GAIN+ (AMP0:J43, AMP1:J63),  and GAIN- (AMP0:J45, AMP1:J65). Both jumpers need to be set equally, to:\n",
    "* A, jumper on top:     2x\n",
    "* B, jumper on right:   1x\n",
    "* C, jumper on bottom:  5x\n",
    "* D, jumper on left:    6x\n",
    "* E, no jumper at all: 10x"
   ]
  },
  {
   "cell_type": "markdown",
   "id": "08de42d3",
   "metadata": {},
   "source": [
    "## DAC assistant - into depth\n",
    "\n",
    "On the right hand side of the ALPACA, you find the *DAC ASSISTANT*. When you connect your signal from DAC-A (or DAC-B) to `+IN`, then the `OUT` will be defined as follows (with $V_\\mathrm{zener}$ = 2.048 V)\n",
    "\n",
    "$$ V_\\mathrm{OUT}= 5 \\cdot (V_\\mathrm{+IN} - V_\\mathrm{zener}) \\tag{6}$$\n",
    "\n",
    "Using this *DAC assistant* you can turn the purely positive signals from *+IN* into signals that both positive and negative value at *OUT*. You'll be using this to turn the purely postive singals from the ALPACA's *DAC* into signals that also have a negative component.\n",
    "\n",
    "> <font size=5>ℹ️</font>\n",
    "> <font color='00a6ed'>\n",
    "> Note that because of the properties of the *DAC ASSISTANT* as described in equation **(6)** you will have to modify your values you plug into the `FuncGen` code. Doing so can be done by rewriting equation **(6)**: $V_\\mathrm{+IN} = \\frac{V_\\mathrm{OUT}}{5} + V_\\mathrm{zener}$\n",
    "\n",
    "<!--\n",
    "This signal at *OUT*, however will not strictly have an average of at 0 V. You can correct this using a voltage from a potmeter, such that the average will become zero. For now the connections are given, the tuning will be done later:  \n",
    "* *DAC A* goes to *IN* at the *DAC ASSISTANT*.\n",
    "* potmeter outer pins go to 0 and 5 V\n",
    "* middle pin potmeter goes to DAC assist add1\n",
    "\n",
    "### step 2: adapt the max amplitude of the DAQ assistant output\n",
    "The DAC assist output is too big, therefore reduce the voltage by using a voltage divider with a factor of 10. The following implementation is done on the breadboard. Another (not shown) implementation is by using one of the onboard amplifiers in attenuation setting; check the Alpaca manual on BrightSpace how to do that). \n",
    "* make a voltage divider with 22k as R1, and 220 k as R2. \n",
    "* Connect DAC assist out to R1, R1 to R2, and R2 to ground. \n",
    "* then use the voltage at the R1-R2 crossing as input voltage for the integrator.\n",
    " -->\n",
    "    \n",
    "The circuit can be used as an amplifying inverting adder as well. Check out the ALPACA manual for more details. \n",
    "    \n",
    "IMPORTANT: In order to make use of the DAC-assistant the +12V and -12V should be switched on!\n"
   ]
  },
  {
   "cell_type": "code",
   "execution_count": null,
   "id": "a4d1bfc2",
   "metadata": {},
   "outputs": [],
   "source": []
  }
 ],
 "metadata": {
  "celltoolbar": "Create Assignment",
  "kernelspec": {
   "display_name": "Alpaca Kernel",
   "language": "python",
   "name": "alpaca"
  },
  "language_info": {
   "codemirror_mode": {
    "name": "ipython",
    "version": 3
   },
   "file_extension": ".py",
   "mimetype": "text/x-python",
   "name": "python",
   "nbconvert_exporter": "python",
   "pygments_lexer": "ipython3",
   "version": "3.10.14"
  }
 },
 "nbformat": 4,
 "nbformat_minor": 5
}
