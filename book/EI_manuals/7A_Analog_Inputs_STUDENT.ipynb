{
 "cells": [
  {
   "cell_type": "code",
   "execution_count": null,
   "metadata": {},
   "outputs": [],
   "source": [
    "from IPython.core.display import HTML\n",
    "def set_width(width):\n",
    "    display(HTML(f\"\"\"<style>  \n",
    "            .container {{ width:{width}% !important; \n",
    "                            min-width:800px !important; margin: 0 auto}} \n",
    "            .jp-Cell {{ width:{width}% !important; \n",
    "                            min-width:800px !important; margin: 0 auto}} </style>\"\"\"))\n",
    "# Set container width to X% of the fullscreen \n",
    "set_width(50)"
   ]
  },
  {
   "cell_type": "markdown",
   "metadata": {},
   "source": [
  "# 7A: Acquire Analog Inputs\n",
    "\n",
    "> <font color='blue'>Learning goals:</font> You will learn how to acquire analog signals using a Data Acquisition (DAQ) board. \n",
    "\n",
    "Structure of an experiment:\n",
    "- Background+Anticipate (+ Simulate) (40 min): per person. This is homework and should be finished **before** you start your 4 hours practicum session\n",
    "- Implement + Investigate (50 min): with your partner(group of 2)\n",
    "- Compare + Conclude (5 min): with a group of 4(per table)\n"
   ]
  },
  {
   "cell_type": "markdown",
   "metadata": {},
   "source": [
    "In a previous exercise, you confirmed that the NI-DAQ board was configured correctly.\n",
"\n",
    "REMEMBER TO SAVE THE FILE IN H: DRIVE, NOT C: DRIVE"
   ]
  },
  {
   "cell_type": "markdown",
   "metadata": {},
   "source": [
    "## BACKGROUND: \n",
    "> <font color='grey'>⏳ Estimated time: 10 min</font>\n",
    "\n",
    "An analog signal is continuous and smooth. They may have a limited range of values such as the sine wave (which is an analog signal) shown below, however there are still an infinite number of possible values within this range. \n",
    "\n",
    "<img src=\"https://gitlab.tudelft.nl/mwdocter/nb2214-images/-/raw/main/PyDAQ-Next/7A_Sinewave_background.jpg\" width=40%></img>\n",
    "\n",
    "On the other hand digital signals, as you have worked with last week, have only a finite set of possible values. Most commonly digitial signals will have two possible values such as 0V or 4V. An example of this digital signal is shown below \n",
    "\n",
    "<img src=\"https://gitlab.tudelft.nl/mwdocter/nb2214-images/-/raw/main/PyDAQ-Next/Digital%20signal%20example%20background.png\" width=50%></img>\n",
    "\n",
    "In this assignment you will take digital measurements of an analog signal. Depending on the bit depth of the Analog to Digital converter (ADC), the difference between the measured digital and actual analog input value can be smaller or larger. For better accuracy higher bit depth is better, but then your data set is larger/ will need more memory on the computer. <br>\n",
    "In the timing you also have some kind of accuracy. If you take one measurement of a constant value, the exact time of acquisition does not matter. But what if the input signal is time varying, like a sine. Then you should think about how to sample properly in order to have the measured (digital) signal to resemble a sine as well.<br>\n",
    "You'll explore this concept in this assignment. "
   ]
  },
  {
   "cell_type": "markdown",
   "metadata": {},
   "source": [
    "## ANTICIPATE: Most accurate measurement of a time-varying signal\n",
    "> <font color='grey'>⏳ Estimated time: 20 min</font>\n",
    "\n",
    "In this practical we will take two approaches to record a sine wave with the DAQ board: \n",
    "1. A for loop over a single measurement. (With `time.sleep()` we will add a delay in between measurements) = `for` loop\n",
    "2. A multipoint measurement( a sequency of measurements) at predetermined time points. = Timed acquisition\n",
    "\n",
    "For you to answer:\n",
    "* Argue why both approaches should give the same outcome?\n",
    "* Argue why both approaches give a different outcome, especially for little to no waiting time?\n",
    "* What do you think will happen, same outcome or not?\n",
    "\n",
    "> ### <font color='blue'>Hints:</font>\n",
    "> * does a one point measurement take considerable amount of time?\n",
    "> * do processes running at the computer's bakcground take considerable amount of time?"
   ]
  },
  {
   "cell_type": "code",
   "execution_count": null,
   "metadata": {
    "lines_to_next_cell": 2
   },
   "outputs": [],
   "source": [
    "### TO DO=\"your arguments plus prediction\"\n"
   ]
  },
  {
   "cell_type": "markdown",
   "metadata": {},
   "source": [
    "The importance of this might be hard to see when when doing not precise measurements. \n",
    "If you want to explore this topic more, feel free to visit https://pynative.com/python-get-execution-time-of-program/"
   ]
  },
  {
   "cell_type": "markdown",
   "metadata": {},
   "source": [
    "Feel free to watch this 2022 precap, which introduces you to the Analog input code: \n",
"* https://www.youtube.com/watch?v=SutAT5PpFqw"
   ]
  },
  {
   "cell_type": "markdown",
   "metadata": {},
   "source": [
    "## SIMULATE: already work on the code of I&I1\n",
    "> <font color='grey'>⏳ Estimated time: 10 min</font>"
   ]
  },
  {
   "cell_type": "markdown",
   "metadata": {},
   "source": [
    "## IMPLEMENT & INVESTIGATE 1: Single channel with a for loop\n",
    "> <font color='grey'>⏳ Estimated time: 30 min</font>\n",
    "\n",
    "**Exercise 1: Single acquisition**\n",
    "\n",
    "To get you acquainted with the analog inputs of the DAQ board, we will first take a single voltage measurement.\n",
    "\n",
    "For interacting with the DAQ board, we will use `nidaqmx`. \n",
    "* You can find some documentation about this package here: https://nidaqmx-python.readthedocs.io/en/latest/.\n",
    "We will also use some other packages. That some time to look at imported libraries in the code below.\n",
    "\n",
    "Connect the function generator output to Dev1/ai0. Set it to a sine wave with a frequency of 1 Hz and an amplitude of 1 V. \n",
    "Run the following cell:"
   ]
  },
  {
   "cell_type": "code",
   "execution_count": null,
   "metadata": {},
   "outputs": [],
   "source": [
    "## Import all required libraries/ functions\n",
    "import nidaqmx\n",
    "import numpy as np\n",
    "import matplotlib.pyplot as plt\n",
    "import time\n",
    "from nidaqmx.constants import AcquisitionType, Edge, LineGrouping\n",
    "\n",
    "## Defining a system for nidaqmx. We will assign a DAQ task to it later on.\n",
    "system = nidaqmx.system.System.local()\n",
    "system.driver_version # Uncomment if you want to see the driver version\n",
    "\n",
    "# Define a task, assign a channel, do a measurement\n",
    "with nidaqmx.Task() as task:\n",
    "    task.ai_channels.add_ai_voltage_chan(\"Dev1/ai0\")\n",
    "    measurement=task.read()\n",
    "\n",
    "print(measurement)"
   ]
  },
  {
   "cell_type": "markdown",
   "metadata": {},
   "source": [
    "As you see, one measurement is not enough to grasp an alternating voltage. Therefore, we will now develop a way to measure multiple samples after each other .\n",
    "\n",
    "**Exercise 2: Multiple acquisitions using a for-loop**\n",
    "\n",
    "To do multiple acquisition, we will try to recycle the previous code in a `for` loop.\n",
    "\n",
    "Complete this piece of code into a for loop that measures 200 samples."
   ]
  },
  {
   "cell_type": "code",
   "execution_count": null,
   "metadata": {},
   "outputs": [],
   "source": [
    "number_of_samples = 200\n",
    "measurement = ...... # initialisation where the measurements will be stored, np.zeros()\n",
    "# Define a task, assign a channel, do a measurement\n",
    "with nidaqmx.Task() as task:\n",
    "    \n",
    "    # add the channel \"Dev1/ai0\"\n",
    "    task. .........\n",
    "    \n",
    "    \n",
    "    for ii in range(......):\n",
    "        \n",
    "        # measure a sample with task.read(), assign it to something with measurement\n",
    "        measurement.........\n",
    "        \n",
    "\n",
    "# plot measurement\n",
    "........."
   ]
  },
  {
   "cell_type": "code",
   "execution_count": null,
   "metadata": {},
   "outputs": [],
   "source": []
  },
  {
   "cell_type": "markdown",
   "metadata": {},
   "source": [
    "Look at your plot. Does it resemble the expected sine wave that you entered into the function generator?\n",
    "\n",
    "Most likely not, because you did not pay attention to the timing settings.\n",
    "\n",
    "You should define a certain sampling rate and the total number of samples. \n",
    "\n",
    "## IMPLEMENT & INVESTIGATE 2: Timed acquisition\n",
    "> <font color='grey'>⏳ Estimated time: 20 min</font>\n",
    "\n",
    "**Exercise 3: Timed acquisition, single channel**\n",
    "\n",
    "Using the following command you can add the sampling rate and the total number of samples:\n",
    "\n",
    "``task.timing.cfg_samp_clk_timing(rate=......, samps_per_chan=.......)``\n",
    "\n",
    "No need anymore for a for loop, so use the code of Exercise 1 and the above command in the code below. \n",
    "\n",
    "Measure a signal of 10 Hz for one second. Include a figure with a proper time axis.\n",
    "\n",
    "> ### <font color='blue'>Hint:</font>\n",
    "> 1. Make sure you store all measurements without overwriting! That means **fill in inside the brackets for task.read()**"
   ]
  },
  {
   "cell_type": "code",
   "execution_count": null,
   "metadata": {},
   "outputs": [],
   "source": [
    "##code for students\n",
    "sampling_rate = 5000\n",
    "number_of_samples = ....... # measure one second\n",
    "\n",
    "with nidaqmx.Task() as task:\n",
    "    ..................... # task add channel\n",
    "    ..................... # task timing\n",
    "    ..................... # measurement\n",
    "\n",
    "#Plotting\n",
    "time=.................... # an array depending on number_of_samples and sampling_rate, use np.arange()\n",
    "plt.plot(time, measurement2, '-*' )"
   ]
  },
  {
   "cell_type": "code",
   "execution_count": null,
   "metadata": {},
   "outputs": [],
   "source": []
  },
  {
   "cell_type": "markdown",
   "metadata": {},
   "source": [
    "### Keep this piece of code; you will reuse it in coming exercises!\n",
    "\n",
    "**Exercise 4: Timed acquisition, multiple channel** <br>\n",
    "For multiple channels, to be used to for example measure $V_{in}$ and $V_{out}$ at the same time, you need to add two channels. In code that would be:\n",
    "\n"
   ]
  },
  {
   "cell_type": "code",
   "execution_count": null,
   "metadata": {},
   "outputs": [],
   "source": [
    "with nidaqmx.Task() as task:\n",
    "    \n",
    "        task.ai_channels.add_ai_voltage_chan(\"Dev1/ai0\")\n",
    "        task.ai_channels.add_ai_voltage_chan(\"Dev1/ai1\")"
   ]
  },
  {
   "cell_type": "markdown",
   "metadata": {},
   "source": [
    "Your data will be 2 dimensional.<br> Copy plus adapt your previous 1 channel code, and adapt it for two channels. Test it by acquiring the function generators output in one channel, and the SYNC signal in the other. "
   ]
  },
  {
   "cell_type": "code",
   "execution_count": null,
   "metadata": {},
   "outputs": [],
   "source": [
    "# copy +adapt your previous code to 2 channels\n",
    "\n",
    "plt.plot(time, data_OUTPUT,'b')\n",
    "plt.plot(time,data_SYNC,'r')"
   ]
  },
  {
   "cell_type": "code",
   "execution_count": 1,
   "metadata": {},
   "outputs": [
    {
     "ename": "NameError",
     "evalue": "name 'nidaqmx' is not defined",
     "output_type": "error",
     "traceback": [
      "\u001b[1;31m---------------------------------------------------------------------------\u001b[0m",
      "\u001b[1;31mNameError\u001b[0m                                 Traceback (most recent call last)",
      "Input \u001b[1;32mIn [1]\u001b[0m, in \u001b[0;36m<cell line: 7>\u001b[1;34m()\u001b[0m\n\u001b[0;32m      4\u001b[0m sampling_rate \u001b[38;5;241m=\u001b[39m \u001b[38;5;241m5000\u001b[39m\n\u001b[0;32m      5\u001b[0m number_of_samples \u001b[38;5;241m=\u001b[39m \u001b[38;5;241m5000\u001b[39m \u001b[38;5;66;03m# measure one second\u001b[39;00m\n\u001b[1;32m----> 7\u001b[0m \u001b[38;5;28;01mwith\u001b[39;00m \u001b[43mnidaqmx\u001b[49m\u001b[38;5;241m.\u001b[39mTask() \u001b[38;5;28;01mas\u001b[39;00m task:\n\u001b[0;32m      9\u001b[0m         task\u001b[38;5;241m.\u001b[39mai_channels\u001b[38;5;241m.\u001b[39madd_ai_voltage_chan(\u001b[38;5;124m\"\u001b[39m\u001b[38;5;124mDev1/ai0\u001b[39m\u001b[38;5;124m\"\u001b[39m)\n\u001b[0;32m     11\u001b[0m         task\u001b[38;5;241m.\u001b[39mtiming\u001b[38;5;241m.\u001b[39mcfg_samp_clk_timing(rate\u001b[38;5;241m=\u001b[39msampling_rate, samps_per_chan\u001b[38;5;241m=\u001b[39mnumber_of_samples)\n",
      "\u001b[1;31mNameError\u001b[0m: name 'nidaqmx' is not defined"
     ]
    }
   ],
   "source": []
  },
  {
   "cell_type": "markdown",
   "metadata": {},
   "source": [
    "## SAVE YOUR FILE IN H: DRIVE, OTHERWISE YOU WILL LOSE IT"
   ]
  },
  {
   "cell_type": "markdown",
   "metadata": {},
   "source": [
    "## EXPLAIN & EVALUATE\n",
    "> <font color='grey'>⏳ Estimated time: 5 min</font>\n",
    "* Wait till all (4) group members finish their observation\n",
    "* Compare your results with your other group members. \n",
    "* If your results agree, and are in line with all predictions, then talk to a TA and get checked off\n",
    "* Otherwise, so if your results do not agree, or your results are not in line with your predictions, then first discuss amongst your group before getting a TA. \n",
    "\n",
    "* Make sure that you understand all these pieces of code well enough to use and adapt them yourself. You will need to use similar code in coming exercises.\n",
    "\n",
    "**First discuss within your group, and then with the TA**\n",
    "1. your evaluation: explain whether and why timed acquisition is better?\n",
    "2. exit card: 1. Write a brief abstract on what you learned (conclusion, useful graph), 2. Which troubleshooting skills do you want to remember for next sessions, 3. Which code do you copy for use in next sessions,\n",
    "3. How do think this notebook could be improved"
   ]
  },
  {
   "cell_type": "code",
   "execution_count": 1,
   "metadata": {},
   "outputs": [],
   "source": [
    "#7A analog input\n",
    "### TO DO=\"explain whether and why timed acquisition is better?\"\n",
    "\n",
    "### TO DO=\"2a. abstract\"\n",
    "\n",
    "### TO DO=\"2b. troubleshooting\"\n",
    "\n",
    "### TO DO=\"2c. code\"\n",
    "\n",
    "### TO DO=\"3. what changes would you suggest?\"\n"
   ]
  },
  {
   "cell_type": "code",
   "execution_count": null,
   "metadata": {},
   "outputs": [],
   "source": [
    "# no recording this time. We totally believe you can do this yourself!"
   ]
  }
 ],
 "metadata": {
  "celltoolbar": "Create Assignment",
  "jupytext": {
   "formats": "ipynb,md"
  },
  "kernelspec": {
   "display_name": "Python 3 (ipykernel)",
   "language": "python",
   "name": "python3"
  },
  "language_info": {
   "codemirror_mode": {
    "name": "ipython",
    "version": 3
   },
   "file_extension": ".py",
   "mimetype": "text/x-python",
   "name": "python",
   "nbconvert_exporter": "python",
   "pygments_lexer": "ipython3",
   "version": "3.7.12"
  },
  "latex_envs": {
   "LaTeX_envs_menu_present": true,
   "autoclose": false,
   "autocomplete": true,
   "bibliofile": "biblio.bib",
   "cite_by": "apalike",
   "current_citInitial": 1,
   "eqLabelWithNumbers": true,
   "eqNumInitial": 1,
   "hotkeys": {
    "equation": "Ctrl-E",
    "itemize": "Ctrl-I"
   },
   "labels_anchors": false,
   "latex_user_defs": false,
   "report_style_numbering": false,
   "user_envs_cfg": false
  },
  "toc": {
   "base_numbering": 1,
   "nav_menu": {},
   "number_sections": true,
   "sideBar": true,
   "skip_h1_title": false,
   "title_cell": "Table of Contents",
   "title_sidebar": "Contents",
   "toc_cell": false,
   "toc_position": {},
   "toc_section_display": true,
   "toc_window_display": false
  }
 },
 "nbformat": 4,
 "nbformat_minor": 4
}
