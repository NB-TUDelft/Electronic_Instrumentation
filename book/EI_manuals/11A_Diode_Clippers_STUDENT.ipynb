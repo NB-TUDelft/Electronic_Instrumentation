{
 "cells": [
  {
   "cell_type": "code",
   "execution_count": null,
   "metadata": {},
   "outputs": [],
   "source": [
    "from IPython.core.display import HTML\n",
    "def set_width(width):\n",
    "    display(HTML(f\"\"\"<style>  \n",
    "            .container {{ width:{width}% !important; \n",
    "                            min-width:800px !important; margin: 0 auto}} \n",
    "            .jp-Cell {{ width:{width}% !important; \n",
    "                            min-width:800px !important; margin: 0 auto}} </style>\"\"\"))\n",
    "# Set container width to X% of the fullscreen \n",
    "set_width(50)"
   ]
  },
  {
   "cell_type": "markdown",
   "metadata": {},
   "source": [
    "# 11A - Diode Clippers\n",
    "><font color='blue'>Learning goal:</font> understand how diodes can lead to clipping of a signal and how to recognize these signals in a classroom setting\n",
    "Experiments of this week:\n",
    "-   experiment 11A: make diode clippers\n",
    "-   experiment 11B: build diode rectifier\n",
    "-   experiment 11C: build a diode bridge\n",
    "\n",
    "Structure of an experiment:\n",
    "- Background+Anticipate+ Simulate:  per person; 55 min.\n",
    "- Implement + Investigate:  with your partner (group of 2); 50 min.\n",
    "- Compare + Conclude:  with a group of 4 (per table); 10 min."
   ]
  },
  {
   "cell_type": "markdown",
   "metadata": {
    "nbgrader": {
     "grade": false,
     "grade_id": "cell-6c1c1d9274495e8b",
     "locked": true,
     "solution": false
    }
   },
   "source": [
    "Materials used:\n",
    "- Test board 1\n",
    "- Function generator\n",
    "- Oscilloscope\n",
    "\n"
   ]
  },
  {
   "cell_type": "markdown",
   "metadata": {},
   "source": [
    "## BACKGROUND Clippers:\n",
    "\n",
    "Read the appropriate sections of the book (see schedule on BrightSpace), and watch the following video: \n",
    " * https://www.youtube.com/watch?v=4O4Qf2TgXwU"
   ]
  },
  {
   "cell_type": "markdown",
   "metadata": {},
   "source": [
    "Following are the highlights of the video in text, read them carefully. \n",
    "\n",
    "A diode is a polarity sensitive switch, the plus side is called anode, the minus side is called cathode. Only if the **voltage at the anode is higher than at the cathode, the diode is conducting**. \n",
    "\n",
    "<img src=\"https://gitlab.tudelft.nl/mwdocter/nb2214-images/-/raw/main/LTS/LTS5e_diode_anode_cathode.JPG\" width=30%></img>\n",
    "\n",
    "The above description is a simplified model of the diode. A better approximation is the following, with a voltage drop of 0.7 V over the diode, and a linear I-V charateristic for V larger than the voltage drop, modeled by R_on of 10 Ohms.\n",
    "\n",
    "<img src=\"https://gitlab.tudelft.nl/mwdocter/nb2214-images/-/raw/main/LTS/LTS5e_diode_approximation.JPG\" width=60%></img>\n"
   ]
  },
  {
   "cell_type": "markdown",
   "metadata": {},
   "source": [
    "Although the behavior of a diode is simple, diode circuits can be really complicated. In this simulation exercise we will look at a number of circuits, most of them you will explore during the practical assignments.\n",
    "\n",
    "## ANTICIPATE 1: simple diode circuit\n",
    "> <font color='grey'>⏳ Estimated time: 15 min</font>\n",
    "\n",
    "In the following schematic only one resistor, one diode and a voltage source is used. Predict Vout0 and Vout1 through the following steps:\n",
    "* what are the voltages on both sides of the diode?\n",
    "* when starts the diode conducting?\n",
    "* what will be the output voltage?\n",
    "* when will there be current through the diode?\n",
    "<img src=\"https://gitlab.tudelft.nl/mwdocter/nb2214-images/-/raw/main/LTS/LTS5e_two_simplest_diode_circuits.JPG\" width=100%></img>"
   ]
  },
  {
   "cell_type": "code",
   "execution_count": null,
   "metadata": {},
   "outputs": [],
   "source": [
    "### TO DO=\"your predict1 for the above two circuits\"\n",
    "\n"
   ]
  },
  {
   "cell_type": "markdown",
   "metadata": {},
   "source": [
    "## ANTICIPATE 2: Advanced clipper circuit\n",
    "> <font color='grey'>⏳ Estimated time: 10 min</font>\n",
    "\n",
    "Diodes can be used together with a voltage divider or with a capacitor in series of the voltage source:\n",
    "\n",
    "Similar to the previous prediction, answer the following questions for Vout3 and Vout4:\n",
    "* when starts the diode conducting?\n",
    "* what will be the output voltage?\n",
    "\n",
    "<img src=\"https://gitlab.tudelft.nl/mwdocter/nb2214-images/-/raw/main/LTS/LTS5e clipper advanced.jpg\" width=50%></img> \n",
    "\n",
    "Vin is a sine with 16 Vpp (or 8 Vp), and 1 kHz\n"
   ]
  },
  {
   "cell_type": "code",
   "execution_count": null,
   "metadata": {},
   "outputs": [],
   "source": [
    "### TO DO=\"your predict2 for the clipper \"\n",
    "\n"
   ]
  },
  {
   "cell_type": "markdown",
   "metadata": {},
   "source": [
    "## SIMULATE 1: simple diode circuit in LTSpice\n",
    "\n",
    "> <font color='grey'>⏳ Estimated time: 10 min</font>\n",
    "\n",
    "Put the two 'simple' circuits in LTSpice. Insert your screendumps of the LTSpice circuit+simulated signals."
   ]
  },
  {
   "cell_type": "code",
   "execution_count": null,
   "metadata": {},
   "outputs": [],
   "source": [
    "from ipywidgets import FileUpload\n",
    "from IPython.display import Image\n",
    "\n",
    "upload=FileUpload()\n",
    "upload"
   ]
  },
  {
   "cell_type": "code",
   "execution_count": null,
   "metadata": {},
   "outputs": [],
   "source": [
    "import os\n",
    "file_name=\"11A_first_sim_diode.jpg\"\n",
    "if upload.value!={}:\n",
    "    with open(file_name,\"wb\") as f:\n",
    "        try: f.write(upload.data[-1]) # python 3.7 Kernel code, not working on Vocareum\n",
    "        except: f.write(upload.value[-1][\"content\"])  # python 3.8 Kernel code, change kernel in Vocareum!\n",
    "Image(filename=file_name, width=\"50%\")"
   ]
  },
  {
   "cell_type": "code",
   "execution_count": null,
   "metadata": {},
   "outputs": [],
   "source": [
    "##simplest diode circuit -->NEW MOVIE?\n",
    "from IPython.lib.display import YouTubeVideo\n",
    "YouTubeVideo('Hbvfnd9TpnU', width = 600, height = 450)\n",
    "\n"
   ]
  },
  {
   "cell_type": "markdown",
   "metadata": {},
   "source": [
    "## SIMULATE 2: Advanced clipper in LTSpice\n",
    "> <font color='grey'>⏳ Estimated time: 10 min</font>\n",
    "\n",
    " Put the 'advanced' clipper circuit in LTSpice. Insert your screendumps of the LTSpice circuit+simulated signals. \n"
   ]
  },
  {
   "cell_type": "code",
   "execution_count": null,
   "metadata": {},
   "outputs": [],
   "source": [
    "upload"
   ]
  },
  {
   "cell_type": "code",
   "execution_count": null,
   "metadata": {},
   "outputs": [],
   "source": [
    "import os\n",
    "file_name=\"11A_second_sim_clipper.jpg\"\n",
    "if upload.value!={}:\n",
    "    with open(file_name,\"wb\") as f:\n",
    "        try: f.write(upload.data[-1]) # python 3.7 Kernel code, not working on Vocareum\n",
    "        except: f.write(upload.value[-1][\"content\"])  # python 3.8 Kernel code, change kernel in Vocareum!\n",
    "Image(filename=file_name, width=\"50%\")"
   ]
  },
  {
   "cell_type": "code",
   "execution_count": null,
   "metadata": {},
   "outputs": [],
   "source": [
    "##diode clipper -->NEW MOVIE?\n",
    "from IPython.lib.display import YouTubeVideo\n",
    "YouTubeVideo('dQ7I-PZB7Rg', width = 600, height = 450)"
   ]
  },
  {
   "cell_type": "markdown",
   "metadata": {},
   "source": [
    "Compare the 'simple' and 'advanced' circuit behaviour. What is the advantage of the complex circuit?"
   ]
  },
  {
   "cell_type": "code",
   "execution_count": null,
   "metadata": {},
   "outputs": [],
   "source": [
    "### TO DO=\"your answer on benefit complex circuit\"\n"
   ]
  },
  {
   "cell_type": "markdown",
   "metadata": {
    "nbgrader": {
     "grade": false,
     "grade_id": "cell-07cab9b6699ce364",
     "locked": true,
     "schema_version": 3,
     "solution": false,
     "task": false
    }
   },
   "source": [
    "## IMPLEMENT & INVESTIGATE 1: Clipping \n",
    "> <font color='grey'>⏳ Estimated time: 25 min</font>\n",
    "\n",
    "**Remember to set the right output setup on the function generator**\n",
    "\n",
    "### 1a. clipping based on 1 diode\n",
    "\n",
    "First we will have a look at some clipper circuits. In the figure below we see a clipper, based on one diode.\n",
    "\n",
    "<img src=\"https://gitlab.tudelft.nl/mwdocter/nb2214-images/-/raw/main/ELC/ELC9e-1.jpg\" width=70%></img>\n",
    "\n",
    "* Build the circuit and make sketch (or photo) of the measured input and output signals (1Vpp and 10Vpp sinewave, 1 kHz). Make sure the inputs of the scope are set to DC-coupling.\n",
    "\n",
    "> **<font color ='blue'> Hint: </font>**\n",
    "What is the maximum voltage that can be over the diode? If you get a different output than you expected, check the direction of the diode and whether the scope is set to DC-coupling."
   ]
  },
  {
   "cell_type": "markdown",
   "metadata": {},
   "source": [
    " insert your image(s) below"
   ]
  },
  {
   "cell_type": "code",
   "execution_count": null,
   "metadata": {},
   "outputs": [],
   "source": [
    "upload"
   ]
  },
  {
   "cell_type": "code",
   "execution_count": null,
   "metadata": {},
   "outputs": [],
   "source": [
    "file_name=\"11A-1_sketch.jpg\"\n",
    "if upload.value!={}:\n",
    "    with open(file_name,\"wb\") as f:\n",
    "        try: f.write(upload.data[-1]) # python 3.7 Kernel code, not working on Vocareum\n",
    "        except: f.write(upload.value[-1][\"content\"])  # python 3.8 Kernel code, not working on Vocareum\n",
    "\n",
    "Image(filename=file_name, width=\"50%\")"
   ]
  },
  {
   "cell_type": "code",
   "execution_count": null,
   "metadata": {},
   "outputs": [],
   "source": [
    "### TO DO=\"further comments on your sketch\"\n"
   ]
  },
  {
   "cell_type": "markdown",
   "metadata": {
    "nbgrader": {
     "grade": false,
     "grade_id": "cell-53490fd3193880e0",
     "locked": true,
     "solution": false
    }
   },
   "source": [
    "### 1b. Clipper based on two diodes\n",
    "\n",
    "Next the circuit can be expanded with an extra diode **in anti-parallel configuration**, as shown in this figure. R4 is 1 k$\\Omega$.\n",
    "\n",
    "<img src=\"https://gitlab.tudelft.nl/mwdocter/nb2214-images/-/raw/main/ELC/ELC9e-2.jpg\" width=70%></img>\n",
    "\n",
    "* Build the circuit and make sketch of the measured input and output signals (1Vpp and 10Vpp sinewave). Make sure the inputs of the scope are set to DC-coupling."
   ]
  },
  {
   "cell_type": "markdown",
   "metadata": {
    "nbgrader": {
     "grade": false,
     "grade_id": "cell-4adbcd47c1d21eb3",
     "locked": true,
     "schema_version": 3,
     "solution": false,
     "task": false
    }
   },
   "source": [
    " insert your image(s) below"
   ]
  },
  {
   "cell_type": "code",
   "execution_count": null,
   "metadata": {},
   "outputs": [],
   "source": [
    "upload"
   ]
  },
  {
   "cell_type": "code",
   "execution_count": null,
   "metadata": {},
   "outputs": [],
   "source": [
    "file_name=\"11A-2_sketch.jpg\"\n",
    "if upload.value!={}:\n",
    "    with open(file_name,\"wb\") as f:\n",
    "        try: f.write(upload.data[-1]) # python 3.7 Kernel code, not working on Vocareum\n",
    "        except: f.write(upload.value[-1][\"content\"])  # python 3.8 Kernel code, not working on Vocareum\n",
    "\n",
    "Image(filename=file_name, width=\"50%\")"
   ]
  },
  {
   "cell_type": "code",
   "execution_count": null,
   "metadata": {},
   "outputs": [],
   "source": [
    "### TO DO=\"further comments on your sketch\"\n"
   ]
  },
  {
   "cell_type": "markdown",
   "metadata": {
    "nbgrader": {
     "grade": false,
     "grade_id": "cell-d0915cf0e61e6080",
     "locked": true,
     "solution": false
    }
   },
   "source": [
    "* Have a look at the FFT of the above two signals. What do you observe when going from 1Vpp to 10 Vpp? "
   ]
  },
  {
   "cell_type": "code",
   "execution_count": null,
   "metadata": {
    "nbgrader": {
     "grade": false,
     "grade_id": "cell-ac00adfa79c75640",
     "locked": false,
     "schema_version": 3,
     "solution": true,
     "task": false
    }
   },
   "outputs": [],
   "source": [
    "### TO DO=\"# what do you observe for the FFT for 1Vpp and 10 Vpp\"\n"
   ]
  },
  {
   "cell_type": "markdown",
   "metadata": {},
   "source": [
    " insert your image below"
   ]
  },
  {
   "cell_type": "code",
   "execution_count": null,
   "metadata": {},
   "outputs": [],
   "source": [
    "upload"
   ]
  },
  {
   "cell_type": "code",
   "execution_count": null,
   "metadata": {},
   "outputs": [],
   "source": [
    "file_name=\"11A-3_not_clipping.jpg\"\n",
    "if upload.value!={}:\n",
    "    with open(file_name,\"wb\") as f:\n",
    "        try: f.write(upload.data[-1]) # python 3.7 Kernel code, not working on Vocareum\n",
    "        except: f.write(upload.value[-1][\"content\"])  # python 3.8 Kernel code, not working on Vocareum\n",
    "\n",
    "Image(filename=file_name, width=\"50%\")"
   ]
  },
  {
   "cell_type": "markdown",
   "metadata": {
    "nbgrader": {
     "grade": false,
     "grade_id": "cell-cbc2313e1e8d25c7",
     "locked": true,
     "solution": false
    }
   },
   "source": [
    "## IMPLEMENT & INVESTIGATE 2: Advanced clipping\n",
    "> <font color='grey'>⏳ Estimated time: 25 min</font>\n",
    "### 2a. Clipper based on one diode in the signal-path\n",
    "\n",
    "In all the previous circuits the diode is placed between ground and the signal path. In another category of clippers, the diode is placed in series with the signal path. Now we will have a closer look at such a circuit.\n",
    "\n",
    "<img src=\"https://gitlab.tudelft.nl/mwdocter/nb2214-images/-/raw/main/ELC/ELC9e-4.jpg\" width=50%></img>\n",
    "\n",
    "The connectors J2 and J3 will be connected to the power supply (set to +5V). J2 to the positive terminal, J3 to the negative terminal(COM). \n",
    "Vin=16 Vpp, 1kHz. R3=R4= 1 k$\\Omega$ \n",
    "\n",
    "* Build the circuit and measure the input and output signals. \n",
    "* Make a sketch of the waveforms. \n",
    "* Do the waveforms cohere with your expectations? Make sure the inputs of the scope are set to DC-coupling."
   ]
  },
  {
   "cell_type": "markdown",
   "metadata": {
    "nbgrader": {
     "grade": false,
     "grade_id": "cell-745eefb6c5caba25",
     "locked": true,
     "schema_version": 3,
     "solution": false,
     "task": false
    }
   },
   "source": [
    "insert your image below"
   ]
  },
  {
   "cell_type": "code",
   "execution_count": null,
   "metadata": {},
   "outputs": [],
   "source": [
    "upload"
   ]
  },
  {
   "cell_type": "code",
   "execution_count": null,
   "metadata": {},
   "outputs": [],
   "source": [
    "file_name=\"11A-4_clipper.jpg\"\n",
    "if upload.value!={}:\n",
    "    with open(file_name,\"wb\") as f:\n",
    "        try: f.write(upload.data[-1]) # python 3.7 Kernel code, not working on Vocareum\n",
    "        except: f.write(upload.value[-1][\"content\"])  # python 3.8 Kernel code, not working on Vocareum\n",
    "\n",
    "Image(filename=file_name, width=\"50%\")"
   ]
  },
  {
   "cell_type": "code",
   "execution_count": null,
   "metadata": {},
   "outputs": [],
   "source": [
    "### TO DO=\"further comments on your sketch/photo\"\n"
   ]
  },
  {
   "cell_type": "markdown",
   "metadata": {
    "nbgrader": {
     "grade": false,
     "grade_id": "cell-56162c813dd4ef5a",
     "locked": true,
     "solution": false
    }
   },
   "source": [
    " ### 2b. reverse diode direction\n",
    " Modify the circuit as in the figure below (swap the diode connections).\n",
    "\n",
    "<img src=\"https://gitlab.tudelft.nl/mwdocter/nb2214-images/-/raw/main/ELC/ELC9e-5.jpg\" width=50%></img>\n",
    "\n",
    "* Measure the output signals. \n",
    "* Is this output-signal as expected? \n",
    "* Make a sketch of the output-signal."
   ]
  },
  {
   "cell_type": "markdown",
   "metadata": {
    "nbgrader": {
     "grade": false,
     "grade_id": "cell-e940b99b44e0fbc5",
     "locked": true,
     "schema_version": 3,
     "solution": false,
     "task": false
    }
   },
   "source": [
    "insert your image below"
   ]
  },
  {
   "cell_type": "code",
   "execution_count": null,
   "metadata": {},
   "outputs": [],
   "source": [
    "upload"
   ]
  },
  {
   "cell_type": "code",
   "execution_count": null,
   "metadata": {},
   "outputs": [],
   "source": [
    "file_name=\"11A-5_clipper_diode_inverted.jpg\"\n",
    "if upload.value!={}:\n",
    "    with open(file_name,\"wb\") as f:\n",
    "        try: f.write(upload.data[-1]) # python 3.7 Kernel code, not working on Vocareum\n",
    "        except: f.write(upload.value[-1][\"content\"])  # python 3.8 Kernel code, not working on Vocareum\n",
    "\n",
    "Image(filename=file_name, width=\"50%\")"
   ]
  },
  {
   "cell_type": "markdown",
   "metadata": {
    "nbgrader": {
     "grade": false,
     "grade_id": "cell-7a8d2708e4cea3a6",
     "locked": true,
     "schema_version": 3,
     "solution": false,
     "task": false
    }
   },
   "source": [
    "> **<font color = 'blue'> Hint: </font>**\n",
    "If you get stuck on predicting/explaining the signal, try to write down what the DC voltage with respect to the ground is at the different pins (e.g. J2, U26, U14) and what this means for the diode."
   ]
  },
  {
   "cell_type": "code",
   "execution_count": null,
   "metadata": {},
   "outputs": [],
   "source": [
    "### TO DO=\"further comments on your sketch/photo\"\n"
   ]
  },
  {
   "cell_type": "markdown",
   "metadata": {},
   "source": [
    "Now move the power supply knob slowly. What do you observe on the scope?"
   ]
  },
  {
   "cell_type": "code",
   "execution_count": null,
   "metadata": {},
   "outputs": [],
   "source": [
    "### TO DO=\"your observation, what changes with varying the input voltage?\"\n"
   ]
  },
  {
   "cell_type": "markdown",
   "metadata": {},
   "source": [
    "## COMPARE&CONCLUDE\n",
    "> <font color='grey'>⏳ Estimated time: 10 min</font>\n",
    "\n",
    "* Wait till all (4) group members finish their observation\n",
    "* Compare your results with your other group members. \n",
    "* If your results agree, and are in line with all predictions, then talk to a TA and get checked off\n",
    "* Otherwise, so if your results do not agree, or your results are not in line with your predictions, then first discuss amongst your group before getting a TA. \n",
    "\n",
    "\n",
    "**to be checked off by a TA:**\n",
    "\n",
    "1. in your own words, explain (to the TA) what is a clipper is, and its purpose?\n",
    "\n",
    "2. Name a benefit of each of the below circuits:\n",
    "\n",
    "<img src=\"https://gitlab.tudelft.nl/mwdocter/nb2214-images/-/raw/main/ELC/ELC9e_clippers.jpg\" width=80%></img>\n",
    "\n",
    "3. exit card:\n",
    "   1. Write a brief abstract on what you learned (conclusion, useful graph),\n",
    "   2. Which troubleshooting skills do you want to remember for next sessions,\n",
    "   3. Which code do you copy for use in next sessions,\n",
    "4. How do think this notebook could be improved"
   ]
  },
  {
   "cell_type": "code",
   "execution_count": null,
   "metadata": {},
   "outputs": [],
   "source": [
    "#11A diode clipper\n",
    "### TO DO='1 explain what a clipper is'\n",
    "\n",
    "### TO DO=\"2 Name a benefit of each clipper circuit\"\n",
    "\n",
    "### TO DO=\"3a. abstract\"\n",
    "\n",
    "### TO DO=\"3b. troubleshooting\"\n",
    "\n",
    "### TO DO=\"3c. code\"\n",
    "\n",
    "### TO DO=\"4. what changes would you suggest?\"\n"
   ]
  },
  {
   "cell_type": "markdown",
   "metadata": {},
   "source": [
    "* Recording: https://www.youtube.com/watch?v=NlsTgr56bT0\n"
   ]
  },
  {
   "cell_type": "code",
   "execution_count": null,
   "metadata": {},
   "outputs": [],
   "source": [
    "%rebootdevice"
   ]
  },
  {
   "cell_type": "code",
   "execution_count": null,
   "metadata": {},
   "outputs": [],
   "source": [
    "%disconnect"
   ]
  }
 ],
 "metadata": {
  "celltoolbar": "Create Assignment",
  "jupytext": {
   "formats": "ipynb,md"
  },
  "kernelspec": {
   "display_name": "Python 3 (ipykernel)",
   "language": "python",
   "name": "python3"
  },
  "language_info": {
   "codemirror_mode": {
    "name": "ipython",
    "version": 3
   },
   "file_extension": ".py",
   "mimetype": "text/x-python",
   "name": "python",
   "nbconvert_exporter": "python",
   "pygments_lexer": "ipython3",
   "version": "3.10.14"
  },
  "latex_envs": {
   "LaTeX_envs_menu_present": true,
   "autoclose": false,
   "autocomplete": true,
   "bibliofile": "biblio.bib",
   "cite_by": "apalike",
   "current_citInitial": 1,
   "eqLabelWithNumbers": true,
   "eqNumInitial": 1,
   "hotkeys": {
    "equation": "Ctrl-E",
    "itemize": "Ctrl-I"
   },
   "labels_anchors": false,
   "latex_user_defs": false,
   "report_style_numbering": false,
   "user_envs_cfg": false
  },
  "toc": {
   "base_numbering": 1,
   "nav_menu": {},
   "number_sections": true,
   "sideBar": true,
   "skip_h1_title": false,
   "title_cell": "Table of Contents",
   "title_sidebar": "Contents",
   "toc_cell": false,
   "toc_position": {
    "height": "calc(100% - 180px)",
    "left": "10px",
    "top": "150px",
    "width": "165px"
   },
   "toc_section_display": true,
   "toc_window_display": true
  }
 },
 "nbformat": 4,
 "nbformat_minor": 4
}
