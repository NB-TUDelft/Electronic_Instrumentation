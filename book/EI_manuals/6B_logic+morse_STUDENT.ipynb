{
 "cells": [
  {
   "cell_type": "markdown",
   "id": "ecb84545",
   "metadata": {},
   "source": [
    "<div class=\"alert alert-block alert-info\">\n",
    "\n",
    "**Accessibility of the notebook:**\n",
    "- You can adjust the width of the text with the function provided below. Copy it into a new code cell and execute it using the `ipykernel`.\n",
    "    ```python\n",
    "    from IPython.core.display import HTML\n",
    "    def set_width(width):\n",
    "        display(HTML(f\"\"\"<style>  \n",
    "                .container {{ width:{width}% !important; \n",
    "                                min-width:800px !important; margin: 0 auto}} \n",
    "                .jp-Cell {{ width:{width}% !important; \n",
    "                                min-width:800px !important; margin: 0 auto}} </style>\"\"\"))\n",
    "    # Set container width to X% of the fullscreen \n",
    "    set_width(50)\n",
    "    ```\n",
    "- You can toggle the auto-numbering of the sections in the outline toolbox (sidebar or topbar).\n",
    "- You can toggle the code line numbers in the dropdown menu of the \"view\" button in the topbar. \n",
    "- You can collapse/expand a cell by clicking the blue bar on the left side of the cell.\n",
    "\n",
    "</div>"
   ]
  },
  {
   "cell_type": "code",
   "execution_count": null,
   "id": "d0cc33ca",
   "metadata": {},
   "outputs": [],
   "source": [
    "from IPython.core.display import HTML\n",
    "def set_width(width):\n",
    "    display(HTML(f\"\"\"<style>  \n",
    "            .container {{ width:{width}% !important; \n",
    "                            min-width:800px !important; margin: 0 auto}} \n",
    "            .jp-Cell {{ width:{width}% !important; \n",
    "                            min-width:800px !important; margin: 0 auto}} </style>\"\"\"))\n",
    "# Set container width to X% of the fullscreen \n",
    "set_width(50)"
   ]
  },
  {
   "cell_type": "markdown",
   "id": "092fd821",
   "metadata": {},
   "source": [
    "Experiments of this week:\n",
    "- experiment 6A: use NI-DAQ to acquire and create digital signals\n",
    "- experiment 6B: use PicoPI to create a visual Morse signal and observe digital signals\n",
    "- experiment 6C: program your Alpaca using a mix of digital inputs and outputs\n",
    "\n",
    "Goal: learn how to work with digital signals with NIDAQ and Alpaca\n",
    "\n",
    "Structure of an experiment:\n",
    "- Anticipe + Simulate (10+15+30): per person. This is homework and should be finished **before** you start your 4 hours practicum session\n",
    "- Implement + Investigate (10+10+5+40): with your partner (group of 2)\n",
    "- Compare + Conclude(10): with a group of 4 (per table)"
   ]
  },
  {
   "cell_type": "markdown",
   "id": "c436088a",
   "metadata": {},
   "source": [
    "# 6B: controling Alpaca using logical signals\n",
    "> <font color='blue'>Learning goal:</font> Understand how digital inputs and outputs work in Alpaca and learn how to use them in practice, to make the picopi's led send out a Morse signal"
   ]
  },
  {
   "cell_type": "markdown",
   "id": "2ad34b85",
   "metadata": {},
   "source": [
    "## BACKGROUND\n",
    "> <font color='grey'>⏳ Estimated time: 10 min</font>\n",
    "\n",
    "<img src=\"https://gitlab.tudelft.nl/mwdocter/nb2214-images/-/raw/a894a02ef157ca15d3d118eb243245eb912ba4f0/PicoPI/picopi1_7_digital out.jpg\" width=35% style=\"float:right\"></img>\n",
    "**Theory:** Now that we are connected to the ALPACA, you can explore **digital output**. By using the digital output function of the ALPACA, the voltages of the `Dout` pins (0-3) can be individually set to either 0 or +5 volts. Programming the ALPACA to this end is done as follows:\n",
    "\n",
    "```python\n",
    "from machine import Pin\n",
    "Dout0 = Pin(14, Pin.OUT) # Dout0 = GP14, hence id=14. The \"Dout0\" is easy to remember\n",
    "\n",
    "Dout.value(True) # Set pin to +5V\n",
    "\n",
    "Dout.value(False) # Set pin to 0V\n",
    "```\n",
    "\n",
    "Here, `Dout0` is the name given to the pin. We chose the name `Dout0` because it is easy to remember: it is written on the Cria. Notice that in the second line, we see a mysterious number.`14` is the pin number. This number specifies which pin to turn on or off. **You can find the pin number by looking at the Cria board**: notice that each `DoutX` is followed by the text `GPXX`, the pin number corresponds to whatever number follows `GP`. \n",
    "\n",
    "<img src=\"https://gitlab.tudelft.nl/mwdocter/nb2214-images/-/raw/a894a02ef157ca15d3d118eb243245eb912ba4f0/PicoPI/picopi1_3_built-in-LED.jpg\" width=10% style=\"float:right\"></img>\n",
    "\n",
    "\n",
    "**Theory:** Besides digital output, the Alpaca also supports **digital input**. This means that the ALPACA can sense whether or not a pin is raised to a \"high\" value of +5 volts (On) or a \"low\" value of 0 volts (Off). This is done in a similar fashion as digital output, but instead with `Pin.IN`. Consider the example below:\n",
    "\n",
    "```python\n",
    "from machine import Pin\n",
    "pin_assignment = Pin(id, Pin.IN)\n",
    "```\n",
    "For example, if the pin is to control a button connected to `Din0`, you might want to have the following code.\n",
    "```python\n",
    "button= Pin(18, Pin.IN) # Din0 equals GP18, hence id=18. The name button is easy to remember\n",
    "```\n",
    "To read out and assign the value to a variable:\n",
    "```python\n",
    "isPressed = button.value()\n",
    "```\n",
    "\n"
   ]
  },
  {
   "cell_type": "markdown",
   "id": "086edcfd",
   "metadata": {},
   "source": [
    "## BACKGROUND Morse\n",
    "> <font color='grey'>⏳ Estimated time: 15 min</font>\n",
    "\n",
    "First connect the alpaca (otherwise the alpaca kernel cannot run). Then check the out the short preview: after this assignment your ALPACA might be doing this. Can you get what the text is?\n"
   ]
  },
  {
   "cell_type": "code",
   "execution_count": 1,
   "id": "16310398",
   "metadata": {},
   "outputs": [
    {
     "name": "stdout",
     "output_type": "stream",
     "text": [
      "\u001b[34mConnecting to --port=COM3 --baud=115200 \u001b[0m\n",
      "\u001b[34m\n",
      "Are you sure your ESP-device is plugged in?\u001b[0m"
     ]
    }
   ],
   "source": [
    "# the alpaca kernel needs an alpaca connected \n",
    "%serialconnect to --port=\"COM3\" \n",
    "\n",
    "import time\n",
    "import numpy as np\n",
    "import matplotlib.pyplot as plt"
   ]
  },
  {
   "cell_type": "code",
   "execution_count": 1,
   "id": "b95558db",
   "metadata": {},
   "outputs": [
    {
     "data": {
      "image/jpeg": "[encoded data removed]",
      "text/html": [
       "\n",
       "        <iframe\n",
       "            width=\"600\"\n",
       "            height=\"450\"\n",
       "            src=\"https://www.youtube.com/embed/k9klfdjLxHE\"\n",
       "            frameborder=\"0\"\n",
       "            allowfullscreen\n",
       "            \n",
       "        ></iframe>\n",
       "        "
      ],
      "text/plain": [
       "<IPython.lib.display.YouTubeVideo at 0x23803a41b10>"
      ]
     },
     "execution_count": 1,
     "metadata": {},
     "output_type": "execute_result"
    }
   ],
   "source": [
    "%python \n",
    "#recording\n",
    "from IPython.lib.display import YouTubeVideo\n",
    "YouTubeVideo('k9klfdjLxHE', width = 600, height = 450)\n",
    "# if the youtube movie does not show, you can always go to https://www.youtube.com/watch?v=k9klfdjLxHE"
   ]
  },
  {
   "cell_type": "markdown",
   "id": "44e0095e",
   "metadata": {},
   "source": [
    "For the morse code, you are going to re-use code found online. Note that you do not need to understand the details of the given code, but you should feel comfortable using it."
   ]
  },
  {
   "cell_type": "code",
   "execution_count": 2,
   "id": "703781ab",
   "metadata": {},
   "outputs": [
    {
     "name": "stdout",
     "output_type": "stream",
     "text": [
      "\u001b[31mNo serial connected\n",
      "\u001b[0m  %serialconnect to connect\n",
      "  %esptool to flash the device\n",
      "  %lsmagic to list commands"
     ]
    }
   ],
   "source": [
    "%p\n",
    "# from https://www.geeksforgeeks.org/morse-code-translator-python/\n",
    "\n",
    "# Dictionary representing the morse code chart #dict will be explained in later courses, just use the code for now\n",
    "MORSE_CODE_DICT = { 'A':'.-', 'B':'-...',\n",
    "                    'C':'-.-.', 'D':'-..', 'E':'.',\n",
    "                    'F':'..-.', 'G':'--.', 'H':'....',\n",
    "                    'I':'..', 'J':'.---', 'K':'-.-',\n",
    "                    'L':'.-..', 'M':'--', 'N':'-.',\n",
    "                    'O':'---', 'P':'.--.', 'Q':'--.-',\n",
    "                    'R':'.-.', 'S':'...', 'T':'-',\n",
    "                    'U':'..-', 'V':'...-', 'W':'.--',\n",
    "                    'X':'-..-', 'Y':'-.--', 'Z':'--..',\n",
    "                    '1':'.----', '2':'..---', '3':'...--',\n",
    "                    '4':'....-', '5':'.....', '6':'-....',\n",
    "                    '7':'--...', '8':'---..', '9':'----.',\n",
    "                    '0':'-----', ', ':'--..--', '.':'.-.-.-',\n",
    "                    '?':'..--..', '/':'-..-.', '-':'-....-',\n",
    "                    '(':'-.--.', ')':'-.--.-'}\n"
   ]
  },
  {
   "cell_type": "markdown",
   "id": "b8ecbf11",
   "metadata": {},
   "source": [
    "The next code changes the spaces between letters and words into 'l' and 'w'. You need the pausing time between letters and words to be different: 'l' is used in between letters of the same word, 'w' is used to seperate words. "
   ]
  },
  {
   "cell_type": "code",
   "execution_count": 1,
   "id": "65677769",
   "metadata": {},
   "outputs": [
    {
     "name": "stdout",
     "output_type": "stream",
     "text": [
      "\u001b[31mNo serial connected\n",
      "\u001b[0m  %serialconnect to connect\n",
      "  %esptool to flash the device\n",
      "  %lsmagic to list commands"
     ]
    }
   ],
   "source": [
    "# adapted from https://stackoverflow.com/questions/28142019/python-morse-code-pausing\n",
    "def encodeMessage(m):\n",
    "    print(m)\n",
    "    message = m.upper().strip() #string.upper() converts all lowercase characters to uppercase.\n",
    "                                #string.strip() removes spaces at begin and end of the string\n",
    "        \n",
    "    encodedMessage =''          # start as empty string\n",
    "    isInWord = False\n",
    "\n",
    "    for ch in message:          # loop over all letters, ch stands for character\n",
    "       \n",
    "        if isInWord:\n",
    "            if ch in MORSE_CODE_DICT:\n",
    "                encodedMessage += 'l'+ MORSE_CODE_DICT[ch]\n",
    "            else:\n",
    "                encodedMessage += 'w'\n",
    "                isInWord = False\n",
    "        else: # not in word\n",
    "            if ch in MORSE_CODE_DICT:\n",
    "                encodedMessage +=  MORSE_CODE_DICT[ch]\n",
    "                isInWord = True\n",
    "            else:\n",
    "                pass    # nothing to do\n",
    "        \n",
    "        \n",
    "    return encodedMessage"
   ]
  },
  {
   "cell_type": "markdown",
   "id": "4075330c",
   "metadata": {},
   "source": [
    "Feel free to watch the following precap video, which shows how to better understand the aove code, plus the tasks to do in this assignment. "
   ]
  },
  {
   "cell_type": "code",
   "execution_count": null,
   "id": "c92d3363",
   "metadata": {},
   "outputs": [],
   "source": [
    "%python\n",
    "#precap video 6B morse code\n",
    "from IPython.lib.display import YouTubeVideo\n",
    "YouTubeVideo('rdkTN5kZJ9g', width = 600, height = 450)\n"
   ]
  },
  {
   "cell_type": "code",
   "execution_count": 44,
   "id": "0d9cb38b",
   "metadata": {},
   "outputs": [
    {
     "name": "stdout",
     "output_type": "stream",
     "text": [
      "YOUR NAME\n",
      "-.--l---l..-l.-.w-.l.-l--l.\n"
     ]
    }
   ],
   "source": [
    "# example code including spaces\n",
    "result2=encodeMessage('your name'.upper())\n",
    "print(result2)"
   ]
  },
  {
   "cell_type": "markdown",
   "id": "f99961b8",
   "metadata": {},
   "source": [
    "The last thing you need to add is the timing, to change the morse code into a times on/off signal. From https://www.codebug.org.uk/learn/step/541/morse-code-timing-rules/, we found the following rules:\n",
    "\n",
    "* The length of a dot is 1 time unit.\n",
    "* A dash is 3 time units.\n",
    "* The space between symbols (dots and dashes) of the same letter is 1 time unit.\n",
    "* The space between letters is 3 time units.\n",
    "* The space between words is 7 time units."
   ]
  },
  {
   "cell_type": "markdown",
   "id": "18f9db7d",
   "metadata": {},
   "source": [
    "## ANTICIPATE: write pseudocode to make a light signal in Morse code\n",
    "> <font color='grey'>⏳ Estimated time: 30 min</font> \n",
    "\n",
    "\n",
    "\n",
    "Write pseudocode that will make a led on alpaca board blink \"ALPACA\" or your name in Morse code. At this point it can be still pseudocode, so written in text what needs to be done in which order. You do not have to run it yet, but will implement and use it during the practicum. \n",
    "\n",
    "\n",
    "<img src=\"https://gitlab.tudelft.nl/mwdocter/nb2214-images/-/raw/main/PicoPI/morse-code-overview.png\" width=30%></img>\n",
    "\n",
    "Make sure your pseudocode contains:\n",
    "* turning the led on and off\n",
    "* take into account the pauses between symbols, letters and words\n",
    "* signal the end of the transmition with a buzzer sound\n",
    "* optimization( use for loops and functions)\n",
    "* remember to add the message you want to send\n",
    "\n",
    "Some of the code needed was already given to you. We already wrote the functions, which end with a print statement. Replace only the parts indicated and add more, as you will be needing this for your final exercise in this experiment.\n",
    "\n",
    "This is pseudocode, so it doesn't have to work, but if you are able to do a working code already feel free to do so!"
   ]
  },
  {
   "cell_type": "markdown",
   "id": "b86a7c4b",
   "metadata": {},
   "source": [
    "> <font size=6>ℹ️</font>\n",
    "> \n",
    "> <font color='00a6ed'>\n",
    "> using functions(def) can highly reduce the amount of lines of code you need to write.. Here is a link https://www.w3schools.com/python/python_functions.asp if you want to know more. What is inside a function will be executed every time that function is called. "
   ]
  },
  {
   "cell_type": "code",
   "execution_count": 8,
   "id": "c07fb2a0",
   "metadata": {},
   "outputs": [
    {
     "name": "stdout",
     "output_type": "stream",
     "text": [
      "_\n",
      ":\n",
      "_\n",
      "_\n",
      "L\n",
      "_\n",
      "_\n",
      "_\n",
      "L\n",
      ":\n",
      ":\n",
      "_\n",
      "L\n",
      ":\n",
      "_\n",
      ":\n",
      "W\n",
      "_\n",
      ":\n",
      "L\n",
      ":\n",
      "_\n",
      "L\n",
      "_\n",
      "_\n",
      "L\n",
      ":\n"
     ]
    }
   ],
   "source": [
    "import time\n",
    "# import stuff needed for alpaca to use the led and buzzer\n",
    "\n",
    "### part 1 of the code, making the functions 'letter_*'\n",
    "# only the part 1 code needs to be adapted\n",
    "def letter_dash():\n",
    "    print('_') # add pseudocode: something with led to turn led off and on, and time.sleep\n",
    "\n",
    "def letter_dot():\n",
    "    print(':') # add pseudocode: something with led to turn led off and on, and time.sleep\n",
    "\n",
    "def letter_l():\n",
    "    print('L') # add pseudocode: something with time.sleep\n",
    "    \n",
    "def letter_w():\n",
    "    print('W') # add pseudocode: something with time.sleep\n",
    "    \n",
    "# step 2: we need to loop over all letters in result2\n",
    "# while in regular python you can do \"for c in result2:\" it will not work in Alpaca kernel \n",
    "for c in range(len(result2)):\n",
    "    if result2[c]=='-': \n",
    "        letter_dash()\n",
    "    elif result2[c]=='.': \n",
    "        letter_dot()\n",
    "    elif result2[c]=='l': \n",
    "        letter_l()\n",
    "    elif result2[c]=='w': \n",
    "        letter_w()\n",
    "        \n",
    "\n"
   ]
  },
  {
   "cell_type": "markdown",
   "id": "ddd32b67",
   "metadata": {},
   "source": [
    "Note: if you wrote real code instead of pseudocode, please remember to first connect your Alpaca, physically with USB wires, and don't forget to run the following code first:"
   ]
  },
  {
   "cell_type": "code",
   "execution_count": 9,
   "id": "8917f456",
   "metadata": {
    "scrolled": true
   },
   "outputs": [
    {
     "name": "stdout",
     "output_type": "stream",
     "text": [
      "\u001b[34mConnecting to --port=COM3 --baud=115200 \u001b[0m\n",
      "\u001b[34mReady.\n",
      "\u001b[0m"
     ]
    }
   ],
   "source": [
    "#change the port to your port: if it gives an error, it also suggest you the best COM number\n",
    "%serialconnect to --port=\"COM3\" "
   ]
  },
  {
   "cell_type": "code",
   "execution_count": 10,
   "id": "5f7e1f67",
   "metadata": {},
   "outputs": [
    {
     "name": "stdout",
     "output_type": "stream",
     "text": [
      ".-l.-..l.--.l.-l-.-.l.-\n",
      "."
     ]
    }
   ],
   "source": [
    "### TO DO=\"copy the above code + adapt + make it run smoothly\"\n"
   ]
  },
  {
   "cell_type": "markdown",
   "id": "c9b84d0f",
   "metadata": {},
   "source": [
    "## SIMULATE\n",
    "> <font color='grey'>⏳ Estimated time: 0 min</font>\n",
    "\n",
    "there is no simulation for this assignment. But if you eager to try, and you have an ALPACA at home ...."
   ]
  },
  {
   "cell_type": "markdown",
   "id": "0b414495",
   "metadata": {},
   "source": [
    "## IMPLEMENT & INVESTIGATE 1: Digital output\n",
    "> <font color='grey'>⏳ Estimated time: 10 min</font>\n",
    "\n",
    "You are going to learn how to use digital outputs on the ALPACA. First, you are going to use a digital pin to turn on an in-built led (located on the green picopi, next to the BOOTSEL button). **Remember to run this notebook locally in nb environment!** Run the code below to turn it on."
   ]
  },
  {
   "cell_type": "code",
   "execution_count": 11,
   "id": "222b0e36",
   "metadata": {},
   "outputs": [
    {
     "name": "stdout",
     "output_type": "stream",
     "text": [
      "\u001b[34mConnecting to --port=COM3 --baud=115200 \u001b[0m\n",
      "\u001b[34mReady.\n",
      "\u001b[0m"
     ]
    }
   ],
   "source": [
    "#change the port to your port: if it gives an error, it also suggest you the best COM number\n",
    "%serialconnect to --port=\"COM3\" "
   ]
  },
  {
   "cell_type": "code",
   "execution_count": 12,
   "id": "f4e90a99",
   "metadata": {},
   "outputs": [],
   "source": [
    "from machine import Pin\n",
    "led = Pin(25, Pin.OUT)\n",
    "\n",
    "led.value(1) \n"
   ]
  },
  {
   "cell_type": "markdown",
   "id": "ca6d8ab0",
   "metadata": {},
   "source": [
    "As you can see, the led it on. Now we want to turn it of. Complete the code below to turn of the led"
   ]
  },
  {
   "cell_type": "code",
   "execution_count": 13,
   "id": "3e7815e3",
   "metadata": {},
   "outputs": [
    {
     "name": "stderr",
     "output_type": "stream",
     "text": [
      "Traceback (most recent call last):\n",
      "  File \"<stdin>\", line 1\n",
      "SyntaxError: invalid syntax\n"
     ]
    }
   ],
   "source": [
    "led.value(??) "
   ]
  },
  {
   "cell_type": "markdown",
   "id": "5e5a150e",
   "metadata": {},
   "source": [
    "Now, you will make the led blink!"
   ]
  },
  {
   "cell_type": "code",
   "execution_count": 14,
   "id": "af6ec14c",
   "metadata": {},
   "outputs": [
    {
     "name": "stdout",
     "output_type": "stream",
     "text": [
      "."
     ]
    }
   ],
   "source": [
    "import time\n",
    "\n",
    "set_LED_on = True\n",
    "\n",
    "for ii in range(10): # Blink 5 times\n",
    "    led.value(set_LED_on)\n",
    "    set_LED_on = not(set_LED_on) # invert state\n",
    "    time.sleep(1) # Delay"
   ]
  },
  {
   "cell_type": "markdown",
   "id": "bb9b9737",
   "metadata": {},
   "source": [
    "The code you just used, should remind you of boolean operators in Python or other programming languages. Those logical statements are the backbone of coding your Alpaca. Other digital outputs (that you already used before in some of PicoPI assignments) include Dout pins."
   ]
  },
  {
   "cell_type": "markdown",
   "id": "62e0b9c4",
   "metadata": {},
   "source": [
    "## IMPLEMENT & INVESTIGATE 2: Digital input\n",
    "> <font color='grey'>⏳ Estimated time: 10 min</font>\n",
    "\n",
    "\n",
    "<img src=\"https://gitlab.tudelft.nl/mwdocter/nb2214-images/-/raw/a894a02ef157ca15d3d118eb243245eb912ba4f0/PicoPI/picopi1_14_playground.jpg\" width=50% style=\"float:right\"></img>\n",
    "With switch 1 on the Alpaca you are going to turn the LED on the Alpaca on and off. \n",
    "* Using a wire, connect the pin *SW1* on the ALPACAs PLAYGROUND to *Din3-GP21* on the Cria\n",
    "* Run the following code\n",
    "* If you have not powered the Alpaca board with the second USB cable, do so\n",
    "\n",
    "Try signaling a letter in Morse code using this code! You might want to extend the 'for loop' duration if you want to spell something longer. To signal press a button on the alpaca called SW1."
   ]
  },
  {
   "cell_type": "code",
   "execution_count": 16,
   "id": "e997a28c",
   "metadata": {},
   "outputs": [
    {
     "name": "stdout",
     "output_type": "stream",
     "text": [
      ".."
     ]
    }
   ],
   "source": [
    "from machine import Pin\n",
    "import time\n",
    "\n",
    "button = Pin(21, Pin.IN, None) # last input is None, Pin.PULL_UP, Pin.PULL_DOWN\n",
    "led = Pin(25, Pin.OUT)\n",
    "\n",
    "for ii in range (200): # Check for 10 seconds\n",
    "    #print(ii,button.value())\n",
    "    if button.value()==0:\n",
    "        #print(\"You pressed a button!\")\n",
    "        led.value(1)\n",
    "    else: \n",
    "        led.value(0)\n",
    "    time.sleep(0.05) # Cooldown delay between checks\n",
    "led.value(0) #switch off afterwards\n"
   ]
  },
  {
   "cell_type": "markdown",
   "id": "20ed3384",
   "metadata": {},
   "source": [
    "> <font size=6>🔥</font>  \n",
    ">\n",
    "> <font color='ff6723'>\n",
    ">\n",
    "> If the LED is not responding, you can test whether your switch is working in the following way:\n",
    "> * On the Alpaca playground connect SW1 to LED1-A, and connect LED1-C to GND\n",
    "> * LED1 should be on by default, until you press SW1\n",
    "> \n",
    "> If this is not working, check whether the Alpaca is powered. <br>\n",
    "> If it is still not working contact a TA"
   ]
  },
  {
   "cell_type": "markdown",
   "id": "030e8948",
   "metadata": {},
   "source": [
    "## IMPLEMENT & INVESTIGATE 3: Buzzer\n",
    "> <font color='grey'>⏳ Estimated time: 5 min</font>\n",
    "\n",
    "One of the things you can control with digital outputs is a buzzer on Alpaca board. As a name suggests, it creates buzzing sound when active. \n",
    "* Disconnect the wire connecting the switch( button).\n",
    " * Connect *Dout0* to *BUZZER*. Dout0 is on PicoPi, while buzzer is on the playground. \n",
    "\n",
    "Run the code below to activate the buzzer. You can adjust the value in time.sleep to extend the duration of the buzz"
   ]
  },
  {
   "cell_type": "code",
   "execution_count": 17,
   "id": "14404514",
   "metadata": {},
   "outputs": [],
   "source": [
    "from machine import Pin\n",
    "import time\n",
    "\n",
    "buzzer= Pin(14, Pin.OUT) #pin 14=Dout0\n",
    "\n",
    "buzzer.value(1)\n",
    "time.sleep(1)\n",
    "buzzer.value(0)\n",
    "   "
   ]
  },
  {
   "cell_type": "markdown",
   "id": "8f0134d1",
   "metadata": {},
   "source": [
    "## IMPLEMENT & INVESTIGATE 4: Morse code\n",
    "> <font color='grey'>⏳ Estimated time: 40 min</font>\n",
    "\n",
    "Now you are going to finally program in your Morse code signaler. Copy your code from the anticipate part above, and use the code already given or feel free to code from scratch yourself (if you feel up to the challenge)!\n",
    "\n",
    "Try spelling your own name or 'ALPACA' and end a message with a 2 second buzzer sound. If you are troubleshooting, keep the buzzer code commented (your fellow students will appreciate the silence).\n",
    "\n",
    "See if you can decode the message you are sending (can you clearly distinguish long and short signal? How about the pauses?)"
   ]
  },
  {
   "cell_type": "code",
   "execution_count": 18,
   "id": "9fdff519",
   "metadata": {},
   "outputs": [
    {
     "name": "stdout",
     "output_type": "stream",
     "text": [
      ":\n",
      ".L\n",
      ":\n",
      ":\n",
      ":\n",
      ":\n",
      "L\n",
      ":\n",
      "L\n",
      "L\n",
      ":\n",
      "L\n",
      ":\n",
      ":\n",
      ":\n",
      "L\n",
      ":\n",
      "L\n",
      ":\n",
      ":\n",
      "W\n",
      ":\n",
      "L\n",
      "L\n",
      ":\n",
      ":\n",
      "W\n",
      ":\n",
      "L\n",
      ":\n",
      ":\n",
      "L\n",
      ":\n",
      "W\n",
      ":\n",
      "L\n",
      "L\n",
      ":\n",
      ":\n",
      "L\n",
      ":\n",
      "L\n",
      ":\n",
      "W\n",
      "L\n",
      "W\n",
      ":\n",
      ".L\n",
      ":\n",
      ":\n",
      "L\n",
      ":\n",
      ":\n",
      "L\n",
      "L\n",
      ":\n"
     ]
    }
   ],
   "source": [
    "result2=encodeMessage('whatever you are going to write'.upper())\n",
    "from machine import Pin\n",
    "import time\n",
    "\n",
    "led = Pin(25, Pin.OUT)\n",
    "buzzer= Pin(14, Pin.OUT)\n",
    "\n",
    "### part 1 of the code, making the functions 'letter_*'\n",
    "# only the part 1 code needs to be adapted\n",
    "#complete the rest of the code using your code from ANTICIPATE and code given in exercises before.\n",
    "def letter_dash():\n",
    "    print('_') # you need to replace it with something with led to turn led of and on, and time.sleep\n",
    "    \n",
    "def letter_dot():\n",
    "    print(':') # you need to replace it with something with led to turn led of and on, and time.sleep\n",
    "\n",
    "def letter_l():\n",
    "    print('L') # you need to replace it with something with time.sleep\n",
    "    \n",
    "def letter_w():\n",
    "    print('W')\n",
    "\n",
    "# step 2: we need to loop over all letters in result2 (use the part2 code as given)\n",
    "for c in result2:\n",
    "    if c=='-': \n",
    "        letter_dash()\n",
    "    elif c=='.': \n",
    "        letter_dot()\n",
    "    elif c=='l': \n",
    "        letter_l()\n",
    "    elif c=='w': \n",
    "        letter_w()\n",
    "# step 3: buzzer     "
   ]
  },
  {
   "cell_type": "code",
   "execution_count": 16,
   "id": "095cad0a",
   "metadata": {},
   "outputs": [
    {
     "name": "stdout",
     "output_type": "stream",
     "text": [
      "....."
     ]
    }
   ],
   "source": [
    "### TO DO=\"copy the above code + adapt + make it run smoothly\"\n"
   ]
  },
  {
   "cell_type": "markdown",
   "id": "e105d3e9",
   "metadata": {},
   "source": [
    "Congratulations! You sent your own message in Morse code! Show to the TA you got it working(by showing it in person or taking a video)! <br>\n",
    "**you are going to use your alpaca in experiment 6C**\n"
   ]
  },
  {
   "cell_type": "markdown",
   "id": "307be735",
   "metadata": {},
   "source": [
    "## COMPARE & CONCLUDE\n",
    "> <font color='grey'>⏳ Estimated time: 10 min</font>\n",
    "\n",
    "* Wait till all (4) group members finish their observation\n",
    "* Compare your results with your other group members. \n",
    "* If your results agree, and are in line with all predictions, then talk to a TA and get checked off\n",
    "* Otherwise, so if your results do not agree, or your results are not in line with your predictions, then first discuss amongst your group before getting a TA. \n",
    "\n",
    "\n",
    "**to be checked off by a TA:**\n",
    "1. Show your morse code in action, spell out 'SOS' which is easy to recognise.\n",
    "2. Was your pseudocode similar to actual code you used? Did you miss key components or just structured it differently?\n",
    "3. exit card: 1. Write a brief abstract on what you learned (conclusion, useful graph), 2. Which troubleshooting skills do you want to remember for next sessions, 3. Which code do you copy for use in next sessions,\n",
    "4. How do think this notebook could be improved"
   ]
  },
  {
   "cell_type": "code",
   "execution_count": null,
   "id": "269a2d1b",
   "metadata": {},
   "outputs": [],
   "source": [
    "#6B send morse\n",
    "### TO DO=\"2.reflect on your pseudocode and actual code\" \n",
    "\n",
    "### TO DO=\"3a. abstract\"\n",
    "\n",
    "### TO DO=\"3b. troubleshooting\"\n",
    "\n",
    "### TO DO=\"3c. code\"\n",
    "\n",
    "### TO DO=\"4. what changes would you suggest?\"\n"
   ]
  },
  {
   "cell_type": "code",
   "execution_count": null,
   "id": "3836b874",
   "metadata": {},
   "outputs": [],
   "source": [
    "#run this code only if you are not going to do 6C, then comment this out\n",
    "%rebootdevice\n",
    "%disconnect"
   ]
  },
  {
   "cell_type": "code",
   "execution_count": null,
   "id": "67c51799",
   "metadata": {},
   "outputs": [],
   "source": []
  }
 ],
 "metadata": {
  "kernelspec": {
   "display_name": "Alpaca Kernel",
   "language": "python",
   "name": "alpaca"
  },
  "language_info": {
   "codemirror_mode": {
    "name": "ipython",
    "version": 3
   },
   "file_extension": ".py",
   "mimetype": "text/x-python",
   "name": "python",
   "nbconvert_exporter": "python",
   "pygments_lexer": "ipython3",
   "version": "3.10.14"
  }
 },
 "nbformat": 4,
 "nbformat_minor": 5
}
