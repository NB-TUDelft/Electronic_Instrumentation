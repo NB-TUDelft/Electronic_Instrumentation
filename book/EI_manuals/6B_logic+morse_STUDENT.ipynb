{
 "cells": [
  {
   "cell_type": "code",
   "execution_count": null,
   "id": "c07fb2a0",
   "metadata": {},
   "outputs": [],
   "source": [
    "import time\n",
    "# import stuff needed for alpaca to use the led and buzzer\n",
    "\n",
    "### part 1 of the code, making the functions 'letter_*'\n",
    "# only the part 1 code needs to be adapted\n",
    "def letter_dash():\n",
    "    print('_') # add pseudocode: something with led to turn led off and on, and time.sleep\n",
    "\n",
    "def letter_dot():\n",
    "    print(':') # add pseudocode: something with led to turn led off and on, and time.sleep\n",
    "\n",
    "def letter_l():\n",
    "    print('L') # add pseudocode: something with time.sleep\n",
    "    \n",
    "def letter_w():\n",
    "    print('W') # add pseudocode: something with time.sleep\n",
    "    \n",
    "# step 2: we need to loop over all letters in result2\n",
    "# while in regular python you can do \"for c in result2:\" it will not work in Alpaca kernel \n",
    "for c in range(len(result2)):\n",
    "    if result2[c]=='-': \n",
    "        letter_dash()\n",
    "    elif result2[c]=='.': \n",
    "        letter_dot()\n",
    "    elif result2[c]=='l': \n",
    "        letter_l()\n",
    "    elif result2[c]=='w': \n",
    "        letter_w()\n",
    "        \n",
    "\n"
   ]
  },
  {
   "cell_type": "markdown",
   "id": "ddd32b67",
   "metadata": {},
   "source": [
    "Note: if you wrote real code instead of pseudocode, please remember to first connect your Alpaca, physically with USB wires, and don't forget to run the following code first:"
   ]
  },
  {
   "cell_type": "code",
   "execution_count": null,
   "id": "8917f456",
   "metadata": {
    "scrolled": true
   },
   "outputs": [],
   "source": [
    "#change the port to your port: if it gives an error, it also suggest you the best COM number\n",
    "%serialconnect to --port=\"COM3\" "
   ]
  },
  {
   "cell_type": "code",
   "execution_count": null,
   "id": "5f7e1f67",
   "metadata": {},
   "outputs": [],
   "source": [
    "### TO DO=\"copy the above code + adapt + make it run smoothly\"\n"
   ]
  },
  {
   "cell_type": "markdown",
   "id": "c9b84d0f",
   "metadata": {},
   "source": [
    "## SIMULATE\n",
    "> <font color='grey'>⏳ Estimated time: 0 min</font>\n",
    "\n",
    "there is no simulation for this assignment. But if you eager to try, and you have an ALPACA at home ...."
   ]
  },
  {
   "cell_type": "markdown",
   "id": "0b414495",
   "metadata": {},
   "source": [
    "## IMPLEMENT & INVESTIGATE 1: Digital output\n",
    "> <font color='grey'>⏳ Estimated time: 10 min</font>\n",
    "\n",
    "You are going to learn how to use digital outputs on the ALPACA. First, you are going to use a digital pin to turn on an in-built led (located on the green picopi, next to the BOOTSEL button). **Remember to run this notebook locally in nb environment!** Run the code below to turn it on."
   ]
  },
  {
   "cell_type": "code",
   "execution_count": null,
   "id": "222b0e36",
   "metadata": {},
   "outputs": [],
   "source": [
    "#change the port to your port: if it gives an error, it also suggest you the best COM number\n",
    "%serialconnect to --port=\"COM3\" "
   ]
  },
  {
   "cell_type": "code",
   "execution_count": null,
   "id": "f4e90a99",
   "metadata": {},
   "outputs": [],
   "source": [
    "from machine import Pin # type: ignore\n",
    "led = Pin(25, Pin.OUT)\n",
    "\n",
    "led.value(1) \n"
   ]
  },
  {
   "cell_type": "markdown",
   "id": "ca6d8ab0",
   "metadata": {},
   "source": [
    "As you can see, the led it on. Now we want to turn it of. Complete the code below to turn of the led"
   ]
  },
  {
   "cell_type": "code",
   "execution_count": null,
   "id": "3e7815e3",
   "metadata": {},
   "outputs": [],
   "source": [
    "led.value(...) "
   ]
  },
  {
   "cell_type": "markdown",
   "id": "5e5a150e",
   "metadata": {},
   "source": [
    "Now, you will make the led blink!"
   ]
  },
  {
   "cell_type": "code",
   "execution_count": null,
   "id": "af6ec14c",
   "metadata": {},
   "outputs": [],
   "source": [
    "import time\n",
    "\n",
    "set_LED_on = True\n",
    "\n",
    "for ii in range(10): # Blink 5 times\n",
    "    led.value(set_LED_on)\n",
    "    set_LED_on = not(set_LED_on) # invert state\n",
    "    time.sleep(1) # Delay"
   ]
  },
  {
   "cell_type": "markdown",
   "id": "bb9b9737",
   "metadata": {},
   "source": [
    "The code you just used, should remind you of boolean operators in Python or other programming languages. Those logical statements are the backbone of coding your Alpaca. Other digital outputs (that you already used before in some of PicoPI assignments) include Dout pins."
   ]
  },
  {
   "cell_type": "markdown",
   "id": "62e0b9c4",
   "metadata": {},
   "source": [
    "## IMPLEMENT & INVESTIGATE 2: Digital input\n",
    "> <font color='grey'>⏳ Estimated time: 10 min</font>\n",
    "\n",
    "\n",
    "<img src=\"https://gitlab.tudelft.nl/mwdocter/nb2214-images/-/raw/a894a02ef157ca15d3d118eb243245eb912ba4f0/PicoPI/picopi1_14_playground.jpg\" width=50% style=\"float:right\"></img>\n",
    "With switch 1 on the Alpaca you are going to turn the LED on the Alpaca on and off. \n",
    "* Using a wire, connect the pin *SW1* on the ALPACAs PLAYGROUND to *Din3-GP21* on the Cria\n",
    "* Run the following code\n",
    "* If you have not powered the Alpaca board with the second USB cable, do so\n",
    "\n",
    "Try signaling a letter in Morse code using this code! You might want to extend the 'for loop' duration if you want to spell something longer. To signal press a button on the alpaca called SW1."
   ]
  },
  {
   "cell_type": "code",
   "execution_count": null,
   "id": "e997a28c",
   "metadata": {},
   "outputs": [],
   "source": [
    "from machine import Pin # type: ignore\n",
    "import time\n",
    "\n",
    "button = Pin(21, Pin.IN, None) # last input is None, Pin.PULL_UP, Pin.PULL_DOWN\n",
    "led = Pin(25, Pin.OUT)\n",
    "\n",
    "for ii in range (200): # Check for 10 seconds\n",
    "    #print(ii,button.value())\n",
    "    if button.value()==0:\n",
    "        #print(\"You pressed a button!\")\n",
    "        led.value(1)\n",
    "    else: \n",
    "        led.value(0)\n",
    "    time.sleep(0.05) # Cooldown delay between checks\n",
    "led.value(0) #switch off afterwards\n"
   ]
  },
 {
   "cell_type": "markdown",
   "id": "20ed3384",
   "metadata": {},
   "source": [
    "> <font size=6>🔥</font>  \n",
    ">\n",
    "> If the LED is not responding, you can test whether your switch is working in the following way:\n",
    "> * On the Alpaca playground connect SW1 to LED1-A, and connect LED1-C to GND\n",
    "> * LED1 should be on by default, until you press SW1\n",
    "> \n",
    "> If this is not working, check whether the Alpaca is powered. <br>\n",
    "> If it is still not working contact a TA"
   ]
  },
  {
   "cell_type": "markdown",
   "id": "030e8948",
   "metadata": {},
   "source": [
    "## IMPLEMENT & INVESTIGATE 3: Buzzer\n",
    "> <font color='grey'>⏳ Estimated time: 5 min</font>\n",
    "\n",
    "One of the things you can control with digital outputs is a buzzer on Alpaca board. As a name suggests, it creates buzzing sound when active. \n",
    "* Disconnect the wire connecting the switch( button).\n",
    " * Connect *Dout0* to *BUZZER*. Dout0 is on PicoPi, while buzzer is on the playground. \n",
    "\n",
    "Run the code below to activate the buzzer. You can adjust the value in time.sleep to extend the duration of the buzz"
   ]
  },
  {
   "cell_type": "code",
   "execution_count": null,
   "id": "14404514",
   "metadata": {},
   "outputs": [],
   "source": [
    "from machine import Pin\n",
    "import time\n",
    "\n",
    "buzzer= Pin(14, Pin.OUT) #pin 14=Dout0\n",
    "\n",
    "buzzer.value(1)\n",
    "time.sleep(1)\n",
    "buzzer.value(0)\n",
    "   "
   ]
  },
  {
   "cell_type": "markdown",
   "id": "8f0134d1",
   "metadata": {},
   "source": [
    "## IMPLEMENT & INVESTIGATE 4: Morse code\n",
    "> <font color='grey'>⏳ Estimated time: 40 min</font>\n",
    "\n",
    "Now you are going to finally program in your Morse code signaler. Copy your code from the anticipate part above, and use the code already given or feel free to code from scratch yourself (if you feel up to the challenge)!\n",
    "\n",
    "Try spelling your own name or 'ALPACA' and end a message with a 2 second buzzer sound. If you are troubleshooting, keep the buzzer code commented (your fellow students will appreciate the silence).\n",
    "\n",
    "See if you can decode the message you are sending (can you clearly distinguish long and short signal? How about the pauses?)"
   ]
  },
  {
   "cell_type": "code",
   "execution_count": null,
   "id": "9fdff519",
   "metadata": {},
   "outputs": [],
   "source": [
    "result2=encodeMessage('whatever you are going to write'.upper())\n",
    "from machine import Pin\n",
    "import time\n",
    "\n",
    "led = Pin(25, Pin.OUT)\n",
    "buzzer= Pin(14, Pin.OUT)\n",
    "\n",
    "### part 1 of the code, making the functions 'letter_*'\n",
    "# only the part 1 code needs to be adapted\n",
    "#complete the rest of the code using your code from ANTICIPATE and code given in exercises before.\n",
    "def letter_dash():\n",
    "    print('_') # you need to replace it with something with led to turn led of and on, and time.sleep\n",
    "    \n",
    "def letter_dot():\n",
    "    print(':') # you need to replace it with something with led to turn led of and on, and time.sleep\n",
    "\n",
    "def letter_l():\n",
    "    print('L') # you need to replace it with something with time.sleep\n",
    "    \n",
    "def letter_w():\n",
    "    print('W')\n",
    "\n",
    "# step 2: we need to loop over all letters in result2 (use the part2 code as given)\n",
    "for c in result2:\n",
    "    if c=='-': \n",
    "        letter_dash()\n",
    "    elif c=='.': \n",
    "        letter_dot()\n",
    "    elif c=='l': \n",
    "        letter_l()\n",
    "    elif c=='w': \n",
    "        letter_w()\n",
    "# step 3: buzzer     "
   ]
  },
  {
   "cell_type": "code",
   "execution_count": null,
   "id": "095cad0a",
   "metadata": {},
   "outputs": [],
   "source": [
    "### TO DO=\"copy the above code + adapt + make it run smoothly\"\n"
   ]
  },
  {
   "cell_type": "markdown",
   "id": "e105d3e9",
   "metadata": {},
   "source": [
    "Congratulations! You sent your own message in Morse code! Show to the TA you got it working(by showing it in person or taking a )! <br>\n",
    "**you are going to use your alpaca in experiment 6C**\n"
   ]
  },
  {
   "cell_type": "markdown",
   "id": "307be735",
   "metadata": {},
   "source": [
    "## COMPARE & CONCLUDE\n",
    "> <font color='grey'>⏳ Estimated time: 10 min</font>\n",
    "\n",
    "* Wait till all (4) group members finish their observation\n",
    "* Compare your results with your other group members. \n",
    "* If your results agree, and are in line with all predictions, then talk to a TA and get checked off\n",
    "* Otherwise, so if your results do not agree, or your results are not in line with your predictions, then first discuss amongst your group before getting a TA. \n",
    "\n",
    "\n",
    "**to be checked off by a TA:**\n",
    "1. Show your morse code in action, spell out 'SOS' which is easy to recognise.\n",
    "2. Was your pseudocode similar to actual code you used? Did you miss key components or just structured it differently?\n",
    "3. exit card: \n",
    "    1. Write a brief abstract on what you learned (conclusion, useful graph), \n",
    "    2. Which troubleshooting skills do you want to remember for next sessions, \n",
    "    3. Which code do you copy for use in next sessions,\n",

    "4. How do you think this notebook could be improved"

   ]
  },
  {
   "cell_type": "code",
   "execution_count": null,
   "id": "85362f6a",
   "metadata": {},
   "outputs": [],
   "source": []
  },
  {
   "cell_type": "code",
   "execution_count": null,
   "id": "269a2d1b",
   "metadata": {
    "collapsed": true
   },
   "outputs": [],
   "source": [
    "#6B send morse\n",
    "### TO DO=\"2.reflect on your pseudocode and actual code\" \n",
    "\n",
    "### TO DO=\"3a. abstract\"\n",
    "\n",
    "### TO DO=\"3b. troubleshooting\"\n",
    "\n",
    "### TO DO=\"3c. code\"\n",
    "\n",
    "### TO DO=\"4. what changes would you suggest?\"\n"
   ]
  },
  {
   "cell_type": "code",
   "execution_count": null,
   "id": "3836b874",
   "metadata": {},
   "outputs": [],
   "source": [
    "#run this code only if you are not going to do 6C, then comment this out\n",
    "%rebootdevice\n",
    "%disconnect"
   ]
  },
  {
   "cell_type": "code",
   "execution_count": null,
   "id": "67c51799",
   "metadata": {},
   "outputs": [],
   "source": []
  }
 ],
 "metadata": {
  "kernelspec": {
   "display_name": "Alpaca Kernel",
   "language": "python",
   "name": "alpaca"
  },
  "language_info": {
   "codemirror_mode": {
    "name": "ipython",
    "version": 3
   },
   "file_extension": ".py",
   "mimetype": "text/x-python",
   "name": "python",
   "nbconvert_exporter": "python",
   "pygments_lexer": "ipython3",
   "version": "3.10.14"
  }
 },
 "nbformat": 4,
 "nbformat_minor": 5
}
