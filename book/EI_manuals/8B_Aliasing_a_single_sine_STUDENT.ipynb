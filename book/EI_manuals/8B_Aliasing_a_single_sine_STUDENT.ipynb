{
 "cells": [
  {
   "cell_type": "code",
   "execution_count": null,
   "id": "88dcf222",
   "metadata": {},
   "outputs": [],
   "source": [
    "from IPython.core.display import HTML\n",
    "def set_width(width):\n",
    "    display(HTML(f\"\"\"<style>  \n",
    "            .container {{ width:{width}% !important; \n",
    "                            min-width:800px !important; margin: 0 auto}} \n",
    "            .jp-Cell {{ width:{width}% !important; \n",
    "                            min-width:800px !important; margin: 0 auto}} </style>\"\"\"))\n",
    "# Set container width to X% of the fullscreen \n",
    "set_width(50)"
   ]
  },
  {
   "cell_type": "markdown",
   "id": "31dc1212",
   "metadata": {},
   "source": [
    "# 8B: Aliasing Single Sine\n",
    "> <font color='blue'>Learning goal:</font> understand how and why aliasing occurs, learn how to cause aliasing and measure aliased signal. Understand how frequency, sampling frequency and Nyquist frequency are connected to aliasing.\n",
    "\n",
    "Structure of an experiment:\n",
    "- Background+Anticipate + Simulate (15+10+30 min): per person. This is homework and should be finished **before** you start your 4 hours practicum session\n",
    "- Implement + Investigate (30+20 min): with your partner(group of 2)\n",
    "- Compare + Conclude (20 min): with a group of 4(per table)"
   ]
  },
  {
   "cell_type": "markdown",
   "id": "1be3bd9d-a745-4d99-89bf-af2b9f9f281e",
   "metadata": {},
   "source": [
    "## BACKGROUND\n",
    "> <font color='grey'>⏳ Estimated time: 15 min</font>\n",
    "\n",
    "Have you ever seen a helicopter on TV? You may have noticed that the wicks appear to rotate in a strange pattern. This effect is called aliasing.\n",

    "* https://www.youtube.com/watch?v=ByTsISFXUoY"
   ]
  },
  {
   "cell_type": "markdown",
   "id": "c879b66c",
   "metadata": {},
   "source": [
    "\n",
    "\n",
    "Aliasing occurs when a periodic signal is sampled with a sampling frequency that is too low to capture the true signal. In the video, the camera was too slow to image the quickly rotating propeller. To explain the observed pattern, we will first briefly explain what sampling is.\n",
    "\n",
    "### What is sampling?\n",
    "\n",
    "The alternating voltage from you wall outlets is an analogue signal. We can think of it as a sine wave. This is a continuous signal with a frequency of 50 Hz.\n",
    "\n",
    "<img src=\"https://gitlab.tudelft.nl/mwdocter/nb2214-images/-/raw/main/PyDAQ-Next/PyDAQ6-fig1.png\" width=60%></img>\n",
    "\n",
    "If we want to grasp this analogue signal in a digital environment, we will need to convert it. To do so, we measure the voltage at many timepoints with a fixed interval. Such a measurement is called a 'sample'. The sampling frequency (or sampling rate) is the frequency of these measurements. In the following image, we used a sampling frequency of 260 Hz. Since the analogue signal is 50 Hz, we have approximately 5 samples per period.\n",
    "\n",
    "<img src=\"https://gitlab.tudelft.nl/mwdocter/nb2214-images/-/raw/main/PyDAQ-Next/PyDAQ6-fig2.png\" width=60%></img>\n",
    "\n",
    "If we let the computer connect all these samples, we retrieve a signal that looks reasonably similar to the original signal. This is called reconstruction. Good reconstruction is only possible if the sampling frequency is high enough.\n",
    "\n",
    "<img src=\"https://gitlab.tudelft.nl/mwdocter/nb2214-images/-/raw/main/PyDAQ-Next/PyDAQ6-fig3.png\" width=60%></img>\n",
    "\n",
    "The process of reducing a continuous-time signal to a discrete-time one is called sampling. This is the first step for converting an analogue signal to a digital one. The second step (quantisation) is not so relevant for this part of the course.\n",
    "\n",
    "$$\n",
    "f_\\text{Nyquist} = \\frac{f_\\text{sampling}}{2}\n",
    "$$\n"
   ]
  },
  {
   "cell_type": "markdown",
   "id": "7d531974",
   "metadata": {},
   "source": [
    "You can explore aliasing on paper, by drawing sines and 'sampling' them. Follow the steps below, and see how sampling frequency and timing of sampling affect the reconstruction\n",
    "* How will frequency spectrum look for a sine of 25Hz with sampling frequency 12Hz? Draw a picture or write down what happens.\n",
    "* On paper, draw 5 identical signals below each other: three periods of a sine, starting at phase 0, amplitude 1.\n",
    "* For each signal, sample in a different way:\n",
    "    1. 4 points per period, start at phase 0\n",
    "    2. 4 points per period, start at phase 45 degrees\n",
    "    3. 2 points per period start at phase 0\n",
    "    4. 2 points per period, start at phase 60\n",
    "    5. 4 points per 3 periods, start at phase 0\n",
    "* Which amplitude and frequency do you \"measure\" (draw a reconstruction - does it still look like a sine)? \n",
    "* Think whether the amplitude and phase you \"measured\" are correct\n"
   ]
  },
  {
   "cell_type": "code",
   "execution_count": null,
   "id": "56c9d4cc",
   "metadata": {},
   "outputs": [],
   "source": [
    "from ipywidgets import FileUpload\n",
    "from IPython.display import Image\n",
    "import os \n",
    "upload=FileUpload()\n",
    "upload\n"
   ]
  },
  {
   "cell_type": "code",
   "execution_count": null,
   "id": "3c5e3b37",
   "metadata": {},
   "outputs": [],
   "source": [
    "file_name=\"8B_1_25hzspectrum.jpg\"\n",
    "if upload.value!={}:\n",
    "    with open(file_name,\"wb\") as f:\n",
    "        try: f.write(upload.data[-1]) # python 3.7 Kernel code\n",
    "        except: f.write(upload.value[-1][\"content\"])  # python 3.8 Kernel code\n",
    "\n",
    "Image(filename=file_name, width=\"50%\")"
   ]
  },
  {
   "cell_type": "code",
   "execution_count": null,
   "id": "a36fa2ef",
   "metadata": {},
   "outputs": [],
   "source": [
    "upload\n"
   ]
  },
  {
   "cell_type": "code",
   "execution_count": null,
   "id": "0434f08b",
   "metadata": {},
   "outputs": [],
   "source": [
    "file_name=\"8B_2_reconstructed signals.jpg\"\n",
    "if upload.value!={}:\n",
    "    with open(file_name,\"wb\") as f:\n",
    "        try: f.write(upload.data[-1]) # python 3.7 Kernel code\n",
    "        except: f.write(upload.value[-1][\"content\"])  # python 3.8 Kernel code\n",
    "\n",
    "Image(filename=file_name, width=\"50%\")"
   ]
  },
  {
   "cell_type": "code",
   "execution_count": null,
   "id": "078896e3",
   "metadata": {},
   "outputs": [],
   "source": [
    "### TO DO=\"your answers on the 'measured' amplitude and frequency, and whether this is similar to the input\"\n"
   ]
  },
  {
   "cell_type": "markdown",
   "id": "862a8396",
   "metadata": {},
   "source": [
    "## ANTICIPATE: aliasing of a sine\n",
    "> <font color='grey'>⏳ Estimated time: 10 min</font>\n",
    "\n",
    "The widget below will help you understand aliasing. First try to predict what yoou think will happend and later check if you were right.\n",
    "To run the simulation, you will need to copy paste the code you wrote last week in 7B that defines *calculate_fft* function. You will be using that function a lot, so maybe save it somewhere you can easily access.\n",
    "\n",
    "The simulation will allow you to see the difference that sampling causes to digital signal and its frequency spectrum. See what happens when you are below, on (and on multiples) and above Nyquist frequency for your sampling (both for analog and digital signal). See what happends when your sampling freqency is more than 3 times lower. Try moving both of the sliders. Write down what you observe."
   ]
  },
  {
   "cell_type": "code",
   "execution_count": null,
   "id": "12385b98",
   "metadata": {},
   "outputs": [],
   "source": [
    "#calculate_fft:"
   ]
  },
  {
   "cell_type": "code",
   "execution_count": null,
   "id": "72ac6581",
   "metadata": {},
   "outputs": [],
   "source": [
    "### TO DO=\"paste the calculate_fft code below\"\n"
   ]
  },
  {
   "cell_type": "code",
   "execution_count": null,
   "id": "339c532d",
   "metadata": {},
   "outputs": [],
   "source": [
    "#import IPython.html.widgets as widgets\n",
    "import ipywidgets as widgets\n",
    "import numpy as np\n",
    "import matplotlib.pyplot as plt\n",
    "plt.rcParams['figure.figsize'] = [20, 10]\n",
    "\n",
    "def round_to_1(x):\n",
    "    return np.round(x, -int(np.floor(np.log10(abs(x)))))\n",
    "\n",
    "def smallest_nb_same_order(x):\n",
    "    return 10**(int(np.floor(np.log10(abs(x)))))\n",
    "\n",
    "\n",
    "def adjustfrequency2(signal_frequency,sampling_frequency):\n",
    "    \n",
    "    fig, ((timedomain,freqdomain), (sampledtimedomain,sampledfreqdomain)) = plt.subplots(2, 2)\n",
    "    plt.subplots_adjust(hspace=0.4)\n",
    "    \n",
    "    \n",
    "    # TIME DOMAIN PART\n",
    "    \n",
    "    time = np.arange(0.0, 50/signal_frequency, 0.02/signal_frequency)\n",
    "    volt = np.sin( signal_frequency *2*np.pi*time)\n",
    "    \n",
    "    samplepoints = np.arange(0.0, 50/signal_frequency, 1/sampling_frequency)\n",
    "    volt_samples = np.sin( signal_frequency *2*np.pi*samplepoints )\n",
    "    \n",
    "    timedomain.plot(time, volt,label='analogue signal')\n",
    "    timedomain.set(xlabel='Time (s)', ylabel='Amplitude (V)', title='Time domain of analogue signal')\n",
    "    timedomain.set(xlim=[0,3/signal_frequency],ylim=[-1.1,1.1])\n",
    "    timedomain.legend(loc='upper right')\n",
    "    timedomain.grid()\n",
    "    \n",
    "\n",
    "    sampledtimedomain.stem(samplepoints, volt_samples,markerfmt='C0X-',linefmt='C2--',basefmt='None', label='sampled signal',use_line_collection=True)\n",
    "    sampledtimedomain.plot(time, volt, ':',color='0.7')\n",
    "    sampledtimedomain.set(xlabel='Time (s)', ylabel='Amplitude (V)', title='Time domain of sampled signal')\n",
    "    sampledtimedomain.set(xlim=[0,3/signal_frequency],ylim=[-1.1,1.1])\n",
    "    sampledtimedomain.legend(loc='upper right')\n",
    "    sampledtimedomain.grid()\n",
    "\n",
    "    \n",
    "    # FOURIER DOMAIN PART\n",
    "    freq_smooth = np.arange(0,sampling_frequency,smallest_nb_same_order(sampling_frequency/1000))\n",
    "    fft_smooth = 1*np.array(freq_smooth == signal_frequency)\n",
    "    freqaxis,fft = calculate_fft( volt_samples, rate=sampling_frequency )\n",
    "    \n",
    "    freqdomain.plot(freq_smooth,fft_smooth, label='analogue/analytic FT')\n",
    "    freqdomain.plot([sampling_frequency/2,sampling_frequency/2],[-1,2],'C1-',label='Nyquist frequency')\n",
    "    freqdomain.set(xlabel='Frequency (Hz)', ylabel='Amplitude of Fourier coefficient')\n",
    "    freqdomain.set(title='Frequency domain of analogue signal',xlim=[0,sampling_frequency],ylim=[0,1.1])\n",
    "    freqdomain.legend(loc='upper right')\n",
    "    freqdomain.grid()\n",
    "    \n",
    "    sampledfreqdomain.stem(freqaxis,fft,markerfmt='C0X-',linefmt='C0--',basefmt='None', label='FFT of sample', use_line_collection=True)\n",
    "    sampledfreqdomain.plot([sampling_frequency/2,sampling_frequency/2],[-1,2],'C1-',label='Nyquist frequency')\n",
    "    sampledfreqdomain.set(xlabel='Frequency (Hz)', ylabel='Amplitude of Fourier coefficient')\n",
    "    sampledfreqdomain.set(title='Frequency domain of sampled signal',xlim=[0,sampling_frequency],ylim=[0,1.1])\n",
    "    sampledfreqdomain.legend(loc='upper right')\n",
    "    sampledfreqdomain.grid()\n",
    "\n",
    "    plt.show()\n",
    "\n",
    "#widgets.interact(adjustfrequency2, signal_frequency=widgets.IntSlider(min=1, max=25, step=1, value=1, description='Signal freq:'), sampling_frequency=widgets.IntSlider(min=12, max=50, step=2, value=26, description='Sampling:'))\n",
    "\n",
    "widgets.interact(adjustfrequency2, signal_frequency=widgets.IntSlider(min=1e3, max=25e3, step=1e3, value=14e3, description='Signal freq:'), sampling_frequency=widgets.IntSlider(min=12e3, max=50e3, step=2e3, value=26e3, description='Sampling:'))\n"
   ]
  },
  {
   "cell_type": "code",
   "execution_count": null,
   "id": "dbecc5b4",
   "metadata": {},
   "outputs": [],
   "source": [
    "### TO DO=\"Write your answers on what you observe when changing the sliders\"\n"
   ]
  },
  {
   "cell_type": "markdown",
   "id": "1cc113bf",
   "metadata": {},
   "source": [
    "Now put sampling slider to the minimum value and then the frequency slider to maximum. Observe what happens to the frequency spectrum of digital signal. To clearly see what is happening, move the frequency first to min and then to max and follow the frequency spectrum behaviour for digitial signal vs analog signal."
   ]
  },
  {
   "cell_type": "code",
   "execution_count": null,
   "id": "f6460796",
   "metadata": {},
   "outputs": [],
   "source": [
    "### TO DO=\"Write your answers here, on the comparison of the spectra\"\n"
   ]
  },
  {
   "cell_type": "markdown",
   "id": "050696ff",
   "metadata": {},
   "source": [
    "Did you figure out the rules of aliasing? Use word inverted and analogue to describe the signal. Say for which frequency signal is going 'left' and when 'right' for a Nyquist frequency of f_N."
   ]
  },
  {
   "cell_type": "code",
   "execution_count": null,
   "id": "312be798",
   "metadata": {},
   "outputs": [],
   "source": [
    "### TO DO=\" Write your answer here\"\n"
   ]
  },
  {
   "cell_type": "markdown",
   "id": "aebbcdea",
   "metadata": {},
   "source": [
    "## SIMULATE: writing a code to anticipate measured aliased frequency\n",
    "> <font color='grey'>⏳ Estimated time: 30 min</font>\n",
    "\n",
    "You will write code that tells you which frequency should you see when your original freqnecy might be aliased (assuming it is a nonshifted sine). But first, you need to make sure that you really understand how aliasing works. \n",
    "* What is the measured signal when we measure a sine wave of 5.3 kHz with a sampling rate of 4.8 kHz?"
   ]
  },
  {
   "cell_type": "markdown",
   "id": "13f17d0b",
   "metadata": {},
   "source": [
    "You may find the question hard to answer. Therefore, we will discuss a visual way to address it: imagining that the original frequency of 5300 Hz flips symmetrically around the Nyquist frequency of 2400 Hz. It will land on -500 kHz (because $4800 - 5300 = - 500$). Next, it flips back around the origin, landing on 500 Hz. Since this is between 0 Hz and the Nyquist frequency, 500 Hz is the frequency that will be measured. That is the answer to the question.\n",
    "\n",
    "<img src=\"https://gitlab.tudelft.nl/mwdocter/nb2214-images/-/raw/main/PyDAQ-Next/PyDAQ6-aliasing-explanation-1-b.png\" width=50%></img>\n",
    "\n",
    "This algorithm of flipping around the Nyquist frequency and the origin repeatedly will always let any frequency land in the observable region, between 0 Hz and the Nyquist frequency. You can use this method to calculate the aliased frequency. \n",
    "\n",
    "Also, the number of flips will tell you whether the aliased signal has a **positive or negative phase** (or phrased differently: whether the signal starts going up or going down at $t=0$, given that the original signal goes up). Every flip will lead to a phase inversion. Two flips, like in the above case, will cancel out, meaning that the aliased signal will have the same phase as the original.\n",
    "\n",
    "Study the image below, which concerns a signal frequency of 8.4 kHz sampled with a frequency of 4.8 kHz again. \n",
    "* Will the aliased signal be inverted or not? \n",
    "\n",
    "If you can answer this question correctly, you should be able to write the code!\n",
    "\n",
    "<img src=\"https://gitlab.tudelft.nl/mwdocter/nb2214-images/-/raw/main/PyDAQ-Next/PyDAQ6-aliasing-explanation-3-b.png\" width=50%></img>"
   ]
  },
  {
   "cell_type": "markdown",
   "id": "924ef3f0",
   "metadata": {},
   "source": [
    "Write a function that calculates the measured signal frequency given the true frequency and the sampling rate. You may assume that the signal is a sine with starting phase 0. \n",
    "Your function needs to take signal_frequency and sampling_rate as an inputs, and return the measured_frequency.\n",
    "> ### <font color='blue'>Hint:</font>\n",
    ">* the calculate_measured_frequency code is a hint, but feel free to write your own code from scratch. Make sure to be able to explain what your code does\n",
    ">* Tip: first write down the approach in words, then start finding/ filling in the code. \n",
    ">* The unittest Code is meant for testing your function.\n",
    "\n",
    "feel free to watch last year's precap video:\n",
    "* https://www.youtube.com/watch?v=-ArD57-lLks\n"
   ]
  },
  {
   "cell_type": "code",
   "execution_count": null,
   "id": "e9e963a6",
   "metadata": {},
   "outputs": [],
   "source": [
    "def calculate_measured_frequency( signal_frequency, sampling_rate):\n",
    "    # first flip the input frequency into the range 0 till sampling rate. \n",
    "    # you can use the modulus (a%b), or a while loop (which is more risky if there is no proper ending criterium)\n",
    "    ...\n",
    "    if remainder < sampling_rate/2:\n",
    "        return ...\n",
    "    if remainder > sampling_rate/2:\n",
    "        return ...\n",
    "    # is there another if case?\n",
    "    # return measured_frequency"
   ]
  },
  {
   "cell_type": "code",
   "execution_count": null,
   "id": "3d2e349b",
   "metadata": {},
   "outputs": [],
   "source": [
    "### TO DO=\"copy paste the above code and adapt\"\n",
    "\n"
   ]
  },
  {
   "cell_type": "code",
   "execution_count": null,
   "id": "defd2a7d",
   "metadata": {},
   "outputs": [],
   "source": [
    "#this is testing code, just use it, no need to adapt or alter it\n",
    "\n",
    "import unittest\n",
    "\n",
    "class TestCode(unittest.TestCase):\n",
    "\n",
    "    def test_1_noAliasing(self):\n",
    "        self.assertEqual(calculate_measured_frequency(5,50), 5)\n",
    "        self.assertEqual(calculate_measured_frequency(20,50), 20)\n",
    "        \n",
    "    def test_2_oneFlip(self):\n",
    "        self.assertEqual(calculate_measured_frequency(30,50), 20)\n",
    "        self.assertEqual(calculate_measured_frequency(45,50), 5)\n",
    "\n",
    "    def test_3_twoFlips(self):\n",
    "        self.assertEqual(calculate_measured_frequency(55,50), 5)\n",
    "        self.assertEqual(calculate_measured_frequency(70,50), 20)\n",
    "\n",
    "    def test_4_threeFlips(self):\n",
    "        self.assertEqual(calculate_measured_frequency(80,51), 22)\n",
    "        self.assertEqual(calculate_measured_frequency(95,51), 7)\n",
    "        \n",
    "    def test_5_annihilation(self):\n",
    "        self.assertEqual(calculate_measured_frequency(0,50), 0)\n",
    "        self.assertEqual(calculate_measured_frequency(25,50), 0)\n",
    "        self.assertEqual(calculate_measured_frequency(50,50), 0)\n",
    "        self.assertEqual(calculate_measured_frequency(75,50), 0)\n",
    "        \n",
    "if __name__ == '__main__':\n",
    "    unittest.main(argv=['first-arg-is-ignored'], \n",
    "                  verbosity=2, exit=False)"
   ]
  },
  {
   "cell_type": "code",
   "execution_count": null,
   "id": "6adead1c",
   "metadata": {},
   "outputs": [],
   "source": [
    "for freq in range (250,3000, 250):\n",
    "    print(freq, calculate_measured_frequency(freq,1000))\n",
    "### TO DO= \"Do these values make sense?\"\n"
   ]
  },
  {
   "cell_type": "markdown",
   "id": "6db8454f",
   "metadata": {},
   "source": [
    "## IMPLEMENT & INVESTIGATE 1: experimentally observe aliasing\n",
    "> <font color='grey'>⏳ Estimated time: 30 min</font>\n",
    "\n",
    "Now instead of simulating aliasing, you are going to create a analog signal which will get aliased. You will need a function generator, scope and the breakout box (DAQ).\n",
    "\n",
    "* Connect function generator to the scope and the breakout box and let the function generator produce a 100Hz sine with 1Vpp.\n",
    "* **Acquire 50 samples at an sampling frequency of 10 times the signal frequency, so 1kHz.**\n",
    "\n",
    "> <font size=4>ℹ️</font> <b>Hints</b><br> \n",
    ">- Reuse the code from either Analog Input (7A) which runs with a single frequency, or the automated multi-frequency code from used for automated filter response (8A). \n",
    ">- Pay close attention to the sampling rate (both pieces of code), and to the signal frequency (for 8A).\n",
    ">- Then apply you calculate_fft (from 7B), to find out what the frequency of the output signal is. \n",
    "\n",
    "Remember that you will have to use the **desktop (classroom) computer**."
   ]
  },
  {
   "cell_type": "code",
   "execution_count": null,
   "id": "a2c95298",
   "metadata": {},
   "outputs": [],
   "source": [
    "### TO DO=\"your copy of the Analog Input code\"\n"
   ]
  },
  {
   "cell_type": "markdown",
   "id": "deb167e7",
   "metadata": {},
   "source": [
    "Adjust the scope settings such that the scope screen displays about the same image as on the panel. Also **display the Fourier domain** on the scope screen.\n",
    "\n"
   ]
  },
  {
   "cell_type": "code",
   "execution_count": null,
   "id": "b147633b",
   "metadata": {},
   "outputs": [],
   "source": [
    "# your code for the acquisition, with correct nb of samples and sampling frequency\n",
    "# remember to use calculate_fft\n",
    "\n",
    "\n",
    "# up to you: you can make an acquisiion which you manually repeat, \n",
    "# or one, which you automatically update the freq in freq generator \n",
    "\n",
    "# you might want to use triggering don't forget to connect the SYNC from the freq generator: \n",
    "# task.triggers.start_trigger.cfg_dig_edge_start_trig(trigger_source = \"/Dev1/PFI0\", trigger_edge = Edge.RISING)\n",
    "\n",
    "#  plt.clf() # clears figure, handy if you want to rewrite the same figure in a loop over&over again\n",
    "# the combination fig= plt.figure(1) and fig.canvas.draw(), actually allows you to update the figure (for example while running a loop)\n",
    "\n",
    "# place %matplotlib notebook or  %matplotlib inline a line before import matplotlib.pyplot as plt. \n",
    "# then the same figure is reused as interactive plot\n",
    "\n",
    "# with Pillow you can automatically save images: plt.savefig('image'+str(set_freq)+'.jpg')\n",
    "# if receiving an error, do pip install Pillow in an Anaconda command window\n",
    "\n",
    "### TO DO=\"do some troubleshooting, work together, and if needed ask a TA for help\"\n"
   ]
  },
  {
   "cell_type": "markdown",
   "id": "dd3dd93e",
   "metadata": {},
   "source": [
    "Now, increase the signal frequency (on the function generator) from 100 Hz in steps of 100 Hz to 1100 Hz, **while keeping the sampling rate 1 kHz**. So don't change your code (other than the input frequency), and just rerun the code. \n",
    "\n",
    "Make sure to have enough periods measured. \n",
    "* Plot the frequency spectra, save and upload those spectra for 600, 900 and 1100 Hz. "
   ]
  },
  {
   "cell_type": "code",
   "execution_count": null,
   "id": "77425cd4",
   "metadata": {},
   "outputs": [],
   "source": [
    "# your answer: Save and upload the Python graphs for 600, 900 and 1100 Hz.\n",
    "# hint: use plt.subplots, get them in one screen, then screendump or combine them into one picture using a graphical programe\n",
    "from ipywidgets import FileUpload\n",
    "from IPython.display import Image\n",
    "import os\n",
    "upload=FileUpload()\n",
    "upload\n"
   ]
  },
  {
   "cell_type": "code",
   "execution_count": null,
   "id": "64e16be3",
   "metadata": {},
   "outputs": [],
   "source": [
    "file_name=\"8B_3_aliased600-900-1100.jpg\"\n",
    "if upload.value!={}:\n",
    "    with open(file_name,\"wb\") as f:\n",
    "        try: f.write(upload.data[-1]) # python 3.7 Kernel code\n",
    "        except: f.write(upload.value[-1][\"content\"])  # python 3.8 Kernel code\n",
    "\n",
    "Image(filename=file_name, width=\"50%\")"
   ]
  },
  {
   "cell_type": "code",
   "execution_count": null,
   "id": "acbbf342",
   "metadata": {},
   "outputs": [],
   "source": [
    "# other option to save the figure direclty: \n",
    "plt.savefig('8B_aliased_image.jpg') # automatically save with Pillow (pip install Pillow )\n"
   ]
  },
  {
   "cell_type": "markdown",
   "id": "33622af7",
   "metadata": {},
   "source": [
    "## IMPLEMENT & INVESTIGATE 2: observe frequency spectrum of data from 8A\n",
    "> <font color='grey'>⏳ Estimated time: 20 min</font>\n",
    "\n",
    "Use your fft function (that you already copied above) to calculate the observed frequency and how its frequency spectrum looks. How do you anticipate *function generator's frequency* vs *observed frequency* plot will look? Will it be linear? \n"
   ]
  },
  {
   "cell_type": "markdown",
   "id": "082c5ef0",
   "metadata": {},
   "source": [
    "Write a function *extract_fft_values*, which extracts the amplitude and the measured frequency from a signal. Inputs are frequency axis and Fourier transform (the output of your calculate_fft).\n",
    "\n",
    "First use it on `# test` to see if it works correctly and then run it on 8A data. (or \"old_data\" if you cannot get your 8A data to work)\n",
    "> ###  <font color='blue'>Hint:</font>\n",
    "> * use the output of calculate_fft\n",
    "> * remove the amplitude at f=0 (DC offset)\n",
    "> * find the location of the maximum intensity\n",
    "> * find the corresponding frequency, and store it as meas_freq"
   ]
  },
  {
   "cell_type": "code",
   "execution_count": null,
   "id": "a9c4b45b",
   "metadata": {},
   "outputs": [],
   "source": [
    "import numpy as np\n",
    "import matplotlib.pyplot as plt\n",
    "\n",
    "def extract_fft_values (measurement2, sample_rate):\n",
    "    DFT_frequencies,DFT_plot=calculate_fft(measurement2, rate=sample_rate)\n",
    "### TO DO='your code to derive Vout2'\n",
    "    \n",
    "    return Vout2, meas_freq[0]\n",
    "\n",
    "\n",
    "# test\n",
    "Nsamples = 80\n",
    "max_time=2\n",
    "rate=Nsamples/max_time\n",
    "time = np.linspace(0,max_time,Nsamples)\n",
    "voltage = 0.95 * np.sin( 12.0 * 2.0 * np.pi * time) + 1.3 * np.sin( np.pi * 2.0 * np.pi * time) + 0.65\n",
    "DFT_frequencies,DFT_plot=calculate_fft(voltage, rate=rate)\n",
    "plt.plot(DFT_frequencies,DFT_plot)\n",
    "\n",
    "print(extract_fft_values(voltage, Nsamples/max_time)) \n",
    "# not that due to the discrete sampling of the freuqency axis you will not exactly find amplitude 1.3 at frequency 3.14 Hz\n"
   ]
  },
  {
   "cell_type": "code",
   "execution_count": null,
   "id": "5facbabd",
   "metadata": {},
   "outputs": [],
   "source": [
    "''' tmp=np.load(r'data_week_8A.npz') # or old_data\n",
    "dt, sample_rate, Vout, frequency, data = tmp['arr_0'],tmp['arr_1'],tmp['arr_2'],tmp['arr_3'], tmp['arr_4'] '''\n",
    "\n",
    "dt=       np.load(r'data_week_8A_dt.npy')\n",
    "sampling_rate=np.load(r'data_week_8A_sampling_rate.npy') #might need to rename\n",
    "Vout=     np.load(r'data_week_8A_Vout.npy')\n",
    "frequency=np.load(r'data_week_8A_frequency.npy')\n",
    "data=     np.load(r'data_week_8A_data.npy')\n",
    "\n",
    "# check which type of saveing you did in 8A\n",
    "meas_freq=np.zeros(len(frequency))\n",
    "for ii in range (len(frequency)):\n",
    "    measurement2=data[:,ii]\n",
    "    Vout[ii], meas_freq[ii]= extract_fft_values (measurement2, sample_rate)\n",
    "    \n",
    "\n",
    "plt.subplot(1,2,1), plt.plot(frequency, Vout )\n",
    "plt.subplot(1,2,2), plt.plot(frequency, meas_freq )\n",
    "plt.xlabel('Frequency (Hz)')\n",
    "plt.ylabel('measured frequency (Hz)')\n",
    "plt.grid()\n",
    "plt.savefig('image.jpg') # automatically save with Pillow (pip install Pillow )"
   ]
  },
  {
   "cell_type": "code",
   "execution_count": null,
   "id": "1bd5ab37",
   "metadata": {},
   "outputs": [],
   "source": [
    "### TO DO=\"What do you see? Is it linear?\"\n"
   ]
  },
  {
   "cell_type": "code",
   "execution_count": null,
   "id": "13ac70f9",
   "metadata": {},
   "outputs": [],
   "source": [
    "### TO DO=\"explain the phase of 8.4 kHz sampled with 4.8 kHz\"\n"
   ]
  },
  {
   "cell_type": "markdown",
   "id": "45641747",
   "metadata": {},
   "source": [
    "## COMPARE & CONCLUDE\n",
    "> <font color='grey'>⏳ Estimated time: 20 min</font>\n",
    "\n",
    "* Wait till all (4) group members finish their observation\n",
    "* Compare your results with your other group members. \n",
    "* If your results agree, and are in line with all predictions, then talk to a TA and get checked off\n",
    "* Otherwise, so if your results do not agree, or your results are not in line with your predictions, then first discuss amongst your group before getting a TA. \n",
    "\n",
    "\n",
    "**to be checked off by a TA:**\n",
    "1. Explain why the measured signal by DAQ and scope differ (I&I 1) \n",
    "2. In case the graph of measured and input signal was not a straight line (I&I 2), explain the differences and similarity between input signal and measured signal \n",
    "3. exit card: \n",
    "    1. Write a brief abstract on what you learned (conclusion, useful graph),\n",
    "    2. Which troubleshooting skills do you want to remember for next sessions, \n",
    "    3. Which code do you copy for use in next sessions,\n",
    "4. How do you think this notebook could be improved"

   ]
  },
  {
   "cell_type": "code",
   "execution_count": null,
   "id": "30ce43b7",
   "metadata": {},
   "outputs": [],
   "source": [
    "#8B aliase single sine\n",
    "### TO DO = \"1. Explain why the measured signal by DAQ and scope differ (I&I 1) \"\n",
    "\n",
    "### TO DO = \" 2. explain the differences and similarity between input signal and measured signal \"\n",
    "\n",
    "### TO DO=\"3a. abstract\"\n",
    "\n",
    "### TO DO=\"3b. troubleshooting\"\n",
    "\n",
    "### TO DO=\"3c. code\"\n",
    "\n",
    "### TO DO=\"4. what changes would you suggest?\"\n"
   ]
  },
  {
   "cell_type": "markdown",
   "id": "852d57d7",
   "metadata": {},
   "source": [
    "* Recording about measurement in the classroom: https://www.youtube.com/watch?v=6VI76soaRGU\n",
    "* Recording on how to calculate the frequency: only watch it after putting in considerable effort to write it yourself: https://www.youtube.com/watch?v=6GvCF07sguI\n"
   ]
  }
 ],
 "metadata": {
  "kernelspec": {
   "display_name": "Python 3 (ipykernel)",
   "language": "python",
   "name": "python3"
  },
  "language_info": {
   "codemirror_mode": {
    "name": "ipython",
    "version": 3
   },
   "file_extension": ".py",
   "mimetype": "text/x-python",
   "name": "python",
   "nbconvert_exporter": "python",
   "pygments_lexer": "ipython3",
   "version": "3.7.12"
  }
 },
 "nbformat": 4,
 "nbformat_minor": 5
}
