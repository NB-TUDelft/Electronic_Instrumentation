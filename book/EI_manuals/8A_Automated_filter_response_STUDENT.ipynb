{
 "cells": [
  {
   "cell_type": "markdown",
   "id": "22bfd5c0",
   "metadata": {},
   "source": [
    "<div class=\"alert alert-block alert-info\">\n",
    "\n",
    "**Accessibility of the notebook:**\n",
    "- You can adjust the width of the text with the function provided below. Copy it into a new code cell and execute it using the `ipykernel`.\n",
    "    ```python\n",
    "    from IPython.core.display import HTML\n",
    "    def set_width(width):\n",
    "        display(HTML(f\"\"\"<style>  \n",
    "                .container {{ width:{width}% !important; \n",
    "                                min-width:800px !important; margin: 0 auto}} \n",
    "                .jp-Cell {{ width:{width}% !important; \n",
    "                                min-width:800px !important; margin: 0 auto}} </style>\"\"\"))\n",
    "    # Set container width to X% of the fullscreen \n",
    "    set_width(50)\n",
    "    ```\n",
    "- You can toggle the auto-numbering of the sections in the outline toolbox (sidebar or topbar).\n",
    "- You can toggle the code line numbers in the dropdown menu of the \"view\" button in the topbar. \n",
    "- You can collapse/expand a cell by clicking the blue bar on the left side of the cell.\n",
    "\n",
    "</div>"
   ]
  },
  {
   "cell_type": "code",
   "execution_count": null,
   "id": "8fb316df",
   "metadata": {},
   "outputs": [],
   "source": [
    "from IPython.core.display import HTML\n",
    "def set_width(width):\n",
    "    display(HTML(f\"\"\"<style>  \n",
    "            .container {{ width:{width}% !important; \n",
    "                            min-width:800px !important; margin: 0 auto}} \n",
    "            .jp-Cell {{ width:{width}% !important; \n",
    "                            min-width:800px !important; margin: 0 auto}} </style>\"\"\"))\n",
    "# Set container width to X% of the fullscreen \n",
    "set_width(50)"
   ]
  },
  {
   "cell_type": "markdown",
   "id": "577b6f60",
   "metadata": {},
   "source": [
    "Experiments of this week:\n",
    "- experiment 8A: use remote function generator to create signals and analize them\n",
    "- experiment 8B: understand and be able to predict sine aliasing\n",
    "- experiment 8C: understand and be able to predict multiple sines aliasing\n",
    "\n",
    "Goal: understand how digital sampling influences the measurement and what causes aliasing \n",
    "\n",
    "Structure of an experiment:\n",
    "- Anticipate + Simulate (30 min): per person. This is homework and should be finished **before** you start your 4 hours practicum session\n",
    "- Implement + Investigate (70 min): with your partner (group of 2)\n",
    "- Compare + Conclude (10 min): with a group of 4 (per table)"
   ]
  },
  {
   "cell_type": "markdown",
   "id": "6050767c",
   "metadata": {},
   "source": [
    "# 8A: Taking measurements digitally and automatically\n"
   ]
  },
  {
   "cell_type": "markdown",
   "id": "8c474c5e",
   "metadata": {},
   "source": [
    "> <font color='blue'>Learning goal:</font>  Get comfortable using definitions and learn how to control deviced remotely to preform experiments  like voltage aquisition through a filer</font> \n"
   ]
  },
  {
   "cell_type": "markdown",
   "id": "f34e10c7",
   "metadata": {},
   "source": [
    "## BACKGROUND\n",
    "> <font color='grey'>⏳ Estimated time: 5 min</font>\n",
    "\n",
    "You will be controling function generator remotely using python, in order to fully automate measuring a filter response. In the classroom you already did such measurement by hand in octal one: you measured Vin and Vout of a filter at a certain frequency, and repeated the measurement at different frequencies to step through the frequency spectrum. When doing this in an automated fashion, you will have to carefully consider which steps needs to be taken when (done in anticipate), and you will have to think about the optimal implementation  (to be explored in simulate). \n",
    "\n",
    "In the implement&investigate you will first learn and test the code to use the function generator remotely. Then you have all the components to write (and use!) your own automated filter response. Note: **you will need to save the data**, which will be used for analysis next week. \n",
    "\n",
    "Feel free to watch the precap of a previous year. "
   ]
  },
  {
   "cell_type": "code",
   "execution_count": 1,
   "id": "ea743a37",
   "metadata": {},
   "outputs": [
    {
     "data": {
      "image/jpeg": "[encoded data removed]",
      "text/html": [
       "\n",
       "        <iframe\n",
       "            width=\"600\"\n",
       "            height=\"450\"\n",
       "            src=\"https://www.youtube.com/embed/XAd2EXzvkm4\"\n",
       "            frameborder=\"0\"\n",
       "            allowfullscreen\n",
       "            \n",
       "        ></iframe>\n",
       "        "
      ],
      "text/plain": [
       "<IPython.lib.display.YouTubeVideo at 0x20fe88fb3a0>"
      ]
     },
     "execution_count": 1,
     "metadata": {},
     "output_type": "execute_result"
    }
   ],
   "source": [
    "#precap\n",
    "from IPython.lib.display import YouTubeVideo\n",
    "YouTubeVideo('XAd2EXzvkm4', width = 600, height = 450)"
   ]
  },
  {
   "cell_type": "markdown",
   "id": "ee2a84ea",
   "metadata": {},
   "source": [
    "## ANTICIPATE: how would code for automated filter response look like\n",
    "> <font color='grey'>⏳ Estimated time: 15 min</font>\n",
    "\n",
    "Below you have several steps that a functioning code for automated filter response should have. You need to order them correctly and indicate which should be in a 'for loop'. Also explain why each part is needed. Saving the data is needed as that allows you to work on it in multiple sessions without your notebook \"forgeting\" it.\n",
    "\n",
    "* close NIDAQ\n",
    "* initialize NIDAQ\n",
    "* plot the intensity versus frequency\n",
    "* save data\n",
    "* set the frequency (in function generator)\n",
    "* initialize function generator\n",
    "* wait\n",
    "* analyze a signal ( extract needed values)\n",
    "* acquire a signal\n",
    "* close function generator\n",
    "* define your input frequencies\n",
    "* input values into an array"
   ]
  },
  {
   "cell_type": "code",
   "execution_count": 1,
   "id": "4ceea580",
   "metadata": {},
   "outputs": [],
   "source": [
    "### TO DO=\" your correct list of steps\"\n"
   ]
  },
  {
   "cell_type": "markdown",
   "id": "887070a9",
   "metadata": {},
   "source": [
    "## SIMULATE: how to extract the data?\n",
    "> <font color='grey'>⏳ Estimated time: 5 min</font>\n",
    "\n",
    "It is great to have as much of your code prepared and tested before you do your measurement. In this simulate you will first look at several ways of implementing a loop over a given frequency array. \n",
    "\n",
    "* Which option would you prefer and why?"
   ]
  },
  {
   "cell_type": "code",
   "execution_count": 11,
   "id": "99d59a52",
   "metadata": {},
   "outputs": [
    {
     "name": "stdout",
     "output_type": "stream",
     "text": [
      "9000 9000 9000\n"
     ]
    },
    {
     "data": {
      "text/plain": [
       "[<matplotlib.lines.Line2D at 0x18359302610>,\n",
       " <matplotlib.lines.Line2D at 0x183593025b0>,\n",
       " <matplotlib.lines.Line2D at 0x18359302580>]"
      ]
     },
     "execution_count": 11,
     "metadata": {},
     "output_type": "execute_result"
    },
    {
     "data": {
      "image/png": "[encoded data removed]",
      "text/plain": [
       "<Figure size 432x288 with 1 Axes>"
      ]
     },
     "metadata": {
      "needs_background": "light"
     },
     "output_type": "display_data"
    }
   ],
   "source": [
    "import numpy as np\n",
    "import matplotlib.pyplot as plt\n",
    "\n",
    "freq=np.arange(1000,10000,1000) #start, stop, step\n",
    "time=np.linspace(0,1e-3,151) #start, stop, number\n",
    "\n",
    "#option1: loop over the frequency\n",
    "for ff in freq:\n",
    "    signal1=np.sin(2*np.pi*ff*time)\n",
    "    \n",
    "#option2: loop over the index of the frequency\n",
    "for ii in range(len(freq)):\n",
    "    signal2=np.sin((2*np.pi*freq[ii]*time))\n",
    "    \n",
    "#option3: hardcoded\n",
    "for jj in range(9):\n",
    "    freqs=(jj+1)*1000\n",
    "    signal3=np.sin((2*np.pi*freqs*time))   \n",
    "\n",
    "plt.plot(time,signal1,'r-x', time,signal2,'b:^', time, signal3, 'g-.v')"
   ]
  },
  {
   "cell_type": "markdown",
   "id": "cf62efb0",
   "metadata": {},
   "source": [
    "As you can see, the outcome of all loops is identical. So you might not be able to tell which one is best yet. \n",
    "\n",
    "Lets continue, and ask yourself what do we want to measure as a filter response, and how do we extract it from each time trace?\n",
    "\n",
    "In the following code: extract the relevant information (from the 'measured', now simulated, signal). Check whether this extraction is optimal by writing the correct data_analyzed= code,and verify with the requested plot. In this plot GS and data_analyzed should be overlapping/identical, and they represent a bandpass filter.  \n"
   ]
  },
  {
   "cell_type": "code",
   "execution_count": 29,
   "id": "b697cb19",
   "metadata": {},
   "outputs": [
    {
     "data": {
      "text/plain": [
       "[<matplotlib.lines.Line2D at 0x183598cea30>,\n",
       " <matplotlib.lines.Line2D at 0x183598ce970>]"
      ]
     },
     "execution_count": 29,
     "metadata": {},
     "output_type": "execute_result"
    },
    {
     "data": {
      "image/png": "[encoded data removed]",
      "text/plain": [
       "<Figure size 432x288 with 1 Axes>"
      ]
     },
     "metadata": {
      "needs_background": "light"
     },
     "output_type": "display_data"
    }
   ],
   "source": [
    "import numpy as np\n",
    "import matplotlib.pyplot as plt\n",
    "\n",
    "freq=np.arange(1000,10000,1000) #start, stop, step\n",
    "time=np.linspace(0,1e-3,151) #start, stop, number\n",
    "\n",
    "def gaussian(x, mu, sig):\n",
    "    return (1.0 / (np.sqrt(2.0 * np.pi) * sig) * np.exp(-np.power((x - mu) / sig, 2.0) / 2))\n",
    "\n",
    "GS=gaussian(freq, 2700, 1500)\n",
    "\n",
    "\n",
    "data_analyzed=np.zeros(len(freq))\n",
    "\n",
    "#option1: loop over the frequency\n",
    "for ff in freq:\n",
    "    index=(np.where(ff==freq))\n",
    "    signal1=np.sin(2*np.pi*ff*time)*GS[index]\n",
    "### TO DO=\"code to extract the correct data_analyzed from the signal\"\n",
    "    data_analyzed[index]=\n",
    "\n",
    "    \n",
    "#option2: loop over the index of the frequency\n",
    "for ii in range(len(freq)):\n",
    "    signal2=np.sin((2*np.pi*freq[ii]*time))*GS[ii]\n",
    "### TO DO=\" (same) code to extract the correct data_analyzed from the signal\"\n",
    "    data_analyzed[index]=\n",
    "    \n",
    "#option3: hardcoded\n",
    "for jj in range(9):\n",
    "    freqs=(jj+1)*1000\n",
    "    signal3=np.sin((2*np.pi*freqs*time))*GS[jj]\n",
    "### TO DO=\"(same) code to extract the correct data_analyzed from the signal\"\n",
    "    data_analyzed[index]=\n",
    "\n",
    "# plot the expected value, GS, and your data_analyzed, they should be identical\n",
    "\n",
    "plt.plot(freq,GS,'r-x', freq, data_analyzed, 'b:v')\n"
   ]
  },
  {
   "cell_type": "markdown",
   "id": "cd03dec1",
   "metadata": {},
   "source": [
    "## IMPLEMENT & INVESTIGATE 1: controling function generator remotely\n",
    "> <font color='grey'>⏳ Estimated time: 10 min</font>\n",
    "\n",
    "Below you will find complete code used to control function generator remotely. **Make sure you are working on the desktop in the studio classroom!**\n",
    "\n",
    "Study this code and try to figure out what each part does. Try modyfing the values of the text to see how they are affect the output of function generator (use the second cell for that). You can also uncommment the text statements to see what they change. Keep in mind that function generator works with a bit of time delay, so you might not see a difference instantiously when you run the code. \n",
    "\n",
    "You should hear and see the function generator responding. It switches to remote control, use the function 'Local' on the generator to get back local control. "
   ]
  },
  {
   "cell_type": "code",
   "execution_count": null,
   "id": "5f2b196d",
   "metadata": {},
   "outputs": [],
   "source": [
    "# don't alter this cell, keep it as given and play around with the code in the next one.\n",
    "#funcgen usb python, visa\n",
    "import pyvisa\n",
    "\n",
    "### for convenience (for later use) we give you the initialization, which only has to run once, as function \n",
    "def initialize_fun_gen():\n",
    "    import pyvisa # just to be sure, better to call it already outside & before the function, so pyvisa can also be used outside the function\n",
    "    rm = pyvisa.ResourceManager()\n",
    "    resources=rm.list_resources()\n",
    "    for ii in range(len(resources)):\n",
    "        if resources[ii][0:3]=='USB':\n",
    "            my_instrument = rm.open_resource(resources[ii])\n",
    "            my_instrument.read_termination = '\\n'\n",
    "            my_instrument.write_termination = '\\n'\n",
    "            tmp=my_instrument.query('*IDN?')\n",
    "            if tmp.find(',335'): # goes right if 335 is only in the FuncGen name\n",
    "                print('FuncGen connected' )\n",
    "                break\n",
    "    set_volt=2.2\n",
    "    set_offset=0 \n",
    "    text='OUTPut:LOAD 50'   #text='OUTPut:LOAD INFinity'\n",
    "    tmp2=my_instrument.write(text)\n",
    "    return(my_instrument,rm)\n",
    "    \n",
    "my_instrument,rm=initialize_fun_gen()\n",
    "set_freq=5000\n",
    "set_volt=2.2\n",
    "set_offset=0 \n",
    "\n",
    "text='APPL:SIN {0}, {1}, {2}'.format(set_freq,set_volt,set_offset)\n",
    "#text='APPL:SQUARE {0}, {1}, {2}'.format(set_freq,set_volt,set_offset)\n",
    "tmp2=my_instrument.write(text)\n",
    "\n",
    "text='OUTPut:LOAD 50'\n",
    "#text='OUTPut:LOAD INFinity'\n",
    "tmp2=my_instrument.write(text)\n",
    "\n",
    "text='OUTPut OFF'\n",
    "tmp2=my_instrument.write(text)\n",
    "\n"
   ]
  },
  {
   "cell_type": "code",
   "execution_count": null,
   "id": "355277c8",
   "metadata": {},
   "outputs": [],
   "source": [
    "# play around with the text, and the following set_** variables, or comment/uncomment lines\n",
    "set_freq=5000\n",
    "set_volt=2.2\n",
    "set_offset=0 \n",
    "\n",
    "text='APPL:SIN {0}, {1}, {2}'.format(set_freq,set_volt,set_offset)\n",
    "#text='APPL:SQUARE {0}, {1}, {2}'.format(set_freq,set_volt,set_offset)\n",
    "tmp2=my_instrument.write(text)\n",
    "\n",
    "text='OUTPut:LOAD 50'\n",
    "#text='OUTPut:LOAD INFinity'\n",
    "tmp2=my_instrument.write(text)\n",
    "\n",
    "text='OUTPut OFF'\n",
    "tmp2=my_instrument.write(text)\n",
    "\n",
    "rm.close() #this is closing the function generator connection\n"
   ]
  },
  {
   "cell_type": "code",
   "execution_count": null,
   "id": "4e144ce6",
   "metadata": {},
   "outputs": [],
   "source": [
    "### TO DO=\"what do different parts of code do?\""
   ]
  },
  {
   "cell_type": "markdown",
   "id": "f1c4258f",
   "metadata": {},
   "source": [
    "Now you can control function generator by python **only**. If you wish to return to manual operation, press the **Local** button on the function generator itself.  "
   ]
  },
  {
   "cell_type": "markdown",
   "id": "38957cf6",
   "metadata": {},
   "source": [
    "## IMPLEMENT & INVESTIGATE 2: automated measurement\n",
    "> <font color='grey'>⏳ Estimated time: 60 min</font>\n",
    "\n",
    "To create the automatic filter response, you will need 2 codes you already have: the above remote function generator control and *Analog Input code*.\n",
    "\n",
    "You will split automatic filter response code into several functions, for clarity and troubleshooting. "
   ]
  },
  {
   "cell_type": "markdown",
   "id": "b3df89d7",
   "metadata": {},
   "source": [
    "First, build your setup. Filter is an aliminium box labeled \"filter\". Make sure it is connected to the right DAQ channel, in the correct orientation. You can also connect to the scope if you want to observe what is happening inside the loop."
   ]
  },
  {
   "cell_type": "markdown",
   "id": "94c7a8e7",
   "metadata": {},
   "source": [
    "Now you will create the functions. You will have to complete some of them, and later call them in a right order to create working code. \n",
    "\n",
    "> ### <font color='blue'>Hint:</font>\n",
    "if you are unsure what to import for nidaq, look at 7A"
   ]
  },
  {
   "cell_type": "code",
   "execution_count": null,
   "id": "a81543fc",
   "metadata": {},
   "outputs": [],
   "source": [
    "#function to adapt\n",
    "def taking_measurement(sampling_rate,number_of_samples):\n",
    "    frequency=np.arange(1e3,100e3,50e3) #use this for quick trial (see whether code runs without errors)\n",
    "    frequency=np.arange(1e3,70e3,1e3) # use this one for better frequency range coverage\n",
    "    Vout=np.zeros(np.shape(frequency))\n",
    "    data=np.zeros((number_of_samples, len(frequency)))\n",
    "\n",
    "    text='OUTPut ON'\n",
    "    tmp2=my_instrument.write(text)\n",
    "    with nidaqmx.Task() as task:\n",
    "        task.ai_channels.add_ai_voltage_chan(\"Dev1/ai0\")\n",
    "        task.timing.cfg_samp_clk_timing(rate=sampling_rate, samps_per_chan=number_of_samples)\n",
    "        task.triggers.start_trigger.cfg_dig_edge_start_trig(trigger_source = \"/Dev1/PFI0\", trigger_edge = Edge.RISING)\n",
    "        for ii in range(???):\n",
    "            ### TO DO=\"set_freq=??? #freq depends on ii\"\n",
    "            set_freq=\n",
    "            \n",
    "            ### TO DO=\"text=??? #text to be send to the function generator\"\n",
    "            text=\n",
    "            \n",
    "            ### TO DO=\" tmp2=??? #don't forget to send the command to the function generator \"\n",
    "            tmp2=\n",
    "            \n",
    "            time.sleep(0.2)\n",
    "            ### TO DO=\"measurement2 = task.read(???) # a single time trace\"\n",
    "            measurement2 = \n",
    "            \n",
    "            ### TO DO=\"Vout[ii]=??? #something of measurement2, what do you want to analyse ?\"\n",
    "            Vout[ii]=\n",
    "            \n",
    "            data[:,ii]=measurement2 # for convenience, to later on be able to check individual traces without a new recording\n",
    "    return Vout,data,frequency,measurement2\n"
   ]
  },
  {
   "cell_type": "code",
   "execution_count": null,
   "id": "e98e0ef9",
   "metadata": {},
   "outputs": [],
   "source": [
    "# you need to use my_instrument=initialize_fun_gen(), already defined in I&I1"
   ]
  },
  {
   "cell_type": "code",
   "execution_count": null,
   "id": "27f6292c",
   "metadata": {},
   "outputs": [],
   "source": [
    "# this code needs addition from your earlier 7A analog NIDAQ input \n",
    "# libraries to import in the function itself\n",
    "import nidaqmx\n",
    "import numpy as np\n",
    "import matplotlib.pyplot as plt\n",
    "import time\n",
    "from nidaqmx.constants import AcquisitionType, Edge, LineGrouping\n",
    "def initialize_all_else():\n",
    "    ### TODO =\"# system=???# plus make sure all imported libraries are available in the function\"\n",
    "\n",
    "    system = \n",
    "    \n",
    "    sampling_rate = 50000 # for the later exercise 50kHz sampling is better\n",
    "    number_of_samples = 5000 # measure one second\n",
    "    return system, sampling_rate,number_of_samples\n"
   ]
  },
  {
   "cell_type": "markdown",
   "id": "58ed84d5",
   "metadata": {},
   "source": [
    "Now think in what order do you need to put those in (look back at your ANTICIPATE). Remember to close all devices at the end (with one command - look back at I&I1). Also remember when definition returns something, you need to put in into a variable. For simplicity call them the same as they are called in the def."
   ]
  },
  {
   "cell_type": "code",
   "execution_count": null,
   "id": "fe0e6c0b",
   "metadata": {},
   "outputs": [],
   "source": [
    "#1\n",
    "\n",
    "#2\n",
    "\n",
    "#3\n",
    "\n",
    "#closing\n"
   ]
  },
  {
   "cell_type": "code",
   "execution_count": null,
   "id": "0d44fa23",
   "metadata": {},
   "outputs": [],
   "source": [
    "### TO DO=\"implement the three(plus closing) steps using initialize_fun_gen, initialize_all_else, and taking_measurement, don't forget to use the right outputs of these functions\"\n",
    "              \n",
    "# in total you should have 4 lines of code here"
   ]
  },
  {
   "cell_type": "markdown",
   "id": "565d902b",
   "metadata": {},
   "source": [
    "Now it is time to plot your data and save your data! We want to see 3 types of plots, to really see the difference. You will be using matplotlib library that you should have called for in your initialize_all_else().\n",
    "\n",
    "You do want to see the steady behavior, -3dB point and slope of this High or Low pass filter.\n",
    "\n"
   ]
  },
  {
   "cell_type": "code",
   "execution_count": null,
   "id": "f7edeeea",
   "metadata": {},
   "outputs": [],
   "source": [
    "# if plotting after closing the notebook\n",
    "# import matplotlib.pyplot as plt\n",
    "# make 3 subplots: 1. V(t), 2 V(f) with regular axis and 3 V(f) in log-log plot (plt.loglog)\n",
    "dt=1/sampling_rate\n",
    "plt.subplot(1,3,1), \n",
    "\n",
    "### TO DO=\"define the correct time_axis=???\"\n",
    "time_axis=\n",
    "\n",
    "plt.plot(time_axis, measurement2), plt.xlim([0,0.0001]) # look at (the last) recorded time_trace\n",
    "plt.subplot(1,3,2), plt.plot(frequency, Vout, '-*' ) \n",
    "plt.subplot(1,3,3), plt.loglog(frequency, Vout, '-*' ) \n"
   ]
  },
  {
   "cell_type": "code",
   "execution_count": null,
   "id": "034e4e30",
   "metadata": {},
   "outputs": [],
   "source": [
    "### TO DO=\"what type of filter is it, what is -3dB point\"\n"
   ]
  },
  {
   "cell_type": "code",
   "execution_count": null,
   "id": "15cd2797",
   "metadata": {},
   "outputs": [],
   "source": [
    "# SAVE YOUR DATA FOR LATER USE\n",
    "# if you use this option then you will have to rework code in 8B to load each part individually (look how it is done in a cell below)\n",
    "np.save('data_week_8A_dt', dt)\n",
    "np.save('data_week_8A_sampling_rate' ,  sampling_rate)\n",
    "np.save('data_week_8A_Vout' ,Vout) \n",
    "np.save('data_week_8A_frequency' , frequency)\n",
    "np.save('data_week_8A_data', data)\n",
    "\n",
    "# other option, all data parts at once, will not work in Alpaca Kernel with picopi\n",
    "\n",
    "#this is the option that is called in 8B\n",
    "'''np.savez('data_week_8A', dt,sampling_rate, Vout, frequency, data)'''"
   ]
  },
  {
   "cell_type": "markdown",
   "id": "526dd704",
   "metadata": {},
   "source": [
    "Now see if you are able to load your data and plot it again.\n",
    "\n",
    "Figure out where your data is located (it will be probably in downloads in C drive). When it is on H (personal) drive, you can access it later again. If it is on another drive (like C), then copy-paste it to your personal drive (H:). \n",
    "\n",
    "> <font color='red'> **all data on C-drive gets erased, so do save your data elsewhere**"
   ]
  },
  {
   "cell_type": "code",
   "execution_count": null,
   "id": "c1c476ee",
   "metadata": {},
   "outputs": [],
   "source": [
    "# LOAD YOUR DATA BACK (FOR INSTANCE AT HOME)\n",
    "dt=       np.load(r'data_week_8A_dt.npy')\n",
    "sampling_rate=np.load(r'data_week_8A_sampling_rate.npy')\n",
    "Vout=     np.load(r'data_week_8A_Vout.npy')\n",
    "frequency=np.load(r'data_week_8A_frequency.npy')\n",
    "data=     np.load(r'data_week_8A_data.npy')\n",
    "\n",
    "# other option, all data parts at once, will not work in Alpaca Kernel with picopi\n",
    "\n",
    "# this is the option that is called in 8B\n",
    "'''tmp=np.load(r'data_week_8A.npz')'''\n",
    "#dt, sampling_rate, Vout, frequency, data = tmp['arr_0'],tmp['arr_1'],tmp['arr_2'],tmp['arr_3'], tmp['arr_4']\n",
    "\n",
    "# in order to make an fft of measurement2 (raw data) \n",
    "#don't forget to copy this data to your own laptop/Vocareum!!!!!!"
   ]
  },
  {
   "cell_type": "markdown",
   "id": "f4e9fe12",
   "metadata": {},
   "source": [
    "## COMPARE & CONCLUDE\n",
    "> <font color='grey'>⏳ Estimated time: 10 min</font>\n",
    "\n",
    "* Wait till all (4) group members finish their observation\n",
    "* Compare your results with your other group members. \n",
    "* If your results agree, and are in line with all predictions, then talk to a TA and get checked off\n",
    "* Otherwise, so if your results do not agree, or your results are not in line with your predictions, then first discuss amongst your group before getting a TA. \n",
    "\n",
    "\n",
    "**to be checked off by a TA:**\n",
    "1. graph of Vout and meas-freq versus input frequency \n",
    "2. what type of filter is that, where is a -3db point\n",
    "3. exit card: 1. Write a brief abstract on what you learned (conclusion, useful graph), 2. Which troubleshooting skills do you want to remember for next sessions, 3. Which code do you copy for use in next sessions,\n",
    "4. How do think this notebook could be improved\n"
   ]
  },
  {
   "cell_type": "code",
   "execution_count": null,
   "id": "6dd23514",
   "metadata": {},
   "outputs": [],
   "source": [
    "#8A automated filter response\n",
    "### TO DO = \"2. write your answer here about the type of filter and -3dB point\"\n",
    "\n",
    "### TO DO=\"3a. abstract\"\n",
    "\n",
    "### TO DO=\"3b. troubleshooting\"\n",
    "\n",
    "### TO DO=\"3c. code\"\n",
    "\n",
    "### TO DO=\"4. what changes would you suggest?\"\n"
   ]
  },
  {
   "cell_type": "code",
   "execution_count": null,
   "id": "eb7a2c1f",
   "metadata": {},
   "outputs": [],
   "source": [
    "%python\n",
    "#recording\n",
    "from IPython.lib.display import YouTubeVideo\n",
    "YouTubeVideo('CuowUpf-nZg', width = 600, height = 450)"
   ]
  }
 ],
 "metadata": {
  "kernelspec": {
   "display_name": "Python 3 (ipykernel)",
   "language": "python",
   "name": "python3"
  },
  "language_info": {
   "codemirror_mode": {
    "name": "ipython",
    "version": 3
   },
   "file_extension": ".py",
   "mimetype": "text/x-python",
   "name": "python",
   "nbconvert_exporter": "python",
   "pygments_lexer": "ipython3",
   "version": "3.10.14"
  }
 },
 "nbformat": 4,
 "nbformat_minor": 5
}
