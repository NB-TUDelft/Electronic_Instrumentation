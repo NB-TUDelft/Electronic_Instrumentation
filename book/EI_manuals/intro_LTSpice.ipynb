{
 "cells": [
  {
   "cell_type": "markdown",
   "metadata": {},
   "source": [
    "<div class=\"alert alert-block alert-info\">\n",
    "\n",
    "**Accessibility of the notebook:**\n",
    "- You can adjust the width of the text with the function provided below. Copy it into a new code cell and execute it using the `ipykernel`.\n",
    "    ```python\n",
    "    from IPython.core.display import HTML\n",
    "    def set_width(width):\n",
    "        display(HTML(f\"\"\"<style>  \n",
    "                .container {{ width:{width}% !important; \n",
    "                                min-width:800px !important; margin: 0 auto}} \n",
    "                .jp-Cell {{ width:{width}% !important; \n",
    "                                min-width:800px !important; margin: 0 auto}} </style>\"\"\"))\n",
    "    # Set container width to X% of the fullscreen \n",
    "    set_width(50)\n",
    "    ```\n",
    "- You can toggle the auto-numbering of the sections in the outline toolbox (sidebar or topbar).\n",
    "- You can toggle the code line numbers in the dropdown menu of the \"view\" button in the topbar. \n",
    "- You can collapse/expand a cell by clicking the blue bar on the left side of the cell.\n",
    "\n",
    "</div>"
   ]
  },
  {
   "cell_type": "code",
   "execution_count": 1,
   "metadata": {},
   "outputs": [
    {
     "data": {
      "text/html": [
       "<style>  \n",
       "            .container { width:50% !important; \n",
       "                            min-width:800px !important; margin: 0 auto} \n",
       "            .jp-Cell { width:50% !important; \n",
       "                            min-width:800px !important; margin: 0 auto} </style>"
      ],
      "text/plain": [
       "<IPython.core.display.HTML object>"
      ]
     },
     "metadata": {},
     "output_type": "display_data"
    }
   ],
   "source": [
    "from IPython.core.display import HTML\n",
    "def set_width(width):\n",
    "    display(HTML(f\"\"\"<style>  \n",
    "            .container {{ width:{width}% !important; \n",
    "                            min-width:800px !important; margin: 0 auto}} \n",
    "            .jp-Cell {{ width:{width}% !important; \n",
    "                            min-width:800px !important; margin: 0 auto}} </style>\"\"\"))\n",
    "# Set container width to X% of the fullscreen \n",
    "set_width(50)"
   ]
  },
  {
   "cell_type": "markdown",
   "metadata": {},
   "source": [
    "# intro LTSpice\n",
    "This intro supports labmanual 1C, and 3A (freq. analysis)"
   ]
  },
  {
   "cell_type": "markdown",
   "metadata": {},
   "source": [
    "## installation of LTSpice on your laptop\n",
    "> <font color='grey'>⏳ Estimated time: 20 min</font>\n",
    "\n",
    " LTspice is a circuit simulator made available by the company Linear Technology, which is part of Analog Devices now. It allows to quickly draw a schematic with general or specific components and simulate the circuits to perform DC, AC and transient analysis (=response to a step function). Simulation results are presented in a graphical way. \n",
    "\n",
    "LTspice v24 can be downloaded from: https://www.analog.com/en/design-center/design-tools-and-calculators/ltspice-simulator.html:\n",
    "* (https://ltspice.analog.com/software/LTspice64.msi) \n",
    "* Mac (https://ltspice.analog.com/software/LTspice.pkg). \n",
    "\n",
    "The windows version also runs on Linux under the Wine package.\n",
    "\n",
    "Go to the website of LTSPice; download and install the program. \n"
   ]
  },
  {
   "cell_type": "markdown",
   "metadata": {},
   "source": [
    "## Use LTSpice to build the simulation\n",
    "\n",
    "In LTSpice you will often use the top tool bar. Follow the steps below to simulate the (stacked) voltage dividers you saw in Anticipate. \n",
    "\n",
    "<font color='magenta'> If you are working on MAC, your UI will look completely different. To access the menu, rightclick with your mouse. You should be able to access all the components below by navigating in the subsections of that menu. </font>\n",
    "\n",
    "<img src=\"https://gitlab.tudelft.nl/mwdocter/nb2214-images/-/raw/main/LTS24/LTS0_topmenu_LTSpice.JPG\" width=80%></img>"
   ]
  },
  {
   "cell_type": "markdown",
   "metadata": {},
   "source": [
    "### Drawing, positioning and editing components\n",
    "<img src=\"https://gitlab.tudelft.nl/mwdocter/nb2214-images/-/raw/main/LTS24/LTS0_topmenu_LTSpice-121.JPG\" width=30%></img> \n",
    "\n",
    "You need ___components___: \n",
    "* Press “R” or Left-click the resistor icon \n",
    "* move the resistor symbol to the drawing area\n",
    "* left click again to create R1\n",
    "\n",
    "In case you want to rotate the resistor, use the rotate 90 degrees and/or mirror option. You can also use ctrl+R.\n",
    "Note that:\n",
    "* the rotation is only in the clockwise direction\n",
    "* for rotating an existing element, first click rotation, then click the element\n",
    "* if you loose overview, hit space to zoom to full extent\n",
    "  \n",
    "<img src=\"https://gitlab.tudelft.nl/mwdocter/nb2214-images/-/raw/main/LTS24/LTS0_rightclick_value_resistor.JPG\" width=40%></img> \n",
    "\n",
    "___Edit___ the component's value by:\n",
    "* Move the mouse over a resistor until the cursor changes into a “hand” symbol. \n",
    "* Then right-click to open the edit menu. \n",
    "* Set/Change the resistor value\n",
    "\n",
    "Note: You can use the following prefixes: f/F (femto), p/P (pico), n/N (nano), u/U (micro), m/M (milli), k/K (kilo), meg/MEG (mega), g/G (giga), t/T (terra). So for a 1 kΩ resistor type 1k, and for 1Ω simply 1.\n",
    "\n",
    "___Moving___ components\n",
    "* left-click the move icon. \n",
    "* Position the “hand” cursor over the component and left-click. Now the component can be moved. \n",
    "* Click again to fix the new position. \n",
    "* Press ESC/right-click to stop moving components.\n",
    "\n",
    "Note: any wire connections to the component will be broken. To have the connections move with the component: use the drag command (icon). "
   ]
  },
  {
   "cell_type": "markdown",
   "metadata": {},
   "source": [
    "### Placing the Voltage source\n",
    "After placing the resistors, let's make it into a circuit. The advantage is that you can simulate, in order to see which voltages an currents exist in the circuit (and eventually tell something about your overall replacement resistance).\n",
    "\n",
    "<img src=\"https://gitlab.tudelft.nl/mwdocter/nb2214-images/-/raw/main/LTS24/LTS0_topmenu_LTSpice-122.jpg\" width=30%></img> \n",
    "* Click the component  icon, type \"volt\" in the selection window and the selection will jump to voltage. Confirm by pressing OK.\n",
    "* Drag the voltage-source symbol to the desired  position and left-click to place.\n",
    "Note: to change the polarity or the orientation of the source, left-click the rotation icon one or more times before placement.\n",
    "* Press ESC to stop placing voltage sources.\n",
    "Setting voltage source values\n",
    "* Hover the cursor over the voltage source until the “hand” cursor appears. Then click right to open the edit menu.  Set:  DC-value to 0 V and the series-resistance to 0.\n",
    "\n",
    "#### AC Voltage source (for transient analysis)\n",
    "Right-click on the voltage source and make the following (advanced) settings:\n",
    "* Select which function you want (often sine or block wave (PULSE))\n",
    "* set the Tperiod. For example use 20 us (=microseconds). For a block wave use 50% duty cycle (ton= 10 us, automatically leading to toff= 10 us). \n",
    "* Set the rise and fall times to a low value like .1 us. \n",
    "* Set the number of periods to simulate at for example 4.\n",
    "* Set Von to for example 1.\n",
    "\n",
    "<img src=\"https://gitlab.tudelft.nl/mwdocter/nb2214-images/-/raw/main/LTS24/LTS2-RL_voltage_source_settings.JPG\" width=70%></img>\n",
    "\n",
    "#### AC Voltage source (for AC analysis)\n",
    "Right-click on the voltage source and make the following (advanced) settings:\n",
    "* A Sine wave \n",
    "* In this case: with a frequency of 1 kHz, amplitude of 1 V and a total of 10 cycles. \n",
    "* For the small-signal AC analysis set the AC-amplitude to 1 V as well.\n",
    "\n",
    "<img src=\"https://gitlab.tudelft.nl/mwdocter/nb2214-images/-/raw/main/LTS24/LTS2-RL_voltage_sine_setting.JPG\" width=70%></img>"
   ]
  },
  {
   "cell_type": "markdown",
   "metadata": {},
   "source": [
    "### Placing the ground connection\n",
    "<img src=\"https://gitlab.tudelft.nl/mwdocter/nb2214-images/-/raw/main/LTS24/LTS0_topmenu_LTSpice-123.jpg\" width=30%></img> \n",
    "\n",
    "Each circuit needs a potential reference (0V), all voltages will be calculated with respect to this point. This is done by placing a ground symbol.  \n",
    "* Left-click the ground icon\n",
    "* Move it to the right postion and left-click again.\n",
    "* Press ESC to stop placing grounds.\n",
    "* All ground symbols are connected to each other! \n",
    "* Don't forget to put the negative pin of the voltage source to ground as well. \n"
   ]
  },
  {
   "cell_type": "markdown",
   "metadata": {},
   "source": [
    "### Interconnecting the components\n",
    "<img src=\"https://gitlab.tudelft.nl/mwdocter/nb2214-images/-/raw/main/LTS24/LTS0_topmenu_LTSpice-124.jpg\" width=30%></img> \n",
    "\n",
    "Once the components are (more-or-less) in the desired position and orientation you can draw the interconnecting wires.\n",
    "* Left-click the wire icon.\n",
    "* Left-Click on a connector-point (small square) of one component to start a wire.\n",
    "* Left-Click on a connector-point of another component to complete the wire\n",
    "\n",
    "Note: Only horizontal or vertical line segments can be drawn. When connection points are not on one line, the connection must be build up from horizontal and vertical segments. You can define corner points by clicking anywhere on the diagram."
   ]
  },
  {
   "cell_type": "markdown",
   "metadata": {},
   "source": [
    "### Labelling Nodes\n",
    "<img src=\"https://gitlab.tudelft.nl/mwdocter/nb2214-images/-/raw/main/LTS24/LTS0_topmenu_LTSpice-125.jpg\" width=30%></img> \n",
    "\n",
    "In order to help interpretation of results it is good practice to label the important nodes in the network. Otherwise LTspice does automatic naming, which is often unclear.\n",
    "* Right-Click on each of the blue lines on top and choose  “Label Net” from the pop-up menu.\n",
    "* Name them VA, VB respectively and connect the text-symbol that appears to the line.\n",
    "\n",
    "**Note: do not use duplicate names, LTSpice will not be able to distinguish these labels (and identical names on components will return an error)**\n"
   ]
  },
  {
   "cell_type": "markdown",
   "metadata": {},
   "source": [
    "### Saving your schematic\n",
    "If you want to use your schematic later, you need to save it. Click on *File>Save as* and rename your file when saving. \n",
    "\n",
    "Hint: save each schematic you simulate under a different, and easy to recognise name. "
   ]
  },
  {
   "cell_type": "markdown",
   "metadata": {},
   "source": [
    "### Saving graphics\n",
    "You can save your LTspice schematics and graphic results as graphics by selecting the corresponding windows and follow the menu: “Tools” > “Write image to .emf file”. Or use Windows snipping tools, or just print screen. \n",
    "<img src=\"https://gitlab.tudelft.nl/mwdocter/nb2214-images/-/raw/main/LTS24/LTS0-color_palette_background.JPG\" width=25%></img> \n",
    "Tip: Normally the graphs have a black background which is OK on screen but inconvenient on paper. You can change the background to white by setting the Color preferences:\n",
    "* Choose from the menu: Tools > Color Preferences \n",
    "* Select the Schematic Tab and set Selected Item = Background and set all three colors to 255, see figure.\n",
    "* Select the WaveForm Tab and do the same."
   ]
  },
  {
   "cell_type": "markdown",
   "metadata": {
    "nbgrader": {
     "grade": false,
     "grade_id": "cell-918b28c70372bdbb",
     "locked": true,
     "schema_version": 3,
     "solution": false,
     "task": false
    }
   },
   "source": [
    "## Running an analysis\n",
    "\n",
    "There are different type of analysis. When you use a DC source and resistors, the current and voltages in the circuit will also be constant, hence you can use DC- analysis ('DC on pnt').\n",
    "\n",
    "For AC sources, you might be interested in the signal versus time ('transient'), or versus frequency ('AC analysis'). \n",
    "\n",
    "### DC-Analysis\n",
    "<img src=\"https://gitlab.tudelft.nl/mwdocter/nb2214-images/-/raw/main/LTS24/DC_op_pnt.JPG\" width=60%></img> \n",
    "* Follow the menu: Simulate > Edit Simulation Cmd. \n",
    "* In the pop-menu select the tab “DC op pnt” (DC at point) and click OK. \n",
    "* Left-click in the drawing area to drop the command “.op” \n",
    " \n",
    "* Click the RUN icon to start the simulation, the solution (currents and voltages) are shown in a pop-up window, similar to the above one\n",
    "* From the currents and the nodes you can derive the total current, total voltage and therefore total resistance. \n",
    "* If you want to better recognise which node is where, you should name them.\n",
    "\n"
   ]
  },
  {
   "cell_type": "markdown",
   "metadata": {},
   "source": [
    "### Transient Analysis\n",
    "\n",
    "#### Transient simulation\n",
    "Change the simulation settings through: Simulate > Edit Simulation Cmd\n",
    "* Select the Transient tab (leasing to an intensity vs. time display)\n",
    "* set the total simulation time to e.g. 100 us; \n",
    "* and the maximum steps to make to a large value, e.g. 1000 (see figure)\n",
    "<img src=\"https://gitlab.tudelft.nl/mwdocter/nb2214-images/-/raw/main/LTS24/LTS2-RL_transient_simulation.JPG\" width=60%></img>\n",
    "\n",
    "#### Display \n",
    "After running the simulation, you see an empty graph. Measure the voltage(V) or current(I) by attaching a probe; you get the icon by hoovering over the line or component on your scheme. \n",
    "<img src=\"https://gitlab.tudelft.nl/mwdocter/nb2214-images/-/raw/main/LTS24/LTS2_probe_voltage_current.jpg\" width=15%></img>\n"
   ]
  },
  {
   "cell_type": "markdown",
   "metadata": {},
   "source": [
    "### AC analysis (Bode plot)\n",
    "\n",
    "\n",
    "#### AC analysis simulation\n",
    "In Simulate > Edit Simulation Cmd > AC Analysis tab, set the following settings\n",
    "* set type of sweep to decade.\n",
    "* set number of points to 100.\n",
    "* set start frequency to 10.\n",
    "* set stop frequency to 1 Meg.\n",
    "<img src=\"https://gitlab.tudelft.nl/mwdocter/nb2214-images/-/raw/main/LTS24/LTS2-RL_freq_analysis_sim_setting.JPG\" width=60%>\n",
    "\n",
    "**remember to delete your previous simulation settings(on the scheme) or comment them out!**\n",
    "\n",
    "#### Display and cursors\n",
    "After running the simulation, you see an empty graph.\n",
    "* Show Vout. \n",
    "* If you do not want to see the phase, right click on the phase label (at the right side of the graph) and switch it off. \n",
    "* Right-click the label V(vout) at the top of the graph(in the Waveform window).\n",
    "* In the pop-up window set \"Attached Cursor:\" to 1st and click OK.\n",
    "* In the graph, a set of hairlines(two crossed lines) will apear, together with a new window giving the signal values."
   ]
  },
  {
   "cell_type": "code",
   "execution_count": null,
   "metadata": {},
   "outputs": [],
   "source": []
  }
 ],
 "metadata": {
  "celltoolbar": "Create Assignment",
  "kernelspec": {
   "display_name": "Python 3",
   "language": "python",
   "name": "python3"
  },
  "language_info": {
   "codemirror_mode": {
    "name": "ipython",
    "version": 3
   },
   "file_extension": ".py",
   "mimetype": "text/x-python",
   "name": "python",
   "nbconvert_exporter": "python",
   "pygments_lexer": "ipython3",
   "version": "3.8.8"
  },
  "latex_envs": {
   "LaTeX_envs_menu_present": true,
   "autoclose": false,
   "autocomplete": true,
   "bibliofile": "biblio.bib",
   "cite_by": "apalike",
   "current_citInitial": 1,
   "eqLabelWithNumbers": true,
   "eqNumInitial": 1,
   "hotkeys": {
    "equation": "Ctrl-E",
    "itemize": "Ctrl-I"
   },
   "labels_anchors": false,
   "latex_user_defs": false,
   "report_style_numbering": false,
   "user_envs_cfg": false
  },
  "toc": {
   "base_numbering": 1,
   "nav_menu": {},
   "number_sections": true,
   "sideBar": true,
   "skip_h1_title": false,
   "title_cell": "Table of Contents",
   "title_sidebar": "Contents",
   "toc_cell": false,
   "toc_position": {},
   "toc_section_display": true,
   "toc_window_display": false
  }
 },
 "nbformat": 4,
 "nbformat_minor": 4
}
