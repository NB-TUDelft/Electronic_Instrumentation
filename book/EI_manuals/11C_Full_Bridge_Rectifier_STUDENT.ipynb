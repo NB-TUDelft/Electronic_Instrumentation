{
 "cells": [
  {
   "cell_type": "code",
   "execution_count": null,
   "metadata": {},
   "outputs": [],
   "source": [
    "from IPython.core.display import HTML\n",
    "def set_width(width):\n",
    "    display(HTML(f\"\"\"<style>  \n",
    "            .container {{ width:{width}% !important; \n",
    "                            min-width:800px !important; margin: 0 auto}} \n",
    "            .jp-Cell {{ width:{width}% !important; \n",
    "                            min-width:800px !important; margin: 0 auto}} </style>\"\"\"))\n",
    "# Set container width to X% of the fullscreen \n",
    "set_width(50)"
   ]
  },
  {
   "cell_type": "markdown",
   "metadata": {},
   "source": [
     "# 11C Diode Bridge\n",
    "\n",
    "> <font color='blue'>Learning goal:</font> Understand how a rectifier circuit works and what it does for the frequency of the signal\n",
    "\n",
    "Structure of an experiment:\n",
    "- Background+Anticipate+ Simulate:  per person; 45 min.\n",
    "- Implement + Investigate:  with your partner (group of 2); 40 min.\n",
    "- Compare + Conclude:  with a group of 4 (per table); 10 min."
   ]
  },
  {
   "cell_type": "markdown",
   "metadata": {
    "kernel": "SoS"
   },
   "source": [
    "* Extra information or hints is given in boxes denoted by: <font size=4>ℹ️</font>\n",
    "* Help fixing progrems is given in boxed denoted by: <font size=4>🔥</font>\n",
    "\n",
    "\n",
    "Materials used:\n",
    "- Alpaca\n",
    "- 2 LEDs\n",
    "\n",
    "## Background\n",
    "> <font color='grey'>⏳ Estimated time: 5 min</font>\n",
    "\n",
    "Before building a full wave rectifier, you could read the according book section (see BrightSpace). The half-wave rectifier you saw in the previous experiment already makes a DC signal from AC input. But why only use the positive peaks of the input sine wave if you can also use the negative peaks. But then you should first be able to turn the direction of the negative part of the signal, and make an 'absolute value' of the sine wave. This can be done with a diode bridge, which you'll explore in this experiment. \n",
    "\n",
    "\n",
    "\n"
   ]
  },
  {
   "cell_type": "markdown",
   "metadata": {},
   "source": [
    "## Anticipate: diode bridge\n",
    "\n",
    "> <font color='grey'>⏳ Estimated time: 30 min</font>\n",
    "\n",
    "A diagram of the **full bridge rectifier** is given below.\n",
    "\n",
    "<div>\n",
    "<img src=\"https://gitlab.tudelft.nl/mwdocter/nb2214-images/-/raw/a894a02ef157ca15d3d118eb243245eb912ba4f0/PicoPI/picopi6_1_bridge_circ1.jpg\" width=500/>\n",
    "</div>\n",
    "\n",
    "Before you implement it, first think about how the circuit shall respond to an alternating voltage source (Exercise A,B,C). The considered voltage source is a sine wave, with 0 V DC offset. This means the voltage becomes both positive and negative"
   ]
  },
  {
   "cell_type": "markdown",
   "metadata": {
    "kernel": "SoS"
   },
   "source": [
    "###  A. direction of positive signal\n",
    "A sine wave is applied at the input of the circuit above (*DAC*). Consider the half of the sine wave when the voltage is **positive**. What is the path via which the current will flow? Note in order which components of the circuit the current passes through.\n",
    "\n",
    "For example: '*DAC --> Node a --> D1 --> etc.*'"
   ]
  },
  {
   "cell_type": "code",
   "execution_count": null,
   "metadata": {
    "kernel": "SoS"
   },
   "outputs": [],
   "source": [
    "### TO DO=\"# write your answere here, describing the path by which the current flows\"\n",
    "\n"
   ]
  },
  {
   "cell_type": "markdown",
   "metadata": {
    "kernel": "SoS"
   },
   "source": [
    "### B.  direction of negative signal\n",
    "**A)** Consider the half of the sine wave when the voltage is **negative**. What is the path via which the current will flow? Note in order which components of the circuit the current passes through. \n",
    "\n",
    "**B)** Do the paths differ between the scenario in Exercise 1 and 2?"
   ]
  },
  {
   "cell_type": "code",
   "execution_count": null,
   "metadata": {
    "kernel": "SoS"
   },
   "outputs": [],
   "source": [
    "### TO DO=\"# write your answer here, describing the path by which the negative current flows\"\n",
    "\n"
   ]
  },
  {
   "cell_type": "markdown",
   "metadata": {
    "kernel": "SoS"
   },
   "source": [
    "### C. load= 2 LEDs\n",
    "\n",
    "**A)** Use the answers above to explain what the output over the *Load* is when an AC sine wave is applied to the input of the circuit above. Illustrate your answer using a sketch.\n",
    "\n",
    "**B)** If you were to replace the resistor at the load with two LEDs, as in the schematic below, what would their blinking pattern be if a sine wave is applied to the input of the circuit. Explain using your answer from A.\n",
    "\n",
    "**C)** Discuss the purpose of this circuit.\n",
    "\n",
    "\n",
    "<img src=\"https://gitlab.tudelft.nl/mwdocter/nb2214-images/-/raw/a894a02ef157ca15d3d118eb243245eb912ba4f0/PicoPI/picopi6_3_bridge_circ3.jpg\" width=500/>\n",
    "\n",
    "\n"
   ]
  },
  {
   "cell_type": "code",
   "execution_count": null,
   "metadata": {
    "kernel": "SoS"
   },
   "outputs": [],
   "source": [
    "from ipywidgets import FileUpload\n",
    "from IPython.display import Image\n",
    "import os\n",
    "upload=FileUpload()\n",
    "upload"
   ]
  },
  {
   "cell_type": "code",
   "execution_count": null,
   "metadata": {
    "kernel": "SoS"
   },
   "outputs": [],
   "source": [
    "import os\n",
    "file_name=\"11C_1_sine_diode_bridge.jpg\"\n",
    "if upload.value!={}:\n",
    "    with open(file_name,\"wb\") as f:\n",
    "        f.write(upload.data[-1])\n",
    "Image(filename=file_name, width=\"50%\")"
   ]
  },
  {
   "cell_type": "markdown",
   "metadata": {},
   "source": [
    "> <font size=6>ℹ️</font>\n",
    ">\n",
    "> <font color='00a6ed'> For uploading images, you should switch the kernel of the Jupyter Notebook to Python.\n",
    "> You can do so via the menu at the top: `Kernel` > `Change Kernel` > `Python 3`\n",
    ">\n",
    "> <font>   "
   ]
  },
  {
   "cell_type": "code",
   "execution_count": null,
   "metadata": {
    "kernel": "SoS"
   },
   "outputs": [],
   "source": [
    "### TO DO=\"# write your answer here, describing the voltage over the LEDs and the blinking (pattern) within a period\"\n"
   ]
  },
  {
   "cell_type": "markdown",
   "metadata": {
    "kernel": "SoS"
   },
   "source": [
    "> <font size=6>ℹ️</font>\n",
    ">\n",
    "> <font color='00a6ed'> \n",
    "> When answering the last predict questions, you might want to:\n",
    "> \n",
    ">* Consider the sign of the signal at the load\n",
    ">* Consider if the magnitude of the signal at the load is constant or not\n",
    ">\n",
    "> <font>   "
   ]
  },
  {
   "cell_type": "markdown",
   "metadata": {},
   "source": [
    "## Simulate: diode bridge\n",
    "* Build the circuit below in LTSpice and simulate the output voltage, Vout1.\n",
    "\n",
    "<img src=\"https://gitlab.tudelft.nl/mwdocter/nb2214-images/-/raw/main/LTS/LST5e_rect1b.jpg\" width=50%></img>\n",
    "Note:\n",
    "* the voltage source is free-floating (you may verify why it is free-floating through simulation).\n",
    "* Instead of Vin you want to plot the difference between the voltages at both sides of the voltage source (it is free-floating). Add labels to the nodes for your convenience. \n",
    "* the wires to the left of D2 and D3 are crossing over, without making a connection (therefore the connecting dot is not there)\n"
   ]
  },
  {
   "cell_type": "code",
   "execution_count": null,
   "metadata": {},
   "outputs": [],
   "source": [
    "### TO DO=\"your predictions, including what are the max and min values of Vout\"\n",
    "\n"
   ]
  },
  {
   "cell_type": "code",
   "execution_count": null,
   "metadata": {},
   "outputs": [],
   "source": [
    "upload"
   ]
  },
  {
   "cell_type": "code",
   "execution_count": null,
   "metadata": {},
   "outputs": [],
   "source": [
    "import os\n",
    "file_name=\"11C_third_sim_diode_rectifier.jpg\"\n",
    "if upload.value!={}:\n",
    "    with open(file_name,\"wb\") as f:\n",
    "        try: f.write(upload.data[-1]) # python 3.7 Kernel code, not working on Vocareum\n",
    "        except: f.write(upload.value[-1][\"content\"])  # python 3.8 Kernel code, not working on Vocareum\n",
    "Image(filename=file_name, width=\"50%\")"
   ]
  },
  {
   "cell_type": "markdown",
   "metadata": {},
   "source": [
    "You might want to watch the following movie, especially if your anticipate and simulations did not match: \n",
"* https://www.youtube.com/watch?v=57hoH1HsxZA"
   ]
  },
  {
   "cell_type": "markdown",
   "metadata": {
    "kernel": "SoS"
   },
   "source": [
    "## Implement&investigate: build & use the rectifier circuit\n",
    "> <font color='grey'>⏳ Estimated time: 30 min</font>\n",
    "\n",
    "<div>\n",
    "<img src=\"https://gitlab.tudelft.nl/mwdocter/nb2214-images/-/raw/a894a02ef157ca15d3d118eb243245eb912ba4f0/PicoPI/picopi6_2_bridge_circ2.jpg\" width=400/>\n",
    "</div>\n",
    "\n",
    "<font color='ff822d' size=6> 📝 <font> <font color='ff822d' size=4> **Todo**: <font>\n",
    "\n",
    "Next, you will implement the full bridge rectifier on the ALPACA. To build the circuit you will use the four LEDs on the ALPACA Playground as diodes. If you feel confident building the circuit you can try this yourself. You are also free to use the instructions below.\n",
    "\n",
    "    \n",
    "<div>\n",
    "<img src=\"https://gitlab.tudelft.nl/mwdocter/nb2214-images/-/raw/main/PicoPI/picopi5_5_assistant.jpg\" width=\"50%\"/>\n",
    "</div>\n",
    "    \n",
    "For the DAC Assistant    \n",
    "    \n",
    "1. Connect the *OUT* pin (J16) of the *DAC Assistant* (shown above) to the breadboard. Connect it to the vertical, postive, red-labeled lane (+) which is the second rightmost lane on the breadboard (this corresponds to __node a__ in the circuit above).\n",
    "    \n",
    "2. Connect the *GND* pin of the *DAC assistant* (adjacent to the *OUT* pin you connected in the previous step) the vertical, negative, blue-labeled lane (-) which is the rightmost lane on the breadboard  (this corresponds to __node c__ in the figure).\n",
    "\n",
    "For the LEDS:\n",
    "    \n",
    "3. Connect the cathode of *LED-1* to the second rightmost lane/__node a__. So connect *LED1-C* to the positive lane.\n",
    "4. Connect the second rightmost lane/__node a__ to the anode of *LED-2* (pin *LED2-A*).\n",
    "5. Connect the output of *LED-3* to the rightmost lane/__node c__. So connect *LED3-C* to the negative (-) lane.\n",
    "6. Connect the rightmost lane/__node c__ to the input of *LED-4* (pin *LED4-A*).\n",
    "\n",
    "In order to see the output of this circuit we will set up 2 LEDs as the load. So instead of having a load resistor as in the figure above, we will use 2 red LEDs\n",
    "\n",
    "Thus we will use the two remaining vertical lanes (+ and - lanes) on the left side of the breadbord for the load: the positive (+ in red) lane as **node b** and negative (- in blue) lane as **node d**. Using these lanes (left side of the breadboard):\n",
    "    \n",
    "7. Connect the second leftmost lane/__node d__ to the anode of *LED-1* (pin *LED1-A*).\n",
    "8. Connect the second leftmost lane/__node d__ to the input of *LED-3* (pin *LED3-A*).\n",
    "9. Connect the cathode of *LED-2* (pin *LED2-C*) to the leftmost lane/__node b__.\n",
    "10. Connect the cathode of *LED-4* (pin *LED4-C*) to the leftmost lane/__node b__.\n",
    "11. Connect the leftmost lane of the breadboard to the *Voltmeter*\n",
    "\n",
    "12. Connect the load LEDs as shown in the schematic below. For this, place one led with the long leg in the second leftmost lane/__node d__ and the short leg in leftmost lane/__node b__. Place the other LED the other way around. You can use the LEDs you got together with the resistors for this.\n",
    "\n",
    "<img src=\"https://gitlab.tudelft.nl/mwdocter/nb2214-images/-/raw/a894a02ef157ca15d3d118eb243245eb912ba4f0/PicoPI/picopi6_3_bridge_circ3.jpg\" width=500/>\n",
    "\n",
    "13. As last step in building the circuit, connect the _DAC output DAC A_ to the _+IN_ pin of the _DAC assistant_ on the right side of the ALPACA (at J16). \n",
    "\n",
    "> <font size=6>ℹ️</font>\n",
    ">\n",
    "> <font color='00a6ed'> The ALPACA manual states that the DAC assistant converts an input from 0 to 4.096 V, to an output voltage range of -10.24 to +10.24 V\n",
    ">\n",
    "> <font>\n",
    "    \n",
    "> <font size=6>ℹ️</font>\n",
    ">\n",
    "> <font color='00a6ed'> It is best to connect the DAC signal as final step, to make sure no signal is present when you are building the circuit.\n",
    ">\n",
    "> <font>   \n",
    "\n",
    "<details>\n",
    "  <summary>Correct fritzing </summary>\n",
    "This is how your wiring should look:\n",
    "    \n",
    "<img src=\"https://gitlab.tudelft.nl/mwdocter/nb2214-images/-/raw/a894a02ef157ca15d3d118eb243245eb912ba4f0/PicoPI/picopi6_4_picopi6_bb.jpg\" width=500/>\n",
    "</details>\n"
   ]
  },
  {
   "cell_type": "markdown",
   "metadata": {
    "kernel": "SoS"
   },
   "source": [
    "The code for this exercise has already been written and can be found in the cells below. We will apply a 0.5 Hz sine as the input using the DAC.\n",
    "\n",
    "__No__ analog measurements will be performed, because the *DAC Assistant* is used, the signal from the DAC is turned into a sine with an amplitude from +10 V to -10 V. \n",
    "\n",
    "Check whether your answer to ANTICIPATE C. was correct by excecuting the code below."
   ]
  },
  {
   "cell_type": "code",
   "execution_count": null,
   "metadata": {
    "kernel": "MicroPython - USB"
   },
   "outputs": [],
   "source": [
    "%serialconnect to --port=\"COM3\" \n",
    "#ADD COM PORT ABOVE, e.g. --port=\"COM3\"\n",
    "\n",
    "import time\n",
    "from functiongenerator import FuncGen, Sine # type: ignore\n",
    "\n",
    "with FuncGen(Sine(Vpp=4, offset=2, freq=0.5, unsafe=True)):\n",
    "    \n",
    "    time.sleep(10)"
   ]
  },
  {
   "cell_type": "markdown",
   "metadata": {},
   "source": [
    "> <font size=6>🔥</font>  \n",
    ">\n",
    "> <font color='ff6723'>\n",
    ">\n",
    "> If you are not getting any ouput, please verify that:\n",
    "> * Both USB cables are plugged in\n",
    "> * The _+12 V_ and _-12 V_ switches are turned to the on position on the ALPACA. "
   ]
  },
  {
   "cell_type": "markdown",
   "metadata": {},
   "source": [
    "The alpaca doesn't have a floating source(voltage is grounded, unlike the circuit in SIMULATE), so voltometer goes into negatives while you run the code, this is normal."
   ]
  },
  {
   "cell_type": "markdown",
   "metadata": {},
   "source": [
    "How could you improve this circuit to generate DC voltage\n",
    "> <font size=6>ℹ️</font>\n",
    ">\n",
    "> <font color='00a6ed'>\n",
    "> Think back to 11B (the previous diode assignment): What did you do there to create a stable the output voltage?\n",
    ">\n",
    "> <font>  \n"
   ]
  },
  {
   "cell_type": "code",
   "execution_count": null,
   "metadata": {},
   "outputs": [],
   "source": [
    "upload"
   ]
  },
  {
   "cell_type": "code",
   "execution_count": null,
   "metadata": {},
   "outputs": [],
   "source": [
    "\n",
    "file_name=\"11C_2_sketch_improved_circuit_output.jpg\"\n",
    "if upload.value!={}:\n",
    "    with open(file_name,\"wb\") as f:\n",
    "        f.write(upload.data[-1])\n",
    "Image(filename=file_name, width=\"50%\")\n"
   ]
  },
  {
   "cell_type": "markdown",
   "metadata": {},
   "source": [
    "> <font size=6>ℹ️</font>\n",
    ">\n",
    "> <font color='00a6ed'> For uploading images, you should switch the kernel of the Jupyter Notebook to Python.\n",
    "> You can do so via the menu at the top: `Kernel` > `Change Kernel` > `Python 3`\n",
    ">\n",
    "> <font>   "
   ]
  },
  {
   "cell_type": "markdown",
   "metadata": {
    "kernel": "SoS"
   },
   "source": [
    "## Compare & conclude\n",
    "> <font color='grey'>⏳ Estimated time: 5 min</font>\n",
    "\n",
    "* Wait till all (4) group members finish their observation\n",
    "* Compare your results with your other group members. \n",
    "* If your results agree, and are in line with all predictions, then talk to a TA and get checked off\n",
    "* Otherwise, so if your results do not agree, or your results are not in line with your predictions, then first discuss amongst your group before getting a TA. \n",
    "\n",
    "\n",
    "**to be checked off by a TA:**\n",
    "\n",
    "1. Can this circuit now be used as a DC power source? If not, what should be done to make this possible (supply your argumentation with the relevant formula and a sketch of the resulting output)? If so, explain why?\n",
    "\n",
    "2. exit card: 1. Write a brief abstract on what you learned (conclusion, useful graph), 2. Which troubleshooting skills do you want to remember for next sessions, 3. Which code do you copy for use in next sessions,\n",
    "3. How do think this notebook could be improved\n"
   ]
  },
  {
   "cell_type": "code",
   "execution_count": null,
   "metadata": {
    "kernel": "SoS"
   },
   "outputs": [],
   "source": [
    "#11C full bridge rectifier\n",
    "### TO DO=\"# 1.Explain why and how you can use it as DC power source\"\n",
    "\n",
    "### TO DO=\"2a. abstract\"\n",
    "\n",
    "### TO DO=\"2b. troubleshooting\"\n",
    "\n",
    "### TO DO=\"2c. code\"\n",
    "\n",
    "### TO DO=\"3. what changes would you suggest?\"\n"
   ]
  },
  {
   "cell_type": "code",
   "execution_count": null,
   "metadata": {
    "kernel": "MicroPython - USB"
   },
   "outputs": [],
   "source": [
    "%use micropython\n",
    "%rebootdevice"
   ]
  },
  {
   "cell_type": "code",
   "execution_count": null,
   "metadata": {
    "kernel": "MicroPython - USB"
   },
   "outputs": [],
   "source": [
    "%use micropython\n",
    "%disconnect"
   ]
  },
  {
   "cell_type": "markdown",
   "execution_count": null,
   "metadata": {},
   "source": [
    "* Recording: https://www.youtube.com/watch?v=dTXTBHwkaac\n"
   ]
  }
 ],
 "metadata": {
  "jupytext": {
   "formats": "ipynb,md"
  },
  "kernelspec": {
   "display_name": "Alpaca Kernel",
   "language": "python",
   "name": "alpaca"
  },
  "language_info": {
   "codemirror_mode": {
    "name": "ipython",
    "version": 3
   },
   "file_extension": ".py",
   "mimetype": "text/x-python",
   "name": "python",
   "nbconvert_exporter": "python",
   "pygments_lexer": "ipython3",
   "version": "3.10.14"
  },
  "sos": {
   "kernels": [
    [
     "MicroPython - USB",
     "micropython",
     "micropython",
     "",
     "python"
    ],
    [
     "SoS",
     "sos",
     "",
     "",
     "sos"
    ]
   ],
   "panel": {
    "displayed": true,
    "height": 0
   },
   "version": "0.22.3"
  },
  "toc": {
   "base_numbering": 1,
   "nav_menu": {},
   "number_sections": true,
   "sideBar": true,
   "skip_h1_title": false,
   "title_cell": "Table of Contents",
   "title_sidebar": "Contents",
   "toc_cell": false,
   "toc_position": {},
   "toc_section_display": true,
   "toc_window_display": false
  }
 },
 "nbformat": 4,
 "nbformat_minor": 4
}
