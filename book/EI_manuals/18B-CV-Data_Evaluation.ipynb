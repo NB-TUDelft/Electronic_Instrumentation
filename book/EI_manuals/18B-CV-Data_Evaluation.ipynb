{
 "cells": [
  {
   "cell_type": "markdown",
   "id": "95f00dc2-98cc-45bb-af2c-824903d57dd0",
   "metadata": {},
   "source": [
    "<b>For use with: <font color=\"green\" size=\"5\"><b>ipykernel</b></font>\n",
    "<br>\n",
    "Accessibility of this notebook  [Click to expand]\n",
    "\n",
    "    \n",
    ">- Adjust the width of the text with the function provided in the cell below. \n",
    ">- Toggle the auto-numbering of the sections in the outline toolbox (sidebar or topbar).\n",
    ">- Toggle the code line numbers in the dropdown menu of the \"view\" button in the topbar. \n",
    ">- Collapse/expand a cell by clicking the blue bar on the left side of the cell.\n",
    "\n"
   ]
  },
  {
   "cell_type": "code",
   "execution_count": null,
   "id": "010328bf-ef4e-4ede-9951-91c6bd36a45e",
   "metadata": {
    "jupyter": {
     "source_hidden": true
    },
    "tags": []
   },
   "outputs": [],
   "source": [
    "python\n",
    "from IPython.core.display import HTML\n",
    "def set_width(width):\n",
    "    display(HTML(f\"\"\"<style>  \n",
    "            .container {{ width:{width}% !important; \n",
    "                            min-width:800px !important; margin: 0 auto}} \n",
    "            .jp-Cell {{ width:{width}% !important; \n",
    "                            min-width:800px !important; margin: 0 auto}} </style>\"\"\"))\n",
    "# Set container width to X%v of the fullscreen \n",
    "set_width(50)"
   ]
  },
  {
   "cell_type": "markdown",
   "id": "953b229c-ced1-4e02-92fc-0370936291fe",
   "metadata": {},
   "source": [
    "**Voltammetry - Final Project**\n",
    "\n",
    "## Goals - Overview\n",
    "\n",
    "- Week 17: Understand the design limitations and build a simple model of a potentiostat<br>\n",
    "- **Week 18: Build the potentiostat and write code for voltammetric measurements <br>**\n",
    "- Week 19: Run voltammetric measurements with different techniques and samples <br>\n",
    "\n",
    "## Experiments - Week 18</b></font>\n",
    "\n",
    "- 18A: Cyclic Voltammetry - Part 1 - Data Acquisition\n",
    "- **18B: Cyclic Voltammetry - Part 2 - Data Evaluation**\n",
    "- 18o: Optional Voltammetric Techniques\n",
    "\n"
   ]
  },
  {
   "cell_type": "markdown",
   "id": "0633540e-2d89-4bba-b7bb-0059dc4c6636",
   "metadata": {},
   "source": [
    "# 18A - Cyclic Voltammetry - Part 2: Background \n",
    "\n",
    "> **Notebook 18B contains a set of guidelines for evaluating data acquired with the Pico Pi - based Potentiostat and saved as a file on a computer.**\n",
    "\n",
    "## Introduction\n",
    "\n",
    "A restricted implementation of the typical *Python* modules like *numpy* and *matplotlib* in the *Alpaca Kernel (Micropython)* significantly reduce the flexibility and the possibilities offered by these powerful modules forcing us to migrate some tasks to a *Python*-driven notebook (ipykernel) for evaluation of the results from the Potentiostat. Separating data evaluation from the data acquisition environment is nevertheless a common workflow in many commercially available devices, and one of the perhaps unexpected and advantageous outcomes of this approach is that the processed data becomes easily available for sharing.\n",
    "\n",
    "Use this short notebook as an inspiration and an example. The methods chosen for this notebook are not mandatory, and all *Python* tools are allowed.\n",
    "\n",
    "### Goals\n",
    "   \n",
    "   > - Import and extract data saved as a file\n",
    "   > - Plot a voltammogram \n",
    "   > - Prepare a workflow for week 19\n",
    "\n",
    "### Structure\n",
    "\n",
    "   >1. Background <font color='red' size=\"3\"> <b>Preparation</b></font>\n",
    "   >2. Implement: <font color='green' size=\"3\"> <b>Classroom</b></font>, <font color='purple' size=\"3\"> <b>Recommended as Preparation!</b></font>\n",
    "   >3. Conclude and Choose: <font color='green' size=\"3\"> <b>Classroom</b></font>\n",
    "\n",
    "\n",
    "### Requirements\n",
    "\n",
    "   >1. ❗❗❗ = Mandatory\n",
    "   >2. 🏆 = Entirely optional - It is interesting and leads to a deeper understanding. \n",
    "   >3. 🏆🏆 = Optional. Recommended - It can be re-visited later. \n",
    "   >4. 🏆🏆🏆 = Recommended - It is relevant now. \n",
    "   >5. 🏆🏆🏆🐐 = Strongly recommended - It might be challenging, but it is surely worth the effort!\n",
    "   >\n",
    "   > Note: The number of trophies (🏆) indicates the level of recomendation for the optional tasks. It does not correlate with the level of difficulty. "
   ]
  },
  {
   "cell_type": "markdown",
   "id": "4f16c357-345a-4838-ada2-51ab8d3b1de3",
   "metadata": {},
   "source": [
    "## Cyclic Voltammetry - Part 2 - Data Evaluation\n",
    "Similarily to the *Background section of Notebook 18A*, the outline of this chapter reflects a proposed order of tasks for plotting the data recorded with Pico Pi. \n",
    "\n",
    "> **Potentiostat - Data Evaluation**\n",
    "> \n",
    ">1. Initialisation\n",
    ">2. Retrieving\n",
    ">3. Processing\n",
    ">4. Displaying results\n",
    "\n",
    "Mentioned tasks are further explained in the sections below."
   ]
  },
  {
   "cell_type": "markdown",
   "id": "fd017bcf-e27a-4a69-b963-df1068f06f46",
   "metadata": {},
   "source": [
    "### ❗❗❗ Initialisation\n",
    "\n",
    "Importing `numpy` and `matplotlib` is the minimum requirement."
   ]
  },
  {
   "cell_type": "markdown",
   "id": "927e6262-1a81-4de5-929f-d21fe5684e14",
   "metadata": {},
   "source": [
    "### ❗❗❗ Retrieving\n",
    "\n",
    "The method to retrive data depends on the format used.\n",
    "\n",
    "#### ❗❗❗ Retrieving *numpy arrays*\n",
    "\n",
    "```python\n",
    "filename = \"Buffer#1.npy\" \n",
    "DATA=np.load(filename) # Load the content of the file into a single array\n",
    "\n",
    "### Un-pack the individual signals\n",
    "U0 = DATA[0,:] \n",
    "U1 = DATA[1,:]\n",
    "U2 = DATA[2,:]\n",
    "Waveform = DATA[3,:] # Optionally\n",
    "```"
   ]
  },
  {
   "cell_type": "markdown",
   "id": "1043bdad-c734-41b3-a8a7-b75b5445c9d7",
   "metadata": {},
   "source": [
    "#### 🏆 Retrieving *text files*\n",
    "\n",
    "If the Potentiostat configuration was stored in a text file, you might find useful the example in the hint below.\n",
    "\n",
    "<details><summary><b>Hint: Variables from a text file</b></summary>\n",
    "\n",
    ">```python\n",
    ">file_path = 'Buffer#1_parameters.txt'\n",
    "># Read the file\n",
    ">with open(file_path, 'r') as file:\n",
    ">    lines = file.readlines()\n",
    ">    \n",
    "># Further possible steps:\n",
    "># 1. Convert lines into a dictionary\n",
    "># 2. Convert numerical values from string\n",
    "># 3. Looping through the dictionary to re-create variables from the key-value pair\n",
    ">```\n",
    "\n",
    "</details>\n"
   ]
  },
  {
   "cell_type": "markdown",
   "id": "3e2b24b4-7d1a-4ec8-9fff-54fe1ce52b9e",
   "metadata": {},
   "source": [
    "### ❗❗❗ Processing\n",
    "\n",
    "#### 🏆🏆🏆 Pre-processing\n",
    "If you followed the recommendation to refrain from any post-processing of the recorded data directly in Pico and the *Data Acquisition* notebook, the retrieved arrays with the results contain raw `ADC` count values. Possibly, they are summed over a number of instantaneous readings for further averaging. Now is the time to convert these samples to Volt, and to average them if necessary.\n",
    "\n",
    "#### ❗❗❗ Extracting `Ucell` and Computing `Icell`\n",
    "\n",
    "Depending on the design and the choice for the recorded reference signals, you may have to apply formulas derived in the notebooks 17A and/or 17C to extract the cell potential `Ucell` and the cell current `Icell`.\n"
   ]
  },
  {
   "cell_type": "markdown",
   "id": "6409aab2-eed6-4211-95ce-cab538225b7a",
   "metadata": {},
   "source": [
    "### ❗❗❗ Displaying Results\n",
    "\n",
    "#### 🏆🏆🏆 Intermediate plots\n",
    "\n",
    "Feel free to plot or print any intermediate data for your convenience at any point in the notebook.\n",
    "\n",
    "#### ❗❗❗ Plotting a Voltammogram\n",
    "\n",
    "In our experiments, we are expecting currents in the range of up to a few hundreds of \n",
    "$\\mu \\text{A}$, so make sure that your plots are using the relevant scale, and decorate your plot with the essential features and information to make it presentable to a wider audience.\n",
    "\n",
    "#### 🏆🏆 Saving figures to files\n",
    "\n",
    "Save your Voltammogram as a graphics file and insert it into your report"
   ]
  },
  {
   "cell_type": "markdown",
   "id": "c0a1d98c-5bd0-4842-aca3-3469321db301",
   "metadata": {},
   "source": [
    "# ❗❗❗ Implement\n",
    "\n",
    "## ❗❗❗ Implement 1: Plot the Voltammogram of the Buffer solution\n",
    "\n",
    "1. Create a separate Jupyter notebook with *ipykernel* for evaluating your Cyclic Voltammetry experiments.\n",
    "2. Use the *Background* section of this notebook 18B - CV - Data Evaluation as a guide and write code evaluation of the results of the Cyclic Voltammetry acquired with your custom *Data Acquisition* notebook *(See 18A: I1.1)*.\n",
    "3. Evaluate the measurement of the Buffer solution and plot its voltammogram. Make your plot ready for *publishing*."
   ]
  },
  {
   "cell_type": "markdown",
   "id": "9bfd7714-d15c-421d-86ee-e01f8a7db020",
   "metadata": {
    "jp-MarkdownHeadingCollapsed": true
   },
   "source": [
    "## ❗❗❗ Implement 2: Prepare for further experiments\n",
    "\n",
    "1. Come up with a practical workflow for measurements of multiple samples in week 19.\n",
    "   - How will you organise your data? In one folder or in separate folders for each measurement?\n",
    "   - How many notebooks will you need?\n",
    "     - in total\n",
    "     - per substance\n",
    "     - per sample\n",
    "   - What naming convention will you use for your data?\n",
    "   - Will you use real-time timestamps?\n",
    "   - How will you keep track of parameter configuration for each measurement?\n"
   ]
  },
  {
   "cell_type": "markdown",
   "id": "0e2440fe-27e0-48f3-8b7e-17096135848c",
   "metadata": {},
   "source": [
    "# ❗❗❗ Compare and Conclude\n",
    "\n",
    "**To be checked off by a TA:** \n",
    "1. Voltammogram of the Buffer solution\n",
    "2. Discuss your workflow for experiments in week 19."
   ]
  },
  {
   "cell_type": "code",
   "execution_count": null,
   "id": "4563cb23-7bff-4e0c-a506-d1973de9fa10",
   "metadata": {},
   "outputs": [],
   "source": [
    "### Notes"
   ]
  }
 ],
 "metadata": {
  "kernelspec": {
   "display_name": "Python 3",
   "language": "python",
   "name": "python3"
  },
  "language_info": {
   "codemirror_mode": {
    "name": "ipython",
    "version": 3
   },
   "file_extension": ".py",
   "mimetype": "text/x-python",
   "name": "python",
   "nbconvert_exporter": "python",
   "pygments_lexer": "ipython3",
   "version": "3.8.8"
  }
 },
 "nbformat": 4,
 "nbformat_minor": 5
}
