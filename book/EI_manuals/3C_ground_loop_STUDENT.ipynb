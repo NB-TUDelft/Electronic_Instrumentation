{
 "cells": [
  {
   "cell_type": "code",
   "execution_count": null,
   "id": "a47e0656",
   "metadata": {},
   "outputs": [],
   "source": [
    "from IPython.core.display import HTML\n",
    "def set_width(width):\n",
    "    display(HTML(f\"\"\"<style>  \n",
    "            .container {{ width:{width}% !important; \n",
    "                            min-width:800px !important; margin: 0 auto}} \n",
    "            .jp-Cell {{ width:{width}% !important; \n",
    "                            min-width:800px !important; margin: 0 auto}} </style>\"\"\"))\n",
    "# Set container width to X% of the fullscreen \n",
    "set_width(50)"
   ]
  },
  {
   "cell_type": "markdown",
   "id": "c7c85458",
   "metadata": {},
   "source": [
    "# 3C: ground loops\n",
    "> <font color='blue'>Learning goal:</font> recognize when equipment you use is affecting your data aquisition\n",
    "\n",
    "Structure of the experiment:\n",
    "- Anticipate + Stimulate (5+15+10): per person. This is homework and should be finished **before** you start your 4 hours practicum session\n",
    "- Implement + Investigate (40): with your partner (group of 2)\n",
    "- Compare + Conclude (10): with a group of 4 (per table)"
   ]
  },
  {
   "cell_type": "markdown",
   "id": "15ba654b",
   "metadata": {},
   "source": [
    "## BACKGROUND:\n",
    "> <font color='grey'>⏳ Estimated time: 5 min</font>\n",
    "\n",
    "Next to the signal wires, the connections to ground are equally important. <br>\n",
    "Fun fact: At your home residual circuit breakers are measuring the different in current between supply and ground connection. If the difference is too high, there is a leakage, and the circuit breaker switches off in order to prevent an electric shock. \n",
    "\n",
    "You would expect that having many ground connections is a good thing, but it could happen that without any intention, parts of your circuit get connected through ground. So keep an eye on hidden connections, especially through the ground signals in coax cables; you think you connect 1 signal, while in reality you connect 2. \n",
    "\n",
    "In this assignment you will unknowingly, but intentionally, will be exposed to hidden connections. Better be prepared. \n"
   ]
  },
  {
   "cell_type": "markdown",
   "id": "a66a3c8f",
   "metadata": {},
   "source": [
    "## ANTICIPATE: the cause of ground loops\n",
    "> <font color='grey'>⏳ Estimated time: 15 min</font>"
   ]
  },
  {
   "cell_type": "markdown",
   "id": "b4eac756",
   "metadata": {},
   "source": [
    "We will sketch the outcome of a measurement, and it is up to you to explain what is actually happening:\n",
    "* a student builds a voltage divider\n",
    "* the student connects the function generator with a T connector to channel 1 of the scope an Vin of the voltage divider\n",
    "* the student measures Vout with the scope over the top resistor\n",
    "\n",
    "<img src=\"https://gitlab.tudelft.nl/mwdocter/nb2214-images/-/raw/main/ELC/ELC6d%20probe%20over%20R3.jpg\" width=40%></img>\n",
    "\n",
    "* to the student's surprise Vout=Vin (and not Vin/2)\n",
    "* the student double checks the output load settings of the function generator (which are correct ... up to you to decide 50 Ohm or HIGH load)\n",
    "\n",
    "What else could be occurring here?"
   ]
  },
  {
   "cell_type": "code",
   "execution_count": null,
   "id": "58c1e62d",
   "metadata": {},
   "outputs": [],
   "source": [
    "### TO DO=\"with the right output load, what is causing Vout=Vin?\"\n"
   ]
  },
  {
   "cell_type": "markdown",
   "id": "47c5c3cf",
   "metadata": {},
   "source": [
    "## SIMULATE: a circuit that experiences grounding loop\n",
    "> <font color='grey'>⏳ Estimated time: 10 min</font>\n",
    "\n",
    "\n",
    "Reuse the simulation from assignment/ week 1C. Instead of measuring over the bottom resistor you will be measuring over the top resistor. \n",
    "\n",
    "<img src=\"https://gitlab.tudelft.nl/mwdocter/nb2214-images/-/raw/main/LTS/week3C.JPG\" width=40%></img>\n",
    "\n",
    "* within your simulation draw one additional wire, which represents the hidden connection(to the ground).\n",
    "* verify that Vout1a-Vout1b with this extra wire is indeed equal to 1V. \n",
    "\n",
    "\n",
    " "
   ]
  },
  {
   "cell_type": "code",
   "execution_count": null,
   "id": "f9ab7855",
   "metadata": {},
   "outputs": [],
   "source": [
    "from ipywidgets import FileUpload\n",
    "from IPython.display import Image\n",
    "import os\n",
    "upload=FileUpload()\n",
    "upload"
   ]
  },
  {
   "cell_type": "code",
   "execution_count": null,
   "id": "82aa92d8",
   "metadata": {},
   "outputs": [],
   "source": [
    "file_name=\"3C_1_Circuit_sim.jpg\"\n",
    "if upload.value!={}:\n",
    "    with open(file_name,\"wb\") as f:\n",
    "        try: f.write(upload.data[-1]) # python 3.7 Kernel code, not working on Vocareum\n",
    "        except: f.write(upload.value[-1][\"content\"])  # python 3.8 Kernel code, works on Vocareum if you change the kernel\n",
    "\n",
    "Image(filename=file_name, width=\"50%\")"
   ]
  },
  {
   "cell_type": "code",
   "execution_count": null,
   "id": "f27b4bb1",
   "metadata": {},
   "outputs": [],
   "source": []
  },
  {
   "cell_type": "markdown",
   "id": "33685f23",
   "metadata": {},
   "source": [
    "Feel free to watch the precap (quick intro) on the measurements you will be conduct:\n",
    "* https://www.youtube.com/watch?v=jR9gxfYlQ80"
   ]
  },
  {
   "cell_type": "markdown",
   "id": "2a6ccf56",
   "metadata": {},
   "source": [
    "## IMPLEMENT & INVESTIGATE: build the circuit and measure unexpected results yourself\n",
    "> <font color='grey'>⏳ Estimated time: 40 min</font>\n",
    "\n",
    "* Use the same voltage divider as in 3B, with the output of the function generator connected to both the circuit and the scope\n",
    "* Set the generator to a signal you can trust will not be attenuated \n",
    "* Measure the voltage across __R3__ using the probe as indicated in the figure below. \n",
    "\n",
    "Does the amplitude of the signal correspond with your expectation? **Explain** what goes wrong. \n",
    "\n",
    "<img src=\"https://gitlab.tudelft.nl/mwdocter/nb2214-images/-/raw/main/ELC/ELC6d%20probe%20over%20R3.jpg\" width=40%></img>"
   ]
  },
  {
   "cell_type": "code",
   "execution_count": null,
   "id": "daa6b2d3",
   "metadata": {},
   "outputs": [],
   "source": [
    "### TO DO=\"explain what goes wrong with the above measurement?\"\n"
   ]
  },
  {
   "cell_type": "markdown",
   "id": "e6e62c35",
   "metadata": {},
   "source": [
    "Solve the problem observed in the previous exercise by removing the BNC-BNC cable between the function generator and CH1 of the scope and measure the voltage across R3 again."
   ]
  },
  {
   "cell_type": "code",
   "execution_count": null,
   "id": "d5f83404",
   "metadata": {},
   "outputs": [],
   "source": [
    "### TO DO=\"explain why removing the cable helped\"\n"
   ]
  },
  {
   "cell_type": "markdown",
   "id": "cff5985c",
   "metadata": {},
   "source": [
    "Increase the frequency to 100 kHz and measure the voltage across R3 again. Explain whether you are experiencing a ground loop"
   ]
  },
  {
   "cell_type": "code",
   "execution_count": null,
   "id": "36b869fe",
   "metadata": {},
   "outputs": [],
   "source": [
    "### TO DO=\"where does the 'ground loop' at 100 kHz originates from?\"\n"
   ]
  },
  {
   "cell_type": "markdown",
   "id": "c95449ae",
   "metadata": {},
   "source": [
    "<details>\n",
    "<summary><font size=4>ℹ️</font> <b>Hints</b></summary>\n",
    "\n",
    "To understand this frequency dependent behaviour, have a look at the figure on p. 324 of the manual of the function generator (which can be found on Brightspace). The generator circuit is not grounded directly to the chassis ground, but via a 1M resistor in parallel with a 45 nF capacitance. This is done to eliminate measurement errors due to ground loops as is explained in the text on p. 323-324 of the manual. \n",
    " <img src=\"https://gitlab.tudelft.nl/mwdocter/nb2214-images/-/raw/main/ELC/ELC6e%20Agilent%20scope%20manual.jpg\" width=20%></img>\n",
    "</details>\n"
   ]
  },
  {
   "cell_type": "markdown",
   "id": "3a1fe38a",
   "metadata": {},
   "source": [
    "## COMPARE & CONCLUDE\n",
    "> <font color='grey'>⏳ Estimated time: 15 min</font>\n",
    "\n",
    "* Wait till all (4) group members finish their observation\n",
    "* Compare your results with your other group members. \n",
    "* If your results agree, and are in line with all predictions, then talk to a TA and get checked off\n",
    "* Otherwise, so if your results do not agree, or your results are not in line with your predictions, then first discuss amongst your group before getting a TA. \n",
    "\n",
    "\n",
    "**to be checked off by a TA:**\n",
    "1. Explain what ground loops are, and how they influence your measurement\n",
    "2. Explain how you can get a frequency dependent ground loop\n",
    "3. exit card:\n",
    "   1. Write a brief abstract on what you learned (conclusion, useful graph),\n",
    "   2. Which troubleshooting skills do you want to remember for next sessions,\n",
    "   3. Which code do you copy for use in next sessions,\n",
    "4. How do think this notebook could be improved"
   ]
  },
  {
   "cell_type": "code",
   "execution_count": null,
   "id": "175fcefc",
   "metadata": {},
   "outputs": [],
   "source": [
    "#3C ground loop\n",
    "### TO DO =\"1. explain ground loops\"\n",
    "\n",
    "### TO DO=\"2. explain frequency dependent ground loops\"\n",
    "\n",
    "### TO DO=\"3a. abstract\"\n",
    "\n",
    "### TO DO=\"3b. troubleshooting\"\n",
    "\n",
    "### TO DO=\"3c. code\"\n",
    "\n",
    "### TO DO=\"4. what changes would you suggest?\"\n"
   ]
  },
  {
   "cell_type": "markdown",
   "id": "8ad3b8c2",
   "metadata": {},
   "source": [
    "Classroom equipment recording: https://www.youtube.com/watch?v=PBeM-u0vjQY\n"
   ]
  }
 ],
 "metadata": {
  "kernelspec": {
   "display_name": "Python 3 (ipykernel)",
   "language": "python",
   "name": "python3"
  },
  "language_info": {
   "codemirror_mode": {
    "name": "ipython",
    "version": 3
   },
   "file_extension": ".py",
   "mimetype": "text/x-python",
   "name": "python",
   "nbconvert_exporter": "python",
   "pygments_lexer": "ipython3",
   "version": "3.7.12"
  }
 },
 "nbformat": 4,
 "nbformat_minor": 5
}
